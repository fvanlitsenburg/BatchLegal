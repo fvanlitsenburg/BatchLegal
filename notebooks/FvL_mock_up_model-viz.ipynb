{
 "cells": [
  {
   "cell_type": "markdown",
   "id": "c1f2866c",
   "metadata": {},
   "source": [
    "# Load the model (copy-paste from Axel)"
   ]
  },
  {
   "cell_type": "code",
   "execution_count": 48,
   "id": "bc0aea23",
   "metadata": {
    "scrolled": true
   },
   "outputs": [
    {
     "name": "stdout",
     "output_type": "stream",
     "text": [
      "--------------------\n",
      "Topic 0:\n",
      "[('public', 38.3), ('shall', 33.56), ('eec', 29.33), ('article', 21.6), ('state', 20.37), ('decision', 19.31), ('expulsion', 18.26), ('member', 17.71)]\n",
      "--------------------\n",
      "Topic 1:\n",
      "[('member', 68.11), ('state', 67.23), ('residence', 65.39), ('right', 47.09), ('shall', 46.57), ('host', 38.3), ('permanent', 35.2), ('person', 21.47)]\n",
      "--------------------\n",
      "Topic 2:\n",
      "[('member', 76.18), ('union', 73.13), ('state', 71.41), ('family', 48.91), ('article', 48.02), ('residence', 44.09), ('members', 43.46), ('citizens', 43.25)]\n"
     ]
    }
   ],
   "source": [
    "# Batch Legal Mockup Model\n",
    "\n",
    "#Imports\n",
    "\n",
    "import pandas as pd\n",
    "import string\n",
    "from bs4 import BeautifulSoup\n",
    "from nltk.tokenize import word_tokenize, sent_tokenize\n",
    "from nltk.corpus import stopwords \n",
    "from nltk.stem import WordNetLemmatizer\n",
    "\n",
    "from sklearn.feature_extraction.text import CountVectorizer\n",
    "from sklearn.decomposition import LatentDirichletAllocation\n",
    "\n",
    "#Loading html-file + converting it into txt\n",
    "\n",
    "file = open(\"../raw_data/test_data.html\", \"r\")\n",
    "data = BeautifulSoup(file)\n",
    "as_txt = data.get_text()\n",
    "\n",
    "#Tokenizing the sentences\n",
    "\n",
    "as_sentences = sent_tokenize(as_txt)\n",
    "\n",
    "\n",
    "#Transforming sentences into DF\n",
    "\n",
    "txt_df = pd.DataFrame(as_sentences)\n",
    "txt_df.head()\n",
    "\n",
    "type(txt_df)\n",
    "\n",
    "#Defining Davy's Preproc-Function\n",
    "\n",
    "def cleaning(sentence):\n",
    "    \n",
    "    # Basic cleaning\n",
    "    sentence = sentence.strip() ## remove whitespaces\n",
    "    sentence = sentence.lower() ## lowercasing \n",
    "    sentence = ''.join(char for char in sentence if not char.isdigit()) ## removing numbers\n",
    "    \n",
    "    # Advanced cleaning\n",
    "    for punctuation in string.punctuation:\n",
    "        sentence = sentence.replace(punctuation, '') ## removing punctuation\n",
    "    tokenized_sentence = word_tokenize(sentence) ## tokenizing \n",
    "    stop_words = set(stopwords.words('english')) ## defining stopwords\n",
    "    tokenized_sentence_cleaned = [w for w in tokenized_sentence \n",
    "                                  if not w in stop_words] ## remove stopwords\n",
    "    lemmatized = [WordNetLemmatizer().lemmatize(word, pos = \"v\")  # v --> verbs\n",
    "              for word in tokenized_sentence_cleaned]\n",
    "    cleaned_sentence = ' '.join(word for word in lemmatized)\n",
    "    return cleaned_sentence\n",
    "\n",
    "# Applying Davy's Function\n",
    "\n",
    "clean_txt = txt_df[0].apply(cleaning)\n",
    "\n",
    "#Checking outcome of Preprocessing\n",
    "clean_txt\n",
    "\n",
    "#Vectorizing data\n",
    "\n",
    "vectorizer = CountVectorizer()\n",
    "vectorized_text = vectorizer.fit_transform(clean_txt)\n",
    "\n",
    "#Modelling\n",
    "\n",
    "# Instantiating the LDA \n",
    "n_components = 3\n",
    "lda_model = LatentDirichletAllocation(n_components=n_components, max_iter = 100)\n",
    "\n",
    "# Fitting the LDA on the vectorized documents\n",
    "lda_model.fit(vectorized_text)\n",
    "\n",
    "# Getting topics\n",
    "topics = lda_model.transform(vectorized_text)\n",
    "\n",
    "#Topic model function from ML-10-lecture\n",
    "def print_topics(model, vectorizer, top_words):\n",
    "    for idx, topic in enumerate(model.components_):\n",
    "        print(\"-\"*20)\n",
    "        print(\"Topic %d:\" % (idx))\n",
    "        print([(vectorizer.get_feature_names_out()[i], round(topic[i],2))\n",
    "                        for i in topic.argsort()[:-top_words - 1:-1]])\n",
    "\n",
    "#Printing topics\n",
    "\n",
    "print_topics(lda_model, vectorizer, top_words = 8)"
   ]
  },
  {
   "cell_type": "markdown",
   "id": "ca406166",
   "metadata": {},
   "source": [
    "# Visualisation"
   ]
  },
  {
   "cell_type": "markdown",
   "id": "0ac35bb0",
   "metadata": {},
   "source": [
    "## Getting data in right format"
   ]
  },
  {
   "cell_type": "code",
   "execution_count": 51,
   "id": "73fa498b",
   "metadata": {},
   "outputs": [],
   "source": [
    "# adding random dates to clean_txt\n",
    "def random_dates(start, end, n=10):\n",
    "\n",
    "    start_u = start.value//10**9\n",
    "    end_u = end.value//10**9\n",
    "\n",
    "    return pd.to_datetime(np.random.randint(start_u, end_u, n), unit='s')\n",
    "\n",
    "start = pd.to_datetime('2015-01-01')\n",
    "end = pd.to_datetime('2018-01-01')\n",
    "\n",
    "viz_text = pd.DataFrame(clean_txt)\n",
    "viz_text['date'] = random_dates(start, end,len(clean_txt))"
   ]
  },
  {
   "cell_type": "code",
   "execution_count": 132,
   "id": "2b1745c3",
   "metadata": {},
   "outputs": [],
   "source": [
    "# Re-pasting the topics into the data\n",
    "\n",
    "import numpy as np\n",
    "\n",
    "def repaste_topics(topics,df):\n",
    "    ''' Assigns the topics identified by LDA to each separate document. Input requires the df where the topics were sourced from, and the topics generated by LDA.\n",
    "    df and topics must be same length. Returns df with an extra column 'topic'\n",
    "    '''\n",
    "    if len(topics) == len(df): # check if df and topics are same length\n",
    "        assign_dict = {'topic':[]}\n",
    "        for index,row in enumerate(topics):\n",
    "            topic = np.where(row == np.max(row, axis=0))\n",
    "            if len(topic) == 1:\n",
    "                assign = \"Topic \" + str(topic[0][0])\n",
    "            else:\n",
    "                assign = \"Multiple topics\" # sometimes not a single topic can be assigned\n",
    "            assign_dict['topic'].append(assign)\n",
    "        df['topic'] = pd.DataFrame(assign_dict)\n",
    "    else:\n",
    "        print(\"Topics and source dataframe not the same length.\")\n",
    "\n",
    "    return df"
   ]
  },
  {
   "cell_type": "markdown",
   "id": "5fb67f0a",
   "metadata": {},
   "source": [
    "## Visualization functions"
   ]
  },
  {
   "cell_type": "code",
   "execution_count": 131,
   "id": "3735f77c",
   "metadata": {},
   "outputs": [],
   "source": [
    "import datetime\n",
    "import plotly.express as px\n",
    "\n",
    "\n",
    "def stack_chart(df,directory = \"all directories\"):\n",
    "    '''\n",
    "    Based on an input df with fields 'date' (datetime) and 'topic', this function generates a bar chart with the distribution of topics over time.\n",
    "    \n",
    "    For the chart title, specify the directory\n",
    "    '''\n",
    "    \n",
    "    # Convert date-time to years\n",
    "    \n",
    "    df['year'] = df['date'].dt.year.astype(str)\n",
    "    \n",
    "    # Group by year and by topic, drop date\n",
    "    output = viz_text.groupby(['year','topic']).count().reset_index().rename(columns={0:'count'})\n",
    "    output = output.drop('date',axis=1)\n",
    "    \n",
    "    # Sort output\n",
    "    output = output.sort_values(['year','topic'])\n",
    "    \n",
    "    fig = px.bar(output, x=\"year\", y=\"count\", color=\"topic\", title=f\"Bar chart of sub-topics for {directory}\")\n",
    "    fig.show()\n",
    "    "
   ]
  },
  {
   "cell_type": "code",
   "execution_count": 192,
   "id": "6f8fe7b1",
   "metadata": {
    "collapsed": true
   },
   "outputs": [
    {
     "name": "stdout",
     "output_type": "stream",
     "text": [
      "Requirement already satisfied: wordcloud in /home/felix/.pyenv/versions/3.8.13/envs/BatchLegal/lib/python3.8/site-packages (1.8.1)\n",
      "Requirement already satisfied: matplotlib in /home/felix/.pyenv/versions/3.8.13/envs/BatchLegal/lib/python3.8/site-packages (from wordcloud) (3.5.2)\n",
      "Requirement already satisfied: pillow in /home/felix/.pyenv/versions/3.8.13/envs/BatchLegal/lib/python3.8/site-packages (from wordcloud) (9.1.1)\n",
      "Requirement already satisfied: numpy>=1.6.1 in /home/felix/.pyenv/versions/3.8.13/envs/BatchLegal/lib/python3.8/site-packages (from wordcloud) (1.22.4)\n",
      "Requirement already satisfied: pyparsing>=2.2.1 in /home/felix/.pyenv/versions/3.8.13/envs/BatchLegal/lib/python3.8/site-packages (from matplotlib->wordcloud) (3.0.9)\n",
      "Requirement already satisfied: packaging>=20.0 in /home/felix/.pyenv/versions/3.8.13/envs/BatchLegal/lib/python3.8/site-packages (from matplotlib->wordcloud) (21.3)\n",
      "Requirement already satisfied: python-dateutil>=2.7 in /home/felix/.pyenv/versions/3.8.13/envs/BatchLegal/lib/python3.8/site-packages (from matplotlib->wordcloud) (2.8.2)\n",
      "Requirement already satisfied: kiwisolver>=1.0.1 in /home/felix/.pyenv/versions/3.8.13/envs/BatchLegal/lib/python3.8/site-packages (from matplotlib->wordcloud) (1.4.2)\n",
      "Requirement already satisfied: fonttools>=4.22.0 in /home/felix/.pyenv/versions/3.8.13/envs/BatchLegal/lib/python3.8/site-packages (from matplotlib->wordcloud) (4.33.3)\n",
      "Requirement already satisfied: cycler>=0.10 in /home/felix/.pyenv/versions/3.8.13/envs/BatchLegal/lib/python3.8/site-packages (from matplotlib->wordcloud) (0.11.0)\n",
      "Requirement already satisfied: six>=1.5 in /home/felix/.pyenv/versions/3.8.13/envs/BatchLegal/lib/python3.8/site-packages (from python-dateutil>=2.7->matplotlib->wordcloud) (1.16.0)\n"
     ]
    }
   ],
   "source": [
    "!pip install wordcloud\n",
    "import wordcloud\n",
    "def top_topics_words(model, vectorizer, top_words):\n",
    "    '''\n",
    "    Based on a model, vectorizer, and top_words (integer), generate a dictionary of lists.\n",
    "    \n",
    "    Each dictionary key is one of the LDA-identified topics.\n",
    "    \n",
    "    Each dictionary key contains a list of top words\n",
    "    '''\n",
    "    out = {}\n",
    "    for idx, topic in enumerate(model.components_):\n",
    "        tpc = \"Topic \" + str(idx)\n",
    "        out[tpc] = [(vectorizer.get_feature_names_out()[i])\n",
    "                        for i in topic.argsort()[:-top_words - 1:-1]]\n",
    "        #print([(vectorizer.get_feature_names_out()[i])\n",
    "        #                for i in topic.argsort()[:-top_words - 1:-1]])\n",
    "    return out\n",
    "\n",
    "def generate_word_chart(top_words,topic=0):\n",
    "    '''\n",
    "    Supply a top_words dictionary and a topic number, and this will generate a wordcloud for that topic\n",
    "    \n",
    "    '''\n",
    "    \n",
    "    cloud = wordcloud.WordCloud(background_color=\"white\", repeat=False)\n",
    "\n",
    "    topic_in = \"Topic \"+str(topic)\n",
    "    \n",
    "    cloud.generate(text=' '.join(test[topic_in]))\n",
    "    plt.imshow(cloud)\n",
    "    plt.show()"
   ]
  },
  {
   "cell_type": "markdown",
   "id": "326a9b49",
   "metadata": {},
   "source": [
    "## Visualisation carried out"
   ]
  },
  {
   "cell_type": "code",
   "execution_count": 133,
   "id": "c882048f",
   "metadata": {
    "scrolled": true
   },
   "outputs": [
    {
     "data": {
      "application/vnd.plotly.v1+json": {
       "config": {
        "plotlyServerURL": "https://plot.ly"
       },
       "data": [
        {
         "alignmentgroup": "True",
         "hovertemplate": "topic=Topic 0<br>year=%{x}<br>count=%{y}<extra></extra>",
         "legendgroup": "Topic 0",
         "marker": {
          "color": "#636efa",
          "pattern": {
           "shape": ""
          }
         },
         "name": "Topic 0",
         "offsetgroup": "Topic 0",
         "orientation": "v",
         "showlegend": true,
         "textposition": "auto",
         "type": "bar",
         "x": [
          "2015",
          "2016",
          "2017"
         ],
         "xaxis": "x",
         "y": [
          32,
          46,
          30
         ],
         "yaxis": "y"
        },
        {
         "alignmentgroup": "True",
         "hovertemplate": "topic=Topic 1<br>year=%{x}<br>count=%{y}<extra></extra>",
         "legendgroup": "Topic 1",
         "marker": {
          "color": "#EF553B",
          "pattern": {
           "shape": ""
          }
         },
         "name": "Topic 1",
         "offsetgroup": "Topic 1",
         "orientation": "v",
         "showlegend": true,
         "textposition": "auto",
         "type": "bar",
         "x": [
          "2015",
          "2016",
          "2017"
         ],
         "xaxis": "x",
         "y": [
          27,
          22,
          18
         ],
         "yaxis": "y"
        },
        {
         "alignmentgroup": "True",
         "hovertemplate": "topic=Topic 2<br>year=%{x}<br>count=%{y}<extra></extra>",
         "legendgroup": "Topic 2",
         "marker": {
          "color": "#00cc96",
          "pattern": {
           "shape": ""
          }
         },
         "name": "Topic 2",
         "offsetgroup": "Topic 2",
         "orientation": "v",
         "showlegend": true,
         "textposition": "auto",
         "type": "bar",
         "x": [
          "2015",
          "2016",
          "2017"
         ],
         "xaxis": "x",
         "y": [
          21,
          22,
          21
         ],
         "yaxis": "y"
        }
       ],
       "layout": {
        "barmode": "relative",
        "legend": {
         "title": {
          "text": "topic"
         },
         "tracegroupgap": 0
        },
        "template": {
         "data": {
          "bar": [
           {
            "error_x": {
             "color": "#2a3f5f"
            },
            "error_y": {
             "color": "#2a3f5f"
            },
            "marker": {
             "line": {
              "color": "#E5ECF6",
              "width": 0.5
             },
             "pattern": {
              "fillmode": "overlay",
              "size": 10,
              "solidity": 0.2
             }
            },
            "type": "bar"
           }
          ],
          "barpolar": [
           {
            "marker": {
             "line": {
              "color": "#E5ECF6",
              "width": 0.5
             },
             "pattern": {
              "fillmode": "overlay",
              "size": 10,
              "solidity": 0.2
             }
            },
            "type": "barpolar"
           }
          ],
          "carpet": [
           {
            "aaxis": {
             "endlinecolor": "#2a3f5f",
             "gridcolor": "white",
             "linecolor": "white",
             "minorgridcolor": "white",
             "startlinecolor": "#2a3f5f"
            },
            "baxis": {
             "endlinecolor": "#2a3f5f",
             "gridcolor": "white",
             "linecolor": "white",
             "minorgridcolor": "white",
             "startlinecolor": "#2a3f5f"
            },
            "type": "carpet"
           }
          ],
          "choropleth": [
           {
            "colorbar": {
             "outlinewidth": 0,
             "ticks": ""
            },
            "type": "choropleth"
           }
          ],
          "contour": [
           {
            "colorbar": {
             "outlinewidth": 0,
             "ticks": ""
            },
            "colorscale": [
             [
              0,
              "#0d0887"
             ],
             [
              0.1111111111111111,
              "#46039f"
             ],
             [
              0.2222222222222222,
              "#7201a8"
             ],
             [
              0.3333333333333333,
              "#9c179e"
             ],
             [
              0.4444444444444444,
              "#bd3786"
             ],
             [
              0.5555555555555556,
              "#d8576b"
             ],
             [
              0.6666666666666666,
              "#ed7953"
             ],
             [
              0.7777777777777778,
              "#fb9f3a"
             ],
             [
              0.8888888888888888,
              "#fdca26"
             ],
             [
              1,
              "#f0f921"
             ]
            ],
            "type": "contour"
           }
          ],
          "contourcarpet": [
           {
            "colorbar": {
             "outlinewidth": 0,
             "ticks": ""
            },
            "type": "contourcarpet"
           }
          ],
          "heatmap": [
           {
            "colorbar": {
             "outlinewidth": 0,
             "ticks": ""
            },
            "colorscale": [
             [
              0,
              "#0d0887"
             ],
             [
              0.1111111111111111,
              "#46039f"
             ],
             [
              0.2222222222222222,
              "#7201a8"
             ],
             [
              0.3333333333333333,
              "#9c179e"
             ],
             [
              0.4444444444444444,
              "#bd3786"
             ],
             [
              0.5555555555555556,
              "#d8576b"
             ],
             [
              0.6666666666666666,
              "#ed7953"
             ],
             [
              0.7777777777777778,
              "#fb9f3a"
             ],
             [
              0.8888888888888888,
              "#fdca26"
             ],
             [
              1,
              "#f0f921"
             ]
            ],
            "type": "heatmap"
           }
          ],
          "heatmapgl": [
           {
            "colorbar": {
             "outlinewidth": 0,
             "ticks": ""
            },
            "colorscale": [
             [
              0,
              "#0d0887"
             ],
             [
              0.1111111111111111,
              "#46039f"
             ],
             [
              0.2222222222222222,
              "#7201a8"
             ],
             [
              0.3333333333333333,
              "#9c179e"
             ],
             [
              0.4444444444444444,
              "#bd3786"
             ],
             [
              0.5555555555555556,
              "#d8576b"
             ],
             [
              0.6666666666666666,
              "#ed7953"
             ],
             [
              0.7777777777777778,
              "#fb9f3a"
             ],
             [
              0.8888888888888888,
              "#fdca26"
             ],
             [
              1,
              "#f0f921"
             ]
            ],
            "type": "heatmapgl"
           }
          ],
          "histogram": [
           {
            "marker": {
             "pattern": {
              "fillmode": "overlay",
              "size": 10,
              "solidity": 0.2
             }
            },
            "type": "histogram"
           }
          ],
          "histogram2d": [
           {
            "colorbar": {
             "outlinewidth": 0,
             "ticks": ""
            },
            "colorscale": [
             [
              0,
              "#0d0887"
             ],
             [
              0.1111111111111111,
              "#46039f"
             ],
             [
              0.2222222222222222,
              "#7201a8"
             ],
             [
              0.3333333333333333,
              "#9c179e"
             ],
             [
              0.4444444444444444,
              "#bd3786"
             ],
             [
              0.5555555555555556,
              "#d8576b"
             ],
             [
              0.6666666666666666,
              "#ed7953"
             ],
             [
              0.7777777777777778,
              "#fb9f3a"
             ],
             [
              0.8888888888888888,
              "#fdca26"
             ],
             [
              1,
              "#f0f921"
             ]
            ],
            "type": "histogram2d"
           }
          ],
          "histogram2dcontour": [
           {
            "colorbar": {
             "outlinewidth": 0,
             "ticks": ""
            },
            "colorscale": [
             [
              0,
              "#0d0887"
             ],
             [
              0.1111111111111111,
              "#46039f"
             ],
             [
              0.2222222222222222,
              "#7201a8"
             ],
             [
              0.3333333333333333,
              "#9c179e"
             ],
             [
              0.4444444444444444,
              "#bd3786"
             ],
             [
              0.5555555555555556,
              "#d8576b"
             ],
             [
              0.6666666666666666,
              "#ed7953"
             ],
             [
              0.7777777777777778,
              "#fb9f3a"
             ],
             [
              0.8888888888888888,
              "#fdca26"
             ],
             [
              1,
              "#f0f921"
             ]
            ],
            "type": "histogram2dcontour"
           }
          ],
          "mesh3d": [
           {
            "colorbar": {
             "outlinewidth": 0,
             "ticks": ""
            },
            "type": "mesh3d"
           }
          ],
          "parcoords": [
           {
            "line": {
             "colorbar": {
              "outlinewidth": 0,
              "ticks": ""
             }
            },
            "type": "parcoords"
           }
          ],
          "pie": [
           {
            "automargin": true,
            "type": "pie"
           }
          ],
          "scatter": [
           {
            "fillpattern": {
             "fillmode": "overlay",
             "size": 10,
             "solidity": 0.2
            },
            "type": "scatter"
           }
          ],
          "scatter3d": [
           {
            "line": {
             "colorbar": {
              "outlinewidth": 0,
              "ticks": ""
             }
            },
            "marker": {
             "colorbar": {
              "outlinewidth": 0,
              "ticks": ""
             }
            },
            "type": "scatter3d"
           }
          ],
          "scattercarpet": [
           {
            "marker": {
             "colorbar": {
              "outlinewidth": 0,
              "ticks": ""
             }
            },
            "type": "scattercarpet"
           }
          ],
          "scattergeo": [
           {
            "marker": {
             "colorbar": {
              "outlinewidth": 0,
              "ticks": ""
             }
            },
            "type": "scattergeo"
           }
          ],
          "scattergl": [
           {
            "marker": {
             "colorbar": {
              "outlinewidth": 0,
              "ticks": ""
             }
            },
            "type": "scattergl"
           }
          ],
          "scattermapbox": [
           {
            "marker": {
             "colorbar": {
              "outlinewidth": 0,
              "ticks": ""
             }
            },
            "type": "scattermapbox"
           }
          ],
          "scatterpolar": [
           {
            "marker": {
             "colorbar": {
              "outlinewidth": 0,
              "ticks": ""
             }
            },
            "type": "scatterpolar"
           }
          ],
          "scatterpolargl": [
           {
            "marker": {
             "colorbar": {
              "outlinewidth": 0,
              "ticks": ""
             }
            },
            "type": "scatterpolargl"
           }
          ],
          "scatterternary": [
           {
            "marker": {
             "colorbar": {
              "outlinewidth": 0,
              "ticks": ""
             }
            },
            "type": "scatterternary"
           }
          ],
          "surface": [
           {
            "colorbar": {
             "outlinewidth": 0,
             "ticks": ""
            },
            "colorscale": [
             [
              0,
              "#0d0887"
             ],
             [
              0.1111111111111111,
              "#46039f"
             ],
             [
              0.2222222222222222,
              "#7201a8"
             ],
             [
              0.3333333333333333,
              "#9c179e"
             ],
             [
              0.4444444444444444,
              "#bd3786"
             ],
             [
              0.5555555555555556,
              "#d8576b"
             ],
             [
              0.6666666666666666,
              "#ed7953"
             ],
             [
              0.7777777777777778,
              "#fb9f3a"
             ],
             [
              0.8888888888888888,
              "#fdca26"
             ],
             [
              1,
              "#f0f921"
             ]
            ],
            "type": "surface"
           }
          ],
          "table": [
           {
            "cells": {
             "fill": {
              "color": "#EBF0F8"
             },
             "line": {
              "color": "white"
             }
            },
            "header": {
             "fill": {
              "color": "#C8D4E3"
             },
             "line": {
              "color": "white"
             }
            },
            "type": "table"
           }
          ]
         },
         "layout": {
          "annotationdefaults": {
           "arrowcolor": "#2a3f5f",
           "arrowhead": 0,
           "arrowwidth": 1
          },
          "autotypenumbers": "strict",
          "coloraxis": {
           "colorbar": {
            "outlinewidth": 0,
            "ticks": ""
           }
          },
          "colorscale": {
           "diverging": [
            [
             0,
             "#8e0152"
            ],
            [
             0.1,
             "#c51b7d"
            ],
            [
             0.2,
             "#de77ae"
            ],
            [
             0.3,
             "#f1b6da"
            ],
            [
             0.4,
             "#fde0ef"
            ],
            [
             0.5,
             "#f7f7f7"
            ],
            [
             0.6,
             "#e6f5d0"
            ],
            [
             0.7,
             "#b8e186"
            ],
            [
             0.8,
             "#7fbc41"
            ],
            [
             0.9,
             "#4d9221"
            ],
            [
             1,
             "#276419"
            ]
           ],
           "sequential": [
            [
             0,
             "#0d0887"
            ],
            [
             0.1111111111111111,
             "#46039f"
            ],
            [
             0.2222222222222222,
             "#7201a8"
            ],
            [
             0.3333333333333333,
             "#9c179e"
            ],
            [
             0.4444444444444444,
             "#bd3786"
            ],
            [
             0.5555555555555556,
             "#d8576b"
            ],
            [
             0.6666666666666666,
             "#ed7953"
            ],
            [
             0.7777777777777778,
             "#fb9f3a"
            ],
            [
             0.8888888888888888,
             "#fdca26"
            ],
            [
             1,
             "#f0f921"
            ]
           ],
           "sequentialminus": [
            [
             0,
             "#0d0887"
            ],
            [
             0.1111111111111111,
             "#46039f"
            ],
            [
             0.2222222222222222,
             "#7201a8"
            ],
            [
             0.3333333333333333,
             "#9c179e"
            ],
            [
             0.4444444444444444,
             "#bd3786"
            ],
            [
             0.5555555555555556,
             "#d8576b"
            ],
            [
             0.6666666666666666,
             "#ed7953"
            ],
            [
             0.7777777777777778,
             "#fb9f3a"
            ],
            [
             0.8888888888888888,
             "#fdca26"
            ],
            [
             1,
             "#f0f921"
            ]
           ]
          },
          "colorway": [
           "#636efa",
           "#EF553B",
           "#00cc96",
           "#ab63fa",
           "#FFA15A",
           "#19d3f3",
           "#FF6692",
           "#B6E880",
           "#FF97FF",
           "#FECB52"
          ],
          "font": {
           "color": "#2a3f5f"
          },
          "geo": {
           "bgcolor": "white",
           "lakecolor": "white",
           "landcolor": "#E5ECF6",
           "showlakes": true,
           "showland": true,
           "subunitcolor": "white"
          },
          "hoverlabel": {
           "align": "left"
          },
          "hovermode": "closest",
          "mapbox": {
           "style": "light"
          },
          "paper_bgcolor": "white",
          "plot_bgcolor": "#E5ECF6",
          "polar": {
           "angularaxis": {
            "gridcolor": "white",
            "linecolor": "white",
            "ticks": ""
           },
           "bgcolor": "#E5ECF6",
           "radialaxis": {
            "gridcolor": "white",
            "linecolor": "white",
            "ticks": ""
           }
          },
          "scene": {
           "xaxis": {
            "backgroundcolor": "#E5ECF6",
            "gridcolor": "white",
            "gridwidth": 2,
            "linecolor": "white",
            "showbackground": true,
            "ticks": "",
            "zerolinecolor": "white"
           },
           "yaxis": {
            "backgroundcolor": "#E5ECF6",
            "gridcolor": "white",
            "gridwidth": 2,
            "linecolor": "white",
            "showbackground": true,
            "ticks": "",
            "zerolinecolor": "white"
           },
           "zaxis": {
            "backgroundcolor": "#E5ECF6",
            "gridcolor": "white",
            "gridwidth": 2,
            "linecolor": "white",
            "showbackground": true,
            "ticks": "",
            "zerolinecolor": "white"
           }
          },
          "shapedefaults": {
           "line": {
            "color": "#2a3f5f"
           }
          },
          "ternary": {
           "aaxis": {
            "gridcolor": "white",
            "linecolor": "white",
            "ticks": ""
           },
           "baxis": {
            "gridcolor": "white",
            "linecolor": "white",
            "ticks": ""
           },
           "bgcolor": "#E5ECF6",
           "caxis": {
            "gridcolor": "white",
            "linecolor": "white",
            "ticks": ""
           }
          },
          "title": {
           "x": 0.05
          },
          "xaxis": {
           "automargin": true,
           "gridcolor": "white",
           "linecolor": "white",
           "ticks": "",
           "title": {
            "standoff": 15
           },
           "zerolinecolor": "white",
           "zerolinewidth": 2
          },
          "yaxis": {
           "automargin": true,
           "gridcolor": "white",
           "linecolor": "white",
           "ticks": "",
           "title": {
            "standoff": 15
           },
           "zerolinecolor": "white",
           "zerolinewidth": 2
          }
         }
        },
        "title": {
         "text": "Bar chart of sub-topics for all directories"
        },
        "xaxis": {
         "anchor": "y",
         "domain": [
          0,
          1
         ],
         "title": {
          "text": "year"
         }
        },
        "yaxis": {
         "anchor": "x",
         "domain": [
          0,
          1
         ],
         "title": {
          "text": "count"
         }
        }
       }
      },
      "text/html": [
       "<div>                            <div id=\"a067280b-a1ac-43df-8c75-553eb5157782\" class=\"plotly-graph-div\" style=\"height:525px; width:100%;\"></div>            <script type=\"text/javascript\">                require([\"plotly\"], function(Plotly) {                    window.PLOTLYENV=window.PLOTLYENV || {};                                    if (document.getElementById(\"a067280b-a1ac-43df-8c75-553eb5157782\")) {                    Plotly.newPlot(                        \"a067280b-a1ac-43df-8c75-553eb5157782\",                        [{\"alignmentgroup\":\"True\",\"hovertemplate\":\"topic=Topic 0<br>year=%{x}<br>count=%{y}<extra></extra>\",\"legendgroup\":\"Topic 0\",\"marker\":{\"color\":\"#636efa\",\"pattern\":{\"shape\":\"\"}},\"name\":\"Topic 0\",\"offsetgroup\":\"Topic 0\",\"orientation\":\"v\",\"showlegend\":true,\"textposition\":\"auto\",\"x\":[\"2015\",\"2016\",\"2017\"],\"xaxis\":\"x\",\"y\":[32,46,30],\"yaxis\":\"y\",\"type\":\"bar\"},{\"alignmentgroup\":\"True\",\"hovertemplate\":\"topic=Topic 1<br>year=%{x}<br>count=%{y}<extra></extra>\",\"legendgroup\":\"Topic 1\",\"marker\":{\"color\":\"#EF553B\",\"pattern\":{\"shape\":\"\"}},\"name\":\"Topic 1\",\"offsetgroup\":\"Topic 1\",\"orientation\":\"v\",\"showlegend\":true,\"textposition\":\"auto\",\"x\":[\"2015\",\"2016\",\"2017\"],\"xaxis\":\"x\",\"y\":[27,22,18],\"yaxis\":\"y\",\"type\":\"bar\"},{\"alignmentgroup\":\"True\",\"hovertemplate\":\"topic=Topic 2<br>year=%{x}<br>count=%{y}<extra></extra>\",\"legendgroup\":\"Topic 2\",\"marker\":{\"color\":\"#00cc96\",\"pattern\":{\"shape\":\"\"}},\"name\":\"Topic 2\",\"offsetgroup\":\"Topic 2\",\"orientation\":\"v\",\"showlegend\":true,\"textposition\":\"auto\",\"x\":[\"2015\",\"2016\",\"2017\"],\"xaxis\":\"x\",\"y\":[21,22,21],\"yaxis\":\"y\",\"type\":\"bar\"}],                        {\"template\":{\"data\":{\"histogram2dcontour\":[{\"type\":\"histogram2dcontour\",\"colorbar\":{\"outlinewidth\":0,\"ticks\":\"\"},\"colorscale\":[[0.0,\"#0d0887\"],[0.1111111111111111,\"#46039f\"],[0.2222222222222222,\"#7201a8\"],[0.3333333333333333,\"#9c179e\"],[0.4444444444444444,\"#bd3786\"],[0.5555555555555556,\"#d8576b\"],[0.6666666666666666,\"#ed7953\"],[0.7777777777777778,\"#fb9f3a\"],[0.8888888888888888,\"#fdca26\"],[1.0,\"#f0f921\"]]}],\"choropleth\":[{\"type\":\"choropleth\",\"colorbar\":{\"outlinewidth\":0,\"ticks\":\"\"}}],\"histogram2d\":[{\"type\":\"histogram2d\",\"colorbar\":{\"outlinewidth\":0,\"ticks\":\"\"},\"colorscale\":[[0.0,\"#0d0887\"],[0.1111111111111111,\"#46039f\"],[0.2222222222222222,\"#7201a8\"],[0.3333333333333333,\"#9c179e\"],[0.4444444444444444,\"#bd3786\"],[0.5555555555555556,\"#d8576b\"],[0.6666666666666666,\"#ed7953\"],[0.7777777777777778,\"#fb9f3a\"],[0.8888888888888888,\"#fdca26\"],[1.0,\"#f0f921\"]]}],\"heatmap\":[{\"type\":\"heatmap\",\"colorbar\":{\"outlinewidth\":0,\"ticks\":\"\"},\"colorscale\":[[0.0,\"#0d0887\"],[0.1111111111111111,\"#46039f\"],[0.2222222222222222,\"#7201a8\"],[0.3333333333333333,\"#9c179e\"],[0.4444444444444444,\"#bd3786\"],[0.5555555555555556,\"#d8576b\"],[0.6666666666666666,\"#ed7953\"],[0.7777777777777778,\"#fb9f3a\"],[0.8888888888888888,\"#fdca26\"],[1.0,\"#f0f921\"]]}],\"heatmapgl\":[{\"type\":\"heatmapgl\",\"colorbar\":{\"outlinewidth\":0,\"ticks\":\"\"},\"colorscale\":[[0.0,\"#0d0887\"],[0.1111111111111111,\"#46039f\"],[0.2222222222222222,\"#7201a8\"],[0.3333333333333333,\"#9c179e\"],[0.4444444444444444,\"#bd3786\"],[0.5555555555555556,\"#d8576b\"],[0.6666666666666666,\"#ed7953\"],[0.7777777777777778,\"#fb9f3a\"],[0.8888888888888888,\"#fdca26\"],[1.0,\"#f0f921\"]]}],\"contourcarpet\":[{\"type\":\"contourcarpet\",\"colorbar\":{\"outlinewidth\":0,\"ticks\":\"\"}}],\"contour\":[{\"type\":\"contour\",\"colorbar\":{\"outlinewidth\":0,\"ticks\":\"\"},\"colorscale\":[[0.0,\"#0d0887\"],[0.1111111111111111,\"#46039f\"],[0.2222222222222222,\"#7201a8\"],[0.3333333333333333,\"#9c179e\"],[0.4444444444444444,\"#bd3786\"],[0.5555555555555556,\"#d8576b\"],[0.6666666666666666,\"#ed7953\"],[0.7777777777777778,\"#fb9f3a\"],[0.8888888888888888,\"#fdca26\"],[1.0,\"#f0f921\"]]}],\"surface\":[{\"type\":\"surface\",\"colorbar\":{\"outlinewidth\":0,\"ticks\":\"\"},\"colorscale\":[[0.0,\"#0d0887\"],[0.1111111111111111,\"#46039f\"],[0.2222222222222222,\"#7201a8\"],[0.3333333333333333,\"#9c179e\"],[0.4444444444444444,\"#bd3786\"],[0.5555555555555556,\"#d8576b\"],[0.6666666666666666,\"#ed7953\"],[0.7777777777777778,\"#fb9f3a\"],[0.8888888888888888,\"#fdca26\"],[1.0,\"#f0f921\"]]}],\"mesh3d\":[{\"type\":\"mesh3d\",\"colorbar\":{\"outlinewidth\":0,\"ticks\":\"\"}}],\"scatter\":[{\"fillpattern\":{\"fillmode\":\"overlay\",\"size\":10,\"solidity\":0.2},\"type\":\"scatter\"}],\"parcoords\":[{\"type\":\"parcoords\",\"line\":{\"colorbar\":{\"outlinewidth\":0,\"ticks\":\"\"}}}],\"scatterpolargl\":[{\"type\":\"scatterpolargl\",\"marker\":{\"colorbar\":{\"outlinewidth\":0,\"ticks\":\"\"}}}],\"bar\":[{\"error_x\":{\"color\":\"#2a3f5f\"},\"error_y\":{\"color\":\"#2a3f5f\"},\"marker\":{\"line\":{\"color\":\"#E5ECF6\",\"width\":0.5},\"pattern\":{\"fillmode\":\"overlay\",\"size\":10,\"solidity\":0.2}},\"type\":\"bar\"}],\"scattergeo\":[{\"type\":\"scattergeo\",\"marker\":{\"colorbar\":{\"outlinewidth\":0,\"ticks\":\"\"}}}],\"scatterpolar\":[{\"type\":\"scatterpolar\",\"marker\":{\"colorbar\":{\"outlinewidth\":0,\"ticks\":\"\"}}}],\"histogram\":[{\"marker\":{\"pattern\":{\"fillmode\":\"overlay\",\"size\":10,\"solidity\":0.2}},\"type\":\"histogram\"}],\"scattergl\":[{\"type\":\"scattergl\",\"marker\":{\"colorbar\":{\"outlinewidth\":0,\"ticks\":\"\"}}}],\"scatter3d\":[{\"type\":\"scatter3d\",\"line\":{\"colorbar\":{\"outlinewidth\":0,\"ticks\":\"\"}},\"marker\":{\"colorbar\":{\"outlinewidth\":0,\"ticks\":\"\"}}}],\"scattermapbox\":[{\"type\":\"scattermapbox\",\"marker\":{\"colorbar\":{\"outlinewidth\":0,\"ticks\":\"\"}}}],\"scatterternary\":[{\"type\":\"scatterternary\",\"marker\":{\"colorbar\":{\"outlinewidth\":0,\"ticks\":\"\"}}}],\"scattercarpet\":[{\"type\":\"scattercarpet\",\"marker\":{\"colorbar\":{\"outlinewidth\":0,\"ticks\":\"\"}}}],\"carpet\":[{\"aaxis\":{\"endlinecolor\":\"#2a3f5f\",\"gridcolor\":\"white\",\"linecolor\":\"white\",\"minorgridcolor\":\"white\",\"startlinecolor\":\"#2a3f5f\"},\"baxis\":{\"endlinecolor\":\"#2a3f5f\",\"gridcolor\":\"white\",\"linecolor\":\"white\",\"minorgridcolor\":\"white\",\"startlinecolor\":\"#2a3f5f\"},\"type\":\"carpet\"}],\"table\":[{\"cells\":{\"fill\":{\"color\":\"#EBF0F8\"},\"line\":{\"color\":\"white\"}},\"header\":{\"fill\":{\"color\":\"#C8D4E3\"},\"line\":{\"color\":\"white\"}},\"type\":\"table\"}],\"barpolar\":[{\"marker\":{\"line\":{\"color\":\"#E5ECF6\",\"width\":0.5},\"pattern\":{\"fillmode\":\"overlay\",\"size\":10,\"solidity\":0.2}},\"type\":\"barpolar\"}],\"pie\":[{\"automargin\":true,\"type\":\"pie\"}]},\"layout\":{\"autotypenumbers\":\"strict\",\"colorway\":[\"#636efa\",\"#EF553B\",\"#00cc96\",\"#ab63fa\",\"#FFA15A\",\"#19d3f3\",\"#FF6692\",\"#B6E880\",\"#FF97FF\",\"#FECB52\"],\"font\":{\"color\":\"#2a3f5f\"},\"hovermode\":\"closest\",\"hoverlabel\":{\"align\":\"left\"},\"paper_bgcolor\":\"white\",\"plot_bgcolor\":\"#E5ECF6\",\"polar\":{\"bgcolor\":\"#E5ECF6\",\"angularaxis\":{\"gridcolor\":\"white\",\"linecolor\":\"white\",\"ticks\":\"\"},\"radialaxis\":{\"gridcolor\":\"white\",\"linecolor\":\"white\",\"ticks\":\"\"}},\"ternary\":{\"bgcolor\":\"#E5ECF6\",\"aaxis\":{\"gridcolor\":\"white\",\"linecolor\":\"white\",\"ticks\":\"\"},\"baxis\":{\"gridcolor\":\"white\",\"linecolor\":\"white\",\"ticks\":\"\"},\"caxis\":{\"gridcolor\":\"white\",\"linecolor\":\"white\",\"ticks\":\"\"}},\"coloraxis\":{\"colorbar\":{\"outlinewidth\":0,\"ticks\":\"\"}},\"colorscale\":{\"sequential\":[[0.0,\"#0d0887\"],[0.1111111111111111,\"#46039f\"],[0.2222222222222222,\"#7201a8\"],[0.3333333333333333,\"#9c179e\"],[0.4444444444444444,\"#bd3786\"],[0.5555555555555556,\"#d8576b\"],[0.6666666666666666,\"#ed7953\"],[0.7777777777777778,\"#fb9f3a\"],[0.8888888888888888,\"#fdca26\"],[1.0,\"#f0f921\"]],\"sequentialminus\":[[0.0,\"#0d0887\"],[0.1111111111111111,\"#46039f\"],[0.2222222222222222,\"#7201a8\"],[0.3333333333333333,\"#9c179e\"],[0.4444444444444444,\"#bd3786\"],[0.5555555555555556,\"#d8576b\"],[0.6666666666666666,\"#ed7953\"],[0.7777777777777778,\"#fb9f3a\"],[0.8888888888888888,\"#fdca26\"],[1.0,\"#f0f921\"]],\"diverging\":[[0,\"#8e0152\"],[0.1,\"#c51b7d\"],[0.2,\"#de77ae\"],[0.3,\"#f1b6da\"],[0.4,\"#fde0ef\"],[0.5,\"#f7f7f7\"],[0.6,\"#e6f5d0\"],[0.7,\"#b8e186\"],[0.8,\"#7fbc41\"],[0.9,\"#4d9221\"],[1,\"#276419\"]]},\"xaxis\":{\"gridcolor\":\"white\",\"linecolor\":\"white\",\"ticks\":\"\",\"title\":{\"standoff\":15},\"zerolinecolor\":\"white\",\"automargin\":true,\"zerolinewidth\":2},\"yaxis\":{\"gridcolor\":\"white\",\"linecolor\":\"white\",\"ticks\":\"\",\"title\":{\"standoff\":15},\"zerolinecolor\":\"white\",\"automargin\":true,\"zerolinewidth\":2},\"scene\":{\"xaxis\":{\"backgroundcolor\":\"#E5ECF6\",\"gridcolor\":\"white\",\"linecolor\":\"white\",\"showbackground\":true,\"ticks\":\"\",\"zerolinecolor\":\"white\",\"gridwidth\":2},\"yaxis\":{\"backgroundcolor\":\"#E5ECF6\",\"gridcolor\":\"white\",\"linecolor\":\"white\",\"showbackground\":true,\"ticks\":\"\",\"zerolinecolor\":\"white\",\"gridwidth\":2},\"zaxis\":{\"backgroundcolor\":\"#E5ECF6\",\"gridcolor\":\"white\",\"linecolor\":\"white\",\"showbackground\":true,\"ticks\":\"\",\"zerolinecolor\":\"white\",\"gridwidth\":2}},\"shapedefaults\":{\"line\":{\"color\":\"#2a3f5f\"}},\"annotationdefaults\":{\"arrowcolor\":\"#2a3f5f\",\"arrowhead\":0,\"arrowwidth\":1},\"geo\":{\"bgcolor\":\"white\",\"landcolor\":\"#E5ECF6\",\"subunitcolor\":\"white\",\"showland\":true,\"showlakes\":true,\"lakecolor\":\"white\"},\"title\":{\"x\":0.05},\"mapbox\":{\"style\":\"light\"}}},\"xaxis\":{\"anchor\":\"y\",\"domain\":[0.0,1.0],\"title\":{\"text\":\"year\"}},\"yaxis\":{\"anchor\":\"x\",\"domain\":[0.0,1.0],\"title\":{\"text\":\"count\"}},\"legend\":{\"title\":{\"text\":\"topic\"},\"tracegroupgap\":0},\"title\":{\"text\":\"Bar chart of sub-topics for all directories\"},\"barmode\":\"relative\"},                        {\"responsive\": true}                    ).then(function(){\n",
       "                            \n",
       "var gd = document.getElementById('a067280b-a1ac-43df-8c75-553eb5157782');\n",
       "var x = new MutationObserver(function (mutations, observer) {{\n",
       "        var display = window.getComputedStyle(gd).display;\n",
       "        if (!display || display === 'none') {{\n",
       "            console.log([gd, 'removed!']);\n",
       "            Plotly.purge(gd);\n",
       "            observer.disconnect();\n",
       "        }}\n",
       "}});\n",
       "\n",
       "// Listen for the removal of the full notebook cells\n",
       "var notebookContainer = gd.closest('#notebook-container');\n",
       "if (notebookContainer) {{\n",
       "    x.observe(notebookContainer, {childList: true});\n",
       "}}\n",
       "\n",
       "// Listen for the clearing of the current output cell\n",
       "var outputEl = gd.closest('.output');\n",
       "if (outputEl) {{\n",
       "    x.observe(outputEl, {childList: true});\n",
       "}}\n",
       "\n",
       "                        })                };                });            </script>        </div>"
      ]
     },
     "metadata": {},
     "output_type": "display_data"
    }
   ],
   "source": [
    "stack_chart(repaste_topics(topics,viz_text))"
   ]
  },
  {
   "cell_type": "code",
   "execution_count": 194,
   "id": "8e18f944",
   "metadata": {},
   "outputs": [
    {
     "name": "stderr",
     "output_type": "stream",
     "text": [
      "/home/felix/.pyenv/versions/3.8.13/envs/BatchLegal/lib/python3.8/site-packages/wordcloud/wordcloud.py:512: DeprecationWarning:\n",
      "\n",
      "ROTATE_90 is deprecated and will be removed in Pillow 10 (2023-07-01). Use Transpose.ROTATE_90 instead.\n",
      "\n",
      "/home/felix/.pyenv/versions/3.8.13/envs/BatchLegal/lib/python3.8/site-packages/wordcloud/wordcloud.py:512: DeprecationWarning:\n",
      "\n",
      "ROTATE_90 is deprecated and will be removed in Pillow 10 (2023-07-01). Use Transpose.ROTATE_90 instead.\n",
      "\n",
      "/home/felix/.pyenv/versions/3.8.13/envs/BatchLegal/lib/python3.8/site-packages/wordcloud/wordcloud.py:512: DeprecationWarning:\n",
      "\n",
      "ROTATE_90 is deprecated and will be removed in Pillow 10 (2023-07-01). Use Transpose.ROTATE_90 instead.\n",
      "\n",
      "/home/felix/.pyenv/versions/3.8.13/envs/BatchLegal/lib/python3.8/site-packages/wordcloud/wordcloud.py:512: DeprecationWarning:\n",
      "\n",
      "ROTATE_90 is deprecated and will be removed in Pillow 10 (2023-07-01). Use Transpose.ROTATE_90 instead.\n",
      "\n",
      "/home/felix/.pyenv/versions/3.8.13/envs/BatchLegal/lib/python3.8/site-packages/wordcloud/wordcloud.py:492: DeprecationWarning:\n",
      "\n",
      "ROTATE_90 is deprecated and will be removed in Pillow 10 (2023-07-01). Use Transpose.ROTATE_90 instead.\n",
      "\n",
      "/home/felix/.pyenv/versions/3.8.13/envs/BatchLegal/lib/python3.8/site-packages/wordcloud/wordcloud.py:512: DeprecationWarning:\n",
      "\n",
      "ROTATE_90 is deprecated and will be removed in Pillow 10 (2023-07-01). Use Transpose.ROTATE_90 instead.\n",
      "\n"
     ]
    },
    {
     "data": {
      "image/png": "[encoded data removed]",
      "text/plain": [
       "<Figure size 432x288 with 1 Axes>"
      ]
     },
     "metadata": {
      "needs_background": "light"
     },
     "output_type": "display_data"
    }
   ],
   "source": [
    "generate_word_chart(top_topics_words(lda_model,vectorizer,12),2)"
   ]
  },
  {
   "cell_type": "code",
   "execution_count": null,
   "id": "22e2f1c9",
   "metadata": {},
   "outputs": [],
   "source": [
    "!pip install pyLDAvis\n",
    "import pyLDAvis.sklearn"
   ]
  },
  {
   "cell_type": "code",
   "execution_count": 5,
   "id": "7144348c",
   "metadata": {},
   "outputs": [
    {
     "name": "stderr",
     "output_type": "stream",
     "text": [
      "/home/felix/.pyenv/versions/3.8.13/envs/BatchLegal/lib/python3.8/site-packages/sklearn/utils/deprecation.py:87: FutureWarning: Function get_feature_names is deprecated; get_feature_names is deprecated in 1.0 and will be removed in 1.2. Please use get_feature_names_out instead.\n",
      "  warnings.warn(msg, category=FutureWarning)\n",
      "/home/felix/.pyenv/versions/3.8.13/envs/BatchLegal/lib/python3.8/site-packages/pyLDAvis/_prepare.py:246: FutureWarning: In a future version of pandas all arguments of DataFrame.drop except for the argument 'labels' will be keyword-only.\n",
      "  default_term_info = default_term_info.sort_values(\n"
     ]
    },
    {
     "data": {
      "text/html": [
       "\n",
       "<link rel=\"stylesheet\" type=\"text/css\" href=\"https://cdn.jsdelivr.net/gh/bmabey/pyLDAvis@3.3.1/pyLDAvis/js/ldavis.v1.0.0.css\">\n",
       "\n",
       "\n",
       "<div id=\"ldavis_el32061406472275186404827008046\"></div>\n",
       "<script type=\"text/javascript\">\n",
       "\n",
       "var ldavis_el32061406472275186404827008046_data = {\"mdsDat\": {\"x\": [0.008143142556609573, 0.10909039054028527, -0.11723353309689485], \"y\": [0.14141020446187386, -0.07074932659390698, -0.07066087786796686], \"topics\": [1, 2, 3], \"cluster\": [1, 1, 1], \"Freq\": [57.02777366604308, 32.392596721628706, 10.57962961232821]}, \"tinfo\": {\"Term\": [\"shall\", \"directive\", \"provision\", \"public\", \"may\", \"decision\", \"expulsion\", \"residence\", \"ground\", \"permanent\", \"necessary\", \"require\", \"member\", \"state\", \"national\", \"registration\", \"order\", \"visa\", \"security\", \"concern\", \"eec\", \"certificate\", \"document\", \"policy\", \"right\", \"personal\", \"entry\", \"issue\", \"take\", \"adopt\", \"permanent\", \"eec\", \"selfemployed\", \"work\", \"employment\", \"refer\", \"without\", \"workers\", \"worker\", \"nationality\", \"prejudice\", \"acquire\", \"assistance\", \"longer\", \"resources\", \"become\", \"five\", \"death\", \"another\", \"satisfy\", \"sufficient\", \"ec\", \"less\", \"months\", \"study\", \"six\", \"train\", \"purpose\", \"year\", \"retain\", \"residence\", \"members\", \"right\", \"citizens\", \"family\", \"host\", \"state\", \"member\", \"reside\", \"period\", \"condition\", \"nationals\", \"union\", \"passport\", \"shall\", \"card\", \"years\", \"persons\", \"article\", \"valid\", \"territory\", \"provide\", \"citizen\", \"person\", \"decision\", \"expulsion\", \"registration\", \"order\", \"certificate\", \"proof\", \"partnership\", \"fall\", \"sanction\", \"ground\", \"existence\", \"base\", \"failure\", \"proportionate\", \"previous\", \"attest\", \"judicial\", \"appeal\", \"nondiscriminatory\", \"relationship\", \"except\", \"policy\", \"origin\", \"review\", \"exclusion\", \"carry\", \"liable\", \"dependants\", \"access\", \"court\", \"public\", \"may\", \"security\", \"take\", \"partner\", \"health\", \"register\", \"concern\", \"require\", \"article\", \"case\", \"hisher\", \"comply\", \"person\", \"member\", \"state\", \"issue\", \"shall\", \"union\", \"citizen\", \"card\", \"host\", \"residence\", \"family\", \"territory\", \"visa\", \"diseases\", \"reference\", \"charge\", \"commission\", \"force\", \"possible\", \"laws\", \"every\", \"necessary\", \"favourable\", \"regulations\", \"publication\", \"matter\", \"routine\", \"bring\", \"obtain\", \"soon\", \"medical\", \"together\", \"opportunity\", \"act\", \"protection\", \"communicate\", \"correspond\", \"field\", \"table\", \"contagious\", \"epidemic\", \"infectious\", \"directive\", \"provision\", \"adopt\", \"report\", \"official\", \"examination\", \"justify\", \"make\", \"free\", \"shall\", \"national\", \"personal\", \"member\", \"entry\", \"state\", \"require\", \"document\", \"impose\", \"issue\", \"european\", \"may\", \"persons\", \"article\"], \"Freq\": [98.0, 16.0, 16.0, 33.0, 35.0, 16.0, 16.0, 100.0, 16.0, 32.0, 7.0, 13.0, 139.0, 137.0, 13.0, 12.0, 12.0, 5.0, 16.0, 31.0, 26.0, 10.0, 18.0, 12.0, 69.0, 7.0, 10.0, 23.0, 13.0, 5.0, 32.417348909826, 26.203731998165942, 18.161360258351507, 12.80385627789122, 12.797018516096582, 13.611649865690081, 11.859543169288681, 9.227945682029521, 9.22732036329647, 10.052566947134327, 9.177549535957104, 8.337160684138375, 7.4408564400152, 7.437106828240782, 7.424234999771321, 6.550718361268342, 6.550454402446041, 6.546599287297078, 6.545541481658968, 6.537458511472154, 6.5319076818748165, 6.521953356271014, 6.4929960557756425, 18.753833248234496, 5.657420824342505, 5.654292181430164, 5.651598366685839, 6.448968364668499, 5.636269006018825, 5.6290881983275325, 88.6804500909665, 48.07240828603946, 60.723154253835524, 33.25527992573385, 48.614613604943465, 44.96174725913465, 99.93668440557067, 101.57664624783934, 13.702236100372414, 16.372565504100923, 17.592011514558234, 19.191400974625353, 47.45414977286452, 13.231475694358913, 61.641950744977066, 23.61755875754034, 13.370784945049566, 19.567018168732787, 38.35241886801345, 11.520813464254099, 16.166011974940947, 15.041491516780715, 15.859245431851697, 13.603348089636897, 16.33409816114999, 15.486167969365214, 12.106832002801694, 12.102297488205053, 10.402052685950848, 8.696614037406889, 7.878081492955782, 6.198940221527738, 6.946210722210344, 15.419767495917585, 5.354968348923588, 5.354749498722886, 5.35413537194692, 5.353863908915949, 5.345837838751563, 5.328495501877144, 4.50935424490994, 4.5092781712292735, 4.508520244912621, 4.507211140453084, 4.5064324183496085, 11.165341625841265, 3.663865152441894, 3.663808901824171, 3.6634651339110023, 3.663229707883068, 3.6628522884744927, 3.6610631547730783, 3.6556772400536786, 3.6509082698745923, 29.368255317387693, 29.85320501442687, 13.662356729411346, 11.209531614239065, 8.439967770914599, 9.455982144616595, 11.1159928957511, 20.449604574561647, 9.799936469943473, 31.769784671973564, 9.432120285445059, 9.052047462446543, 5.356689366068049, 12.207983546872278, 28.79230778772851, 28.09140558181104, 10.886950624703108, 20.928178991135137, 16.659539512697076, 10.894013813243202, 10.333208978607896, 10.945780088823222, 11.302520099090192, 10.33785328289364, 8.928720171414266, 4.925611466270266, 3.55824598646069, 2.914411807983304, 2.9129130963175114, 2.911419855389045, 2.2418477522069167, 2.2403104443699045, 2.2363987435824275, 2.2216010126121972, 5.410026339841866, 1.5693012707102176, 1.5692857269680311, 1.5692680655656241, 1.5691548605740446, 1.5691548605740446, 1.567478038252478, 1.5674605703697908, 1.5668763205775031, 1.5659702531102393, 1.5637321704659815, 1.5615664232823259, 1.5604878316481192, 1.5562834438647257, 0.8967269711578782, 0.8967269711578782, 0.8967269711578782, 0.8967269711578782, 0.896726794971361, 0.896726794971361, 0.896726794971361, 9.348018999650149, 8.294683898079143, 3.096264029112102, 2.242744371397514, 2.244305470151342, 1.5826430118356631, 1.572701291884718, 2.9659282379169642, 2.8484391086443908, 15.634503997643975, 3.9578020656533783, 2.899131571641379, 9.57829989386986, 3.0887113589323123, 9.35281566406421, 3.3727743189005537, 3.4567520632585853, 2.254648908527205, 3.0757215969954435, 2.0518138300391775, 3.4100894080803434, 3.001015906847592, 3.695158646588609], \"Total\": [98.0, 16.0, 16.0, 33.0, 35.0, 16.0, 16.0, 100.0, 16.0, 32.0, 7.0, 13.0, 139.0, 137.0, 13.0, 12.0, 12.0, 5.0, 16.0, 31.0, 26.0, 10.0, 18.0, 12.0, 69.0, 7.0, 10.0, 23.0, 13.0, 5.0, 32.95933945867372, 26.710063902205526, 18.670051077147992, 13.310232994327395, 13.309853666609177, 14.19509528562839, 12.41214569370039, 9.736822971716407, 9.73677004816381, 10.62482948666342, 9.734091870269006, 8.843613696758077, 7.950144400714747, 7.949929745320588, 7.94910869656843, 7.057008042041272, 7.056957342653295, 7.056760322002386, 7.05671955120046, 7.05628358255983, 7.055860111205317, 7.049902831029842, 7.053756500332559, 20.39059129953195, 6.163688972682149, 6.163465803648711, 6.163337362246538, 7.0329888573191415, 6.162556814832268, 6.156728319195691, 100.22658113107492, 54.089663454709665, 69.1387719261237, 38.91991713204331, 59.190233313477485, 57.06679859154351, 137.38090565144591, 139.9472539294377, 15.893150357809523, 19.41062839097869, 21.172171469517448, 23.363129685400068, 66.2498098742871, 15.868536715146416, 98.20463373375618, 34.180222985351946, 16.722274994114272, 28.177647732411614, 73.81736218657562, 14.086448192999242, 25.32584328977088, 22.7143811229086, 26.997201539066477, 26.035957378136704, 16.86955844162025, 16.023192801350046, 12.641919437414275, 12.64214012950487, 10.951621468438761, 9.261364751753888, 8.414344858278476, 6.72262528867503, 7.547772721847501, 16.92110414128138, 5.877006084074776, 5.876968492945936, 5.876968412512075, 5.876924955239132, 5.8774355088016685, 5.878403992837588, 5.031458437803171, 5.031447831845108, 5.03143985780689, 5.031593317073793, 5.031611562709603, 12.6951162716477, 4.185933634619421, 4.1859227456061925, 4.1858757279535705, 4.185835091928396, 4.185912765939733, 4.186089494844513, 4.186387814630184, 4.186656625394392, 33.99935977287558, 35.606418631706546, 16.127252784756333, 13.58195352335905, 10.16917617555719, 11.678074028632317, 14.484538541453762, 31.474743553451965, 13.525668666584837, 73.81736218657562, 14.356102428407132, 14.601143525170041, 6.550082999930602, 26.035957378136704, 139.9472539294377, 137.38090565144591, 23.388260463325913, 98.20463373375618, 66.2498098742871, 26.997201539066477, 34.180222985351946, 57.06679859154351, 100.22658113107492, 59.190233313477485, 25.32584328977088, 5.514072658458564, 4.174157318747946, 3.4941777608093156, 3.4946702942550782, 3.4951593197494097, 2.8215892801553553, 2.8220910827827264, 2.8233753548499694, 2.828222872072084, 7.080365785539252, 2.1489958049220803, 2.149000155295674, 2.149005284748034, 2.1490365501991295, 2.1490365501991295, 2.149593519721256, 2.149598822603406, 2.14978612509765, 2.150083594479866, 2.150822783322642, 2.1515334209325028, 2.1518825679575446, 2.152356183885443, 1.4764102700677748, 1.4764102700677748, 1.4764102700677748, 1.4764102700677748, 1.4764102540173374, 1.4764102540173374, 1.4764102540173374, 16.568298717798363, 16.913674455229746, 5.985543528593166, 4.51300593097515, 4.607423165934998, 2.9913916402141423, 2.993712363466841, 6.921049916511191, 6.994146006429126, 98.20463373375618, 13.755009785131172, 7.727040229536678, 139.9472539294377, 10.401626576579677, 137.38090565144591, 13.525668666584837, 18.117089107155238, 7.106002644390427, 23.388260463325913, 5.563919439522783, 35.606418631706546, 28.177647732411614, 73.81736218657562], \"Category\": [\"Default\", \"Default\", \"Default\", \"Default\", \"Default\", \"Default\", \"Default\", \"Default\", \"Default\", \"Default\", \"Default\", \"Default\", \"Default\", \"Default\", \"Default\", \"Default\", \"Default\", \"Default\", \"Default\", \"Default\", \"Default\", \"Default\", \"Default\", \"Default\", \"Default\", \"Default\", \"Default\", \"Default\", \"Default\", \"Default\", \"Topic1\", \"Topic1\", \"Topic1\", \"Topic1\", \"Topic1\", \"Topic1\", \"Topic1\", \"Topic1\", \"Topic1\", \"Topic1\", \"Topic1\", \"Topic1\", \"Topic1\", \"Topic1\", \"Topic1\", \"Topic1\", \"Topic1\", \"Topic1\", \"Topic1\", \"Topic1\", \"Topic1\", \"Topic1\", \"Topic1\", \"Topic1\", \"Topic1\", \"Topic1\", \"Topic1\", \"Topic1\", \"Topic1\", \"Topic1\", \"Topic1\", \"Topic1\", \"Topic1\", \"Topic1\", \"Topic1\", \"Topic1\", \"Topic1\", \"Topic1\", \"Topic1\", \"Topic1\", \"Topic1\", \"Topic1\", \"Topic1\", \"Topic1\", \"Topic1\", \"Topic1\", \"Topic1\", \"Topic1\", \"Topic1\", \"Topic1\", \"Topic1\", \"Topic1\", \"Topic1\", \"Topic1\", \"Topic2\", \"Topic2\", \"Topic2\", \"Topic2\", \"Topic2\", \"Topic2\", \"Topic2\", \"Topic2\", \"Topic2\", \"Topic2\", \"Topic2\", \"Topic2\", \"Topic2\", \"Topic2\", \"Topic2\", \"Topic2\", \"Topic2\", \"Topic2\", \"Topic2\", \"Topic2\", \"Topic2\", \"Topic2\", \"Topic2\", \"Topic2\", \"Topic2\", \"Topic2\", \"Topic2\", \"Topic2\", \"Topic2\", \"Topic2\", \"Topic2\", \"Topic2\", \"Topic2\", \"Topic2\", \"Topic2\", \"Topic2\", \"Topic2\", \"Topic2\", \"Topic2\", \"Topic2\", \"Topic2\", \"Topic2\", \"Topic2\", \"Topic2\", \"Topic2\", \"Topic2\", \"Topic2\", \"Topic2\", \"Topic2\", \"Topic2\", \"Topic2\", \"Topic2\", \"Topic2\", \"Topic2\", \"Topic2\", \"Topic3\", \"Topic3\", \"Topic3\", \"Topic3\", \"Topic3\", \"Topic3\", \"Topic3\", \"Topic3\", \"Topic3\", \"Topic3\", \"Topic3\", \"Topic3\", \"Topic3\", \"Topic3\", \"Topic3\", \"Topic3\", \"Topic3\", \"Topic3\", \"Topic3\", \"Topic3\", \"Topic3\", \"Topic3\", \"Topic3\", \"Topic3\", \"Topic3\", \"Topic3\", \"Topic3\", \"Topic3\", \"Topic3\", \"Topic3\", \"Topic3\", \"Topic3\", \"Topic3\", \"Topic3\", \"Topic3\", \"Topic3\", \"Topic3\", \"Topic3\", \"Topic3\", \"Topic3\", \"Topic3\", \"Topic3\", \"Topic3\", \"Topic3\", \"Topic3\", \"Topic3\", \"Topic3\", \"Topic3\", \"Topic3\", \"Topic3\", \"Topic3\", \"Topic3\", \"Topic3\"], \"logprob\": [30.0, 29.0, 28.0, 27.0, 26.0, 25.0, 24.0, 23.0, 22.0, 21.0, 20.0, 19.0, 18.0, 17.0, 16.0, 15.0, 14.0, 13.0, 12.0, 11.0, 10.0, 9.0, 8.0, 7.0, 6.0, 5.0, 4.0, 3.0, 2.0, 1.0, -4.1945, -4.4073, -4.7739, -5.1235, -5.124, -5.0623, -5.2001, -5.451, -5.451, -5.3654, -5.4564, -5.5525, -5.6662, -5.6667, -5.6684, -5.7936, -5.7937, -5.7943, -5.7944, -5.7957, -5.7965, -5.798, -5.8025, -4.7418, -5.9402, -5.9408, -5.9413, -5.8093, -5.944, -5.9453, -3.1882, -3.8005, -3.5669, -4.169, -3.7893, -3.8674, -3.0687, -3.0524, -5.0556, -4.8776, -4.8058, -4.7187, -3.8134, -5.0906, -3.5519, -4.5112, -5.0801, -4.6994, -4.0264, -5.229, -4.8903, -4.9624, -4.9094, -5.0629, -4.3143, -4.3676, -4.6138, -4.6142, -4.7656, -4.9447, -5.0435, -5.2832, -5.1694, -4.3719, -5.4296, -5.4296, -5.4297, -5.4298, -5.4313, -5.4345, -5.6014, -5.6015, -5.6016, -5.6019, -5.6021, -4.6948, -5.8091, -5.8091, -5.8092, -5.8092, -5.8093, -5.8098, -5.8113, -5.8126, -3.7277, -3.7113, -4.4929, -4.6908, -4.9746, -4.8609, -4.6992, -4.0896, -4.8252, -3.6491, -4.8635, -4.9046, -5.4292, -4.6055, -3.7475, -3.7721, -4.72, -4.0665, -4.2946, -4.7194, -4.7722, -4.7146, -4.6826, -4.7718, -4.9183, -4.3941, -4.7193, -4.9189, -4.9194, -4.9199, -5.1813, -5.182, -5.1837, -5.1904, -4.3003, -5.538, -5.538, -5.538, -5.5381, -5.5381, -5.5391, -5.5391, -5.5395, -5.5401, -5.5415, -5.5429, -5.5436, -5.5463, -6.0976, -6.0976, -6.0976, -6.0976, -6.0976, -6.0976, -6.0976, -3.7534, -3.873, -4.8584, -5.1809, -5.1802, -5.5295, -5.5358, -4.9014, -4.9418, -3.2391, -4.6129, -4.9242, -3.7291, -4.8608, -3.7529, -4.7729, -4.7483, -5.1756, -4.8651, -5.2699, -4.7619, -4.8896, -4.6816], \"loglift\": [30.0, 29.0, 28.0, 27.0, 26.0, 25.0, 24.0, 23.0, 22.0, 21.0, 20.0, 19.0, 18.0, 17.0, 16.0, 15.0, 14.0, 13.0, 12.0, 11.0, 10.0, 9.0, 8.0, 7.0, 6.0, 5.0, 4.0, 3.0, 2.0, 1.0, 0.5451, 0.5425, 0.534, 0.5228, 0.5223, 0.5197, 0.5161, 0.508, 0.5079, 0.5063, 0.5028, 0.5027, 0.4954, 0.495, 0.4933, 0.4872, 0.4872, 0.4866, 0.4864, 0.4853, 0.4845, 0.4838, 0.4788, 0.478, 0.4759, 0.4754, 0.475, 0.4749, 0.4724, 0.472, 0.4392, 0.4437, 0.4318, 0.4043, 0.3648, 0.3232, 0.2434, 0.2412, 0.4133, 0.3914, 0.3764, 0.3649, 0.228, 0.3799, 0.0959, 0.192, 0.338, 0.1969, -0.0931, 0.3606, 0.1127, 0.1494, 0.0297, -0.0875, 1.095, 1.0932, 1.084, 1.0836, 1.0758, 1.0643, 1.0614, 1.0461, 1.0442, 1.0343, 1.0342, 1.0342, 1.0341, 1.034, 1.0324, 1.029, 1.0177, 1.0177, 1.0175, 1.0172, 1.017, 0.9988, 0.994, 0.994, 0.9939, 0.9939, 0.9938, 0.9932, 0.9917, 0.9903, 0.9808, 0.951, 0.9614, 0.9353, 0.9409, 0.9162, 0.8625, 0.696, 0.805, 0.2842, 0.7072, 0.6491, 0.9261, 0.3699, -0.4539, -0.4601, 0.3626, -0.4187, -0.2532, 0.2197, -0.069, -0.524, -1.0552, -0.6177, 0.0847, 2.1334, 2.0866, 2.0648, 2.0642, 2.0635, 2.0162, 2.0154, 2.0132, 2.0048, 1.9772, 1.9319, 1.9319, 1.9318, 1.9318, 1.9318, 1.9304, 1.9304, 1.93, 1.9292, 1.9275, 1.9257, 1.9249, 1.922, 1.7476, 1.7476, 1.7476, 1.7476, 1.7476, 1.7476, 1.7476, 1.6739, 1.5337, 1.5871, 1.547, 1.527, 1.6096, 1.6025, 1.3989, 1.3479, 0.4087, 1.0005, 1.2659, -0.4355, 1.032, -0.4408, 0.8574, 0.5897, 1.0983, 0.2175, 1.2487, -0.0995, 0.0067, -0.7483]}, \"token.table\": {\"Topic\": [2, 1, 3, 2, 3, 1, 2, 1, 2, 3, 1, 2, 2, 1, 3, 1, 2, 2, 1, 2, 3, 2, 3, 1, 2, 1, 2, 3, 3, 2, 3, 1, 2, 3, 1, 2, 3, 3, 2, 1, 2, 2, 1, 3, 3, 1, 2, 3, 1, 1, 1, 1, 2, 3, 3, 1, 3, 3, 2, 3, 2, 2, 2, 2, 2, 2, 1, 2, 3, 3, 1, 3, 1, 2, 3, 1, 2, 1, 2, 3, 1, 2, 1, 2, 3, 1, 2, 3, 3, 1, 2, 3, 2, 2, 3, 3, 1, 2, 1, 1, 2, 3, 3, 1, 2, 3, 3, 1, 2, 3, 1, 2, 1, 2, 1, 2, 3, 1, 1, 2, 3, 2, 3, 2, 3, 1, 3, 3, 2, 2, 1, 2, 2, 1, 2, 1, 2, 1, 1, 2, 2, 3, 1, 2, 3, 1, 2, 3, 1, 2, 2, 2, 3, 1, 2, 1, 3, 1, 2, 3, 1, 1, 3, 1, 2, 2, 3, 2, 2, 3, 2, 3, 1, 2, 1, 2, 1, 1, 2, 1, 2, 3, 2, 1, 1, 2, 1, 1, 2, 3, 1, 3, 1, 2, 3, 1, 1, 3, 1, 2, 1, 2, 3, 1, 1, 2, 3, 1, 2, 3, 1, 1, 1, 1, 1, 1, 2], \"Freq\": [0.9554776521231947, 0.9046075817324165, 0.9294187469989574, 0.5012076155939535, 0.5012076155939535, 0.9919623345112516, 0.9937497450244702, 0.5147840409679479, 0.4335023502887983, 0.05418779378609979, 0.8804871518271636, 0.8505710063636559, 0.8507787656172476, 0.9919217830415307, 0.930408461716681, 0.7021604279844893, 0.2925668449935372, 0.9556038191072685, 0.278627156635843, 0.6269111024306467, 0.06965678915896074, 0.9131067969084562, 0.8584500818093566, 0.592654019226663, 0.4074496382183308, 0.8478949194069748, 0.12846892718287498, 0.8583299716978535, 0.6773185071071708, 0.763349105660642, 0.1526698211321284, 0.3177150588381286, 0.6354301176762572, 0.03177150588381286, 0.85017259688811, 0.141695432814685, 0.6773185144704753, 0.6773185071071708, 0.9554163042026861, 0.9919566033969707, 0.9484539892001623, 0.9555457438084646, 0.422493589669548, 0.5432060438608475, 0.9582772508439654, 0.4415720402258466, 0.3863755351976158, 0.16558951508469247, 0.992921486689122, 0.9734158665885149, 0.9767199794700586, 0.38455523956285914, 0.38455523956285914, 0.28841642967214437, 0.6773185144704753, 0.5391882525634322, 0.3594588350422881, 0.7071578480428274, 0.33429257023945347, 0.6685851404789069, 0.9937174079684761, 0.9555945422095836, 0.8507733237759878, 0.9361430138153343, 0.8507787772612478, 0.8925084683966592, 0.8278392778161733, 0.16894679139105576, 0.930667242541461, 0.6773185071071708, 0.9919289093177542, 0.7088203850455091, 0.2859534242152751, 0.2859534242152751, 0.4289301363229126, 0.05909779832631379, 0.8864669748947068, 0.08563055839072425, 0.7706750255165182, 0.08563055839072425, 0.3424389323603866, 0.6163900782486958, 0.7885495789257111, 0.19275656373739605, 0.017523323976126916, 0.14072609454900967, 0.422178283647029, 0.28145218909801933, 0.6773185144704753, 0.3848084390077876, 0.4703214254539626, 0.12826947966926253, 0.9937476502703843, 0.33403342692614574, 0.6680668538522915, 0.7083719834007963, 0.8506105930530947, 0.9555860868739352, 0.8805109257877748, 0.1444867486960832, 0.43346024608824957, 0.43346024608824957, 0.9306495972879941, 0.05616964796956733, 0.84254471954351, 0.084254471954351, 0.9301963910309388, 0.7288460268854511, 0.2072209292125302, 0.07145549283190697, 0.8874153938892843, 0.11092692423616053, 0.931802306313507, 0.04904222664807932, 0.5089054903884422, 0.14540156868241205, 0.2908031373648241, 0.9411915751261962, 0.81324720856527, 0.08560496932266, 0.08560496932266, 0.14123564096679483, 0.7061782048339741, 0.9937513199610033, 0.9304061664761125, 0.4340821166128191, 0.4340821166128191, 0.9295695714237029, 0.9492063746385621, 0.9555813228662604, 0.196672765371814, 0.786691061487256, 0.9507573239203737, 0.8192311763435367, 0.12603556559131335, 0.8242906761038289, 0.15455450176946792, 0.9708932437837053, 0.537717887484187, 0.4609010464150174, 0.6470782927837565, 0.3882469756702539, 0.7097824555807334, 0.21293473667422003, 0.10646736833711001, 0.07877044830485903, 0.8664749313534494, 0.7086943480321328, 0.9245854795647497, 0.8507111634848774, 0.9717790240683057, 0.8507850683957815, 0.9292142327435745, 0.6603745846666165, 0.3081748061777544, 0.4729900661843697, 0.4729900661843697, 0.11764927418401473, 0.8529572378341068, 0.9306631371241582, 0.8531223526333156, 0.9862561482186096, 0.8585710874953153, 0.20711740256095867, 0.7594304760568484, 0.9492229450921441, 0.9306653585256844, 0.993721011400785, 0.4431636099285713, 0.4431636099285713, 0.7393349819890974, 0.22180049459672924, 0.8808826245779979, 0.125840374939714, 0.8879879867757541, 0.10975132420823927, 0.8806018721346516, 0.97454357069695, 0.9555838086593097, 0.8822835335458351, 0.11570931587486362, 0.9306495972879941, 0.9274259119830227, 0.9920236223641947, 0.12401368210030311, 0.8680957747021217, 0.9641109135492334, 0.631334771514845, 0.21383919680341523, 0.1629251023264116, 0.9734782654992682, 0.9303251038096423, 0.7279031938667928, 0.20381289428270197, 0.06551128744801135, 0.9734430187169358, 0.9920831606175686, 0.6773185071071708, 0.14725422204989003, 0.8098982212743953, 0.6317657349819584, 0.3553682259273516, 0.9298767037005031, 0.9734985523838011, 0.7094359982192441, 0.25660450999419465, 0.030188765881669962, 0.8518825920904479, 0.14198043201507465, 0.9067707862590496, 0.9667949681005139, 0.9766921439722647, 0.924331164799075, 0.924326140687087, 0.9736218553894675, 0.7774061845398189, 0.17940142720149668], \"Term\": [\"access\", \"acquire\", \"act\", \"adopt\", \"adopt\", \"another\", \"appeal\", \"article\", \"article\", \"article\", \"assistance\", \"attest\", \"base\", \"become\", \"bring\", \"card\", \"card\", \"carry\", \"case\", \"case\", \"case\", \"certificate\", \"charge\", \"citizen\", \"citizen\", \"citizens\", \"citizens\", \"commission\", \"communicate\", \"comply\", \"comply\", \"concern\", \"concern\", \"concern\", \"condition\", \"condition\", \"contagious\", \"correspond\", \"court\", \"death\", \"decision\", \"dependants\", \"directive\", \"directive\", \"diseases\", \"document\", \"document\", \"document\", \"ec\", \"eec\", \"employment\", \"entry\", \"entry\", \"entry\", \"epidemic\", \"european\", \"european\", \"every\", \"examination\", \"examination\", \"except\", \"exclusion\", \"existence\", \"expulsion\", \"failure\", \"fall\", \"family\", \"family\", \"favourable\", \"field\", \"five\", \"force\", \"free\", \"free\", \"free\", \"ground\", \"ground\", \"health\", \"health\", \"health\", \"hisher\", \"hisher\", \"host\", \"host\", \"host\", \"impose\", \"impose\", \"impose\", \"infectious\", \"issue\", \"issue\", \"issue\", \"judicial\", \"justify\", \"justify\", \"laws\", \"less\", \"liable\", \"longer\", \"make\", \"make\", \"make\", \"matter\", \"may\", \"may\", \"may\", \"medical\", \"member\", \"member\", \"member\", \"members\", \"members\", \"months\", \"months\", \"national\", \"national\", \"national\", \"nationality\", \"nationals\", \"nationals\", \"nationals\", \"necessary\", \"necessary\", \"nondiscriminatory\", \"obtain\", \"official\", \"official\", \"opportunity\", \"order\", \"origin\", \"partner\", \"partner\", \"partnership\", \"passport\", \"passport\", \"period\", \"period\", \"permanent\", \"person\", \"person\", \"personal\", \"personal\", \"persons\", \"persons\", \"persons\", \"policy\", \"policy\", \"possible\", \"prejudice\", \"previous\", \"proof\", \"proportionate\", \"protection\", \"provide\", \"provide\", \"provision\", \"provision\", \"public\", \"public\", \"publication\", \"purpose\", \"refer\", \"reference\", \"register\", \"register\", \"registration\", \"regulations\", \"relationship\", \"report\", \"report\", \"require\", \"require\", \"reside\", \"reside\", \"residence\", \"residence\", \"resources\", \"retain\", \"review\", \"right\", \"right\", \"routine\", \"sanction\", \"satisfy\", \"security\", \"security\", \"selfemployed\", \"shall\", \"shall\", \"shall\", \"six\", \"soon\", \"state\", \"state\", \"state\", \"study\", \"sufficient\", \"table\", \"take\", \"take\", \"territory\", \"territory\", \"together\", \"train\", \"union\", \"union\", \"union\", \"valid\", \"valid\", \"visa\", \"without\", \"work\", \"worker\", \"workers\", \"year\", \"years\", \"years\"]}, \"R\": 30, \"lambda.step\": 0.01, \"plot.opts\": {\"xlab\": \"PC1\", \"ylab\": \"PC2\"}, \"topic.order\": [3, 1, 2]};\n",
       "\n",
       "function LDAvis_load_lib(url, callback){\n",
       "  var s = document.createElement('script');\n",
       "  s.src = url;\n",
       "  s.async = true;\n",
       "  s.onreadystatechange = s.onload = callback;\n",
       "  s.onerror = function(){console.warn(\"failed to load library \" + url);};\n",
       "  document.getElementsByTagName(\"head\")[0].appendChild(s);\n",
       "}\n",
       "\n",
       "if(typeof(LDAvis) !== \"undefined\"){\n",
       "   // already loaded: just create the visualization\n",
       "   !function(LDAvis){\n",
       "       new LDAvis(\"#\" + \"ldavis_el32061406472275186404827008046\", ldavis_el32061406472275186404827008046_data);\n",
       "   }(LDAvis);\n",
       "}else if(typeof define === \"function\" && define.amd){\n",
       "   // require.js is available: use it to load d3/LDAvis\n",
       "   require.config({paths: {d3: \"https://d3js.org/d3.v5\"}});\n",
       "   require([\"d3\"], function(d3){\n",
       "      window.d3 = d3;\n",
       "      LDAvis_load_lib(\"https://cdn.jsdelivr.net/gh/bmabey/pyLDAvis@3.3.1/pyLDAvis/js/ldavis.v3.0.0.js\", function(){\n",
       "        new LDAvis(\"#\" + \"ldavis_el32061406472275186404827008046\", ldavis_el32061406472275186404827008046_data);\n",
       "      });\n",
       "    });\n",
       "}else{\n",
       "    // require.js not available: dynamically load d3 & LDAvis\n",
       "    LDAvis_load_lib(\"https://d3js.org/d3.v5.js\", function(){\n",
       "         LDAvis_load_lib(\"https://cdn.jsdelivr.net/gh/bmabey/pyLDAvis@3.3.1/pyLDAvis/js/ldavis.v3.0.0.js\", function(){\n",
       "                 new LDAvis(\"#\" + \"ldavis_el32061406472275186404827008046\", ldavis_el32061406472275186404827008046_data);\n",
       "            })\n",
       "         });\n",
       "}\n",
       "</script>"
      ],
      "text/plain": [
       "PreparedData(topic_coordinates=              x         y  topics  cluster       Freq\n",
       "topic                                                \n",
       "2      0.008143  0.141410       1        1  57.027774\n",
       "0      0.109090 -0.070749       2        1  32.392597\n",
       "1     -0.117234 -0.070661       3        1  10.579630, topic_info=          Term       Freq      Total Category  logprob  loglift\n",
       "564      shall  98.000000  98.000000  Default  30.0000  30.0000\n",
       "180  directive  16.000000  16.000000  Default  29.0000  29.0000\n",
       "492  provision  16.000000  16.000000  Default  28.0000  28.0000\n",
       "493     public  33.000000  33.000000  Default  27.0000  27.0000\n",
       "379        may  35.000000  35.000000  Default  26.0000  26.0000\n",
       "..         ...        ...        ...      ...      ...      ...\n",
       "338      issue   3.075722  23.388260   Topic3  -4.8651   0.2175\n",
       "238   european   2.051814   5.563919   Topic3  -5.2699   1.2487\n",
       "379        may   3.410089  35.606419   Topic3  -4.7619  -0.0995\n",
       "449    persons   3.001016  28.177648   Topic3  -4.8896   0.0067\n",
       "44     article   3.695159  73.817362   Topic3  -4.6816  -0.7483\n",
       "\n",
       "[192 rows x 6 columns], token_table=      Topic      Freq     Term\n",
       "term                          \n",
       "6         2  0.955478   access\n",
       "13        1  0.904608  acquire\n",
       "15        3  0.929419      act\n",
       "20        2  0.501208    adopt\n",
       "20        3  0.501208    adopt\n",
       "...     ...       ...      ...\n",
       "667       1  0.924331   worker\n",
       "668       1  0.924326  workers\n",
       "672       1  0.973622     year\n",
       "673       1  0.777406    years\n",
       "673       2  0.179401    years\n",
       "\n",
       "[217 rows x 3 columns], R=30, lambda_step=0.01, plot_opts={'xlab': 'PC1', 'ylab': 'PC2'}, topic_order=[3, 1, 2])"
      ]
     },
     "execution_count": 5,
     "metadata": {},
     "output_type": "execute_result"
    },
    {
     "name": "stderr",
     "output_type": "stream",
     "text": [
      "/home/felix/.pyenv/versions/3.8.13/envs/BatchLegal/lib/python3.8/site-packages/past/builtins/misc.py:45: DeprecationWarning: the imp module is deprecated in favour of importlib; see the module's documentation for alternative uses\n",
      "  from imp import reload\n",
      "/home/felix/.pyenv/versions/3.8.13/envs/BatchLegal/lib/python3.8/site-packages/past/builtins/misc.py:45: DeprecationWarning: the imp module is deprecated in favour of importlib; see the module's documentation for alternative uses\n",
      "  from imp import reload\n",
      "/home/felix/.pyenv/versions/3.8.13/envs/BatchLegal/lib/python3.8/site-packages/past/builtins/misc.py:45: DeprecationWarning: the imp module is deprecated in favour of importlib; see the module's documentation for alternative uses\n",
      "  from imp import reload\n",
      "/home/felix/.pyenv/versions/3.8.13/envs/BatchLegal/lib/python3.8/site-packages/past/builtins/misc.py:45: DeprecationWarning: the imp module is deprecated in favour of importlib; see the module's documentation for alternative uses\n",
      "  from imp import reload\n"
     ]
    }
   ],
   "source": [
    "pyLDAvis.enable_notebook()\n",
    "pyLDAvis.sklearn.prepare(lda_model, vectorized_text, vectorizer, mds='mmds')\n"
   ]
  }
 ],
 "metadata": {
  "kernelspec": {
   "display_name": "Python 3 (ipykernel)",
   "language": "python",
   "name": "python3"
  },
  "language_info": {
   "codemirror_mode": {
    "name": "ipython",
    "version": 3
   },
   "file_extension": ".py",
   "mimetype": "text/x-python",
   "name": "python",
   "nbconvert_exporter": "python",
   "pygments_lexer": "ipython3",
   "version": "3.8.13"
  },
  "toc": {
   "base_numbering": 1,
   "nav_menu": {},
   "number_sections": true,
   "sideBar": true,
   "skip_h1_title": false,
   "title_cell": "Table of Contents",
   "title_sidebar": "Contents",
   "toc_cell": false,
   "toc_position": {},
   "toc_section_display": true,
   "toc_window_display": false
  }
 },
 "nbformat": 4,
 "nbformat_minor": 5
}
