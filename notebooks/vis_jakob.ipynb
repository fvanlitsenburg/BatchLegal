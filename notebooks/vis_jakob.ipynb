{
 "cells": [
  {
   "cell_type": "code",
   "execution_count": null,
   "id": "4885ccf0",
   "metadata": {},
   "outputs": [],
   "source": [
    "!pip install matplotlib --quiet\n",
    "!pip install seaborn --quiet\n",
    "!pip install wordcloud --quiet"
   ]
  },
  {
   "cell_type": "code",
   "execution_count": 1,
   "id": "2a617443",
   "metadata": {},
   "outputs": [],
   "source": [
    "import matplotlib.pyplot as plt\n",
    "import seaborn as sns\n",
    "from wordcloud import WordCloud\n",
    "import datetime\n",
    "import pandas as pd\n",
    "import numpy as np"
   ]
  },
  {
   "cell_type": "code",
   "execution_count": 2,
   "id": "07b556b1",
   "metadata": {},
   "outputs": [
    {
     "data": {
      "text/html": [
       "<div>\n",
       "<style scoped>\n",
       "    .dataframe tbody tr th:only-of-type {\n",
       "        vertical-align: middle;\n",
       "    }\n",
       "\n",
       "    .dataframe tbody tr th {\n",
       "        vertical-align: top;\n",
       "    }\n",
       "\n",
       "    .dataframe thead th {\n",
       "        text-align: right;\n",
       "    }\n",
       "</style>\n",
       "<table border=\"1\" class=\"dataframe\">\n",
       "  <thead>\n",
       "    <tr style=\"text-align: right;\">\n",
       "      <th></th>\n",
       "      <th>title</th>\n",
       "      <th>cellar</th>\n",
       "      <th>date</th>\n",
       "      <th>dir_code</th>\n",
       "      <th>dir_1</th>\n",
       "      <th>dir_2</th>\n",
       "      <th>dir_3</th>\n",
       "      <th>dir_4</th>\n",
       "      <th>dir_5</th>\n",
       "      <th>dir_6</th>\n",
       "    </tr>\n",
       "  </thead>\n",
       "  <tbody>\n",
       "    <tr>\n",
       "      <th>0</th>\n",
       "      <td>Regulation (EU) 2020/1503 of the European Parl...</td>\n",
       "      <td>5f5898ca-1299-11eb-9a54-01aa75ed71a1</td>\n",
       "      <td>2020-10-20</td>\n",
       "      <td>62020.0</td>\n",
       "      <td>Right of establishment and freedom to provide ...</td>\n",
       "      <td>Sectoral application</td>\n",
       "      <td>Service activities</td>\n",
       "      <td>NaN</td>\n",
       "      <td>NaN</td>\n",
       "      <td>NaN</td>\n",
       "    </tr>\n",
       "    <tr>\n",
       "      <th>1</th>\n",
       "      <td>Regulation (EU) 2020/2224 of the European Parl...</td>\n",
       "      <td>0713d9a7-48af-11eb-b59f-01aa75ed71a1</td>\n",
       "      <td>2020-12-28</td>\n",
       "      <td>72030.0</td>\n",
       "      <td>Transport policy</td>\n",
       "      <td>Inland transport</td>\n",
       "      <td>Market operation</td>\n",
       "      <td>NaN</td>\n",
       "      <td>NaN</td>\n",
       "      <td>NaN</td>\n",
       "    </tr>\n",
       "    <tr>\n",
       "      <th>2</th>\n",
       "      <td>Commission Implementing Regulation (EU) 2020/1...</td>\n",
       "      <td>a3902456-0d1c-11eb-bc07-01aa75ed71a1</td>\n",
       "      <td>2020-10-13</td>\n",
       "      <td>11604020.0</td>\n",
       "      <td>External relations</td>\n",
       "      <td>Commercial policy</td>\n",
       "      <td>Trade protection</td>\n",
       "      <td>Anti-dumping measures</td>\n",
       "      <td>NaN</td>\n",
       "      <td>NaN</td>\n",
       "    </tr>\n",
       "    <tr>\n",
       "      <th>3</th>\n",
       "      <td>Regulation (EU) 2021/691 of the European Parli...</td>\n",
       "      <td>8c5e37a3-ac09-11eb-9767-01aa75ed71a1</td>\n",
       "      <td>2021-05-03</td>\n",
       "      <td>5203020.0</td>\n",
       "      <td>Freedom of movement for workers and social policy</td>\n",
       "      <td>Social policy</td>\n",
       "      <td>Employment and unemployment</td>\n",
       "      <td>Protection of workers</td>\n",
       "      <td>NaN</td>\n",
       "      <td>NaN</td>\n",
       "    </tr>\n",
       "  </tbody>\n",
       "</table>\n",
       "</div>"
      ],
      "text/plain": [
       "                                               title  \\\n",
       "0  Regulation (EU) 2020/1503 of the European Parl...   \n",
       "1  Regulation (EU) 2020/2224 of the European Parl...   \n",
       "2  Commission Implementing Regulation (EU) 2020/1...   \n",
       "3  Regulation (EU) 2021/691 of the European Parli...   \n",
       "\n",
       "                                 cellar       date    dir_code  \\\n",
       "0  5f5898ca-1299-11eb-9a54-01aa75ed71a1 2020-10-20     62020.0   \n",
       "1  0713d9a7-48af-11eb-b59f-01aa75ed71a1 2020-12-28     72030.0   \n",
       "2  a3902456-0d1c-11eb-bc07-01aa75ed71a1 2020-10-13  11604020.0   \n",
       "3  8c5e37a3-ac09-11eb-9767-01aa75ed71a1 2021-05-03   5203020.0   \n",
       "\n",
       "                                               dir_1                 dir_2  \\\n",
       "0  Right of establishment and freedom to provide ...  Sectoral application   \n",
       "1                                   Transport policy      Inland transport   \n",
       "2                                 External relations     Commercial policy   \n",
       "3  Freedom of movement for workers and social policy         Social policy   \n",
       "\n",
       "                         dir_3                  dir_4  dir_5  dir_6  \n",
       "0           Service activities                    NaN    NaN    NaN  \n",
       "1             Market operation                    NaN    NaN    NaN  \n",
       "2             Trade protection  Anti-dumping measures    NaN    NaN  \n",
       "3  Employment and unemployment  Protection of workers    NaN    NaN  "
      ]
     },
     "execution_count": 2,
     "metadata": {},
     "output_type": "execute_result"
    }
   ],
   "source": [
    "filename = \"../raw_data/20220601_larger_data_b_scraped_clean.csv\"\n",
    "data = pd.read_csv(filename).drop(columns = {'Unnamed: 0', 'Content'})#.iloc[0:100]\n",
    "data['date'] = pd.to_datetime(data['date'])\n",
    "data.head(4)"
   ]
  },
  {
   "cell_type": "markdown",
   "id": "3bafc37a",
   "metadata": {},
   "source": [
    "**Data exploration**"
   ]
  },
  {
   "cell_type": "code",
   "execution_count": 3,
   "id": "c7e4546e",
   "metadata": {},
   "outputs": [
    {
     "data": {
      "text/plain": [
       "<AxesSubplot:xlabel='date', ylabel='Count'>"
      ]
     },
     "execution_count": 3,
     "metadata": {},
     "output_type": "execute_result"
    },
    {
     "data": {
      "image/png": "[encoded data removed]",
      "text/plain": [
       "<Figure size 432x288 with 1 Axes>"
      ]
     },
     "metadata": {
      "needs_background": "light"
     },
     "output_type": "display_data"
    }
   ],
   "source": [
    "sns.histplot(data['date'], bins = 50)"
   ]
  },
  {
   "cell_type": "code",
   "execution_count": 4,
   "id": "228ec39d",
   "metadata": {
    "scrolled": true
   },
   "outputs": [
    {
     "data": {
      "text/plain": [
       "Agriculture                                                   823\n",
       "Environment, consumers and health protection                  463\n",
       "Industrial policy and internal market                         355\n",
       "External relations                                            207\n",
       "Customs Union and free movement of goods                      185\n",
       "Right of establishment and freedom to provide services        172\n",
       "Fisheries                                                     167\n",
       "Common Foreign and Security Policy                            164\n",
       "Transport policy                                              152\n",
       "Area of freedom, security and justice                          59\n",
       "Economic and monetary policy and free movement of capital      47\n",
       "General, financial and institutional matters                   42\n",
       "Energy                                                         31\n",
       "Taxation                                                       30\n",
       "Freedom of movement for workers and social policy              29\n",
       "Science, information, education and culture                    26\n",
       "Regional policy and coordination of structural instruments     19\n",
       "Law relating to undertakings                                   16\n",
       "Competition policy                                              7\n",
       "People's Europe                                                 5\n",
       "Name: dir_1, dtype: int64"
      ]
     },
     "execution_count": 4,
     "metadata": {},
     "output_type": "execute_result"
    }
   ],
   "source": [
    "data['dir_1'].value_counts()"
   ]
  },
  {
   "cell_type": "markdown",
   "id": "98dc86e5",
   "metadata": {},
   "source": [
    "**Data Preprocessing**"
   ]
  },
  {
   "cell_type": "code",
   "execution_count": 5,
   "id": "3f733d7f",
   "metadata": {},
   "outputs": [],
   "source": [
    "# categories (dir_1) in descending frequencies\n",
    "dir_1 = data['dir_1'].value_counts().index"
   ]
  },
  {
   "cell_type": "code",
   "execution_count": 6,
   "id": "46a2d423",
   "metadata": {},
   "outputs": [],
   "source": [
    "# define a time frame\n",
    "start_date = datetime.datetime.strptime(\"2020-01-01\", '%Y-%m-%d')\n",
    "end_date = datetime.datetime.strptime(\"2020-12-31\", '%Y-%m-%d')\n",
    "\n",
    "data_subset = data[np.logical_and(data['date'] >= start_date, data['date'] <= end_date)]\n",
    "#data_subset = data"
   ]
  },
  {
   "cell_type": "code",
   "execution_count": 7,
   "id": "c52915c9",
   "metadata": {},
   "outputs": [],
   "source": [
    "timesampling = \"M\" # \"M\" for month, \"Y\" for year\n",
    "\n",
    "#create dataframe for the others to append to and rename col to dir name\n",
    "df = data_subset[data_subset['dir_1'] == dir_1[0]].resample('M', on='date')['title'].count().reset_index().rename(columns={'title':dir_1[0]})\n",
    "\n",
    "# create dataframe with publications per topic\n",
    "for i in range(1,len(dir_1)):\n",
    "    category = dir_1[i]\n",
    "    temp = data_subset[data_subset['dir_1'] == category].resample('M', on='date')['title'].count().reset_index().rename(columns={'title':category})\n",
    "    df = df.merge(temp, how='left', on='date').fillna(0)\n",
    "data_publications = pd.concat([df['date'], df.drop(columns = \"date\").astype('Int64')], axis=1)"
   ]
  },
  {
   "cell_type": "markdown",
   "id": "32f79807",
   "metadata": {},
   "source": [
    "**Data Visualization**"
   ]
  },
  {
   "cell_type": "markdown",
   "id": "b8914479",
   "metadata": {},
   "source": [
    "Lineplot over Time (selected Categories)"
   ]
  },
  {
   "cell_type": "code",
   "execution_count": 8,
   "id": "638396d7",
   "metadata": {},
   "outputs": [
    {
     "data": {
      "image/png": "[encoded data removed]",
      "text/plain": [
       "<Figure size 432x288 with 1 Axes>"
      ]
     },
     "metadata": {
      "needs_background": "light"
     },
     "output_type": "display_data"
    }
   ],
   "source": [
    "subset = dir_1[0:5]\n",
    "for i in subset:\n",
    "    sns.lineplot(data = data_publications, x = 'date', y = i)"
   ]
  },
  {
   "cell_type": "code",
   "execution_count": null,
   "id": "ca9ba040",
   "metadata": {},
   "outputs": [],
   "source": []
  },
  {
   "cell_type": "markdown",
   "id": "3befa336",
   "metadata": {},
   "source": [
    "Stacked area chart"
   ]
  },
  {
   "cell_type": "code",
   "execution_count": null,
   "id": "4d669d51",
   "metadata": {
    "scrolled": true
   },
   "outputs": [],
   "source": [
    "data_publications"
   ]
  },
  {
   "cell_type": "code",
   "execution_count": null,
   "id": "d9e35114",
   "metadata": {
    "scrolled": true
   },
   "outputs": [],
   "source": []
  },
  {
   "cell_type": "code",
   "execution_count": null,
   "id": "294e1cd4",
   "metadata": {},
   "outputs": [],
   "source": [
    "range(0, len(data['date'].to_numpy()))"
   ]
  },
  {
   "cell_type": "code",
   "execution_count": null,
   "id": "c660f270",
   "metadata": {},
   "outputs": [],
   "source": [
    "data_publications['date'].to_numpy()"
   ]
  },
  {
   "cell_type": "code",
   "execution_count": null,
   "id": "db97c7c2",
   "metadata": {
    "scrolled": true
   },
   "outputs": [],
   "source": [
    "\n",
    "sns.set_theme()\n",
    "# Data\n",
    "#x=data_publications['date'].to_numpy() # data['date'].to_numpy()\n",
    "#y=data_publications.drop(columns = \"date\").to_numpy()\n",
    " \n",
    "    \n",
    "# Plot\n",
    "plt.stackplot(x,y) # labels=['A','B','C']\n",
    "#plt.legend(loc='upper left')\n",
    "plt.show()"
   ]
  },
  {
   "cell_type": "code",
   "execution_count": null,
   "id": "3786b871",
   "metadata": {},
   "outputs": [],
   "source": [
    "x = np.array(x, dtype=float)"
   ]
  },
  {
   "cell_type": "code",
   "execution_count": null,
   "id": "fe022d67",
   "metadata": {},
   "outputs": [],
   "source": [
    "x"
   ]
  },
  {
   "cell_type": "code",
   "execution_count": null,
   "id": "551531d0",
   "metadata": {},
   "outputs": [],
   "source": [
    "# set seaborn style\n",
    "sns.set_theme()\n",
    " \n",
    "# Data\n",
    "x=range(0, len(data['date'].to_numpy())) # data['date'].to_numpy()\n",
    "y=data_publications.drop(columns = \"date\").to_numpy()\n",
    " "
   ]
  },
  {
   "cell_type": "code",
   "execution_count": null,
   "id": "0da05ff7",
   "metadata": {},
   "outputs": [],
   "source": [
    "dir_1"
   ]
  },
  {
   "cell_type": "code",
   "execution_count": null,
   "id": "31c1dd5d",
   "metadata": {},
   "outputs": [],
   "source": [
    "len(x)"
   ]
  },
  {
   "cell_type": "code",
   "execution_count": null,
   "id": "c84a3d25",
   "metadata": {},
   "outputs": [],
   "source": [
    "y.shape"
   ]
  },
  {
   "cell_type": "code",
   "execution_count": null,
   "id": "98fd259f",
   "metadata": {},
   "outputs": [],
   "source": [
    "# Plot\n",
    "plt.stackplot(x,y)#, labels=['A','B','C'])\n",
    "plt.legend(loc='upper left')\n",
    "plt.show()"
   ]
  },
  {
   "cell_type": "code",
   "execution_count": null,
   "id": "906bba72",
   "metadata": {},
   "outputs": [],
   "source": []
  },
  {
   "cell_type": "code",
   "execution_count": null,
   "id": "2b3d5ff7",
   "metadata": {},
   "outputs": [],
   "source": [
    "!pip install plotly --quiet\n",
    "import plotly.express as px"
   ]
  },
  {
   "cell_type": "code",
   "execution_count": null,
   "id": "3f593fe4",
   "metadata": {},
   "outputs": [],
   "source": [
    "#df = px.data.gapminder()\n",
    "fig = px.area(x=x, y=y)\n",
    "fig.show()"
   ]
  },
  {
   "cell_type": "code",
   "execution_count": null,
   "id": "f3823dd8",
   "metadata": {},
   "outputs": [],
   "source": []
  },
  {
   "cell_type": "code",
   "execution_count": null,
   "id": "6d64eb05",
   "metadata": {},
   "outputs": [],
   "source": []
  },
  {
   "cell_type": "markdown",
   "id": "fed397b6",
   "metadata": {},
   "source": [
    "**Number of publications for selected topics over time**"
   ]
  },
  {
   "cell_type": "code",
   "execution_count": null,
   "id": "4e7e20e8",
   "metadata": {},
   "outputs": [],
   "source": [
    "data.groupby"
   ]
  },
  {
   "cell_type": "code",
   "execution_count": null,
   "id": "d38f1a4e",
   "metadata": {},
   "outputs": [],
   "source": [
    "sns.lineplot()"
   ]
  },
  {
   "cell_type": "code",
   "execution_count": null,
   "id": "a49e50da",
   "metadata": {},
   "outputs": [],
   "source": [
    "data_subset = data.groupby('dir_1').count()\n",
    "data_subset"
   ]
  },
  {
   "cell_type": "code",
   "execution_count": null,
   "id": "f31417a2",
   "metadata": {},
   "outputs": [],
   "source": []
  },
  {
   "cell_type": "code",
   "execution_count": null,
   "id": "1114804f",
   "metadata": {},
   "outputs": [],
   "source": [
    "# lower max_font_size, change the maximum number of word and lighten the background:\n",
    "wordcloud = WordCloud(max_font_size=50, max_words=100, background_color=\"white\").generate(\" \".join(data['dir_1']))\n",
    "plt.figure()\n",
    "plt.imshow(wordcloud, interpolation=\"bilinear\")\n",
    "plt.axis(\"off\")\n",
    "plt.show()"
   ]
  },
  {
   "cell_type": "code",
   "execution_count": null,
   "id": "a98965d5",
   "metadata": {},
   "outputs": [],
   "source": []
  }
 ],
 "metadata": {
  "kernelspec": {
   "display_name": "Python 3 (ipykernel)",
   "language": "python",
   "name": "python3"
  },
  "language_info": {
   "codemirror_mode": {
    "name": "ipython",
    "version": 3
   },
   "file_extension": ".py",
   "mimetype": "text/x-python",
   "name": "python",
   "nbconvert_exporter": "python",
   "pygments_lexer": "ipython3",
   "version": "3.8.12"
  },
  "toc": {
   "base_numbering": 1,
   "nav_menu": {},
   "number_sections": true,
   "sideBar": true,
   "skip_h1_title": false,
   "title_cell": "Table of Contents",
   "title_sidebar": "Contents",
   "toc_cell": false,
   "toc_position": {},
   "toc_section_display": true,
   "toc_window_display": false
  }
 },
 "nbformat": 4,
 "nbformat_minor": 5
}
