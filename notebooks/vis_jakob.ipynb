{
 "cells": [
  {
   "cell_type": "code",
   "execution_count": null,
   "id": "4885ccf0",
   "metadata": {},
   "outputs": [],
   "source": [
    "!pip install matplotlib --quiet\n",
    "!pip install seaborn --quiet\n",
    "!pip install wordcloud --quiet"
   ]
  },
  {
   "cell_type": "code",
   "execution_count": 3,
   "id": "2a617443",
   "metadata": {},
   "outputs": [],
   "source": [
    "import matplotlib.pyplot as plt\n",
    "import seaborn as sns\n",
    "from wordcloud import WordCloud\n",
    "#import datetime\n",
    "import pandas as pd\n",
    "import numpy as np"
   ]
  },
  {
   "cell_type": "code",
   "execution_count": 4,
   "id": "07b556b1",
   "metadata": {},
   "outputs": [
    {
     "data": {
      "text/html": [
       "<div>\n",
       "<style scoped>\n",
       "    .dataframe tbody tr th:only-of-type {\n",
       "        vertical-align: middle;\n",
       "    }\n",
       "\n",
       "    .dataframe tbody tr th {\n",
       "        vertical-align: top;\n",
       "    }\n",
       "\n",
       "    .dataframe thead th {\n",
       "        text-align: right;\n",
       "    }\n",
       "</style>\n",
       "<table border=\"1\" class=\"dataframe\">\n",
       "  <thead>\n",
       "    <tr style=\"text-align: right;\">\n",
       "      <th></th>\n",
       "      <th>title</th>\n",
       "      <th>cellar</th>\n",
       "      <th>date</th>\n",
       "      <th>dir_code</th>\n",
       "      <th>dir_1</th>\n",
       "      <th>dir_2</th>\n",
       "      <th>dir_3</th>\n",
       "      <th>dir_4</th>\n",
       "      <th>dir_5</th>\n",
       "      <th>dir_6</th>\n",
       "    </tr>\n",
       "  </thead>\n",
       "  <tbody>\n",
       "    <tr>\n",
       "      <th>0</th>\n",
       "      <td>Regulation (EU) 2020/1503 of the European Parl...</td>\n",
       "      <td>5f5898ca-1299-11eb-9a54-01aa75ed71a1</td>\n",
       "      <td>2020-10-20</td>\n",
       "      <td>62020.0</td>\n",
       "      <td>Right of establishment and freedom to provide ...</td>\n",
       "      <td>Sectoral application</td>\n",
       "      <td>Service activities</td>\n",
       "      <td>NaN</td>\n",
       "      <td>NaN</td>\n",
       "      <td>NaN</td>\n",
       "    </tr>\n",
       "    <tr>\n",
       "      <th>1</th>\n",
       "      <td>Regulation (EU) 2020/2224 of the European Parl...</td>\n",
       "      <td>0713d9a7-48af-11eb-b59f-01aa75ed71a1</td>\n",
       "      <td>2020-12-28</td>\n",
       "      <td>72030.0</td>\n",
       "      <td>Transport policy</td>\n",
       "      <td>Inland transport</td>\n",
       "      <td>Market operation</td>\n",
       "      <td>NaN</td>\n",
       "      <td>NaN</td>\n",
       "      <td>NaN</td>\n",
       "    </tr>\n",
       "    <tr>\n",
       "      <th>2</th>\n",
       "      <td>Commission Implementing Regulation (EU) 2020/1...</td>\n",
       "      <td>a3902456-0d1c-11eb-bc07-01aa75ed71a1</td>\n",
       "      <td>2020-10-13</td>\n",
       "      <td>11604020.0</td>\n",
       "      <td>External relations</td>\n",
       "      <td>Commercial policy</td>\n",
       "      <td>Trade protection</td>\n",
       "      <td>Anti-dumping measures</td>\n",
       "      <td>NaN</td>\n",
       "      <td>NaN</td>\n",
       "    </tr>\n",
       "    <tr>\n",
       "      <th>3</th>\n",
       "      <td>Regulation (EU) 2021/691 of the European Parli...</td>\n",
       "      <td>8c5e37a3-ac09-11eb-9767-01aa75ed71a1</td>\n",
       "      <td>2021-05-03</td>\n",
       "      <td>5203020.0</td>\n",
       "      <td>Freedom of movement for workers and social policy</td>\n",
       "      <td>Social policy</td>\n",
       "      <td>Employment and unemployment</td>\n",
       "      <td>Protection of workers</td>\n",
       "      <td>NaN</td>\n",
       "      <td>NaN</td>\n",
       "    </tr>\n",
       "  </tbody>\n",
       "</table>\n",
       "</div>"
      ],
      "text/plain": [
       "                                               title  \\\n",
       "0  Regulation (EU) 2020/1503 of the European Parl...   \n",
       "1  Regulation (EU) 2020/2224 of the European Parl...   \n",
       "2  Commission Implementing Regulation (EU) 2020/1...   \n",
       "3  Regulation (EU) 2021/691 of the European Parli...   \n",
       "\n",
       "                                 cellar       date    dir_code  \\\n",
       "0  5f5898ca-1299-11eb-9a54-01aa75ed71a1 2020-10-20     62020.0   \n",
       "1  0713d9a7-48af-11eb-b59f-01aa75ed71a1 2020-12-28     72030.0   \n",
       "2  a3902456-0d1c-11eb-bc07-01aa75ed71a1 2020-10-13  11604020.0   \n",
       "3  8c5e37a3-ac09-11eb-9767-01aa75ed71a1 2021-05-03   5203020.0   \n",
       "\n",
       "                                               dir_1                 dir_2  \\\n",
       "0  Right of establishment and freedom to provide ...  Sectoral application   \n",
       "1                                   Transport policy      Inland transport   \n",
       "2                                 External relations     Commercial policy   \n",
       "3  Freedom of movement for workers and social policy         Social policy   \n",
       "\n",
       "                         dir_3                  dir_4  dir_5  dir_6  \n",
       "0           Service activities                    NaN    NaN    NaN  \n",
       "1             Market operation                    NaN    NaN    NaN  \n",
       "2             Trade protection  Anti-dumping measures    NaN    NaN  \n",
       "3  Employment and unemployment  Protection of workers    NaN    NaN  "
      ]
     },
     "execution_count": 4,
     "metadata": {},
     "output_type": "execute_result"
    }
   ],
   "source": [
    "filename = \"../raw_data/20220601_larger_data_b_scraped_clean.csv\"\n",
    "data = pd.read_csv(filename).drop(columns = {'Unnamed: 0', 'Content'})#.iloc[0:100]\n",
    "data['date'] = pd.to_datetime(data['date'])\n",
    "data.head(4)"
   ]
  },
  {
   "cell_type": "code",
   "execution_count": null,
   "id": "1d4c0aad",
   "metadata": {},
   "outputs": [],
   "source": [
    "data_subset = data.groupby('dir_1').count()\n",
    "data_subset"
   ]
  },
  {
   "cell_type": "code",
   "execution_count": null,
   "id": "c7e4546e",
   "metadata": {},
   "outputs": [],
   "source": [
    "sns.histplot(data['date'], bins = 50)"
   ]
  },
  {
   "cell_type": "code",
   "execution_count": null,
   "id": "f31417a2",
   "metadata": {},
   "outputs": [],
   "source": [
    "data['dir_1'].value_counts()"
   ]
  },
  {
   "cell_type": "code",
   "execution_count": null,
   "id": "1114804f",
   "metadata": {},
   "outputs": [],
   "source": [
    "# lower max_font_size, change the maximum number of word and lighten the background:\n",
    "wordcloud = WordCloud(max_font_size=50, max_words=100, background_color=\"white\").generate(\" \".join(data['dir_1']))\n",
    "plt.figure()\n",
    "plt.imshow(wordcloud, interpolation=\"bilinear\")\n",
    "plt.axis(\"off\")\n",
    "plt.show()"
   ]
  },
  {
   "cell_type": "code",
   "execution_count": null,
   "id": "a98965d5",
   "metadata": {},
   "outputs": [],
   "source": []
  }
 ],
 "metadata": {
  "kernelspec": {
   "display_name": "Python 3 (ipykernel)",
   "language": "python",
   "name": "python3"
  },
  "language_info": {
   "codemirror_mode": {
    "name": "ipython",
    "version": 3
   },
   "file_extension": ".py",
   "mimetype": "text/x-python",
   "name": "python",
   "nbconvert_exporter": "python",
   "pygments_lexer": "ipython3",
   "version": "3.8.12"
  },
  "toc": {
   "base_numbering": 1,
   "nav_menu": {},
   "number_sections": true,
   "sideBar": true,
   "skip_h1_title": false,
   "title_cell": "Table of Contents",
   "title_sidebar": "Contents",
   "toc_cell": false,
   "toc_position": {},
   "toc_section_display": true,
   "toc_window_display": false
  }
 },
 "nbformat": 4,
 "nbformat_minor": 5
}
