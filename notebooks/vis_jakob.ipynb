{
 "cells": [
  {
   "cell_type": "code",
   "execution_count": null,
   "id": "4885ccf0",
   "metadata": {},
   "outputs": [],
   "source": [
    "!pip install matplotlib --quiet\n",
    "!pip install seaborn --quiet\n",
    "!pip install wordcloud --quiet\n",
    "!pip install plotly --quiet"
   ]
  },
  {
   "cell_type": "code",
   "execution_count": null,
   "id": "2a617443",
   "metadata": {},
   "outputs": [],
   "source": [
    "import matplotlib.pyplot as plt\n",
    "import seaborn as sns\n",
    "import plotly.express as px\n",
    "from wordcloud import WordCloud\n",
    "import datetime\n",
    "import pandas as pd\n",
    "import numpy as np"
   ]
  },
  {
   "cell_type": "code",
   "execution_count": null,
   "id": "07b556b1",
   "metadata": {},
   "outputs": [],
   "source": [
    "filename = \"../raw_data/20220601_larger_data_b_scraped_clean.csv\"\n",
    "data = pd.read_csv(filename).drop(columns = {'Unnamed: 0', 'Content'})#.iloc[0:100]\n",
    "data['date'] = pd.to_datetime(data['date'])\n",
    "data.head(4)"
   ]
  },
  {
   "cell_type": "markdown",
   "id": "5dd8454a",
   "metadata": {},
   "source": [
    "**Data exploration**"
   ]
  },
  {
   "cell_type": "code",
   "execution_count": null,
   "id": "c7e4546e",
   "metadata": {},
   "outputs": [],
   "source": [
    "sns.histplot(data['date'], bins = 50)"
   ]
  },
  {
   "cell_type": "code",
   "execution_count": null,
   "id": "01290de2",
   "metadata": {
    "scrolled": true
   },
   "outputs": [],
   "source": [
    "data['dir_1'].value_counts()"
   ]
  },
  {
   "cell_type": "markdown",
   "id": "c7a62efc",
   "metadata": {},
   "source": [
    "**Data Preprocessing**"
   ]
  },
  {
   "cell_type": "code",
   "execution_count": null,
   "id": "a7f334ea",
   "metadata": {},
   "outputs": [],
   "source": [
    "# categories (dir_1) in descending frequencies\n",
    "dir_1 = data['dir_1'].value_counts().index"
   ]
  },
  {
   "cell_type": "code",
   "execution_count": null,
   "id": "13232ea9",
   "metadata": {},
   "outputs": [],
   "source": [
    "# define a time frame\n",
    "start_date = datetime.datetime.strptime(\"2018-01-01\", '%Y-%m-%d')\n",
    "end_date = datetime.datetime.strptime(\"2021-12-31\", '%Y-%m-%d')\n",
    "\n",
    "data_subset = data[np.logical_and(data['date'] >= start_date, data['date'] <= end_date)]\n",
    "#data_subset = data #if no subset is wanted"
   ]
  },
  {
   "cell_type": "code",
   "execution_count": null,
   "id": "2f137a02",
   "metadata": {},
   "outputs": [],
   "source": [
    "timesampling = \"M\" # \"M\" for month, \"Y\" for year\n",
    "\n",
    "#create dataframe for the others to append to and rename col to dir name\n",
    "df = data_subset[data_subset['dir_1'] == dir_1[0]].resample(timesampling, on='date')['title'].count().reset_index().rename(columns={'title':dir_1[0]})\n",
    "\n",
    "# create dataframe with publications per topic\n",
    "for i in range(1,len(dir_1)):\n",
    "    category = dir_1[i]\n",
    "    temp = data_subset[data_subset['dir_1'] == category].resample('M', on='date')['title'].count().reset_index().rename(columns={'title':category})\n",
    "    df = df.merge(temp, how='left', on='date').fillna(0)\n",
    "data_publications = pd.concat([df['date'], df.drop(columns = \"date\").astype('Int64')], axis=1)"
   ]
  },
  {
   "cell_type": "markdown",
   "id": "b42ad36d",
   "metadata": {},
   "source": [
    "**Data Visualization**"
   ]
  },
  {
   "cell_type": "markdown",
   "id": "c36f3838",
   "metadata": {},
   "source": [
    "Comparison of Topic Frequency in Pie Chart"
   ]
  },
  {
   "cell_type": "code",
   "execution_count": null,
   "id": "b5e67e39",
   "metadata": {},
   "outputs": [],
   "source": [
    "piedata = data_publications.drop(columns='date').sum().reset_index()\n",
    "\n",
    "fig = px.pie(piedata, values=0, names='index', title='Frequency of published topics')\n",
    "fig.show()"
   ]
  },
  {
   "cell_type": "code",
   "execution_count": null,
   "id": "d6f71ed5",
   "metadata": {},
   "outputs": [],
   "source": []
  },
  {
   "cell_type": "markdown",
   "id": "72289821",
   "metadata": {},
   "source": [
    "Lineplot over Time (selected Categories)"
   ]
  },
  {
   "cell_type": "code",
   "execution_count": null,
   "id": "77e329e3",
   "metadata": {},
   "outputs": [],
   "source": [
    "subset = dir_1[0:5]\n",
    "for i in subset:\n",
    "    sns.lineplot(data = data_publications, x = 'date', y = i)"
   ]
  },
  {
   "cell_type": "markdown",
   "id": "8c695981",
   "metadata": {},
   "source": [
    "Stacked Area Chart"
   ]
  },
  {
   "cell_type": "code",
   "execution_count": null,
   "id": "abaf8133",
   "metadata": {
    "scrolled": true
   },
   "outputs": [],
   "source": [
    "x = data_publications['date'].tolist() \n",
    "y = data_publications.drop(columns = {\"date\"}).T.values.tolist()\n",
    "labels = data_publications.drop(columns = {\"date\"})"
   ]
  },
  {
   "cell_type": "code",
   "execution_count": null,
   "id": "9b075317",
   "metadata": {
    "scrolled": false
   },
   "outputs": [],
   "source": [
    "# matplotlib\n",
    "fig = plt.figure(figsize=(12,7))\n",
    "plt.stackplot(x,y, labels=labels)\n",
    "plt.legend(loc='upper left')\n",
    "plt.show()"
   ]
  },
  {
   "cell_type": "code",
   "execution_count": null,
   "id": "4f3fdad6",
   "metadata": {
    "scrolled": false
   },
   "outputs": [],
   "source": [
    "# plotly\n",
    "fig = px.area(x=x, y=y, title='Topics over time')\n",
    "fig.show()"
   ]
  },
  {
   "cell_type": "markdown",
   "id": "135a6d84",
   "metadata": {},
   "source": [
    "Stacked Area Chart Normalized"
   ]
  },
  {
   "cell_type": "code",
   "execution_count": null,
   "id": "08b63cec",
   "metadata": {},
   "outputs": [],
   "source": [
    "#normalize data\n",
    "df = data_publications.drop(columns = 'date')\n",
    "data_publications_normalized = df.div(df.sum(axis=1), axis=0)\n",
    "y_norm = data_publications_normalized.T.values.tolist()\n",
    "\n",
    "x_norm = data_publications['date'].tolist() \n",
    "labels = data_publications.drop(columns = {\"date\"})"
   ]
  },
  {
   "cell_type": "code",
   "execution_count": null,
   "id": "7beb2ea8",
   "metadata": {},
   "outputs": [],
   "source": [
    "# matplotlib\n",
    "fig = plt.figure(figsize=(12,7))\n",
    "plt.stackplot(x_norm, y_norm, labels=labels)\n",
    "#plt.legend(loc='upper left')\n",
    "plt.show()"
   ]
  },
  {
   "cell_type": "code",
   "execution_count": null,
   "id": "61156660",
   "metadata": {
    "scrolled": false
   },
   "outputs": [],
   "source": [
    "# plotly\n",
    "fig = px.area(x=x_norm, y=y_norm, title='Topics over time, Normalized')\n",
    "fig.show()"
   ]
  },
  {
   "cell_type": "code",
   "execution_count": null,
   "id": "edb7f0cb",
   "metadata": {},
   "outputs": [],
   "source": []
  },
  {
   "cell_type": "markdown",
   "id": "d1231070",
   "metadata": {},
   "source": [
    "Wordcloud"
   ]
  },
  {
   "cell_type": "code",
   "execution_count": null,
   "id": "1114804f",
   "metadata": {},
   "outputs": [],
   "source": [
    "# lower max_font_size, change the maximum number of word and lighten the background:\n",
    "wordcloud = WordCloud(max_font_size=50, max_words=100, background_color=\"white\").generate(\" \".join(data['dir_1']))\n",
    "plt.figure()\n",
    "plt.imshow(wordcloud, interpolation=\"bilinear\")\n",
    "plt.axis(\"off\")\n",
    "plt.show()"
   ]
  },
  {
   "cell_type": "code",
   "execution_count": null,
   "id": "a98965d5",
   "metadata": {},
   "outputs": [],
   "source": []
  }
 ],
 "metadata": {
  "kernelspec": {
   "display_name": "Python 3 (ipykernel)",
   "language": "python",
   "name": "python3"
  },
  "language_info": {
   "codemirror_mode": {
    "name": "ipython",
    "version": 3
   },
   "file_extension": ".py",
   "mimetype": "text/x-python",
   "name": "python",
   "nbconvert_exporter": "python",
   "pygments_lexer": "ipython3",
   "version": "3.8.12"
  },
  "toc": {
   "base_numbering": 1,
   "nav_menu": {},
   "number_sections": true,
   "sideBar": true,
   "skip_h1_title": false,
   "title_cell": "Table of Contents",
   "title_sidebar": "Contents",
   "toc_cell": false,
   "toc_position": {},
   "toc_section_display": true,
   "toc_window_display": false
  }
 },
 "nbformat": 4,
 "nbformat_minor": 5
}
