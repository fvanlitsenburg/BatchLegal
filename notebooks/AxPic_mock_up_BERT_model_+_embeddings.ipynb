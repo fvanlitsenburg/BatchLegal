{
  "cells": [
    {
      "cell_type": "markdown",
      "id": "e8b9035f",
      "metadata": {
        "id": "e8b9035f"
      },
      "source": [
        "#Batch Legal BERT Mockup Model – using different Embeddings"
      ]
    },
    {
      "cell_type": "code",
      "source": [
        "#PIP-installing BERTtopic\n",
        "\n",
        "%%capture\n",
        "!pip install bertopic"
      ],
      "metadata": {
        "id": "eIx0Pw-oJCvE"
      },
      "id": "eIx0Pw-oJCvE",
      "execution_count": 1,
      "outputs": []
    },
    {
      "cell_type": "code",
      "source": [
        "!pip install nltk"
      ],
      "metadata": {
        "colab": {
          "base_uri": "https://localhost:8080/"
        },
        "id": "A-cAHkN7LZ--",
        "outputId": "d039ecd6-1739-4be5-b746-720dbf8d4154"
      },
      "id": "A-cAHkN7LZ--",
      "execution_count": 2,
      "outputs": [
        {
          "output_type": "stream",
          "name": "stdout",
          "text": [
            "Looking in indexes: https://pypi.org/simple, https://us-python.pkg.dev/colab-wheels/public/simple/\n",
            "Requirement already satisfied: nltk in /usr/local/lib/python3.7/dist-packages (3.2.5)\n",
            "Requirement already satisfied: six in /usr/local/lib/python3.7/dist-packages (from nltk) (1.15.0)\n"
          ]
        }
      ]
    },
    {
      "cell_type": "code",
      "execution_count": 3,
      "id": "d5e5bdcf",
      "metadata": {
        "id": "d5e5bdcf"
      },
      "outputs": [],
      "source": [
        "#Imports\n",
        "\n",
        "import pandas as pd\n",
        "import nltk \n",
        "\n",
        "import string\n",
        "from bs4 import BeautifulSoup\n",
        "from nltk.tokenize import word_tokenize, sent_tokenize\n",
        "from nltk.corpus import stopwords \n",
        "\n",
        "from bertopic import BERTopic #BERTtopic-model: https://github.com/MaartenGr/BERTopic"
      ]
    },
    {
      "cell_type": "markdown",
      "source": [
        "*Working with BERTopics sklearn-dataset, to check out its structure*"
      ],
      "metadata": {
        "id": "V3ZuEj66t8i3"
      },
      "id": "V3ZuEj66t8i3"
    },
    {
      "cell_type": "code",
      "execution_count": 4,
      "id": "0452bb33",
      "metadata": {
        "id": "0452bb33"
      },
      "outputs": [],
      "source": [
        "#Loading + exploring data\n",
        "\n",
        "from sklearn.datasets import fetch_20newsgroups\n",
        "docs = fetch_20newsgroups(subset='all',  remove=('headers', 'footers', 'quotes'))['data']"
      ]
    },
    {
      "cell_type": "code",
      "source": [
        "print(f\"docs consitsts of {len(docs)} strings in a {type(docs)}\")"
      ],
      "metadata": {
        "colab": {
          "base_uri": "https://localhost:8080/"
        },
        "id": "f93Lk7S3MpXM",
        "outputId": "171e6697-5b10-4e92-da25-44bc0807d114"
      },
      "id": "f93Lk7S3MpXM",
      "execution_count": 5,
      "outputs": [
        {
          "output_type": "stream",
          "name": "stdout",
          "text": [
            "docs consitsts of 18846 strings in a <class 'list'>\n"
          ]
        }
      ]
    },
    {
      "cell_type": "code",
      "source": [
        "docs[10]"
      ],
      "metadata": {
        "colab": {
          "base_uri": "https://localhost:8080/",
          "height": 55
        },
        "id": "j9yTV3Ql_QpJ",
        "outputId": "d7f1a046-e7c6-47cd-8e93-dd6918a2b234"
      },
      "id": "j9yTV3Ql_QpJ",
      "execution_count": 6,
      "outputs": [
        {
          "output_type": "execute_result",
          "data": {
            "text/plain": [
              "'the blood of the lamb.\\n\\nThis will be a hard task, because most cultures used most animals\\nfor blood sacrifices. It has to be something related to our current\\npost-modernism state. Hmm, what about used computers?\\n\\nCheers,\\nKent'"
            ],
            "application/vnd.google.colaboratory.intrinsic+json": {
              "type": "string"
            }
          },
          "metadata": {},
          "execution_count": 6
        }
      ]
    },
    {
      "cell_type": "code",
      "execution_count": 7,
      "id": "7abf8765",
      "metadata": {
        "id": "7abf8765",
        "colab": {
          "base_uri": "https://localhost:8080/",
          "height": 161,
          "referenced_widgets": [
            "54ece9601fc94654a75b48a575e1dd9c",
            "750a651ce22a494285e45f67a2254242",
            "9a913d7c23944a1db2cb34d8192750c1",
            "a7cfc82f2a514285bc1bf69bc2f1ada7",
            "353bbc499b154262a362b452e0789582",
            "e59954c3fb8c4e748470cf4e07145546",
            "5acd978479f1400c9c7b62b06edab889",
            "d0561c962a38465fae212c6c1ae26486",
            "fd6fecb7b18d4cb4a2ae56e8553263c0",
            "b8e0ef50323b447da153177dace6e27a",
            "8b0edfdc75a14096ad1eb93be3b238b4"
          ]
        },
        "outputId": "7da21c27-cf35-498a-b171-8141b375021d"
      },
      "outputs": [
        {
          "output_type": "display_data",
          "data": {
            "text/plain": [
              "Batches:   0%|          | 0/589 [00:00<?, ?it/s]"
            ],
            "application/vnd.jupyter.widget-view+json": {
              "version_major": 2,
              "version_minor": 0,
              "model_id": "54ece9601fc94654a75b48a575e1dd9c"
            }
          },
          "metadata": {}
        },
        {
          "output_type": "stream",
          "name": "stderr",
          "text": [
            "2022-06-01 08:27:01,519 - BERTopic - Transformed documents to Embeddings\n",
            "/usr/local/lib/python3.7/dist-packages/numba/np/ufunc/parallel.py:363: NumbaWarning: The TBB threading layer requires TBB version 2019.5 or later i.e., TBB_INTERFACE_VERSION >= 11005. Found TBB_INTERFACE_VERSION = 9107. The TBB threading layer is disabled.\n",
            "  warnings.warn(problem)\n",
            "2022-06-01 08:27:32,476 - BERTopic - Reduced dimensionality\n",
            "2022-06-01 08:28:15,380 - BERTopic - Clustered reduced embeddings\n"
          ]
        }
      ],
      "source": [
        "#Training\n",
        "\n",
        "topic_model = BERTopic(language=\"english\", calculate_probabilities=True, verbose=True)\n",
        "topics, probs = topic_model.fit_transform(docs)\n"
      ]
    },
    {
      "cell_type": "code",
      "source": [
        "topic_model.get_topic_info()"
      ],
      "metadata": {
        "colab": {
          "base_uri": "https://localhost:8080/",
          "height": 424
        },
        "id": "2YWb6ZU2PuFW",
        "outputId": "a556686f-f1cd-494f-e398-32475cf87708"
      },
      "id": "2YWb6ZU2PuFW",
      "execution_count": 8,
      "outputs": [
        {
          "output_type": "execute_result",
          "data": {
            "text/plain": [
              "     Topic  Count                                        Name\n",
              "0       -1   6630                            -1_to_the_is_and\n",
              "1        0   1819                        0_game_team_games_he\n",
              "2        1    583               1_key_clipper_chip_encryption\n",
              "3        2    526                        2_ites_cheek_yep_huh\n",
              "4        3    489                  3_israel_israeli_jews_arab\n",
              "..     ...    ...                                         ...\n",
              "219    218     10              218_drunk_cjackson_dwi_driving\n",
              "220    219     10          219_religion_wars_history_crusades\n",
              "221    220     10  220_accelerations_45g_pistrix_acceleration\n",
              "222    221     10           221_board_motherboard_turbo_wires\n",
              "223    222     10  222_avs_seminar_visualization_presentation\n",
              "\n",
              "[224 rows x 3 columns]"
            ],
            "text/html": [
              "\n",
              "  <div id=\"df-ec3f7f22-51d2-4b71-97e1-d8f8c73d5104\">\n",
              "    <div class=\"colab-df-container\">\n",
              "      <div>\n",
              "<style scoped>\n",
              "    .dataframe tbody tr th:only-of-type {\n",
              "        vertical-align: middle;\n",
              "    }\n",
              "\n",
              "    .dataframe tbody tr th {\n",
              "        vertical-align: top;\n",
              "    }\n",
              "\n",
              "    .dataframe thead th {\n",
              "        text-align: right;\n",
              "    }\n",
              "</style>\n",
              "<table border=\"1\" class=\"dataframe\">\n",
              "  <thead>\n",
              "    <tr style=\"text-align: right;\">\n",
              "      <th></th>\n",
              "      <th>Topic</th>\n",
              "      <th>Count</th>\n",
              "      <th>Name</th>\n",
              "    </tr>\n",
              "  </thead>\n",
              "  <tbody>\n",
              "    <tr>\n",
              "      <th>0</th>\n",
              "      <td>-1</td>\n",
              "      <td>6630</td>\n",
              "      <td>-1_to_the_is_and</td>\n",
              "    </tr>\n",
              "    <tr>\n",
              "      <th>1</th>\n",
              "      <td>0</td>\n",
              "      <td>1819</td>\n",
              "      <td>0_game_team_games_he</td>\n",
              "    </tr>\n",
              "    <tr>\n",
              "      <th>2</th>\n",
              "      <td>1</td>\n",
              "      <td>583</td>\n",
              "      <td>1_key_clipper_chip_encryption</td>\n",
              "    </tr>\n",
              "    <tr>\n",
              "      <th>3</th>\n",
              "      <td>2</td>\n",
              "      <td>526</td>\n",
              "      <td>2_ites_cheek_yep_huh</td>\n",
              "    </tr>\n",
              "    <tr>\n",
              "      <th>4</th>\n",
              "      <td>3</td>\n",
              "      <td>489</td>\n",
              "      <td>3_israel_israeli_jews_arab</td>\n",
              "    </tr>\n",
              "    <tr>\n",
              "      <th>...</th>\n",
              "      <td>...</td>\n",
              "      <td>...</td>\n",
              "      <td>...</td>\n",
              "    </tr>\n",
              "    <tr>\n",
              "      <th>219</th>\n",
              "      <td>218</td>\n",
              "      <td>10</td>\n",
              "      <td>218_drunk_cjackson_dwi_driving</td>\n",
              "    </tr>\n",
              "    <tr>\n",
              "      <th>220</th>\n",
              "      <td>219</td>\n",
              "      <td>10</td>\n",
              "      <td>219_religion_wars_history_crusades</td>\n",
              "    </tr>\n",
              "    <tr>\n",
              "      <th>221</th>\n",
              "      <td>220</td>\n",
              "      <td>10</td>\n",
              "      <td>220_accelerations_45g_pistrix_acceleration</td>\n",
              "    </tr>\n",
              "    <tr>\n",
              "      <th>222</th>\n",
              "      <td>221</td>\n",
              "      <td>10</td>\n",
              "      <td>221_board_motherboard_turbo_wires</td>\n",
              "    </tr>\n",
              "    <tr>\n",
              "      <th>223</th>\n",
              "      <td>222</td>\n",
              "      <td>10</td>\n",
              "      <td>222_avs_seminar_visualization_presentation</td>\n",
              "    </tr>\n",
              "  </tbody>\n",
              "</table>\n",
              "<p>224 rows × 3 columns</p>\n",
              "</div>\n",
              "      <button class=\"colab-df-convert\" onclick=\"convertToInteractive('df-ec3f7f22-51d2-4b71-97e1-d8f8c73d5104')\"\n",
              "              title=\"Convert this dataframe to an interactive table.\"\n",
              "              style=\"display:none;\">\n",
              "        \n",
              "  <svg xmlns=\"http://www.w3.org/2000/svg\" height=\"24px\"viewBox=\"0 0 24 24\"\n",
              "       width=\"24px\">\n",
              "    <path d=\"M0 0h24v24H0V0z\" fill=\"none\"/>\n",
              "    <path d=\"M18.56 5.44l.94 2.06.94-2.06 2.06-.94-2.06-.94-.94-2.06-.94 2.06-2.06.94zm-11 1L8.5 8.5l.94-2.06 2.06-.94-2.06-.94L8.5 2.5l-.94 2.06-2.06.94zm10 10l.94 2.06.94-2.06 2.06-.94-2.06-.94-.94-2.06-.94 2.06-2.06.94z\"/><path d=\"M17.41 7.96l-1.37-1.37c-.4-.4-.92-.59-1.43-.59-.52 0-1.04.2-1.43.59L10.3 9.45l-7.72 7.72c-.78.78-.78 2.05 0 2.83L4 21.41c.39.39.9.59 1.41.59.51 0 1.02-.2 1.41-.59l7.78-7.78 2.81-2.81c.8-.78.8-2.07 0-2.86zM5.41 20L4 18.59l7.72-7.72 1.47 1.35L5.41 20z\"/>\n",
              "  </svg>\n",
              "      </button>\n",
              "      \n",
              "  <style>\n",
              "    .colab-df-container {\n",
              "      display:flex;\n",
              "      flex-wrap:wrap;\n",
              "      gap: 12px;\n",
              "    }\n",
              "\n",
              "    .colab-df-convert {\n",
              "      background-color: #E8F0FE;\n",
              "      border: none;\n",
              "      border-radius: 50%;\n",
              "      cursor: pointer;\n",
              "      display: none;\n",
              "      fill: #1967D2;\n",
              "      height: 32px;\n",
              "      padding: 0 0 0 0;\n",
              "      width: 32px;\n",
              "    }\n",
              "\n",
              "    .colab-df-convert:hover {\n",
              "      background-color: #E2EBFA;\n",
              "      box-shadow: 0px 1px 2px rgba(60, 64, 67, 0.3), 0px 1px 3px 1px rgba(60, 64, 67, 0.15);\n",
              "      fill: #174EA6;\n",
              "    }\n",
              "\n",
              "    [theme=dark] .colab-df-convert {\n",
              "      background-color: #3B4455;\n",
              "      fill: #D2E3FC;\n",
              "    }\n",
              "\n",
              "    [theme=dark] .colab-df-convert:hover {\n",
              "      background-color: #434B5C;\n",
              "      box-shadow: 0px 1px 3px 1px rgba(0, 0, 0, 0.15);\n",
              "      filter: drop-shadow(0px 1px 2px rgba(0, 0, 0, 0.3));\n",
              "      fill: #FFFFFF;\n",
              "    }\n",
              "  </style>\n",
              "\n",
              "      <script>\n",
              "        const buttonEl =\n",
              "          document.querySelector('#df-ec3f7f22-51d2-4b71-97e1-d8f8c73d5104 button.colab-df-convert');\n",
              "        buttonEl.style.display =\n",
              "          google.colab.kernel.accessAllowed ? 'block' : 'none';\n",
              "\n",
              "        async function convertToInteractive(key) {\n",
              "          const element = document.querySelector('#df-ec3f7f22-51d2-4b71-97e1-d8f8c73d5104');\n",
              "          const dataTable =\n",
              "            await google.colab.kernel.invokeFunction('convertToInteractive',\n",
              "                                                     [key], {});\n",
              "          if (!dataTable) return;\n",
              "\n",
              "          const docLinkHtml = 'Like what you see? Visit the ' +\n",
              "            '<a target=\"_blank\" href=https://colab.research.google.com/notebooks/data_table.ipynb>data table notebook</a>'\n",
              "            + ' to learn more about interactive tables.';\n",
              "          element.innerHTML = '';\n",
              "          dataTable['output_type'] = 'display_data';\n",
              "          await google.colab.output.renderOutput(dataTable, element);\n",
              "          const docLink = document.createElement('div');\n",
              "          docLink.innerHTML = docLinkHtml;\n",
              "          element.appendChild(docLink);\n",
              "        }\n",
              "      </script>\n",
              "    </div>\n",
              "  </div>\n",
              "  "
            ]
          },
          "metadata": {},
          "execution_count": 8
        }
      ]
    },
    {
      "cell_type": "code",
      "source": [
        "#Trying out with less (little) data\n",
        "\n",
        "test = docs[0:10]"
      ],
      "metadata": {
        "id": "8tM5N1wIWoYm"
      },
      "id": "8tM5N1wIWoYm",
      "execution_count": 9,
      "outputs": []
    },
    {
      "cell_type": "code",
      "source": [
        "topic_model_small = BERTopic(language=\"english\", calculate_probabilities=True, verbose=True)\n",
        "topics, probs = topic_model_small.fit_transform(test)"
      ],
      "metadata": {
        "id": "Ptk3sDXnWux1",
        "colab": {
          "base_uri": "https://localhost:8080/",
          "height": 104,
          "referenced_widgets": [
            "dc30177de10f4e4ab4d9f66d2d1de570",
            "59300cbe349c4626a5e6591fef4de5ba",
            "da518662120044a3b98088ea0f9c1a38",
            "b673b83d6316447292ada3640c6b63e0",
            "d286b358c41a4ee1b7398abeb0b8913f",
            "215fbb104e9d41baad021af5214dffdf",
            "1b82f3ac519741fba0ce7adc1369eeea",
            "d119f04604894974b654310d712104e8",
            "3bf89891c8934dc3b0713feb8cad875d",
            "c8ccc60ec085487db56ff7d480734fa6",
            "7aa403ba23394c7aa7fda8ac9c37fd85"
          ]
        },
        "outputId": "6407f78f-26b7-4f3e-9087-e9d2eac42c84"
      },
      "id": "Ptk3sDXnWux1",
      "execution_count": 10,
      "outputs": [
        {
          "output_type": "display_data",
          "data": {
            "text/plain": [
              "Batches:   0%|          | 0/1 [00:00<?, ?it/s]"
            ],
            "application/vnd.jupyter.widget-view+json": {
              "version_major": 2,
              "version_minor": 0,
              "model_id": "dc30177de10f4e4ab4d9f66d2d1de570"
            }
          },
          "metadata": {}
        },
        {
          "output_type": "stream",
          "name": "stderr",
          "text": [
            "2022-06-01 08:28:35,218 - BERTopic - Transformed documents to Embeddings\n",
            "2022-06-01 08:28:40,789 - BERTopic - Reduced dimensionality\n",
            "2022-06-01 08:28:40,799 - BERTopic - Clustered reduced embeddings\n"
          ]
        }
      ]
    },
    {
      "cell_type": "code",
      "source": [
        "topic_model_small.get_topic_info()"
      ],
      "metadata": {
        "id": "DlJBuZI7W2Vl",
        "colab": {
          "base_uri": "https://localhost:8080/",
          "height": 81
        },
        "outputId": "a8202b7e-88de-4b54-cd45-8c5c43b60c82"
      },
      "id": "DlJBuZI7W2Vl",
      "execution_count": 11,
      "outputs": [
        {
          "output_type": "execute_result",
          "data": {
            "text/plain": [
              "   Topic  Count              Name\n",
              "0     -1     10  -1_the_to_and_of"
            ],
            "text/html": [
              "\n",
              "  <div id=\"df-277fcfba-cd0b-485c-9c9f-e87c7dab2940\">\n",
              "    <div class=\"colab-df-container\">\n",
              "      <div>\n",
              "<style scoped>\n",
              "    .dataframe tbody tr th:only-of-type {\n",
              "        vertical-align: middle;\n",
              "    }\n",
              "\n",
              "    .dataframe tbody tr th {\n",
              "        vertical-align: top;\n",
              "    }\n",
              "\n",
              "    .dataframe thead th {\n",
              "        text-align: right;\n",
              "    }\n",
              "</style>\n",
              "<table border=\"1\" class=\"dataframe\">\n",
              "  <thead>\n",
              "    <tr style=\"text-align: right;\">\n",
              "      <th></th>\n",
              "      <th>Topic</th>\n",
              "      <th>Count</th>\n",
              "      <th>Name</th>\n",
              "    </tr>\n",
              "  </thead>\n",
              "  <tbody>\n",
              "    <tr>\n",
              "      <th>0</th>\n",
              "      <td>-1</td>\n",
              "      <td>10</td>\n",
              "      <td>-1_the_to_and_of</td>\n",
              "    </tr>\n",
              "  </tbody>\n",
              "</table>\n",
              "</div>\n",
              "      <button class=\"colab-df-convert\" onclick=\"convertToInteractive('df-277fcfba-cd0b-485c-9c9f-e87c7dab2940')\"\n",
              "              title=\"Convert this dataframe to an interactive table.\"\n",
              "              style=\"display:none;\">\n",
              "        \n",
              "  <svg xmlns=\"http://www.w3.org/2000/svg\" height=\"24px\"viewBox=\"0 0 24 24\"\n",
              "       width=\"24px\">\n",
              "    <path d=\"M0 0h24v24H0V0z\" fill=\"none\"/>\n",
              "    <path d=\"M18.56 5.44l.94 2.06.94-2.06 2.06-.94-2.06-.94-.94-2.06-.94 2.06-2.06.94zm-11 1L8.5 8.5l.94-2.06 2.06-.94-2.06-.94L8.5 2.5l-.94 2.06-2.06.94zm10 10l.94 2.06.94-2.06 2.06-.94-2.06-.94-.94-2.06-.94 2.06-2.06.94z\"/><path d=\"M17.41 7.96l-1.37-1.37c-.4-.4-.92-.59-1.43-.59-.52 0-1.04.2-1.43.59L10.3 9.45l-7.72 7.72c-.78.78-.78 2.05 0 2.83L4 21.41c.39.39.9.59 1.41.59.51 0 1.02-.2 1.41-.59l7.78-7.78 2.81-2.81c.8-.78.8-2.07 0-2.86zM5.41 20L4 18.59l7.72-7.72 1.47 1.35L5.41 20z\"/>\n",
              "  </svg>\n",
              "      </button>\n",
              "      \n",
              "  <style>\n",
              "    .colab-df-container {\n",
              "      display:flex;\n",
              "      flex-wrap:wrap;\n",
              "      gap: 12px;\n",
              "    }\n",
              "\n",
              "    .colab-df-convert {\n",
              "      background-color: #E8F0FE;\n",
              "      border: none;\n",
              "      border-radius: 50%;\n",
              "      cursor: pointer;\n",
              "      display: none;\n",
              "      fill: #1967D2;\n",
              "      height: 32px;\n",
              "      padding: 0 0 0 0;\n",
              "      width: 32px;\n",
              "    }\n",
              "\n",
              "    .colab-df-convert:hover {\n",
              "      background-color: #E2EBFA;\n",
              "      box-shadow: 0px 1px 2px rgba(60, 64, 67, 0.3), 0px 1px 3px 1px rgba(60, 64, 67, 0.15);\n",
              "      fill: #174EA6;\n",
              "    }\n",
              "\n",
              "    [theme=dark] .colab-df-convert {\n",
              "      background-color: #3B4455;\n",
              "      fill: #D2E3FC;\n",
              "    }\n",
              "\n",
              "    [theme=dark] .colab-df-convert:hover {\n",
              "      background-color: #434B5C;\n",
              "      box-shadow: 0px 1px 3px 1px rgba(0, 0, 0, 0.15);\n",
              "      filter: drop-shadow(0px 1px 2px rgba(0, 0, 0, 0.3));\n",
              "      fill: #FFFFFF;\n",
              "    }\n",
              "  </style>\n",
              "\n",
              "      <script>\n",
              "        const buttonEl =\n",
              "          document.querySelector('#df-277fcfba-cd0b-485c-9c9f-e87c7dab2940 button.colab-df-convert');\n",
              "        buttonEl.style.display =\n",
              "          google.colab.kernel.accessAllowed ? 'block' : 'none';\n",
              "\n",
              "        async function convertToInteractive(key) {\n",
              "          const element = document.querySelector('#df-277fcfba-cd0b-485c-9c9f-e87c7dab2940');\n",
              "          const dataTable =\n",
              "            await google.colab.kernel.invokeFunction('convertToInteractive',\n",
              "                                                     [key], {});\n",
              "          if (!dataTable) return;\n",
              "\n",
              "          const docLinkHtml = 'Like what you see? Visit the ' +\n",
              "            '<a target=\"_blank\" href=https://colab.research.google.com/notebooks/data_table.ipynb>data table notebook</a>'\n",
              "            + ' to learn more about interactive tables.';\n",
              "          element.innerHTML = '';\n",
              "          dataTable['output_type'] = 'display_data';\n",
              "          await google.colab.output.renderOutput(dataTable, element);\n",
              "          const docLink = document.createElement('div');\n",
              "          docLink.innerHTML = docLinkHtml;\n",
              "          element.appendChild(docLink);\n",
              "        }\n",
              "      </script>\n",
              "    </div>\n",
              "  </div>\n",
              "  "
            ]
          },
          "metadata": {},
          "execution_count": 11
        }
      ]
    },
    {
      "cell_type": "markdown",
      "source": [
        "*Working with Jakob's DF*"
      ],
      "metadata": {
        "id": "J9--tUl1uEd7"
      },
      "id": "J9--tUl1uEd7"
    },
    {
      "cell_type": "code",
      "source": [
        "#Loading DF\n",
        "\n",
        "data = pd.read_csv(\"/content/drive/MyDrive/test_data_scraped_new.csv\")\n"
      ],
      "metadata": {
        "id": "2GXtQxPSqUdz"
      },
      "id": "2GXtQxPSqUdz",
      "execution_count": 12,
      "outputs": []
    },
    {
      "cell_type": "code",
      "source": [
        "data.columns"
      ],
      "metadata": {
        "colab": {
          "base_uri": "https://localhost:8080/"
        },
        "id": "0F1IRD5DEPIT",
        "outputId": "5c4de2e7-6a6a-441e-8340-210874306e30"
      },
      "id": "0F1IRD5DEPIT",
      "execution_count": 13,
      "outputs": [
        {
          "output_type": "execute_result",
          "data": {
            "text/plain": [
              "Index(['Unnamed: 0', 'Date of document', 'Title', 'Subtitle', 'CELEX number',\n",
              "       'EUROVOC descriptor', 'Subject matter', 'Directory code', 'Author',\n",
              "       'In force indicator', 'Content'],\n",
              "      dtype='object')"
            ]
          },
          "metadata": {},
          "execution_count": 13
        }
      ]
    },
    {
      "cell_type": "code",
      "source": [
        "eu_docs = data.Content.tolist()"
      ],
      "metadata": {
        "id": "3NYmEaAbtPIY"
      },
      "id": "3NYmEaAbtPIY",
      "execution_count": 14,
      "outputs": []
    },
    {
      "cell_type": "code",
      "source": [
        "print(f\"docs consitsts of {len(eu_docs)} strings in a {type(docs)}\")"
      ],
      "metadata": {
        "id": "AgTXTn00BK_b",
        "colab": {
          "base_uri": "https://localhost:8080/"
        },
        "outputId": "69cbe0a6-1453-4b71-dcfd-d49e9cbac6df"
      },
      "id": "AgTXTn00BK_b",
      "execution_count": 15,
      "outputs": [
        {
          "output_type": "stream",
          "name": "stdout",
          "text": [
            "docs consitsts of 20 strings in a <class 'list'>\n"
          ]
        }
      ]
    },
    {
      "cell_type": "code",
      "source": [
        "eu_docs[1]"
      ],
      "metadata": {
        "id": "InFUtVjCBRpM",
        "colab": {
          "base_uri": "https://localhost:8080/",
          "height": 128
        },
        "outputId": "d8f8fd4d-4e15-4720-ed2e-144b7a8c2b7d"
      },
      "id": "InFUtVjCBRpM",
      "execution_count": 16,
      "outputs": [
        {
          "output_type": "execute_result",
          "data": {
            "text/plain": [
              "' (1) The objective of the Union’s policy on asylum is to develop and establish a Common European Asylum System (CEAS) that is consistent with the values and humanitarian tradition of the Union and governed by the principle of solidarity and fair sharing of responsibility. (2) A common policy on asylum based on the full and inclusive application of the Geneva Convention Relating to the Status of Refugees of 28\\xa0July 1951, as amended by the New York Protocol of 31\\xa0January 1967, is a constituent part of the Union’s objective of establishing progressively an area of freedom, security and justice open to third-country nationals or stateless persons who seek international protection in the Union. (3) The CEAS is based on common minimum standards for procedures for international protection, recognition and protection offered at Union level and for reception conditions, and it establishes a system for determining the Member State responsible for examining applications for international protection. Notwithstanding the progress made on the CEAS, there are still significant disparities between the Member States as regards the granting of international protection and the form that such international protection takes. Those disparities should be addressed by ensuring greater convergence in the assessment of applications for international protection and by guaranteeing a uniform level of application of Union law, based on high protection standards, across the Union. (4) In its communication of 6\\xa0April 2016 entitled ‘Towards a reform of the Common European Asylum System and enhancing legal avenues to Europe’, the Commission set out priority areas for structurally improving the CEAS, namely the establishment of a sustainable and fair system for determining the Member State responsible for asylum seekers, the reinforcement of the Eurodac system, the achievement of greater convergence in the Union asylum system, the prevention of secondary movements within the Union and the development of a new mandate for the European Asylum Support Office (EASO). That communication is in line with a call by the European Council on 18\\xa0February 2016 to make progress towards reforming the Union’s existing framework so as to ensure a humane, fair and efficient asylum policy. That communication also proposes a way forward in line with the holistic approach to migration set out by the European Parliament in its own-initiative report of 12\\xa0April 2016 entitled ‘The situation in the Mediterranean and the need for a holistic EU approach to migration’. (5) EASO was established by Regulation (EU) No\\xa0439/2010 of the European Parliament and of the Council\\xa0(2), and it took up its responsibilities on 1\\xa0February 2011. EASO enhances practical cooperation among Member States on asylum-related matters and assists Member States in implementing their obligations under the CEAS. EASO also provides support to Member States whose asylum and reception systems are under particular pressure. However, its role and function need to be further strengthened so as to not only support practical cooperation among Member States but to reinforce and contribute to ensuring the efficient functioning of the asylum and reception systems of the Member States. (6) Having regard to the structural weaknesses of the CEAS, which were brought to the fore by the large-scale and uncontrolled arrival of migrants and asylum seekers to the Union, and the need for an efficient, high and uniform level of application of Union law on asylum in the Member States, it is necessary to improve the implementation and functioning of the CEAS by building on the work of EASO and further developing it into a fully-fledged agency. Such an agency should be a centre of expertise on asylum. It should facilitate and improve the functioning of the CEAS by coordinating and strengthening practical cooperation and information exchange on asylum among Member States, by promoting Union and international law on asylum and operational standards in order to ensure a high degree of uniformity based on high protection standards as regards procedures for international protection, reception conditions and the assessment of protection needs across the Union, by enabling genuine and practical solidarity among Member States in order to assist the affected Member States in general and applicants for international protection in particular and in accordance with Article\\xa080 of the Treaty on the Functioning of the European Union (TFEU), which stipulates that relevant Union acts are to contain appropriate measures to give effect to the principle of solidarity, in order to apply in a sustainable way the Union rules for determining the Member State responsible for examining applications for international protection and in order to enable convergence in the assessment of applications for international protection across the Union, by monitoring the operational and technical application of the CEAS, by supporting Member States with resettlement and the implementation of Regulation (EU) No\\xa0604/2013 of the European Parliament and of the Council\\xa0(3) and by providing operational and technical assistance to Member States for the management of their asylum and reception systems, in particular those whose systems are subject to disproportionate pressure. (7) The tasks of EASO should be expanded, and in order to reflect those changes it should be replaced and succeeded by an agency entitled the European Union Agency for Asylum (the ‘Agency’), with full continuity in all of its activities and procedures. (8) In order to guarantee that it is independent and that it can carry out its tasks properly, the Agency should be provided with sufficient financial and human resources, including a sufficient number of its own staff to form part of asylum support teams and teams of experts for the monitoring mechanism under this Regulation. (9) The Agency should work in close cooperation with the national authorities responsible for asylum and immigration and other relevant services, drawing on the capacity and expertise of those authorities and services, and with the Commission. The Member States should cooperate with the Agency to ensure that it is capable of fulfilling its mandate. It is important, for the purposes of this Regulation, that the Agency and the Member States act in good faith and exchange information in a timely and accurate manner. Any provision of statistical data is to respect the technical and methodological specifications laid down in Regulation (EC) No\\xa0862/2007 of the European Parliament and of the Council\\xa0(4). (10) The Agency should gather and analyse information on the situation of asylum in the Union and in third countries insofar as it might have an impact on the Union. That gathering and analysis of information should enable the Agency to provide Member States with up-to-date information including on migratory and refugee flows, and to identify possible risks for Member States’ asylum and reception systems. For that purpose, the Agency should work in close collaboration with the European Border and Coast Guard Agency, established by Regulation (EU) 2019/1896 of the European Parliament and of the Council\\xa0(5). (11) No personal data should be stored in databases or published on web portals created by the Agency concerning legal developments in the field of asylum, including relevant case law, unless such data have been obtained from sources that are publicly accessible. (12) The Agency should be able to deploy liaison officers to the Member States to foster cooperation and to act as an interface between the Agency and the national authorities responsible for asylum and immigration and other relevant services. Liaison officers should facilitate communication between the Member State concerned and the Agency and share relevant information from the Agency with the Member State concerned. They should support the collection of information and contribute to promoting the application and implementation of Union law on asylum, including with regard to respect for fundamental rights. Liaison officers should regularly report on the situation of asylum in Member States to the Agency’s Executive Director, and those reports should be taken into account for the purposes of the monitoring mechanism under this Regulation. Where such reports raise concerns about one or more aspects relevant for the Member State concerned, the Executive Director should inform that Member State without delay. (13) The Agency should provide the necessary support to the Member States in carrying out their tasks and obligations under Regulation (EU) No\\xa0604/2013. (14) As regards resettlement, the Agency should be able to provide the necessary support to Member States at their request. To that end, the Agency should develop and offer expertise in resettlement in order to support actions on resettlement taken by Member States. (15) The Agency should assist Member States with the training of experts from all national administrations, courts and tribunals, and national authorities responsible for asylum matters, including through the development of a European asylum curriculum. Member States should develop appropriate training on the basis of the European asylum curriculum with the aim of promoting best practices and common standards in the implementation of Union law on asylum. In that respect, Member States should include core parts of the European asylum curriculum in their training. It is important that those core parts cover issues related to the determination of whether applicants qualify for international protection, interview techniques and evidence assessment. In addition, the Agency should verify and, where necessary, ensure that all experts participating in asylum support teams or forming part of the asylum reserve pool established under this Regulation (the ‘asylum reserve pool’) receive the necessary training before their participation in operational activities it organises. (16) The Agency should ensure a more structured, up-to-date and streamlined production of information on relevant third countries at Union level. The Agency should gather relevant information and draw up reports providing for country information. For that purpose, the Agency should establish and manage European networks on third-country information so as to avoid duplication and create synergies with national reports. It is necessary that the third-country information refer, inter alia, to the political, religious and security situation and to violations of human rights, including torture and ill-treatment, in the third country concerned. (17) In order to foster convergence in the assessment of applications for international protection and the type of protection granted, the Agency should, together with the Member States, develop a common analysis on the situation in specific countries of origin (the ‘common analysis’) and guidance notes. The common analysis should consist of an assessment of the situation in relevant countries of origin based on country-of-origin information. The guidance notes should be based on an interpretation of that common analysis developed by the Agency and Member States. When developing the common analysis and guidance notes the Agency should take note of the most recent United Nations High Commissioner for Refugees (UNHCR) Eligibility Guidelines for Assessing the International Protection Needs of Asylum Seekers from specific countries of origin, and it should be able to take into account other relevant sources. Without prejudice to the competence of the Member States to decide on individual applications for international protection, Member States should take into account the relevant common analysis and guidance notes when assessing applications for international protection from applicants who originate from third countries for which a common analysis and guidance notes have been developed in accordance with this Regulation. (18) The Agency should assist the Commission and should be able to assist the Member States by providing information and analysis on third countries regarding the concept of safe country of origin and the concept of safe third country. When providing such information and analysis the Agency should report to the European Parliament and to the Council in accordance with this Regulation. (19) In order to ensure a high degree of uniformity based on high protection standards as regards procedures for international protection, reception conditions and the assessment of protection needs across the Union, the Agency should organise and coordinate activities that promote the correct and effective implementation of Union law on asylum through tools of a non-binding nature. For that purpose, the Agency should develop operational standards, indicators and guidelines on asylum-related matters. The Agency should enable and promote the exchange of best practices among Member States. (20) The Agency, in close cooperation with the Commission and without prejudice to the Commission’s responsibility as guardian of the Treaties, should monitor the operational and technical application of the CEAS with the aim of preventing or identifying possible shortcomings in the asylum and reception systems of the Member States and of assessing their capacity and preparedness to manage situations of disproportionate pressure in order to enhance the efficiency of those systems (the ‘monitoring mechanism’). The monitoring mechanism should be comprehensive, and it should be possible to base the monitoring on information provided by the Member State concerned, the information analysis on the situation of asylum developed by the Agency, on-site visits, including short-notice visits, case sampling and information provided by intergovernmental organisations or bodies, in particular the UNHCR, and other relevant organisations on the basis of their expertise. The Executive Director should provide for the possibility for the Member State concerned to comment on the draft findings of a monitoring exercise carried out as part of the monitoring mechanism and, subsequently, on the draft recommendations. The Executive Director should draw up the draft recommendations in consultation with the Commission. After taking into account the comments of the Member State concerned, the Executive Director should submit to the Management Board the findings of the monitoring exercise and the draft recommendations, outlining the measures to be taken by the Member State concerned, including with the assistance of the Agency, as necessary, to address any shortcomings or issues of capacity and preparedness. The draft recommendations should specify the time limits within which those measures should be taken. The Management Board should adopt the recommendations. The Member State concerned should be able to request assistance from the Agency for the implementation of the recommendations and can request specific financial support from relevant Union financial instruments. (21) The monitoring exercise should take place in close collaboration with the Member State concerned, including as regards on-site visits and case sampling, where necessary. It is appropriate that case sampling consist of a selection of positive and negative decisions that cover a particular period of time and are relevant to the aspect of the CEAS that is being monitored. It is appropriate to base case sampling on objective indications, such as recognition rates. Case sampling is without prejudice to the competence of the Member States to decide on individual applications for international protection and is to be carried out in a manner that fully respects the principle of confidentiality. (22) In order to focus the monitoring exercise on particular elements of the CEAS, the Agency should have the possibility to monitor thematic or specific aspects of the CEAS. Where the Agency initiates a monitoring exercise on thematic or specific aspects of the CEAS, it should ensure that all Member States are subject to that thematic or specific monitoring. However, in order to avoid duplication of the Agency’s work, it would not be appropriate to subject a Member State to a monitoring exercise on thematic or specific aspects of the CEAS in a year during which the operational and technical application of all aspects of the CEAS of that Member State is being monitored. (23) Where the Member State concerned does not take the measures necessary to implement the recommendations adopted by the Management Board within the set time limit and, therefore, does not address the identified shortcomings in its asylum and reception systems or any issues of capacity and preparedness which result in serious consequences for the functioning of the CEAS, the Commission should, on the basis of its own assessment, adopt recommendations addressed to that Member State identifying the measures needed to remedy the situation, including, where necessary, specific measures to be taken by the Agency in support of that Member State. It should be possible for the Commission to organise on-site visits to the Member State concerned in order to verify the implementation of the recommendations. In its assessment, the Commission should consider the seriousness of the identified shortcomings in relation to their consequences for the functioning of the CEAS. Where, following the expiry of the time limit set in the recommendations, the Member State has not complied with the recommendations, the Commission should be able to make a proposal for a Council implementing act identifying measures to be taken by the Agency to support that Member State and requiring that Member State to cooperate with the Agency in the implementation of those measures. (24) When setting up teams of experts for carrying out the monitoring exercise, the Agency should invite an observer from the UNHCR. The absence of such an observer does not prevent the teams from performing their tasks. (25) To facilitate and improve the proper functioning of the CEAS and to assist Member States in implementing their obligations within the framework of the CEAS, the Agency should provide Member States with operational and technical assistance, in particular where their asylum and reception systems are subject to disproportionate pressure. Such assistance should be provided on the basis of an operational plan and through the deployment of asylum support teams. Asylum support teams should consist of experts from the Agency’s own staff, experts from Member States, experts seconded by Member States to the Agency or other experts not employed by the Agency with demonstrated relevant knowledge and experience in line with operational needs. It is important that the Agency only make use of such other experts not employed by it where it cannot otherwise ensure the proper and timely exercise of its tasks due to the lack of available experts from the Member States or the Agency’s own staff. (26) The asylum support teams should be able to support Member States with operational and technical measures, including by providing expertise relating to the identification and registration of third-country nationals, interpreting services and information on countries of origin and on the handling and management of asylum cases, by assisting national authorities competent for examining applications for international protection and by assisting with the relocation or transfer of applicants for or beneficiaries of international protection. Arrangements for asylum support teams should be governed by this Regulation in order to ensure that they can be deployed effectively. (27) Experts who participate in asylum support teams should complete the necessary training relevant to their duties and functions for their participation in operational activities. The Agency should, where necessary and in advance of or upon deployment, provide those experts with training specific to the operational and technical assistance provided in the Member State concerned (the ‘host Member State’). In order for experts participating in asylum support teams to be involved in facilitating the examination of applications for international protection, it is important that they demonstrate relevant experience of at least 1 year. (28) To ensure the availability of experts for asylum support teams and to ensure that they can be immediately deployed as necessary, the asylum reserve pool should be established. The asylum reserve pool should constitute a reserve of experts from Member States amounting to a minimum of 500 persons. (29) Where a Member State’s asylum and reception systems are subject to disproportionate pressure, the Agency should, at the request of that Member State or on its own initiative with the agreement of that Member State, be able to assist that Member State by means of a comprehensive set of measures, including the deployment of experts from the asylum reserve pool. (30) In order to address a situation in which the asylum or reception system of a Member State is rendered ineffective to the extent of having serious consequences for the functioning of the CEAS and is subject to disproportionate pressure that places an exceptionally heavy and urgent demand on that system and the Member State concerned does not take sufficient action to address that pressure, including by not requesting operational and technical assistance or by not agreeing to an initiative of the Agency for such assistance, or the Member State concerned does not comply with the Commission’s recommendations following a monitoring exercise, the Commission should be able to propose to the Council an implementing act identifying the measures to be taken by the Agency and requiring the Member State concerned to cooperate with the Agency in the implementation of those measures. The power to adopt such an implementing act should be conferred on the Council due to the potentially politically sensitive nature of the measures to be decided and the possible impact which such measures might have on the tasks of the national authorities. The Agency should be able to intervene, on the basis of that implementing act, in support of a Member State where its asylum or reception system is rendered ineffective to the extent of having serious consequences for the functioning of the CEAS. Such an intervention by the Agency is without prejudice to any infringement procedure initiated by the Commission. (31) To ensure that the asylum support teams, including experts deployed from the asylum reserve pool, are able to perform their tasks effectively with the means necessary, the Agency should be able to acquire or lease technical equipment. This should not, however, affect the obligation of host Member States to supply the facilities and equipment necessary for the Agency to be able to provide the required operational and technical assistance. Prior to acquiring or leasing equipment, the Agency should conduct a thorough needs and cost-benefit analysis. (32) For Member States that are faced with specific and disproportionate pressure on their asylum and reception systems due, in particular, to their geographic or demographic situation, the Agency should support solidarity measures within the Union and perform its tasks and obligations with regard to the relocation or transfer of applicants for or beneficiaries of international protection within the Union, while ensuring that advantage is not taken of asylum and reception systems. (33) Where a Member State faces specific and disproportionate migratory challenges at particular areas of the external borders, referred to as hotspot areas, it should be able to request that the Agency provide operational and technical assistance. In such cases, the Member State can rely on increased operational and technical reinforcement by migration management support teams composed of teams of experts from Member States deployed through the Agency, the European Border and Coast Guard Agency and the European Union Agency for Law Enforcement Cooperation (Europol), established by Regulation (EU) 2016/794 of the European Parliament and of the Council\\xa0(6), or other relevant Union bodies, offices and agencies, as well as experts from the Agency’s staff and the European Border and Coast Guard Agency with the aim of managing such challenges. It is appropriate that the Agency assist the Commission with coordination among the different Union bodies, offices and agencies on the ground. (34) In hotspot areas, the Member States cooperate, under the coordination of the Commission, with relevant Union bodies, offices and agencies. Union bodies, offices and agencies are to operate in accordance with their respective mandates and powers. The Commission, in cooperation with the relevant Union bodies, offices and agencies, is to ensure that activities in hotspot areas comply with relevant Union law. (35) For the purpose of fulfilling its mission and to the extent required for the accomplishment of its tasks, the Agency should cooperate with Union bodies, offices and agencies, in particular the bodies, offices and agencies in the field of justice and home affairs, in matters covered by this Regulation in the framework of working arrangements concluded in accordance with Union law and policy. Those working arrangements should receive the Commission’s prior approval. (36) It is important that the Agency cooperate with the European Migration Network, established by Council Decision 2008/381/EC\\xa0(7), to ensure synergies and avoid duplication of activities. (37) The Agency should cooperate with international organisations, in particular the UNHCR, in matters covered by this Regulation in the framework of working arrangements so as to benefit from their expertise and support. To that end, the roles of the UNHCR and other relevant international organisations should be fully recognised, and those organisations should be involved in the work of the Agency. Those working arrangements should receive the Commission’s prior approval. (38) The Agency should facilitate operational cooperation between Member States and third countries in matters related to its activities and to the extent necessary for the fulfilment of its tasks. The Agency should also be able to cooperate with the authorities of third countries in matters covered by this Regulation in the framework of working arrangements, which should receive the Commission’s prior approval. The Agency should act in accordance with the Union’s external policy, and it is appropriate that it integrate its external activities in broader strategic cooperation with third countries. It does not, under any circumstances, fall within the mandate of the Agency to formulate independent external policy. In their cooperation with third countries, the Agency and the Member States should respect the fundamental rights set out in the Charter of Fundamental Rights of the European Union (the ‘Charter’) and should comply with norms and standards which form part of Union law, including where the activities are carried out on the territory of third countries. (39) The Agency should be able to deploy experts from its own staff as liaison officers to relevant third countries to facilitate cooperation with third countries on asylum-related matters. Prior to the deployment of a liaison officer, the Agency should assess the human rights situation in the country concerned in order to ensure that that country complies with non-derogable human rights standards. (40) The Agency should maintain a close dialogue with civil society with a view to exchanging information and pooling knowledge in the field of asylum. The Agency should set up a Consultative Forum, which should constitute a mechanism for the exchange of information and the sharing of knowledge on asylum. The Consultative Forum should advise the Executive Director and the Management Board in matters covered by this Regulation. It is important that the composition and size of the Consultative Forum be determined with due regard to the efficiency of its activities, and that the Agency allocate adequate human and financial resources to the Consultative Forum. (41) This Regulation respects the fundamental rights and observes the principles recognised, in particular, by international and Union law, including the Charter. All activities of the Agency should be carried out in a manner that fully respects those fundamental rights and principles, in particular the right to asylum, the principle of non-refoulement, the right to respect for private and family life, including family reunification under Union law, the rights of the child, the right to protection of personal data and the right to an effective remedy and to a fair trial. The rights of the child and the special needs of persons in a vulnerable situation should always be taken into account. The Agency should therefore carry out its tasks with respect for the best interests of the child, in compliance with the United Nations Convention on the Rights of the Child, taking due account of the minor’s well-being and social development, safety and security considerations and the views of the minor in accordance with his or her age and maturity. (42) Where the operational and technical assistance provided by the Agency concerns persons in a vulnerable situation, that assistance should be adapted to the situation of those persons in accordance with the requirements laid down by Union and national law on asylum. (43) The Agency should adopt and implement a fundamental rights strategy to monitor and ensure the protection of fundamental rights. (44) An independent fundamental rights officer should be appointed to ensure that the Agency complies with fundamental rights in the course of its activities and to promote respect for fundamental rights within the Agency in accordance with the Charter, including by making a proposal for the Agency’s fundamental rights strategy and ensuring its implementation, and by handling complaints received by the Agency under the Agency’s complaints mechanism. To that end, it is important that the Agency provide the fundamental rights officer with adequate resources and staff corresponding to its mandate and size. (45) The Agency should establish a complaints mechanism under the responsibility of the fundamental rights officer. The aim of the complaints mechanism should be to ensure that fundamental rights are respected in all the activities of the Agency. The complaints mechanism should be an administrative mechanism. The fundamental rights officer should be responsible for handling complaints received by the Agency in accordance with the right to good administration. It is important that the complaints mechanism be effective, ensuring that complaints are properly followed up. The complaints mechanism is without prejudice to access to administrative and judicial remedies and does not constitute a requirement for seeking such remedies. The complaints mechanism should not constitute a mechanism for challenging any decision of a national authority on individual applications for international protection. It is essential that Member States conduct criminal investigations, where necessary. In order to increase transparency and accountability, the Agency should report on the complaints mechanism in its annual report on the situation of asylum in the Union. It is important that the Agency’s annual report on the situation of asylum in the Union cover, in particular, the number of complaints it has received, the types of fundamental rights violations involved, the operations concerned, where possible, and the follow-up measures taken by the Agency and Member States. (46) The Commission and the Member States should be represented on the Agency’s Management Board in order to exercise a policy and political oversight over its workings. The Management Board should give general orientation for the Agency’s activities and should ensure that the Agency performs its tasks. Where possible, it is advisable that the Management Board consist of the operational heads of the Member States’ asylum administrations or their representatives and that all parties represented in the Management Board make an effort to limit turnover of their representatives in order to ensure continuity of its work. The Management Board should be given the necessary powers, in particular to establish the budget, verify its execution, adopt the appropriate financial rules, establish transparent working procedures for decision-making by the Agency and appoint an Executive Director and Deputy Executive Director. It is appropriate that the Agency be governed and operate in line with the principles of the Common Approach on Union decentralised agencies adopted on 19\\xa0July 2012 by the European Parliament, the Council and the Commission. (47) The Agency should be independent as regards operational and technical matters, and it should enjoy legal, administrative and financial autonomy. To that end, it is necessary and appropriate that the Agency be an agency of the Union having legal personality and exercising the powers conferred upon it by this Regulation. (48) The Agency should report on its activities to the European Parliament and to the Council. (49) In order to guarantee its autonomy, the Agency should have its own budget, most of which should come from a contribution from the Union. The financing of the Agency will be subject to an agreement by the budgetary authority as set out in point 27 of the Interinstitutional Agreement of 16\\xa0December 2020 between the European Parliament, the Council of the European Union and the European Commission on budgetary discipline, on cooperation in budgetary matters and on sound financial management, as well as on new own resources, including a roadmap towards the introduction of new own resources\\xa0(8). The Union budgetary procedure should be applicable to the Union’s contribution and to any grant chargeable to the general budget of the Union. The Court of Auditors should audit the Agency’s accounts. (50) It is important that the consolidated annual report on the Agency’s activities set out the proportion of the expenditure for each of the Agency’s main activities. (51) Financial resources made available by the Agency in the form of grants, delegated agreements or contracts in accordance with this Regulation are not to result in double financing with other national, Union or international financial resources. (52) Commission Delegated Regulation (EU) 2019/715\\xa0(9) should apply to the Agency. (53) Regulation (EU, Euratom) No\\xa0883/2013 of the European Parliament and of the Council\\xa0(10) should apply without restriction to the Agency, which should accede to the Interinstitutional Agreement of 25\\xa0May 1999 between the European Parliament, the Council of the European Union and the Commission of the European Communities concerning internal investigations by the European Anti-Fraud Office (OLAF)\\xa0(11). (54) Regulation (EC) No\\xa01049/2001 of the European Parliament and of the Council\\xa0(12) should apply to the Agency. (55) Any processing of personal data by the Agency within the framework of this Regulation should be conducted in accordance with Regulation (EU) 2018/1725 of the European Parliament and of the Council\\xa0(13) and should respect the principles of necessity and proportionality. The Agency should only process personal data in order to perform its tasks relating to the provision of operational and technical assistance to Member States, to resettlement, to the facilitation of the exchange of information with Member States, the European Border and Coast Guard Agency, Europol or the European Union Agency for Criminal Justice Cooperation (Eurojust), established by Regulation (EU) 2018/1727 of the European Parliament and of the Council\\xa0(14), and to the analysis of information on the situation of asylum, for the purpose of carrying out case sampling for the purposes of the monitoring exercise and of potentially handling applications for international protection, in the framework of information obtained in the course of performing its tasks in migration management support teams at hotspot areas, and for administrative purposes. Any processing of personal data should be strictly limited to personal data necessary for those purposes and should respect the principle of proportionality. Any processing of retained personal data for purposes other than those set out in this Regulation should be prohibited. (56) Any personal data that the Agency processes, except those processed for administrative purposes, should be deleted after 30 days. A longer storage period is not necessary for the purposes for which the Agency processes personal data within the framework of this Regulation. (57) Personal data of a sensitive nature which are necessary for assessing whether a third-country national qualifies for international protection should only be processed for the purpose of facilitating the examination of an application for international protection, for the purpose of providing the necessary assistance in a procedure for international protection or for the purposes of resettlement. Such processing should be limited to what is strictly necessary for the purpose of conducting a complete assessment of an application for international protection in the interest of the applicant. (58) Regulation (EU) 2016/679 of the European Parliament and of the Council\\xa0(15) applies to the processing of personal data by the Member States carried out in the application of this Regulation unless such processing is carried out by competent authorities of the Member States for the purposes of the prevention, investigation, detection or prosecution of criminal offences or the execution of criminal penalties, including the safeguarding against and the prevention of threats to public security. (59) Directive (EU) 2016/680 of the European Parliament and of the Council\\xa0(16) applies to the processing of personal data by competent authorities of the Member States for the purposes of the prevention, investigation, detection or prosecution of criminal offences or the execution of criminal penalties, including the safeguarding against and the prevention of threats to public security, pursuant to this Regulation. (60) The rules set out in Regulation (EU) 2016/679 regarding the protection of the rights and freedoms of natural persons with regard to the processing of personal data, in particular their right to the protection of personal data which concerns them, should be specified in respect of the responsibility for the processing of the data, of safeguarding the rights of data subjects and of the supervision of data protection, in particular as far as certain sectors are concerned. (61) Since the objectives of this Regulation, namely to facilitate the implementation and improve the functioning of the CEAS, to strengthen practical cooperation and information exchange among Member States on asylum-related matters, to promote Union law on asylum and operational standards to ensure a high degree of uniformity as regards procedures for international protection, reception conditions and the assessment of protection needs across the Union, to monitor the operational and technical application of the CEAS, and to provide increased operational and technical assistance to Member States for the management of their asylum and reception systems, in particular to Member States subject to disproportionate pressure on their asylum and reception systems, cannot be sufficiently achieved by the Member States but can rather, by reason of the scale and effects of the action, be better achieved at Union level, the Union may adopt measures in accordance with the principle of subsidiarity as set out in Article\\xa05 of the Treaty on European Union (TEU). In accordance with the principle of proportionality, as set out in that Article, this Regulation does not go beyond what is necessary in order to achieve those objectives. (62) In accordance with Articles 1 and\\xa02 of Protocol No\\xa021 on the position of the United Kingdom and Ireland in respect of the area of freedom, security and justice, annexed to the TEU and to the TFEU, and without prejudice to Article\\xa04 of that Protocol, Ireland is not taking part in the adoption of this Regulation and is not bound by it or subject to its application. (63) In accordance with Articles 1 and\\xa02 of the Protocol No\\xa022 on the position of Denmark, annexed to the TEU and to the TFEU, Denmark is not taking part in the adoption of this Regulation and is not bound by it or subject to its application. (64) Taking into account the fact that Denmark has until now contributed to the practical cooperation between Member States within the area of asylum, the Agency should facilitate operational cooperation with Denmark. To that end, a representative of Denmark should be invited to participate in all the meetings of the Management Board, without the right to vote. (65) To fulfil its purpose, the Agency should be open to participation by countries which have concluded agreements with the Union by virtue of which they have adopted and apply Union law in the field covered by this Regulation, in particular Iceland, Liechtenstein, Norway and Switzerland. Consequently, and having regard to the fact that Liechtenstein, Norway and Switzerland participate in the activities of EASO on the basis of arrangements concluded by those countries with the Union concerning their participation in EASO, Iceland, Liechtenstein, Norway and Switzerland should be able to participate in the activities of the Agency and contribute to the practical cooperation between Member States and the Agency in accordance with the terms and conditions established by existing or new arrangements. To that end, representatives of Iceland, Liechtenstein, Norway and Switzerland should be allowed to participate in the meetings of the Management Board as observers. (66) This Regulation does not affect the competence of national asylum authorities to decide on individual applications for international protection. (67) This Regulation aims to amend and expand the provisions of Regulation (EU) No\\xa0439/2010. Since the amendments to be made are of substantial number and nature, that Regulation should, in the interests of clarity, be replaced in its entirety in relation to the Member States bound by this Regulation. The Agency, established by this Regulation, should replace and assume the functions of EASO, established by Regulation (EU) No\\xa0439/2010, which, as a consequence, should be repealed. With regard to the Member States bound by this Regulation references to the repealed Regulation should be construed as references to this Regulation. (68) The provisions of this Regulation on the monitoring mechanism for the operational and technical application of the CEAS are linked, inter alia, with the system for determining the Member State responsible for examining applications for international protection established by Regulation (EU) No\\xa0604/2013. Since the system as established by that Regulation might change, it is deemed necessary to defer the application of those provisions to a later date, namely 31\\xa0December 2023. Moreover, the provisions on the monitoring mechanism which relate to the adoption of recommendations addressed to the Member State concerned and the provisions on situations of disproportionate pressure or the ineffectiveness of the asylum and reception systems are more directly linked to, and affected by, the responsibility aspects of the system established by Regulation (EU) No\\xa0604/2013. Since that Regulation might be replaced by a new legal act currently under negotiation, and given the importance of the relevant aspects of such a new legal act, those provisions should only apply from the date on which that Regulation is replaced, unless that Regulation is replaced before 31\\xa0December 2023, in which case those provisions should apply from 31\\xa0December 2023. (69) The European Data Protection Supervisor was consulted in accordance with Article\\xa028(2) of Regulation (EC) No\\xa045/2001 of the European Parliament and of the Council\\xa0(17) and delivered an opinion on 21\\xa0September 2016\\xa0(18), HAVE ADOPTED THIS REGULATION: 1.\\xa0\\xa0\\xa0This Regulation establishes a European Union Agency for Asylum (the ‘Agency’). The Agency shall replace and succeed the European Asylum Support Office (EASO), established by Regulation (EU) No\\xa0439/2010. 2.\\xa0\\xa0\\xa0The Agency shall contribute to ensuring the efficient and uniform application of Union law on asylum in the Member States in a manner that fully respects fundamental rights. The Agency shall facilitate and support the activities of the Member States in the implementation of the Common European Asylum System (CEAS), including by enabling convergence in the assessment of applications for international protection across the Union and by coordinating and strengthening practical cooperation and information exchange. The Agency shall improve the functioning of the CEAS, including through the monitoring mechanism referred to in Article\\xa014 and by providing operational and technical assistance to Member States, in particular where their asylum and reception systems are under disproportionate pressure. 3.\\xa0\\xa0\\xa0The Agency shall be a centre of expertise by virtue of its independence, the scientific and technical quality of the assistance it provides and the information it collects and disseminates, the transparency of its operating procedures and methods, its diligence in performing the tasks assigned to it, and the information technology support needed to fulfil its mandate. 1.\\xa0\\xa0\\xa0For the purposes of Article\\xa01, the Agency shall perform the following tasks: (a) facilitate, coordinate and strengthen practical cooperation and information exchange among Member States on their asylum and reception systems; (b) gather and analyse information of a qualitative and quantitative nature on the situation of asylum and on the implementation of the CEAS; (c) support Member States when carrying out their tasks and obligations in the framework of the CEAS; (d) assist Member States as regards training and, where appropriate, provide training to Member States’ experts from all national administrations, courts and tribunals, and national authorities responsible for asylum matters, including through the development of a European asylum curriculum; (e) draw up and regularly update reports and other documents providing information on the situation in relevant third countries, including countries of origin, at Union level; (f) set up and coordinate European networks on third-country information; (g) organise activities and coordinate efforts among Member States to develop common analysis on the situation in countries of origin and guidance notes; (h) provide information and analysis on third countries regarding the concept of safe country of origin and the concept of safe third country (the ‘safe country concepts’); (i) provide effective operational and technical assistance to Member States, in particular when their asylum and reception systems are subject to disproportionate pressure; (j) provide adequate support to Member States in carrying out their tasks and obligations under Regulation (EU) No\\xa0604/2013; (k) assist with the relocation or transfer of applicants for or beneficiaries of international protection within the Union; (l) set up and deploy asylum support teams; (m) set up an asylum reserve pool in accordance with Article\\xa019(6) (the ‘asylum reserve pool’); (n) acquire and deploy the necessary technical equipment for asylum support teams and deploy experts from the asylum reserve pool; (o) develop operational standards, indicators, guidelines and best practices in regard to the implementation of Union law on asylum; (p) deploy liaison officers to Member States; (q) monitor the operational and technical application of the CEAS with a view to assisting Member States to enhance the efficiency of their asylum and reception systems; (r) support Member States in their cooperation with third countries in matters related to the external dimension of the CEAS, including through the deployment of liaison officers to third countries; (s) assist Member States with their actions on resettlement. 2.\\xa0\\xa0\\xa0The Agency shall, on its own initiative, engage in communication activities in the fields within its mandate. It shall provide the public with accurate and comprehensive information about its activities. The Agency shall not engage in communication activities that are detrimental to the tasks referred to in paragraph 1 of this Article. Communication activities shall be carried out without prejudice to Article\\xa065 and in accordance with the relevant communication and dissemination plans adopted by the Management Board. Each Member State shall appoint at least one national contact point for communication with the Agency on matters relating to the tasks referred to in Article\\xa02. 1.\\xa0\\xa0\\xa0The Agency and the national authorities responsible for asylum and immigration and other relevant services shall cooperate in good faith. 2.\\xa0\\xa0\\xa0In order to perform the tasks and obligations conferred on them by this Regulation, in particular for the Agency to carry out the tasks referred to in Article\\xa02, the Agency and the national authorities responsible for asylum and immigration and other relevant services shall exchange all necessary information in a timely and accurate manner. 3.\\xa0\\xa0\\xa0The Agency shall work closely with the national authorities responsible for asylum and immigration and other relevant services and with the Commission. The Agency shall carry out its tasks without prejudice to those assigned to other relevant Union bodies, offices and agencies. The Agency shall cooperate with those bodies, offices and agencies, intergovernmental organisations, in particular the United Nations High Commissioner for Refugees (UNHCR), and other relevant organisations as provided for in this Regulation. 4.\\xa0\\xa0\\xa0The Agency shall organise, promote and coordinate activities enabling the exchange of information among Member States, including through the establishment of networks, as appropriate. 5.\\xa0\\xa0\\xa0Where, after calling upon a Member State to provide the Agency with the information necessary for it to perform its tasks in accordance with this Regulation, the Executive Director establishes that the Member State concerned has systematically failed to do so, he or she shall report that fact to the Management Board and to the Commission. 1.\\xa0\\xa0\\xa0The Agency shall gather and analyse information on the situation of asylum in the Union and in third countries insofar as it might have an impact on the Union, including up-to-date information on root causes, migratory and refugee flows, the presence of unaccompanied minors, the overall reception capacity and resettlement needs of third countries, and possible arrivals of large numbers of third-country nationals which might subject the Member States’ asylum and reception systems to disproportionate pressure, with a view to providing timely and reliable information to the Member States and to identifying possible risks to the Member States’ asylum and reception systems. For the purpose set out in the first subparagraph of this paragraph, the Agency shall work in close collaboration with the European Border and Coast Guard Agency and shall, as appropriate, take into account the risk analysis carried out by the European Border and Coast Guard Agency under Article\\xa029 of Regulation (EU) 2019/1896 so as to ensure the highest level of consistency and convergence in the information provided by the Agency and the European Border and Coast Guard Agency. 2.\\xa0\\xa0\\xa0The Agency shall base its analysis on information provided, in particular, by Member States, relevant Union institutions, bodies, offices and agencies, the European External Action Service (EEAS) and the UNHCR, in particular the UNHCR Global Resettlement Needs reports. The Agency may also take into account information available from relevant organisations on the basis of their expertise. 3.\\xa0\\xa0\\xa0The Agency shall ensure the rapid exchange of relevant information among Member States and with the Commission. It shall also submit, in a timely and accurate manner, the results of its analysis to the Management Board. The Agency shall report on its analysis to the European Parliament twice a year. 1.\\xa0\\xa0\\xa0The Agency shall organise, coordinate and promote the exchange of information among the Member States and between the Commission and the Member States concerning the implementation of Union law on asylum. 2.\\xa0\\xa0\\xa0The Agency shall create databases and web portals on Union, national and international asylum instruments, making use, in particular, of existing arrangements. No personal data shall be stored in those databases or published on those web portals, unless such data has been obtained by the Agency from sources that are publicly accessible. 3.\\xa0\\xa0\\xa0The databases and web portals referred to in paragraph 2 shall have publicly accessible parts which shall contain the following: (a) statistics on applications for international protection and on decisions taken by national authorities responsible for asylum matters; (b) information on national law and legal developments in the field of asylum, including case law; (c) information on relevant case law of the Court of Justice of the European Union (the ‘CJEU’) and of the European Court of Human Rights. 1.\\xa0\\xa0\\xa0The Executive Director shall appoint experts from the Agency’s staff to be deployed as liaison officers in Member States. 2.\\xa0\\xa0\\xa0The Executive Director shall, in consultation with the Member States concerned, make a proposal on the nature and terms of the deployment and on the Member State or region to which a liaison officer may be deployed. The Executive Director may decide that a liaison officer covers up to four Member States which are geographically close to each other. The proposal from the Executive Director shall be subject to approval by the Management Board. 3.\\xa0\\xa0\\xa0The Executive Director shall notify the Member State concerned of the appointment of liaison officers and shall determine, together with that Member State, the location of deployment. 4.\\xa0\\xa0\\xa0Liaison officers shall act on behalf of the Agency and shall foster cooperation and dialogue between the Agency and the national authorities responsible for asylum and immigration and other relevant services. Liaison officers shall, in particular: (a) act as an interface between the Agency and national authorities responsible for asylum and immigration and other relevant services; (b) support the collection of information referred to in Article\\xa05 and any other information required by the Agency; (c) contribute to promoting the application of Union law on asylum, including with regard to respect for fundamental rights; (d) where requested, assist the Member States in preparing their contingency planning for measures to be taken to deal with possible disproportionate pressure on their asylum and reception systems; (e) facilitate communication between Member States and between the Member State concerned and the Agency, and share relevant information from the Agency with the Member State concerned, including information about ongoing assistance; (f) regularly provide reports to the Executive Director on the situation of asylum in the Member State concerned and its capacity to manage its asylum and reception systems effectively. Where the reports referred to in point (f) of the first subparagraph raise concerns about one or more aspects relevant for the Member State concerned, the Executive Director shall inform that Member State without delay. Those reports shall be taken into account for the purposes of the monitoring mechanism referred to in Article\\xa014 and shall be transmitted to the Member State concerned. 5.\\xa0\\xa0\\xa0For the purposes of paragraph 4, liaison officers shall stay in regular contact with the national authorities responsible for asylum and immigration and other relevant services, keeping a point of contact designated by the Member State concerned informed. 6.\\xa0\\xa0\\xa0In carrying out their duties, liaison officers shall take instructions only from the Agency. 1.\\xa0\\xa0\\xa0The Agency shall establish, develop and review training for members of its own staff and members of the staff of relevant national administrations, courts and tribunals, and of national authorities responsible for asylum and reception. 2.\\xa0\\xa0\\xa0The Agency shall develop training as referred to in paragraph 1 in close cooperation with Member States and, where appropriate, with the European Border and Coast Guard Agency, the European Union Agency for Fundamental Rights, established by Council Regulation (EC) No\\xa0168/2007\\xa0(19), and relevant training entities, academic institutions, judicial associations, training networks and organisations. 3.\\xa0\\xa0\\xa0The Agency shall develop a European asylum curriculum taking into account the existing cooperation within the Union in the field of asylum in order to promote best practices and high standards in the implementation of Union law on asylum. Member States shall develop appropriate training for their staff pursuant to their obligations under Union law on asylum on the basis of the European asylum curriculum and shall include core parts of that curriculum in that training. 4.\\xa0\\xa0\\xa0The training offered by the Agency shall be of high quality and shall identify key principles and best practices with a view to ensuring greater convergence of administrative methods, decisions and legal practices, while fully respecting the independence of national courts and tribunals. As part of the European asylum curriculum, the training offered by the Agency shall cover, in particular: (a) international and Union fundamental rights standards, in particular the provisions of the Charter of Fundamental Rights of the European Union (the ‘Charter’), as well as international and Union law on asylum, including specific legal issues and case law; (b) issues related to the determination of whether an applicant qualifies for international protection and the rights of beneficiaries of international protection; (c) issues related to the processing of applications for international protection; (d) interview techniques; (e) evidence assessment; (f) relevant case law of national courts, the CJEU and the European Court of Human Rights and other relevant developments in the field of asylum law; (g) issues related to fingerprint data, including data protection aspects, data quality and data security requirements; (h) the use of expert medical and legal reports in the procedure for international protection; (i) issues related to the production and use of information on third countries; (j) reception conditions; (k) issues related to minors, in particular unaccompanied minors, as regards the best interests of the child assessment, specific procedural safeguards such as respect of the child’s right to be heard and other child protection aspects, age assessment techniques, and reception conditions for children and families; (l) issues related to applicants in need of special procedural guarantees, applicants with special reception needs and other persons in a vulnerable situation, with particular attention to victims of torture, to victims of human trafficking and to related gender-sensitive issues; (m) issues related to interpretation and cultural mediation; (n) issues related to resettlement; (o) issues related to the handling of relocation procedures; (p) resilience and stress-management skills, in particular for staff in managerial positions. 5.\\xa0\\xa0\\xa0The Agency shall provide general, specific or thematic training as well as ad hoc training activities, including by using the ‘train the trainers’ methodology and e-learning. 6.\\xa0\\xa0\\xa0The Agency shall take the initiatives necessary to verify and, where appropriate, ensure that the experts, including experts not employed by it, who participate in asylum support teams have received the training relevant to their duties and functions that is necessary for their participation in the operational activities organised by the Agency. The Agency shall, where necessary and in advance of or upon deployment, provide the experts referred to in the first subparagraph with training which is specific to the operational and technical assistance provided in the Member State concerned (the ‘host Member State’). 7.\\xa0\\xa0\\xa0The Agency may organise training activities on the territory of a Member State or a third country in cooperation with that Member State or third country. 1.\\xa0\\xa0\\xa0The Agency shall be a centre for gathering relevant, reliable, objective, accurate and up-to date information on relevant third countries in a transparent and impartial manner, making use of relevant information, including child-specific and gender-specific information, and targeted information on persons belonging to vulnerable and minority groups. The Agency shall draw up and regularly update reports and other documents providing information on relevant third countries at Union level, including on thematic issues specific to relevant third countries. 2.\\xa0\\xa0\\xa0The Agency shall, in particular: (a) make use of all relevant sources of information, including information gathered from international organisations, in particular the UNHCR and other relevant organisations, including members of the Consultative Forum referred to in Article\\xa050, Union institutions, bodies, offices and agencies and the EEAS, and through the networks referred to in Article\\xa010 and fact-finding missions; (b) manage and further develop a web portal for gathering and sharing information on relevant third countries, which shall include a public section for general users and a restricted section for users who are employees of the national authorities responsible for asylum and immigration or any other body mandated by a Member State to carry out research on third-country information; (c) develop a common format and a common methodology including terms of reference, in accordance with the requirements of Union law on asylum, for developing reports and other documents with information on relevant third countries at Union level. 1.\\xa0\\xa0\\xa0The Agency shall ensure the coordination of national initiatives producing information on third countries by establishing and managing networks among Member States on third-country information. Such networks may, where appropriate and on a case-by-case basis, involve external experts with relevant expertise from the UNHCR or other relevant organisations. 2.\\xa0\\xa0\\xa0The purpose of the networks referred to in paragraph 1 shall be for Member States to, in particular: (a) exchange and update national reports, other documents and other relevant information on third countries, including on thematic issues; (b) submit queries to the Agency and assist in responding to queries related to specific questions of fact that might arise from applications for international protection, without prejudice to privacy rules, data protection rules and, as established in national law, confidentiality rules; (c) contribute to the development and update of Union-level documents providing information on relevant third countries. 1.\\xa0\\xa0\\xa0To foster convergence in applying the assessment criteria established in Directive 2011/95/EU of the European Parliament and of the Council\\xa0(20), the Agency shall coordinate efforts among Member States to develop a common analysis on the situation in specific countries of origin (the ‘common analysis’) and guidance notes to assist Member States in the assessment of relevant applications for international protection. In the development of the common analysis and guidance notes, the Agency shall take note of the most recent UNHCR Eligibility Guidelines for Assessing the International Protection Needs of Asylum-Seekers from specific countries of origin. 2.\\xa0\\xa0\\xa0The Executive Director shall, after consulting the Commission, submit guidance notes to the Management Board for endorsement. Guidance notes shall be accompanied by the common analysis. 3.\\xa0\\xa0\\xa0Member States shall take into account the common analysis and guidance notes when examining applications for international protection, without prejudice to their competence to decide on individual applications for international protection. 4.\\xa0\\xa0\\xa0The Agency shall ensure that the common analysis and guidance notes are regularly reviewed and are updated as necessary. Such a review and update shall be carried out where there is a change in the situation in a country of origin or where there are objective indications that the common analysis and guidance notes are not being used. Any review or update of the common analysis and guidance notes shall require consultation of the Commission and endorsement by the Management Board as referred to in paragraph 2. 5.\\xa0\\xa0\\xa0Member States shall submit to the Agency any relevant information indicating that a review or an update of the common analysis and guidance notes is necessary. 1.\\xa0\\xa0\\xa0The Agency may assist the Member States in applying the safe country concepts in accordance with Directive 2013/32/EU of the European Parliament and of the Council\\xa0(21) by providing information and analysis. 2.\\xa0\\xa0\\xa0The Agency shall assist the Commission in the context of its tasks regarding the safe country concepts in accordance with Directive 2013/32/EU by providing information and analysis. 3.\\xa0\\xa0\\xa0When providing the information and analysis under paragraphs 1 and\\xa02 of this Article, the Agency shall follow the general principles provided for in Article\\xa09. 4.\\xa0\\xa0\\xa0The Agency shall submit the information and analyses it provides under paragraphs 1 and\\xa02 to the European Parliament and to the Council, both on a regular basis and upon request. 1.\\xa0\\xa0\\xa0The Agency shall organise and coordinate activities promoting a correct and effective implementation of Union law on asylum, including through the development of operational standards, indicators, guidelines or best practices on asylum-related matters, and the exchange of best practices in asylum-related matters among Member States. 2.\\xa0\\xa0\\xa0The Agency shall, on its own initiative or at the request of the Management Board or the Commission, develop operational standards, indicators, guidelines and best practices related to the implementation of Union law on asylum. 3.\\xa0\\xa0\\xa0In the development of the operational standards, indicators, guidelines and best practices referred to in paragraph 2, the Agency shall consult the Commission, the Member States and, where appropriate, the UNHCR. The Agency may also, based on relevant expertise, consult intergovernmental or other organisations as well as judicial associations and expert networks. 4.\\xa0\\xa0\\xa0The Management Board shall adopt the operational standards, indicators, guidelines and best practices referred to in paragraph 2. After their adoption, the Agency shall communicate those operational standards, indicators, guidelines and best practices to the Member States and to the Commission. 5.\\xa0\\xa0\\xa0The Agency shall assist Member States, at their request, in applying the operational standards, indicators, guidelines and best practices referred to in paragraph 2 to their asylum and reception systems by providing the necessary expertise or operational and technical assistance. 6.\\xa0\\xa0\\xa0The Agency shall take into account the operational standards, indicators, guidelines and best practices referred to in paragraph 2 of this Article for the purposes of the monitoring mechanism referred to in Article\\xa014. 1.\\xa0\\xa0\\xa0The Agency, in close cooperation with the Commission, shall establish a monitoring mechanism for the purpose of monitoring the operational and technical application of the CEAS in order to prevent or identify possible shortcomings in the asylum and reception systems of Member States and to assess their capacity and preparedness to manage situations of disproportionate pressure so as to enhance the efficiency of those systems. 2.\\xa0\\xa0\\xa0The Management Board shall, on a proposal of the Executive Director and in consultation with the Commission, establish a common methodology for the monitoring mechanism set out in this Chapter. The common methodology shall include objective criteria against which the monitoring shall be carried out, a description of the methods, processes and tools for the monitoring mechanism such as practical arrangements for on-site visits, including short-notice visits, and rules and principles for the establishment of teams of experts. 3.\\xa0\\xa0\\xa0The monitoring shall cover the operational and technical application of all aspects of the CEAS, in particular: (a) the system for determining the Member State responsible for examining applications for international protection established by Regulation (EU) No\\xa0604/2013, procedures for international protection, the application of criteria for assessing the need for protection and the type of protection granted, including as regards respect for fundamental rights, child protection safeguards and the specific needs of persons in a vulnerable situation; (b) the availability and capacity of staff in terms of translation and interpretation and the capacity of staff to handle and manage asylum cases efficiently, including handling appeals, without prejudice to judicial independence and with full respect for the organisation of the judiciary of each Member State; (c) reception conditions, capacity, infrastructure and equipment and, to the extent possible, financial resources for reception. 4.\\xa0\\xa0\\xa0The monitoring may be carried out, in particular, on the basis of the information provided by the Member State concerned, the information analysis on the situation of asylum referred to in Article\\xa05 and case sampling. The Agency may take into account information available from relevant intergovernmental organisations or bodies, in particular the UNHCR, and other relevant organisations on the basis of their expertise. 5.\\xa0\\xa0\\xa0The Agency may carry out on-site visits for the purposes of the monitoring exercise. The Agency shall carry out short-notice visits only for the purposes of Article\\xa015(2). 6.\\xa0\\xa0\\xa0Member States shall, at the request of the Agency, provide it with information on the aspects of the CEAS referred to in paragraph 3. Member States shall, at the request of the Agency, provide it with information on their contingency planning for measures to be taken to deal with possible disproportionate pressure on their asylum or reception system. The Agency shall, with the agreement of the Member State concerned, assist Member States in preparing and reviewing their contingency planning. 7.\\xa0\\xa0\\xa0The Member States shall cooperate with the Agency, including by facilitating any on-site visit carried out for the purposes of the monitoring exercise. The Executive Director shall notify the Member States concerned sufficiently in advance of any such visit. In the case of short-notice visits, the Executive Director shall notify the Member State concerned 72 hours in advance. 1.\\xa0\\xa0\\xa0The Management Board shall, on the basis of a proposal of the Executive Director and in consultation with the Commission, adopt a programme for the purposes of the monitoring mechanism referred to in Article\\xa014 (the ‘monitoring programme’), which shall cover: (a) the operational and technical application of all aspects of the CEAS in each Member State; and (b) thematic or specific aspects of the CEAS with regard to all Member States. The monitoring programme shall indicate which Member States’ asylum and reception systems are to be monitored in a particular year. The monitoring programme shall ensure that each Member State is monitored at least once in every 5-year period. 2.\\xa0\\xa0\\xa0Where the information analysis on the situation of asylum referred to in Article\\xa05 raises serious concerns regarding the functioning of a Member State’s asylum or reception system, the Agency shall initiate a monitoring exercise either on its own initiative in consultation with the Commission or at the request of the Commission. 3.\\xa0\\xa0\\xa0The Executive Director shall send the findings of a monitoring exercise to the Member State concerned for comments, including, as appropriate, indications of its needs. Member States shall have 1 month from the date of receipt of the findings to submit comments. 4.\\xa0\\xa0\\xa0The Executive Director shall, on the basis of the findings referred to in paragraph 3 and taking into account the comments of the Member State concerned, and in consultation with the Commission, draw up draft recommendations. The draft recommendations shall outline the measures to be taken by the Member State concerned, including with the assistance of the Agency, as necessary, and a time limit by which any necessary measures need to be taken by the Member State concerned to address the shortcomings or issues of capacity and preparedness identified in the monitoring exercise. The Executive Director shall send the draft recommendations to the Member State concerned. The Member State concerned shall have 1 month from the date of receipt of the draft recommendations to submit comments thereon. In the cases referred to in paragraph 2, the Member State concerned shall submit its comments within 15 days. After taking into account the comments of the Member State concerned, the Executive Director shall submit the findings and draft recommendations to the Management Board. The Management Board shall, by a decision of two-thirds of its members with the right to vote, adopt the recommendations. The Agency shall transmit the recommendations to the European Parliament. The Agency shall inform the Commission about the implementation of the recommendations. 5.\\xa0\\xa0\\xa0Where a Member State does not implement the measures outlined in the recommendations of the Agency referred to in paragraph 4 within the set time limit, resulting in serious consequences for the functioning of the CEAS, the Commission shall, on the basis of its own assessment, adopt recommendations addressed to that Member State identifying the measures needed to remedy the shortcomings and, where necessary, specific measures to be taken by the Agency to support that Member State. 6.\\xa0\\xa0\\xa0The Commission may, taking into account the seriousness of the shortcomings, organise on-site visits to the Member State concerned. The Commission shall notify the Member State concerned sufficiently in advance of any such visit. 7.\\xa0\\xa0\\xa0The Member State concerned shall report to the Commission on the implementation of the recommendations referred to in paragraph 5 of this Article within the time limit set in those recommendations. Where, after that time limit, the Member State concerned has not complied with those recommendations, the Commission may make a proposal for a Council implementing act in accordance with Article\\xa022(1). 8.\\xa0\\xa0\\xa0The Commission shall inform the European Parliament and the Council of any follow-up to a monitoring exercise that it carries out. The Commission shall transmit the recommendations referred to in paragraph 5 to the European Parliament and to the Council, and shall inform them on a regular basis about the progress made by the Member State concerned in the implementation of those recommendations. 1.\\xa0\\xa0\\xa0The Agency shall provide operational and technical assistance to a Member State in accordance with this Chapter: (a) at the request of the Member State with regard to the implementation of its obligations under the CEAS; (b) at the request of the Member State where its asylum or reception system is subject to disproportionate pressure; (c) where the Member State faces disproportionate migratory challenges and requests operational and technical reinforcement through the deployment of migration management support teams in accordance with Article\\xa021; (d) on its own initiative with the agreement of the Member State where the Member State’s asylum or reception system is subject to disproportionate pressure; (e) where it provides operational and technical assistance in accordance with Article\\xa022. 2.\\xa0\\xa0\\xa0The Agency shall organise and coordinate the appropriate operational and technical assistance, which may entail taking one or more of the following operational and technical measures in a manner that fully respects fundamental rights: (a) assist Member States with the identification and registration of third-country nationals, as appropriate, in close cooperation with other Union bodies, offices and agencies; (b) assist Member States with receiving and registering applications for international protection; (c) facilitate the examination by the competent national authorities of applications for international protection or provide those authorities with the necessary assistance in the procedure for international protection; (d) facilitate joint initiatives of Member States for the processing of applications for international protection; (e) assist with the provision of information on the procedure for international protection; (f) advise on, assist with or coordinate the setting up or the provision of reception facilities by Member States, in particular emergency accommodation, transport and medical assistance; (g) provide adequate support to Member States in carrying out their tasks and obligations under Regulation (EU) No\\xa0604/2013; (h) assist with the relocation or transfer of applicants for or beneficiaries of international protection within the Union; (i) provide interpretation services; (j) assist Member States in ensuring that all the necessary safeguards with respect to the rights of the child and child protection are in place, in particular as regards unaccompanied minors; (k) assist Member States in identifying applicants in need of special procedural guarantees or applicants with special reception needs, or other persons in a vulnerable situation, including minors, in referring those persons to the competent national authorities for appropriate assistance on the basis of national measures and in ensuring that all the necessary safeguards for those persons are in place; (l) form part of the migration management support teams at hotspot areas referred to in Regulation (EU) 2019/1896 in close cooperation with other relevant Union bodies, offices and agencies; (m) deploy asylum support teams; (n) deploy technical equipment for asylum support teams, as appropriate. 3.\\xa0\\xa0\\xa0The Agency shall finance or co-finance the operational and technical measures set out in paragraph 2 from its budget in accordance with the financial rules applicable to the Agency. 4.\\xa0\\xa0\\xa0The Executive Director shall evaluate the result of the operational and technical measures set out in paragraph 2 of this Article. Within 60 days of the end of the provision of those measures, the Executive Director shall transmit to the Management Board detailed evaluation reports, together with the observations of the fundamental rights officer, in accordance with the reporting and evaluation scheme provided for in operational plans as referred to in Article\\xa018(2), point (k). The Agency shall make a comprehensive comparative analysis of those results, which shall be included in the annual report on the situation of asylum in the Union referred to in Article\\xa069. 1.\\xa0\\xa0\\xa0Member States shall address requests for assistance under Article\\xa016(1), point (a), (b) or (c), to the Executive Director. Such requests shall describe the situation and the purpose of the request and shall be accompanied by a detailed assessment of needs and, as appropriate, a description of the measures already taken at national level. 2.\\xa0\\xa0\\xa0Where a Member State agrees to the assistance proposed on the initiative of the Agency under Article\\xa016(1), point (d), the Member State concerned shall submit to the Agency a detailed assessment of needs and, as appropriate, a description of the measures already taken at national level. 3.\\xa0\\xa0\\xa0The Executive Director shall evaluate, approve and coordinate requests for assistance, including the deployment of asylum support teams. The Executive Director shall immediately notify the Management Board of the receipt of a request for assistance under Article\\xa016(1), point (a), (b) or (c), or of a proposal by the Agency to provide assistance on its own initiative under Article\\xa016(1), point (d). The Executive Director shall examine the detailed assessment of needs submitted by the Member State concerned under paragraph 1 or 2 of this Article. 4.\\xa0\\xa0\\xa0The Agency shall subject each request for assistance under Article\\xa016(1), point (a), (b) or (c), and proposal to provide assistance on its own initiative under Article\\xa016(1), point (d), to a thorough and reliable assessment, enabling it to identify and propose one or more of the measures referred to in Article\\xa016(2) in order to meet the needs of the Member State concerned. Where necessary, the Executive Director may send experts from the Agency to assess the situation of the Member State requiring assistance. 5.\\xa0\\xa0\\xa0The Executive Director shall take a decision on the provision of operational and technical assistance, including on the deployment of asylum support teams: (a) within 3 working days of the date of receipt of a request under Article\\xa016(1), point (a), (b) or (c); or (b) within 3 working days of the date on which the Member State concerned provides its agreement to a proposal of the Agency to provide assistance on its own initiative under Article\\xa016(1), point (d). Where the Executive Director sends experts to the Member State concerned under paragraph 4, the Executive Director shall take a decision as referred to in the first subparagraph within 5 working days of the date referred to in point (a) or (b), as appropriate. At the same time as taking a decision under the first subparagraph, the Executive Director shall notify the Member State concerned and the Management Board of his or her decision in writing stating the main reasons on which the decision is based. 1.\\xa0\\xa0\\xa0Where operational and technical assistance is to be provided, the Executive Director shall draw up an operational plan in cooperation with the host Member State. The Executive Director and the host Member State shall agree on the operational plan: (a) within 10 working days of the date on which a decision as referred to in Article\\xa017(5) is taken in the case of a request for assistance under Article\\xa016(1), point (a); (b) within 5 working days of the date on which a decision as referred to in Article\\xa017(5) is taken in the case of a request for assistance under Article\\xa016(1), point (b); or (c) within 5 working days of the date on which the Member State provides its agreement to a proposal by the Agency to provide assistance on its own initiative under Article\\xa016(1), point (d). The Agency shall consult participating Member States, where necessary, on the operational plan through the national contact points referred to in Article\\xa024. 2.\\xa0\\xa0\\xa0An operational plan shall be binding on the Agency, the host Member State and the participating Member States. It shall set out in detail the conditions for the deployment of asylum support teams within the framework of the operational and technical assistance to be provided and organisational aspects, including the following: (a) a description of the situation, and the modus operandi and objectives of the deployment of the asylum support teams, including the operational objective; (b) the foreseeable duration of the deployment of the asylum support teams; (c) the location in the host Member State to which the asylum support teams are to be deployed; (d) logistical arrangements, including information on working conditions, for the asylum support teams; (e) a detailed and clear description of the tasks and responsibilities of the asylum support teams, including with regard to fundamental rights; (f) instructions for the asylum support teams, including as regards the national and European databases that they are authorised to consult and the equipment that they may use or carry in the host Member State; (g) the composition of the asylum support teams in terms of profiles and number of experts; (h) technical equipment, including specific provisions such as conditions of use, transport and other logistics and financial provisions; (i) capacity-building activities related to the operational and technical assistance being provided; (j) regarding assistance with applications for international protection, including regarding the examination of such applications, and without prejudice to the competence of Member States to decide on individual applications for international protection, specific information on the tasks that the asylum support teams may perform and a clear description of their responsibilities and of the applicable Union, national and international law, including the liability regime; (k) a reporting and evaluation scheme containing benchmarks for an evaluation report and the date of submission of the final evaluation report; (l) where appropriate, the conditions for cooperation with third countries, other Union bodies, offices and agencies, or international organisations within their respective mandates; (m) measures for referring persons in need of international protection, victims of trafficking in human beings, minors and any other persons in a vulnerable situation to the competent national authorities for appropriate assistance; (n) practical arrangements related to the complaints mechanism referred to in Article\\xa051. 3.\\xa0\\xa0\\xa0In Member States where the UNHCR operates and has the capacity to contribute to responding to a request for operational and technical assistance under Article\\xa016(1), the Agency shall coordinate with the UNHCR as regards the implementation of the operational plan, where appropriate and with the agreement of the Member State concerned. 4.\\xa0\\xa0\\xa0As regards paragraph 2, point (f), the host Member State shall authorise experts participating in asylum support teams to consult European databases, and it may authorise them to consult its national databases in accordance with relevant Union and national law on access to and consultation of those databases and as necessary to achieve the objectives and perform the tasks outlined in the operational plan. 5.\\xa0\\xa0\\xa0Any amendments to or adaptations of an operational plan shall require the agreement of the Executive Director and the host Member State, after consulting the participating Member States, where necessary. The Agency shall immediately send a copy of the amended or adapted operational plan to the national contact points of the participating Member States referred to in Article\\xa024. 6.\\xa0\\xa0\\xa0The Executive Director shall, after informing the host Member State, suspend or terminate, in whole or in part, the deployment of asylum support teams where: (a) the conditions for taking operational and technical measures as referred to in Article\\xa016(2) are no longer fulfilled; (b) the host Member State does not respect the operational plan; (c) after consulting the fundamental rights officer, the Executive Director considers that there are violations of fundamental rights or international protection obligations by the host Member State that are of a serious nature or are likely to persist. 1.\\xa0\\xa0\\xa0The Executive Director shall determine the composition of each asylum support team. Asylum support teams shall consist of: (a) experts from the Agency’s own staff; (b) experts from Member States; (c) experts seconded by Member States to the Agency; or (d) other experts not employed by the Agency. When determining the composition of an asylum support team, the Executive Director shall take into account the particular circumstances of the Member State concerned. An asylum support team shall be constituted in accordance with the relevant operational plan. 2.\\xa0\\xa0\\xa0On a proposal of the Executive Director, the Management Board shall decide on the profiles and the overall number of experts to be made available for an asylum support team. The same procedure shall apply to any subsequent changes in the profiles and the overall number of experts. 3.\\xa0\\xa0\\xa0Member States shall contribute to asylum support teams by nominating national experts who correspond to the required profiles as decided upon by the Management Board in accordance with paragraph 2. The number of experts to be made available by each Member State for the following year shall be established on the basis of annual bilateral negotiations and agreements between the Agency and the Member State concerned. In accordance with the agreements referred to in the first subparagraph, Member States shall make their own experts or experts they have seconded to the Agency available for deployment at the request of the Agency. However, where a Member State is faced with an exceptional situation substantially affecting the discharge of national tasks, it shall not be required to make those experts so available. 4.\\xa0\\xa0\\xa0The Agency shall contribute to asylum support teams with experts from its own staff, including experts employed and trained for field work and interpreters with at least basic training or proven experience who may be recruited in the host Member States, or with other experts not employed by the Agency with demonstrated relevant knowledge and experience in accordance with operational needs. 5.\\xa0\\xa0\\xa0As part of the asylum support teams, the Agency shall set up a list of interpreters. Member States shall assist the Agency in identifying interpreters for the list of interpreters, including individuals who do not form part of the national administration of Member States. Interpretation assistance may be provided through the deployment of interpreters in the Member State concerned or, where appropriate, via video-conferencing. 6.\\xa0\\xa0\\xa0An asylum reserve pool of a minimum of 500 experts shall be set up for the purposes of deploying asylum support teams in the framework of requests for assistance under Article\\xa016(1), point (b), proposals by the Agency to provide assistance on its own initiative under Article\\xa016(1), point (d), and assistance provided by the Agency under Article\\xa022. The asylum reserve pool shall constitute a reserve of experts placed at the immediate disposal of the Agency. For that purpose, each Member State shall make available to the asylum reserve pool the number of experts set out in Annex I. The Management Board shall, on a proposal of the Executive Director, decide by a majority of three-fourths of its members with the right to vote on the profiles of experts to be included in the asylum reserve pool. The same procedure shall apply to any subsequent changes to the profiles of experts. 7.\\xa0\\xa0\\xa0The Executive Director may verify whether the experts made available to the asylum reserve pool by Member States in accordance with paragraph 6 correspond to the profiles decided by the Management Board under that paragraph. In advance of deployment the Executive Director may request that a Member State remove an expert from the asylum reserve pool where that expert does not correspond to the required profile and replace him or her with an expert that corresponds to one of the required profiles. 8.\\xa0\\xa0\\xa0Without prejudice to Article\\xa022(5) and when faced with an exceptional situation substantially affecting the discharge of national tasks as evidenced by the information analysis on the situation of asylum referred to in Article\\xa05, a Member State may request the Management Board in writing to be temporarily exempted from its obligation to make experts available to the asylum reserve pool. Such a request shall provide comprehensive reasons and information on the situation in that Member State. The Management Board shall decide by a majority of three-fourths of its members with the right to vote whether to temporarily exempt that Member State from part of its contribution set out in Annex I. 1.\\xa0\\xa0\\xa0The Agency shall deploy asylum support teams to Member States to provide operational and technical assistance under Article\\xa016(1). 2.\\xa0\\xa0\\xa0As soon as an operational plan is agreed upon in accordance with Article\\xa018(1) or Article\\xa022(2), the Executive Director shall request the Member States to deploy their experts within 10 working days. The request shall be sent, in writing, together with a copy of the operational plan, to the national contact points referred to in Article\\xa024 and shall specify the scheduled date of deployment. 3.\\xa0\\xa0\\xa0The Executive Director shall deploy asylum support teams from the asylum reserve pool in the framework of a request for assistance under Article\\xa016(1), point (b), a proposal by the Agency to provide assistance on its own initiative under Article\\xa016(1), point (d), or assistance provided by the Agency under Article\\xa022. The deployment of experts from the asylum reserve pool shall take place within 7 working days from the date on which the operational plan is agreed in accordance with Article\\xa018(1) or Article\\xa022(2). 4.\\xa0\\xa0\\xa0Member States shall, without undue delay, make the experts from the asylum reserve pool available for deployment as determined by the Executive Director. The host Member State shall not deploy experts forming part of its fixed contribution to the asylum reserve pool. If there is a shortage of experts for deployment in the asylum reserve pool, the Management Board shall, on a proposal of the Executive Director, decide how that shortage is to be filled. The Executive Director shall inform the European Parliament, the Council and the Commission accordingly. 5.\\xa0\\xa0\\xa0The Member State from which the expert is deployed (the ‘home Member State’) shall determine the duration of deployment. The duration of deployment shall not be less than 45 days, unless the operational and technical assistance in question is required for a shorter duration. 6.\\xa0\\xa0\\xa0The Executive Director shall request that a Member State remove an expert from an asylum support team in the event of misconduct or an infringement of the applicable deployment rules. In such cases, the expert concerned shall not be considered for future deployments. 7.\\xa0\\xa0\\xa0The Agency shall inform the European Parliament by means of its annual report on the situation of asylum in the Union referred to in Article\\xa069 of the number of experts committed and deployed to the asylum support teams in accordance with this Article. That report shall list the Member States that have invoked the exceptional situation referred to in Article\\xa019(3) or (8) in the previous year. It shall also include the reasons for invoking the exceptional situation and the information provided by the Member State concerned. 1.\\xa0\\xa0\\xa0Where a Member State requests operational and technical reinforcement by migration management support teams under Article\\xa040 of Regulation (EU) 2019/1896 or where migration management support teams are deployed at hotspot areas under Article\\xa042 of that Regulation, the Executive Director shall work closely with the European Border and Coast Guard Agency when, as provided for in Article\\xa040(2) of that Regulation, he or she examines, in coordination with other relevant Union bodies, offices and agencies, a Member State’s request for reinforcement and the assessment of its needs for the purpose of defining a comprehensive reinforcement package consisting of various activities coordinated by the relevant Union bodies, offices and agencies to be agreed upon by the Member State concerned. 2.\\xa0\\xa0\\xa0The Commission shall, in cooperation with the host Member State and the relevant Union bodies, offices and agencies, establish the terms of cooperation at the hotspot area and be responsible for the coordination of the activities of the migration management support teams. 3.\\xa0\\xa0\\xa0The Executive Director shall, in the cases referred to in paragraph 1, launch the procedure for deployment of asylum support teams as part of migration management support teams, including experts from the asylum reserve pool as appropriate. The operational and technical reinforcement provided by the asylum support teams in the framework of the migration management support teams may include: (a) assistance in the screening of third-country nationals, including their identification, registration and, where requested by the host Member State, fingerprinting, and the provision of information on the purpose of those procedures; (b) the provision of initial information to third-country nationals who wish to make an application for international protection and the referral of those third-country nationals to the competent national authorities; (c) the provision of information to applicants for international protection on the procedure for international protection, on reception conditions as appropriate and on relocation, as well as the provision of necessary assistance to applicants or potential applicants that could be subject to relocation; (d) the registration of applications for international protection and, where requested by the host Member State, the facilitation of the examination of such applications. 1.\\xa0\\xa0\\xa0The Council, on the basis of a proposal from the Commission under Article\\xa015(7), may adopt without delay a decision by means of an implementing act, identifying one or more of the measures set out in Article\\xa016(2) to be taken by the Agency to support a Member State and requiring that Member State to cooperate with the Agency in the implementation of those measures, where the asylum or reception system of that Member State is rendered ineffective to the extent of having serious consequences for the functioning of the CEAS and where: (a) the asylum or reception system of that Member State is subject to disproportionate pressure that places an exceptionally heavy and urgent demand on that system and that Member State does not take sufficient action to address that pressure, including by not requesting operational and technical assistance under Article\\xa016(1), point (a), (b) or (c), or by not agreeing to a proposal of the Agency to provide such assistance on its own initiative under Article\\xa016(1), point (d); or (b) that Member State does not comply with recommendations of the Commission referred to in Article\\xa015(5). The Council shall transmit decisions as referred to in the first subparagraph to the European Parliament. 2.\\xa0\\xa0\\xa0The Executive Director shall, within 3 working days of the date of adoption of a Council decision as referred to in paragraph 1, determine the details of the practical implementation of that Council decision. In parallel, the Executive Director shall draw up an operational plan and submit it to the Member State concerned. The Executive Director and the Member State concerned shall agree on the operational plan within 3 working days of the date of its submission. 3.\\xa0\\xa0\\xa0The Agency shall deploy the necessary experts from the asylum reserve pool and experts from its own staff in accordance with Article\\xa020(3). The Agency may deploy additional asylum support teams as necessary. 4.\\xa0\\xa0\\xa0The Member State concerned shall comply with the Council decision referred to in paragraph 1. For that purpose, it shall cooperate with the Agency and immediately take the action necessary to facilitate the implementation of that decision and the practical execution of the measures set out in that decision and in the operational plan, without prejudice to its competence to decide on individual applications for international protection. 5.\\xa0\\xa0\\xa0For the purposes of this Article, the Member States shall make the experts from the asylum reserve pool available for deployment as determined by the Executive Director and shall not invoke the exceptional situation referred to in Article\\xa019(3) or (8). The host Member State shall not deploy experts forming part of its fixed contribution to the asylum reserve pool. 1.\\xa0\\xa0\\xa0Without prejudice to an obligation of the host Member State to supply the facilities and equipment necessary for the Agency to be able to provide the required operational and technical assistance, the Agency may deploy its own equipment to the host Member State, including at its request, to the extent that such equipment might be needed by asylum support teams and insofar as such equipment might complement equipment already made available by the host Member State or other Union bodies, offices and agencies. 2.\\xa0\\xa0\\xa0The Agency may acquire or lease technical equipment by decision of the Executive Director, in consultation with the Management Board. Any acquisition or leasing of technical equipment shall be preceded by a thorough needs and cost-benefit analysis. Any expenditure in connection with such acquisition or leasing shall be provided for in the Agency’s budget and in accordance with the financial rules applicable to the Agency. 3.\\xa0\\xa0\\xa0The Agency shall ensure the security of its own equipment throughout the life cycle of the equipment. Each Member State shall appoint a national contact point for communication with the Agency on all matters relating to operational and technical assistance as referred to in Articles 16 and\\xa022. 1.\\xa0\\xa0\\xa0The Agency shall ensure the operational implementation of all organisational aspects, including the presence of staff members of the Agency, related to the deployment of asylum support teams throughout the provision of operational and technical assistance under Article\\xa016 or 22. 2.\\xa0\\xa0\\xa0The Executive Director shall appoint one or more experts from the Agency’s staff to act or to be deployed as a coordinating officer for the purposes of paragraph 1. The Executive Director shall notify the host Member State of such appointments. 3.\\xa0\\xa0\\xa0The coordinating officer shall foster cooperation and coordination between the host Member State and the participating Member States. In particular, the coordinating officer shall: (a) act as an interface between the Agency, the host Member State and experts participating in asylum support teams, providing assistance, on behalf of the Agency, on all issues relating to the experts’ conditions of deployment; (b) monitor the correct implementation of the operational plan; (c) act on behalf of the Agency as regards all aspects of the deployment of asylum support teams and report to the Agency on all those aspects; (d) report to the Executive Director where the operational plan is not adequately implemented. 4.\\xa0\\xa0\\xa0The Executive Director may authorise the coordinating officer to assist in resolving any disputes concerning the implementation of the operational plan and the deployment of asylum support teams. 5.\\xa0\\xa0\\xa0In discharging his or her duties, the coordinating officer shall work in close cooperation with the competent national authorities and shall take instructions only from the Executive Director. 1.\\xa0\\xa0\\xa0The host Member State shall be liable in accordance with its national law for any damage caused by experts participating in an asylum support team operating on its territory during their operations. 2.\\xa0\\xa0\\xa0Where such damage is caused by gross negligence or wilful misconduct on the part of experts participating in an asylum support team, the host Member State may request the home Member State or the Agency to reimburse it for any sums that it has paid to injured parties or persons entitled to receive such sums on their behalf. 3.\\xa0\\xa0\\xa0Without prejudice to the exercise of its rights vis-à-vis third parties, each Member State shall waive all its claims against the host Member State or any other Member State for any damage it has sustained, except in cases of gross negligence or wilful misconduct. 4.\\xa0\\xa0\\xa0Any dispute between Member States or between a Member State and the Agency relating to the application of paragraphs 2 and\\xa03 of this Article which cannot be resolved by negotiations between them shall be submitted by them to the CJEU in accordance with Article\\xa0273 TFEU. 5.\\xa0\\xa0\\xa0Without prejudice to the exercise of its rights vis-à-vis third parties, the Agency shall bear the costs of damage to its equipment during deployment, except in cases of gross negligence or wilful misconduct. During the deployment of an asylum support team, the deployed experts shall be treated in the same way as officials of the host Member State with regard to any criminal offences that might be committed against them or by them. 1.\\xa0\\xa0\\xa0The Agency shall bear the costs incurred by experts participating in asylum support teams, in particular: (a) costs related to travel from the home Member State to the host Member State, travel from the host Member State to the home Member State and travel within the host Member State for the purposes of deployment; (b) costs related to vaccinations; (c) costs related to special insurance needs; (d) costs related to health care; (e) daily subsistence allowances, including accommodation costs; (f) costs related to the Agency’s technical equipment; (g) experts’ fees; (h) transportation costs, including car rental costs and all related costs such as insurance, fuel and tolls; (i) telecommunication costs. 2.\\xa0\\xa0\\xa0The Management Board shall establish detailed rules and update them as necessary as regards the payment of costs incurred by experts in accordance with paragraph 1. 1.\\xa0\\xa0\\xa0The Agency shall facilitate the exchange of information relevant to its tasks with the Commission, the Member States and, where appropriate, the relevant Union bodies, offices and agencies. 2.\\xa0\\xa0\\xa0The Agency shall, in cooperation with the European Union Agency for the Operational Management of Large-Scale IT Systems in the Area of Freedom, Security and Justice (eu-LISA), established by Regulation (EU) 2018/1726 of the European Parliament and of the Council\\xa0(22), develop and operate an information system capable of exchanging classified information in accordance with Council Decision 2013/488/EU\\xa0(23) and Commission Decision (EU, Euratom) 2015/444\\xa0(24) and personal data as referred to in Articles 31 and\\xa032 of this Regulation with the actors referred to in paragraph 1 of this Article. 1.\\xa0\\xa0\\xa0The Agency shall apply Regulation (EU) 2018/1725 when processing personal data. 2.\\xa0\\xa0\\xa0The Management Board shall take measures for the application of Regulation (EU) 2018/1725 by the Agency, including measures concerning the appointment of the Agency’s data protection officer. Those measures shall be taken after consulting the European Data Protection Supervisor. 3.\\xa0\\xa0\\xa0Without prejudice to Articles 31 and\\xa032, the Agency may process personal data for necessary administrative purposes related to personnel. 4.\\xa0\\xa0\\xa0The transfer of personal data processed by the Agency and the onward transfer by Member States of personal data processed in the framework of this Regulation to authorities of third countries or to third parties, including international organisations, shall be prohibited. 5.\\xa0\\xa0\\xa0By way of derogation from paragraph 4, the Agency may transfer, subject to the informed and freely given consent of a third-country national identified for the sole purpose of conducting a resettlement procedure, his or her full name, information on the course of the resettlement procedure involving him or her and information on the outcome of such a resettlement procedure to relevant international organisations to the extent necessary for that purpose. Such personal data shall not be further processed for any other purpose or transferred onwards. 6.\\xa0\\xa0\\xa0Where experts participating in asylum support teams process personal data under the instructions of the host Member State during the provision of operational and technical assistance to that Member State, Regulation (EU) 2016/679 shall apply. 1.\\xa0\\xa0\\xa0The Agency shall process personal data only to the extent necessary and for the following purposes: (a) providing operational and technical assistance in accordance with Article\\xa016(2) and Article\\xa021(2) and\\xa0(3); (b) carrying out case sampling for the purposes of monitoring as referred to in Article\\xa014; (c) facilitating the exchange of information with the competent national authorities, the European Border and Coast Guard Agency, Europol or Eurojust in accordance with Article\\xa037 and in the framework of information obtained when performing the tasks listed in Article\\xa021(3) where necessary for the performance of their tasks in accordance with their respective mandates; (d) analysing information on the situation of asylum as referred to in Article\\xa05; (e) assisting Member States with their actions on resettlement. 2.\\xa0\\xa0\\xa0Any processing of personal data shall respect the principle of proportionality and be strictly limited to personal data necessary for the purposes referred to in paragraph 1. 3.\\xa0\\xa0\\xa0Member States or other Union bodies, offices and agencies providing personal data to the Agency shall only transfer data to the Agency for the purposes referred to in paragraph 1. Any processing of retained personal data for purposes other than those referred to in paragraph 1 shall be prohibited. 4.\\xa0\\xa0\\xa0Member States or other Union bodies, offices and agencies providing personal data to the Agency may indicate, at the moment of transferring personal data, any restriction on access or use, in general or specific terms, including as regards transfer, erasure or destruction. Where the need for such restrictions becomes apparent after the transfer of personal data, the Member State or Union body, office or agency concerned shall inform the Agency accordingly. The Agency shall comply with such restrictions. 1.\\xa0\\xa0\\xa0The processing by the Agency of personal data collected by or transmitted to it by the Member States or by its own staff when providing operational and technical assistance to Member States and for the purposes of resettlement shall be limited to the following data on third-country nationals: (a) full name; (b) date and place of birth; (c) place of residence or stay; (d) gender; (e) age; (f) nationality; (g) profession; (h) education; (i) family members; (j) date and place of arrival; (k) fingerprint data; (l) facial image data; and (m) status in relation to international protection. 2.\\xa0\\xa0\\xa0The Agency may process the personal data referred to in paragraph 1 where necessary for one of the following purposes: (a) to take an operational and technical measure under Article\\xa016(2), point (a), (b), (c), (g) or (h); (b) to transmit those personal data to the European Border and Coast Guard Agency, Europol or Eurojust for the performance of their tasks in accordance with their respective mandates and in accordance with Article\\xa030; (c) to transmit those personal data to the national authorities responsible for asylum and immigration and other relevant services in accordance with national law and national and Union data protection rules; (d) to analyse information on the situation of asylum as referred to in Article\\xa05; (e) to assist Member States with their actions on resettlement. 3.\\xa0\\xa0\\xa0Where strictly necessary for an operational and technical measure under Article\\xa016(2), point (c), or for the purpose referred to in paragraph 2, point (e), of this Article, the Agency may, in relation to a specific case, process personal data necessary for the assessment of whether a third-country national qualifies for international protection and personal data concerning the health or specific vulnerabilities of a third-country national. Those personal data shall be made accessible only to staff who, in the specific case, need knowledge of them. Those staff shall safeguard the confidentiality of that data. Such personal data shall not be further processed or transferred onwards. 4.\\xa0\\xa0\\xa0The Agency shall delete personal data as soon as it has transmitted them to the European Border and Coast Guard Agency, Europol or Eurojust or to the competent national authorities or as soon as they have been used to analyse information on the situation of asylum as referred to in Article\\xa05. In any event, the data storage period shall not exceed 30 days from the date on which the Agency collects or receives those personal data. The Agency shall anonymise personal data in the information analysis on the situation of asylum referred to in Article\\xa05. 5.\\xa0\\xa0\\xa0The Agency shall delete personal data obtained for the purpose referred to in Article\\xa031(1), point (e), as soon as they are no longer necessary for the purpose for which they were obtained and, in any event, no later than 30 days from the date on which the third-country national was resettled. 6.\\xa0\\xa0\\xa0Without prejudice to other rights provided for in Regulation (EU) 2016/679 and in addition to the information referred to in Article\\xa013 of that Regulation, experts participating in asylum support teams transmitting personal data pursuant to paragraph 1 of this Article shall provide third-country nationals, at the time of the collection of their personal data, with the contact details of the relevant supervisory authority responsible for monitoring and enforcing compliance with that Regulation. The Agency shall facilitate operational cooperation with Denmark, including the exchange of information and best practices in matters covered by its activities. 1.\\xa0\\xa0\\xa0The Agency shall be open to the participation of Iceland, Liechtenstein, Norway and Switzerland. 2.\\xa0\\xa0\\xa0The nature, extent and manner in which Iceland, Liechtenstein, Norway and Switzerland are to participate in the Agency’s work shall be set out in relevant arrangements. Those arrangements shall include provisions relating to participation in initiatives undertaken by the Agency, financial contributions, participation in the meetings of the Management Board and staff. As regards staff, the arrangements shall comply with the Staff Regulations of Officials of the European Union (the ‘Staff Regulations’) and the Conditions of Employment of Other Servants of the Union (the ‘Conditions of Employment’) laid down in Council Regulation (EEC, Euratom, ECSC) No\\xa0259/68\\xa0(25). 1.\\xa0\\xa0\\xa0In matters related to its activities and to the extent required for the fulfilment of its tasks, the Agency shall facilitate and encourage operational cooperation between Member States and third countries, within the framework of the Union’s external policy, including with regard to the protection of fundamental rights, and in cooperation with the EEAS. The Agency and the Member States shall promote and comply with norms and standards which form part of Union law, including when carrying out activities on the territory of third countries. 2.\\xa0\\xa0\\xa0The Agency may cooperate with the authorities of third countries competent in matters covered by this Regulation with the support of and in coordination with Union delegations, in particular with a view to promoting Union standards on asylum, assisting third countries as regards expertise and capacity building for their own asylum and reception systems, and implementing regional development and protection programmes and other actions. The Agency may carry out such cooperation within the framework of working arrangements concluded with those authorities in accordance with Union law and policy. The Management Board shall decide on those working arrangements, which shall be subject to prior approval by the Commission. The Agency shall inform the European Parliament and the Council before a working arrangement is concluded. 3.\\xa0\\xa0\\xa0Within the framework of cooperation with third countries, the Agency may support a Member State in the implementation of resettlement schemes, at the request of that Member State. 4.\\xa0\\xa0\\xa0Within the framework of the Union’s external policy, the Agency shall, where appropriate, participate in the implementation of international agreements concluded by the Union with third countries regarding matters covered by this Regulation. 5.\\xa0\\xa0\\xa0The Agency may benefit from Union funding in accordance with the provisions of the relevant instruments supporting the Union’s external policy. The Agency may launch and finance technical assistance projects in third countries regarding matters covered by this Regulation. 6.\\xa0\\xa0\\xa0The Agency shall inform the European Parliament of activities conducted pursuant to this Article by means of its annual report on the situation of asylum in the Union referred to in Article\\xa069. That report shall also include an assessment of the cooperation with third countries. 1.\\xa0\\xa0\\xa0The Agency may deploy experts from its own staff as liaison officers. Liaison officers shall enjoy the highest possible protection when carrying out their duties in third countries. Liaison officers shall only be deployed to third countries whose migration and asylum management practices comply with non-derogable human rights standards. 2.\\xa0\\xa0\\xa0Within the framework of the Union’s external policy, priority for the deployment of liaison officers shall be given to those third countries which, on the basis of the information analysis on their situation of asylum referred to in Article\\xa05, constitute countries of origin or transit regarding asylum-related migration. The deployment of liaison officers shall be subject to approval by the Management Board. 3.\\xa0\\xa0\\xa0The tasks of the liaison officers shall include, in compliance with Union law and in a manner that fully respects fundamental rights, establishing and maintaining contacts with the competent authorities of the third country to which they are deployed with a view to gathering information, contributing to the establishment of protection-sensitive migration management and, as appropriate, facilitating access to legal pathways to the Union for persons in need of protection, including by means of resettlement. The liaison officers shall coordinate closely with Union delegations and, where appropriate, international organisations and bodies, in particular the UNHCR. 4.\\xa0\\xa0\\xa0The decision of the Agency to deploy liaison officers to third countries shall be subject to receiving the prior opinion of the Commission. The European Parliament shall be kept fully informed accordingly without delay. 1.\\xa0\\xa0\\xa0The Agency shall cooperate with the Union bodies, offices and agencies which carry out activities relating to its field of activity, in particular the bodies, offices and agencies in the field of justice and home affairs which are competent in matters covered by this Regulation. 2.\\xa0\\xa0\\xa0Cooperation as referred to in paragraph 1 shall take place, subject to the Commission’s prior approval, within the framework of working arrangements concluded with the Union bodies, offices and agencies referred to in that paragraph. The Agency shall inform the European Parliament and the Council of any such working arrangements. 3.\\xa0\\xa0\\xa0Cooperation as referred to in paragraph 1 shall create synergies among the relevant Union bodies, offices and agencies, and any duplication of effort in the work carried out by each Union body, office or agency pursuant to its mandate shall be avoided. The Agency shall cooperate with international organisations, in particular the UNHCR, in areas governed by this Regulation, within the framework of working arrangements concluded with such organisations, in accordance with the Treaties and the instruments setting out the competence of such organisations. The Management Board shall decide on the working arrangements, which shall be subject to prior approval by the Commission. The Agency shall inform the European Parliament and the Council of any such working arrangements. The Agency’s administrative and management structure shall comprise: (a) a Management Board, which shall exercise the functions set out in Article\\xa041; (b) an Executive Director, who shall exercise the responsibilities set out in Article\\xa047; (c) a Deputy Executive Director, as established in Article\\xa048; (d) a fundamental rights officer, as established in Article\\xa049; and (e) a Consultative Forum, as established in Article\\xa050. 1.\\xa0\\xa0\\xa0The Management Board shall be composed of one representative of each Member State and two representatives of the Commission. Each of those representatives shall have the right to vote. 2.\\xa0\\xa0\\xa0The Management Board shall include one representative of the UNHCR. That representative shall not have the right to vote. 3.\\xa0\\xa0\\xa0Each member of the Management Board shall have an alternate. An alternate shall represent a member of the Management Board in his or her absence. 4.\\xa0\\xa0\\xa0Members of the Management Board and their alternates shall be appointed in the light of their knowledge and expertise in the field of asylum, taking into account relevant managerial, administrative and budgetary skills. All parties involved shall aim to achieve a balanced representation between men and women on the Management Board. 5.\\xa0\\xa0\\xa0The term of office for members of the Management Board shall be 4 years. That term shall be renewable. On the expiry of their term of office or in the event of their resignation, members shall remain in office until their term of office is renewed or until they are replaced. 1.\\xa0\\xa0\\xa0The Management Board shall give general orientation for the Agency’s activities and shall ensure that the Agency performs its tasks. In particular, the Management Board shall: (a) adopt the annual budget of the Agency by a majority of two-thirds of its members with the right to vote and exercise other functions in respect of the Agency’s budget pursuant to Chapter 9; (b) adopt a consolidated annual report on the Agency’s activities, send it, by 1 July each year, to the European Parliament, to the Council, to the Commission and to the Court of Auditors, and make it public; (c) adopt the financial rules applicable to the Agency in accordance with Article\\xa056; (d) take all decisions for the purpose of fulfilling the Agency’s mandate as laid down in this Regulation; (e) adopt an anti-fraud strategy, which shall be proportionate to the risk of fraud, taking into account the costs and benefits of the measures to be implemented as part of that strategy; (f) adopt rules for the prevention and management of conflicts of interest in respect of its members; (g) adopt and regularly update the communication and dissemination plans referred to in Article\\xa02(2) on the basis of a needs analysis; (h) adopt its rules of procedure; (i) exercise, in accordance with paragraph 2, with respect to the Agency’s staff, the powers conferred by the Staff Regulations on the appointing authority and by the Conditions of Employment on the authority empowered to conclude a contract of employment (the ‘appointing authority powers’); (j) adopt appropriate implementing rules for giving effect to the Staff Regulations and the Conditions of Employment in accordance with Article\\xa0110 of the Staff Regulations; (k) appoint the Executive Director and Deputy Executive Director, exercise disciplinary authority over them and, where necessary, extend their terms of office or remove them from office in accordance with Articles 46 or 48, as appropriate; (l) appoint the fundamental rights officer, subject to the Staff Regulations and the Conditions of Employment, from a selection of candidates proposed by the Executive Director; (m) appoint an accounting officer, subject to the Staff Regulations and the Conditions of Employment, who shall be completely independent in the performance of his or her duties; (n) adopt an annual report on the situation of asylum in the Union in accordance with Article\\xa069; (o) take all decisions on the development of the information systems provided for in this Regulation, including the information portal referred to Article\\xa09(2), point (b); (p) adopt the detailed rules for the application of Regulation (EC) No\\xa01049/2001 in accordance with Article\\xa063 of this Regulation; (q) take measures for the application of Regulation (EU) 2018/1725 by the Agency, including measures concerning the appointment of the Agency’s data protection officer; (r) adopt the Agency’s staff policy in accordance with Article\\xa060; (s) adopt each year the Agency’s programming document in accordance with Article\\xa042; (t) take all decisions on the establishment of the Agency’s internal structures and, where necessary, their modification; (u) ensure adequate follow-up to findings and recommendations stemming from internal or external audit reports and evaluations, as well as from investigations by the European Anti-Fraud Office (OLAF); (v) adopt the operational standards, indicators, guidelines and best practices developed by the Agency in accordance with Article\\xa013(2); (w) endorse the guidance notes concerning country-of-origin information and any review or update of those guidance notes in accordance with Article\\xa011(2) and\\xa0(4); (x) adopt a decision establishing a common methodology for the monitoring mechanism referred to in Article\\xa014; (y) adopt the programme for monitoring the operational and technical application of the CEAS in accordance with Article\\xa015(1); (z) adopt the recommendations following a monitoring exercise in accordance with Article\\xa015(4); (aa) decide on the profiles and overall numbers of experts to be made available for asylum support teams and for the asylum reserve pool in accordance with Article\\xa019(2) and\\xa0(6); (ab) adopt a strategy for relations with third countries or international organisations concerning matters for which the Agency is competent, as well as a working arrangement with the Commission for its implementation; (ac) authorise and approve the conclusion of working arrangements in accordance with Articles 35, 37 and\\xa038. 2.\\xa0\\xa0\\xa0The Management Board shall adopt, in accordance with Article\\xa0110 of the Staff Regulations, a decision based on Article\\xa02(1) of the Staff Regulations and on Article\\xa06 of the Conditions of Employment, delegating relevant appointing authority powers to the Executive Director and establishing the conditions under which that delegation of appointing authority powers can be suspended. The Executive Director shall be authorised to sub-delegate the appointing authority powers. Where exceptional circumstances so require, the Management Board may, by way of a decision, temporarily suspend the delegation of the appointing authority powers to the Executive Director and those sub-delegated by the Executive Director and exercise them itself or delegate them to one of its members or to a staff member other than the Executive Director. 3.\\xa0\\xa0\\xa0The Management Board may establish a small-sized Executive Board to assist it and the Executive Director with regard to the preparation of the decisions, programmes and activities to be adopted by the Management Board. Where necessary, the Executive Board may take certain provisional, urgent decisions on behalf of the Management Board, in particular on administrative management matters. The Executive Board shall not take decisions that are required to be passed by a majority of either two-thirds or three-fourths of the members of the Management Board. The Management Board may delegate certain clearly defined tasks to the Executive Board, in particular where such a delegation would improve the efficiency of the Agency. The Management Board shall not delegate to the Executive Board tasks related to decisions that are required to be passed by a majority of either two-thirds or three-fourths of the members of the Management Board. For the purposes of establishing the Executive Board, the Management Board shall adopt its rules of procedure. Those rules of procedure shall, in particular, cover the composition and functions of the Executive Board. 1.\\xa0\\xa0\\xa0The Management Board shall send a draft version of a programming document containing the multi-annual and annual programming, based on a draft put forward by the Executive Director, to the European Parliament, to the Council and to the Commission by 31 January each year. The Management Board shall likewise send any later updated draft versions of the programming document to the European Parliament, to the Council and to the Commission. By 30 November each year, the Management Board shall adopt, by a majority of two-thirds of its members with the right to vote, the programming document, taking into account the opinion of the Commission and, in the case of the multi-annual programming, after consulting the European Parliament. The Management Board shall forward the programming document to the European Parliament, to the Council and to the Commission. The programming document shall become final after the definitive adoption of the general budget of the Union and, if necessary, shall be adjusted accordingly. 2.\\xa0\\xa0\\xa0The multi-annual programming shall set out the overall strategic programming in the medium and long-term including objectives, expected results and performance indicators. The multi-annual programming shall also set out resource programming, including a multi-annual budget and staff numbers. The multi-annual programming shall set the strategic areas of intervention and explain what needs to be done to achieve the objectives set out therein. The multi-annual programming shall include the strategy for relations with third countries and international organisations referred to in Articles 35 and\\xa038, respectively, the actions linked to that strategy and a specification of the associated resources. The multi-annual programming shall be implemented by means of annual work programmes. The multi-annual programming shall be updated annually and where appropriate, in particular to address the outcome of the evaluation referred to in Article\\xa070. 3.\\xa0\\xa0\\xa0The annual work programme shall comprise detailed objectives and expected results including performance indicators. The annual work programme shall also contain a description of the actions to be financed and an indication of the financial and human resources allocated to each activity, in accordance with the principles of activity-based budgeting and management. The annual work programme shall be consistent with the multi-annual programming referred to in paragraph 2. The annual work programme shall clearly indicate the tasks that have been added, changed or deleted in comparison with the previous financial year. 4.\\xa0\\xa0\\xa0The Management Board shall amend the annual work programme when the Agency is given a new task. Any substantial amendment to the annual work programme shall be adopted by the same procedure as the initial annual work programme. The Management Board may delegate the power to make non-substantial amendments to the annual work programme to the Executive Director. 1.\\xa0\\xa0\\xa0The Management Board shall elect a Chairperson and a Deputy Chairperson from its members with the right to vote. The Chairperson and the Deputy Chairperson shall be elected by a majority of two-thirds of the members of the Management Board with the right to vote. The Deputy Chairperson shall automatically replace the Chairperson if he or she is prevented from attending to his or her duties. 2.\\xa0\\xa0\\xa0The term of office of the Chairperson and the Deputy Chairperson shall be 4 years, renewable once. If, however, their membership of the Management Board ends at any time during their term of office, their term of office shall automatically expire on that date. 1.\\xa0\\xa0\\xa0The Chairperson shall convene meetings of the Management Board. 2.\\xa0\\xa0\\xa0The Executive Director shall take part in the deliberations of the Management Board, without the right to vote. 3.\\xa0\\xa0\\xa0The representative of the UNHCR shall not take part in any meetings during which the Management Board performs the functions laid down in Article\\xa041(1), point (e), (f), (i), (j), (k), (p), (r), (s), (t) or (u), or in Article\\xa041(2), and when the Management Board decides to make financial resources available for financing UNHCR activities as provided for in Article\\xa052 to enable the Agency to benefit from the UNHCR’s expertise. 4.\\xa0\\xa0\\xa0The Management Board shall hold at least two ordinary meetings a year. In addition, the Management Board shall meet on the initiative of its Chairperson, at the request of the Commission or at the request of one-third of its members. 5.\\xa0\\xa0\\xa0The Management Board may invite any person whose opinion may be of interest to attend its meetings as an observer. 6.\\xa0\\xa0\\xa0Denmark shall be invited to send a representative to attend the meetings of the Management Board. 7.\\xa0\\xa0\\xa0The members and the alternates of the Management Board may, subject to its rules of procedure, be assisted at the meetings by advisers or experts. 8.\\xa0\\xa0\\xa0The Agency shall provide the secretariat for the Management Board. 1.\\xa0\\xa0\\xa0Unless otherwise provided, the Management Board shall take its decisions by an absolute majority of its members with the right to vote. 2.\\xa0\\xa0\\xa0Each member with the right to vote shall have one vote. In the absence of a member with the right to vote, his or her alternate shall be entitled to exercise his or her right to vote. 3.\\xa0\\xa0\\xa0The Chairperson shall take part in the voting. 4.\\xa0\\xa0\\xa0The Executive Director shall not take part in the voting. 5.\\xa0\\xa0\\xa0Representatives of Member States that do not fully participate in the Union acquis in the field of asylum shall not vote where the Management Board is called on to adopt operational standards, indicators, guidelines or best practices which relate exclusively to a Union asylum instrument by which the Member States they represent are not bound. 6.\\xa0\\xa0\\xa0The Management Board’s rules of procedure shall establish more detailed voting arrangements, in particular the circumstances in which a member may act on behalf of another member. 1.\\xa0\\xa0\\xa0The Executive Director shall be a member of staff and shall be recruited as a temporary agent of the Agency in accordance with Article\\xa02, point (a), of the Conditions of Employment. 2.\\xa0\\xa0\\xa0The Commission shall propose at least three candidates for the post of executive director based on a list following publication of the post in the Official Journal of the European Union and, as appropriate, other press or internet sites. 3.\\xa0\\xa0\\xa0The Management Board shall appoint the Executive Director on the grounds of merit, documented high-level administrative and management skills and senior professional experience in the field of migration and asylum. Before appointment, the candidates proposed by the Commission shall be invited to make a statement before the competent committee or committees of the European Parliament and answer questions put by the members of that committee or those committees. Following such a statement, the European Parliament shall adopt an opinion setting out its views and may indicate a preferred candidate. The Management Board shall appoint the Executive Director, taking the opinion of the European Parliament referred to in the second subparagraph into account. If the Management Board takes a decision to appoint a candidate other than the candidate whom the European Parliament indicated as its preferred candidate, the Management Board shall inform the European Parliament and the Council in writing of the manner in which the opinion of the European Parliament was taken into account. For the purpose of concluding the contract with the Executive Director, the Agency shall be represented by the Chairperson of the Management Board. 4.\\xa0\\xa0\\xa0The term of office of the Executive Director shall be 5 years. By the end of that period, the Commission shall undertake an assessment that takes into account an evaluation of the Executive Director’s performance and the Agency’s future tasks and challenges. 5.\\xa0\\xa0\\xa0The Management Board, acting on a proposal from the Commission that takes into account the assessment referred to in paragraph 4, may extend the term of office of the Executive Director once for no more than 5 years. 6.\\xa0\\xa0\\xa0The Management Board shall inform the European Parliament if it intends to extend the Executive Director’s term of office. Within the 1-month period before any such extension, the Executive Director may be invited to make a statement before the competent committee or committees of the European Parliament and answer questions put by the members of that committee or those committees. 7.\\xa0\\xa0\\xa0An Executive Director whose term of office has been extended shall not participate in another selection procedure for the same post at the end of the overall period. 8.\\xa0\\xa0\\xa0The Executive Director may be removed from office only upon a decision of the Management Board acting on a proposal from the Commission. 9.\\xa0\\xa0\\xa0The Management Board shall take decisions on the appointment, extension of the term of office or removal from office of the Executive Director by a two-thirds majority of its members with the right to vote. 1.\\xa0\\xa0\\xa0The Executive Director shall manage the Agency. The Executive Director shall be accountable to the Management Board. 2.\\xa0\\xa0\\xa0Without prejudice to the powers of the Commission and the Management Board, the Executive Director shall be independent in the performance of his or her duties and shall neither seek nor take instructions from any government, institution, person or other body. 3.\\xa0\\xa0\\xa0The Executive Director shall report to the European Parliament on the performance of his or her duties when invited to do so. The Council may invite the Executive Director to report on the performance of his or her duties. 4.\\xa0\\xa0\\xa0The Executive Director shall be the legal representative of the Agency. 5.\\xa0\\xa0\\xa0The Executive Director shall be responsible for the implementation of the tasks assigned to the Agency by this Regulation. In particular, the Executive Director shall be responsible for: (a) the day-to-day administration of the Agency; (b) implementing decisions adopted by the Management Board; (c) preparing programming documents referred to in Article\\xa042 and submitting them to the Management Board after consulting the Commission; (d) implementing programming documents referred to in Article\\xa042 and reporting to the Management Board on their implementation; (e) preparing consolidated annual reports on the Agency’s activities and presenting them to the Management Board for adoption; (f) preparing an action plan following-up conclusions of internal or external audit reports and evaluations, as well as investigations by OLAF, and reporting on progress twice a year to the Commission and regularly to the Management Board and, if applicable, to the Executive Board; (g) without prejudice to the investigative competence of OLAF, protecting the financial interests of the Union by applying preventive measures against fraud, corruption and any other illegal activities, by effective checks and, if irregularities are detected, by recovering amounts wrongly paid and, where appropriate, by imposing effective, proportionate and dissuasive administrative and financial penalties; (h) preparing an anti-fraud strategy for the Agency and presenting it to the Management Board for approval; (i) preparing the draft financial rules applicable to the Agency; (j) drawing up provisional draft statements of estimates of the Agency’s revenue and expenditure in accordance with Article\\xa053, and implementing its budget; (k) exercising the powers laid down in Article\\xa060 in respect of the Agency’s staff; (l) taking all decisions on the management of the information systems provided for in this Regulation, including the information portal referred to in Article\\xa09(2), point (b); (m) taking all decisions on the management of the Agency’s internal structures; (n) drafting reports on the situation in third countries as referred to in Article\\xa09; (o) submitting the common analysis and guidance notes to the Management Board in accordance with Article\\xa011(2); (p) setting up teams of experts for the purpose of Articles 14 and\\xa015 which shall be composed of experts from the Agency’s own staff, the Commission and, where necessary, the Member States and, as observers, the UNHCR; (q) initiating a monitoring exercise in accordance with Article\\xa015(2); (r) submitting the findings and draft recommendations in the context of a monitoring exercise to the Member State concerned and subsequently to the Management Board in accordance with Article\\xa015(3) and\\xa0(4); (s) reporting to the Management Board and to the Commission in accordance with Article\\xa04(5); (t) evaluating, approving and coordinating requests for operational and technical assistance in accordance with Article\\xa016(1) and Article\\xa020; (u) ensuring the implementation of operational plans as referred to in Article\\xa018; (v) ensuring coordination of the Agency’s activities in the migration management support teams with the Commission and other relevant Union bodies, offices and agencies in accordance with Article\\xa021(1); (w) ensuring the implementation of Council decisions as referred to in Article\\xa022(2); (x) deciding, in consultation with the Management Board, on the acquisition or lease of technical equipment in accordance with Article\\xa023(2); (y) proposing a selection of candidates for appointment as the fundamental rights officer in accordance with Article\\xa049(1); (z) appointing a coordinating officer of the Agency in accordance with Article\\xa025(2). 1.\\xa0\\xa0\\xa0A Deputy Executive Director shall assist the Executive Director in the management of the Agency and in the performance of the tasks referred to in Article\\xa047(5). If the Executive Director is absent or indisposed, the Deputy Executive Director shall take his or her place. 2.\\xa0\\xa0\\xa0The Management Board shall appoint the Deputy Executive Director on a proposal of the Executive Director. The Deputy Executive Director shall be appointed on the grounds of merit, appropriate administrative and management skills, and relevant professional experience in the field of asylum. The Executive Director shall propose at least three candidates for the post of Deputy Executive Director. The Management Board shall have the power to extend the term of office of the Deputy Executive Director or to remove the Deputy Executive Director from office acting on the proposal from the Executive Director. Article\\xa046(1), (4), (7) and\\xa0(9) shall apply mutatis mutandis to the Deputy Executive Director. 1.\\xa0\\xa0\\xa0The Management Board shall appoint a fundamental rights officer from a selection of candidates proposed by the Executive Director. The fundamental rights officer shall have the necessary qualifications and experience in the field of fundamental rights and asylum. 2.\\xa0\\xa0\\xa0The fundamental rights officer shall be independent in the performance of his or her duties and shall report directly to the Management Board. 3.\\xa0\\xa0\\xa0The fundamental rights officer shall be responsible for ensuring the Agency’s compliance with fundamental rights in all of its activities and promoting respect by the Agency of fundamental rights. The fundamental rights officer shall also be responsible for implementing the complaints mechanism referred to in Article\\xa051. 4.\\xa0\\xa0\\xa0The fundamental rights officer shall cooperate with the Consultative Forum. 5.\\xa0\\xa0\\xa0The fundamental rights officer shall be consulted on, inter alia, operational plans as referred to in Article\\xa018, evaluation of the Agency’s operational and technical assistance, the code of conduct referred to in Article\\xa058 and the European asylum curriculum referred to in Article\\xa08(3). The fundamental rights officer shall have access to all information concerning respect for fundamental rights in relation to all the Agency’s activities, including by organising visits, with the consent of the Member State concerned, to the places where the Agency carries out operational activities. 1.\\xa0\\xa0\\xa0The Agency shall maintain a close dialogue with relevant civil society organisations and relevant competent bodies operating in the field of asylum policy at local, regional, national, Union or international level. For that purpose, the Agency shall set up a Consultative Forum. 2.\\xa0\\xa0\\xa0The Consultative Forum shall constitute a mechanism for the exchange of information and the sharing of knowledge. The Consultative Forum shall ensure a close dialogue between the Agency and relevant organisations and bodies referred to in paragraph 1. 3.\\xa0\\xa0\\xa0The Agency shall invite the European Union Agency for Fundamental Rights, the European Border and Coast Guard Agency, the UNHCR and other relevant organisations and bodies referred to in paragraph 1 to be members of the Consultative Forum. On a proposal of the Executive Director, the Management Board shall decide on the composition of the Consultative Forum, including on thematic or geographically focused consultation groups, and on the conditions for transmitting information to the Consultative Forum. The Consultative Forum shall, after consulting the Management Board and the Executive Director, establish its working methods, including thematic or geographically focused working groups as deemed necessary and useful. 4.\\xa0\\xa0\\xa0The Consultative Forum shall advise the Executive Director and the Management Board on asylum-related matters in accordance with the Agency’s specific needs in areas identified as a priority for its work. 5.\\xa0\\xa0\\xa0The Consultative Forum shall, in particular: (a) make suggestions to the Management Board on the annual and multi-annual programming referred to in Article\\xa042; (b) provide feedback to the Management Board and suggest measures as follow-up to the annual report on the situation of asylum in the Union referred to in Article\\xa069; and (c) communicate to the Executive Director and the Management Board the conclusions and recommendations of conferences, seminars and meetings, and the findings from studies or field work carried out by any of the member organisations or bodies of the Consultative Forum which is relevant to the work of the Agency. 6.\\xa0\\xa0\\xa0The Consultative Forum shall be consulted on the preparation, adoption and implementation of the fundamental rights strategy referred to in Article\\xa057(3) and the code of conduct referred to in Article\\xa058, the setting up of the complaints mechanism referred to in Article\\xa051 and the development of the European asylum curriculum referred to in Article\\xa08(3). 7.\\xa0\\xa0\\xa0The Consultative Forum shall meet in full session at least once a year and shall organise meetings for the thematic or geographically focused consultation groups as necessary. 1.\\xa0\\xa0\\xa0The Agency shall set up a complaints mechanism to ensure that fundamental rights are respected in all of the Agency’s activities. 2.\\xa0\\xa0\\xa0Any person who is directly affected by the actions of an expert participating in an asylum support team, and who considers that his or her fundamental rights have been violated due to those actions, or any party representing such a person, may submit a complaint in writing to the Agency. 3.\\xa0\\xa0\\xa0Only substantiated complaints involving concrete fundamental rights violations shall be admissible. Complaints which challenge a national authority’s decision on an individual application for international protection shall be inadmissible. Complaints which are anonymous, abusive, malicious, frivolous, vexatious, hypothetical or inaccurate shall also be inadmissible. 4.\\xa0\\xa0\\xa0The fundamental rights officer shall be responsible for handling complaints received by the Agency and shall do so in accordance with the right to good administration. For that purpose, the fundamental rights officer shall: (a) review the admissibility of a complaint; (b) register admissible complaints; (c) forward all registered complaints to the Executive Director; (d) forward complaints concerning experts participating in an asylum support team to the home Member State; (e) inform the relevant authority or body competent for fundamental rights in a Member State of a complaint; and (f) register and ensure follow-up by the Agency or the Member State concerned. 5.\\xa0\\xa0\\xa0In accordance with the right to good administration, where a complaint is admissible, the complainant shall be informed that a complaint has been registered, that an assessment has been initiated and that a response may be expected as soon as it becomes available. Where a complaint is forwarded to a national authority or body, the complainant shall be provided with the contact details of that authority or body. Where a complaint is inadmissible, the complainant shall be informed of the reasons for the inadmissibility and, where possible, provided with further options for addressing his or her concerns. Any decision shall be in writing and reasoned. 6.\\xa0\\xa0\\xa0In the case of a registered complaint concerning a staff member of the Agency, the Executive Director shall ensure appropriate follow-up, in consultation with the fundamental rights officer, including disciplinary measures as necessary. The Executive Director shall report within a determined timeframe to the fundamental rights officer on the findings and follow-up made by the Agency in response to a complaint, including any disciplinary measures. 7.\\xa0\\xa0\\xa0Where a complaint is related to data protection issues, the Executive Director shall involve the Agency’s data protection officer. The fundamental rights officer and the data protection officer shall establish, in writing, a memorandum of understanding specifying the division of tasks between them and the way in which they cooperate as regards complaints received. 8.\\xa0\\xa0\\xa0In the case of a complaint concerning an expert of a Member State, including seconded national experts, the home Member State shall ensure appropriate follow-up, including disciplinary measures as necessary or other measures in accordance with national law. The home Member State shall report to the fundamental rights officer on the findings and follow-up made in response to a complaint within a determined time period and, if necessary, at regular intervals thereafter. The Agency shall follow the matter up where no report is received from the home Member State. 9.\\xa0\\xa0\\xa0Where an expert deployed by a Member State, including seconded national experts, is found to have violated fundamental rights or international protection obligations, the Executive Director shall request the Member State to remove that expert or seconded national expert immediately from the activities of the Agency. Where an expert deployed by the Agency is found to have violated fundamental rights or international protection obligations, the Executive Director shall remove that expert from the activities of the Agency. 10.\\xa0\\xa0\\xa0The fundamental rights officer shall report to the Executive Director and to the Management Board on the findings and follow-up made by the Agency and the Member States concerned in response to a complaint. The Agency shall include information on the complaints mechanism in its annual report on the situation of asylum in the Union referred to in Article\\xa069. 11.\\xa0\\xa0\\xa0The Agency, including the fundamental rights officer, shall handle and process any personal data contained in a complaint in accordance with Regulation (EU) 2018/1725. Member States shall handle and process any personal data contained in a complaint in accordance with Regulation (EU) 2016/679 or Directive (EU) 2016/680, as appropriate. When a complainant submits a complaint, that complainant shall be deemed to have consented to the processing of his or her personal data by the Agency and the fundamental rights officer within the meaning of Article\\xa05(1), point (d), of Regulation (EU) 2018/1725. In order to safeguard the interests of complainants, the fundamental rights officer shall deal confidentially with complaints in accordance with national and Union law unless the complainant explicitly waives his or her right to confidentiality. Where a complainant waives his or her right to confidentiality, that complainant shall be deemed to have consented to the disclosure, where necessary, by the fundamental rights officer or the Agency of his or her identity to the competent authorities or bodies in relation to the subject of the complaint. 1.\\xa0\\xa0\\xa0Estimates of the revenue and expenditure of the Agency shall be prepared each financial year, corresponding to the calendar year, and shall be shown in the Agency’s budget. 2.\\xa0\\xa0\\xa0The Agency’s budget shall be balanced in terms of revenue and of expenditure. 3.\\xa0\\xa0\\xa0Without prejudice to other resources, the Agency’s revenue shall comprise: (a) a contribution from the Union entered in the general budget of the Union; (b) Union funding under indirect management or in the form of ad hoc grants in accordance with the financial rules applicable to the Agency and with the provisions of the relevant instruments supporting the policies of the Union; (c) any voluntary financial contribution from Member States; (d) any contribution from associated countries; (e) charges for publications and any service provided by the Agency. 4.\\xa0\\xa0\\xa0The expenditure of the Agency shall include staff remuneration, administrative and infrastructure expenses, and operating expenditure. 1.\\xa0\\xa0\\xa0Each year the Executive Director shall draw up a provisional draft statement of estimates of the Agency’s revenue and expenditure for the following financial year, including the establishment plan, and send it to the Management Board. 2.\\xa0\\xa0\\xa0The Management Board shall, on the basis of the provisional draft statement of estimates referred to in paragraph 1, adopt a draft statement of estimates of the Agency’s revenue and expenditure for the following financial year. 3.\\xa0\\xa0\\xa0The draft statement of estimates of the Agency’s revenue and expenditure referred to in paragraph 2 shall be sent to the Commission, the European Parliament and the Council by 31 January each year. 4.\\xa0\\xa0\\xa0The Commission shall send the statement of estimates to the budgetary authority together with the draft general budget of the Union. 5.\\xa0\\xa0\\xa0On the basis of the statement of estimates, the Commission shall enter in the draft general budget of the Union the estimates it considers necessary for the establishment plan and the amount of the contribution from the Union to be charged to the general budget, which it shall place before the budgetary authority in accordance with Articles 313 and\\xa0314 TFEU. 6.\\xa0\\xa0\\xa0The budgetary authority shall authorise the appropriations for the contribution from the Union to the Agency. 7.\\xa0\\xa0\\xa0The budgetary authority shall adopt the Agency’s establishment plan. 8.\\xa0\\xa0\\xa0The Management Board shall adopt the Agency’s budget. The Agency’s budget shall become final following the definitive adoption of the general budget of the Union. Where necessary, the Agency’s budget shall be adjusted accordingly. 9.\\xa0\\xa0\\xa0For any building project likely to have significant implications for the budget of the Agency, Delegated Regulation (EU) 2019/715 shall apply. 1.\\xa0\\xa0\\xa0The Executive Director shall implement the Agency’s budget. 2.\\xa0\\xa0\\xa0Each year the Executive Director shall send to the budgetary authority all information relevant to the findings of evaluation procedures. 1.\\xa0\\xa0\\xa0By 1 March of financial year N\\xa0+\\xa01, the Agency’s accounting officer shall send the provisional accounts for financial year N to the Commission’s accounting officer and to the Court of Auditors. 2.\\xa0\\xa0\\xa0By 31 March of financial year N\\xa0+\\xa01, the Agency shall send the report on the budgetary and financial management for financial year N to the European Parliament, to the Council and to the Court of Auditors. By 31 March of financial year N\\xa0+\\xa01, the Commission’s accounting officer shall send the Agency’s provisional accounts for financial year N, consolidated with the Commission’s accounts, to the Court of Auditors. 3.\\xa0\\xa0\\xa0On receipt of the Court of Auditors’ observations on the Agency’s provisional accounts pursuant to Article\\xa0246 of Regulation (EU, Euratom) 2018/1046 of the European Parliament and of the Council\\xa0(26), the Executive Director shall draw up the Agency’s final accounts for financial year N under his or her own responsibility and submit them to the Management Board for an opinion. 4.\\xa0\\xa0\\xa0The Management Board shall deliver an opinion on the Agency’s final accounts for financial year N. 5.\\xa0\\xa0\\xa0The Executive Director shall, by 1 July of financial year N\\xa0+\\xa01, send the final accounts for financial year N, together with the Management Board’s opinion, to the European Parliament, to the Council, to the Commission and to the Court of Auditors. 6.\\xa0\\xa0\\xa0The final accounts for financial year N shall be published in the Official Journal of the European Union by 15 November of financial year N\\xa0+\\xa01. 7.\\xa0\\xa0\\xa0The Executive Director shall send the Court of Auditors a reply to its observations by 30 September of financial year N\\xa0+\\xa01. The Executive Director shall also send that reply to the Management Board. 8.\\xa0\\xa0\\xa0The Executive Director shall submit to the European Parliament, at the latter’s request, any information required for the smooth application of the discharge procedure for the financial year in question, in accordance with Article\\xa0261(3) of Regulation (EU, Euratom) 2018/1046. 9.\\xa0\\xa0\\xa0On a recommendation from the Council acting by a qualified majority, the European Parliament shall, before 15 May of financial year N\\xa0+\\xa02, give a discharge to the Executive Director in respect of the implementation of the budget for financial year N. 1.\\xa0\\xa0\\xa0The Management Board shall adopt the financial rules applicable to the Agency after consulting the Commission. The financial rules shall comply with Delegated Regulation (EU) 2019/715, except where a derogation from that Regulation is specifically required for the Agency’s operation and the Commission has given its prior consent. 2.\\xa0\\xa0\\xa0The Agency may award grants related to the fulfilment of the tasks referred to in Article\\xa02 of this Regulation and make use of framework contracts in accordance with this Regulation or by delegation of the Commission pursuant to Article\\xa062(1), point (c)(iv), of Regulation (EU, Euratom) 2018/1046. The relevant provisions of Regulation (EU, Euratom) 2018/1046 shall apply. 1.\\xa0\\xa0\\xa0The Agency shall guarantee the protection of fundamental rights in the performance of its tasks under this Regulation in accordance with relevant Union law, including the Charter, and relevant international law, in particular the Geneva Convention Relating to the Status of Refugees of 28\\xa0July 1951, as amended by the New York Protocol of 31\\xa0January 1967. 2.\\xa0\\xa0\\xa0The best interests of the child shall be a primary consideration when applying this Regulation. 3.\\xa0\\xa0\\xa0The Agency shall, on a proposal of the fundamental rights officer, adopt and implement a fundamental rights strategy to ensure respect for fundamental rights in all the Agency’s activities. The Agency shall develop, adopt and implement a code of conduct applicable to all experts participating in asylum support teams. The code of conduct shall lay down procedures intended to guarantee the principles of the rule of law and respect for fundamental rights with a particular focus on children, unaccompanied minors and other persons in a vulnerable situation. 1.\\xa0\\xa0\\xa0The Agency shall be an agency of the Union. The Agency shall have legal personality. 2.\\xa0\\xa0\\xa0In each of the Member States, the Agency shall enjoy the most extensive legal capacity accorded to legal persons under their laws. The Agency may, in particular, acquire and dispose of movable and immovable property and be a party to legal proceedings. 3.\\xa0\\xa0\\xa0The Agency shall be independent as regards operational and technical matters. 4.\\xa0\\xa0\\xa0The Agency shall be represented by its Executive Director. 5.\\xa0\\xa0\\xa0The seat of the Agency shall be Malta. 1.\\xa0\\xa0\\xa0The Staff Regulations, the Conditions of Employment and the rules adopted by agreement between the institutions of the Union for giving effect to the Staff Regulations and the Conditions of Employment shall apply to the Agency’s staff. 2.\\xa0\\xa0\\xa0The Management Board shall adopt appropriate implementing rules for giving effect to the Staff Regulations and the Conditions of Employment pursuant to Article\\xa0110 of the Staff Regulations. 3.\\xa0\\xa0\\xa0The Agency shall exercise the appointing authority powers in respect of its own staff. 4.\\xa0\\xa0\\xa0The Agency may make use of seconded national experts or other staff not employed by it. The Management Board shall adopt a decision laying down rules on the secondment of national experts to the Agency. 5.\\xa0\\xa0\\xa0The Agency may employ staff to work in the field in Member States. Protocol No\\xa07 on the Privileges and Immunities of the European Union annexed to the TEU and to the TFEU shall apply to the Agency and its staff. 1.\\xa0\\xa0\\xa0Council Regulation No\\xa01\\xa0(27) shall apply to the Agency. 2.\\xa0\\xa0\\xa0Without prejudice to decisions taken on the basis of Article\\xa0342 TFEU, the consolidated annual report on the Agency’s activities and programming documents as referred to in Article\\xa042 shall be produced in all official languages of the institutions of the Union. 3.\\xa0\\xa0\\xa0The Translation Centre of the bodies of the European Union shall provide the translation services required for the functioning of the Agency. 1.\\xa0\\xa0\\xa0Regulation (EC) No\\xa01049/2001 shall apply to documents held by the Agency. 2.\\xa0\\xa0\\xa0The Agency may communicate on its own initiative on matters falling within the scope of its tasks. The Agency shall make public the consolidated annual report on the Agency’s activities and ensure, in particular, that the public and any interested party are rapidly given objective, reliable and easily understandable information with regard to its work. 3.\\xa0\\xa0\\xa0The Management Board shall, within 6 months of the date of its first meeting, adopt detailed rules for the application of paragraphs 1 and\\xa02. 4.\\xa0\\xa0\\xa0Any natural or legal person shall be entitled to address the Agency in writing in any official language of the institutions of the Union. He or she shall have the right to receive an answer in the same language. 5.\\xa0\\xa0\\xa0Decisions taken by the Agency pursuant to Article\\xa08 of Regulation (EC) No\\xa01049/2001 may give rise to a complaint being lodged with the European Ombudsman or an action before the CJEU, under the conditions laid down in Articles 228 and\\xa0263 TFEU respectively. 1.\\xa0\\xa0\\xa0In order to combat fraud, corruption and other unlawful activities Regulation (EU, Euratom) No\\xa0883/2013 shall apply without restriction. The Agency shall accede to the Interinstitutional Agreement of 25\\xa0May 1999 concerning internal investigations by OLAF and adopt appropriate provisions applicable to all the employees of the Agency using the template set out in the Annex to that Agreement. 2.\\xa0\\xa0\\xa0The Court of Auditors shall have the power of audit, on the basis of documents and on-the-spot checks and inspections, over all grant beneficiaries, contractors and subcontractors who have received Union funds from the Agency. 3.\\xa0\\xa0\\xa0OLAF may carry out investigations, including on-the-spot checks and inspections in accordance with the provisions and procedures laid down in Regulation (EU, Euratom) No\\xa0883/2013 and Council Regulation (Euratom, EC) No\\xa02185/96\\xa0(28) with a view to establishing whether there has been fraud, corruption or any other illegal activity affecting the financial interests of the Union in connection with a grant agreement or grant decision or a contract funded by the Agency. 4.\\xa0\\xa0\\xa0Without prejudice to paragraphs 1, 2 and\\xa03, working arrangements with third countries and international organisations, contracts, grant agreements and grant decisions of the Agency shall contain provisions expressly empowering the Court of Auditors and OLAF to conduct such audits and investigations, in accordance with their respective competences. 1.\\xa0\\xa0\\xa0The Agency shall apply the Commission’s rules on security as set out in Commission Decisions (EU, Euratom) 2015/443\\xa0(29) and (EU, Euratom) 2015/444. Those rules shall apply, in particular, to the exchange, processing and storage of classified information. 2.\\xa0\\xa0\\xa0The Agency shall apply the security principles relating to the processing of non-classified sensitive information as set out in Decisions (EU, Euratom) 2015/443 and (EU, Euratom) 2015/444 and as implemented by the Commission. The Management Board shall establish measures for the application of those security principles. 3.\\xa0\\xa0\\xa0Classification shall not preclude information from being made available to the European Parliament. The transmission and handling of information and documents transmitted to the European Parliament in accordance with this Regulation shall comply with the rules concerning the forwarding and handling of classified information which are applicable between the European Parliament and the Commission. 1.\\xa0\\xa0\\xa0The Agency’s contractual liability shall be governed by the law applicable to the contract in question. 2.\\xa0\\xa0\\xa0The CJEU shall have jurisdiction to give judgment pursuant to any arbitration clause contained in a contract concluded by the Agency. 3.\\xa0\\xa0\\xa0In the case of non-contractual liability, the Agency shall, in accordance with the general principles common to the laws of the Member States, make good any damage caused by its departments or by its staff in the performance of their duties. 4.\\xa0\\xa0\\xa0The CJEU shall have jurisdiction in disputes over compensation for damages referred to in paragraph 3. 5.\\xa0\\xa0\\xa0The personal liability of the Agency’s staff towards it shall be governed by the provisions of the Staff Regulations or Conditions of Employment applicable to them. The activities of the Agency shall be subject to the inquiries of the European Ombudsman in accordance with Article\\xa0228 TFEU. 1.\\xa0\\xa0\\xa0The necessary arrangements concerning the accommodation to be provided to the Agency in the Member State in which the Agency has its seat, the facilities to be made available by that Member State and the specific rules applicable in that Member State to members of the Management Board, Agency staff and members of their families shall be laid down in a Headquarters Agreement between the Agency and that Member State. The Headquarters Agreement shall be concluded after obtaining the approval of the Management Board. 2.\\xa0\\xa0\\xa0The Member State in which the Agency has its seat shall provide the Agency with the conditions necessary to ensure its proper functioning, including multilingual, European-oriented schooling and appropriate transport connections. The Agency shall draw up an annual report on the situation of asylum in the Union. The Agency shall transmit that report to the Management Board, to the European Parliament, to the Council and to the Commission, and the Executive Director shall present it to the European Parliament. The annual report on the situation of asylum in the Union shall be made public. 1.\\xa0\\xa0\\xa0Three months following the replacement of Regulation (EU) No\\xa0604/2013, the Commission shall report to the European Parliament and to the Council on the results of its evaluation of whether this Regulation needs to be amended for the purpose of ensuring the coherence and internal consistency of the Union legal framework, in particular as regards the provisions on the monitoring mechanism referred to in Article\\xa014, and shall present the necessary proposals to amend this Regulation, as appropriate. 2.\\xa0\\xa0\\xa0By 20\\xa0January 2025, and every 5 years thereafter, the Commission shall commission an independent external evaluation to assess, in particular, the Agency’s performance in relation to its objectives, mandate and tasks. That evaluation shall cover the Agency’s impact on practical cooperation on asylum-related matters and on facilitating the implementation of the CEAS. The evaluation shall take due regard of progress made within the Agency’s mandate, including an assessment of whether additional measures are necessary to ensure effective solidarity and sharing of responsibilities with Member States subject to particular pressure. The evaluation referred to in the first subparagraph shall, in particular, address the possible need to modify the mandate of the Agency and the financial implications of any such modification. It shall also examine whether the management structure is appropriate for carrying out the Agency’s tasks. The evaluation shall take into account the views of stakeholders at both Union and national level. 3.\\xa0\\xa0\\xa0The Commission shall send the report that is the result of the evaluation referred to in paragraph 2, together with its conclusions on that report, to the European Parliament, to the Council and to the Management Board. 4.\\xa0\\xa0\\xa0On the occasion of every second evaluation referred to in paragraph 2, the Commission shall consider whether continuation of the Agency is justified with regard to its objectives, mandate and tasks, and it may propose that this Regulation be amended accordingly or repealed. The Agency shall succeed EASO as regards all ownership, agreements, legal obligations, employment contracts, financial commitments and liabilities. In particular, this Regulation shall not affect the rights and obligations of the staff of EASO whose continuity of career shall be ensured in all respects. Regulation (EU) No\\xa0439/2010 is replaced with regard to the Member States bound by this Regulation. Therefore, Regulation (EU) No\\xa0439/2010 is repealed. With regard to the Member States bound by this Regulation, references to the repealed Regulation shall be construed as references to this Regulation and shall be read in accordance with the correlation table set out in Annex II. This Regulation shall enter into force on the twentieth day following that of its publication in the Official Journal of the European Union. Article\\xa02(1), point (q), Article\\xa014 and Article\\xa015(1), (2) and\\xa0(3) shall apply from 31\\xa0December 2023, and Article\\xa015(4) to (8) and Article\\xa022 shall apply from the date on which Regulation (EU) No\\xa0604/2013 is replaced, unless that Regulation is replaced before 31\\xa0December 2023, in which case those provisions shall apply from 31\\xa0December 2023. This Regulation shall be binding in its entirety and directly applicable in the Member States in accordance with the Treaties. Done at Strasbourg, 15\\xa0December 2021. \\xa0'"
            ],
            "application/vnd.google.colaboratory.intrinsic+json": {
              "type": "string"
            }
          },
          "metadata": {},
          "execution_count": 16
        }
      ]
    },
    {
      "cell_type": "code",
      "source": [
        "#Instantiating BERTtopic\n",
        "\n",
        "eu_topic_model = BERTopic(language=\"english\", calculate_probabilities=True, verbose=True).fit(eu_docs)\n",
        "topics, probs = eu_topic_model.fit_transform(eu_docs)"
      ],
      "metadata": {
        "colab": {
          "base_uri": "https://localhost:8080/",
          "height": 191,
          "referenced_widgets": [
            "c90b6fc4457c40a68236cd03a0aefabc",
            "0509f65a97a74cf6833c848361196c91",
            "4625d603aea343568c332bd79aa2e80a",
            "96ed8dc1c3c8424893fb2f81bbd15467",
            "a3788d0ee79f455593bd41c3cf8de931",
            "9f383a1a75f249e9b1323bbeb30bf5fc",
            "1650b572414b4d3a9341ff33744dd341",
            "7555e24aa0084ae5a2d54cd1765dbc3c",
            "c2ea4d63f47146b68f2a912f5050f89c",
            "bd269c2938d8413a9df6eab9d134e846",
            "414d7f5bc6474920997a792cd219cce2",
            "6850ae517f414f97a28a277c7b1f92be",
            "7783bef51a5745a28b4ceb739bd92ea5",
            "843b9602bbed47cb9cd19c1457366ee1",
            "360675c5fb044449833b1a971abc28f5",
            "52d1523c88c04c3d9a6d865fd90fd87b",
            "3996d2019f5642e3becdc3f637288c09",
            "8741670db2d445d7910baa870e60ad68",
            "3bea394975ef425da922db13ea56bef5",
            "2d429fac3bd6449abab6e6f568214dd6",
            "0b4eec669f764643b300fda75baac3fe",
            "0ee23dcfb4684c268560d393a1c63241"
          ]
        },
        "id": "89jm-lgwJVKN",
        "outputId": "c1a15d17-2bc5-49ec-a24e-ff31c53b01e6"
      },
      "id": "89jm-lgwJVKN",
      "execution_count": 17,
      "outputs": [
        {
          "output_type": "display_data",
          "data": {
            "text/plain": [
              "Batches:   0%|          | 0/1 [00:00<?, ?it/s]"
            ],
            "application/vnd.jupyter.widget-view+json": {
              "version_major": 2,
              "version_minor": 0,
              "model_id": "c90b6fc4457c40a68236cd03a0aefabc"
            }
          },
          "metadata": {}
        },
        {
          "output_type": "stream",
          "name": "stderr",
          "text": [
            "2022-06-01 08:28:55,837 - BERTopic - Transformed documents to Embeddings\n",
            "2022-06-01 08:28:58,697 - BERTopic - Reduced dimensionality\n",
            "2022-06-01 08:28:58,707 - BERTopic - Clustered reduced embeddings\n"
          ]
        },
        {
          "output_type": "display_data",
          "data": {
            "text/plain": [
              "Batches:   0%|          | 0/1 [00:00<?, ?it/s]"
            ],
            "application/vnd.jupyter.widget-view+json": {
              "version_major": 2,
              "version_minor": 0,
              "model_id": "6850ae517f414f97a28a277c7b1f92be"
            }
          },
          "metadata": {}
        },
        {
          "output_type": "stream",
          "name": "stderr",
          "text": [
            "2022-06-01 08:29:00,348 - BERTopic - Transformed documents to Embeddings\n",
            "2022-06-01 08:29:02,860 - BERTopic - Reduced dimensionality\n",
            "2022-06-01 08:29:02,870 - BERTopic - Clustered reduced embeddings\n"
          ]
        }
      ]
    },
    {
      "cell_type": "code",
      "source": [
        "eu_topic_model.get_topic_info()"
      ],
      "metadata": {
        "colab": {
          "base_uri": "https://localhost:8080/",
          "height": 81
        },
        "id": "OQIREwAusHzY",
        "outputId": "a2d8e0c3-7372-4910-f449-ce23e025496c"
      },
      "id": "OQIREwAusHzY",
      "execution_count": null,
      "outputs": [
        {
          "output_type": "execute_result",
          "data": {
            "text/plain": [
              "   Topic  Count              Name\n",
              "0     -1     20  -1_the_of_and_to"
            ],
            "text/html": [
              "\n",
              "  <div id=\"df-c713088f-5845-4cde-912c-521583df0476\">\n",
              "    <div class=\"colab-df-container\">\n",
              "      <div>\n",
              "<style scoped>\n",
              "    .dataframe tbody tr th:only-of-type {\n",
              "        vertical-align: middle;\n",
              "    }\n",
              "\n",
              "    .dataframe tbody tr th {\n",
              "        vertical-align: top;\n",
              "    }\n",
              "\n",
              "    .dataframe thead th {\n",
              "        text-align: right;\n",
              "    }\n",
              "</style>\n",
              "<table border=\"1\" class=\"dataframe\">\n",
              "  <thead>\n",
              "    <tr style=\"text-align: right;\">\n",
              "      <th></th>\n",
              "      <th>Topic</th>\n",
              "      <th>Count</th>\n",
              "      <th>Name</th>\n",
              "    </tr>\n",
              "  </thead>\n",
              "  <tbody>\n",
              "    <tr>\n",
              "      <th>0</th>\n",
              "      <td>-1</td>\n",
              "      <td>20</td>\n",
              "      <td>-1_the_of_and_to</td>\n",
              "    </tr>\n",
              "  </tbody>\n",
              "</table>\n",
              "</div>\n",
              "      <button class=\"colab-df-convert\" onclick=\"convertToInteractive('df-c713088f-5845-4cde-912c-521583df0476')\"\n",
              "              title=\"Convert this dataframe to an interactive table.\"\n",
              "              style=\"display:none;\">\n",
              "        \n",
              "  <svg xmlns=\"http://www.w3.org/2000/svg\" height=\"24px\"viewBox=\"0 0 24 24\"\n",
              "       width=\"24px\">\n",
              "    <path d=\"M0 0h24v24H0V0z\" fill=\"none\"/>\n",
              "    <path d=\"M18.56 5.44l.94 2.06.94-2.06 2.06-.94-2.06-.94-.94-2.06-.94 2.06-2.06.94zm-11 1L8.5 8.5l.94-2.06 2.06-.94-2.06-.94L8.5 2.5l-.94 2.06-2.06.94zm10 10l.94 2.06.94-2.06 2.06-.94-2.06-.94-.94-2.06-.94 2.06-2.06.94z\"/><path d=\"M17.41 7.96l-1.37-1.37c-.4-.4-.92-.59-1.43-.59-.52 0-1.04.2-1.43.59L10.3 9.45l-7.72 7.72c-.78.78-.78 2.05 0 2.83L4 21.41c.39.39.9.59 1.41.59.51 0 1.02-.2 1.41-.59l7.78-7.78 2.81-2.81c.8-.78.8-2.07 0-2.86zM5.41 20L4 18.59l7.72-7.72 1.47 1.35L5.41 20z\"/>\n",
              "  </svg>\n",
              "      </button>\n",
              "      \n",
              "  <style>\n",
              "    .colab-df-container {\n",
              "      display:flex;\n",
              "      flex-wrap:wrap;\n",
              "      gap: 12px;\n",
              "    }\n",
              "\n",
              "    .colab-df-convert {\n",
              "      background-color: #E8F0FE;\n",
              "      border: none;\n",
              "      border-radius: 50%;\n",
              "      cursor: pointer;\n",
              "      display: none;\n",
              "      fill: #1967D2;\n",
              "      height: 32px;\n",
              "      padding: 0 0 0 0;\n",
              "      width: 32px;\n",
              "    }\n",
              "\n",
              "    .colab-df-convert:hover {\n",
              "      background-color: #E2EBFA;\n",
              "      box-shadow: 0px 1px 2px rgba(60, 64, 67, 0.3), 0px 1px 3px 1px rgba(60, 64, 67, 0.15);\n",
              "      fill: #174EA6;\n",
              "    }\n",
              "\n",
              "    [theme=dark] .colab-df-convert {\n",
              "      background-color: #3B4455;\n",
              "      fill: #D2E3FC;\n",
              "    }\n",
              "\n",
              "    [theme=dark] .colab-df-convert:hover {\n",
              "      background-color: #434B5C;\n",
              "      box-shadow: 0px 1px 3px 1px rgba(0, 0, 0, 0.15);\n",
              "      filter: drop-shadow(0px 1px 2px rgba(0, 0, 0, 0.3));\n",
              "      fill: #FFFFFF;\n",
              "    }\n",
              "  </style>\n",
              "\n",
              "      <script>\n",
              "        const buttonEl =\n",
              "          document.querySelector('#df-c713088f-5845-4cde-912c-521583df0476 button.colab-df-convert');\n",
              "        buttonEl.style.display =\n",
              "          google.colab.kernel.accessAllowed ? 'block' : 'none';\n",
              "\n",
              "        async function convertToInteractive(key) {\n",
              "          const element = document.querySelector('#df-c713088f-5845-4cde-912c-521583df0476');\n",
              "          const dataTable =\n",
              "            await google.colab.kernel.invokeFunction('convertToInteractive',\n",
              "                                                     [key], {});\n",
              "          if (!dataTable) return;\n",
              "\n",
              "          const docLinkHtml = 'Like what you see? Visit the ' +\n",
              "            '<a target=\"_blank\" href=https://colab.research.google.com/notebooks/data_table.ipynb>data table notebook</a>'\n",
              "            + ' to learn more about interactive tables.';\n",
              "          element.innerHTML = '';\n",
              "          dataTable['output_type'] = 'display_data';\n",
              "          await google.colab.output.renderOutput(dataTable, element);\n",
              "          const docLink = document.createElement('div');\n",
              "          docLink.innerHTML = docLinkHtml;\n",
              "          element.appendChild(docLink);\n",
              "        }\n",
              "      </script>\n",
              "    </div>\n",
              "  </div>\n",
              "  "
            ]
          },
          "metadata": {},
          "execution_count": 48
        }
      ]
    },
    {
      "cell_type": "markdown",
      "source": [
        "### *Different Embedding-Models*"
      ],
      "metadata": {
        "id": "jk6Mmnzaql_5"
      },
      "id": "jk6Mmnzaql_5"
    },
    {
      "cell_type": "code",
      "source": [
        "#All-mpnet – check out: https://www.sbert.net/docs/pretrained_models.html\n",
        "\n",
        "eu_topic_model_2 = BERTopic(embedding_model=\"all-mpnet-base-v2\").fit(eu_docs)\n",
        "topics, probs = eu_topic_model_2.fit_transform(eu_docs)"
      ],
      "metadata": {
        "id": "blRtE7Fpqk0W",
        "colab": {
          "base_uri": "https://localhost:8080/"
        },
        "outputId": "ada24feb-78b5-4527-9df1-131aa03c83e9"
      },
      "id": "blRtE7Fpqk0W",
      "execution_count": 18,
      "outputs": [
        {
          "output_type": "stream",
          "name": "stderr",
          "text": [
            "2022-06-01 08:29:19,847 - BERTopic - Transformed documents to Embeddings\n",
            "2022-06-01 08:29:22,383 - BERTopic - Reduced dimensionality\n",
            "2022-06-01 08:29:22,393 - BERTopic - Clustered reduced embeddings\n",
            "2022-06-01 08:29:24,417 - BERTopic - Transformed documents to Embeddings\n",
            "2022-06-01 08:29:27,305 - BERTopic - Reduced dimensionality\n",
            "2022-06-01 08:29:27,314 - BERTopic - Clustered reduced embeddings\n"
          ]
        }
      ]
    },
    {
      "cell_type": "code",
      "source": [
        "eu_topic_model_2.get_topic_info()"
      ],
      "metadata": {
        "id": "ZteeIs9mCJgL",
        "colab": {
          "base_uri": "https://localhost:8080/",
          "height": 81
        },
        "outputId": "84472413-ef72-4ce4-960d-6dfdfdc37d79"
      },
      "id": "ZteeIs9mCJgL",
      "execution_count": 19,
      "outputs": [
        {
          "output_type": "execute_result",
          "data": {
            "text/plain": [
              "   Topic  Count              Name\n",
              "0     -1     20  -1_the_of_and_to"
            ],
            "text/html": [
              "\n",
              "  <div id=\"df-df5fa533-25a4-45c6-ad49-35ced82de065\">\n",
              "    <div class=\"colab-df-container\">\n",
              "      <div>\n",
              "<style scoped>\n",
              "    .dataframe tbody tr th:only-of-type {\n",
              "        vertical-align: middle;\n",
              "    }\n",
              "\n",
              "    .dataframe tbody tr th {\n",
              "        vertical-align: top;\n",
              "    }\n",
              "\n",
              "    .dataframe thead th {\n",
              "        text-align: right;\n",
              "    }\n",
              "</style>\n",
              "<table border=\"1\" class=\"dataframe\">\n",
              "  <thead>\n",
              "    <tr style=\"text-align: right;\">\n",
              "      <th></th>\n",
              "      <th>Topic</th>\n",
              "      <th>Count</th>\n",
              "      <th>Name</th>\n",
              "    </tr>\n",
              "  </thead>\n",
              "  <tbody>\n",
              "    <tr>\n",
              "      <th>0</th>\n",
              "      <td>-1</td>\n",
              "      <td>20</td>\n",
              "      <td>-1_the_of_and_to</td>\n",
              "    </tr>\n",
              "  </tbody>\n",
              "</table>\n",
              "</div>\n",
              "      <button class=\"colab-df-convert\" onclick=\"convertToInteractive('df-df5fa533-25a4-45c6-ad49-35ced82de065')\"\n",
              "              title=\"Convert this dataframe to an interactive table.\"\n",
              "              style=\"display:none;\">\n",
              "        \n",
              "  <svg xmlns=\"http://www.w3.org/2000/svg\" height=\"24px\"viewBox=\"0 0 24 24\"\n",
              "       width=\"24px\">\n",
              "    <path d=\"M0 0h24v24H0V0z\" fill=\"none\"/>\n",
              "    <path d=\"M18.56 5.44l.94 2.06.94-2.06 2.06-.94-2.06-.94-.94-2.06-.94 2.06-2.06.94zm-11 1L8.5 8.5l.94-2.06 2.06-.94-2.06-.94L8.5 2.5l-.94 2.06-2.06.94zm10 10l.94 2.06.94-2.06 2.06-.94-2.06-.94-.94-2.06-.94 2.06-2.06.94z\"/><path d=\"M17.41 7.96l-1.37-1.37c-.4-.4-.92-.59-1.43-.59-.52 0-1.04.2-1.43.59L10.3 9.45l-7.72 7.72c-.78.78-.78 2.05 0 2.83L4 21.41c.39.39.9.59 1.41.59.51 0 1.02-.2 1.41-.59l7.78-7.78 2.81-2.81c.8-.78.8-2.07 0-2.86zM5.41 20L4 18.59l7.72-7.72 1.47 1.35L5.41 20z\"/>\n",
              "  </svg>\n",
              "      </button>\n",
              "      \n",
              "  <style>\n",
              "    .colab-df-container {\n",
              "      display:flex;\n",
              "      flex-wrap:wrap;\n",
              "      gap: 12px;\n",
              "    }\n",
              "\n",
              "    .colab-df-convert {\n",
              "      background-color: #E8F0FE;\n",
              "      border: none;\n",
              "      border-radius: 50%;\n",
              "      cursor: pointer;\n",
              "      display: none;\n",
              "      fill: #1967D2;\n",
              "      height: 32px;\n",
              "      padding: 0 0 0 0;\n",
              "      width: 32px;\n",
              "    }\n",
              "\n",
              "    .colab-df-convert:hover {\n",
              "      background-color: #E2EBFA;\n",
              "      box-shadow: 0px 1px 2px rgba(60, 64, 67, 0.3), 0px 1px 3px 1px rgba(60, 64, 67, 0.15);\n",
              "      fill: #174EA6;\n",
              "    }\n",
              "\n",
              "    [theme=dark] .colab-df-convert {\n",
              "      background-color: #3B4455;\n",
              "      fill: #D2E3FC;\n",
              "    }\n",
              "\n",
              "    [theme=dark] .colab-df-convert:hover {\n",
              "      background-color: #434B5C;\n",
              "      box-shadow: 0px 1px 3px 1px rgba(0, 0, 0, 0.15);\n",
              "      filter: drop-shadow(0px 1px 2px rgba(0, 0, 0, 0.3));\n",
              "      fill: #FFFFFF;\n",
              "    }\n",
              "  </style>\n",
              "\n",
              "      <script>\n",
              "        const buttonEl =\n",
              "          document.querySelector('#df-df5fa533-25a4-45c6-ad49-35ced82de065 button.colab-df-convert');\n",
              "        buttonEl.style.display =\n",
              "          google.colab.kernel.accessAllowed ? 'block' : 'none';\n",
              "\n",
              "        async function convertToInteractive(key) {\n",
              "          const element = document.querySelector('#df-df5fa533-25a4-45c6-ad49-35ced82de065');\n",
              "          const dataTable =\n",
              "            await google.colab.kernel.invokeFunction('convertToInteractive',\n",
              "                                                     [key], {});\n",
              "          if (!dataTable) return;\n",
              "\n",
              "          const docLinkHtml = 'Like what you see? Visit the ' +\n",
              "            '<a target=\"_blank\" href=https://colab.research.google.com/notebooks/data_table.ipynb>data table notebook</a>'\n",
              "            + ' to learn more about interactive tables.';\n",
              "          element.innerHTML = '';\n",
              "          dataTable['output_type'] = 'display_data';\n",
              "          await google.colab.output.renderOutput(dataTable, element);\n",
              "          const docLink = document.createElement('div');\n",
              "          docLink.innerHTML = docLinkHtml;\n",
              "          element.appendChild(docLink);\n",
              "        }\n",
              "      </script>\n",
              "    </div>\n",
              "  </div>\n",
              "  "
            ]
          },
          "metadata": {},
          "execution_count": 19
        }
      ]
    },
    {
      "cell_type": "code",
      "source": [
        "#Getting Top 5 topics\n",
        "\"\"\"The input-data was way to small to get something meaningful here...\"\"\"\n",
        "\n",
        "freq = topic_model.get_topic_info(5)"
      ],
      "metadata": {
        "id": "UP98BVvdOj9A"
      },
      "id": "UP98BVvdOj9A",
      "execution_count": 20,
      "outputs": []
    },
    {
      "cell_type": "code",
      "source": [
        "# Select the most frequent topic\n",
        "topic_model.get_topic(0)  # Select the most frequent topic"
      ],
      "metadata": {
        "colab": {
          "base_uri": "https://localhost:8080/"
        },
        "id": "0fVxHsmfKe8g",
        "outputId": "ecf69ee3-e8f1-4000-e54f-6d67307bb7d8"
      },
      "id": "0fVxHsmfKe8g",
      "execution_count": 21,
      "outputs": [
        {
          "output_type": "execute_result",
          "data": {
            "text/plain": [
              "[('game', 0.010320859262103797),\n",
              " ('team', 0.008996932328732101),\n",
              " ('games', 0.007170429245303449),\n",
              " ('he', 0.006975207241406137),\n",
              " ('players', 0.006282292942426023),\n",
              " ('season', 0.006213359656378095),\n",
              " ('hockey', 0.006115068609007399),\n",
              " ('play', 0.005768177503279186),\n",
              " ('25', 0.005627208580949827),\n",
              " ('year', 0.005577108940980226)]"
            ]
          },
          "metadata": {},
          "execution_count": 21
        }
      ]
    },
    {
      "cell_type": "code",
      "execution_count": 22,
      "id": "bc0aea23",
      "metadata": {
        "colab": {
          "base_uri": "https://localhost:8080/",
          "height": 208
        },
        "id": "bc0aea23",
        "outputId": "2ab2614e-c7f9-493c-8997-3b83b5961cf9"
      },
      "outputs": [
        {
          "output_type": "error",
          "ename": "IndexError",
          "evalue": "ignored",
          "traceback": [
            "\u001b[0;31m---------------------------------------------------------------------------\u001b[0m",
            "\u001b[0;31mIndexError\u001b[0m                                Traceback (most recent call last)",
            "\u001b[0;32m<ipython-input-22-f2345c38a3d4>\u001b[0m in \u001b[0;36m<module>\u001b[0;34m()\u001b[0m\n\u001b[1;32m      1\u001b[0m \u001b[0;31m#Visualize Topic Probabilities\u001b[0m\u001b[0;34m\u001b[0m\u001b[0;34m\u001b[0m\u001b[0;34m\u001b[0m\u001b[0m\n\u001b[1;32m      2\u001b[0m \u001b[0;34m\u001b[0m\u001b[0m\n\u001b[0;32m----> 3\u001b[0;31m \u001b[0mtopic_model\u001b[0m\u001b[0;34m.\u001b[0m\u001b[0mvisualize_distribution\u001b[0m\u001b[0;34m(\u001b[0m\u001b[0mprobs\u001b[0m\u001b[0;34m[\u001b[0m\u001b[0;36m200\u001b[0m\u001b[0;34m]\u001b[0m\u001b[0;34m,\u001b[0m \u001b[0mmin_probability\u001b[0m\u001b[0;34m=\u001b[0m\u001b[0;36m0.015\u001b[0m\u001b[0;34m)\u001b[0m\u001b[0;34m\u001b[0m\u001b[0;34m\u001b[0m\u001b[0m\n\u001b[0m",
            "\u001b[0;31mIndexError\u001b[0m: index 200 is out of bounds for axis 0 with size 20"
          ]
        }
      ],
      "source": [
        "#Visualize Topic Probabilities\n",
        "\n",
        "topic_model.visualize_distribution(probs[200], min_probability=0.015)"
      ]
    },
    {
      "cell_type": "code",
      "source": [
        "#Visualize Terms\n",
        "\n",
        "topic_model.visualize_barchart(top_n_topics=3)"
      ],
      "metadata": {
        "colab": {
          "base_uri": "https://localhost:8080/",
          "height": 342
        },
        "id": "14BwbI9ZQTsh",
        "outputId": "d7397ea8-10c1-4de3-b648-2532596e2d65"
      },
      "id": "14BwbI9ZQTsh",
      "execution_count": 23,
      "outputs": [
        {
          "output_type": "display_data",
          "data": {
            "text/html": [
              "<html>\n",
              "<head><meta charset=\"utf-8\" /></head>\n",
              "<body>\n",
              "    <div>            <script src=\"https://cdnjs.cloudflare.com/ajax/libs/mathjax/2.7.5/MathJax.js?config=TeX-AMS-MML_SVG\"></script><script type=\"text/javascript\">if (window.MathJax) {MathJax.Hub.Config({SVG: {font: \"STIX-Web\"}});}</script>                <script type=\"text/javascript\">window.PlotlyConfig = {MathJaxConfig: 'local'};</script>\n",
              "        <script src=\"https://cdn.plot.ly/plotly-2.8.3.min.js\"></script>                <div id=\"72112b49-891b-48c2-8ba7-473e4724ec48\" class=\"plotly-graph-div\" style=\"height:325.0px; width:1000px;\"></div>            <script type=\"text/javascript\">                                    window.PLOTLYENV=window.PLOTLYENV || {};                                    if (document.getElementById(\"72112b49-891b-48c2-8ba7-473e4724ec48\")) {                    Plotly.newPlot(                        \"72112b49-891b-48c2-8ba7-473e4724ec48\",                        [{\"marker\":{\"color\":\"#D55E00\"},\"orientation\":\"h\",\"x\":[0.006282292942426023,0.006975207241406137,0.007170429245303449,0.008996932328732101,0.010320859262103797],\"y\":[\"players  \",\"he  \",\"games  \",\"team  \",\"game  \"],\"type\":\"bar\",\"xaxis\":\"x\",\"yaxis\":\"y\"},{\"marker\":{\"color\":\"#0072B2\"},\"orientation\":\"h\",\"x\":[0.009836760333701766,0.011629207802894406,0.01198703138531062,0.012573768577306053,0.014294926632634472],\"y\":[\"keys  \",\"encryption  \",\"chip  \",\"clipper  \",\"key  \"],\"type\":\"bar\",\"xaxis\":\"x2\",\"yaxis\":\"y2\"},{\"marker\":{\"color\":\"#CC79A7\"},\"orientation\":\"h\",\"x\":[0.3908529354705865,0.42345036374870515,0.4712743554579806,0.6348659573468265,0.6814830569398147],\"y\":[\"ken  \",\"huh  \",\"yep  \",\"cheek  \",\"ites  \"],\"type\":\"bar\",\"xaxis\":\"x3\",\"yaxis\":\"y3\"}],                        {\"template\":{\"data\":{\"barpolar\":[{\"marker\":{\"line\":{\"color\":\"white\",\"width\":0.5},\"pattern\":{\"fillmode\":\"overlay\",\"size\":10,\"solidity\":0.2}},\"type\":\"barpolar\"}],\"bar\":[{\"error_x\":{\"color\":\"#2a3f5f\"},\"error_y\":{\"color\":\"#2a3f5f\"},\"marker\":{\"line\":{\"color\":\"white\",\"width\":0.5},\"pattern\":{\"fillmode\":\"overlay\",\"size\":10,\"solidity\":0.2}},\"type\":\"bar\"}],\"carpet\":[{\"aaxis\":{\"endlinecolor\":\"#2a3f5f\",\"gridcolor\":\"#C8D4E3\",\"linecolor\":\"#C8D4E3\",\"minorgridcolor\":\"#C8D4E3\",\"startlinecolor\":\"#2a3f5f\"},\"baxis\":{\"endlinecolor\":\"#2a3f5f\",\"gridcolor\":\"#C8D4E3\",\"linecolor\":\"#C8D4E3\",\"minorgridcolor\":\"#C8D4E3\",\"startlinecolor\":\"#2a3f5f\"},\"type\":\"carpet\"}],\"choropleth\":[{\"colorbar\":{\"outlinewidth\":0,\"ticks\":\"\"},\"type\":\"choropleth\"}],\"contourcarpet\":[{\"colorbar\":{\"outlinewidth\":0,\"ticks\":\"\"},\"type\":\"contourcarpet\"}],\"contour\":[{\"colorbar\":{\"outlinewidth\":0,\"ticks\":\"\"},\"colorscale\":[[0.0,\"#0d0887\"],[0.1111111111111111,\"#46039f\"],[0.2222222222222222,\"#7201a8\"],[0.3333333333333333,\"#9c179e\"],[0.4444444444444444,\"#bd3786\"],[0.5555555555555556,\"#d8576b\"],[0.6666666666666666,\"#ed7953\"],[0.7777777777777778,\"#fb9f3a\"],[0.8888888888888888,\"#fdca26\"],[1.0,\"#f0f921\"]],\"type\":\"contour\"}],\"heatmapgl\":[{\"colorbar\":{\"outlinewidth\":0,\"ticks\":\"\"},\"colorscale\":[[0.0,\"#0d0887\"],[0.1111111111111111,\"#46039f\"],[0.2222222222222222,\"#7201a8\"],[0.3333333333333333,\"#9c179e\"],[0.4444444444444444,\"#bd3786\"],[0.5555555555555556,\"#d8576b\"],[0.6666666666666666,\"#ed7953\"],[0.7777777777777778,\"#fb9f3a\"],[0.8888888888888888,\"#fdca26\"],[1.0,\"#f0f921\"]],\"type\":\"heatmapgl\"}],\"heatmap\":[{\"colorbar\":{\"outlinewidth\":0,\"ticks\":\"\"},\"colorscale\":[[0.0,\"#0d0887\"],[0.1111111111111111,\"#46039f\"],[0.2222222222222222,\"#7201a8\"],[0.3333333333333333,\"#9c179e\"],[0.4444444444444444,\"#bd3786\"],[0.5555555555555556,\"#d8576b\"],[0.6666666666666666,\"#ed7953\"],[0.7777777777777778,\"#fb9f3a\"],[0.8888888888888888,\"#fdca26\"],[1.0,\"#f0f921\"]],\"type\":\"heatmap\"}],\"histogram2dcontour\":[{\"colorbar\":{\"outlinewidth\":0,\"ticks\":\"\"},\"colorscale\":[[0.0,\"#0d0887\"],[0.1111111111111111,\"#46039f\"],[0.2222222222222222,\"#7201a8\"],[0.3333333333333333,\"#9c179e\"],[0.4444444444444444,\"#bd3786\"],[0.5555555555555556,\"#d8576b\"],[0.6666666666666666,\"#ed7953\"],[0.7777777777777778,\"#fb9f3a\"],[0.8888888888888888,\"#fdca26\"],[1.0,\"#f0f921\"]],\"type\":\"histogram2dcontour\"}],\"histogram2d\":[{\"colorbar\":{\"outlinewidth\":0,\"ticks\":\"\"},\"colorscale\":[[0.0,\"#0d0887\"],[0.1111111111111111,\"#46039f\"],[0.2222222222222222,\"#7201a8\"],[0.3333333333333333,\"#9c179e\"],[0.4444444444444444,\"#bd3786\"],[0.5555555555555556,\"#d8576b\"],[0.6666666666666666,\"#ed7953\"],[0.7777777777777778,\"#fb9f3a\"],[0.8888888888888888,\"#fdca26\"],[1.0,\"#f0f921\"]],\"type\":\"histogram2d\"}],\"histogram\":[{\"marker\":{\"pattern\":{\"fillmode\":\"overlay\",\"size\":10,\"solidity\":0.2}},\"type\":\"histogram\"}],\"mesh3d\":[{\"colorbar\":{\"outlinewidth\":0,\"ticks\":\"\"},\"type\":\"mesh3d\"}],\"parcoords\":[{\"line\":{\"colorbar\":{\"outlinewidth\":0,\"ticks\":\"\"}},\"type\":\"parcoords\"}],\"pie\":[{\"automargin\":true,\"type\":\"pie\"}],\"scatter3d\":[{\"line\":{\"colorbar\":{\"outlinewidth\":0,\"ticks\":\"\"}},\"marker\":{\"colorbar\":{\"outlinewidth\":0,\"ticks\":\"\"}},\"type\":\"scatter3d\"}],\"scattercarpet\":[{\"marker\":{\"colorbar\":{\"outlinewidth\":0,\"ticks\":\"\"}},\"type\":\"scattercarpet\"}],\"scattergeo\":[{\"marker\":{\"colorbar\":{\"outlinewidth\":0,\"ticks\":\"\"}},\"type\":\"scattergeo\"}],\"scattergl\":[{\"marker\":{\"colorbar\":{\"outlinewidth\":0,\"ticks\":\"\"}},\"type\":\"scattergl\"}],\"scattermapbox\":[{\"marker\":{\"colorbar\":{\"outlinewidth\":0,\"ticks\":\"\"}},\"type\":\"scattermapbox\"}],\"scatterpolargl\":[{\"marker\":{\"colorbar\":{\"outlinewidth\":0,\"ticks\":\"\"}},\"type\":\"scatterpolargl\"}],\"scatterpolar\":[{\"marker\":{\"colorbar\":{\"outlinewidth\":0,\"ticks\":\"\"}},\"type\":\"scatterpolar\"}],\"scatter\":[{\"marker\":{\"colorbar\":{\"outlinewidth\":0,\"ticks\":\"\"}},\"type\":\"scatter\"}],\"scatterternary\":[{\"marker\":{\"colorbar\":{\"outlinewidth\":0,\"ticks\":\"\"}},\"type\":\"scatterternary\"}],\"surface\":[{\"colorbar\":{\"outlinewidth\":0,\"ticks\":\"\"},\"colorscale\":[[0.0,\"#0d0887\"],[0.1111111111111111,\"#46039f\"],[0.2222222222222222,\"#7201a8\"],[0.3333333333333333,\"#9c179e\"],[0.4444444444444444,\"#bd3786\"],[0.5555555555555556,\"#d8576b\"],[0.6666666666666666,\"#ed7953\"],[0.7777777777777778,\"#fb9f3a\"],[0.8888888888888888,\"#fdca26\"],[1.0,\"#f0f921\"]],\"type\":\"surface\"}],\"table\":[{\"cells\":{\"fill\":{\"color\":\"#EBF0F8\"},\"line\":{\"color\":\"white\"}},\"header\":{\"fill\":{\"color\":\"#C8D4E3\"},\"line\":{\"color\":\"white\"}},\"type\":\"table\"}]},\"layout\":{\"annotationdefaults\":{\"arrowcolor\":\"#2a3f5f\",\"arrowhead\":0,\"arrowwidth\":1},\"autotypenumbers\":\"strict\",\"coloraxis\":{\"colorbar\":{\"outlinewidth\":0,\"ticks\":\"\"}},\"colorscale\":{\"diverging\":[[0,\"#8e0152\"],[0.1,\"#c51b7d\"],[0.2,\"#de77ae\"],[0.3,\"#f1b6da\"],[0.4,\"#fde0ef\"],[0.5,\"#f7f7f7\"],[0.6,\"#e6f5d0\"],[0.7,\"#b8e186\"],[0.8,\"#7fbc41\"],[0.9,\"#4d9221\"],[1,\"#276419\"]],\"sequential\":[[0.0,\"#0d0887\"],[0.1111111111111111,\"#46039f\"],[0.2222222222222222,\"#7201a8\"],[0.3333333333333333,\"#9c179e\"],[0.4444444444444444,\"#bd3786\"],[0.5555555555555556,\"#d8576b\"],[0.6666666666666666,\"#ed7953\"],[0.7777777777777778,\"#fb9f3a\"],[0.8888888888888888,\"#fdca26\"],[1.0,\"#f0f921\"]],\"sequentialminus\":[[0.0,\"#0d0887\"],[0.1111111111111111,\"#46039f\"],[0.2222222222222222,\"#7201a8\"],[0.3333333333333333,\"#9c179e\"],[0.4444444444444444,\"#bd3786\"],[0.5555555555555556,\"#d8576b\"],[0.6666666666666666,\"#ed7953\"],[0.7777777777777778,\"#fb9f3a\"],[0.8888888888888888,\"#fdca26\"],[1.0,\"#f0f921\"]]},\"colorway\":[\"#636efa\",\"#EF553B\",\"#00cc96\",\"#ab63fa\",\"#FFA15A\",\"#19d3f3\",\"#FF6692\",\"#B6E880\",\"#FF97FF\",\"#FECB52\"],\"font\":{\"color\":\"#2a3f5f\"},\"geo\":{\"bgcolor\":\"white\",\"lakecolor\":\"white\",\"landcolor\":\"white\",\"showlakes\":true,\"showland\":true,\"subunitcolor\":\"#C8D4E3\"},\"hoverlabel\":{\"align\":\"left\"},\"hovermode\":\"closest\",\"mapbox\":{\"style\":\"light\"},\"paper_bgcolor\":\"white\",\"plot_bgcolor\":\"white\",\"polar\":{\"angularaxis\":{\"gridcolor\":\"#EBF0F8\",\"linecolor\":\"#EBF0F8\",\"ticks\":\"\"},\"bgcolor\":\"white\",\"radialaxis\":{\"gridcolor\":\"#EBF0F8\",\"linecolor\":\"#EBF0F8\",\"ticks\":\"\"}},\"scene\":{\"xaxis\":{\"backgroundcolor\":\"white\",\"gridcolor\":\"#DFE8F3\",\"gridwidth\":2,\"linecolor\":\"#EBF0F8\",\"showbackground\":true,\"ticks\":\"\",\"zerolinecolor\":\"#EBF0F8\"},\"yaxis\":{\"backgroundcolor\":\"white\",\"gridcolor\":\"#DFE8F3\",\"gridwidth\":2,\"linecolor\":\"#EBF0F8\",\"showbackground\":true,\"ticks\":\"\",\"zerolinecolor\":\"#EBF0F8\"},\"zaxis\":{\"backgroundcolor\":\"white\",\"gridcolor\":\"#DFE8F3\",\"gridwidth\":2,\"linecolor\":\"#EBF0F8\",\"showbackground\":true,\"ticks\":\"\",\"zerolinecolor\":\"#EBF0F8\"}},\"shapedefaults\":{\"line\":{\"color\":\"#2a3f5f\"}},\"ternary\":{\"aaxis\":{\"gridcolor\":\"#DFE8F3\",\"linecolor\":\"#A2B1C6\",\"ticks\":\"\"},\"baxis\":{\"gridcolor\":\"#DFE8F3\",\"linecolor\":\"#A2B1C6\",\"ticks\":\"\"},\"bgcolor\":\"white\",\"caxis\":{\"gridcolor\":\"#DFE8F3\",\"linecolor\":\"#A2B1C6\",\"ticks\":\"\"}},\"title\":{\"x\":0.05},\"xaxis\":{\"automargin\":true,\"gridcolor\":\"#EBF0F8\",\"linecolor\":\"#EBF0F8\",\"ticks\":\"\",\"title\":{\"standoff\":15},\"zerolinecolor\":\"#EBF0F8\",\"zerolinewidth\":2},\"yaxis\":{\"automargin\":true,\"gridcolor\":\"#EBF0F8\",\"linecolor\":\"#EBF0F8\",\"ticks\":\"\",\"title\":{\"standoff\":15},\"zerolinecolor\":\"#EBF0F8\",\"zerolinewidth\":2}}},\"xaxis\":{\"anchor\":\"y\",\"domain\":[0.0,0.175],\"showgrid\":true},\"yaxis\":{\"anchor\":\"x\",\"domain\":[0.0,1.0],\"showgrid\":true},\"xaxis2\":{\"anchor\":\"y2\",\"domain\":[0.275,0.45],\"showgrid\":true},\"yaxis2\":{\"anchor\":\"x2\",\"domain\":[0.0,1.0],\"showgrid\":true},\"xaxis3\":{\"anchor\":\"y3\",\"domain\":[0.55,0.7250000000000001],\"showgrid\":true},\"yaxis3\":{\"anchor\":\"x3\",\"domain\":[0.0,1.0],\"showgrid\":true},\"xaxis4\":{\"anchor\":\"y4\",\"domain\":[0.825,1.0],\"showgrid\":true},\"yaxis4\":{\"anchor\":\"x4\",\"domain\":[0.0,1.0],\"showgrid\":true},\"annotations\":[{\"font\":{\"size\":16},\"showarrow\":false,\"text\":\"Topic 0\",\"x\":0.0875,\"xanchor\":\"center\",\"xref\":\"paper\",\"y\":1.0,\"yanchor\":\"bottom\",\"yref\":\"paper\"},{\"font\":{\"size\":16},\"showarrow\":false,\"text\":\"Topic 1\",\"x\":0.36250000000000004,\"xanchor\":\"center\",\"xref\":\"paper\",\"y\":1.0,\"yanchor\":\"bottom\",\"yref\":\"paper\"},{\"font\":{\"size\":16},\"showarrow\":false,\"text\":\"Topic 2\",\"x\":0.6375000000000001,\"xanchor\":\"center\",\"xref\":\"paper\",\"y\":1.0,\"yanchor\":\"bottom\",\"yref\":\"paper\"}],\"title\":{\"font\":{\"size\":22,\"color\":\"Black\"},\"text\":\"<b>Topic Word Scores\",\"x\":0.5,\"xanchor\":\"center\",\"yanchor\":\"top\"},\"hoverlabel\":{\"font\":{\"size\":16,\"family\":\"Rockwell\"},\"bgcolor\":\"white\"},\"showlegend\":false,\"width\":1000,\"height\":325.0},                        {\"responsive\": true}                    ).then(function(){\n",
              "                            \n",
              "var gd = document.getElementById('72112b49-891b-48c2-8ba7-473e4724ec48');\n",
              "var x = new MutationObserver(function (mutations, observer) {{\n",
              "        var display = window.getComputedStyle(gd).display;\n",
              "        if (!display || display === 'none') {{\n",
              "            console.log([gd, 'removed!']);\n",
              "            Plotly.purge(gd);\n",
              "            observer.disconnect();\n",
              "        }}\n",
              "}});\n",
              "\n",
              "// Listen for the removal of the full notebook cells\n",
              "var notebookContainer = gd.closest('#notebook-container');\n",
              "if (notebookContainer) {{\n",
              "    x.observe(notebookContainer, {childList: true});\n",
              "}}\n",
              "\n",
              "// Listen for the clearing of the current output cell\n",
              "var outputEl = gd.closest('.output');\n",
              "if (outputEl) {{\n",
              "    x.observe(outputEl, {childList: true});\n",
              "}}\n",
              "\n",
              "                        })                };                            </script>        </div>\n",
              "</body>\n",
              "</html>"
            ]
          },
          "metadata": {}
        }
      ]
    }
  ],
  "metadata": {
    "kernelspec": {
      "display_name": "Python 3 (ipykernel)",
      "language": "python",
      "name": "python3"
    },
    "language_info": {
      "codemirror_mode": {
        "name": "ipython",
        "version": 3
      },
      "file_extension": ".py",
      "mimetype": "text/x-python",
      "name": "python",
      "nbconvert_exporter": "python",
      "pygments_lexer": "ipython3",
      "version": "3.8.13"
    },
    "toc": {
      "base_numbering": 1,
      "nav_menu": {},
      "number_sections": true,
      "sideBar": true,
      "skip_h1_title": false,
      "title_cell": "Table of Contents",
      "title_sidebar": "Contents",
      "toc_cell": false,
      "toc_position": {},
      "toc_section_display": true,
      "toc_window_display": false
    },
    "colab": {
      "name": "AxPic_mock_up_BERT_model_more data.ipynb",
      "provenance": [],
      "collapsed_sections": [],
      "machine_shape": "hm"
    },
    "accelerator": "GPU",
    "widgets": {
      "application/vnd.jupyter.widget-state+json": {
        "54ece9601fc94654a75b48a575e1dd9c": {
          "model_module": "@jupyter-widgets/controls",
          "model_name": "HBoxModel",
          "model_module_version": "1.5.0",
          "state": {
            "_dom_classes": [],
            "_model_module": "@jupyter-widgets/controls",
            "_model_module_version": "1.5.0",
            "_model_name": "HBoxModel",
            "_view_count": null,
            "_view_module": "@jupyter-widgets/controls",
            "_view_module_version": "1.5.0",
            "_view_name": "HBoxView",
            "box_style": "",
            "children": [
              "IPY_MODEL_750a651ce22a494285e45f67a2254242",
              "IPY_MODEL_9a913d7c23944a1db2cb34d8192750c1",
              "IPY_MODEL_a7cfc82f2a514285bc1bf69bc2f1ada7"
            ],
            "layout": "IPY_MODEL_353bbc499b154262a362b452e0789582"
          }
        },
        "750a651ce22a494285e45f67a2254242": {
          "model_module": "@jupyter-widgets/controls",
          "model_name": "HTMLModel",
          "model_module_version": "1.5.0",
          "state": {
            "_dom_classes": [],
            "_model_module": "@jupyter-widgets/controls",
            "_model_module_version": "1.5.0",
            "_model_name": "HTMLModel",
            "_view_count": null,
            "_view_module": "@jupyter-widgets/controls",
            "_view_module_version": "1.5.0",
            "_view_name": "HTMLView",
            "description": "",
            "description_tooltip": null,
            "layout": "IPY_MODEL_e59954c3fb8c4e748470cf4e07145546",
            "placeholder": "​",
            "style": "IPY_MODEL_5acd978479f1400c9c7b62b06edab889",
            "value": "Batches: 100%"
          }
        },
        "9a913d7c23944a1db2cb34d8192750c1": {
          "model_module": "@jupyter-widgets/controls",
          "model_name": "FloatProgressModel",
          "model_module_version": "1.5.0",
          "state": {
            "_dom_classes": [],
            "_model_module": "@jupyter-widgets/controls",
            "_model_module_version": "1.5.0",
            "_model_name": "FloatProgressModel",
            "_view_count": null,
            "_view_module": "@jupyter-widgets/controls",
            "_view_module_version": "1.5.0",
            "_view_name": "ProgressView",
            "bar_style": "success",
            "description": "",
            "description_tooltip": null,
            "layout": "IPY_MODEL_d0561c962a38465fae212c6c1ae26486",
            "max": 589,
            "min": 0,
            "orientation": "horizontal",
            "style": "IPY_MODEL_fd6fecb7b18d4cb4a2ae56e8553263c0",
            "value": 589
          }
        },
        "a7cfc82f2a514285bc1bf69bc2f1ada7": {
          "model_module": "@jupyter-widgets/controls",
          "model_name": "HTMLModel",
          "model_module_version": "1.5.0",
          "state": {
            "_dom_classes": [],
            "_model_module": "@jupyter-widgets/controls",
            "_model_module_version": "1.5.0",
            "_model_name": "HTMLModel",
            "_view_count": null,
            "_view_module": "@jupyter-widgets/controls",
            "_view_module_version": "1.5.0",
            "_view_name": "HTMLView",
            "description": "",
            "description_tooltip": null,
            "layout": "IPY_MODEL_b8e0ef50323b447da153177dace6e27a",
            "placeholder": "​",
            "style": "IPY_MODEL_8b0edfdc75a14096ad1eb93be3b238b4",
            "value": " 589/589 [00:37&lt;00:00, 100.64it/s]"
          }
        },
        "353bbc499b154262a362b452e0789582": {
          "model_module": "@jupyter-widgets/base",
          "model_name": "LayoutModel",
          "model_module_version": "1.2.0",
          "state": {
            "_model_module": "@jupyter-widgets/base",
            "_model_module_version": "1.2.0",
            "_model_name": "LayoutModel",
            "_view_count": null,
            "_view_module": "@jupyter-widgets/base",
            "_view_module_version": "1.2.0",
            "_view_name": "LayoutView",
            "align_content": null,
            "align_items": null,
            "align_self": null,
            "border": null,
            "bottom": null,
            "display": null,
            "flex": null,
            "flex_flow": null,
            "grid_area": null,
            "grid_auto_columns": null,
            "grid_auto_flow": null,
            "grid_auto_rows": null,
            "grid_column": null,
            "grid_gap": null,
            "grid_row": null,
            "grid_template_areas": null,
            "grid_template_columns": null,
            "grid_template_rows": null,
            "height": null,
            "justify_content": null,
            "justify_items": null,
            "left": null,
            "margin": null,
            "max_height": null,
            "max_width": null,
            "min_height": null,
            "min_width": null,
            "object_fit": null,
            "object_position": null,
            "order": null,
            "overflow": null,
            "overflow_x": null,
            "overflow_y": null,
            "padding": null,
            "right": null,
            "top": null,
            "visibility": null,
            "width": null
          }
        },
        "e59954c3fb8c4e748470cf4e07145546": {
          "model_module": "@jupyter-widgets/base",
          "model_name": "LayoutModel",
          "model_module_version": "1.2.0",
          "state": {
            "_model_module": "@jupyter-widgets/base",
            "_model_module_version": "1.2.0",
            "_model_name": "LayoutModel",
            "_view_count": null,
            "_view_module": "@jupyter-widgets/base",
            "_view_module_version": "1.2.0",
            "_view_name": "LayoutView",
            "align_content": null,
            "align_items": null,
            "align_self": null,
            "border": null,
            "bottom": null,
            "display": null,
            "flex": null,
            "flex_flow": null,
            "grid_area": null,
            "grid_auto_columns": null,
            "grid_auto_flow": null,
            "grid_auto_rows": null,
            "grid_column": null,
            "grid_gap": null,
            "grid_row": null,
            "grid_template_areas": null,
            "grid_template_columns": null,
            "grid_template_rows": null,
            "height": null,
            "justify_content": null,
            "justify_items": null,
            "left": null,
            "margin": null,
            "max_height": null,
            "max_width": null,
            "min_height": null,
            "min_width": null,
            "object_fit": null,
            "object_position": null,
            "order": null,
            "overflow": null,
            "overflow_x": null,
            "overflow_y": null,
            "padding": null,
            "right": null,
            "top": null,
            "visibility": null,
            "width": null
          }
        },
        "5acd978479f1400c9c7b62b06edab889": {
          "model_module": "@jupyter-widgets/controls",
          "model_name": "DescriptionStyleModel",
          "model_module_version": "1.5.0",
          "state": {
            "_model_module": "@jupyter-widgets/controls",
            "_model_module_version": "1.5.0",
            "_model_name": "DescriptionStyleModel",
            "_view_count": null,
            "_view_module": "@jupyter-widgets/base",
            "_view_module_version": "1.2.0",
            "_view_name": "StyleView",
            "description_width": ""
          }
        },
        "d0561c962a38465fae212c6c1ae26486": {
          "model_module": "@jupyter-widgets/base",
          "model_name": "LayoutModel",
          "model_module_version": "1.2.0",
          "state": {
            "_model_module": "@jupyter-widgets/base",
            "_model_module_version": "1.2.0",
            "_model_name": "LayoutModel",
            "_view_count": null,
            "_view_module": "@jupyter-widgets/base",
            "_view_module_version": "1.2.0",
            "_view_name": "LayoutView",
            "align_content": null,
            "align_items": null,
            "align_self": null,
            "border": null,
            "bottom": null,
            "display": null,
            "flex": null,
            "flex_flow": null,
            "grid_area": null,
            "grid_auto_columns": null,
            "grid_auto_flow": null,
            "grid_auto_rows": null,
            "grid_column": null,
            "grid_gap": null,
            "grid_row": null,
            "grid_template_areas": null,
            "grid_template_columns": null,
            "grid_template_rows": null,
            "height": null,
            "justify_content": null,
            "justify_items": null,
            "left": null,
            "margin": null,
            "max_height": null,
            "max_width": null,
            "min_height": null,
            "min_width": null,
            "object_fit": null,
            "object_position": null,
            "order": null,
            "overflow": null,
            "overflow_x": null,
            "overflow_y": null,
            "padding": null,
            "right": null,
            "top": null,
            "visibility": null,
            "width": null
          }
        },
        "fd6fecb7b18d4cb4a2ae56e8553263c0": {
          "model_module": "@jupyter-widgets/controls",
          "model_name": "ProgressStyleModel",
          "model_module_version": "1.5.0",
          "state": {
            "_model_module": "@jupyter-widgets/controls",
            "_model_module_version": "1.5.0",
            "_model_name": "ProgressStyleModel",
            "_view_count": null,
            "_view_module": "@jupyter-widgets/base",
            "_view_module_version": "1.2.0",
            "_view_name": "StyleView",
            "bar_color": null,
            "description_width": ""
          }
        },
        "b8e0ef50323b447da153177dace6e27a": {
          "model_module": "@jupyter-widgets/base",
          "model_name": "LayoutModel",
          "model_module_version": "1.2.0",
          "state": {
            "_model_module": "@jupyter-widgets/base",
            "_model_module_version": "1.2.0",
            "_model_name": "LayoutModel",
            "_view_count": null,
            "_view_module": "@jupyter-widgets/base",
            "_view_module_version": "1.2.0",
            "_view_name": "LayoutView",
            "align_content": null,
            "align_items": null,
            "align_self": null,
            "border": null,
            "bottom": null,
            "display": null,
            "flex": null,
            "flex_flow": null,
            "grid_area": null,
            "grid_auto_columns": null,
            "grid_auto_flow": null,
            "grid_auto_rows": null,
            "grid_column": null,
            "grid_gap": null,
            "grid_row": null,
            "grid_template_areas": null,
            "grid_template_columns": null,
            "grid_template_rows": null,
            "height": null,
            "justify_content": null,
            "justify_items": null,
            "left": null,
            "margin": null,
            "max_height": null,
            "max_width": null,
            "min_height": null,
            "min_width": null,
            "object_fit": null,
            "object_position": null,
            "order": null,
            "overflow": null,
            "overflow_x": null,
            "overflow_y": null,
            "padding": null,
            "right": null,
            "top": null,
            "visibility": null,
            "width": null
          }
        },
        "8b0edfdc75a14096ad1eb93be3b238b4": {
          "model_module": "@jupyter-widgets/controls",
          "model_name": "DescriptionStyleModel",
          "model_module_version": "1.5.0",
          "state": {
            "_model_module": "@jupyter-widgets/controls",
            "_model_module_version": "1.5.0",
            "_model_name": "DescriptionStyleModel",
            "_view_count": null,
            "_view_module": "@jupyter-widgets/base",
            "_view_module_version": "1.2.0",
            "_view_name": "StyleView",
            "description_width": ""
          }
        },
        "dc30177de10f4e4ab4d9f66d2d1de570": {
          "model_module": "@jupyter-widgets/controls",
          "model_name": "HBoxModel",
          "model_module_version": "1.5.0",
          "state": {
            "_dom_classes": [],
            "_model_module": "@jupyter-widgets/controls",
            "_model_module_version": "1.5.0",
            "_model_name": "HBoxModel",
            "_view_count": null,
            "_view_module": "@jupyter-widgets/controls",
            "_view_module_version": "1.5.0",
            "_view_name": "HBoxView",
            "box_style": "",
            "children": [
              "IPY_MODEL_59300cbe349c4626a5e6591fef4de5ba",
              "IPY_MODEL_da518662120044a3b98088ea0f9c1a38",
              "IPY_MODEL_b673b83d6316447292ada3640c6b63e0"
            ],
            "layout": "IPY_MODEL_d286b358c41a4ee1b7398abeb0b8913f"
          }
        },
        "59300cbe349c4626a5e6591fef4de5ba": {
          "model_module": "@jupyter-widgets/controls",
          "model_name": "HTMLModel",
          "model_module_version": "1.5.0",
          "state": {
            "_dom_classes": [],
            "_model_module": "@jupyter-widgets/controls",
            "_model_module_version": "1.5.0",
            "_model_name": "HTMLModel",
            "_view_count": null,
            "_view_module": "@jupyter-widgets/controls",
            "_view_module_version": "1.5.0",
            "_view_name": "HTMLView",
            "description": "",
            "description_tooltip": null,
            "layout": "IPY_MODEL_215fbb104e9d41baad021af5214dffdf",
            "placeholder": "​",
            "style": "IPY_MODEL_1b82f3ac519741fba0ce7adc1369eeea",
            "value": "Batches: 100%"
          }
        },
        "da518662120044a3b98088ea0f9c1a38": {
          "model_module": "@jupyter-widgets/controls",
          "model_name": "FloatProgressModel",
          "model_module_version": "1.5.0",
          "state": {
            "_dom_classes": [],
            "_model_module": "@jupyter-widgets/controls",
            "_model_module_version": "1.5.0",
            "_model_name": "FloatProgressModel",
            "_view_count": null,
            "_view_module": "@jupyter-widgets/controls",
            "_view_module_version": "1.5.0",
            "_view_name": "ProgressView",
            "bar_style": "success",
            "description": "",
            "description_tooltip": null,
            "layout": "IPY_MODEL_d119f04604894974b654310d712104e8",
            "max": 1,
            "min": 0,
            "orientation": "horizontal",
            "style": "IPY_MODEL_3bf89891c8934dc3b0713feb8cad875d",
            "value": 1
          }
        },
        "b673b83d6316447292ada3640c6b63e0": {
          "model_module": "@jupyter-widgets/controls",
          "model_name": "HTMLModel",
          "model_module_version": "1.5.0",
          "state": {
            "_dom_classes": [],
            "_model_module": "@jupyter-widgets/controls",
            "_model_module_version": "1.5.0",
            "_model_name": "HTMLModel",
            "_view_count": null,
            "_view_module": "@jupyter-widgets/controls",
            "_view_module_version": "1.5.0",
            "_view_name": "HTMLView",
            "description": "",
            "description_tooltip": null,
            "layout": "IPY_MODEL_c8ccc60ec085487db56ff7d480734fa6",
            "placeholder": "​",
            "style": "IPY_MODEL_7aa403ba23394c7aa7fda8ac9c37fd85",
            "value": " 1/1 [00:00&lt;00:00, 13.28it/s]"
          }
        },
        "d286b358c41a4ee1b7398abeb0b8913f": {
          "model_module": "@jupyter-widgets/base",
          "model_name": "LayoutModel",
          "model_module_version": "1.2.0",
          "state": {
            "_model_module": "@jupyter-widgets/base",
            "_model_module_version": "1.2.0",
            "_model_name": "LayoutModel",
            "_view_count": null,
            "_view_module": "@jupyter-widgets/base",
            "_view_module_version": "1.2.0",
            "_view_name": "LayoutView",
            "align_content": null,
            "align_items": null,
            "align_self": null,
            "border": null,
            "bottom": null,
            "display": null,
            "flex": null,
            "flex_flow": null,
            "grid_area": null,
            "grid_auto_columns": null,
            "grid_auto_flow": null,
            "grid_auto_rows": null,
            "grid_column": null,
            "grid_gap": null,
            "grid_row": null,
            "grid_template_areas": null,
            "grid_template_columns": null,
            "grid_template_rows": null,
            "height": null,
            "justify_content": null,
            "justify_items": null,
            "left": null,
            "margin": null,
            "max_height": null,
            "max_width": null,
            "min_height": null,
            "min_width": null,
            "object_fit": null,
            "object_position": null,
            "order": null,
            "overflow": null,
            "overflow_x": null,
            "overflow_y": null,
            "padding": null,
            "right": null,
            "top": null,
            "visibility": null,
            "width": null
          }
        },
        "215fbb104e9d41baad021af5214dffdf": {
          "model_module": "@jupyter-widgets/base",
          "model_name": "LayoutModel",
          "model_module_version": "1.2.0",
          "state": {
            "_model_module": "@jupyter-widgets/base",
            "_model_module_version": "1.2.0",
            "_model_name": "LayoutModel",
            "_view_count": null,
            "_view_module": "@jupyter-widgets/base",
            "_view_module_version": "1.2.0",
            "_view_name": "LayoutView",
            "align_content": null,
            "align_items": null,
            "align_self": null,
            "border": null,
            "bottom": null,
            "display": null,
            "flex": null,
            "flex_flow": null,
            "grid_area": null,
            "grid_auto_columns": null,
            "grid_auto_flow": null,
            "grid_auto_rows": null,
            "grid_column": null,
            "grid_gap": null,
            "grid_row": null,
            "grid_template_areas": null,
            "grid_template_columns": null,
            "grid_template_rows": null,
            "height": null,
            "justify_content": null,
            "justify_items": null,
            "left": null,
            "margin": null,
            "max_height": null,
            "max_width": null,
            "min_height": null,
            "min_width": null,
            "object_fit": null,
            "object_position": null,
            "order": null,
            "overflow": null,
            "overflow_x": null,
            "overflow_y": null,
            "padding": null,
            "right": null,
            "top": null,
            "visibility": null,
            "width": null
          }
        },
        "1b82f3ac519741fba0ce7adc1369eeea": {
          "model_module": "@jupyter-widgets/controls",
          "model_name": "DescriptionStyleModel",
          "model_module_version": "1.5.0",
          "state": {
            "_model_module": "@jupyter-widgets/controls",
            "_model_module_version": "1.5.0",
            "_model_name": "DescriptionStyleModel",
            "_view_count": null,
            "_view_module": "@jupyter-widgets/base",
            "_view_module_version": "1.2.0",
            "_view_name": "StyleView",
            "description_width": ""
          }
        },
        "d119f04604894974b654310d712104e8": {
          "model_module": "@jupyter-widgets/base",
          "model_name": "LayoutModel",
          "model_module_version": "1.2.0",
          "state": {
            "_model_module": "@jupyter-widgets/base",
            "_model_module_version": "1.2.0",
            "_model_name": "LayoutModel",
            "_view_count": null,
            "_view_module": "@jupyter-widgets/base",
            "_view_module_version": "1.2.0",
            "_view_name": "LayoutView",
            "align_content": null,
            "align_items": null,
            "align_self": null,
            "border": null,
            "bottom": null,
            "display": null,
            "flex": null,
            "flex_flow": null,
            "grid_area": null,
            "grid_auto_columns": null,
            "grid_auto_flow": null,
            "grid_auto_rows": null,
            "grid_column": null,
            "grid_gap": null,
            "grid_row": null,
            "grid_template_areas": null,
            "grid_template_columns": null,
            "grid_template_rows": null,
            "height": null,
            "justify_content": null,
            "justify_items": null,
            "left": null,
            "margin": null,
            "max_height": null,
            "max_width": null,
            "min_height": null,
            "min_width": null,
            "object_fit": null,
            "object_position": null,
            "order": null,
            "overflow": null,
            "overflow_x": null,
            "overflow_y": null,
            "padding": null,
            "right": null,
            "top": null,
            "visibility": null,
            "width": null
          }
        },
        "3bf89891c8934dc3b0713feb8cad875d": {
          "model_module": "@jupyter-widgets/controls",
          "model_name": "ProgressStyleModel",
          "model_module_version": "1.5.0",
          "state": {
            "_model_module": "@jupyter-widgets/controls",
            "_model_module_version": "1.5.0",
            "_model_name": "ProgressStyleModel",
            "_view_count": null,
            "_view_module": "@jupyter-widgets/base",
            "_view_module_version": "1.2.0",
            "_view_name": "StyleView",
            "bar_color": null,
            "description_width": ""
          }
        },
        "c8ccc60ec085487db56ff7d480734fa6": {
          "model_module": "@jupyter-widgets/base",
          "model_name": "LayoutModel",
          "model_module_version": "1.2.0",
          "state": {
            "_model_module": "@jupyter-widgets/base",
            "_model_module_version": "1.2.0",
            "_model_name": "LayoutModel",
            "_view_count": null,
            "_view_module": "@jupyter-widgets/base",
            "_view_module_version": "1.2.0",
            "_view_name": "LayoutView",
            "align_content": null,
            "align_items": null,
            "align_self": null,
            "border": null,
            "bottom": null,
            "display": null,
            "flex": null,
            "flex_flow": null,
            "grid_area": null,
            "grid_auto_columns": null,
            "grid_auto_flow": null,
            "grid_auto_rows": null,
            "grid_column": null,
            "grid_gap": null,
            "grid_row": null,
            "grid_template_areas": null,
            "grid_template_columns": null,
            "grid_template_rows": null,
            "height": null,
            "justify_content": null,
            "justify_items": null,
            "left": null,
            "margin": null,
            "max_height": null,
            "max_width": null,
            "min_height": null,
            "min_width": null,
            "object_fit": null,
            "object_position": null,
            "order": null,
            "overflow": null,
            "overflow_x": null,
            "overflow_y": null,
            "padding": null,
            "right": null,
            "top": null,
            "visibility": null,
            "width": null
          }
        },
        "7aa403ba23394c7aa7fda8ac9c37fd85": {
          "model_module": "@jupyter-widgets/controls",
          "model_name": "DescriptionStyleModel",
          "model_module_version": "1.5.0",
          "state": {
            "_model_module": "@jupyter-widgets/controls",
            "_model_module_version": "1.5.0",
            "_model_name": "DescriptionStyleModel",
            "_view_count": null,
            "_view_module": "@jupyter-widgets/base",
            "_view_module_version": "1.2.0",
            "_view_name": "StyleView",
            "description_width": ""
          }
        },
        "c90b6fc4457c40a68236cd03a0aefabc": {
          "model_module": "@jupyter-widgets/controls",
          "model_name": "HBoxModel",
          "model_module_version": "1.5.0",
          "state": {
            "_dom_classes": [],
            "_model_module": "@jupyter-widgets/controls",
            "_model_module_version": "1.5.0",
            "_model_name": "HBoxModel",
            "_view_count": null,
            "_view_module": "@jupyter-widgets/controls",
            "_view_module_version": "1.5.0",
            "_view_name": "HBoxView",
            "box_style": "",
            "children": [
              "IPY_MODEL_0509f65a97a74cf6833c848361196c91",
              "IPY_MODEL_4625d603aea343568c332bd79aa2e80a",
              "IPY_MODEL_96ed8dc1c3c8424893fb2f81bbd15467"
            ],
            "layout": "IPY_MODEL_a3788d0ee79f455593bd41c3cf8de931"
          }
        },
        "0509f65a97a74cf6833c848361196c91": {
          "model_module": "@jupyter-widgets/controls",
          "model_name": "HTMLModel",
          "model_module_version": "1.5.0",
          "state": {
            "_dom_classes": [],
            "_model_module": "@jupyter-widgets/controls",
            "_model_module_version": "1.5.0",
            "_model_name": "HTMLModel",
            "_view_count": null,
            "_view_module": "@jupyter-widgets/controls",
            "_view_module_version": "1.5.0",
            "_view_name": "HTMLView",
            "description": "",
            "description_tooltip": null,
            "layout": "IPY_MODEL_9f383a1a75f249e9b1323bbeb30bf5fc",
            "placeholder": "​",
            "style": "IPY_MODEL_1650b572414b4d3a9341ff33744dd341",
            "value": "Batches: 100%"
          }
        },
        "4625d603aea343568c332bd79aa2e80a": {
          "model_module": "@jupyter-widgets/controls",
          "model_name": "FloatProgressModel",
          "model_module_version": "1.5.0",
          "state": {
            "_dom_classes": [],
            "_model_module": "@jupyter-widgets/controls",
            "_model_module_version": "1.5.0",
            "_model_name": "FloatProgressModel",
            "_view_count": null,
            "_view_module": "@jupyter-widgets/controls",
            "_view_module_version": "1.5.0",
            "_view_name": "ProgressView",
            "bar_style": "success",
            "description": "",
            "description_tooltip": null,
            "layout": "IPY_MODEL_7555e24aa0084ae5a2d54cd1765dbc3c",
            "max": 1,
            "min": 0,
            "orientation": "horizontal",
            "style": "IPY_MODEL_c2ea4d63f47146b68f2a912f5050f89c",
            "value": 1
          }
        },
        "96ed8dc1c3c8424893fb2f81bbd15467": {
          "model_module": "@jupyter-widgets/controls",
          "model_name": "HTMLModel",
          "model_module_version": "1.5.0",
          "state": {
            "_dom_classes": [],
            "_model_module": "@jupyter-widgets/controls",
            "_model_module_version": "1.5.0",
            "_model_name": "HTMLModel",
            "_view_count": null,
            "_view_module": "@jupyter-widgets/controls",
            "_view_module_version": "1.5.0",
            "_view_name": "HTMLView",
            "description": "",
            "description_tooltip": null,
            "layout": "IPY_MODEL_bd269c2938d8413a9df6eab9d134e846",
            "placeholder": "​",
            "style": "IPY_MODEL_414d7f5bc6474920997a792cd219cce2",
            "value": " 1/1 [00:00&lt;00:00,  1.10it/s]"
          }
        },
        "a3788d0ee79f455593bd41c3cf8de931": {
          "model_module": "@jupyter-widgets/base",
          "model_name": "LayoutModel",
          "model_module_version": "1.2.0",
          "state": {
            "_model_module": "@jupyter-widgets/base",
            "_model_module_version": "1.2.0",
            "_model_name": "LayoutModel",
            "_view_count": null,
            "_view_module": "@jupyter-widgets/base",
            "_view_module_version": "1.2.0",
            "_view_name": "LayoutView",
            "align_content": null,
            "align_items": null,
            "align_self": null,
            "border": null,
            "bottom": null,
            "display": null,
            "flex": null,
            "flex_flow": null,
            "grid_area": null,
            "grid_auto_columns": null,
            "grid_auto_flow": null,
            "grid_auto_rows": null,
            "grid_column": null,
            "grid_gap": null,
            "grid_row": null,
            "grid_template_areas": null,
            "grid_template_columns": null,
            "grid_template_rows": null,
            "height": null,
            "justify_content": null,
            "justify_items": null,
            "left": null,
            "margin": null,
            "max_height": null,
            "max_width": null,
            "min_height": null,
            "min_width": null,
            "object_fit": null,
            "object_position": null,
            "order": null,
            "overflow": null,
            "overflow_x": null,
            "overflow_y": null,
            "padding": null,
            "right": null,
            "top": null,
            "visibility": null,
            "width": null
          }
        },
        "9f383a1a75f249e9b1323bbeb30bf5fc": {
          "model_module": "@jupyter-widgets/base",
          "model_name": "LayoutModel",
          "model_module_version": "1.2.0",
          "state": {
            "_model_module": "@jupyter-widgets/base",
            "_model_module_version": "1.2.0",
            "_model_name": "LayoutModel",
            "_view_count": null,
            "_view_module": "@jupyter-widgets/base",
            "_view_module_version": "1.2.0",
            "_view_name": "LayoutView",
            "align_content": null,
            "align_items": null,
            "align_self": null,
            "border": null,
            "bottom": null,
            "display": null,
            "flex": null,
            "flex_flow": null,
            "grid_area": null,
            "grid_auto_columns": null,
            "grid_auto_flow": null,
            "grid_auto_rows": null,
            "grid_column": null,
            "grid_gap": null,
            "grid_row": null,
            "grid_template_areas": null,
            "grid_template_columns": null,
            "grid_template_rows": null,
            "height": null,
            "justify_content": null,
            "justify_items": null,
            "left": null,
            "margin": null,
            "max_height": null,
            "max_width": null,
            "min_height": null,
            "min_width": null,
            "object_fit": null,
            "object_position": null,
            "order": null,
            "overflow": null,
            "overflow_x": null,
            "overflow_y": null,
            "padding": null,
            "right": null,
            "top": null,
            "visibility": null,
            "width": null
          }
        },
        "1650b572414b4d3a9341ff33744dd341": {
          "model_module": "@jupyter-widgets/controls",
          "model_name": "DescriptionStyleModel",
          "model_module_version": "1.5.0",
          "state": {
            "_model_module": "@jupyter-widgets/controls",
            "_model_module_version": "1.5.0",
            "_model_name": "DescriptionStyleModel",
            "_view_count": null,
            "_view_module": "@jupyter-widgets/base",
            "_view_module_version": "1.2.0",
            "_view_name": "StyleView",
            "description_width": ""
          }
        },
        "7555e24aa0084ae5a2d54cd1765dbc3c": {
          "model_module": "@jupyter-widgets/base",
          "model_name": "LayoutModel",
          "model_module_version": "1.2.0",
          "state": {
            "_model_module": "@jupyter-widgets/base",
            "_model_module_version": "1.2.0",
            "_model_name": "LayoutModel",
            "_view_count": null,
            "_view_module": "@jupyter-widgets/base",
            "_view_module_version": "1.2.0",
            "_view_name": "LayoutView",
            "align_content": null,
            "align_items": null,
            "align_self": null,
            "border": null,
            "bottom": null,
            "display": null,
            "flex": null,
            "flex_flow": null,
            "grid_area": null,
            "grid_auto_columns": null,
            "grid_auto_flow": null,
            "grid_auto_rows": null,
            "grid_column": null,
            "grid_gap": null,
            "grid_row": null,
            "grid_template_areas": null,
            "grid_template_columns": null,
            "grid_template_rows": null,
            "height": null,
            "justify_content": null,
            "justify_items": null,
            "left": null,
            "margin": null,
            "max_height": null,
            "max_width": null,
            "min_height": null,
            "min_width": null,
            "object_fit": null,
            "object_position": null,
            "order": null,
            "overflow": null,
            "overflow_x": null,
            "overflow_y": null,
            "padding": null,
            "right": null,
            "top": null,
            "visibility": null,
            "width": null
          }
        },
        "c2ea4d63f47146b68f2a912f5050f89c": {
          "model_module": "@jupyter-widgets/controls",
          "model_name": "ProgressStyleModel",
          "model_module_version": "1.5.0",
          "state": {
            "_model_module": "@jupyter-widgets/controls",
            "_model_module_version": "1.5.0",
            "_model_name": "ProgressStyleModel",
            "_view_count": null,
            "_view_module": "@jupyter-widgets/base",
            "_view_module_version": "1.2.0",
            "_view_name": "StyleView",
            "bar_color": null,
            "description_width": ""
          }
        },
        "bd269c2938d8413a9df6eab9d134e846": {
          "model_module": "@jupyter-widgets/base",
          "model_name": "LayoutModel",
          "model_module_version": "1.2.0",
          "state": {
            "_model_module": "@jupyter-widgets/base",
            "_model_module_version": "1.2.0",
            "_model_name": "LayoutModel",
            "_view_count": null,
            "_view_module": "@jupyter-widgets/base",
            "_view_module_version": "1.2.0",
            "_view_name": "LayoutView",
            "align_content": null,
            "align_items": null,
            "align_self": null,
            "border": null,
            "bottom": null,
            "display": null,
            "flex": null,
            "flex_flow": null,
            "grid_area": null,
            "grid_auto_columns": null,
            "grid_auto_flow": null,
            "grid_auto_rows": null,
            "grid_column": null,
            "grid_gap": null,
            "grid_row": null,
            "grid_template_areas": null,
            "grid_template_columns": null,
            "grid_template_rows": null,
            "height": null,
            "justify_content": null,
            "justify_items": null,
            "left": null,
            "margin": null,
            "max_height": null,
            "max_width": null,
            "min_height": null,
            "min_width": null,
            "object_fit": null,
            "object_position": null,
            "order": null,
            "overflow": null,
            "overflow_x": null,
            "overflow_y": null,
            "padding": null,
            "right": null,
            "top": null,
            "visibility": null,
            "width": null
          }
        },
        "414d7f5bc6474920997a792cd219cce2": {
          "model_module": "@jupyter-widgets/controls",
          "model_name": "DescriptionStyleModel",
          "model_module_version": "1.5.0",
          "state": {
            "_model_module": "@jupyter-widgets/controls",
            "_model_module_version": "1.5.0",
            "_model_name": "DescriptionStyleModel",
            "_view_count": null,
            "_view_module": "@jupyter-widgets/base",
            "_view_module_version": "1.2.0",
            "_view_name": "StyleView",
            "description_width": ""
          }
        },
        "6850ae517f414f97a28a277c7b1f92be": {
          "model_module": "@jupyter-widgets/controls",
          "model_name": "HBoxModel",
          "model_module_version": "1.5.0",
          "state": {
            "_dom_classes": [],
            "_model_module": "@jupyter-widgets/controls",
            "_model_module_version": "1.5.0",
            "_model_name": "HBoxModel",
            "_view_count": null,
            "_view_module": "@jupyter-widgets/controls",
            "_view_module_version": "1.5.0",
            "_view_name": "HBoxView",
            "box_style": "",
            "children": [
              "IPY_MODEL_7783bef51a5745a28b4ceb739bd92ea5",
              "IPY_MODEL_843b9602bbed47cb9cd19c1457366ee1",
              "IPY_MODEL_360675c5fb044449833b1a971abc28f5"
            ],
            "layout": "IPY_MODEL_52d1523c88c04c3d9a6d865fd90fd87b"
          }
        },
        "7783bef51a5745a28b4ceb739bd92ea5": {
          "model_module": "@jupyter-widgets/controls",
          "model_name": "HTMLModel",
          "model_module_version": "1.5.0",
          "state": {
            "_dom_classes": [],
            "_model_module": "@jupyter-widgets/controls",
            "_model_module_version": "1.5.0",
            "_model_name": "HTMLModel",
            "_view_count": null,
            "_view_module": "@jupyter-widgets/controls",
            "_view_module_version": "1.5.0",
            "_view_name": "HTMLView",
            "description": "",
            "description_tooltip": null,
            "layout": "IPY_MODEL_3996d2019f5642e3becdc3f637288c09",
            "placeholder": "​",
            "style": "IPY_MODEL_8741670db2d445d7910baa870e60ad68",
            "value": "Batches: 100%"
          }
        },
        "843b9602bbed47cb9cd19c1457366ee1": {
          "model_module": "@jupyter-widgets/controls",
          "model_name": "FloatProgressModel",
          "model_module_version": "1.5.0",
          "state": {
            "_dom_classes": [],
            "_model_module": "@jupyter-widgets/controls",
            "_model_module_version": "1.5.0",
            "_model_name": "FloatProgressModel",
            "_view_count": null,
            "_view_module": "@jupyter-widgets/controls",
            "_view_module_version": "1.5.0",
            "_view_name": "ProgressView",
            "bar_style": "success",
            "description": "",
            "description_tooltip": null,
            "layout": "IPY_MODEL_3bea394975ef425da922db13ea56bef5",
            "max": 1,
            "min": 0,
            "orientation": "horizontal",
            "style": "IPY_MODEL_2d429fac3bd6449abab6e6f568214dd6",
            "value": 1
          }
        },
        "360675c5fb044449833b1a971abc28f5": {
          "model_module": "@jupyter-widgets/controls",
          "model_name": "HTMLModel",
          "model_module_version": "1.5.0",
          "state": {
            "_dom_classes": [],
            "_model_module": "@jupyter-widgets/controls",
            "_model_module_version": "1.5.0",
            "_model_name": "HTMLModel",
            "_view_count": null,
            "_view_module": "@jupyter-widgets/controls",
            "_view_module_version": "1.5.0",
            "_view_name": "HTMLView",
            "description": "",
            "description_tooltip": null,
            "layout": "IPY_MODEL_0b4eec669f764643b300fda75baac3fe",
            "placeholder": "​",
            "style": "IPY_MODEL_0ee23dcfb4684c268560d393a1c63241",
            "value": " 1/1 [00:00&lt;00:00,  1.06it/s]"
          }
        },
        "52d1523c88c04c3d9a6d865fd90fd87b": {
          "model_module": "@jupyter-widgets/base",
          "model_name": "LayoutModel",
          "model_module_version": "1.2.0",
          "state": {
            "_model_module": "@jupyter-widgets/base",
            "_model_module_version": "1.2.0",
            "_model_name": "LayoutModel",
            "_view_count": null,
            "_view_module": "@jupyter-widgets/base",
            "_view_module_version": "1.2.0",
            "_view_name": "LayoutView",
            "align_content": null,
            "align_items": null,
            "align_self": null,
            "border": null,
            "bottom": null,
            "display": null,
            "flex": null,
            "flex_flow": null,
            "grid_area": null,
            "grid_auto_columns": null,
            "grid_auto_flow": null,
            "grid_auto_rows": null,
            "grid_column": null,
            "grid_gap": null,
            "grid_row": null,
            "grid_template_areas": null,
            "grid_template_columns": null,
            "grid_template_rows": null,
            "height": null,
            "justify_content": null,
            "justify_items": null,
            "left": null,
            "margin": null,
            "max_height": null,
            "max_width": null,
            "min_height": null,
            "min_width": null,
            "object_fit": null,
            "object_position": null,
            "order": null,
            "overflow": null,
            "overflow_x": null,
            "overflow_y": null,
            "padding": null,
            "right": null,
            "top": null,
            "visibility": null,
            "width": null
          }
        },
        "3996d2019f5642e3becdc3f637288c09": {
          "model_module": "@jupyter-widgets/base",
          "model_name": "LayoutModel",
          "model_module_version": "1.2.0",
          "state": {
            "_model_module": "@jupyter-widgets/base",
            "_model_module_version": "1.2.0",
            "_model_name": "LayoutModel",
            "_view_count": null,
            "_view_module": "@jupyter-widgets/base",
            "_view_module_version": "1.2.0",
            "_view_name": "LayoutView",
            "align_content": null,
            "align_items": null,
            "align_self": null,
            "border": null,
            "bottom": null,
            "display": null,
            "flex": null,
            "flex_flow": null,
            "grid_area": null,
            "grid_auto_columns": null,
            "grid_auto_flow": null,
            "grid_auto_rows": null,
            "grid_column": null,
            "grid_gap": null,
            "grid_row": null,
            "grid_template_areas": null,
            "grid_template_columns": null,
            "grid_template_rows": null,
            "height": null,
            "justify_content": null,
            "justify_items": null,
            "left": null,
            "margin": null,
            "max_height": null,
            "max_width": null,
            "min_height": null,
            "min_width": null,
            "object_fit": null,
            "object_position": null,
            "order": null,
            "overflow": null,
            "overflow_x": null,
            "overflow_y": null,
            "padding": null,
            "right": null,
            "top": null,
            "visibility": null,
            "width": null
          }
        },
        "8741670db2d445d7910baa870e60ad68": {
          "model_module": "@jupyter-widgets/controls",
          "model_name": "DescriptionStyleModel",
          "model_module_version": "1.5.0",
          "state": {
            "_model_module": "@jupyter-widgets/controls",
            "_model_module_version": "1.5.0",
            "_model_name": "DescriptionStyleModel",
            "_view_count": null,
            "_view_module": "@jupyter-widgets/base",
            "_view_module_version": "1.2.0",
            "_view_name": "StyleView",
            "description_width": ""
          }
        },
        "3bea394975ef425da922db13ea56bef5": {
          "model_module": "@jupyter-widgets/base",
          "model_name": "LayoutModel",
          "model_module_version": "1.2.0",
          "state": {
            "_model_module": "@jupyter-widgets/base",
            "_model_module_version": "1.2.0",
            "_model_name": "LayoutModel",
            "_view_count": null,
            "_view_module": "@jupyter-widgets/base",
            "_view_module_version": "1.2.0",
            "_view_name": "LayoutView",
            "align_content": null,
            "align_items": null,
            "align_self": null,
            "border": null,
            "bottom": null,
            "display": null,
            "flex": null,
            "flex_flow": null,
            "grid_area": null,
            "grid_auto_columns": null,
            "grid_auto_flow": null,
            "grid_auto_rows": null,
            "grid_column": null,
            "grid_gap": null,
            "grid_row": null,
            "grid_template_areas": null,
            "grid_template_columns": null,
            "grid_template_rows": null,
            "height": null,
            "justify_content": null,
            "justify_items": null,
            "left": null,
            "margin": null,
            "max_height": null,
            "max_width": null,
            "min_height": null,
            "min_width": null,
            "object_fit": null,
            "object_position": null,
            "order": null,
            "overflow": null,
            "overflow_x": null,
            "overflow_y": null,
            "padding": null,
            "right": null,
            "top": null,
            "visibility": null,
            "width": null
          }
        },
        "2d429fac3bd6449abab6e6f568214dd6": {
          "model_module": "@jupyter-widgets/controls",
          "model_name": "ProgressStyleModel",
          "model_module_version": "1.5.0",
          "state": {
            "_model_module": "@jupyter-widgets/controls",
            "_model_module_version": "1.5.0",
            "_model_name": "ProgressStyleModel",
            "_view_count": null,
            "_view_module": "@jupyter-widgets/base",
            "_view_module_version": "1.2.0",
            "_view_name": "StyleView",
            "bar_color": null,
            "description_width": ""
          }
        },
        "0b4eec669f764643b300fda75baac3fe": {
          "model_module": "@jupyter-widgets/base",
          "model_name": "LayoutModel",
          "model_module_version": "1.2.0",
          "state": {
            "_model_module": "@jupyter-widgets/base",
            "_model_module_version": "1.2.0",
            "_model_name": "LayoutModel",
            "_view_count": null,
            "_view_module": "@jupyter-widgets/base",
            "_view_module_version": "1.2.0",
            "_view_name": "LayoutView",
            "align_content": null,
            "align_items": null,
            "align_self": null,
            "border": null,
            "bottom": null,
            "display": null,
            "flex": null,
            "flex_flow": null,
            "grid_area": null,
            "grid_auto_columns": null,
            "grid_auto_flow": null,
            "grid_auto_rows": null,
            "grid_column": null,
            "grid_gap": null,
            "grid_row": null,
            "grid_template_areas": null,
            "grid_template_columns": null,
            "grid_template_rows": null,
            "height": null,
            "justify_content": null,
            "justify_items": null,
            "left": null,
            "margin": null,
            "max_height": null,
            "max_width": null,
            "min_height": null,
            "min_width": null,
            "object_fit": null,
            "object_position": null,
            "order": null,
            "overflow": null,
            "overflow_x": null,
            "overflow_y": null,
            "padding": null,
            "right": null,
            "top": null,
            "visibility": null,
            "width": null
          }
        },
        "0ee23dcfb4684c268560d393a1c63241": {
          "model_module": "@jupyter-widgets/controls",
          "model_name": "DescriptionStyleModel",
          "model_module_version": "1.5.0",
          "state": {
            "_model_module": "@jupyter-widgets/controls",
            "_model_module_version": "1.5.0",
            "_model_name": "DescriptionStyleModel",
            "_view_count": null,
            "_view_module": "@jupyter-widgets/base",
            "_view_module_version": "1.2.0",
            "_view_name": "StyleView",
            "description_width": ""
          }
        }
      }
    }
  },
  "nbformat": 4,
  "nbformat_minor": 5
}