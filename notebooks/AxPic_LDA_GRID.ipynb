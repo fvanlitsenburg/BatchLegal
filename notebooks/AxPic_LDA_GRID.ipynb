{
 "cells": [
  {
   "cell_type": "markdown",
   "id": "e8b9035f",
   "metadata": {},
   "source": [
    "# Batch Legal LDA Grid Search"
   ]
  },
  {
   "cell_type": "markdown",
   "id": "6d4e164f",
   "metadata": {},
   "source": [
    "***Base***: Preproc Mockup Version 3 (from Chris):\n",
    "- Adjusted preprocessing steps: sentence tokenization and multiple lemmatizing steps.\n",
    "- Changed from CountVectorizer to TfidfVectorizer\n",
    "- Changed input from one document to list of documents"
   ]
  },
  {
   "cell_type": "code",
   "execution_count": 1,
   "id": "d5e5bdcf",
   "metadata": {},
   "outputs": [],
   "source": [
    "#Imports\n",
    "\n",
    "import pandas as pd\n",
    "import string\n",
    "from bs4 import BeautifulSoup\n",
    "from nltk.tokenize import word_tokenize, sent_tokenize\n",
    "from nltk.corpus import stopwords \n",
    "from nltk.stem import WordNetLemmatizer\n",
    "from nltk.collocations import *\n",
    "\n",
    "from sklearn.feature_extraction.text import TfidfVectorizer\n",
    "from sklearn.decomposition import LatentDirichletAllocation\n",
    "\n",
    "from sklearn.model_selection import GridSearchCV"
   ]
  },
  {
   "cell_type": "code",
   "execution_count": 2,
   "id": "0452bb33",
   "metadata": {},
   "outputs": [],
   "source": [
    "#Loading data from csv\n",
    "data = pd.read_csv(\"larger_data_scraped.csv\")"
   ]
  },
  {
   "cell_type": "code",
   "execution_count": 3,
   "id": "34e92788",
   "metadata": {},
   "outputs": [
    {
     "data": {
      "text/plain": [
       "Index(['Unnamed: 0', 'title', 'cellar', 'date', 'dir_code', 'dir_1', 'dir_2',\n",
       "       'dir_3', 'dir_4', 'dir_5', 'dir_6', 'Content'],\n",
       "      dtype='object')"
      ]
     },
     "execution_count": 3,
     "metadata": {},
     "output_type": "execute_result"
    }
   ],
   "source": [
    "data.columns"
   ]
  },
  {
   "cell_type": "code",
   "execution_count": 4,
   "id": "9948673d",
   "metadata": {},
   "outputs": [],
   "source": [
    "df_content = data.Content"
   ]
  },
  {
   "cell_type": "code",
   "execution_count": 5,
   "id": "4bb55b3d",
   "metadata": {},
   "outputs": [
    {
     "data": {
      "text/plain": [
       "0    THE EUROPEAN PARLIAMENT AND THE COUNCIL OF THE...\n",
       "1    THE EUROPEAN PARLIAMENT AND THE COUNCIL OF THE...\n",
       "2    THE EUROPEAN COMMISSION, Having regard to the ...\n",
       "3    THE EUROPEAN PARLIAMENT AND THE COUNCIL OF THE...\n",
       "4    THE EUROPEAN PARLIAMENT AND THE COUNCIL OF THE...\n",
       "Name: Content, dtype: object"
      ]
     },
     "execution_count": 5,
     "metadata": {},
     "output_type": "execute_result"
    }
   ],
   "source": [
    "df_content.head()"
   ]
  },
  {
   "cell_type": "code",
   "execution_count": 6,
   "id": "a56f89aa",
   "metadata": {},
   "outputs": [],
   "source": [
    "# list used to remove unrelevant terms \n",
    "ignore_list = {'ec', 'no', 'european', 'commission', 'eu', 'union',\n",
    "                   'article', 'directive', 'council', 'regulation', 'official',\n",
    "                   'journal', 'article', 'information', 'agency', 'regulation',\n",
    "                   'mssg', 'data', 'member', 'states', 'etf', 'mdssg', 'shall'\n",
    "                  }"
   ]
  },
  {
   "cell_type": "code",
   "execution_count": 7,
   "id": "b80f77c5",
   "metadata": {},
   "outputs": [],
   "source": [
    "#Defining Davy's Preproc-Function\n",
    "\n",
    "def cleaning(sentence):\n",
    "    \n",
    "    # Basic cleaning\n",
    "    sentence = sentence.strip() ## remove whitespaces\n",
    "    sentence = sentence.lower() ## lowercasing \n",
    "    sentence = ''.join(char for char in sentence if not char.isdigit()) ## removing numbers\n",
    "    \n",
    "    # Advanced cleaning\n",
    "    for punctuation in string.punctuation:\n",
    "        sentence = sentence.replace(punctuation, '') ## removing punctuation\n",
    "    tokenized_sentence = word_tokenize(sentence) ## tokenizing \n",
    "    stop_words = set(stopwords.words('english')) ## defining stopwords\n",
    "    tokenized_sentence_cleaned = [w for w in tokenized_sentence \n",
    "                                  if not w in stop_words] ## remove stopwords\n",
    "    #tokenized_sentence_cleaned = [w for w in tokenized_sentence_cleaned if not w in ignore_list] COMMENTED IGNORE OUT!\n",
    "    lemmatized = [WordNetLemmatizer().lemmatize(word, pos = \"v\")  # v --> verbs\n",
    "              for word in tokenized_sentence_cleaned]\n",
    "    lemmatized = [WordNetLemmatizer().lemmatize(word, pos = \"n\")  # n --> nouns\n",
    "              for word in tokenized_sentence_cleaned]\n",
    "    lemmatized = [WordNetLemmatizer().lemmatize(word, pos = \"a\") # Lemmatizing the adjectives\n",
    "              for word in tokenized_sentence_cleaned]\n",
    "    lemmatized = [WordNetLemmatizer().lemmatize(word, pos = \"r\") # Lemmatizing the adverbs\n",
    "              for word in tokenized_sentence_cleaned]\n",
    "    cleaned_sentence = ' '.join(word for word in lemmatized)\n",
    "    return cleaned_sentence"
   ]
  },
  {
   "cell_type": "code",
   "execution_count": 8,
   "id": "ecfe7b7d",
   "metadata": {},
   "outputs": [],
   "source": [
    "# Applying Davy's Function\n",
    "\n",
    "clean_txt = df_content.apply(cleaning)"
   ]
  },
  {
   "cell_type": "code",
   "execution_count": 9,
   "id": "abc7b1fd",
   "metadata": {},
   "outputs": [
    {
     "data": {
      "text/plain": [
       "0     european parliament council european union reg...\n",
       "1     european parliament council european union reg...\n",
       "2     european commission regard treaty functioning ...\n",
       "3     european parliament council european union reg...\n",
       "4     european parliament council european union reg...\n",
       "                            ...                        \n",
       "68    european commission regard treaty functioning ...\n",
       "69    european commission regard treaty functioning ...\n",
       "70    european commission regard treaty functioning ...\n",
       "71    european commission regard treaty functioning ...\n",
       "72    european commission regard treaty functioning ...\n",
       "Name: Content, Length: 73, dtype: object"
      ]
     },
     "execution_count": 9,
     "metadata": {},
     "output_type": "execute_result"
    }
   ],
   "source": [
    "#Checking outcome of Preprocessing\n",
    "clean_txt\n"
   ]
  },
  {
   "cell_type": "code",
   "execution_count": 10,
   "id": "abc0444d",
   "metadata": {},
   "outputs": [
    {
     "data": {
      "text/plain": [
       "'european parliament council european union regard treaty functioning european union particular article thereof regard proposal european commission transmission draft legislative act national parliaments consulting european central bank regard opinion european economic social committee acting accordance ordinary legislative procedure whereas crowdfunding increasingly established form alternative finance startups small mediumsized enterprises smes typically relying small investments crowdfunding represents increasingly important type intermediation crowdfunding service provider without taking risk operates digital platform open public order match facilitate matching prospective investors lenders businesses seek funding funding could take form loans acquisition transferable securities admitted instruments crowdfunding purposes therefore appropriate include within scope regulation lendingbased crowdfunding investmentbased crowdfunding since types crowdfunding structured comparable funding alternatives provision crowdfunding services generally involves three types actors project owner proposes project funded investors fund proposed project intermediating organisation form crowdfunding service provider brings together project owners investors online platform crowdfunding contribute providing access finance smes completing capital markets union cmu lack access finance smes constitutes problem even member states access bank finance remained stable throughout financial crisis crowdfunding emerged become established practice funding business activities natural legal persons funding takes place online platforms business activities typically funded large number people organisations businesses including business startups raise relatively small amounts money addition providing alternative source financing including venture capital crowdfunding offer benefits businesses validate business idea give entrepreneurs access large number people providing insights information marketing tool several member states already introduced domestic bespoke regimes crowdfunding regimes tailored characteristics needs local markets investors result existing national rules diverge across union regards conditions operation crowdfunding platforms scope permitted activities authorisation requirements differences existing national rules obstruct crossborder provision crowdfunding services thus direct effect functioning internal market services particular fact legal framework fragmented along national borders creates substantial legal costs retail investors often face difficulties determining rules applicable crossborder crowdfunding services therefore investors often discouraged investing crossborder means crowdfunding platforms reasons crowdfunding service providers operating platforms discouraged offering services member states one established result crowdfunding services remained hitherto largely national detriment unionwide crowdfunding market thus depriving businesses access crowdfunding services especially cases businesses operate smaller national markets order foster crossborder crowdfunding services facilitate exercise freedom provide receive services internal market necessary address existing obstacles proper functioning internal market crowdfunding services ensure high level investor protection laying regulatory framework union level addressing obstacles functioning internal market crowdfunding services regulation aims foster crossborder funding businesses crowdfunding services relation lending consumers defined point article directive ec european parliament council therefore fall within scope regulation avoid regulatory arbitrage ensure effective supervision crowdfunding service providers prohibited taking deposits repayable funds public unless also authorised credit institution accordance article directive eu european parliament council however member states ensure national law require authorisation credit institution individual authorisation exemption dispensation project owners investors accept funds grant loans purposes offering investing crowdfunding projects provision crowdfunding services aims facilitate funding project raising capital large number people contribute relatively small investment amounts publicly accessible internetbased information system crowdfunding services thus open unrestricted pool investors receive investment propositions time involve raising funds predominantly natural persons including highnet worth individuals regulation apply crowdfunding services consist joint provision reception transmission client orders placement transferable securities admitted instruments crowdfunding purposes without firm commitment basis public platform provides unrestricted access investors joint provision services key feature crowdfunding services compared certain investment services provided directive eu european parliament council even though individually services match covered directive relation lendingbased crowdfunding regulation apply crowdfunding services consist facilitation granting loans including services presenting crowdfunding offers clients pricing assessing credit risk crowdfunding projects project owners definition crowdfunding services accommodate different business models enabling loan agreement one investors one project owners concluded crowdfunding platform loans included within scope regulation loans unconditional obligations repay agreed amount money investor whereby lendingbased crowdfunding platforms merely facilitate conclusion investors project owner loan agreements without crowdfunding service provider moment acting creditor project owner facilitation granting loans falls within scope regulation distinguished activity credit institution grants credits account takes deposits repayable funds public order deliver services crowdfunding service providers operate publicly accessible internetbased information systems including systems require user registration investmentbased crowdfunding transferability important safeguard order investors able exit investment since provides possibility dispose interest capital markets regulation therefore covers permits crowdfunding services related transferable securities shares certain private limited liability companies incorporated national law member states also freely transferable capital markets therefore prevented included within scope regulation certain admitted instruments crowdfunding purposes member states subject national law governing transferability requirement transfer authenticated notary regulation apply without prejudice national law governing transfer instruments whilst initial coin offerings potential fund smes innovative startups scaleups accelerate technology transfer characteristics differ considerably crowdfunding services regulated regulation given risks associated crowdfunding investments appropriate interest effective protection investors provision mechanism market discipline impose threshold total consideration crowdfunding offers made particular project owner accordingly threshold set eur threshold used member states exempt offers securities public obligation publish prospectus accordance regulation eu european parliament council overlapping regulatory frameworks established regulation regulation eu threshold eur might increase risk regulatory arbitrage disruptive effect access finance development capital markets certain member states moreover date limited number member states put place specific legal framework regulating crowdfunding platforms services taking account fact implementing regulation eu member states set threshold exempt offers securities public obligation publish prospectus eur taking account special effort might sustained member states terms adjusting national law ensuring application single threshold regulation regulation provide nonrenewable temporary derogation order enable member states make significant effort temporary derogation apply shortest possible period time order cause least possible disturbance functioning internal market order maintain high standard investor protection reduce risks associated crowdfunding ensure fair treatment clients crowdfunding service providers place policy designed ensure projects platforms selected professional fair transparent way crowdfunding services provided manner order improve service clients crowdfunding service providers able propose crowdfunding projects individual investors based one specific parameters risk indicators type sector business activity credit rating communicated advance crowdfunding service provider investor however authorisation obtained regulation grant crowdfunding service providers right provide individual collective asset management services order ensure prospective investors offered investment opportunities neutral basis crowdfunding service providers pay accept remuneration discount nonmonetary benefit routing investors ’ orders particular offer provided platform thirdparty platform business models using automated processes whereby funds automatically allocated crowdfunding service provider crowdfunding projects accordance parameters risk indicators predetermined investor called autoinvesting considered individual portfolio management loans existence filtering tools crowdfunding platform regulation regarded investment advice directive eu long tools provide information clients neutral manner constitute recommendation tools include display results based criteria relating purely objective product features objective product features context crowdfunding platform could predefined project criteria economic sector instrument used interest rate risk category sufficient information regarding calculation method disclosed similarly key financial figures calculated without scope discretion also considered objective criteria regulation aims facilitate direct investment avoid creating regulatory arbitrage opportunities financial intermediaries regulated legal acts union particular union legal acts governing asset managers use legal structures including special purpose vehicles interpose crowdfunding project investors therefore strictly regulated permitted justified enabling investor acquire interest example illiquid indivisible asset issuance transferable securities special purpose vehicle ensuring effective system governance essential proper management risk preventing conflict interest crowdfunding service providers therefore place governance arrangements ensure effective prudent management natural persons responsible management good repute sufficient knowledge skills experience crowdfunding service providers also establish procedures receive handle complaints clients clients exposed potential risks related crowdfunding service providers particular operational risks order protect clients risks crowdfunding service providers subject prudential requirements crowdfunding service providers required develop business continuity plans addressing risks associated failure crowdfunding service provider business continuity plans include provisions handling critical functions depending business model crowdfunding service provider could include provisions continued servicing outstanding loans client notification handover asset safekeeping arrangements crowdfunding service providers operate neutral intermediaries clients crowdfunding platform order prevent conflicts interest certain requirements laid respect crowdfunding service providers shareholders managers employees natural legal person closely linked way control particular crowdfunding service providers prevented participation crowdfunding offers crowdfunding platforms major shareholders managers employees natural legal person closely linked way control act project owners relation crowdfunding services offered crowdfunding platform however major shareholders managers employees natural legal persons prohibited acting investors projects offered crowdfunding platform provided appropriate safeguards conflicts interest place interest efficient smooth provision crowdfunding services crowdfunding service providers allowed entrust operational function whole part third party provided outsourcing impair quality crowdfunding service providers ’ internal controls effective supervision crowdfunding service providers crowdfunding service providers however remain fully responsible compliance regulation respect outsourced activities requirements concerning safekeeping assets crucial protection investors receiving crowdfunding services transferable securities admitted instruments crowdfunding purposes registered financial instruments account physically delivered custodian safekept qualified custodian authorised accordance directive eu eu depending type assets safekept assets either held custody transferable securities registered financial instruments account physically delivered subject ownership verification recordkeeping safekeeping transferable securities admitted instruments crowdfunding purposes accordance national law registered project owner agent investments nonlisted companies held individually segregated account client could open directly central securities depository considered equivalent asset safekeeping qualified custodians since payment service providers permitted provide payment services defined directive eu european parliament council authorisation provide crowdfunding services equate authorisation also provide payment services therefore appropriate clarify crowdfunding service provider provides payment services connection crowdfunding services also needs payment service provider defined directive eu requirement without prejudice entities authorised directive eu carry activity referred article directive eu also subject notification requirement set article directive eu order enable proper supervision activities crowdfunding service provider inform competent authorities whether intends provide payment services appropriate authorisation whether services outsourced authorised third party growth smooth functioning crossborder crowdfunding services require sufficient scale public confidence services therefore necessary lay uniform proportionate directly applicable requirements authorisation crowdfunding service providers requirements crowdfunding services therefore facilitate crossborder provision services reduce operational risks ensure high degree transparency investor protection order ensure effective supervision crowdfunding service providers legal persons effective stable establishment union including necessary resources able apply authorisation crowdfunding service providers regulation crowdfunding services exposed money laundering terrorist financing risks underlined report commission european parliament council june assessment risks money laundering terrorist financing affecting internal market relating crossborder activities safeguards therefore provided setting conditions authorisation crowdfunding service providers assessing good repute natural persons responsible management well restricting provision payment services licensed entities subject antimoney laundering terrorist financing requirements view ensuring market integrity preventing risks money laundering terrorist financing taking account amount funds raised crowdfunding offer accordance regulation commission assess necessity proportionality subjecting crowdfunding service providers obligations comply national law implementing directive eu european parliament council respect money laundering terrorist financing adding crowdfunding service providers list obliged entities purposes directive enable crowdfunding service providers operate crossborder without facing divergent rules thereby facilitate funding projects across union investors different member states member states allowed impose additional requirements crowdfunding service providers authorised regulation authorisation process enable competent authorities informed services prospective crowdfunding service providers intend provide including crowdfunding platforms intend operate assess quality management assess internal organisation procedures set ensure compliance regulation order ensure proper supervision avoid disproportionate administrative burdens possible entities authorised directive ec european parliament council directive eu eu eu intend provide crowdfunding services hold authorisation one directives regulation cases simplified authorisation procedure apply competent authorities require submission documents proof already disposal facilitate transparency investors regards provision crowdfunding services european supervisory authority european securities markets authority established regulation eu european parliament council esma establish public uptodate register crowdfunding service providers authorised accordance regulation register include information operating crowdfunding platforms union authorisation regulation withdrawn crowdfunding service provider longer meets conditions authorisation granted competent authorities also power withdraw authorisation regulation whenever crowdfunding service provider third party acting behalf lost authorisation allowing provision payment services directive eu investment services directive eu whenever crowdfunding service provider also payment service provider managers employees third party acting behalf infringed national law implementing directive eu order provide broad range services clients crowdfunding service provider authorised regulation allowed engage activities provision crowdfunding services covered authorisation regulation order ensure clear understanding nature crowdfunding services risks costs charges related services crowdfunding service providers provide clients information fair clear misleading crowdfunding service providers provide crowdfunding services consisting facilitation granting loans make available clients certain relevant information default rates loans crowdfunding service providers apply credit scores crowdfunding projects suggest pricing crowdfunding offers disclose key elements methodology requirement concerning disclosure methods calculate credit scores determine price interest rate construed requiring disclosure sensitive business information manner impedes innovation ensure adequate investor protection different categories investors participating crowdfunding projects facilitating investment flows regulation distinguishes sophisticated nonsophisticated investors introduces different levels investor protection safeguards appropriate categories distinction sophisticated nonsophisticated investors build distinction professional clients retail clients established directive eu however distinction also take account characteristics crowdfunding market particular distinction sophisticated nonsophisticated investors regulation also consider prospective investors ’ experience knowledge crowdfunding reassessed every two years financial products marketed crowdfunding platforms traditional investment products savings products marketed however ensure prospective nonsophisticated investors understand level risk associated crowdfunding investments crowdfunding service providers required run entry knowledge test prospective nonsophisticated investors order ascertain understanding investments crowdfunding service providers explicitly warn prospective nonsophisticated investors insufficient knowledge skills experience crowdfunding services provided might inappropriate given sophisticated investors definition aware risks associated investments crowdfunding projects merit applying entry knowledge test similarly crowdfunding service providers required issue risk warnings sophisticated investors order ensure nonsophisticated investors read understood explicit risk warnings issued crowdfunding service provider expressly acknowledge risks taking invest crowdfunding project order maintain high level investor protection given absence acknowledgement indicates potential lack understanding risks involved crowdfunding service providers accept investments nonsophisticated investors expressly acknowledged received understood warnings given risk associated crowdfunding projects nonsophisticated investors avoid overexposure significant risk losing large amounts initially invested sums even experiencing total loss therefore appropriate set maximum amount nonsophisticated investors without safeguards invest individual project way contrast sophisticated investors necessary experience knowledge financial capacity combination thereof limited maximum amount order strengthen protection nonsophisticated investors necessary make provisions reflection period prospective nonsophisticated investor revoke offer invest expression interest particular crowdfunding offer without giving reason without incurring penalty necessary avoid situation prospective nonsophisticated investor accepting crowdfunding offer thereby also accepts offer enter legally binding contract without possibility retraction within adequate period time period reflection necessary prospective nonsophisticated investor express interest particular crowdfunding offer without also thereby binding contract except situation offer invest made expression interest expressed moment close scheduled expiry date offer date reaching target funding goal crowdfunding service providers ensure money collected investor transferred project owner reflection period expired considering potential effects right revoke offer invest expression interest reflection period costs raising capital crowdfunding platforms commission assess part report regulation whether reflection period shortened allow efficient capital raising process without harming investor protection directive ec european parliament council covers claims arising investment firm ’ inability repay money owed belonging investors held behalf connection investment business inability return investors instruments belonging held administered managed behalf connection investment business considering safekeeping assets connected crowdfunding services provided investment firm also authorised pursuant directive eu involve provision investment services within meaning point article directive nonsophisticated investors informed key investment information sheet investor compensation scheme protection apply transferable securities admitted instruments crowdfunding purposes acquired crowdfunding platform moreover provision crowdfunding services crowdfunding service provider considered taking deposits within meaning point article directive eu european parliament council regulation lays content key investment information sheet provided crowdfunding service providers prospective investors every crowdfunding offer order enable make informed investment decision key investment information sheet warn prospective investors investing environment entered entails risks covered neither deposit guarantee schemes established accordance directive eu investor compensation schemes established accordance directive ec key investment information sheet reflect specific features lendingbased investmentbased crowdfunding end specific relevant indicators required key investment information sheet also take account available specific features risks associated project owners focus material information project owners investors rights fees type transferable securities admitted instruments crowdfunding purposes loans offered key investment information sheet drawn project owners project owners best position provide information required included therein however since crowdfunding service providers responsible providing key investment information sheet prospective investors crowdfunding service providers ensure key investment information sheet clear correct complete crowdfunding service providers allowed present information required key investment information sheet drawn project owner information however complementary consistent information provided key investment information sheet crowdfunding service provider identifies omission mistake inaccuracy key investment information sheet could material impact expected return investment crowdfunding service provider signal omission mistake inaccuracy promptly project owner complete correct information completion correction made crowdfunding service provider certain conditions suspend even cancel crowdfunding offer ensure seamless expedient access capital markets startups smes reduce costs financing avoid delays costs crowdfunding service providers requirement key investment information sheet approved competent authority permitted national law crowdfunding service provider able transfer ownership shares investmentbased crowdfunding project updating information system crowdfunding service provider also interests transparency flow information able allow clients made investments crowdfunding platform advertise bulletin board crowdfunding platform interest buying selling loans transferable securities admitted instruments crowdfunding purposes originally offered crowdfunding platform provided bulletin board bring together multiple thirdparty buying selling interests way results contract relation advertisements bulletin board provided crowdfunding service provider therefore consist internal matching system executes client orders multilateral basis unless relation transferable securities crowdfunding service provider also separate authorisation investment firm accordance article directive eu regulated market accordance article directive crowdfunding service providers hold authorisation relation transferable securities clearly inform investors accept reception orders purposes buying selling contracts relation investments originally made crowdfunding platform buying selling activity crowdfunding platform investors discretion responsibility operate trading venue accordance directive eu facilitate transparency ensure proper documentation communications clients crowdfunding service providers keep appropriate records related services transactions ensure fair nondiscriminatory treatment clients crowdfunding service providers promoting services marketing communications provide information fair clear misleading provide legal certainty crowdfunding service providers operating across union ensure easier market access national laws regulations administrative provisions specifically govern marketing communications crowdfunding service providers applicable member states published electronically well summaries thereof language customary sphere international finance purpose esma competent authorities keep websites uptodate allow well understanding extent regulatory divergences member states regarding requirements applicable marketing communications competent authorities provide esma annually detailed report enforcement actions area avoid unnecessary costs administrative burden crossborder provision crowdfunding services marketing communications subject translation requirements provided least one official languages member state marketing communications disseminated language accepted competent authorities member state ensure efficient supervision authorisation procedure member states delineate duties functions carried competent authorities pursuant regulation order facilitate effective crossborder administrative cooperation member state designate single point contact manage communication esma competent authorities across union since effective tools powers resources competent authorities guarantee supervisory effectiveness regulation provide minimum set supervisory investigative powers entrusted competent authorities accordance national law powers exercised national law requires application competent judicial authorities exercising powers regulation esma competent authorities act objectively impartially remain autonomous decisionmaking purpose detecting infringements regulation necessary competent authorities able access premises private residences natural persons order seize documents access premises necessary reasonable suspicion documents data related subject matter inspection investigation exist might relevant prove infringement regulation additionally access premises necessary natural legal person demand information already made fails comply reasonable grounds believing demand made would complied documents information information requirement relates would removed tampered destroyed order ensure requirements set regulation fulfilled important member states take necessary steps ensure infringements regulation subject appropriate administrative penalties administrative measures penalties measures effective proportionate dissuasive ensure common approach member states deterrent effect regulation limit member states ’ ability provide higher levels administrative penalties order ensure decisions imposing administrative penalties administrative measures taken competent authorities deterrent effect public large published unless competent authority deems necessary opt publication anonymous basis delay publication publish although member states lay rules administrative criminal penalties infringements member states required lay rules administrative penalties infringements regulation subject national criminal law however maintenance criminal penalties instead administrative penalties infringements regulation reduce otherwise affect ability competent authorities cooperate access exchange information timely way competent authorities member states purposes regulation including referral relevant infringements competent judicial authorities criminal prosecution key investment information sheet designed tailored specific features crowdfunding offer information needs investors crowdfunding offers regulation exempted obligation publish prospectus regulation eu regulation amended accordingly whistleblowers bring new information attention competent authorities helps detecting infringements regulation imposing penalties regulation therefore ensure adequate arrangements place enable whistleblowers alert competent authorities actual potential infringements regulation protect retaliation done amending directive eu european parliament council order make applicable breaches regulation order specify requirements set regulation power adopt acts accordance article treaty functioning european union tfeu delegated commission respect extending transitional period respect crowdfunding services provided accordance national law particular importance commission carry appropriate consultations preparatory work including expert level consultations conducted accordance principles laid interinstitutional agreement april well lawmaking particular ensure equal participation preparation delegated acts european parliament council receive documents time member states ’ experts experts systematically access meetings commission expert groups dealing preparation delegated acts order promote consistent application regulation including adequate protection investors consumers across union technical standards developed bodies highly specialised expertise would efficient appropriate entrust esma european supervisory authority european banking authority established regulation eu european parliament council eba development draft regulatory technical standards involve policy choices submission commission commission empowered adopt regulatory technical standards developed esma eba regard individual portfolio management loans complaints handling conflicts interest authorisation crowdfunding service provider information clients default rate disclosure entry knowledge test simulation ability bear loss key investment information sheet cooperation competent authorities commission adopt regulatory technical standards means delegated acts pursuant article tfeu accordance articles regulations eu eu commission also empowered adopt implementing technical standards developed esma regard reporting crowdfunding service providers publication national provisions concerning marketing requirements cooperation competent authorities esma commission adopt implementing technical standards means implementing acts pursuant article tfeu accordance article regulation eu processing personal data carried within framework regulation exchange transmission personal data competent authorities undertaken accordance regulation eu european parliament council exchange transmission information esma undertaken accordance regulation eu european parliament council since objectives regulation namely address fragmentation legal framework applicable crowdfunding services order ensure proper functioning internal market services enhancing investor protection well market efficiency contributing establishing cmu sufficiently achieved member states rather well achieved union level union may adopt measures accordance principle subsidiarity set article treaty european union accordance principle proportionality set article regulation go beyond necessary order achieve objectives date application regulation deferred align date application national rules transposing directive eu european parliament council exempts crowdfunding service providers falling scope regulation application directive eu interest legal certainty view replacement national rules rules set regulation insofar types crowdfunding services concerned included within scope regulation appropriate make transitional arrangements allowing persons providing crowdfunding services accordance national law preceding regulation adapt business activities regulation sufficient time apply authorisation thereunder persons therefore able continue provide crowdfunding services included within scope regulation accordance applicable national law november transitional period member states put place special procedures enable legal persons authorised national law provide crowdfunding services included within scope regulation convert national authorisations authorisations regulation provided crowdfunding service providers meet requirements set regulation crowdfunding service providers failed obtain authorisation accordance regulation november issue new crowdfunding offers date avoid situation whereby raising target capital relation particular crowdfunding project completed november calls funding closed date however november servicing existing contracts including collecting transferring receivables providing asset safekeeping services processing corporate actions continue accordance applicable national law regulation respects fundamental rights observes principles recognised charter fundamental rights european union therefore regulation interpreted applied accordance rights principles european data protection supervisor consulted accordance article regulation eu adopted regulation regulation lays uniform requirements provision crowdfunding services organisation authorisation supervision crowdfunding service providers operation crowdfunding platforms well transparency marketing communications relation provision crowdfunding services union regulation apply crowdfunding services provided project owners consumers defined point article directive ec b services related defined point article provided accordance national law c crowdfunding offers consideration eur calculated period months sum total consideration offers transferable securities admitted instruments crowdfunding purposes defined points n article regulation amounts raised means loans crowdfunding platform particular project owner ii total consideration offers public transferable securities made project owner referred point point capacity offeror pursuant exemption article article regulation eu unless crowdfunding service provider project owner investor authorised credit institution accordance article directive eu member states shall apply national requirements implementing article directive shall ensure national law require authorisation credit institution individual authorisation exemption dispensation connection provision crowdfunding services following situations project owners respect loans facilitated crowdfunding service provider accept funds investors b investors grant loans project owners facilitated crowdfunding service provider purposes regulation following definitions apply ‘ crowdfunding service ’ means matching business funding interests investors project owners use crowdfunding platform consists following activities facilitation granting loans ii placing without firm commitment basis referred point section annex directive eu transferable securities admitted instruments crowdfunding purposes issued project owners special purpose vehicle reception transmission client orders referred point section relation transferable securities admitted instruments crowdfunding purposes b ‘ loan ’ means agreement whereby investor makes available project owner agreed amount money agreed period time whereby project owner assumes unconditional obligation repay amount investor together accrued interest accordance instalment payment schedule c ‘ individual portfolio management loans ’ means allocation crowdfunding service provider predetermined amount funds investor original lender one multiple crowdfunding projects crowdfunding platform accordance individual mandate given investor discretionary investorbyinvestor basis ‘ crowdfunding platform ’ means publicly accessible internetbased information system operated managed crowdfunding service provider e ‘ crowdfunding service provider ’ means legal person provides crowdfunding services f ‘ crowdfunding offer ’ means communication crowdfunding service provider form means presenting sufficient information terms offer crowdfunding project offered enable investor invest crowdfunding project g ‘ client ’ means prospective actual investor project owner crowdfunding service provider provides intends provide crowdfunding services h ‘ project owner ’ means natural legal person seeks funding crowdfunding platform ‘ investor ’ means natural legal person crowdfunding platform grants loans acquires transferable securities admitted instruments crowdfunding purposes j ‘ sophisticated investor ’ means natural legal person professional client virtue point section annex ii directive eu natural legal person approval crowdfunding service provider treated sophisticated investor accordance criteria procedure laid annex ii regulation k ‘ nonsophisticated investor ’ means investor sophisticated investor l ‘ crowdfunding project ’ means business activity activities project owner seeks funding crowdfunding offer ‘ transferable securities ’ means transferable securities defined point article directive eu n ‘ admitted instruments crowdfunding purposes ’ means respect member state shares private limited liability company subject restrictions would effectively prevent transferred including restrictions way shares offered advertised public ‘ marketing communications ’ means information communication crowdfunding service provider prospective investor prospective project owner services crowdfunding service provider investor disclosures required regulation p ‘ durable medium ’ means instrument enables storage information way accessible future reference period time adequate purposes information allows unchanged reproduction information stored q ‘ special purpose vehicle ’ ‘ spv ’ means entity created solely solely serves purpose securitisation within meaning point article regulation eu european central bank r ‘ competent authority ’ means authority authorities designated member state accordance article without prejudice possibility shares private limited liability company fall definition transferable securities point paragraph competent authorities granted authorisation crowdfunding service provider may permit use shares purposes regulation provided meet conditions admitted instruments crowdfunding purposes point n paragraph competent authorities shall annual basis inform esma types private limited liability companies shares offered fall within scope regulation reference applicable national law esma shall make information referred first subparagraph publicly accessible website without undue delay annual basis first two years application regulation esma shall collect key investment information sheets drawn project owners issued admitted instruments crowdfunding purposes esma shall compare information referred points b c part f annex provided key investment information sheets information provided member states paragraph article esma shall submit comparison commission shall include report referred article crowdfunding services shall provided legal persons established union authorised crowdfunding service providers accordance article crowdfunding service providers shall act honestly fairly professionally accordance best interests clients crowdfunding service providers shall pay accept remuneration discount nonmonetary benefit routing investors ’ orders particular crowdfunding offer made crowdfunding platform particular crowdfunding offer made thirdparty crowdfunding platform crowdfunding service providers may propose individual investors specific crowdfunding projects correspond one specific parameters risk indicators chosen investor investor wishes make investment suggested crowdfunding projects investor shall review expressly take investment decision relation individual crowdfunding offer crowdfunding service providers provide individual portfolio management loans shall adherence parameters provided investors shall take necessary steps obtain best possible result investors crowdfunding service providers shall disclose investors decisionmaking process executing received discretionary mandate way derogation first subparagraph paragraph crowdfunding service providers providing individual portfolio management loans may exercise discretion behalf investors within agreed parameters without requiring investors review take investment decision relation individual crowdfunding offer special purpose vehicle used provision crowdfunding services one illiquid indivisible asset shall offered special purpose vehicle requirement shall apply lookthrough basis underlying illiquid indivisible asset held financial legal structures fully partially owned controlled special purpose vehicle decision take exposure underlying asset shall exclusively lie investors management body crowdfunding service provider shall establish oversee implementation adequate policies procedures ensure effective prudent management including segregation duties business continuity prevention conflicts interest manner promotes integrity market interests clients management body crowdfunding service provider shall establish oversee implementation appropriate systems controls assess risks related loans intermediated crowdfunding platform crowdfunding service provider provides individual portfolio management loans shall ensure place adequate systems controls management risk financial modelling provision services complies requirements set article management body crowdfunding service provider shall review least every two years taking account nature scale complexity crowdfunding services provided prudential safeguards referred point h article business continuity plan referred point j article crowdfunding service provider determines price crowdfunding offer shall undertake reasonable assessment credit risk crowdfunding project project owner crowdfunding offer made including considering risk project owner make case loan bond form securitised debt one repayments due date b base credit risk assessment referred point sufficient information including following available audited accounts covering two latest financial years ii information aware time credit risk assessment carried iii information obtained appropriate project owner iv information enables crowdfunding service provider carry reasonable credit risk assessment c establish implement maintain clear effective policies procedures enable carry credit risk assessments publish policies procedures ensure price fair appropriate including situations crowdfunding service provider determines price loans facilitating exit lender maturity date loan e conduct valuation loan least following circumstances moment loan originated ii crowdfunding service provider considers project owner unlikely fulfil obligations repay loan full without crowdfunding service provider enforcing relevant security interest taking steps analogous effect iii following default iv crowdfunding service provider facilitating exit lender maturity date loan f use riskmanagement framework designed achieve compliance requirements set points e paragraph g maintain record facilitated crowdfunding offer sufficient demonstrate credit risk assessment carried required compliance points b paragraph ii price crowdfunding offer fair appropriate line riskmanagement framework crowdfunding service provider shall undertake least minimum level due diligence respect project owners propose projects funded crowdfunding platform crowdfunding service provider minimum level due diligence referred paragraph shall include obtaining following evidence project owner criminal record respect infringements national rules fields commercial law insolvency law financial services law antimoney laundering law fraud law professional liability obligations b project owner established noncooperative jurisdiction recognised relevant union policy highrisk third country pursuant article directive eu crowdfunding service provider offers individual portfolio management loans investor shall give mandate specifying parameters providing service shall include least two following criteria every loan portfolio comply minimum maximum interest rate payable loan facilitated investor b minimum maximum maturity date loan facilitated investor c range distribution risk categories applicable loans annual target rate return investment offered likelihood selected loans enable investor achieve target rate reasonable certainty order comply paragraph crowdfunding service provider shall place robust internal processes methodologies use appropriate data crowdfunding service provider may use data data sourced third parties basis sound welldefined criteria taking account relevant factors may unfavourable effects performance loans crowdfunding service provider shall assess credit risk individual crowdfunding projects selected investor ’ portfolio b credit risk investor ’ portfolio level c credit risk project owners selected investor ’ portfolio verifying prospect project owners meeting obligations loan crowdfunding service provider shall also provide description method used assessments referred points b c second subparagraph investor crowdfunding service provider offers individual portfolio management loans shall keep records mandate given every loan individual portfolio crowdfunding service provider shall keep records mandate every loan least three years maturity date durable medium crowdfunding service provider shall continuous basis upon request investor provide via electronic means least following information individual portfolio list individual loans portfolio composed b weighted average annual interest rate loans portfolio c distribution loans according risk category percentage absolute numbers every loan portfolio composed key information including least interest rate compensation investor maturity date risk category schedule repayment principal payment interest compliance project owner instalment payment schedule e every loan portfolio composed risk mitigation measures including collateral providers guarantors types guarantees f default credit agreements project owner within past five years g fees paid respect loan investor crowdfunding service provider project owner h crowdfunding service provider carried valuation loan recent valuation ii valuation date iii explanation crowdfunding service provider conducted valuation iv fair description likely actual return taking account fees default rates crowdfunding service provider established operates contingency fund activity related individual portfolio management loans shall provide following information investors risk warning specifying ‘ contingency fund offer give right payment may happen receive payout even suffer loss contingency fund operator absolute discretion amount may paid including making payment therefore investors rely possible payouts contingency fund considering whether much invest ’ b description policy contingency fund including explanation source money paid fund ii explanation fund governed iii explanation concerning money belongs iv considerations contingency fund operator takes account deciding whether exercise discretion pay fund including — whether fund sufficient money pay — contingency fund operator absolute discretion event pay decide amount payment v explanation process considering whether make discretionary payment fund vi description money paid fund treated event insolvency contingency fund operator crowdfunding service provider established operates contingency fund referred paragraph shall provide following information performance fund public quarterly basis size contingency fund compared total amounts outstanding loans relevant contingency fund b ratio payments made contingency fund total amounts outstanding loans relevant contingency fund eba shall close cooperation esma develop draft regulatory technical standards specify elements including format included description method referred third subparagraph paragraph b information referred paragraph c policies procedures organisational arrangements crowdfunding service providers place regards contingency funds might offer referred paragraphs eba shall submit draft regulatory technical standards commission november power delegated commission supplement regulation adopting regulatory technical standards referred first subparagraph paragraph accordance articles regulation eu crowdfunding service providers shall place effective transparent procedures prompt fair consistent handling complaints received clients shall publish descriptions procedures crowdfunding service providers shall ensure clients able file complaints free charge crowdfunding service providers shall develop make available clients standard template complaints shall keep record complaints received measures taken crowdfunding service providers shall investigate complaints timely fair manner communicate outcome within reasonable period time complainant esma shall develop draft regulatory technical standards specify requirements standard formats procedures complaint handling esma shall submit draft regulatory technical standards commission november power delegated commission supplement regulation adopting regulatory technical standards referred first subparagraph paragraph accordance articles regulation eu crowdfunding service providers shall participation crowdfunding offer crowdfunding platforms crowdfunding service providers shall accept project owners relation crowdfunding services offered crowdfunding platform following shareholders holding share capital voting rights b managers employees c natural legal person linked shareholders managers employees control defined point b article directive eu crowdfunding service providers accept investors crowdfunding projects offered crowdfunding platform persons referred points b c first subparagraph shall fully disclose website fact accept persons investors including information specific crowdfunding projects invested shall ensure investments made conditions investors persons enjoy preferential treatment privileged access information crowdfunding service providers shall maintain operate effective internal rules prevent conflicts interest crowdfunding service providers shall take appropriate steps prevent identify manage disclose conflicts interest crowdfunding service providers shareholders managers employees natural legal person linked control defined point b article directive eu clients one client another client crowdfunding service providers shall disclose clients general nature sources conflicts interest steps taken mitigate disclosure shall made website crowdfunding service provider prominent place disclosure referred paragraph shall made durable medium b include sufficient detail taking account nature client enable client take informed decision service context conflict interest arises esma shall develop draft regulatory technical standards specify requirements maintenance operation internal rules referred paragraph b steps referred paragraph c arrangements disclosure referred paragraphs developing draft regulatory technical standards esma shall take account nature scale complexity crowdfunding services provided crowdfunding service provider esma shall submit draft regulatory technical standards commission november power delegated commission supplement regulation adopting regulatory technical standards referred first subparagraph paragraph accordance articles regulation eu crowdfunding service providers shall relying third party performance operational functions take reasonable steps avoid additional operational risk outsourcing operational functions referred paragraph shall impair quality crowdfunding service providers ’ internal control ability competent authority monitor crowdfunding service providers ’ compliance regulation crowdfunding service providers shall remain fully responsible compliance regulation respect outsourced activities asset safekeeping services payment services provided crowdfunding service providers shall inform clients following nature terms conditions services including references applicable national law b whether services provided directly third party crowdfunding service providers carry payment transactions related transferable securities admitted instruments crowdfunding purposes shall deposit funds one following entities central bank b credit institution authorised accordance directive eu transferable securities admitted instruments crowdfunding purposes offered crowdfunding platform registered financial instruments account opened name investor physically delivered custodian shall held custody crowdfunding service provider third party entity providing custody services shall hold authorisation accordance directive eu eu crowdfunding service provider may third party provide payment services provided crowdfunding service provider third party payment service provider accordance directive eu crowdfunding service provider provide payment services relation crowdfunding services either third party crowdfunding service provider shall put place maintain arrangements ensure project owners accept funding crowdfunding projects payment means payment service provider accordance directive eu crowdfunding service providers shall times place prudential safeguards equal amount least higher following eur b one quarter fixed overheads preceding year reviewed annually include cost servicing loans three months crowdfunding service provider also facilitates granting loans prudential safeguards referred paragraph article shall take one following forms funds consisting common equity tier items referred articles regulation eu european parliament council deductions full pursuant article regulation without application threshold exemptions pursuant articles regulation b insurance policy covering territories union crowdfunding offers actively marketed comparable guarantee c combination points b paragraph article apply crowdfunding service providers undertakings subject individual basis basis consolidated situation title iii part three regulation eu regulation eu european parliament council paragraph article apply crowdfunding service providers undertakings subject articles directive ec articles directive eu crowdfunding service provider operation less months may use forwardlooking business estimates calculating fixed overheads provided starts using historical data soon becomes available insurance policy referred point b paragraph shall least following characteristics initial term less one year b notice period cancellation least days c taken undertaking authorised provide insurance accordance union law national law provided thirdparty entity insurance policy referred point b paragraph shall include without limited coverage risk loss documents b misrepresentations misleading statements made c acts errors omissions resulting breach legal regulatory obligations ii duty skill care towards clients iii obligations confidentiality failure establish implement maintain appropriate procedures prevent conflicts interest e losses arising business disruption system failures process management f applicable business model gross negligence carrying asset valuation credit pricing scoring purposes point b paragraph crowdfunding service providers shall calculate fixed overheads preceding year using figures resulting applicable accounting framework subtracting following items total expenses distribution profits shareholders recently audited annual financial statements audited statements available annual financial statements validated national supervisors staff bonuses remuneration extent depend net profit crowdfunding service provider relevant year b employees ’ directors ’ partners ’ shares profits c appropriations profits variable remuneration extent fully discretionary shared commission fees payable directly related commission fees receivable included within total revenue payment commission fees payable contingent upon actual receipt commission fees receivable e nonrecurring expenses nonordinary activities fixed expenses incurred behalf crowdfunding service providers third parties fixed expenses already included within total expenses referred paragraph crowdfunding service providers shall take either following actions breakdown expenses third parties available determine amount fixed expenses third parties incurred behalf add amount figure resulting paragraph b breakdown expenses third parties available determine amount expenses incurred behalf third parties according crowdfunding service providers ’ business plans add amount figure resulting paragraph legal person intends provide crowdfunding services shall apply competent authority member state established authorisation crowdfunding service provider application referred paragraph shall contain following name including legal name trading name used prospective crowdfunding service provider internet address website operated provider physical address b legal form prospective crowdfunding service provider c articles association prospective crowdfunding service provider programme operations setting types crowdfunding services prospective crowdfunding service provider intends provide crowdfunding platform intends operate including crowdfunding offers marketed e description prospective crowdfunding service provider ’ governance arrangements internal control mechanisms ensure compliance regulation including riskmanagement accounting procedures f description prospective crowdfunding service provider ’ systems resources procedures control safeguarding data processing systems g description prospective crowdfunding service provider ’ operational risks h description prospective crowdfunding service provider ’ prudential safeguards accordance article proof prospective crowdfunding service provider meets prudential safeguards accordance article j description prospective crowdfunding service provider ’ business continuity plan taking account nature scale complexity crowdfunding services prospective crowdfunding service provider intends provide establishes measures procedures ensure event failure prospective crowdfunding service provider continuity provision critical services related existing investments sound administration agreements prospective crowdfunding service provider clients k identity natural persons responsible management prospective crowdfunding service provider l proof natural persons referred point k good repute possess sufficient knowledge skills experience manage prospective crowdfunding service provider description prospective crowdfunding service provider ’ internal rules prevent persons referred first subparagraph article engaging project owners crowdfunding services offered prospective crowdfunding service provider n description prospective crowdfunding service provider ’ outsourcing arrangements description prospective crowdfunding service provider ’ procedures handle complaints clients p confirmation whether prospective crowdfunding service provider intends provide payment services third party directive eu arrangement accordance article regulation q description prospective crowdfunding service provider ’ procedures verify completeness correctness clarity information contained key investment information sheet r description prospective crowdfunding service provider ’ procedures relation investment limits nonsophisticated investors referred article purposes point l paragraph prospective crowdfunding service providers shall provide proof following absence criminal record respect infringements national rules fields commercial law insolvency law financial services law antimoney laundering law fraud law professional liability obligations natural persons involved management prospective crowdfunding service provider shareholders hold share capital voting rights b proof natural persons involved management prospective crowdfunding service provider collectively possess sufficient knowledge skills experience manage prospective crowdfunding service provider natural persons required commit sufficient time performance duties competent authority shall within working days receipt application referred paragraph assess whether application complete checking information listed paragraph submitted application complete competent authority shall set deadline prospective crowdfunding service provider provide missing information application referred paragraph remains incomplete deadline referred paragraph competent authority may refuse review application event refusal shall return submitted documents prospective crowdfunding service provider application referred paragraph complete competent authority shall immediately notify prospective crowdfunding service provider thereof adopting decision granting refusing grant authorisation crowdfunding service provider competent authority shall consult competent authority another member state following cases prospective crowdfunding service provider subsidiary crowdfunding service provider authorised member state b prospective crowdfunding service provider subsidiary parent undertaking crowdfunding service provider authorised member state c prospective crowdfunding service provider controlled natural legal persons control crowdfunding service provider authorised member state competent authority shall within three months date receipt complete application assess whether prospective crowdfunding service provider complies requirements set regulation shall adopt fully reasoned decision granting refusing grant authorisation crowdfunding service provider assessment shall take account nature scale complexity crowdfunding services prospective crowdfunding service provider intends provide competent authority may refuse authorisation objective demonstrable grounds believing management body prospective crowdfunding service provider could pose threat effective sound prudent management business continuity adequate consideration interest clients integrity market competent authority shall inform esma authorisations granted article esma shall add information successful applications register authorised crowdfunding service providers accordance article esma may request information order ensure competent authorities grant authorisations article consistent manner competent authority shall notify prospective crowdfunding service provider decision within three working days date decision crowdfunding service provider authorised accordance article shall times meet conditions authorisation member states shall require crowdfunding service providers provide crowdfunding services crossborder basis physical presence territory member state member state crowdfunding service providers authorised crowdfunding service providers authorised regulation may also engage activities covered authorisation referred article accordance relevant applicable union national law entity authorised pursuant directive ec eu eu eu national law applicable crowdfunding services prior entry force regulation applies authorisation crowdfunding service provider regulation competent authority shall require entity provide information documents already submitted applying authorisation pursuant directives national law provided information documents remain uptodate accessible competent authority prospective crowdfunding service provider also seeks apply authorisation provide payment services solely connection provision crowdfunding services extent competent authorities also responsible authorisation directive eu competent authorities shall require information documents submitted application submitted esma shall develop draft regulatory technical standards specify requirements arrangements application referred paragraph including standard forms templates procedures application authorisation b measures procedures business continuity plan referred point j paragraph developing draft regulatory technical standards esma shall take account nature scale complexity crowdfunding services provided crowdfunding service provider esma shall submit draft regulatory technical standards commission november power delegated commission supplement regulation adopting regulatory technical standards referred first subparagraph paragraph accordance articles regulation eu competent authorities granted authorisation notified article shall ensure authorisation specifies crowdfunding services crowdfunding service provider authorised provide crowdfunding service provider seeking authorisation extend business additional crowdfunding services foreseen time authorisation granted article shall submit request extension authorisation competent authorities granted crowdfunding service provider authorisation article complementing updating information referred article request extension shall processed accordance article esma shall establish register crowdfunding service providers register shall publicly available website shall updated regular basis register referred paragraph shall contain following data name legal form applicable legal entity identifier crowdfunding service provider b commercial name physical address internet address crowdfunding platform operated crowdfunding service provider c name address competent authority granted authorisation contact details information crowdfunding service crowdfunding service provider authorised e list member states crowdfunding service provider notified intention provide crowdfunding services accordance article f services provided crowdfunding service provider covered regulation reference relevant union national law g penalties imposed crowdfunding service provider managers withdrawal authorisation crowdfunding service provider accordance article shall published remain published register five years crowdfunding service providers shall provide services supervision competent authorities granted authorisation relevant competent authority shall assess compliance crowdfunding service providers obligations provided regulation shall determine frequency depth assessment regard nature scale complexity activities crowdfunding service provider purpose assessment relevant competent authority may subject crowdfunding service provider onsite inspection crowdfunding service providers shall notify relevant competent authority material changes conditions authorisation without undue delay shall upon request provide information needed assess compliance regulation crowdfunding service provider shall annually confidential basis provide list projects funded crowdfunding platform competent authority granted authorisation specifying project project owner amount raised b instrument issued defined points b n article c aggregated information investors invested amount broken fiscal residency investors distinguishing sophisticated nonsophisticated investors competent authorities shall provide information referred paragraph esma anonymised format within one month date receipt information esma shall develop publish aggregated annual statistics relating crowdfunding market union website esma shall develop draft implementing technical standards establish data standards formats templates procedures information reported accordance article esma shall submit draft implementing technical standards commission november power conferred commission adopt implementing technical standards referred first subparagraph paragraph accordance article regulation eu competent authorities granted authorisation shall power withdraw authorisation following situations crowdfunding service provider used authorisation within months date granting authorisation b expressly renounced authorisation c provided crowdfunding services nine successive months also longer involved administration existing contracts result initial matching business funding interests use crowdfunding platform obtained authorisation irregular means including making false statements application authorisation e longer meets conditions authorisation granted f seriously infringed regulation competent authorities granted authorisation shall also power withdraw authorisation following situations crowdfunding service provider also payment service provider accordance directive eu managers employees third parties acting behalf infringed national law implementing directive eu respect money laundering terrorist financing b crowdfunding service provider third party acting behalf lost authorisation allowing provision payment services accordance directive eu investment services directive eu crowdfunding service provider third party failed remedy situation within calendar days competent authority member state withdraws authorisation competent authority designated single point contact member state accordance article shall without undue delay notify esma competent authorities member states crowdfunding service provider provides crowdfunding services accordance article esma shall introduce information withdrawal authorisation register referred article making decision withdraw authorisation competent authority granted authorisation shall consult competent authority another member state cases crowdfunding service provider subsidiary crowdfunding service provider authorised member state b subsidiary parent undertaking crowdfunding service provider authorised member state c controlled natural legal persons control crowdfunding service provider authorised member state crowdfunding service provider authorised accordance article intends provide crowdfunding services member state member state whose competent authority granted authorisation accordance article shall submit competent authority designated single point contact accordance article member state authorisation granted following information list member states crowdfunding service provider intends provide crowdfunding services b identity natural legal persons responsible provision crowdfunding services member states c starting date intended provision crowdfunding services crowdfunding service provider list activities provided crowdfunding service provider covered regulation single point contact member state authorisation granted shall within working days receipt information referred paragraph article communicate information competent authorities member states crowdfunding service provider intends provide crowdfunding services referred paragraph article esma esma shall introduce information register referred article single point contact member state authorisation granted shall thereafter inform without delay crowdfunding service provider communication referred paragraph crowdfunding service provider may start provide crowdfunding services member state one whose competent authority granted authorisation date receipt communication referred paragraph latest calendar days submitting information referred paragraph information including marketing communications referred article crowdfunding service providers clients costs financial risks charges related crowdfunding services investments crowdfunding project selection criteria nature risks associated crowdfunding services shall fair clear misleading crowdfunding service providers shall inform clients crowdfunding services covered deposit guarantee scheme established accordance directive eu transferable securities admitted instruments crowdfunding purposes acquired crowdfunding platform covered investor compensation scheme established accordance directive ec crowdfunding service providers shall inform clients reflection period nonsophisticated investors referred article whenever crowdfunding offer made crowdfunding service provider shall provide information prominent place medium including every mobile application webpage offer made information provided accordance paragraph shall communicated clients whenever appropriate least prior entering crowdfunding transaction information referred paragraphs shall available clients clearly identified easily accessible section website crowdfunding platform nondiscriminatory manner crowdfunding service providers apply credit scores crowdfunding projects suggest pricing crowdfunding offers crowdfunding platform shall make available description method used calculate credit scores prices calculation based accounts audited shall clearly disclosed description method eba shall close cooperation esma develop draft regulatory technical standards specify elements including format included description method referred paragraph b information factors crowdfunding service providers consider carrying credit risk assessment referred points b article conducting valuation loan referred point e article c factors crowdfunding service provider take account ensuring price loan facilitates fair appropriate referred point article minimum contents governance policies procedures required article riskmanagement framework referred point f article eba shall submit draft regulatory technical standards commission may power delegated commission supplement regulation adopting regulatory technical standards referred first subparagraph paragraph accordance articles regulation eu crowdfunding service providers provide crowdfunding services consisting facilitation granting loans shall disclose annually default rates crowdfunding projects offered crowdfunding platform least preceding months b publish outcome statement within four months end financial year indicating applicable expected actual default rate loans crowdfunding service provider facilitated risk category reference risk categories set riskmanagement framework ii summary assumptions used determining expected default rates iii crowdfunding service provider offered target rate relation individual portfolio management loans actual return achieved default rates referred paragraph shall published prominent place website crowdfunding service provider esma shall close cooperation eba develop draft regulatory technical standards specify methodology calculating default rates referred paragraph projects offered crowdfunding platform esma shall submit draft regulatory technical standards commission november power delegated commission supplement regulation adopting regulatory technical standards referred first subparagraph paragraph accordance articles regulation eu crowdfunding service providers shall giving prospective nonsophisticated investors full access invest crowdfunding projects crowdfunding platform assess whether crowdfunding services offered appropriate prospective nonsophisticated investors purposes assessment referred paragraph crowdfunding service providers shall request information prospective nonsophisticated investor ’ experience investment objectives financial situation basic understanding risks involved investing general investing types investments offered crowdfunding platform including information prospective nonsophisticated investor ’ past investments transferable securities past acquisitions admitted instruments crowdfunding purposes loans including early expansion stage businesses b prospective nonsophisticated investor ’ understanding risks involved granting loans investing transferable securities acquiring admitted instruments crowdfunding purposes crowdfunding platform professional experience relation crowdfunding investments crowdfunding service providers shall nonsophisticated investor review assessment referred paragraph every two years initial assessment made accordance paragraph prospective nonsophisticated investors provide information required pursuant paragraph crowdfunding service providers consider basis information received paragraph prospective nonsophisticated investors insufficient knowledge skills experience crowdfunding service providers shall inform prospective nonsophisticated investors services offered crowdfunding platforms may inappropriate issue risk warning risk warning shall clearly state risk losing entirety money invested prospective nonsophisticated investors shall expressly acknowledge received understood warning issued crowdfunding service provider purposes assessment referred paragraph crowdfunding service providers shall also require prospective nonsophisticated investors simulate ability bear loss calculated net worth based following information regular income total income whether income earned permanent temporary basis b assets including financial investments cash deposits excluding personal investment property pension funds c financial commitments including regular existing future commitments crowdfunding service providers shall nonsophisticated investor review simulation referred paragraph every year initial simulation made accordance paragraph prospective nonsophisticated investors nonsophisticated investors shall prevented investing crowdfunding projects nonsophisticated investors shall acknowledge received results simulation referred paragraph time prospective nonsophisticated investor nonsophisticated investor accepts individual crowdfunding offer thereby investing amount exceeds higher either eur investor ’ net worth calculated accordance paragraph crowdfunding service provider shall ensure investor receives risk warning b provides explicit consent crowdfunding service provider c proves crowdfunding service provider investor understands investment risks purposes point c first subparagraph paragraph assessment referred paragraph may used proof prospective nonsophisticated investor nonsophisticated investor understands investment risks esma shall close cooperation eba develop draft regulatory technical standards specify arrangements necessary carry assessment referred paragraph b carry simulation referred paragraph c provide information referred paragraphs developing draft regulatory technical standards esma shall take account nature scale complexity crowdfunding services provided crowdfunding service provider esma shall submit draft regulatory technical standards commission november power delegated commission supplement regulation adopting regulatory technical standards referred first subparagraph paragraph accordance articles regulation eu terms conditions crowdfunding offer shall remain binding project owner moment crowdfunding offer listed crowdfunding platform earlier following dates expiry date crowdfunding offer announced crowdfunding service provider time listing crowdfunding offer crowdfunding platform b date target funding goal reached case funding range maximum target funding goal reached crowdfunding service provider shall provide precontractual reflection period prospective nonsophisticated investor may time revoke offer invest expression interest crowdfunding offer without giving reason without incurring penalty reflection period referred paragraph shall start moment offer invest expression interest prospective nonsophisticated investor shall expire four calendar days crowdfunding service provider shall keep record offers invest expressions interest receives point time received modalities revoke offer invest expression interest shall include least modalities prospective nonsophisticated investor able make offer invest express interest crowdfunding offer crowdfunding service provider shall provide accurate clear timely information prospective nonsophisticated investor reflection period modalities revoke offer invest expression interest including least following immediately prospective nonsophisticated investor communicate offer invest expression interest crowdfunding service provider inform prospective nonsophisticated investor fact offer invest expression interest subject reflection period ii duration reflection period iii modalities revoke offer invest expression interest b immediately receipt offer invest expression interest crowdfunding service provider crowdfunding platform inform prospective nonsophisticated investor reflection period started case individual portfolio management loans article shall apply initial investment mandate given nonsophisticated investor investments specific loans made mandate crowdfunding service providers shall provide prospective investors information referred article crowdfunding service providers shall provide prospective investors key investment information sheet drawn project owner crowdfunding offer key investment information sheet shall drafted least one official languages member state whose competent authorities granted authorisation accordance article another language accepted authorities crowdfunding service provider promotes crowdfunding offer marketing communication another member state key investment information sheet shall made available least one official languages member state language accepted competent authorities member state crowdfunding service providers shall prevented arranging translation key investment information sheet language languages referred paragraph translations shall accurately reflect content original key investment information sheet competent authorities shall inform esma language languages accept purposes regulation referred paragraphs esma shall make information available website key investment information sheet referred paragraph shall contain following information information set annex b following disclaimer appearing directly underneath title key investment information sheet ‘ crowdfunding offer neither verified approved competent authorities european securities markets authority esma appropriateness experience knowledge necessarily assessed granted access investment making investment assume full risk taking investment including risk partial entire loss money invested ’ c following risk warning ‘ investment crowdfunding project entails risks including risk partial entire loss money invested investment covered deposit guarantee schemes established accordance directive eu european parliament council investment covered investor compensation schemes established accordance directive ec european parliament council may receive return investment savings product advise invest net worth crowdfunding projects may able sell investment instruments wish able sell may nonetheless incur losses key investment information sheet shall fair clear misleading shall contain footnotes references including quotations appropriate applicable law shall presented standalone durable medium clearly distinguishable marketing communications consist maximum six sides asized paper format printed case admitted instruments crowdfunding purposes information required part f annex exceeds one side asized paper format printed remainder shall produced annex attached key investment information sheet crowdfunding service provider shall request project owner notify change information order keep key investment information sheet updated times duration crowdfunding offer crowdfunding service provider shall immediately inform investors made offer invest expressed interest crowdfunding offer material change information key investment information sheet notified member states shall ensure responsibility least project owner administrative management supervisory bodies information given key investment information sheet responsible key investment information sheet shall clearly identified key investment information sheet case natural persons names functions case legal persons names registered offices well declarations best knowledge information contained key investment information sheet accordance facts key investment information sheet makes omission likely affect import member states shall ensure laws regulations administrative provisions civil liability apply natural legal persons responsible information given key investment information sheet including translation thereof least following situations information misleading inaccurate b key investment information sheet omits key information needed aid investors considering whether finance crowdfunding project crowdfunding service providers shall place apply adequate procedures verify completeness correctness clarity information contained key investment information sheet crowdfunding service provider identifies omission mistake inaccuracy key investment information sheet could material impact expected return investment crowdfunding service provider shall signal omission mistake inaccuracy promptly project owner shall promptly complete correct information completion correction made promptly crowdfunding service provider shall suspend crowdfunding offer key investment information sheet completed corrected period longer calendar days crowdfunding service provider shall immediately inform investors made offer invest expressed interest crowdfunding offer identified irregularities steps taken taken crowdfunding service provider option revoke offer invest expression interest crowdfunding offer calendar days key investment information sheet completed corrected rectify identified irregularities crowdfunding offer shall cancelled prospective investor may request crowdfunding service provider arrange translation key investment information sheet language investor ’ choice translation shall faithfully accurately reflect content original key investment information sheet crowdfunding service provider provide requested translation key investment information sheet crowdfunding service provider shall clearly advise prospective investor refrain making investment competent authorities member state authorisation granted crowdfunding service provider may require ex ante notification key investment information sheet least seven working days making available prospective investors key investment information sheets shall subject ex ante approval competent authorities prospective investors provided key investment information sheet drawn accordance article crowdfunding service providers project owners shall considered satisfied obligation draw key information document accordance regulation eu european parliament council first subparagraph shall apply mutatis mutandis natural legal persons advising marketing crowdfunding offer esma shall develop draft regulatory technical standards specify following requirements content model presenting information referred paragraph annex b types main risks associated crowdfunding offer therefore must disclosed accordance part c annex c use certain financial ratios enhance clarity key financial information including presenting information referred point e part annex commissions fees transaction costs covered point part h annex including detailed breakdown direct indirect costs borne investor developing draft regulatory technical standards esma shall take account nature scale complexity crowdfunding services provided crowdfunding service provider esma shall submit draft regulatory technical standards commission may power delegated commission supplement regulation adopting regulatory technical standards referred first subparagraph paragraph accordance articles regulation eu way derogation first sentence article point article crowdfunding service providers providing individual portfolio management loans shall draw accordance article make available prospective investors key investment information sheet platform level containing following information information provided parts h annex b information natural legal persons responsible information given key investment information sheet case natural persons including members crowdfunding service provider ’ administrative management supervisory bodies name function natural person case legal persons name registered office c following responsibility statement ‘ crowdfunding service provider declares best knowledge information omitted materially misleading inaccurate crowdfunding service provider responsible preparation key investment information sheet ’ crowdfunding service provider shall keep key investment information sheet platform level updated times duration crowdfunding offer crowdfunding service provider shall immediately inform investors made offer invest expressed interest crowdfunding offer material change information key investment information sheet key investment information sheet platform level shall fair clear misleading shall contain footnotes references including quotations appropriate applicable law shall presented standalone durable medium clearly distinguishable marketing communications consist maximum six sides asized paper format printed member states shall ensure responsibility least crowdfunding service provider information given key investment information sheet platform level responsible key investment information sheet shall clearly identified key investment information sheet platform level case natural persons names functions case legal persons names registered offices well declarations best knowledge information contained key investment information sheet accordance facts key investment information sheet makes omission likely affect import member states shall ensure laws regulations administrative provisions civil liability apply natural legal persons responsible information given key investment information sheet platform level including translation thereof least following situations information misleading inaccurate b key investment information sheet platform level omits key information needed aid investors considering whether invest individual portfolio management loans crowdfunding service providers shall place apply adequate procedures verify completeness correctness clarity information contained key investment information sheet platform level crowdfunding service provider identifies omission mistake inaccuracy key investment information sheet platform level could material impact expected return individual portfolio management loans crowdfunding service provider shall rectify omission mistake inaccuracy key investment information sheet prospective investors provided key investment information sheet platform level drawn accordance article crowdfunding service providers shall considered satisfied obligation draw key information document accordance regulation eu first subparagraph shall apply mutatis mutandis natural legal persons advising marketing crowdfunding offer crowdfunding service providers may operate bulletin board allow clients advertise interest buying selling loans transferable securities admitted instruments crowdfunding purposes originally offered crowdfunding platforms bulletin board referred paragraph shall used bring together buying selling interests means crowdfunding service provider ’ protocols internal operating procedures way results contract bulletin board shall therefore consist internal matching system executes client orders multilateral basis crowdfunding service providers allow advertisement interest referred paragraph article shall comply following requirements inform clients nature bulletin board accordance paragraphs b require clients advertising sale loan security instrument referred paragraph make available key investment information sheet c provide clients intending buy loans advertised bulletin board information performance loans facilitated crowdfunding service provider ensure clients advertising interest purchase loan security instrument referred paragraph article qualifying nonsophisticated investors receive information referred article risk warning referred article crowdfunding service providers allow advertisement interest referred paragraph article provide asset safekeeping services accordance article shall require investors advertising interest notify changes ownership purposes conducting ownership verification recordkeeping crowdfunding service providers suggest reference price buying selling referred paragraph article shall inform clients suggested reference price nonbinding substantiate suggested reference price shall disclose key elements methodology line article crowdfunding service providers shall keep records related services transactions durable medium period least five years b ensure clients immediate access records services provided times c maintain period least five years agreements crowdfunding service providers clients crowdfunding service providers shall ensure marketing communications services including outsourced third parties clearly identifiable prior closure raising funds project marketing communication shall disproportionately target planned pending current individual crowdfunding projects offers information contained marketing communication shall fair clear misleading shall consistent information contained key investment information sheet key investment information sheet already available information required key investment information sheet key investment information sheet yet available marketing communications crowdfunding service providers shall use one official languages member state marketing communications disseminated language accepted competent authorities member state competent authorities member state marketing communications disseminated responsible overseeing compliance enforcing visàvis crowdfunding service providers national laws regulations administrative provisions applicable marketing communications competent authorities shall require ex ante notification approval marketing communications competent authorities shall publish keep uptodate websites national laws regulations administrative provisions applicable marketing communications crowdfunding service providers competent authorities responsible overseeing compliance enforcing visàvis crowdfunding service providers competent authorities shall notify esma laws regulations administrative provisions referred paragraph provide esma summary laws regulations administrative provisions language customary sphere international finance competent authorities shall notify esma change information provided pursuant paragraph provide esma without delay updated summary relevant laws regulations administrative provisions referred paragraph competent authorities responsible overseeing compliance enforcing laws regulations administrative provisions referred paragraph shall publish websites contact information regarding information laws regulations administrative provisions referred paragraph obtained esma shall develop draft implementing technical standards determine standard forms templates procedures notifications article esma shall submit draft implementing technical standards commission november power conferred commission adopt implementing technical standards referred first subparagraph paragraph accordance article regulation eu esma shall publish maintain website summary referred paragraph hyperlinks websites competent authorities referred paragraph esma shall held liable information presented summary competent authorities shall single points contact responsible providing information marketing rules respective member states competent authorities shall regularly least annual basis report esma enforcement actions taken preceding year basis national laws regulations administrative provisions applicable marketing communications crowdfunding service providers particular report shall include applicable total number enforcement actions taken type misconduct b available outcomes enforcement actions including types penalties imposed remedies provided crowdfunding service providers c available examples competent authorities dealt failure crowdfunding service providers comply national laws regulations administrative provisions member states shall designate competent authorities responsible carrying functions duties provided regulation shall inform esma thereof member states designate one competent authority pursuant paragraph shall determine respective tasks designate one single point contact crossborder administrative cooperation competent authorities well esma esma shall publish website list competent authorities designated accordance paragraph order fulfil duties regulation competent authorities shall accordance national law least following investigatory powers require crowdfunding service providers third parties designated perform functions relation provision crowdfunding services natural legal persons control controlled provide information documents b require auditors managers crowdfunding service providers third parties designated perform functions relation provision crowdfunding services provide information c carry onsite inspections investigations sites private residences natural persons purpose enter premises order access documents data form reasonable suspicion exists documents data related subject matter inspection investigation may relevant prove infringement regulation order fulfil duties regulation competent authorities shall accordance national law least following supervisory powers suspend crowdfunding offer maximum consecutive working days single occasion reasonable grounds suspecting regulation infringed b prohibit suspend marketing communications require crowdfunding service provider third party designated perform functions relation provision crowdfunding services cease suspend marketing communications maximum consecutive working days single occasion reasonable grounds believing regulation infringed c prohibit crowdfunding offer find regulation infringed reasonable grounds suspecting would infringed suspend require crowdfunding service provider suspend provision crowdfunding services maximum consecutive working days single occasion reasonable grounds believing regulation infringed e prohibit provision crowdfunding services find regulation infringed f make public fact crowdfunding service provider third party designated perform functions relation provision crowdfunding services failing comply obligations g disclose require crowdfunding service provider third party designated perform functions relation provision crowdfunding services disclose material information may effect provision crowdfunding service order ensure investor protection smooth operation market h suspend require crowdfunding service provider third party designated perform functions relation provision crowdfunding services suspend provision crowdfunding services competent authorities consider crowdfunding service provider ’ situation provision crowdfunding service would detrimental investors ’ interests transfer existing contracts another crowdfunding service provider cases crowdfunding service provider ’ authorisation withdrawn accordance point c first subparagraph article subject agreement clients receiving crowdfunding service provider measures adopted exercise powers paragraph shall proportionate duly justified taken accordance article necessary national law competent authority may ask relevant judicial authority decide use powers referred paragraphs crowdfunding service provider existing contracts transferred referred point first subparagraph paragraph shall authorised provide crowdfunding services member state original crowdfunding service provider authorised competent authorities shall exercise functions powers referred paragraphs following ways directly b collaboration authorities c responsibility delegation authorities application competent judicial authorities member states shall ensure appropriate measures place competent authorities supervisory investigatory powers necessary fulfil duties natural legal person making information available competent authority accordance regulation shall considered infringing restriction disclosure information imposed contract legislative regulatory administrative provision shall subject liability kind related notification competent authorities shall cooperate purposes regulation shall exchange information without undue delay cooperate investigation supervision enforcement activities member states chosen accordance article lay criminal penalties infringement regulation shall ensure appropriate measures place competent authorities necessary powers liaise judicial prosecuting criminal justice authorities within jurisdiction receive specific information related criminal investigations proceedings commenced infringements regulation provide information competent authorities well esma order fulfil obligation cooperate purposes regulation competent authority may refuse act request information request cooperate investigation following exceptional circumstances complying request likely adversely affect investigation enforcement activities criminal investigation b judicial proceedings already initiated respect actions natural legal persons authorities member state addressed c final judgment already delivered relation natural legal persons actions member state addressed competent authorities shall request without undue delay supply information required purposes regulation competent authority may request assistance competent authority another member state regard onsite inspections investigations requesting competent authority shall inform esma request referred first subparagraph competent authority receives request competent authority another member state carry onsite inspection investigation may take following actions carry onsite inspection investigation b allow competent authority submitted request participate onsite inspection investigation c allow competent authority submitted request carry onsite inspection investigation appoint auditors experts carry onsite inspection investigation e share specific tasks related supervisory activities competent authorities competent authorities may refer esma situations request cooperation particular exchange information rejected acted upon within reasonable time without prejudice article tfeu esma may situations act accordance power conferred article regulation eu competent authorities shall closely coordinate supervision order identify remedy infringements regulation develop promote best practices facilitate collaboration foster consistency interpretation provide crossjurisdictional assessments event disagreements competent authority finds requirements regulation met reason believe case shall inform competent authority entity entities suspected infringement findings sufficiently detailed manner esma shall develop draft regulatory technical standards specify information exchanged competent authorities accordance paragraph esma shall submit draft regulatory technical standards commission may power delegated commission supplement regulation adopting regulatory technical standards referred first subparagraph paragraph accordance articles regulation eu esma shall develop draft implementing technical standards establish standard forms templates procedures cooperation exchange information competent authorities esma shall submit draft implementing technical standards commission may power conferred commission adopt implementing technical standards referred first subparagraph paragraph accordance article regulation eu competent authorities esma shall cooperate closely purposes regulation accordance regulation eu shall exchange information order carry duties chapter case onsite inspection investigation crossborder effect esma shall requested one competent authorities coordinate inspection investigation competent authorities shall without delay provide esma information necessary carry duties accordance article regulation eu order ensure uniform conditions application article esma shall develop draft implementing technical standards establish standard forms templates procedures cooperation exchange information competent authorities esma esma shall submit draft implementing technical standards commission may power conferred commission adopt implementing technical standards referred first subparagraph paragraph accordance article regulation eu crowdfunding service provider engages activities covered authorisation referred article competent authorities shall cooperate authorities responsible oversight activities provided relevant union national law member states shall notify laws regulations administrative provisions implementing chapter including relevant criminal law provisions commission esma november member states shall notify commission esma without undue delay subsequent amendments thereto information exchanged competent authorities regulation concerns business operational conditions economic personal affairs shall considered confidential shall subject requirements professional secrecy except competent authority states time communication information permitted disclosed disclosure necessary legal proceedings obligation professional secrecy shall apply natural legal persons work worked competent authority third party competent authority delegated powers information covered professional secrecy may disclosed natural legal person authority except virtue provisions laid union national law regard processing personal data within scope regulation competent authorities shall carry tasks purposes regulation accordance regulation eu regard processing personal data esma within scope regulation shall comply regulation eu competent authority member state crowdfunding services provided clear demonstrable grounds believing irregularities committed crowdfunding service provider third parties designated perform functions relation provision crowdfunding services crowdfunding service provider third parties infringed obligations regulation shall notify competent authority granted authorisation esma thereof despite measures taken competent authority granted authorisation crowdfunding service provider third party designated perform functions relation provision crowdfunding services persists infringing regulation competent authority member state crowdfunding services provided informing competent authority granted authorisation esma shall take appropriate measures order protect investors shall inform commission esma thereof without undue delay competent authority disagrees measures taken another competent authority pursuant paragraph article may bring matter attention esma esma may act accordance powers conferred article regulation eu competent authorities shall set procedures allow clients interested parties including consumer associations submit complaints competent authorities regard crowdfunding service providers ’ alleged infringements regulation cases complaints accepted written electronic form official language member state complaint submitted language accepted competent authorities member state information complaints procedures referred paragraph shall made available website competent authority communicated esma esma shall publish references complaints procedures related sections websites competent authorities website without prejudice supervisory investigatory powers competent authorities article right member states provide impose criminal penalties member states shall accordance national law provide competent authorities power impose administrative penalties take appropriate administrative measures shall effective proportionate dissuasive administrative penalties administrative measures shall apply least infringements articles article article article article article article article article article article article article article article article article articles article b failure cooperate comply investigation inspection request covered article member states may decide lay rules administrative penalties administrative measures infringements subject criminal penalties national law november member states shall notify detail rules referred first second subparagraphs commission esma shall notify commission esma without delay subsequent amendments thereto member states shall accordance national law ensure competent authorities power impose least following administrative penalties administrative measures relation infringements listed point first subparagraph paragraph public statement indicating natural legal person responsible nature infringement b order requiring natural legal person cease conduct constituting infringement desist repetition conduct c ban preventing member management body legal person responsible infringement natural person held responsible infringement exercising management functions crowdfunding service providers maximum administrative fines least twice amount benefit derived infringement benefit determined even exceeds maximum amounts set point e e case legal person maximum administrative fines least eur member states whose currency euro corresponding value national currency november total annual turnover legal person according last available financial statements approved management body legal person parent undertaking subsidiary parent undertaking required prepare consolidated financial statements accordance directive eu european parliament council relevant total annual turnover shall total annual turnover corresponding type income accordance relevant union law area accounting according last available consolidated financial statements approved management body ultimate parent undertaking f case natural person maximum administrative fines least eur member states whose currency euro corresponding value national currency november member states may provide additional penalties measures higher levels administrative fines provided regulation respect natural legal persons responsible infringement competent authorities determining type level administrative penalty administrative measure imposed accordance article shall take account extent infringement intentional results negligence relevant circumstances including appropriate gravity duration infringement b degree responsibility natural legal person responsible infringement c financial strength natural legal person responsible infringement indicated total turnover responsible legal person annual income net assets responsible natural person importance profits gained losses avoided natural legal person responsible infringement insofar determined e losses third parties caused infringement insofar determined f level cooperation natural legal person responsible infringement competent authority without prejudice need ensure disgorgement profits gained losses avoided person g previous infringements natural legal person responsible infringement h impact infringement investors ’ interests competent authorities shall exercise functions powers referred article accordance second subparagraph article exercise powers impose administrative penalties administrative measures article competent authorities shall cooperate closely ensure exercise supervisory investigative powers administrative penalties administrative measures impose effective appropriate regulation shall coordinate action order avoid duplication overlaps exercising supervisory investigative powers imposing administrative penalties administrative measures crossborder cases member states shall ensure decision taken regulation properly reasoned subject right appeal tribunal right appeal tribunal shall also apply respect application authorisation provides information required decision taken within six months submission decision imposing administrative penalties administrative measures infringement regulation shall published competent authorities official websites immediately natural legal person subject decision informed decision publication shall include least information type nature infringement identity natural legal persons responsible obligation apply decisions imposing measures investigatory nature publication identity legal entities identity personal data natural persons considered competent authority disproportionate following casebycase assessment conducted proportionality publication data publication would jeopardise ongoing investigation competent authorities shall take one following actions defer publication decision impose penalty measure moment reasons nonpublication cease exist b publish decision impose penalty measure anonymous basis manner conformity national law anonymous publication ensures effective protection personal data concerned c publish decision impose penalty measure event options laid points b considered insufficient ensure proportionality publication decision regard measures deemed minor nature case decision publish penalty measure anonymous basis referred point b first subparagraph publication relevant data may deferred reasonable period foreseen within period reasons anonymous publication shall cease exist decision impose penalty measure subject appeal relevant judicial authorities competent authorities shall publish immediately official website information subsequent information outcome appeal moreover decision annulling previous decision impose penalty measure shall also published competent authorities shall ensure publication accordance article remains official website period least five years publication personal data contained publication shall kept official website competent authority period necessary accordance applicable data protection rules competent authority shall annual basis provide esma aggregate information regarding administrative penalties administrative measures imposed accordance article esma shall publish information annual report member states chosen accordance article lay criminal penalties infringements provisions referred paragraph competent authorities shall provide esma annually anonymised aggregated data regarding criminal investigations undertaken criminal penalties imposed esma shall publish data criminal penalties imposed annual report competent authority disclosed administrative penalties administrative measures criminal penalties public shall simultaneously report esma competent authorities shall inform esma administrative penalties administrative measures imposed published including appeal relation thereto outcome thereof member states shall ensure competent authorities receive information final judgment relation criminal penalty imposed submit esma esma shall maintain central database penalties administrative measures communicated solely purposes exchanging information competent authorities database shall accessible esma eba competent authorities shall updated basis information provided competent authorities power adopt delegated acts conferred commission subject conditions laid article power adopt delegated acts referred article shall conferred commission period months november delegation powers referred article may revoked time european parliament council decision revoke shall put end delegation power specified decision shall take effect day following publication decision official journal european union later date specified therein shall affect validity delegated acts already force adopting delegated act commission shall consult experts designated member state accordance principles laid interinstitutional agreement april well lawmaking soon adopts delegated act commission shall notify simultaneously european parliament council delegated act adopted pursuant article shall enter force objection expressed either european parliament council within period three months notification act european parliament council expiry period european parliament council informed commission object period shall extended three months initiative european parliament council november commission shall consulting esma eba present report european parliament council application regulation accompanied appropriate legislative proposal report shall assess following functioning market crowdfunding service providers union including market development trends taking account supervisory experience number crowdfunding service providers authorised market share well impact regulation relation relevant union law including directive ec directive eu european parliament council directive eu regulation eu b whether scope services covered regulation remains appropriate relation threshold amount set point c article c use admitted instruments crowdfunding purposes crossborder provision crowdfunding services whether scope services covered regulation remains appropriate taking account development business models involving intermediation financial claims including assignment sale thirdparty investors loan claims means crowdfunding platforms e whether adjustments needed definitions set regulation including definition sophisticated investor set point j article criteria annex ii light effectiveness ensuring investor protection f whether requirements set article article article remain appropriate pursue objectives regulation regards governance compliance information disclosures individual portfolio management loans light similar services provided transferable securities accordance directive eu g impact regulation proper functioning union ’ internal market crowdfunding services including impact access finance smes investors categories natural legal persons affected services h implementation technological innovation crowdfunding sector including application new innovative business models technologies whether prudential requirements set article remain appropriate pursue objectives regulation particular regards level minimum funds requirements definition funds use insurance combination funds insurance j whether changes needed requirements information clients set article investor protection safeguards set article k whether amount set article remains appropriate pursue objectives regulation l effect languages accepted competent authorities accordance article use bulletin boards referred article including impact secondary market loans transferable securities admitted instruments crowdfunding purposes n effects national laws regulations administrative provisions governing marketing communications crowdfunding service providers freedom provide services competition investor protection application administrative penalties administrative measures particular need harmonise administrative penalties provided infringements regulation p necessity proportionality subjecting crowdfunding service providers obligations compliance national law implementing directive eu respect money laundering terrorist financing adding crowdfunding service providers list obliged entities purposes directive q appropriateness allowing entities established third countries authorised crowdfunding service providers regulation r cooperation competent authorities esma appropriateness competent authorities supervisors regulation possibility introducing specific measures regulation promote sustainable innovative crowdfunding projects well use union funds total number market share crowdfunding service providers authorised regulation period november november classified small mediumsized large enterprises u volumes number projects trends crossborder provision crowdfunding services per member state v share crowdfunding services provided regulation global crowdfunding market union financial market w costs complying regulation crowdfunding service providers percentage operational costs x volume investments withdrawn investors within reflection period share total volume investments based data assess whether duration nature reflection period set article appropriate harm efficiency capital raising process investor protection number amount administrative fines criminal penalties imposed according relation regulation classified member states z types trends fraudulent behaviour investors crowdfunding service providers third parties occurring relation regulation article regulation eu following point added ‘ k offer securities public crowdfunding service provider authorised regulation eu european parliament council provided exceed threshold laid point c article regulation part ib annex directive eu following point added ‘ xxi regulation eu european parliament council october european crowdfunding service providers business amending regulation eu directive eu oj l p ’ crowdfunding service providers may continue accordance applicable national law provide crowdfunding services included within scope regulation november granted authorisation referred article whichever sooner duration transitional period referred paragraph article member states may place simplified authorisation procedures entities time entry force regulation authorised national law provide crowdfunding services competent authorities shall ensure requirements laid article complied granting authorisation pursuant simplified procedures may commission shall make assessment consulting esma application regulation crowdfunding service providers provide crowdfunding services national basis impact regulation development national crowdfunding markets access finance basis assessment commission shall empowered adopt delegated acts accordance article extend period referred paragraph article month period way derogation point c article regulation period months november member state threshold total consideration publication prospectus accordance regulation eu eur regulation shall apply member state crowdfunding offers total consideration amount threshold member states shall adopt publish apply november laws regulations administrative provisions necessary comply article however date precedes date transposition referred article directive eu adoption publication application laws regulations administrative provisions shall postponed date transposition referred article directive eu member states shall communicate commission esma text main provisions national law adopt field covered article regulation shall enter force twentieth day following publication official journal european union shall apply november regulation shall binding entirety directly applicable member states done brussels october identity legal form ownership management contact details b natural legal persons responsible information given key investment information sheet case natural persons including members project owner ’ administrative management supervisory bodies indicate name function natural person case legal persons indicate name registered office following responsibility statement ‘ project owner declares best knowledge information omitted materially misleading inaccurate project owner responsible preparation key investment information sheet ’ c principal activities project owner products services offered project owner hyperlink recent financial statements project owner available e key annual financial figures ratios project owner last three years available f description crowdfunding project including purpose main features minimum target capital raised target funds borrowed single crowdfunding offer number offers completed project owner crowdfunding service provider crowdfunding project b deadline reaching target capital raised target funds borrowed c information consequences target capital raised target funds borrowed deadline maximum offer amount different target capital target funds referred point e amount funds committed crowdfunding project project owner f change composition project owner ’ capital loans related crowdfunding offer g existence conditions precontractual reflection period nonsophisticated investors presentation main risks associated funding crowdfunding project sector project project owner transferable securities admitted instruments crowdfunding purposes loans including relevant geographic risks total amount type transferable securities admitted instruments crowdfunding purposes offered b subscription price c whether oversubscriptions accepted allocated terms subscription payment e custody delivery transferable securities admitted instruments crowdfunding purposes investors f investment secured guarantee collateral whether guarantor collateral provider legal person ii identity legal form contact details guarantor collateral provider iii information nature terms guarantee collateral g applicable firm commitment buy back transferable securities admitted instruments crowdfunding purposes time period buyback h nonequity instruments nominal interest rate date interest becomes payable due dates interest payments maturity date applicable yield whether spv interposed project owner investor b contact details spv key rights attached transferable securities admitted instruments crowdfunding purposes b restrictions transferable securities admitted instruments crowdfunding purposes subject including shareholder agreements arrangements preventing transferability c description restrictions transferring transferable securities admitted instruments crowdfunding purposes opportunities investor exit investment e equity instruments distribution capital voting rights capital increase resulting offer assuming transferable securities admitted instruments crowdfunding purposes subscribed crowdfunding offer involves facilitation granting loans key investment information sheet shall instead information referred parts e f annex contain information following nature duration terms loan b applicable interest rates applicable compensation investor c risk mitigation measures including existence collateral providers guarantors types guarantees schedule repayment principal payment interest e default credit agreements project owner within past five years f servicing loan including situations project owner meet obligations fees charged costs incurred investor relation investment including administrative costs resulting sale admitted instruments crowdfunding purposes b additional information crowdfunding project project owner spv obtained free charge c investor may address complaint investment conduct project owner crowdfunding service provider identity legal form ownership management contact details crowdfunding service provider b minimum maximum interest rate loans may available investors ’ individual portfolios c minimum maximum maturity date loans may available investors ’ individual portfolios used range distribution risk categories loans fall well default rates weighted average interest rate per risk category break year loans granted crowdfunding service provider e key elements internal methodology credit risk assessment individual crowdfunding projects defining risk categories f target rate return investment offered annualised target rate confidence interval annualised target rate investment period taking account fees default rates g procedures internal methodologies criteria selection crowdfunding projects individual portfolio loans investor h coverage conditions applicable capital guarantees servicing portfolio loans including situations project owner meet obligations j risk diversification strategies k fees paid project owner investor including deduction interest paid project owner sophisticated investor investor possesses awareness risks associated investing capital markets adequate resources undertake risks without exposing excessive financial consequences sophisticated investors may categorised meet identification criteria set section procedure set section ii followed following natural legal persons shall regarded sophisticated investors services offered crowdfunding service providers accordance regulation legal persons meeting least one following criteria funds least eur b net turnover least eur c balance sheet least eur natural persons meeting least two following criteria personal gross income least eur per fiscal year financial instrument portfolio defined including cash deposits financial assets exceeds eur b investor works worked financial sector least one year professional position requires knowledge transactions services envisaged investor held executive position least months legal person referred point c investor carried transactions significant size capital markets average frequency per quarter previous four quarters crowdfunding service providers shall make available investors template may use submit request treated sophisticated investor template shall contain identification criteria set section clear warning specifying investor protection sophisticated investor lose consequence classified request treated sophisticated investor shall contain following items attestation specifying identification criteria set section requesting investor meets statement requesting investor aware consequences losing investor protection attached status nonsophisticated investors statement requesting investor remains liable veracity information provided request crowdfunding service provider shall take reasonable steps ensure investor qualifies sophisticated investor shall implement appropriate written internal policies categorise investors crowdfunding service provider shall approve request unless reasonable doubts information provided request correct crowdfunding service provider shall explicitly notify investors status confirmed approval referred third paragraph shall validity two years investors wish maintain sophisticated investor status expiry period validity shall submit new request crowdfunding service provider sophisticated investors shall responsible keeping crowdfunding service provider informed change could affect categorisation crowdfunding service provider becomes aware investor longer fulfils initial conditions made investor eligible treated sophisticated investor crowdfunding service provider shall inform investor treated nonsophisticated investor way derogation procedure set section ii annex entities referred points section annex ii directive eu shall regarded sophisticated investors provide proof status professionals crowdfunding service provider'"
      ]
     },
     "execution_count": 10,
     "metadata": {},
     "output_type": "execute_result"
    }
   ],
   "source": [
    "clean_txt[0]"
   ]
  },
  {
   "cell_type": "code",
   "execution_count": 11,
   "id": "abf066d5",
   "metadata": {},
   "outputs": [],
   "source": [
    "# bigram vectorization\n",
    "\n",
    "vectorizer_n_gram = TfidfVectorizer(ngram_range = (1,1)) # BI-GRAMS\n",
    "cleaned_vectorizer_n_gram = vectorizer_n_gram.fit_transform(clean_txt)"
   ]
  },
  {
   "cell_type": "code",
   "execution_count": 12,
   "id": "bcf39f21",
   "metadata": {},
   "outputs": [],
   "source": [
    "from sklearn.feature_extraction.text import TfidfVectorizer\n",
    "\n",
    "df = pd.DataFrame(cleaned_vectorizer_n_gram.toarray(), columns=vectorizer_n_gram.get_feature_names_out())\n"
   ]
  },
  {
   "cell_type": "code",
   "execution_count": 13,
   "id": "c1a70d9c",
   "metadata": {},
   "outputs": [
    {
     "data": {
      "text/html": [
       "<div>\n",
       "<style scoped>\n",
       "    .dataframe tbody tr th:only-of-type {\n",
       "        vertical-align: middle;\n",
       "    }\n",
       "\n",
       "    .dataframe tbody tr th {\n",
       "        vertical-align: top;\n",
       "    }\n",
       "\n",
       "    .dataframe thead th {\n",
       "        text-align: right;\n",
       "    }\n",
       "</style>\n",
       "<table border=\"1\" class=\"dataframe\">\n",
       "  <thead>\n",
       "    <tr style=\"text-align: right;\">\n",
       "      <th></th>\n",
       "      <th>aa</th>\n",
       "      <th>aarhus</th>\n",
       "      <th>aas</th>\n",
       "      <th>ab</th>\n",
       "      <th>ababa</th>\n",
       "      <th>abandoned</th>\n",
       "      <th>abatement</th>\n",
       "      <th>abbreviation</th>\n",
       "      <th>abbreviations</th>\n",
       "      <th>abeyance</th>\n",
       "      <th>...</th>\n",
       "      <th>βapocarotenoic</th>\n",
       "      <th>βglucan</th>\n",
       "      <th>βsesquiphellandrene</th>\n",
       "      <th>βturmerone</th>\n",
       "      <th>δgdpi</th>\n",
       "      <th>κi</th>\n",
       "      <th>νetwork</th>\n",
       "      <th>νi</th>\n",
       "      <th>υi</th>\n",
       "      <th>ﬁnalised</th>\n",
       "    </tr>\n",
       "  </thead>\n",
       "  <tbody>\n",
       "    <tr>\n",
       "      <th>0</th>\n",
       "      <td>0.000000</td>\n",
       "      <td>0.0</td>\n",
       "      <td>0.0</td>\n",
       "      <td>0.000000</td>\n",
       "      <td>0.0</td>\n",
       "      <td>0.0</td>\n",
       "      <td>0.000000</td>\n",
       "      <td>0.0</td>\n",
       "      <td>0.0</td>\n",
       "      <td>0.0</td>\n",
       "      <td>...</td>\n",
       "      <td>0.0</td>\n",
       "      <td>0.0</td>\n",
       "      <td>0.0</td>\n",
       "      <td>0.0</td>\n",
       "      <td>0.0</td>\n",
       "      <td>0.0</td>\n",
       "      <td>0.0</td>\n",
       "      <td>0.0</td>\n",
       "      <td>0.0</td>\n",
       "      <td>0.0</td>\n",
       "    </tr>\n",
       "    <tr>\n",
       "      <th>1</th>\n",
       "      <td>0.000000</td>\n",
       "      <td>0.0</td>\n",
       "      <td>0.0</td>\n",
       "      <td>0.000000</td>\n",
       "      <td>0.0</td>\n",
       "      <td>0.0</td>\n",
       "      <td>0.000000</td>\n",
       "      <td>0.0</td>\n",
       "      <td>0.0</td>\n",
       "      <td>0.0</td>\n",
       "      <td>...</td>\n",
       "      <td>0.0</td>\n",
       "      <td>0.0</td>\n",
       "      <td>0.0</td>\n",
       "      <td>0.0</td>\n",
       "      <td>0.0</td>\n",
       "      <td>0.0</td>\n",
       "      <td>0.0</td>\n",
       "      <td>0.0</td>\n",
       "      <td>0.0</td>\n",
       "      <td>0.0</td>\n",
       "    </tr>\n",
       "    <tr>\n",
       "      <th>2</th>\n",
       "      <td>0.027864</td>\n",
       "      <td>0.0</td>\n",
       "      <td>0.0</td>\n",
       "      <td>0.018994</td>\n",
       "      <td>0.0</td>\n",
       "      <td>0.0</td>\n",
       "      <td>0.002484</td>\n",
       "      <td>0.0</td>\n",
       "      <td>0.0</td>\n",
       "      <td>0.0</td>\n",
       "      <td>...</td>\n",
       "      <td>0.0</td>\n",
       "      <td>0.0</td>\n",
       "      <td>0.0</td>\n",
       "      <td>0.0</td>\n",
       "      <td>0.0</td>\n",
       "      <td>0.0</td>\n",
       "      <td>0.0</td>\n",
       "      <td>0.0</td>\n",
       "      <td>0.0</td>\n",
       "      <td>0.0</td>\n",
       "    </tr>\n",
       "    <tr>\n",
       "      <th>3</th>\n",
       "      <td>0.000000</td>\n",
       "      <td>0.0</td>\n",
       "      <td>0.0</td>\n",
       "      <td>0.000000</td>\n",
       "      <td>0.0</td>\n",
       "      <td>0.0</td>\n",
       "      <td>0.000000</td>\n",
       "      <td>0.0</td>\n",
       "      <td>0.0</td>\n",
       "      <td>0.0</td>\n",
       "      <td>...</td>\n",
       "      <td>0.0</td>\n",
       "      <td>0.0</td>\n",
       "      <td>0.0</td>\n",
       "      <td>0.0</td>\n",
       "      <td>0.0</td>\n",
       "      <td>0.0</td>\n",
       "      <td>0.0</td>\n",
       "      <td>0.0</td>\n",
       "      <td>0.0</td>\n",
       "      <td>0.0</td>\n",
       "    </tr>\n",
       "    <tr>\n",
       "      <th>4</th>\n",
       "      <td>0.000000</td>\n",
       "      <td>0.0</td>\n",
       "      <td>0.0</td>\n",
       "      <td>0.000000</td>\n",
       "      <td>0.0</td>\n",
       "      <td>0.0</td>\n",
       "      <td>0.000000</td>\n",
       "      <td>0.0</td>\n",
       "      <td>0.0</td>\n",
       "      <td>0.0</td>\n",
       "      <td>...</td>\n",
       "      <td>0.0</td>\n",
       "      <td>0.0</td>\n",
       "      <td>0.0</td>\n",
       "      <td>0.0</td>\n",
       "      <td>0.0</td>\n",
       "      <td>0.0</td>\n",
       "      <td>0.0</td>\n",
       "      <td>0.0</td>\n",
       "      <td>0.0</td>\n",
       "      <td>0.0</td>\n",
       "    </tr>\n",
       "  </tbody>\n",
       "</table>\n",
       "<p>5 rows × 11213 columns</p>\n",
       "</div>"
      ],
      "text/plain": [
       "         aa  aarhus  aas        ab  ababa  abandoned  abatement  abbreviation  \\\n",
       "0  0.000000     0.0  0.0  0.000000    0.0        0.0   0.000000           0.0   \n",
       "1  0.000000     0.0  0.0  0.000000    0.0        0.0   0.000000           0.0   \n",
       "2  0.027864     0.0  0.0  0.018994    0.0        0.0   0.002484           0.0   \n",
       "3  0.000000     0.0  0.0  0.000000    0.0        0.0   0.000000           0.0   \n",
       "4  0.000000     0.0  0.0  0.000000    0.0        0.0   0.000000           0.0   \n",
       "\n",
       "   abbreviations  abeyance  ...  βapocarotenoic  βglucan  βsesquiphellandrene  \\\n",
       "0            0.0       0.0  ...             0.0      0.0                  0.0   \n",
       "1            0.0       0.0  ...             0.0      0.0                  0.0   \n",
       "2            0.0       0.0  ...             0.0      0.0                  0.0   \n",
       "3            0.0       0.0  ...             0.0      0.0                  0.0   \n",
       "4            0.0       0.0  ...             0.0      0.0                  0.0   \n",
       "\n",
       "   βturmerone  δgdpi   κi  νetwork   νi   υi  ﬁnalised  \n",
       "0         0.0    0.0  0.0      0.0  0.0  0.0       0.0  \n",
       "1         0.0    0.0  0.0      0.0  0.0  0.0       0.0  \n",
       "2         0.0    0.0  0.0      0.0  0.0  0.0       0.0  \n",
       "3         0.0    0.0  0.0      0.0  0.0  0.0       0.0  \n",
       "4         0.0    0.0  0.0      0.0  0.0  0.0       0.0  \n",
       "\n",
       "[5 rows x 11213 columns]"
      ]
     },
     "execution_count": 13,
     "metadata": {},
     "output_type": "execute_result"
    }
   ],
   "source": [
    "df.head()"
   ]
  },
  {
   "cell_type": "code",
   "execution_count": 14,
   "id": "c1b6c3ee",
   "metadata": {},
   "outputs": [],
   "source": [
    "#Topic model function from ML-10-lecture\n",
    "def print_topics(model, vectorizer, top_words):\n",
    "    for idx, topic in enumerate(model.components_):\n",
    "        print(\"-\"*20)\n",
    "        print(\"Topic %d:\" % (idx))\n",
    "        print([(vectorizer_n_gram.get_feature_names_out()[i], round(topic[i],2))\n",
    "                        for i in topic.argsort()[:-top_words - 1:-1]])"
   ]
  },
  {
   "cell_type": "code",
   "execution_count": 15,
   "id": "29dcdc8b",
   "metadata": {},
   "outputs": [
    {
     "data": {
      "text/html": [
       "<style>#sk-container-id-1 {color: black;background-color: white;}#sk-container-id-1 pre{padding: 0;}#sk-container-id-1 div.sk-toggleable {background-color: white;}#sk-container-id-1 label.sk-toggleable__label {cursor: pointer;display: block;width: 100%;margin-bottom: 0;padding: 0.3em;box-sizing: border-box;text-align: center;}#sk-container-id-1 label.sk-toggleable__label-arrow:before {content: \"▸\";float: left;margin-right: 0.25em;color: #696969;}#sk-container-id-1 label.sk-toggleable__label-arrow:hover:before {color: black;}#sk-container-id-1 div.sk-estimator:hover label.sk-toggleable__label-arrow:before {color: black;}#sk-container-id-1 div.sk-toggleable__content {max-height: 0;max-width: 0;overflow: hidden;text-align: left;background-color: #f0f8ff;}#sk-container-id-1 div.sk-toggleable__content pre {margin: 0.2em;color: black;border-radius: 0.25em;background-color: #f0f8ff;}#sk-container-id-1 input.sk-toggleable__control:checked~div.sk-toggleable__content {max-height: 200px;max-width: 100%;overflow: auto;}#sk-container-id-1 input.sk-toggleable__control:checked~label.sk-toggleable__label-arrow:before {content: \"▾\";}#sk-container-id-1 div.sk-estimator input.sk-toggleable__control:checked~label.sk-toggleable__label {background-color: #d4ebff;}#sk-container-id-1 div.sk-label input.sk-toggleable__control:checked~label.sk-toggleable__label {background-color: #d4ebff;}#sk-container-id-1 input.sk-hidden--visually {border: 0;clip: rect(1px 1px 1px 1px);clip: rect(1px, 1px, 1px, 1px);height: 1px;margin: -1px;overflow: hidden;padding: 0;position: absolute;width: 1px;}#sk-container-id-1 div.sk-estimator {font-family: monospace;background-color: #f0f8ff;border: 1px dotted black;border-radius: 0.25em;box-sizing: border-box;margin-bottom: 0.5em;}#sk-container-id-1 div.sk-estimator:hover {background-color: #d4ebff;}#sk-container-id-1 div.sk-parallel-item::after {content: \"\";width: 100%;border-bottom: 1px solid gray;flex-grow: 1;}#sk-container-id-1 div.sk-label:hover label.sk-toggleable__label {background-color: #d4ebff;}#sk-container-id-1 div.sk-serial::before {content: \"\";position: absolute;border-left: 1px solid gray;box-sizing: border-box;top: 0;bottom: 0;left: 50%;z-index: 0;}#sk-container-id-1 div.sk-serial {display: flex;flex-direction: column;align-items: center;background-color: white;padding-right: 0.2em;padding-left: 0.2em;position: relative;}#sk-container-id-1 div.sk-item {position: relative;z-index: 1;}#sk-container-id-1 div.sk-parallel {display: flex;align-items: stretch;justify-content: center;background-color: white;position: relative;}#sk-container-id-1 div.sk-item::before, #sk-container-id-1 div.sk-parallel-item::before {content: \"\";position: absolute;border-left: 1px solid gray;box-sizing: border-box;top: 0;bottom: 0;left: 50%;z-index: -1;}#sk-container-id-1 div.sk-parallel-item {display: flex;flex-direction: column;z-index: 1;position: relative;background-color: white;}#sk-container-id-1 div.sk-parallel-item:first-child::after {align-self: flex-end;width: 50%;}#sk-container-id-1 div.sk-parallel-item:last-child::after {align-self: flex-start;width: 50%;}#sk-container-id-1 div.sk-parallel-item:only-child::after {width: 0;}#sk-container-id-1 div.sk-dashed-wrapped {border: 1px dashed gray;margin: 0 0.4em 0.5em 0.4em;box-sizing: border-box;padding-bottom: 0.4em;background-color: white;}#sk-container-id-1 div.sk-label label {font-family: monospace;font-weight: bold;display: inline-block;line-height: 1.2em;}#sk-container-id-1 div.sk-label-container {text-align: center;}#sk-container-id-1 div.sk-container {/* jupyter's `normalize.less` sets `[hidden] { display: none; }` but bootstrap.min.css set `[hidden] { display: none !important; }` so we also need the `!important` here to be able to override the default hidden behavior on the sphinx rendered scikit-learn.org. See: https://github.com/scikit-learn/scikit-learn/issues/21755 */display: inline-block !important;position: relative;}#sk-container-id-1 div.sk-text-repr-fallback {display: none;}</style><div id=\"sk-container-id-1\" class=\"sk-top-container\"><div class=\"sk-text-repr-fallback\"><pre>LatentDirichletAllocation(max_iter=100, n_components=3)</pre><b>In a Jupyter environment, please rerun this cell to show the HTML representation or trust the notebook. <br />On GitHub, the HTML representation is unable to render, please try loading this page with nbviewer.org.</b></div><div class=\"sk-container\" hidden><div class=\"sk-item\"><div class=\"sk-estimator sk-toggleable\"><input class=\"sk-toggleable__control sk-hidden--visually\" id=\"sk-estimator-id-1\" type=\"checkbox\" checked><label for=\"sk-estimator-id-1\" class=\"sk-toggleable__label sk-toggleable__label-arrow\">LatentDirichletAllocation</label><div class=\"sk-toggleable__content\"><pre>LatentDirichletAllocation(max_iter=100, n_components=3)</pre></div></div></div></div></div>"
      ],
      "text/plain": [
       "LatentDirichletAllocation(max_iter=100, n_components=3)"
      ]
     },
     "execution_count": 15,
     "metadata": {},
     "output_type": "execute_result"
    }
   ],
   "source": [
    "# Instantiating the LDA \n",
    "n_components = 3\n",
    "lda_model = LatentDirichletAllocation(n_components=n_components, max_iter = 100)\n",
    "\n",
    "# Fitting the LDA on the vectorized documents\n",
    "lda_model.fit(df)"
   ]
  },
  {
   "cell_type": "code",
   "execution_count": 16,
   "id": "3180b34f",
   "metadata": {},
   "outputs": [
    {
     "name": "stdout",
     "output_type": "stream",
     "text": [
      "--------------------\n",
      "Topic 0:\n",
      "[('imo', 0.89), ('iec', 0.76), ('reg', 0.65), ('solas', 0.65), ('resmsc', 0.62), ('en', 0.62), ('hsc', 0.54), ('ed', 0.49), ('code', 0.48), ('incl', 0.44)]\n",
      "--------------------\n",
      "Topic 1:\n",
      "[('code', 0.33), ('en', 0.33), ('resmsc', 0.33), ('solas', 0.33), ('reg', 0.33), ('iec', 0.33), ('hsc', 0.33), ('imo', 0.33), ('ed', 0.33), ('incl', 0.33)]\n",
      "--------------------\n",
      "Topic 2:\n",
      "[('regulation', 9.72), ('shall', 7.32), ('article', 6.53), ('union', 6.5), ('commission', 5.1), ('european', 4.85), ('member', 4.74), ('additive', 4.63), ('eu', 4.51), ('states', 3.59)]\n"
     ]
    }
   ],
   "source": [
    "print_topics(lda_model, cleaned_vectorizer_n_gram, top_words=10)"
   ]
  },
  {
   "cell_type": "code",
   "execution_count": 17,
   "id": "9e31fd7a",
   "metadata": {},
   "outputs": [],
   "source": [
    "#Grid-Search\n",
    "\n",
    "# Instantiating the LDA\n",
    "lda = LatentDirichletAllocation()\n",
    "\n",
    "# Hyperparameter Grid\n",
    "search_params = {'n_components': [2, 4, 6, 8], \n",
    "                 'learning_decay': [.5, .7, .9]}\n",
    "\n",
    "# Instanciate Grid Search\n",
    "g_search = GridSearchCV(lda, search_params) \n",
    "\n",
    "\n",
    "# Getting topics\n",
    "topics = g_search.fit(df)"
   ]
  },
  {
   "cell_type": "code",
   "execution_count": 18,
   "id": "3e559eea",
   "metadata": {},
   "outputs": [
    {
     "data": {
      "text/plain": [
       "-2059.352343662646"
      ]
     },
     "execution_count": 18,
     "metadata": {},
     "output_type": "execute_result"
    }
   ],
   "source": [
    "# Best score\n",
    "g_search.best_score_"
   ]
  },
  {
   "cell_type": "code",
   "execution_count": 19,
   "id": "e15e20be",
   "metadata": {},
   "outputs": [
    {
     "data": {
      "text/plain": [
       "{'learning_decay': 0.5, 'n_components': 2}"
      ]
     },
     "execution_count": 19,
     "metadata": {},
     "output_type": "execute_result"
    }
   ],
   "source": [
    "# Best Params\n",
    "g_search.best_params_"
   ]
  },
  {
   "cell_type": "code",
   "execution_count": 20,
   "id": "d217e432",
   "metadata": {},
   "outputs": [
    {
     "data": {
      "text/html": [
       "<style>#sk-container-id-2 {color: black;background-color: white;}#sk-container-id-2 pre{padding: 0;}#sk-container-id-2 div.sk-toggleable {background-color: white;}#sk-container-id-2 label.sk-toggleable__label {cursor: pointer;display: block;width: 100%;margin-bottom: 0;padding: 0.3em;box-sizing: border-box;text-align: center;}#sk-container-id-2 label.sk-toggleable__label-arrow:before {content: \"▸\";float: left;margin-right: 0.25em;color: #696969;}#sk-container-id-2 label.sk-toggleable__label-arrow:hover:before {color: black;}#sk-container-id-2 div.sk-estimator:hover label.sk-toggleable__label-arrow:before {color: black;}#sk-container-id-2 div.sk-toggleable__content {max-height: 0;max-width: 0;overflow: hidden;text-align: left;background-color: #f0f8ff;}#sk-container-id-2 div.sk-toggleable__content pre {margin: 0.2em;color: black;border-radius: 0.25em;background-color: #f0f8ff;}#sk-container-id-2 input.sk-toggleable__control:checked~div.sk-toggleable__content {max-height: 200px;max-width: 100%;overflow: auto;}#sk-container-id-2 input.sk-toggleable__control:checked~label.sk-toggleable__label-arrow:before {content: \"▾\";}#sk-container-id-2 div.sk-estimator input.sk-toggleable__control:checked~label.sk-toggleable__label {background-color: #d4ebff;}#sk-container-id-2 div.sk-label input.sk-toggleable__control:checked~label.sk-toggleable__label {background-color: #d4ebff;}#sk-container-id-2 input.sk-hidden--visually {border: 0;clip: rect(1px 1px 1px 1px);clip: rect(1px, 1px, 1px, 1px);height: 1px;margin: -1px;overflow: hidden;padding: 0;position: absolute;width: 1px;}#sk-container-id-2 div.sk-estimator {font-family: monospace;background-color: #f0f8ff;border: 1px dotted black;border-radius: 0.25em;box-sizing: border-box;margin-bottom: 0.5em;}#sk-container-id-2 div.sk-estimator:hover {background-color: #d4ebff;}#sk-container-id-2 div.sk-parallel-item::after {content: \"\";width: 100%;border-bottom: 1px solid gray;flex-grow: 1;}#sk-container-id-2 div.sk-label:hover label.sk-toggleable__label {background-color: #d4ebff;}#sk-container-id-2 div.sk-serial::before {content: \"\";position: absolute;border-left: 1px solid gray;box-sizing: border-box;top: 0;bottom: 0;left: 50%;z-index: 0;}#sk-container-id-2 div.sk-serial {display: flex;flex-direction: column;align-items: center;background-color: white;padding-right: 0.2em;padding-left: 0.2em;position: relative;}#sk-container-id-2 div.sk-item {position: relative;z-index: 1;}#sk-container-id-2 div.sk-parallel {display: flex;align-items: stretch;justify-content: center;background-color: white;position: relative;}#sk-container-id-2 div.sk-item::before, #sk-container-id-2 div.sk-parallel-item::before {content: \"\";position: absolute;border-left: 1px solid gray;box-sizing: border-box;top: 0;bottom: 0;left: 50%;z-index: -1;}#sk-container-id-2 div.sk-parallel-item {display: flex;flex-direction: column;z-index: 1;position: relative;background-color: white;}#sk-container-id-2 div.sk-parallel-item:first-child::after {align-self: flex-end;width: 50%;}#sk-container-id-2 div.sk-parallel-item:last-child::after {align-self: flex-start;width: 50%;}#sk-container-id-2 div.sk-parallel-item:only-child::after {width: 0;}#sk-container-id-2 div.sk-dashed-wrapped {border: 1px dashed gray;margin: 0 0.4em 0.5em 0.4em;box-sizing: border-box;padding-bottom: 0.4em;background-color: white;}#sk-container-id-2 div.sk-label label {font-family: monospace;font-weight: bold;display: inline-block;line-height: 1.2em;}#sk-container-id-2 div.sk-label-container {text-align: center;}#sk-container-id-2 div.sk-container {/* jupyter's `normalize.less` sets `[hidden] { display: none; }` but bootstrap.min.css set `[hidden] { display: none !important; }` so we also need the `!important` here to be able to override the default hidden behavior on the sphinx rendered scikit-learn.org. See: https://github.com/scikit-learn/scikit-learn/issues/21755 */display: inline-block !important;position: relative;}#sk-container-id-2 div.sk-text-repr-fallback {display: none;}</style><div id=\"sk-container-id-2\" class=\"sk-top-container\"><div class=\"sk-text-repr-fallback\"><pre>LatentDirichletAllocation(learning_decay=0.5, n_components=2)</pre><b>In a Jupyter environment, please rerun this cell to show the HTML representation or trust the notebook. <br />On GitHub, the HTML representation is unable to render, please try loading this page with nbviewer.org.</b></div><div class=\"sk-container\" hidden><div class=\"sk-item\"><div class=\"sk-estimator sk-toggleable\"><input class=\"sk-toggleable__control sk-hidden--visually\" id=\"sk-estimator-id-2\" type=\"checkbox\" checked><label for=\"sk-estimator-id-2\" class=\"sk-toggleable__label sk-toggleable__label-arrow\">LatentDirichletAllocation</label><div class=\"sk-toggleable__content\"><pre>LatentDirichletAllocation(learning_decay=0.5, n_components=2)</pre></div></div></div></div></div>"
      ],
      "text/plain": [
       "LatentDirichletAllocation(learning_decay=0.5, n_components=2)"
      ]
     },
     "execution_count": 20,
     "metadata": {},
     "output_type": "execute_result"
    }
   ],
   "source": [
    "# Best estimator\n",
    "g_search.best_estimator_"
   ]
  },
  {
   "cell_type": "code",
   "execution_count": 21,
   "id": "bc0aea23",
   "metadata": {
    "scrolled": true
   },
   "outputs": [
    {
     "name": "stdout",
     "output_type": "stream",
     "text": [
      "--------------------\n",
      "Topic 0:\n",
      "[('regulation', 9.89), ('shall', 7.48), ('article', 6.69), ('union', 6.66), ('commission', 5.26), ('european', 5.02), ('member', 4.9), ('additive', 4.79)]\n",
      "--------------------\n",
      "Topic 1:\n",
      "[('imo', 1.05), ('iec', 0.92), ('reg', 0.82), ('solas', 0.81), ('resmsc', 0.79), ('en', 0.78), ('hsc', 0.7), ('ed', 0.66)]\n"
     ]
    }
   ],
   "source": [
    "#Printing topics\n",
    "\n",
    "print_topics(g_search.best_estimator_, cleaned_vectorizer_n_gram, top_words = 8)"
   ]
  },
  {
   "cell_type": "markdown",
   "id": "e964a22e",
   "metadata": {},
   "source": [
    "# Comparing Outcome with BERTopic results"
   ]
  },
  {
   "cell_type": "code",
   "execution_count": 22,
   "id": "dd20bfd1",
   "metadata": {},
   "outputs": [],
   "source": [
    "#PIP-installing BERTtopic\n",
    "\n",
    "#!pip install bertopic"
   ]
  },
  {
   "cell_type": "code",
   "execution_count": 23,
   "id": "de5bb6d5",
   "metadata": {},
   "outputs": [],
   "source": [
    "from bertopic import BERTopic #BERTtopic-model: https://github.com/MaartenGr/BERTopic"
   ]
  },
  {
   "cell_type": "code",
   "execution_count": 24,
   "id": "e657aa3b",
   "metadata": {},
   "outputs": [
    {
     "data": {
      "application/vnd.jupyter.widget-view+json": {
       "model_id": "1385935bf6aa461d9b7d14a5640c2913",
       "version_major": 2,
       "version_minor": 0
      },
      "text/plain": [
       "Batches:   0%|          | 0/3 [00:00<?, ?it/s]"
      ]
     },
     "metadata": {},
     "output_type": "display_data"
    },
    {
     "name": "stderr",
     "output_type": "stream",
     "text": [
      "2022-06-01 16:25:49,207 - BERTopic - Transformed documents to Embeddings\n",
      "OMP: Info #276: omp_set_nested routine deprecated, please use omp_set_max_active_levels instead.\n",
      "2022-06-01 16:25:53,471 - BERTopic - Reduced dimensionality\n",
      "2022-06-01 16:25:53,480 - BERTopic - Clustered reduced embeddings\n"
     ]
    }
   ],
   "source": [
    "#Training\n",
    "\n",
    "topic_model = BERTopic(language=\"english\", calculate_probabilities=True, verbose=True)\n",
    "topics, probs = topic_model.fit_transform(clean_txt)"
   ]
  },
  {
   "cell_type": "code",
   "execution_count": 25,
   "id": "61f851c0",
   "metadata": {},
   "outputs": [
    {
     "data": {
      "text/html": [
       "<div>\n",
       "<style scoped>\n",
       "    .dataframe tbody tr th:only-of-type {\n",
       "        vertical-align: middle;\n",
       "    }\n",
       "\n",
       "    .dataframe tbody tr th {\n",
       "        vertical-align: top;\n",
       "    }\n",
       "\n",
       "    .dataframe thead th {\n",
       "        text-align: right;\n",
       "    }\n",
       "</style>\n",
       "<table border=\"1\" class=\"dataframe\">\n",
       "  <thead>\n",
       "    <tr style=\"text-align: right;\">\n",
       "      <th></th>\n",
       "      <th>Topic</th>\n",
       "      <th>Count</th>\n",
       "      <th>Name</th>\n",
       "    </tr>\n",
       "  </thead>\n",
       "  <tbody>\n",
       "    <tr>\n",
       "      <th>0</th>\n",
       "      <td>0</td>\n",
       "      <td>34</td>\n",
       "      <td>0_shall_article_regulation_union</td>\n",
       "    </tr>\n",
       "    <tr>\n",
       "      <th>1</th>\n",
       "      <td>1</td>\n",
       "      <td>26</td>\n",
       "      <td>1_imo_iec_union_en</td>\n",
       "    </tr>\n",
       "    <tr>\n",
       "      <th>2</th>\n",
       "      <td>2</td>\n",
       "      <td>13</td>\n",
       "      <td>2_additive_feed_premixtures_content</td>\n",
       "    </tr>\n",
       "  </tbody>\n",
       "</table>\n",
       "</div>"
      ],
      "text/plain": [
       "   Topic  Count                                 Name\n",
       "0      0     34     0_shall_article_regulation_union\n",
       "1      1     26                   1_imo_iec_union_en\n",
       "2      2     13  2_additive_feed_premixtures_content"
      ]
     },
     "execution_count": 25,
     "metadata": {},
     "output_type": "execute_result"
    }
   ],
   "source": [
    "topic_model.get_topic_info()"
   ]
  },
  {
   "cell_type": "code",
   "execution_count": null,
   "id": "253488e6",
   "metadata": {},
   "outputs": [],
   "source": []
  }
 ],
 "metadata": {
  "kernelspec": {
   "display_name": "Python 3 (ipykernel)",
   "language": "python",
   "name": "python3"
  },
  "language_info": {
   "codemirror_mode": {
    "name": "ipython",
    "version": 3
   },
   "file_extension": ".py",
   "mimetype": "text/x-python",
   "name": "python",
   "nbconvert_exporter": "python",
   "pygments_lexer": "ipython3",
   "version": "3.8.13"
  },
  "toc": {
   "base_numbering": 1,
   "nav_menu": {},
   "number_sections": true,
   "sideBar": true,
   "skip_h1_title": false,
   "title_cell": "Table of Contents",
   "title_sidebar": "Contents",
   "toc_cell": false,
   "toc_position": {},
   "toc_section_display": true,
   "toc_window_display": false
  }
 },
 "nbformat": 4,
 "nbformat_minor": 5
}
