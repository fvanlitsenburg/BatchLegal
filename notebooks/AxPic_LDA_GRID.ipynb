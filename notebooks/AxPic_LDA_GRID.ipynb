{
 "cells": [
  {
   "cell_type": "markdown",
   "id": "e8b9035f",
   "metadata": {},
   "source": [
    "# Batch Legal LDA Grid Search"
   ]
  },
  {
   "cell_type": "markdown",
   "id": "6d4e164f",
   "metadata": {},
   "source": [
    "***Base***: Preproc Mockup Version 3 (from Chris):\n",
    "- Adjusted preprocessing steps: sentence tokenization and multiple lemmatizing steps.\n",
    "- Changed from CountVectorizer to TfidfVectorizer"
   ]
  },
  {
   "cell_type": "code",
   "execution_count": 1,
   "id": "d5e5bdcf",
   "metadata": {},
   "outputs": [],
   "source": [
    "#Imports\n",
    "\n",
    "import pandas as pd\n",
    "import string\n",
    "from bs4 import BeautifulSoup\n",
    "from nltk.tokenize import word_tokenize, sent_tokenize\n",
    "from nltk.corpus import stopwords \n",
    "from nltk.stem import WordNetLemmatizer\n",
    "from nltk.collocations import *\n",
    "\n",
    "from sklearn.feature_extraction.text import TfidfVectorizer\n",
    "from sklearn.decomposition import LatentDirichletAllocation\n",
    "\n",
    "from sklearn.model_selection import GridSearchCV"
   ]
  },
  {
   "cell_type": "code",
   "execution_count": 2,
   "id": "0452bb33",
   "metadata": {},
   "outputs": [],
   "source": [
    "#Loading data from csv\n",
    "data = pd.read_csv(\"test_data_scraped_new.csv\")"
   ]
  },
  {
   "cell_type": "code",
   "execution_count": 3,
   "id": "34e92788",
   "metadata": {},
   "outputs": [
    {
     "data": {
      "text/plain": [
       "Index(['Unnamed: 0', 'Date of document', 'Title', 'Subtitle', 'CELEX number',\n",
       "       'EUROVOC descriptor', 'Subject matter', 'Directory code', 'Author',\n",
       "       'In force indicator', 'Content'],\n",
       "      dtype='object')"
      ]
     },
     "execution_count": 3,
     "metadata": {},
     "output_type": "execute_result"
    }
   ],
   "source": [
    "data.columns"
   ]
  },
  {
   "cell_type": "code",
   "execution_count": 4,
   "id": "8f821ebf",
   "metadata": {},
   "outputs": [],
   "source": [
    "df_content = data.Content"
   ]
  },
  {
   "cell_type": "code",
   "execution_count": 5,
   "id": "73fbc2b6",
   "metadata": {},
   "outputs": [
    {
     "data": {
      "text/plain": [
       "0     (1) Pursuant to Articles 9 and 168 of the Tre...\n",
       "1     (1) The objective of the Union’s policy on as...\n",
       "2     (1) The development of health technologies is...\n",
       "3     (1) The Commission communication of 29 Novemb...\n",
       "4     (1) The Commission communication of 29 Novemb...\n",
       "Name: Content, dtype: object"
      ]
     },
     "execution_count": 5,
     "metadata": {},
     "output_type": "execute_result"
    }
   ],
   "source": [
    "df_content.head()"
   ]
  },
  {
   "cell_type": "code",
   "execution_count": 6,
   "id": "a56f89aa",
   "metadata": {},
   "outputs": [],
   "source": [
    "# list used to remove unrelevant terms \n",
    "ignore_list = {'ec', 'no', 'european', 'commission', 'eu', 'union',\n",
    "                   'article', 'directive', 'council', 'regulation', 'official',\n",
    "                   'journal', 'article', 'information', 'agency', 'regulation',\n",
    "                   'mssg', 'data', 'member', 'states', 'etf', 'mdssg', 'shall'\n",
    "                  }"
   ]
  },
  {
   "cell_type": "code",
   "execution_count": 7,
   "id": "b80f77c5",
   "metadata": {},
   "outputs": [],
   "source": [
    "#Defining Davy's Preproc-Function\n",
    "\n",
    "def cleaning(sentence):\n",
    "    \n",
    "    # Basic cleaning\n",
    "    sentence = sentence.strip() ## remove whitespaces\n",
    "    sentence = sentence.lower() ## lowercasing \n",
    "    sentence = ''.join(char for char in sentence if not char.isdigit()) ## removing numbers\n",
    "    \n",
    "    # Advanced cleaning\n",
    "    for punctuation in string.punctuation:\n",
    "        sentence = sentence.replace(punctuation, '') ## removing punctuation\n",
    "    tokenized_sentence = word_tokenize(sentence) ## tokenizing \n",
    "    stop_words = set(stopwords.words('english')) ## defining stopwords\n",
    "    tokenized_sentence_cleaned = [w for w in tokenized_sentence \n",
    "                                  if not w in stop_words] ## remove stopwords\n",
    "    #tokenized_sentence_cleaned = [w for w in tokenized_sentence_cleaned if not w in ignore_list] COMMENTED IGNORE OUT!\n",
    "    lemmatized = [WordNetLemmatizer().lemmatize(word, pos = \"v\")  # v --> verbs\n",
    "              for word in tokenized_sentence_cleaned]\n",
    "    lemmatized = [WordNetLemmatizer().lemmatize(word, pos = \"n\")  # n --> nouns\n",
    "              for word in tokenized_sentence_cleaned]\n",
    "    lemmatized = [WordNetLemmatizer().lemmatize(word, pos = \"a\") # Lemmatizing the adjectives\n",
    "              for word in tokenized_sentence_cleaned]\n",
    "    lemmatized = [WordNetLemmatizer().lemmatize(word, pos = \"r\") # Lemmatizing the adverbs\n",
    "              for word in tokenized_sentence_cleaned]\n",
    "    cleaned_sentence = ' '.join(word for word in lemmatized)\n",
    "    return cleaned_sentence"
   ]
  },
  {
   "cell_type": "code",
   "execution_count": 8,
   "id": "ecfe7b7d",
   "metadata": {},
   "outputs": [],
   "source": [
    "# Applying Davy's Function\n",
    "\n",
    "clean_txt = df_content.apply(cleaning)"
   ]
  },
  {
   "cell_type": "code",
   "execution_count": 9,
   "id": "abc7b1fd",
   "metadata": {},
   "outputs": [
    {
     "data": {
      "text/plain": [
       "0     pursuant articles treaty functioning european ...\n",
       "1     objective union ’ policy asylum develop establ...\n",
       "2     development health technologies key driver eco...\n",
       "3     commission communication november entitled ‘ f...\n",
       "4     commission communication november entitled ‘ f...\n",
       "5     technical difficulties breeding due complex ge...\n",
       "6     agreement withdrawal united kingdom great brit...\n",
       "7     regulation eu european parliament council expi...\n",
       "8     december commission adopted communication enti...\n",
       "9     directive ec european parliament council lays ...\n",
       "10    regulation ec european parliament council subs...\n",
       "11    context evolving migratory challenges characte...\n",
       "12    union ’ objective ensuring high level security...\n",
       "13    national security remains solely competence me...\n",
       "14    order achieve smart sustainable inclusive grow...\n",
       "15    european maritime fisheries aquaculture fund ‘...\n",
       "16    existential threat posed climate change requir...\n",
       "17    customs offices situated external borders unio...\n",
       "18    article treaty functioning european union tfeu...\n",
       "19    article treaty functioning european union tfeu...\n",
       "Name: Content, dtype: object"
      ]
     },
     "execution_count": 9,
     "metadata": {},
     "output_type": "execute_result"
    }
   ],
   "source": [
    "#Checking outcome of Preprocessing\n",
    "clean_txt\n"
   ]
  },
  {
   "cell_type": "code",
   "execution_count": 13,
   "id": "3a5d8adb",
   "metadata": {},
   "outputs": [
    {
     "data": {
      "text/plain": [
       "'pursuant articles treaty functioning european union ‘ tfeu ’ article charter fundamental rights european union ‘ charter ’ union ensure high level human health protection definition implementation union policies activities covid pandemic highlighted interconnectedness human animal ecosystem health risks posed loss biodiversity earth recognised world health organization many microbes infect animals humans efforts focus human health animal health prevent eliminate problem disease transmission diseases may transmitted humans animals vice versa therefore need tackled humans animals taking advantage potential synergies research treatments approximately emerging diseases almost known pandemics namely influenza hivaids covid zoonoses diseases increased globally past years changes land use deforestation urbanisation agricultural expansion intensification wildlife trafficking consumption patterns factors contributed increase zoonotic pathogens bacterial viral parasitic include unconventional agents able spread humans direct contact food water environment covid pandemic clear example need reinforce application one health approach union achieve well public health outcomes since stated regulation eu european parliament council ‘ human health connected animal health environment … actions tackle threats health must take account three dimensions ’ unprecedented experience covid pandemic also highlighted difficulties union member states addressing public health emergency regard demonstrated need strengthen union ’ role order effective managing availability medicinal products availability medical devices vitro diagnostic medical devices respective accessories collectively ‘ medical devices ’ developing medical countermeasures address threats posed public health early stage harmonised way ensures cooperation coordination union national regional competent authorities medicinal products medical devices industry actors supply chains medicinal products medical devices including healthcare professionals union needs give higher priority health ability ensure continued provision high quality healthcare services prepared address pandemics health threats severely impeded absence clearly defined legal framework managing response pandemics limited mandates resources health agencies well limited degree union member states preparedness public health emergencies impact majority member states shortages medicinal products medical devices different complex root causes need mapped understood analysed together different stakeholders order comprehensively addressed well understanding shortages include identification vulnerabilities supply chain specific case covid pandemic shortage treatments disease variety causes ranging production difficulties third countries logistical production difficulties within union shortage vaccines due inadequate manufacturing capacity disruptions often complex supply chains medicinal products medical devices national export restrictions bans border closures impeding free movement goods uncertainty related supply demand goods context covid pandemic lack production union certain medicinal products active substances led significant impediments smooth functioning internal market addressing serious threats public health across union serious consequences union ’ citizens addressing issue shortages medicinal products longstanding priority member states european parliament illustrated several reports european parliament european parliament resolution september shortage medicines – address emerging problem well discussions within council european union however issue remained date unaddressed shortages medicinal products represent growing threat public health serious impact healthcare systems right patients access appropriate medical treatment increased global demand medicinal products exacerbated covid pandemic led shortages medicinal products weakening healthcare systems member states posing significant risks patients ’ health care patients particularly terms disease progression worsening symptoms longer delays interruptions care therapy longer periods hospitalisation increased risk exposure falsified medicinal products medication errors adverse effects resulting substitution unavailable medicinal products alternative ones significant psychological distress patients increased costs healthcare systems covid pandemic exacerbated problem shortages certain medicinal products considered critical addressing pandemic highlighted union ’ external dependence terms domestic production medicinal products medical devices lack coordination structural limitations union ’ member states ’ ability rapidly effectively react challenges public health emergencies also highlighted need support strengthen industrial capacities produce medicinal products medical devices appropriate policies well need active extensive involvement union institutions bodies offices agencies protecting health union citizens rapid evolution covid spread virus led sharp increase demand medical devices ventilators surgical masks covid test kits disruption production limited capacity rapidly increase production complexity global nature supply chain medical devices led severe supply difficulties certain times serious shortages medical devices also led member states competing respond legitimate needs citizens thereby contributing uncoordinated actions national level national hoarding stockpiling issues resulted new entities involved expedited production medical devices subsequently resulted delays conformity assessments prevalence medical devices overpriced noncompliant unsafe cases counterfeits therefore appropriate matter urgency longterm structures established within european medicines agency ‘ agency ’ established regulation ec european parliament council ensure solid effective monitoring shortages medical devices occur public health emergency coordination management shortages well increased early dialogue medical devices industry healthcare professionals prevent mitigate shortages covid pandemic subsequent public health emergency revealed need coordinated union approach crisis management although lack impact assessment accompanying commission proposal regulation due emergencylike nature situation sufficient allocation resources terms staff funding secured taking account specificities health sector different member states uncertainty supply demand risk shortages medicinal products medical devices public health emergency like covid pandemic trigger export restrictions among member states national protective measures seriously impact functioning internal market thereby exacerbating consequences public health well leading need temporary export transparency export authorisation mechanisms furthermore shortages medicinal products result serious risks health patients union due lack availability result medication errors increased duration hospital stays adverse reactions increased risk fatalities caused administration unsuitable medicinal products used substitute unavailable medicinal products respect medical devices shortages lead lack diagnostic resources negative consequences public health measures disease deteriorating treated may also prevent health professionals adequately carrying tasks protected evidenced covid pandemic serious consequences health shortages example insufficient supply covid test kits also significant impact control spread given pathogen therefore important appropriate framework union level coordinate union response shortages medicinal products medical devices reinforce formalise monitoring critical medicinal products medical devices efficient way way avoids creating unnecessary burdens stakeholders place strain resources cause additional delays safe efficacious medicinal products treat prevent diagnose diseases cause public health emergencies identified developed notably joint efforts public authorities private sector academia made available union citizens soon possible emergencies covid pandemic also highlighted need coordinate assessments conclusions multinational clinical trials line done voluntary basis clinical trials experts member states prior date application regulation eu european parliament council need unionlevel advice use medicinal products national compassionate use programmes use medicinal products indications covered marketing authorisation union order avoid delays implementation results research development availability new repurposed medicinal products covid pandemic ad hoc solutions contingent arrangements commission agency marketing authorisation holders manufacturers actors supply chain medicinal products one side member states found order make available safe efficacious medicinal products treat covid prevent spread order facilitate speed development marketing authorisation treatments vaccines order ensure well functioning internal market safe efficacious medicinal products treatment covid prevention spread contribute high level human health protection therefore appropriate approximate strengthen rules monitoring shortages medicinal products medical devices facilitate research development medicinal products potential treat prevent diagnose diseases cause public health emergencies view strategically complementing efforts commission including health emergency preparedness response authority ‘ hera ’ established commission decision september union agencies end order support assessment crisispreparedness crisismanagement framework provided regulation regard shortages medicinal products medical devices commission able use outcomes targeted stress tests performed commission agency member states relevant actors stress tests entail simulation public health emergency major event segments processes procedures laid regulation tested regulation aims ensure high level protection human health ensuring smooth functioning internal market regards medicinal products medical devices moreover regulation aims ensure quality safety efficacy medicinal products potential address public health emergencies objectives pursued simultaneously inseparably linked without one secondary regards article tfeu regulation establishes framework monitoring reporting shortages medicinal products medical devices public health emergencies major events regards article point c tfeu regulation provide strengthened union framework ensuring quality safety medicinal products medical devices regulation establish framework address issue shortages medicinal products medical devices public health emergencies major events however shortages persistent problem increasingly affecting health lives union citizens decades therefore regulation first step towards improving union response persistent problem commission subsequently assess expansion framework ensure issue shortages medicinal products medical devices addressed order improve crisis preparedness management respect medicinal products medical devices increase resilience solidarity across union procedures respective roles obligations different entities concerned clarified framework established regulation build ad hoc solutions identified date response covid pandemic proven effective build experience best practices examples third countries remaining flexible enough tackle future public health emergency major event efficient way benefit public health patients harmonised system monitoring shortages medicinal products medical devices established would facilitate appropriate access critical medicinal products medical devices public health emergencies major events serious impact public health system complemented improved structures ensuring appropriate management public health emergencies major events coordinating providing advice research development relating medicinal products potential mitigate public health emergencies major events order facilitate monitoring reporting actual potential shortages medicinal products medical devices agency able request obtain information data marketing authorisation holders concerned manufacturers member states designated single points contact avoiding duplication information requested submitted interfere obligation marketing authorisation holders article directive ec european parliament council notify member state product ceases placed market member state obligation article directive marketing authorisation holders wholesale distributors ensure appropriate continued supplies medicinal product persons legal entities authorised entitled supply medicinal products needs patients member state question met order facilitate prevention monitoring reporting shortages medicinal products agency set information technology platform known european shortages monitoring platform ‘ esmp ’ capable processing information supply demand critical medicinal products public health emergencies major events outside situations allow reporting shortages medicinal products likely lead public health emergencies major events facilitate development esmp existing systems leveraged used possible esmp allow national competent authorities submit monitor information unmet demand including information received marketing authorisation holders wholesale distributors persons legal entities authorised entitled supply medicinal products public order anticipate shortages medicinal products esmp could also process additional information received marketing authorisation holders wholesale distributors persons legal entities authorised entitled supply medicinal products public order avert public health emergency major event esmp fully implemented act sole portal marketing authorisation holders provide information required public health emergencies major events view increasing efficiency predictability public health emergencies major events accelerating decisionmaking process avoiding duplication efforts unjustified burdens stakeholders order facilitate coordination role agency interoperability data existing member states ’ platforms monitoring shortages systems appropriate essential allow sharing relevant information esmp managed agency event actual future demand unknown due public health emergency major event important make pragmatic predictions demand certain medicinal products basis best available information context information data available stocks planned minimum stocks collected member states agency taken account identifying demand far possible information data essential making correct adjustments manufacturing medicinal products avoid least mitigate impact shortages medicinal products however data stocks available provided due national security interests member states provide agency estimated data volumes demand respect medicinal products executive steering group established within agency ensure robust response major events coordinate urgent actions within union relation management issues relating supply medicinal products ‘ medicine shortages steering group – mssg ’ mssg establish lists critical medicinal products ensure monitoring products able provide advice recommendations necessary action take safeguard quality safety efficacy medicinal products well safeguard supply medicinal products ensure high level human health protection facilitate appropriate communication patients consumers one hand mssg member states could collect data impact shortages medicinal products patients consumers share relevant information mssg order inform approaches management shortages medicinal products order ensure inclusivity transparency work mssg appropriate engagement mssg relevant third parties including representatives medicinal product interest groups marketing authorisation holders wholesale distributors appropriate actors supply chain medicinal products representatives healthcare professionals patients consumers mssg benefit agency ’ extensive scientific expertise regards evaluation supervision medicinal products develop agency ’ leading role coordinating supporting response shortages medicinal products covid pandemic order ensure high quality safe efficacious medicinal products potential address public health emergencies developed made available within union soon possible public health emergencies emergency task force established within agency provide advice medicinal products ‘ emergency task force – etf ’ etf provide advice scientific questions related development treatments vaccines clinical trial protocols free charge entities involved development marketing authorisation holders clinical trial sponsors public health bodies academia irrespective role development medicinal products decisions clinical trial applications remain within competence member states accordance regulation eu work etf separate work scientific committees agency carried without prejudice scientific assessments committees etf provide advice recommendations regard use medicinal products fight overcome publichealth emergencies committee medicinal products human use ‘ chmp ’ established article regulation ec able use recommendations preparing scientific opinions compassionate early use medicinal product prior marketing authorisation mssg could also draw work etf developing critical medicines lists establishment etfshould build support provided agency covid pandemic particular regards scientific advice clinical trials design product development well ‘ rolling ’ review emerging evidence ie ongoing basis allow efficient assessment medicinal products including vaccines public health emergencies guaranteeing high level human health protection order ensure well functioning internal market medicinal products contribute high level humanhealth protection appropriate etf coordinate provide advice developers involved research development medicinal products potential treat prevent diagnose diseases causing public health emergency etf provide advice clinical trial protocols developers clinical trials conducted union providing guidance clinically relevant endpoints targets vaccines treatments order facilitate clinical trial design meeting criteria effective public health interventions experience clinical trials covid pandemic revealed tremendous amount duplication investigations interventions high number small trials underrepresentation important population subgroups based gender age ethnicity medical comorbidities lack collaboration leading risk research wasted international regulators pointed need improve clinical research agenda order generate robust evidence quality safety efficacy medicinal products main way obtaining reliable evidence coordinated welldesigned adequately powered large randomised controlled trials clinical trial results clinical data produced relevant marketing authorisation granted made publicly available timely manner publication trial protocol start clinical trial would allow public scrutiny whenever necessary considering medicinal products human use may impact veterinary sector close liaison national competent authorities veterinary medicinal products envisaged although individual research entities may agree another party act sponsor order prepare single harmonised unionwide clinical trial protocol experience covid pandemic shown initiatives set large multinational trials struggle materialise due lack single entity able take responsibilities activities sponsor within union well interact multiple member states address problem new unionwide unionfunded vaccine trial network called vaccelerate launched following commission communication february entitled ‘ hera incubator anticipating together threat covid variants ’ agency identify facilitate initiatives giving advice possibilities acting sponsor applicable allocating respective responsibilities cosponsors accordance article regulation eu coordinate development clinical trial protocols approach would strengthen research environment union would promote harmonisation would avoid subsequent delays availability results research marketing authorisation files union sponsor could benefit union research funding available time public health emergency well existing clinical trial networks facilitate development application submission running trials may particularly valuable trials established union international public health research organisations agency publishes european public assessment reports epars medicinal products authorised accordance regulation ec provide information assessment medicinal products describing data assessed reasons recommending whether medicinal product authorised epar includes detailed information regard relevant presubmission activities regulation including names coordinators experts involved medicinal product developer requests scientific advice presubmission phase overview scientific topics discussed view advice respect medical devices executive steering group shortages medical devices established coordinate urgent actions within union relation management supply demand issues medical devices establish list critical medical devices case public health emergency ‘ medical device shortages steering group – mdssg ’ ensure coordination mdssg also liaise medical devices coordination group ‘ mdcg ’ established article regulation eu european parliament council appropriate respect member states able appoint representatives mdssg mdcg operational phase work mssg mdssg etf triggered recognition public health emergency accordance decision eu european parliament council regards mssg also recognition major event continuous monitoring risks public health major events including manufacturing issues natural disasters bioterrorism potential affect quality safety efficacy supply medicinal products also ensured addition monitoring follow one health approach understood recommendations advice guidance opinions provided regulation inherently nonbinding instruments intended allow commission agency mssg mdssg etf make views known suggest line action without imposing legal obligation addressees instruments imperative place robust transparency measures standards regarding agency ’ regulatory activities relation medicinal products medical devices fall scope regulation measures include timely publication relevant information approved medicinal products medical devices clinical data including clinical trial protocols agency highly transparent regards membership recommendations opinions decisions mssg mdssg etf members mssg mdssg etf financial interests medicinal products medical device industries could affect impartiality order establish list categories critical medical devices facilitate process monitoring shortages manufacturers medical devices authorised representatives necessary relevant notified bodies provide information requested agency specific situations namely member state considers need provide temporary exemptions pursuant article regulation eu article regulation eu european parliament council view mitigating actual potential shortages medical devices importer distributor also play role providing requested information noneu manufacturer designated authorised representative regulation provide agency role supporting expert panels medical devices designated accordance article regulation eu ‘ expert panels ’ providing independent scientific technical assistance member states commission mdcg notified bodies manufacturers upholding maximum transparency condition fostering trust confidence union regulatory system addition role clinical evaluation assessments performance evaluations regarding certain high risk medical devices accordance regulations eu eu respectively well providing opinions response consultation manufacturers notified bodies expert panels provide scientific technical clinical assistance member states commission mdcg particular expert panels contribute development guidance number points including clinical performance aspects specific medical devices categories groups medical devices specific hazards related category group medical devices develop clinical evaluation performance evaluation guidance line state art contribute identification concerns emerging issues safety performance context expert panels could play relevant role preparedness management public health emergencies relating medical devices particularly high risk including medical devices potential address public health emergencies without prejudice tasks obligations regulations eu eu given agency ’ longstanding proven record expertise field medicinal products considering agency ’ experience working multitude groups experts appropriate establish suitable structures within agency monitor potential shortages medical devices context public health emergency provide agency provide secretariat expert panels would ensure expert panels operate sustainably long term would provide clear synergies related crisispreparedness work area medicinal products structures would way change regulatory system decisionmaking procedures area medical devices already place union remain clearly distinct medicinal products ensure smooth transition agency commission provide support expert panels march order facilitate work exchanges information regulation provision made establishment management infrastructures create synergies existing systems systems development including european database medical devices eudamed provided article regulation eu alongside enhanced protection data infrastructure deterrence possible cyber attacks within eudamed european medical device nomenclature provided article regulation eu article regulation eu used help gathering relevant information categorisation medical devices work could also facilitated appropriate emerging digital technologies computational models simulations clinical trials well data union space programme established regulation eu european parliament council galileo geolocation services copernicus earth observation data order ensure completeness information data obtained agency considering specific characteristics medical device sector eudamed fully functional possible constitute list single points contact monitoring shortages medical devices included public health emergency critical devices list using source information relevant databases medical device associations union national level rapid access exchanges health data including real world data ie health data generated outside clinical studies essential ensuring effective management public health emergencies major events regulation allow agency use facilitate exchanges part establishment operation european health data space interoperable infrastructure taking advantage potential supercomputing artificial intelligence big data science develop predicting models take well timely effective decisions without compromising privacy rights order facilitate reliable exchange information medicinal products robust consistent manner identification medicinal products based standards developed international organization standardization identification medicinal products human use handling sensitive data crucial dealing potential public health emergencies requires high level protection cyber attacks healthcare organisations also facing heightened cybersecurity threats midst covid pandemic agency target cyber attack resulted documents related covid medicinal products vaccines belonging third parties illegally accessed documents leaked internet therefore necessary agency equipped high level security controls processes cyber attacks ensure agency operates normally times especially public health emergencies major events end agency establish plan prevent detect mitigate respond cyber attacks operations secure times preventing illegal access documentation held agency due sensitive nature health data agency safeguard processing operations ensure respect data protection principles lawfulness fairness transparency purpose limitation data minimisation accuracy storage limitation integrity confidentiality processing personal data necessary purposes regulation processing done accordance union law protection personal data processing personal data regulation take place accordance regulations eu eu european parliament council credibility agency public trust decisions depend high degree transparency therefore use adequate communication tools proactively engage general public provided addition rapid strengthening transparency standards measures regarding agency ’ working bodies clinical data assessed evaluation surveillance medicinal products medical devices paramount gain uphold public trust regulation establish framework strengthened transparency standards measures basis transparency standards measures adopted agency covid pandemic public health emergencies major events agency ensure cooperation european centre disease prevention control ‘ ecdc ’ established regulation ec european parliament council union agencies appropriate cooperation include sharing data including data epidemiological forecasting regular communication executive level inviting representatives ecdc union agencies attend meetings etf mssg mdssg appropriate cooperation also include strategic discussions relevant entities union position assist research development regarding appropriate solutions technologies mitigating effects public health emergency major event preventing future similar public health emergencies major events cases public health emergencies relation major events possible agency enable regular exchanges information member states marketing authorisation holders relevant actors supply chain medicinal products representatives healthcare professionals patients consumers ensure early discussions potential shortages medicinal products market supply constraints allow well coordination synergies mitigate respond public health emergency major event given covid pandemic come end duration evolution public health emergencies pandemics uncertain provision made review effectiveness functioning structures mechanisms established accordance regulation light review structures mechanisms adjusted appropriate since objectives regulation sufficiently achieved member states alone due crossborder dimension public health emergencies major events rather reason scale effects action well achieved union level union may adopt measures accordance principle subsidiarity set article treaty european union accordance principle proportionality set article regulation go beyond necessary order achieve objectives order ensure sufficient resources including appropriate staffing adequate expertise available carrying tasks provided regulation expenditure agency covered contribution union agency ’ revenue expenditure include remuneration rapporteurs appointed provide scientific services relation etf line usual practice reimbursement travel accommodation subsistence expenses related meetings mssg mdssg etf working parties euhealth programme established regulation eu recovery resilience facility established regulation eu european parliament council tools provide additional support national competent authorities relation shortages medicinal products including implementation actions mitigate shortages medicinal products improve security supply member states able request financial support union specifically implementation obligations set regulation european data protection supervisor consulted accordance article regulation eu delivered formal comments march accordance article tfeu regulation fully respects responsibilities member states definition health policy organisation delivery health services medical care well fundamental rights principles recognised charter including protection personal data one aims regulation ensure strengthened framework monitoring reporting shortages medicinal products public health emergencies major events announced communication commission november entitled ‘ pharmaceutical strategy europe ’ commission propose revise pharmaceutical legislation enhance security supply address shortages medicinal products specific measures legislation could cover coordinating role agency monitoring managing shortages medicinal products result revision strengthened measures regarding monitoring reporting supply demand medicinal products union level required esmp considered suitable system facilitate new provisions relating monitoring reporting shortages medicinal products part reporting regulation commission consider need extend scope regulation include veterinary medicinal products personal protective equipment amend definitions introduce measures union national level strengthen compliance obligations set regulation review include consideration remit functioning esmp extension functioning esmp need national shortages monitoring systems considered necessary order prepare shortages medicinal products public health emergencies major events support monitoring shortages capacity building supported union funding mechanisms considered order enhance cooperation among member states could include exploration best practices coordination development tools monitoring managing shortages medicinal products member states connecting esmp ensure esmp used full potential identify forecast problems relating supply demand medicinal products appropriate esmp facilitate use big data techniques artificial intelligence order allow prompt application measures provided regulation enter force day following publication official journal european union adopted regulation within european medicines agency ‘ agency ’ regulation provides framework means preparing preventing coordinating managing impact public health emergencies medicinal products medical devices impact major events medicinal products medical devices union level b monitoring preventing reporting shortages medicinal products shortages medical devices c setting interoperable information technology platform union level monitor report shortages medicinal products providing advice medicinal products potential address public health emergencies e providing support expert panels provided article regulation eu purposes regulation following definitions apply ‘ public health emergency ’ means situation public health emergency recognised commission accordance article decision eu b ‘ major event ’ means event likely pose serious risk public health relation medicinal products one member state concerns deadly threat otherwise serious threat health biological chemical environmental origin serious incident affect supply demand medicinal products quality safety efficacy medicinal products may lead shortages medicinal products one member state necessitates urgent coordination union level order ensure high level human health protection c ‘ medicinal product ’ means medicinal product defined article point directive ec ‘ veterinary medicinal product ’ means veterinary medicinal product defined article point regulation eu european parliament council e ‘ medical device ’ means medical device defined article point regulation eu vitro diagnostic medical device defined article point regulation eu includes accessories devices within meaning article point regulation eu article point regulation eu respectively f ‘ supply ’ means total volume stock given medicinal product medical device placed market marketing authorisation holder manufacturer g ‘ demand ’ means request medicinal product medical device healthcare professional patient response clinical need demand satisfactorily met medicinal product medical device acquired appropriate time sufficient quantity allow continuity best care patients h ‘ shortage ’ means situation supply medicinal product authorised placed market member state cemarked medical device meet demand medicinal product medical device national level whatever cause ‘ developer ’ means legal natural person seeking generate scientific data regard quality safety efficacy medicinal product part development product executive steering group shortages safety medicinal products ‘ medicine shortages steering group – mssg ’ hereby established within agency mssg shall responsible fulfilling tasks referred article articles mssg shall meet regularly also whenever situation requires either person remotely preparation public health emergency issue concern raised mssg commission recognised major event accordance article agency shall provide secretariat mssg members mssg shall consist representative agency representative commission one representative appointed member state members mssg may accompanied meetings mssg experts specific scientific technical fields list members mssg shall published agency ’ web portal representative agency ’ patients ’ consumers ’ working party ‘ pcwp ’ representative agency ’ healthcare professionals ’ working party ‘ hcpwp ’ may attend meetings mssg observers mssg shall cochaired representative agency one representatives member states shall elected among representatives member states mssg cochairs mssg initiative request one members mssg may invite observers provide expert advice representatives national competent authorities veterinary medicinal products representatives relevant competent authorities third parties including representatives medicinal product interest groups marketing authorisation holders wholesale distributors appropriate actor supply chain medicinal products representatives healthcare professionals patients consumers attend meetings necessary mssg coordination national competent authorities medicinal products shall facilitate appropriate communication marketing authorisation holders representatives manufacturers relevant actors supply chain medicinal products representatives healthcare professionals patients consumers view receiving relevant information actual potential shortages medicinal products considered critical public health emergency major event provided article mssg shall establish rules procedure including procedures relating working party referred paragraph article procedures adoption critical medicines lists sets information recommendations referred article rules procedure referred first subparagraph shall enter force mssg received favourable opinion commission management board agency mssg shall supported work working party established accordance article point working party referred first subparagraph shall consist representatives national competent authorities medicinal products shall single points contact relation shortages medicinal products mssg may consult committee medicinal products veterinary use ‘ cvmp ’ established article point b regulation ec whenever mssg deems necessary particular order deal public health emergencies major events related zoonoses diseases affect animals may major impact human health use active substances veterinary medicinal products may useful addressing public health emergency major event agency collaboration member states shall continuously monitor event likely lead public health emergency major event necessary agency shall cooperate european centre disease prevention control ‘ ecdc ’ relevant union agencies facilitate monitoring referred paragraph national competent authorities medicinal products acting single points contact referred article platform referred article ‘ esmp ’ fully functional shall report timely manner agency event likely lead public health emergency major event including actual potential shortage medicinal product given member state reporting shall based reporting methods criteria pursuant article point b national competent authority informs agency shortage medicinal product referred first subparagraph shall provide agency information received marketing authorisation holder pursuant article directive ec information available esmp agency receives report event national competent authority medicinal products agency may request information national competent authorities working party referred article order evaluate impact event member states agency considers actual imminent major event needs addressed shall raise issue concern mssg following positive opinion mssg commission may recognise major event commission least one member state may raise issue concern mssg initiative mssg shall inform commission executive director agency mssg considers major event sufficiently addressed considers assistance longer needed basis information referred first subparagraph initiative commission executive director may confirm major event sufficiently addressed therefore assistance mssg longer needed following recognition public health emergency recognition major event accordance paragraph article articles apply follows public health emergency major event may affect quality safety efficacy medicinal products article applies b public health emergency major event may lead shortages medicinal products one member state articles apply following recognition public health emergency recognition major event accordance article mssg shall evaluate information related public health emergency major event consider need urgent coordinated action regard quality safety efficacy medicinal products concerned mssg shall provide recommendations commission member states appropriate action believes needs taken union level medicinal products concerned accordance directive ec regulation ec mssg may consult cvmp whenever mssg deems necessary particular order deal public health emergencies major events related zoonoses diseases affect animals may major impact human health use active substances veterinary medicinal products may useful addressing public health emergency major event without prejudice paragraph mssg shall establish list main therapeutic groups medicinal products necessary emergency care surgery intensive care order inform preparation critical medicines lists referred paragraphs used respond public health emergency major event list shall established august updated annually whenever necessary immediately following recognition major event accordance article regulation mssg shall consult working party referred article regulation immediately following consultation mssg shall adopt list medicinal products authorised accordance directive ec regulation ec considers critical major event ‘ major event critical medicines list ’ mssg shall update major event critical medicines list whenever necessary major event sufficiently addressed confirmed assistance mssg longer needed pursuant article regulation immediately following recognition public health emergency mssg shall consult working party referred article regulation immediately following consultation mssg shall adopt list medicinal products authorised accordance directive ec regulation ec considers critical public health emergency ‘ public health emergency critical medicines list ’ mssg shall update public health emergency critical medicines list whenever necessary termination recognition public health emergency public health emergency critical medicines list may updated take account results review process article regulation appropriate cases mssg shall liaise emergency task force referred article regulation ‘ etf ’ purposes article mssg shall adopt make publicly available set information referred article points c necessary monitor supply demand medicinal products included lists referred paragraphs article ‘ critical medicines lists ’ shall inform working party referred article set information following adoption critical medicines lists accordance paragraphs agency shall immediately publish lists updates lists web portal referred article regulation ec agency shall establish within web portal publicly accessible webpage provides information actual shortages medicinal products included critical medicines lists cases agency assessed shortage provided recommendations healthcare professionals patients webpage shall provide least following information name common name medicinal product critical medicines lists b therapeutic indications medicinal product critical medicines lists c reason shortage medicinal product critical medicines lists start end dates shortage medicinal product critical medicines lists e member states affected shortage medicinal product critical medicines lists f relevant information healthcare professionals patients including information whether alternative medicinal products available webpage referred first subparagraph shall also provide references national registries shortages medicinal products following recognition public health emergency recognition major event accordance article mssg shall monitor supply demand medicinal products included critical medicines lists view identifying actual potential shortages medicinal products mssg shall conduct monitoring using critical medicines lists information data provided accordance articles available esmp fully functional purposes monitoring referred first paragraph article relevant mssg shall liaise health security committee established article decision eu ‘ hsc ’ case public health emergency relevant advisory committee public health emergencies established pursuant union law ecdc duration public health emergency following recognition major event referred article confirmed major event sufficiently addressed pursuant article mssg shall regularly report results monitoring referred article commission single points contact referred article particular shall signal actual potential shortages medicinal products included critical medicines lists event likely lead major event reports referred first subparagraph may also made available actors supply chain medicinal products appropriate accordance competition law requested commission one single point contact referred article mssg shall provide aggregated data demand forecasts support findings conclusions regard mssg shall use data esmp fully functional b liaise ecdc obtain epidemiological data models development scenarios help forecast medicinal product needs c liaise executive steering group shortages medical devices referred article ‘ mdssg ’ medicinal products included critical medicines lists used jointly medical device aggregated data demand forecasts referred first subparagraph may also made available actors supply chain medicinal products appropriate accordance competition law view well preventing mitigating actual potential shortages medicinal products part reporting referred paragraphs mssg may provide recommendations measures commission member states marketing authorisation holders entities including representatives healthcare professionals patients could take prevent mitigate actual potential shortages medicinal products member states may request mssg provide recommendations measures referred first subparagraph purposes second subparagraph mssg shall liaise relevant hsc case public health emergency relevant advisory committee public health emergencies established pursuant union law mssg initiative request commission member state may provide recommendations measures commission member states marketing authorisation holders representatives healthcare professionals entities could take ensure preparedness dealing actual potential shortages medicinal products caused public health emergencies major events requested commission mssg may coordinate measures taken national competent authorities marketing authorisation holders entities including representatives healthcare professionals patients relevant prevent mitigate actual potential shortages medicinal products context public health emergency major event order prepare fulfilment tasks referred articles agency shall specify procedures criteria establishing reviewing critical medicines lists b specify methods criteria monitoring data collection reporting provided articles basic minimum data set c develop streamlined monitoring reporting systems coordination relevant national competent authorities facilitate interoperability existing systems systems development esmp fully functional basis data fields harmonised across member states establish working party referred article ensure member state represented working party e establish maintain list single points contact marketing authorisation holders medicinal products authorised union database provided article point l regulation ec f specify methods provision recommendations referred article article coordination measures referred article g publish information covered points b f dedicated webpage web portal purposes first subparagraph point member states marketing authorisation holders relevant actors supply chain medicinal products representatives healthcare professionals patients consumers may consulted necessary following recognition public health emergency recognition major event accordance article agency shall establish list single points contact marketing authorisation holders medicinal products included critical medicines lists b maintain list single points contact referred point duration public health emergency major event c request relevant information medicinal products critical medicines lists single points contact referred point set deadline submission information information available esmp request information medicinal products critical medicines lists single points contact referred article basis set information referred article set deadline submission information information available esmp information referred paragraph point c shall include least name marketing authorisation holder medicinal product b name medicinal product c identification active manufacturing sites finished products active substances medicinal product member state marketing authorisation valid marketing status medicinal product member state e details actual potential shortage medicinal product actual estimated start end dates suspected known cause f sales market share data medicinal product g available stocks medicinal product h forecast supply medicinal product including information potential vulnerabilities supply chain quantities already delivered projected deliveries demand forecasts medicinal product j details available alternative medicinal products k shortage prevention mitigation plans include minimum information production supply capacity approved production sites finished medicinal product active substances potential alternative production sites minimum stock levels medicinal product order supplement shortage prevention mitigation plans critical medicinal products referred paragraph point k agency national competent authorities medicinal products may request information wholesale distributors relevant actors regarding logistical challenges incurred wholesale supply chain marketing authorisation holders medicinal products authorised union shall provide information purposes article point e regulation september form electronic submission database referred article point l regulation ec marketing authorisation holders shall provide updates necessary order facilitate monitoring referred article agency may request marketing authorisation holders medicinal products included critical medicines lists submit information referred article point c marketing authorisation holders referred first subparagraph paragraph shall submit requested information deadline set agency single points contact referred article point b using monitoring reporting methods systems established pursuant article points b c respectively marketing authorisation holders shall provide updates necessary marketing authorisation holders referred paragraphs shall justify failure provide requested information delays providing requested information deadline set agency marketing authorisation holders referred paragraph indicate information submitted request agency national competent authorities medicinal products contains information commercially confidential nature shall identify relevant parts information nature explain information commercially confidential nature agency shall assess merits indication information commercially confidential nature protect commercially confidential information unjustified disclosure marketing authorisation holders referred paragraph relevant actors supply chain medicinal products information addition required paragraph second subparagraph provides evidence actual potential shortage medicinal products shall immediately provide information agency following reporting results monitoring referred article recommendations preventive mitigating measures provided accordance article marketing authorisation holders referred paragraph shall provide comments agency b take account recommendations referred article guidelines referred article point c c comply measures taken union member state level pursuant articles inform mssg measures taken report monitoring results measures including providing information resolution actual potential shortage medicinal products order facilitate monitoring referred article unless information concerned available esmp agency may request member state submit set information referred article including available estimated data volume demand demand forecasts single point contact referred article using reporting methods systems established pursuant article points b c respectively b indicate existence commercially confidential information explain information commercially confidential nature accordance article c indicate failure provide requested information whether delays providing information deadline set agency accordance article member states shall comply agency ’ request deadline set agency purposes paragraph wholesale distributors persons legal entities authorised entitled supply medicinal products included critical medicines lists public shall provide member state relevant information data including information data levels stock medicinal products request member state member states information addition information provided accordance paragraphs article volumes sales volumes prescriptions medicinal products provides evidence actual potential shortage medicinal product included critical medicines lists including data referred article third paragraph directive ec shall immediately provide information mssg respective single points contact referred article regulation following reporting results monitoring referred article recommendations preventive mitigating measures provided accordance article member states shall take account recommendations guidelines referred article point c coordinate actions relation actions taken union level pursuant article point b inform mssg measures taken report results actions referred point including providing information resolution actual potential shortage medicinal products purposes first subparagraph points b member states take alternative course action national level shall share reasons mssg timely manner recommendations guidelines actions referred first subparagraph point summary report lessons learned shall made publicly available via web portal referred article commission shall take account information recommendations mssg referred article article respectively shall take necessary action within limits powers conferred commission view mitigating actual potential shortages medicinal products included critical medicines lists b facilitate coordination marketing authorisation holders relevant entities address demand surges necessary c consider need guidelines recommendations addressed member states marketing authorisation holders entities including relevant entities supply chain medicinal products relevant inform mssg measures taken commission report results measures e request mssg provide recommendations coordinate measures provided article f consider need medical countermeasures accordance decision eu applicable union law g liaise third countries relevant international organisations appropriate mitigate actual potential shortages medicinal products included critical medicines lists active substances medicinal products active substances imported union actual potential shortages international implications report related actions well results actions mssg relevant agency shall set maintain manage platform known european shortages monitoring platform ‘ esmp ’ shall linked database referred article point l regulation ec esmp shall used facilitate collection information shortages supply demand medicinal products including information whether medicinal product placed ceases placed market member state information collected esmp shall used monitor prevent manage actual potential shortages medicinal products critical medicines lists public health emergencies major events b actual potential shortages medicinal products likely lead public health emergency major event accordance article purposes paragraph public health emergenciesand major events marketing authorisation holders shall use esmp report information relating medicinal products critical medicines lists agency single points contact referred article point accordance articles b member states shall use esmp report information relating medicinal products critical medicines lists agency single points contact referred article point accordance articles reporting referred first subparagraph point b shall include information addition referred point received marketing authorisation holders wholesale distributors persons legal entities authorised entitled supply public medicinal products included critical medicines lists relevant purposes paragraph regards ensuring preparedness public health emergencies major events marketing authorisation holders shall use esmp report agency information referred article regulation ec authorisations granted accordance regulation ii information based categories set article relate actual potential shortages medicinal products likely lead public health emergency major event appropriate b member states shall use esmp report agency shortages medicinal products likely lead public health emergency major event accordance article single points contact referred article point e reporting referred paragraph point b shall include information referred article directive ec reported national competent authorities medicinal products authorisations granted accordance directive b may include additional information received marketing authorisation holders wholesale distributors persons legal entities authorised entitled supply medicinal products public ensure optimal use esmp agency shall develop technical functional specifications esmp including data exchange mechanism exchanging existing national systems format electronic submissions collaboration mssg b require data submitted esmp comply standards developed international organization standardization identification medicinal products based domains master data pharmaceutical regulatory processes namely substance product organisation referential data relevant c develop standardised reporting terminology used marketing authorisation holders member states reporting esmp collaboration mssg establish relevant guidance reporting esmp collaboration mssg e ensure data interoperable esmp member states ’ systems relevant systems databases without duplication reporting f ensure commission agency national competent authorities mssg appropriate levels access information contained esmp g ensure commercially confidential information submitted system protected unjustified disclosure h ensure esmp fully operational february draw plan implementation esmp agency shall provide information public interest groups regard work mssg timely manner shall respond disinformation targeting work mssg appropriate via dedicated webpage web portal appropriate means cooperation national competent authorities proceedings mssg shall transparent summaries agenda minutes meetings mssg well rules procedure referred article recommendations referred article shall documented made publicly available dedicated webpage agency web portal rules procedure referred article allow members mssg divergent opinions recorded mssg shall make divergent opinions grounds based available national competent authorities medicinal products request emergency task force ‘ etf ’ hereby established within agency etf shall convened preparation public health emergencies either person remotely agency shall provide secretariat etf public health emergencies etf shall undertake following tasks liaison scientific committees working parties scientific advisory groups agency providing scientific advice reviewing available scientific data medicinal products potential address public health emergency including requesting data developers engaging preliminary discussions b providing advice main aspects clinical trial protocols providing advice developers clinical trials medicinal products intended treat prevent diagnose disease causing public health emergency accordance article regulation without prejudice tasks member states regards assessment submitted clinical trial applications conducted within territories accordance regulation eu c providing scientific support facilitate clinical trials medicinal products intended treat prevent diagnose disease causing public health emergency contributing work scientific committees working parties scientific advisory groups agency e liaison scientific committees working parties scientific advisory groups agency providing scientific recommendations regard use medicinal product potential address public health emergencies accordance article f cooperating national competent authorities union bodies agencies world health organization third countries international scientific organisations scientific technical issues relate public health emergency medicinal products potential address public health emergencies necessary support referred first subparagraph point c shall include advice sponsors similar linked planned clinical trials establishment joint clinical trials may include advice establishing agreements act sponsor cosponsor accordance article point article regulation eu members etf shall consist chairs vice chairs scientific committees agency representatives committees b representatives working parties agency including representatives pcwp representatives hcpwp c staff members agency representatives coordination group established accordance article directive ec e representatives clinical trials coordination advisory group established accordance article regulation eu f clinical trial experts represent national competent authorities medicinal products members etf shall nominated entities represent external experts may appointed etf ad hoc basis necessary especially cases referred article representatives union bodies agencies shall invited ad hoc basis necessary participate work etf especially cases referred article etf shall chaired representative agency cochaired chair vicechair chmp composition etf shall approved management board agency taking account specific expertise relevant therapeutic response public health emergency executive director agency representative executive director well representatives commission management board agency shall entitled attend meetings etf composition etf shall made publicly available cochairs etf may invite representatives member states members scientific committees working parties agency third parties including representatives medicinal product interest groups marketing authorisation holders developers clinical trial sponsors representatives clinical trial networks independent clinical trial experts researchers representatives healthcare professionals patients attend meetings etf shall establish rules procedure including rules adoption recommendations rules procedure referred first subparagraph shall enter force etf received favourable opinion commission management board agency etf shall perform tasks advisory support body separate without prejudice tasks scientific committees agency regards authorisation supervision pharmacovigilance medicinal products concerned related regulatory actions ensure quality safety efficacy medicinal products chmp relevant scientific committees agency shall take etf recommendations consideration adopting opinions etf shall take account scientific opinion issued committees referred second subparagraph paragraph accordance regulation ec directive ec article regulation ec applies etf regards transparency independence members agency shall publish information regarding medicinal products etf considers potential address public health emergencies updates web portal agency shall inform member states hsc appropriate publication without undue delay case prior publication public health emergency etf shall provide advice main aspects clinical trials clinical trial protocols submitted intended submitted clinical trial application developers part accelerated scientific advice process without prejudice responsibility member state states concerned regulation eu developer engages accelerated scientific advice process etf shall provide advice referred paragraph free charge latest days developer submits complete set requested information data agency advice shall endorsed chmp etf shall establish procedures guidance requesting submitting set information data required including information member state states application authorisation clinical trial submitted intended submitted etf shall involve representatives member states clinical trial expertise preparation scientific advice particular cases application authorisation clinical trial submitted intended submitted authorising clinical trial application etf provided scientific advice member states shall take advice consideration scientific advice provided etf shall without prejudice ethical review provided regulation eu developer recipient scientific advice referred paragraph article developer shall subsequently submit data resulting clinical trials agency agency makes request data pursuant article without prejudice paragraphs article scientific advice referred paragraph article shall otherwise provided accordance procedures established pursuant article regulation ec duration public health emergency sponsors clinical trials conducted union shall particular make following information publicly available eu portal eu database established respectively articles regulation eu clinical trial protocol start trial trials authorised regulation eu examine medicinal products potential address public health emergency b summary results within timeline set agency shorter timeline laid article regulation eu medicinal product relevance public health emergency receives marketing authorisation agency shall publish particular product information details conditions use time marketing authorisation b european public assessment reports soon possible possible within seven days marketing authorisation c clinical data submitted agency support application possible within two months marketing authorisation commission entire risk management plan referred article point c directive ec updated versions thereof purposes first subparagraph point c agency shall anonymise personal data redact commercially confidential information following recognition public health emergency etf shall undertake review available scientific data medicinal products potential used address public health emergency review shall updated whenever needed public health emergency including etf chmp agree preparation assessment marketing authorisation application preparation review referred paragraph etf may request information data marketing authorisation holders developers may engage preliminary discussions etf may also make use health data generated outside clinical studies available taking account reliability data etf may liaise third country agencies medicinal products respect additional information data exchanges following request one member states commission etf shall provide recommendations chmp opinion accordance paragraph compassionate use medicinal products falling scope directive ec regulation ec b use distribution unauthorised medicinal product accordance article directive ec following receipt recommendation provided pursuant paragraph chmp shall adopt opinion conditions imposed use distribution medicinal product concerned patients targeted opinion shall updated necessary member states shall take account opinions referred paragraph article article directive ec applies use opinion preparation recommendations provided pursuant paragraphs etf may consult member state concerned request provide available information data member state used decision make medicinal product available compassionate use following request member state shall provide requested information data agency shall provide information public relevant interest groups regard work etf timely manner shall respond disinformation targeting work etf appropriate via dedicated webpage web portal appropriate means cooperation national competent authorities agency shall regularly publish web portal list members etf rules procedure referred article list medicinal products review well opinions adopted pursuant article preparation support work etf public health emergencies agency shall develop maintain tools including interoperable platform submission information data including electronic health data generated outside clinical studies facilitate interoperability existing tools tools development provide adequate support national competent authorities b coordinate independent monitoring studies use effectiveness safety medicinal products intended treat prevent diagnose diseases related public health emergency using relevant data including relevant data held public authorities c part regulatory tasks make use digital infrastructures tools order facilitate rapid access analysis available electronic health data generated outside clinical studies facilitate exchange data member states agency union bodies provide etf access external sources electronic health data agency access including health data generated outside clinical studies purposes first paragraph point b coordination regards vaccines shall conducted conjunction ecdc particular new vaccine monitoring platform executive steering group shortages medical devices ‘ medical device shortages steering group – mdssg ’ hereby established within agency mdssg shall responsible fulfilling tasks referred articles mdssg shall meet regularly also whenever situation requires either person remotely preparation public health emergency agency shall provide secretariat mdssg members mdssg shall consist representative agency representative commission one representative appointed member state representatives member states shall expertise field medical devices relevant representatives may representatives appointed medical devices coordination group established article regulation eu ‘ mdcg ’ appropriate members mdssg may accompanied meetings mdssg experts specific scientific technical fields list members mdssg shall published agency ’ web portal representative pcwp representative hcpwp may attend meetings mdssg observers mdssg shall cochaired representative agency one representatives member states shall elected among representatives member states mdssg cochairs mdssg initiative request one members mdssg may invite observers provide expert advice third parties including representatives medical device interest groups representatives manufacturers notified bodies relevant actor supply chain medical devices representatives healthcare professionals patients consumers attend meetings necessary mdssg shall establish rules procedure including procedures relating working party referred paragraph article procedures adoption lists referred article sets information recommendations referred article rules procedure referred first subparagraph shall enter force mdssg received favourable opinion commission management board agency mdssg shall supported work working party established accordance article working party referred first subparagraph shall consist representatives national competent authorities responsible shortage monitoring management medical devices shall single points contact relation shortages medical devices immediately following recognition public health emergency mdssg shall consult working party referred article immediately following consultation mdssg shall adopt list categories critical medical devices considers critical public health emergency ‘ public health emergency critical devices list ’ extent possible relevant information critical medical devices related manufacturers shall gathered eudamed fully functional information shall also gathered importers distributors appropriate eudamed fully functional available information may also gathered national databases available sources mdssg shall update public health emergency critical devices list whenever necessary termination recognition public health emergency purposes article mdssg shall adopt make publicly available set information referred article points b c necessary monitor supply demand medical devices included public health emergency critical devices list inform working party referred article set information agency shall publish dedicated webpage web portal public health emergency critical devices list well updates list b information actual shortages critical medical devices included public health emergency critical devices list public health emergency mdssg shall monitor supply demand medical devices included public health emergency critical devices list view identifying actual potential shortages medical devices mdssg shall conduct monitoring using public health emergency critical devices list information data provided accordance articles purposes monitoring referred first subparagraph paragraph relevant mdssg shall liaise mdcg hsc relevant advisory committee public health emergencies established pursuant union law purposes monitoring referred paragraph article mdssg may make use data device registries databases data available agency mdssg may take account data generated pursuant article regulation eu article regulation eu duration public health emergency mdssg shall regularly report results monitoring referred article commission single points contact referred article point particular shall signal actual potential shortages medical devices included public health emergency critical devices list requested commission member states one single point contact referred article point mdssg shall provide aggregated data demand forecasts support findings conclusions purposes first subparagraph mdssg shall liaise ecdc obtain epidemiological data help forecast medical device needs mssg medical devices included public health emergency critical devices list used jointly medicinal product findings conclusions mdssg referred first subparagraph may made available actors medical device sector appropriate accordance competition law view well preventing mitigating actual potential shortages part reporting referred paragraphs mdssg may provide recommendations measures commission member states medical device manufacturers notified bodies entities could take prevent mitigate actual potential shortages medical devices purposes first subparagraph mdssg shall liaise relevant mdcg hsc relevant advisory committee public health emergencies established pursuant union law mdssg initiative request commission may provide recommendations measures commission member states manufacturers medical devices notified bodies entities could take ensure preparedness dealing actual potential shortages medical devices caused public health emergencies requested commission mdssg may coordinate measures taken national competent authorities medical devices manufacturers medical devices notified bodies entities relevant prevent mitigate actual potential shortages medical devices context public health emergency major event order prepare fulfilment tasks referred articles agency shall specify procedures criteria establishing reviewing public health emergency critical devices list b develop streamlined monitoring reporting systems coordination relevant national competent authorities facilitate interoperability existing tools eudamed fully functional provide adequate support national competent authorities monitoring reporting c establish working party referred article ensure member state represented working party specify methods provision recommendations referred article coordination measures referred article purposes first subparagraph point mdcg representatives manufacturers relevant actors supply chain medical device sector representatives healthcare professionals patients consumers may consulted necessary following recognition public health emergency agency shall establish list single points contact manufacturers medical devices authorised representatives importers notified bodies medical devices included public health emergency critical devices list b maintain list single points contact referred point duration public health emergency c request relevant information medical devices included public health emergency critical devices list single points contact referred point basis set information adopted mdssg set deadline submission information request relevant information medical devices included public health emergency critical devices list single points contact referred article second subparagraph basis set information adopted mdssg accordance article set deadline submission information agency may use sources referred first subparagraph including existing databases databases development gather information required paragraph purposes first subparagraph point considered relevant national union databases including eudamed fully functional medical device associations may used sources information information referred paragraph point c shall include least name manufacturer medical device applicable name authorised representative b information identifying medical device intended purpose necessary specific characteristics medical device c applicable name number notified body information regarding relevant certificate certificates details actual potential shortage medical device actual estimated start end dates suspected known cause e sales market share data medical device f available stocks medical device g forecast supply medical device including information potential vulnerabilities supply chain h quantities already delivered projected deliveries medical device demand forecasts medical device j shortage prevention mitigation plans include minimum information production supply capacity k information relevant notified bodies regarding capacity process applications carry complete conformity assessments relation medical devices included public health emergency critical devices list within appropriate period time considering emergency l information number applications received relevant notified bodies relation medical devices included public health emergency critical devices list relevant conformity assessment procedures conformity assessments ongoing status conformity assessment relevant notified bodies relation medical devices included public health emergency critical devices list possible critical issues final outcome assessment need considered order complete conformity assessment process purposes first subparagraph point k relevant notified bodies shall communicate date assessment expected completed regard notified bodies shall prioritise conformity assessments medical devices included public health emergency critical devices list order facilitate monitoring referred article agency may request manufacturers medical devices authorised representatives applicable appropriate importers distributors included public health emergency critical devices list necessary relevant notified bodies submit information requested deadline set agency manufacturers medical devices authorised representatives applicable appropriate importers distributors referred first subparagraph shall submit requested information single points contact referred article point using monitoring reporting systems established pursuant article point b shall provide updates necessary manufacturers medical devices authorised representatives applicable notified bodies appropriate importers distributors shall justify failure provide requested information delays providing requested information deadline set agency manufacturers medical devices authorised representatives notified bodies appropriate importers distributors indicate information submitted contains information commercially confidential nature shall identify relevant parts information nature explain information commercially confidential nature agency shall assess merits indication information commercially confidential nature protect commercially confidential information unjustified disclosure manufacturers medical devices authorised representatives notified bodies appropriate importers distributors information addition required paragraph provides evidence actual potential shortage medical devices shall immediately provide information agency following reporting results monitoring referred article recommendations preventive mitigating measures provided accordance article manufacturers medical devices authorised representatives appropriate importers distributors referred paragraph shall provide comments agency b take account recommendations referred article guidelines referred article point b c comply measures taken union member state level pursuant article inform mdssg measures taken report results measures including providing information resolution actual potential shortage medical devices manufacturers medical devices referred paragraph established outside union information requested accordance article shall provided authorised representatives appropriate importers distributors order facilitate monitoring referred article agency may request member state submit set information referred article including available information needs related medical devices included public health emergency critical devices list available estimated data volume demand demand forecasts medical devices respective single point contact referred article point using monitoring reporting methods systems established pursuant article point b b indicate existence commercially confidential information explain information commercially confidential nature accordance article c indicate failure provide requested information whether delays providing information deadline set agency accordance article member states shall comply agency ’ request deadline set agency purposes paragraph member states shall gather information manufacturers medical devices authorised representatives healthcare providers importers distributors applicable notified bodies medical devices included public health emergency critical devices list member states information addition information provided accordance paragraphs article provides evidence actual potential shortage medical devices shall immediately provide information mdssg respective single point contact referred article point following reporting results monitoring referred article recommendations preventive mitigating measures provided accordance article member states shall consider need provide temporary exemptions member state level pursuant article regulation eu article regulation eu view mitigating actual potential shortages medical devices included public health emergency critical devices list ensuring high level patient product safety b take account recommendations referred article guidelines referred article point b coordinate actions relation actions taken union level pursuant article point c inform mdssg measures taken report results actions referred point b including providing information resolution actual potential shortage medical devices concerned purposes first subparagraph points b c member states take alternative course action national level shall share reasons mdssg recommendations guidelines actions referred first subparagraph point b paragraph summary report lessons learned shall made publicly available via web portal referred article commission shall take account information recommendations mdssg shall take necessary action within limits powers conferred commission view mitigating actual potential shortages medical devices included public health emergency critical devices list including necessary granting temporary exemptions union level pursuant article regulation eu article regulation eu respecting conditions set articles seeking ensure patient product safety b consider need guidelines recommendations addressed member states manufacturers medical devices notified bodies entities relevant c request mdssg provide recommendations coordinate measures provided article consider need medical countermeasures accordance decision eu applicable union law e liaise third countries relevant international organisations appropriate mitigate actual potential shortages medical devices included public health emergency critical devices list component parts devices parts devices imported union actual potential shortages international implications report related actions well results actions mdssg relevant agency shall provide information public relevant interest groups regard work mdssg timely manner shall respond disinformation targeting work mdssg appropriate via dedicated webpage web portal appropriate means cooperation national competent authorities proceedings mdssg shall transparent summaries agenda minutes meetings mdssg well rules procedure referred article recommendations referred article shall documented made publicly available dedicated webpage agency web portal rules procedure referred article allow members mdssg divergent opinions recorded mdssg shall make divergent opinions grounds based available national competent authorities request march behalf commission agency shall provide secretariat expert panels designated accordance article regulation eu ‘ expert panels ’ shall provide support necessary ensure expert panels efficiently perform tasks set article regulation agency shall provide administrative technical support expert panels provision scientific opinions views advice b facilitate manage remote physical meetings expert panels c ensure work expert panels carried independent manner accordance article second subparagraph article regulation eu systems procedures established commission pursuant regulation actively manage prevent potential conflicts interest accordance article third subparagraph regulation maintain regularly update webpage expert panels make necessary information already publicly available eudamed publicly available webpage order ensure transparency activities expert panels including providing justifications notified bodies bodies follow advice expert panels provided pursuant article regulation eu e publish scientific opinions views advice expert panels ensuring confidentiality accordance article second subparagraph article regulation eu f ensure remuneration expenses provided experts accordance implementing acts adopted commission pursuant article regulation eu g monitor compliance expert panels ’ common rules procedure available guidelines methodologies relevant functioning expert panels h provide annual reports commission mdcg work expert panels including information number opinions delivered views advice provided expert panels agency shall ensure mssg mdssg cooperate relation measures address public health emergencies major events members mssg mdssg members working parties referred article article point respectively may attend one another ’ meetings working parties appropriate cooperate monitoring exercises reporting preparation opinions agreement respective chairs cochairs joint meetings mssg mdssg may held relevant agency shall ensure etf expert panels cooperate relation preparedness management public health emergencies mssg mdssg shall carry activities independent impartial transparent manner members mssg mdssg relevant observers shall financial interests medicinal products industry medical devices industry could affect independence impartiality members mssg mdssg relevant observers shall make declaration financial interests shall update declarations interest annually whenever necessary declarations referred first subparagraph shall made publicly available agency ’ web portal members mssg mdssg relevant observers shall disclose facts become aware might reasonably expected good faith involve give rise conflict interest meeting members mssg mdssg relevant observers participate meetings mssg mdssg shall declare interests could considered prejudicial independence impartiality respect items agenda agency decides interest declared accordance paragraph constitutes conflict interest member observer concerned shall take part discussions decision making obtain information concerning item concern agenda declarations decisions agency referred paragraphs respectively shall recorded summary minutes meeting members mssg mdssg relevant observers shall subject requirement professional secrecy even duties ceased members etf shall update annual declaration financial interests provided article regulation ec whenever relevant change declaration occurs agency shall equip high level security controls processes cyber attacks cyber espionage data breaches ensure protection health data normal functioning agency times especially public health emergencies major events union level purposes first paragraph agency shall actively identify implement cybersecurity best practices adopted within union institutions bodies offices agencies preventing detecting mitigating responding cyber attacks unless otherwise provided regulation without prejudice regulation ec european parliament council directive eu european parliament council existing national provisions practices member states confidentiality parties involved application regulation shall respect confidentiality information data obtained carrying tasks order protect commercially confidential information trade secrets natural legal persons accordance directive eu european parliament council including intellectual property rights without prejudice paragraph parties involved application regulation shall ensure commercially confidential information shared way potential enable undertakings restrict distort competition within meaning article tfeu without prejudice paragraph information exchanged confidential basis national competent authorities national competent authorities commission agency shall disclosed without prior agreement authority information originates paragraphs affect rights obligations commission agency member states actors identified regulation regard exchange information dissemination warnings affect obligations persons concerned provide information criminal law commission agency member states may exchange commercially confidential information regulatory authorities third countries concluded bilateral multilateral confidentiality arrangements transfers personal data regulation shall subject regulations eu eu applicable regards transfers personal data third country absence adequacy decision appropriate safeguards referred article regulation eu article regulation eu respectively commission agency member states may carry certain transfers personal data regulatory authorities third countries put place confidentiality arrangements transfers necessary important reasons public interest protection public health transfers shall made conformity conditions laid article regulation eu article regulation eu december every fourth year thereafter commission shall present report european parliament council application regulation particular report shall review crisis preparedness management framework medicinal products medical devices including outcomes periodic stress tests b instances noncompliance obligations set articles marketing authorisation holders manufacturers medical devices authorised representatives importers distributors notified bodies c remit functioning esmp notwithstanding paragraph following public health emergency major event commission shall present timely manner report european parliament council instances referred paragraph point b based report referred paragraph commission shall appropriate present legislative proposal order amend regulation particular commission shall consider need extending scope regulation veterinary medicinal products personal protective equipment medical use b amending article c introducing measures strengthen union national level compliance obligations established articles expanding remit esmp need facilitating esmp interoperability national union systems need national shortage monitoring platforms need meeting additional requirements address structural shortages medicinal products may introduced context revision directive ec regulation ec union shall provide financing agency ’ activities support work mssg mdssg etf working parties referred article article point c expert panels involve cooperation commission ecdc union ’ financial assistance activities regulation shall implemented accordance regulation eu euratom european parliament council agency shall remunerate assessment activities rapporteurs relation etf regulation addition reimbursing expenses incurred member states ’ representatives experts relation meetings mssg mdssg etf working parties referred article article accordance financial arrangements established management board agency remuneration shall paid relevant national competent authorities union contribution provided article regulation ec shall cover tasks agency provided regulation shall cover full amount remuneration paid national competent authorities medicinal products fee exemptions apply accordance council regulation ec regulation shall enter force day following publication official journal european union shall apply march however exception article chapter iv shall apply february regulation shall binding entirety directly applicable member states done brussels january'"
      ]
     },
     "execution_count": 13,
     "metadata": {},
     "output_type": "execute_result"
    }
   ],
   "source": [
    "clean_txt[0]"
   ]
  },
  {
   "cell_type": "code",
   "execution_count": 10,
   "id": "abf066d5",
   "metadata": {},
   "outputs": [],
   "source": [
    "# bigram vectorization\n",
    "\n",
    "vectorizer_n_gram = TfidfVectorizer(ngram_range = (1,1)) # BI-GRAMS\n",
    "cleaned_vectorizer_n_gram = vectorizer_n_gram.fit_transform(clean_txt)"
   ]
  },
  {
   "cell_type": "code",
   "execution_count": 11,
   "id": "bcf39f21",
   "metadata": {},
   "outputs": [],
   "source": [
    "from sklearn.feature_extraction.text import TfidfVectorizer\n",
    "\n",
    "df = pd.DataFrame(cleaned_vectorizer_n_gram.toarray(), columns=vectorizer_n_gram.get_feature_names_out())\n"
   ]
  },
  {
   "cell_type": "code",
   "execution_count": 12,
   "id": "ff717848",
   "metadata": {},
   "outputs": [
    {
     "data": {
      "text/html": [
       "<div>\n",
       "<style scoped>\n",
       "    .dataframe tbody tr th:only-of-type {\n",
       "        vertical-align: middle;\n",
       "    }\n",
       "\n",
       "    .dataframe tbody tr th {\n",
       "        vertical-align: top;\n",
       "    }\n",
       "\n",
       "    .dataframe thead th {\n",
       "        text-align: right;\n",
       "    }\n",
       "</style>\n",
       "<table border=\"1\" class=\"dataframe\">\n",
       "  <thead>\n",
       "    <tr style=\"text-align: right;\">\n",
       "      <th></th>\n",
       "      <th>aa</th>\n",
       "      <th>ab</th>\n",
       "      <th>abandoned</th>\n",
       "      <th>abeyance</th>\n",
       "      <th>ability</th>\n",
       "      <th>able</th>\n",
       "      <th>abnormal</th>\n",
       "      <th>abnormally</th>\n",
       "      <th>abovementioned</th>\n",
       "      <th>abroad</th>\n",
       "      <th>...</th>\n",
       "      <th>york</th>\n",
       "      <th>young</th>\n",
       "      <th>youth</th>\n",
       "      <th>zagreb</th>\n",
       "      <th>zero</th>\n",
       "      <th>zone</th>\n",
       "      <th>zones</th>\n",
       "      <th>zoonoses</th>\n",
       "      <th>zoonotic</th>\n",
       "      <th>μgm</th>\n",
       "    </tr>\n",
       "  </thead>\n",
       "  <tbody>\n",
       "    <tr>\n",
       "      <th>0</th>\n",
       "      <td>0.000000</td>\n",
       "      <td>0.000000</td>\n",
       "      <td>0.0</td>\n",
       "      <td>0.0</td>\n",
       "      <td>0.002509</td>\n",
       "      <td>0.007700</td>\n",
       "      <td>0.000000</td>\n",
       "      <td>0.00000</td>\n",
       "      <td>0.0</td>\n",
       "      <td>0.0</td>\n",
       "      <td>...</td>\n",
       "      <td>0.000000</td>\n",
       "      <td>0.000000</td>\n",
       "      <td>0.000000</td>\n",
       "      <td>0.0</td>\n",
       "      <td>0.000000</td>\n",
       "      <td>0.0</td>\n",
       "      <td>0.000000</td>\n",
       "      <td>0.007241</td>\n",
       "      <td>0.002414</td>\n",
       "      <td>0.0</td>\n",
       "    </tr>\n",
       "    <tr>\n",
       "      <th>1</th>\n",
       "      <td>0.002244</td>\n",
       "      <td>0.002244</td>\n",
       "      <td>0.0</td>\n",
       "      <td>0.0</td>\n",
       "      <td>0.000000</td>\n",
       "      <td>0.016109</td>\n",
       "      <td>0.000000</td>\n",
       "      <td>0.00000</td>\n",
       "      <td>0.0</td>\n",
       "      <td>0.0</td>\n",
       "      <td>...</td>\n",
       "      <td>0.003945</td>\n",
       "      <td>0.000000</td>\n",
       "      <td>0.000000</td>\n",
       "      <td>0.0</td>\n",
       "      <td>0.000000</td>\n",
       "      <td>0.0</td>\n",
       "      <td>0.000000</td>\n",
       "      <td>0.000000</td>\n",
       "      <td>0.000000</td>\n",
       "      <td>0.0</td>\n",
       "    </tr>\n",
       "    <tr>\n",
       "      <th>2</th>\n",
       "      <td>0.000000</td>\n",
       "      <td>0.000000</td>\n",
       "      <td>0.0</td>\n",
       "      <td>0.0</td>\n",
       "      <td>0.000000</td>\n",
       "      <td>0.008168</td>\n",
       "      <td>0.000000</td>\n",
       "      <td>0.00000</td>\n",
       "      <td>0.0</td>\n",
       "      <td>0.0</td>\n",
       "      <td>...</td>\n",
       "      <td>0.000000</td>\n",
       "      <td>0.000000</td>\n",
       "      <td>0.000000</td>\n",
       "      <td>0.0</td>\n",
       "      <td>0.000000</td>\n",
       "      <td>0.0</td>\n",
       "      <td>0.000000</td>\n",
       "      <td>0.000000</td>\n",
       "      <td>0.000000</td>\n",
       "      <td>0.0</td>\n",
       "    </tr>\n",
       "    <tr>\n",
       "      <th>3</th>\n",
       "      <td>0.000000</td>\n",
       "      <td>0.000000</td>\n",
       "      <td>0.0</td>\n",
       "      <td>0.0</td>\n",
       "      <td>0.000000</td>\n",
       "      <td>0.007169</td>\n",
       "      <td>0.000000</td>\n",
       "      <td>0.00000</td>\n",
       "      <td>0.0</td>\n",
       "      <td>0.0</td>\n",
       "      <td>...</td>\n",
       "      <td>0.000000</td>\n",
       "      <td>0.041537</td>\n",
       "      <td>0.000816</td>\n",
       "      <td>0.0</td>\n",
       "      <td>0.000659</td>\n",
       "      <td>0.0</td>\n",
       "      <td>0.000891</td>\n",
       "      <td>0.000000</td>\n",
       "      <td>0.000000</td>\n",
       "      <td>0.0</td>\n",
       "    </tr>\n",
       "    <tr>\n",
       "      <th>4</th>\n",
       "      <td>0.000000</td>\n",
       "      <td>0.000000</td>\n",
       "      <td>0.0</td>\n",
       "      <td>0.0</td>\n",
       "      <td>0.000000</td>\n",
       "      <td>0.012245</td>\n",
       "      <td>0.002193</td>\n",
       "      <td>0.00658</td>\n",
       "      <td>0.0</td>\n",
       "      <td>0.0</td>\n",
       "      <td>...</td>\n",
       "      <td>0.000000</td>\n",
       "      <td>0.000000</td>\n",
       "      <td>0.000000</td>\n",
       "      <td>0.0</td>\n",
       "      <td>0.000000</td>\n",
       "      <td>0.0</td>\n",
       "      <td>0.003479</td>\n",
       "      <td>0.000000</td>\n",
       "      <td>0.000000</td>\n",
       "      <td>0.0</td>\n",
       "    </tr>\n",
       "  </tbody>\n",
       "</table>\n",
       "<p>5 rows × 6778 columns</p>\n",
       "</div>"
      ],
      "text/plain": [
       "         aa        ab  abandoned  abeyance   ability      able  abnormal  \\\n",
       "0  0.000000  0.000000        0.0       0.0  0.002509  0.007700  0.000000   \n",
       "1  0.002244  0.002244        0.0       0.0  0.000000  0.016109  0.000000   \n",
       "2  0.000000  0.000000        0.0       0.0  0.000000  0.008168  0.000000   \n",
       "3  0.000000  0.000000        0.0       0.0  0.000000  0.007169  0.000000   \n",
       "4  0.000000  0.000000        0.0       0.0  0.000000  0.012245  0.002193   \n",
       "\n",
       "   abnormally  abovementioned  abroad  ...      york     young     youth  \\\n",
       "0     0.00000             0.0     0.0  ...  0.000000  0.000000  0.000000   \n",
       "1     0.00000             0.0     0.0  ...  0.003945  0.000000  0.000000   \n",
       "2     0.00000             0.0     0.0  ...  0.000000  0.000000  0.000000   \n",
       "3     0.00000             0.0     0.0  ...  0.000000  0.041537  0.000816   \n",
       "4     0.00658             0.0     0.0  ...  0.000000  0.000000  0.000000   \n",
       "\n",
       "   zagreb      zero  zone     zones  zoonoses  zoonotic  μgm  \n",
       "0     0.0  0.000000   0.0  0.000000  0.007241  0.002414  0.0  \n",
       "1     0.0  0.000000   0.0  0.000000  0.000000  0.000000  0.0  \n",
       "2     0.0  0.000000   0.0  0.000000  0.000000  0.000000  0.0  \n",
       "3     0.0  0.000659   0.0  0.000891  0.000000  0.000000  0.0  \n",
       "4     0.0  0.000000   0.0  0.003479  0.000000  0.000000  0.0  \n",
       "\n",
       "[5 rows x 6778 columns]"
      ]
     },
     "execution_count": 12,
     "metadata": {},
     "output_type": "execute_result"
    }
   ],
   "source": [
    "df.head()"
   ]
  },
  {
   "cell_type": "code",
   "execution_count": 16,
   "id": "c1b6c3ee",
   "metadata": {},
   "outputs": [],
   "source": [
    "#Topic model function from ML-10-lecture\n",
    "def print_topics(model, vectorizer, top_words):\n",
    "    for idx, topic in enumerate(model.components_):\n",
    "        print(\"-\"*20)\n",
    "        print(\"Topic %d:\" % (idx))\n",
    "        print([(vectorizer_n_gram.get_feature_names_out()[i], round(topic[i],2))\n",
    "                        for i in topic.argsort()[:-top_words - 1:-1]])"
   ]
  },
  {
   "cell_type": "code",
   "execution_count": 14,
   "id": "6d4ad6e1",
   "metadata": {},
   "outputs": [
    {
     "data": {
      "text/html": [
       "<style>#sk-container-id-1 {color: black;background-color: white;}#sk-container-id-1 pre{padding: 0;}#sk-container-id-1 div.sk-toggleable {background-color: white;}#sk-container-id-1 label.sk-toggleable__label {cursor: pointer;display: block;width: 100%;margin-bottom: 0;padding: 0.3em;box-sizing: border-box;text-align: center;}#sk-container-id-1 label.sk-toggleable__label-arrow:before {content: \"▸\";float: left;margin-right: 0.25em;color: #696969;}#sk-container-id-1 label.sk-toggleable__label-arrow:hover:before {color: black;}#sk-container-id-1 div.sk-estimator:hover label.sk-toggleable__label-arrow:before {color: black;}#sk-container-id-1 div.sk-toggleable__content {max-height: 0;max-width: 0;overflow: hidden;text-align: left;background-color: #f0f8ff;}#sk-container-id-1 div.sk-toggleable__content pre {margin: 0.2em;color: black;border-radius: 0.25em;background-color: #f0f8ff;}#sk-container-id-1 input.sk-toggleable__control:checked~div.sk-toggleable__content {max-height: 200px;max-width: 100%;overflow: auto;}#sk-container-id-1 input.sk-toggleable__control:checked~label.sk-toggleable__label-arrow:before {content: \"▾\";}#sk-container-id-1 div.sk-estimator input.sk-toggleable__control:checked~label.sk-toggleable__label {background-color: #d4ebff;}#sk-container-id-1 div.sk-label input.sk-toggleable__control:checked~label.sk-toggleable__label {background-color: #d4ebff;}#sk-container-id-1 input.sk-hidden--visually {border: 0;clip: rect(1px 1px 1px 1px);clip: rect(1px, 1px, 1px, 1px);height: 1px;margin: -1px;overflow: hidden;padding: 0;position: absolute;width: 1px;}#sk-container-id-1 div.sk-estimator {font-family: monospace;background-color: #f0f8ff;border: 1px dotted black;border-radius: 0.25em;box-sizing: border-box;margin-bottom: 0.5em;}#sk-container-id-1 div.sk-estimator:hover {background-color: #d4ebff;}#sk-container-id-1 div.sk-parallel-item::after {content: \"\";width: 100%;border-bottom: 1px solid gray;flex-grow: 1;}#sk-container-id-1 div.sk-label:hover label.sk-toggleable__label {background-color: #d4ebff;}#sk-container-id-1 div.sk-serial::before {content: \"\";position: absolute;border-left: 1px solid gray;box-sizing: border-box;top: 0;bottom: 0;left: 50%;z-index: 0;}#sk-container-id-1 div.sk-serial {display: flex;flex-direction: column;align-items: center;background-color: white;padding-right: 0.2em;padding-left: 0.2em;position: relative;}#sk-container-id-1 div.sk-item {position: relative;z-index: 1;}#sk-container-id-1 div.sk-parallel {display: flex;align-items: stretch;justify-content: center;background-color: white;position: relative;}#sk-container-id-1 div.sk-item::before, #sk-container-id-1 div.sk-parallel-item::before {content: \"\";position: absolute;border-left: 1px solid gray;box-sizing: border-box;top: 0;bottom: 0;left: 50%;z-index: -1;}#sk-container-id-1 div.sk-parallel-item {display: flex;flex-direction: column;z-index: 1;position: relative;background-color: white;}#sk-container-id-1 div.sk-parallel-item:first-child::after {align-self: flex-end;width: 50%;}#sk-container-id-1 div.sk-parallel-item:last-child::after {align-self: flex-start;width: 50%;}#sk-container-id-1 div.sk-parallel-item:only-child::after {width: 0;}#sk-container-id-1 div.sk-dashed-wrapped {border: 1px dashed gray;margin: 0 0.4em 0.5em 0.4em;box-sizing: border-box;padding-bottom: 0.4em;background-color: white;}#sk-container-id-1 div.sk-label label {font-family: monospace;font-weight: bold;display: inline-block;line-height: 1.2em;}#sk-container-id-1 div.sk-label-container {text-align: center;}#sk-container-id-1 div.sk-container {/* jupyter's `normalize.less` sets `[hidden] { display: none; }` but bootstrap.min.css set `[hidden] { display: none !important; }` so we also need the `!important` here to be able to override the default hidden behavior on the sphinx rendered scikit-learn.org. See: https://github.com/scikit-learn/scikit-learn/issues/21755 */display: inline-block !important;position: relative;}#sk-container-id-1 div.sk-text-repr-fallback {display: none;}</style><div id=\"sk-container-id-1\" class=\"sk-top-container\"><div class=\"sk-text-repr-fallback\"><pre>LatentDirichletAllocation(max_iter=100, n_components=2)</pre><b>In a Jupyter environment, please rerun this cell to show the HTML representation or trust the notebook. <br />On GitHub, the HTML representation is unable to render, please try loading this page with nbviewer.org.</b></div><div class=\"sk-container\" hidden><div class=\"sk-item\"><div class=\"sk-estimator sk-toggleable\"><input class=\"sk-toggleable__control sk-hidden--visually\" id=\"sk-estimator-id-1\" type=\"checkbox\" checked><label for=\"sk-estimator-id-1\" class=\"sk-toggleable__label sk-toggleable__label-arrow\">LatentDirichletAllocation</label><div class=\"sk-toggleable__content\"><pre>LatentDirichletAllocation(max_iter=100, n_components=2)</pre></div></div></div></div></div>"
      ],
      "text/plain": [
       "LatentDirichletAllocation(max_iter=100, n_components=2)"
      ]
     },
     "execution_count": 14,
     "metadata": {},
     "output_type": "execute_result"
    }
   ],
   "source": [
    "# Instantiating the LDA \n",
    "n_components = 2\n",
    "lda_model = LatentDirichletAllocation(n_components=n_components, max_iter = 100)\n",
    "\n",
    "# Fitting the LDA on the vectorized documents\n",
    "lda_model.fit(df)"
   ]
  },
  {
   "cell_type": "code",
   "execution_count": 20,
   "id": "c0b62d5e",
   "metadata": {},
   "outputs": [
    {
     "name": "stdout",
     "output_type": "stream",
     "text": [
      "--------------------\n",
      "Topic 0:\n",
      "[('species', 0.5), ('variety', 0.5), ('plant', 0.5), ('woody', 0.5), ('varieties', 0.5), ('currency', 0.5), ('service', 0.5), ('provider', 0.5), ('payer', 0.5), ('payment', 0.5)]\n",
      "--------------------\n",
      "Topic 1:\n",
      "[('shall', 4.53), ('article', 3.96), ('regulation', 3.86), ('union', 3.36), ('member', 3.25), ('commission', 2.54), ('eu', 2.31), ('states', 2.29), ('support', 2.19), ('referred', 2.15)]\n"
     ]
    }
   ],
   "source": [
    "print_topics(lda_model, cleaned_vectorizer_n_gram, top_words=10)"
   ]
  },
  {
   "cell_type": "code",
   "execution_count": 28,
   "id": "9e31fd7a",
   "metadata": {},
   "outputs": [],
   "source": [
    "#Grid-Search\n",
    "\n",
    "# Instantiating the LDA\n",
    "lda = LatentDirichletAllocation()\n",
    "\n",
    "# Hyperparameter Grid\n",
    "search_params = {'n_components': [2, 4, 6, 8, 10, 12, 14], \n",
    "                 'learning_decay': [.5, .7, .9]}\n",
    "\n",
    "# Init the Model\n",
    "\n",
    "# Init Grid Search Class\n",
    "model = GridSearchCV(lda, param_grid=search_params)\n",
    "\n",
    "\n",
    "# Instanciate Grid Search\n",
    "g_search = GridSearchCV(lda_model, grid) \n",
    "\n",
    "\n",
    "# Getting topics\n",
    "topics = g_search.fit(df)"
   ]
  },
  {
   "cell_type": "code",
   "execution_count": 29,
   "id": "b77ded23",
   "metadata": {},
   "outputs": [
    {
     "data": {
      "text/plain": [
       "-1148.7429999909305"
      ]
     },
     "execution_count": 29,
     "metadata": {},
     "output_type": "execute_result"
    }
   ],
   "source": [
    "# Best score\n",
    "g_search.best_score_"
   ]
  },
  {
   "cell_type": "code",
   "execution_count": 30,
   "id": "07de1850",
   "metadata": {},
   "outputs": [
    {
     "data": {
      "text/plain": [
       "{'learning_decay': 0.5, 'n_components': 10}"
      ]
     },
     "execution_count": 30,
     "metadata": {},
     "output_type": "execute_result"
    }
   ],
   "source": [
    "# Best Params\n",
    "g_search.best_params_"
   ]
  },
  {
   "cell_type": "code",
   "execution_count": 31,
   "id": "139d307e",
   "metadata": {},
   "outputs": [
    {
     "data": {
      "text/html": [
       "<style>#sk-container-id-3 {color: black;background-color: white;}#sk-container-id-3 pre{padding: 0;}#sk-container-id-3 div.sk-toggleable {background-color: white;}#sk-container-id-3 label.sk-toggleable__label {cursor: pointer;display: block;width: 100%;margin-bottom: 0;padding: 0.3em;box-sizing: border-box;text-align: center;}#sk-container-id-3 label.sk-toggleable__label-arrow:before {content: \"▸\";float: left;margin-right: 0.25em;color: #696969;}#sk-container-id-3 label.sk-toggleable__label-arrow:hover:before {color: black;}#sk-container-id-3 div.sk-estimator:hover label.sk-toggleable__label-arrow:before {color: black;}#sk-container-id-3 div.sk-toggleable__content {max-height: 0;max-width: 0;overflow: hidden;text-align: left;background-color: #f0f8ff;}#sk-container-id-3 div.sk-toggleable__content pre {margin: 0.2em;color: black;border-radius: 0.25em;background-color: #f0f8ff;}#sk-container-id-3 input.sk-toggleable__control:checked~div.sk-toggleable__content {max-height: 200px;max-width: 100%;overflow: auto;}#sk-container-id-3 input.sk-toggleable__control:checked~label.sk-toggleable__label-arrow:before {content: \"▾\";}#sk-container-id-3 div.sk-estimator input.sk-toggleable__control:checked~label.sk-toggleable__label {background-color: #d4ebff;}#sk-container-id-3 div.sk-label input.sk-toggleable__control:checked~label.sk-toggleable__label {background-color: #d4ebff;}#sk-container-id-3 input.sk-hidden--visually {border: 0;clip: rect(1px 1px 1px 1px);clip: rect(1px, 1px, 1px, 1px);height: 1px;margin: -1px;overflow: hidden;padding: 0;position: absolute;width: 1px;}#sk-container-id-3 div.sk-estimator {font-family: monospace;background-color: #f0f8ff;border: 1px dotted black;border-radius: 0.25em;box-sizing: border-box;margin-bottom: 0.5em;}#sk-container-id-3 div.sk-estimator:hover {background-color: #d4ebff;}#sk-container-id-3 div.sk-parallel-item::after {content: \"\";width: 100%;border-bottom: 1px solid gray;flex-grow: 1;}#sk-container-id-3 div.sk-label:hover label.sk-toggleable__label {background-color: #d4ebff;}#sk-container-id-3 div.sk-serial::before {content: \"\";position: absolute;border-left: 1px solid gray;box-sizing: border-box;top: 0;bottom: 0;left: 50%;z-index: 0;}#sk-container-id-3 div.sk-serial {display: flex;flex-direction: column;align-items: center;background-color: white;padding-right: 0.2em;padding-left: 0.2em;position: relative;}#sk-container-id-3 div.sk-item {position: relative;z-index: 1;}#sk-container-id-3 div.sk-parallel {display: flex;align-items: stretch;justify-content: center;background-color: white;position: relative;}#sk-container-id-3 div.sk-item::before, #sk-container-id-3 div.sk-parallel-item::before {content: \"\";position: absolute;border-left: 1px solid gray;box-sizing: border-box;top: 0;bottom: 0;left: 50%;z-index: -1;}#sk-container-id-3 div.sk-parallel-item {display: flex;flex-direction: column;z-index: 1;position: relative;background-color: white;}#sk-container-id-3 div.sk-parallel-item:first-child::after {align-self: flex-end;width: 50%;}#sk-container-id-3 div.sk-parallel-item:last-child::after {align-self: flex-start;width: 50%;}#sk-container-id-3 div.sk-parallel-item:only-child::after {width: 0;}#sk-container-id-3 div.sk-dashed-wrapped {border: 1px dashed gray;margin: 0 0.4em 0.5em 0.4em;box-sizing: border-box;padding-bottom: 0.4em;background-color: white;}#sk-container-id-3 div.sk-label label {font-family: monospace;font-weight: bold;display: inline-block;line-height: 1.2em;}#sk-container-id-3 div.sk-label-container {text-align: center;}#sk-container-id-3 div.sk-container {/* jupyter's `normalize.less` sets `[hidden] { display: none; }` but bootstrap.min.css set `[hidden] { display: none !important; }` so we also need the `!important` here to be able to override the default hidden behavior on the sphinx rendered scikit-learn.org. See: https://github.com/scikit-learn/scikit-learn/issues/21755 */display: inline-block !important;position: relative;}#sk-container-id-3 div.sk-text-repr-fallback {display: none;}</style><div id=\"sk-container-id-3\" class=\"sk-top-container\"><div class=\"sk-text-repr-fallback\"><pre>LatentDirichletAllocation(learning_decay=0.5)</pre><b>In a Jupyter environment, please rerun this cell to show the HTML representation or trust the notebook. <br />On GitHub, the HTML representation is unable to render, please try loading this page with nbviewer.org.</b></div><div class=\"sk-container\" hidden><div class=\"sk-item\"><div class=\"sk-estimator sk-toggleable\"><input class=\"sk-toggleable__control sk-hidden--visually\" id=\"sk-estimator-id-3\" type=\"checkbox\" checked><label for=\"sk-estimator-id-3\" class=\"sk-toggleable__label sk-toggleable__label-arrow\">LatentDirichletAllocation</label><div class=\"sk-toggleable__content\"><pre>LatentDirichletAllocation(learning_decay=0.5)</pre></div></div></div></div></div>"
      ],
      "text/plain": [
       "LatentDirichletAllocation(learning_decay=0.5)"
      ]
     },
     "execution_count": 31,
     "metadata": {},
     "output_type": "execute_result"
    }
   ],
   "source": [
    "# Best estimator\n",
    "g_search.best_estimator_"
   ]
  },
  {
   "cell_type": "code",
   "execution_count": 32,
   "id": "bc0aea23",
   "metadata": {},
   "outputs": [
    {
     "name": "stdout",
     "output_type": "stream",
     "text": [
      "--------------------\n",
      "Topic 0:\n",
      "[('shall', 4.14), ('article', 3.56), ('regulation', 3.46), ('union', 2.97), ('member', 2.86), ('commission', 2.14), ('eu', 1.91), ('states', 1.89)]\n",
      "--------------------\n",
      "Topic 1:\n",
      "[('card', 0.1), ('markup', 0.1), ('broadly', 0.1), ('larger', 0.1), ('complex', 0.1), ('comprehensible', 0.1), ('messages', 0.1), ('message', 0.1)]\n",
      "--------------------\n",
      "Topic 2:\n",
      "[('medicinal', 0.61), ('species', 0.56), ('variety', 0.49), ('plant', 0.48), ('woody', 0.42), ('varieties', 0.38), ('mssg', 0.33), ('shortages', 0.29)]\n",
      "--------------------\n",
      "Topic 3:\n",
      "[('card', 0.1), ('markup', 0.1), ('broadly', 0.1), ('larger', 0.1), ('complex', 0.1), ('comprehensible', 0.1), ('messages', 0.1), ('message', 0.1)]\n",
      "--------------------\n",
      "Topic 4:\n",
      "[('abuse', 0.61), ('sexual', 0.5), ('currency', 0.47), ('service', 0.45), ('child', 0.43), ('provider', 0.43), ('payer', 0.39), ('online', 0.35)]\n",
      "--------------------\n",
      "Topic 5:\n",
      "[('card', 0.1), ('markup', 0.1), ('broadly', 0.1), ('larger', 0.1), ('complex', 0.1), ('comprehensible', 0.1), ('messages', 0.1), ('message', 0.1)]\n",
      "--------------------\n",
      "Topic 6:\n",
      "[('card', 0.1), ('markup', 0.1), ('broadly', 0.1), ('larger', 0.1), ('complex', 0.1), ('comprehensible', 0.1), ('messages', 0.1), ('message', 0.1)]\n",
      "--------------------\n",
      "Topic 7:\n",
      "[('clinical', 0.63), ('hta', 0.29), ('medicinal', 0.24), ('developer', 0.13), ('devices', 0.11), ('medical', 0.11), ('timeframes', 0.1), ('pricing', 0.1)]\n",
      "--------------------\n",
      "Topic 8:\n",
      "[('card', 0.1), ('markup', 0.1), ('broadly', 0.1), ('larger', 0.1), ('complex', 0.1), ('comprehensible', 0.1), ('messages', 0.1), ('message', 0.1)]\n",
      "--------------------\n",
      "Topic 9:\n",
      "[('card', 0.1), ('markup', 0.1), ('broadly', 0.1), ('larger', 0.1), ('complex', 0.1), ('comprehensible', 0.1), ('messages', 0.1), ('message', 0.1)]\n"
     ]
    }
   ],
   "source": [
    "#Printing topics\n",
    "\n",
    "print_topics(g_search.best_estimator_, cleaned_vectorizer_n_gram, top_words = 8)"
   ]
  },
  {
   "cell_type": "code",
   "execution_count": null,
   "id": "e85f0f5b",
   "metadata": {},
   "outputs": [],
   "source": []
  }
 ],
 "metadata": {
  "kernelspec": {
   "display_name": "Python 3 (ipykernel)",
   "language": "python",
   "name": "python3"
  },
  "language_info": {
   "codemirror_mode": {
    "name": "ipython",
    "version": 3
   },
   "file_extension": ".py",
   "mimetype": "text/x-python",
   "name": "python",
   "nbconvert_exporter": "python",
   "pygments_lexer": "ipython3",
   "version": "3.8.13"
  },
  "toc": {
   "base_numbering": 1,
   "nav_menu": {},
   "number_sections": true,
   "sideBar": true,
   "skip_h1_title": false,
   "title_cell": "Table of Contents",
   "title_sidebar": "Contents",
   "toc_cell": false,
   "toc_position": {},
   "toc_section_display": true,
   "toc_window_display": false
  }
 },
 "nbformat": 4,
 "nbformat_minor": 5
}
