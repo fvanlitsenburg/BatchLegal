{
 "cells": [
  {
   "cell_type": "code",
   "execution_count": null,
   "id": "840c4eaa",
   "metadata": {},
   "outputs": [],
   "source": [
    "!pip install requests --quiet\n",
    "!pip install beautifulsoup4 --quiet\n",
    "!pip install pandas --quiet\n",
    "!pip install datetime --quiet"
   ]
  },
  {
   "cell_type": "markdown",
   "id": "1a54e395",
   "metadata": {},
   "source": [
    "**Imports**"
   ]
  },
  {
   "cell_type": "code",
   "execution_count": null,
   "id": "3d6011c9",
   "metadata": {},
   "outputs": [],
   "source": [
    "import pandas as pd\n",
    "import numpy as np\n",
    "import requests\n",
    "import datetime\n",
    "from bs4 import BeautifulSoup"
   ]
  },
  {
   "cell_type": "markdown",
   "id": "4d702e6d",
   "metadata": {},
   "source": [
    "**Functions**"
   ]
  },
  {
   "cell_type": "code",
   "execution_count": null,
   "id": "56762f12",
   "metadata": {},
   "outputs": [],
   "source": [
    "def read_metadata(filename):\n",
    "    data = pd.read_csv(filename).drop(columns = 'Unnamed: 0')\n",
    "    data['Content'] = None\n",
    "    return data\n",
    "\n",
    "def get_url(cellar_ref, doctype=\"03\"):\n",
    "    psid = cellar_ref\n",
    "    psname = \"cellar\" # other options: cellar, celex, oj...\n",
    "    lancode = \"0006\" # language code\n",
    "    doctype = doctype # default: 03\n",
    "    docnum = \"DOC_1\"\n",
    "    # for further information, see Documentation Page 37: https://op.europa.eu/en/publication-detail/-/publication/50ecce27-857e-11e8-ac6a-01aa75ed71a1/language-en/format-PDF/source-73059305\n",
    "    return f\"http://publications.europa.eu/resource/{psname}/{psid}.{lancode}.{doctype}/{docnum}\"\n",
    "\n",
    "def get_content(URL):\n",
    "    response = requests.get(URL, headers={\"Accept-Language\":\"en-US\"})\n",
    "    # one minor bug still in there: some requests (for example number 58 in 20220601_larger_data_b) are a valid request but have to download many mb first. the solution would be to stop the request.get if it runs longer than x seconds\n",
    "    try:\n",
    "        soup = BeautifulSoup(response.content, \"html.parser\")\n",
    "        if str(soup)[1:4] == \"PDF\":\n",
    "            print(\"pdf detected, but fixed\")\n",
    "            '''\n",
    "            in some (few) cases, the doctype is not 03 but 02. change it for these cases\n",
    "            '''\n",
    "            URL = URL[:-8] + '02' + URL[-6:]\n",
    "            response = requests.get(URL, headers={\"Accept-Language\":\"en-US\"})\n",
    "            soup = BeautifulSoup(response.content, \"html.parser\")\n",
    "        else:\n",
    "            print(\"no problem here\")\n",
    "    except:\n",
    "        '''\n",
    "        in case there is an error\n",
    "        '''\n",
    "        print(\"yes problem here\")\n",
    "        URL = URL[:-8] + '02' + URL[-6:]\n",
    "        response = requests.get(URL, headers={\"Accept-Language\":\"en-US\"})\n",
    "        soup = BeautifulSoup(response.content, \"html.parser\")\n",
    "        \n",
    "    if soup.find(\"p\", class_=\"oj-normal\") == None:\n",
    "        content = ' '.join([item.text for item in soup.find_all(\"p\", class_=\"normal\")])\n",
    "    else:\n",
    "        content = ' '.join([item.text for item in soup.find_all(\"p\", class_=\"oj-normal\")])\n",
    "    return content #.split('Whereas:', 1)[1] # only return text without the head\n",
    "\n",
    "def get_all_content(data):\n",
    "    cellar_references = data['cellar']    \n",
    "    for index, ref in enumerate(cellar_references):\n",
    "        data.loc[index, 'Content'] = get_content(get_url(ref))\n",
    "        print(f'Row {index} with cellar-number {ref} done')\n",
    "    return data"
   ]
  },
  {
   "cell_type": "markdown",
   "id": "f99a5c0a",
   "metadata": {},
   "source": [
    "**Workflow**"
   ]
  },
  {
   "cell_type": "code",
   "execution_count": null,
   "id": "c38ce720",
   "metadata": {},
   "outputs": [],
   "source": [
    "%%time\n",
    "#retrieve metadata\n",
    "filename = \"../raw_data/20220601_larger_data_b.csv\"\n",
    "metadata = read_metadata(filename)\n",
    "\n",
    "# subset metadata (for easier processing at the beginning)\n",
    "#metadata_subset = metadata.iloc[40:70]\n",
    "\n",
    "# get content\n",
    "metadata_with_content = get_all_content(metadata)\n",
    "#metadata_with_content[metadata_with_content['Content'] == \"\"]\n",
    "\n",
    "# remove rows that didn't work at the beginning\n",
    "#data_with_content_subset = data_with_content[data_with_content['Content'] != \"\"].reset_index().drop(columns = \"index\")\n",
    "\n",
    "# content nachträglich splitten?\n",
    "\n",
    "# export data to csv\n",
    "#data_b_with_content.to_csv(\"../raw_data/20220601_larger_data_b_scraped.csv\")"
   ]
  },
  {
   "cell_type": "code",
   "execution_count": null,
   "id": "3b58c2a3",
   "metadata": {},
   "outputs": [],
   "source": []
  },
  {
   "cell_type": "code",
   "execution_count": null,
   "id": "f0bb33fc",
   "metadata": {},
   "outputs": [],
   "source": []
  },
  {
   "cell_type": "markdown",
   "id": "474cc478",
   "metadata": {},
   "source": [
    "**Test Area**"
   ]
  },
  {
   "cell_type": "code",
   "execution_count": null,
   "id": "33a423e4",
   "metadata": {},
   "outputs": [],
   "source": [
    "data = read_metadata(filename)"
   ]
  },
  {
   "cell_type": "code",
   "execution_count": null,
   "id": "b9f5e8ab",
   "metadata": {},
   "outputs": [],
   "source": [
    "URL = get_url(metadata['cellar'][0])"
   ]
  },
  {
   "cell_type": "code",
   "execution_count": null,
   "id": "7a9350ce",
   "metadata": {},
   "outputs": [],
   "source": [
    "URL = get_url(metadata['cellar'][58], \"03\")"
   ]
  },
  {
   "cell_type": "code",
   "execution_count": null,
   "id": "5cfb29b4",
   "metadata": {},
   "outputs": [],
   "source": [
    "response = requests.get(URL, headers={\"Accept-Language\":\"en-US\"})\n",
    "try:\n",
    "    soup = BeautifulSoup(response.content, \"html.parser\")\n",
    "    if str(soup)[1:4] == \"PDF\":\n",
    "        print(\"pdf detected, but fixed\")\n",
    "        '''\n",
    "        in some (few) cases, the doctype is not 03 but 02. change it for these cases\n",
    "        '''\n",
    "        URL = URL[:-8] + '02' + URL[-6:]\n",
    "        response = requests.get(URL, headers={\"Accept-Language\":\"en-US\"})\n",
    "        soup = BeautifulSoup(response.content, \"html.parser\")\n",
    "    else:\n",
    "        print(\"no problem here\")\n",
    "except:\n",
    "    '''\n",
    "    in case there is an error\n",
    "    '''\n",
    "    print(\"yes problem here\")\n",
    "    URL = URL[:-8] + '02' + URL[-6:]\n",
    "    response = requests.get(URL, headers={\"Accept-Language\":\"en-US\"})\n",
    "    soup = BeautifulSoup(response.content, \"html.parser\")\n",
    "\n",
    "if soup.find(\"p\", class_=\"oj-normal\") == None:\n",
    "    content = ' '.join([item.text for item in soup.find_all(\"p\", class_=\"normal\")])\n",
    "else:\n",
    "    content = ' '.join([item.text for item in soup.find_all(\"p\", class_=\"oj-normal\")])\n",
    "\n",
    "print(URL)\n",
    "\n",
    "content#.split('Whereas:', 1)[1] # only return text without the head"
   ]
  }
 ],
 "metadata": {
  "kernelspec": {
   "display_name": "Python 3 (ipykernel)",
   "language": "python",
   "name": "python3"
  },
  "language_info": {
   "codemirror_mode": {
    "name": "ipython",
    "version": 3
   },
   "file_extension": ".py",
   "mimetype": "text/x-python",
   "name": "python",
   "nbconvert_exporter": "python",
   "pygments_lexer": "ipython3",
   "version": "3.8.12"
  },
  "toc": {
   "base_numbering": 1,
   "nav_menu": {},
   "number_sections": true,
   "sideBar": true,
   "skip_h1_title": false,
   "title_cell": "Table of Contents",
   "title_sidebar": "Contents",
   "toc_cell": false,
   "toc_position": {},
   "toc_section_display": true,
   "toc_window_display": false
  }
 },
 "nbformat": 4,
 "nbformat_minor": 5
}
