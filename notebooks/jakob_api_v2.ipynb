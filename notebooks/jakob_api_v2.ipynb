{
 "cells": [
  {
   "cell_type": "code",
   "execution_count": null,
   "id": "840c4eaa",
   "metadata": {},
   "outputs": [],
   "source": [
    "!pip install requests --quiet\n",
    "!pip install beautifulsoup4 --quiet\n",
    "!pip install pandas --quiet\n",
    "!pip install datetime --quiet"
   ]
  },
  {
   "cell_type": "markdown",
   "id": "1a54e395",
   "metadata": {},
   "source": [
    "**Imports**"
   ]
  },
  {
   "cell_type": "code",
   "execution_count": null,
   "id": "3d6011c9",
   "metadata": {},
   "outputs": [],
   "source": [
    "import pandas as pd\n",
    "import numpy as np\n",
    "import requests\n",
    "import datetime\n",
    "from bs4 import BeautifulSoup"
   ]
  },
  {
   "cell_type": "markdown",
   "id": "4d702e6d",
   "metadata": {},
   "source": [
    "**Functions**"
   ]
  },
  {
   "cell_type": "code",
   "execution_count": null,
   "id": "56762f12",
   "metadata": {},
   "outputs": [],
   "source": [
    "def read_metadata(filename):\n",
    "    '''\n",
    "    reads in metadata from the api.py file and adds an empty column where the content of the pages will be in the end\n",
    "    '''\n",
    "    data = pd.read_csv(filename)\n",
    "    data['Content'] = None\n",
    "    return data\n",
    "\n",
    "def get_url(cellar_ref, doctype=\"03\"):\n",
    "    '''\n",
    "    creates a url based on the cellar reference in the metadata, which will be used to scrape the content\n",
    "    '''\n",
    "    psid = cellar_ref\n",
    "    psname = \"cellar\" # other options: cellar, celex, oj...\n",
    "    lancode = \"0006\" # language code\n",
    "    doctype = doctype # default: 03\n",
    "    docnum = \"DOC_1\"\n",
    "    # for further information, see Documentation Page 37: https://op.europa.eu/en/publication-detail/-/publication/50ecce27-857e-11e8-ac6a-01aa75ed71a1/language-en/format-PDF/source-73059305\n",
    "    return f\"http://publications.europa.eu/resource/{psname}/{psid}.{lancode}.{doctype}/{docnum}\"\n",
    "\n",
    "def get_content(URL):\n",
    "    '''\n",
    "    main function, scrapes content. added some code to catch errors.\n",
    "    '''\n",
    "    response = requests.get(URL, headers={\"Accept-Language\":\"en-US\"})\n",
    "    # one minor bug still in there: some requests (for example number 58 in 20220601_larger_data_b) are a valid request but have to download many mb first. the solution would be to stop the request.get if it runs longer than x seconds\n",
    "    try:\n",
    "        soup = BeautifulSoup(response.content, \"html.parser\")\n",
    "        if str(soup)[1:4] == \"PDF\":\n",
    "            '''\n",
    "            in some (few) cases, the doctype is not 03 but 02. change it for these cases\n",
    "            '''\n",
    "            print(\"pdf detected, but fixed\")\n",
    "            doctype = '02'\n",
    "            URL = URL[:-8] + doctype + URL[-6:]\n",
    "            response = requests.get(URL, headers={\"Accept-Language\":\"en-US\"})\n",
    "            soup = BeautifulSoup(response.content, \"html.parser\")\n",
    "        else:\n",
    "            print(\"no problem here\")\n",
    "            doctype = '03'\n",
    "    except:\n",
    "        '''\n",
    "        in case there is an error\n",
    "        '''\n",
    "        print(\"yes problem here\")\n",
    "        URL = URL[:-8] + '02' + URL[-6:]\n",
    "        response = requests.get(URL, headers={\"Accept-Language\":\"en-US\"})\n",
    "        soup = BeautifulSoup(response.content, \"html.parser\")\n",
    "        \n",
    "    if soup.find(\"p\", class_=\"oj-normal\") == None:\n",
    "        content = ' '.join([item.text for item in soup.find_all(\"p\", class_=\"normal\")])\n",
    "    else:\n",
    "        content = ' '.join([item.text for item in soup.find_all(\"p\", class_=\"oj-normal\")])\n",
    "    return content\n",
    "\n",
    "def clean_data(data):\n",
    "    '''\n",
    "    takes scraped data and removes rows which contain, no information, information in non-english and the head of all the valid content\n",
    "    '''\n",
    "    data = data[data['Content'] != \"\"]\n",
    "    data = data[data['Content'].str[0:3] == 'THE'] #remove content in other languages\n",
    "    data = data[data['Content'].str.contains('Whereas: ')] # contains the split word\n",
    "    data.loc[:, 'Content'] = data['Content'].apply(lambda x: x.split('Whereas: ', 1)[1]) # split off header\n",
    "    data = data[data['Content'].str[0:3] == \"(1)\"] #gotta make sure it's standardized!\n",
    "    return data.reset_index().drop(columns = \"index\")\n",
    "\n",
    "def get_all_content(data):\n",
    "    '''\n",
    "    loops over the functions to get all content\n",
    "    '''\n",
    "    cellar_references = data['cellar']    \n",
    "    for index, ref in enumerate(cellar_references):\n",
    "        data.loc[index, 'Content'] = get_content(get_url(ref))\n",
    "        print(f'Row {index} with cellar-number {ref} done')\n",
    "    return data\n",
    "\n",
    "def get_all_content_with_splitting(data, batchsize=500, path =\"../raw_data/\", filename_without_csv=\"20220602\"):\n",
    "    '''\n",
    "    loops over the functions to get all content. for more than 500 files the process will be split up\n",
    "    '''\n",
    "    if len(data) > batchsize:\n",
    "        remaining = len(data) % batchsize\n",
    "        iterations = int((len(data)-remaining) / batchsize)\n",
    "        for batch in range(0,iterations):\n",
    "            tmp = data.iloc[batch*batchsize:(batch+1)*batchsize]\n",
    "            cellar_references = tmp['cellar'] \n",
    "            for index, ref in enumerate(cellar_references):\n",
    "                tmp.loc[index, 'Content'] = get_content(get_url(ref))\n",
    "                print(f'Row {index} from batch {batch} with cellar-number {ref} done')\n",
    "                tmp.to_csv(f\"{path}{filename_without_csv}_tmp_batch{batch}.csv\")\n",
    "        # add remaining rows\n",
    "        #return \"partitioned data can be found in '../raw_data/'\n",
    "    else:\n",
    "        cellar_references = data['cellar']    \n",
    "        for index, ref in enumerate(cellar_references):\n",
    "            data.loc[index, 'Content'] = get_content(get_url(ref))\n",
    "            print(f'Row {index} with cellar-number {ref} done')\n",
    "        return data"
   ]
  },
  {
   "cell_type": "markdown",
   "id": "f99a5c0a",
   "metadata": {},
   "source": [
    "**Workflow**"
   ]
  },
  {
   "cell_type": "code",
   "execution_count": null,
   "id": "c38ce720",
   "metadata": {},
   "outputs": [],
   "source": [
    "%%time\n",
    "#retrieve metadata\n",
    "path = \"../raw_data/\"\n",
    "filename_without_csv = \"20220602\"\n",
    "data = read_metadata(path + filename_without_csv + '.csv')\n",
    "\n",
    "# subset metadata\n",
    "data = data.iloc[8000:] # run from here\n",
    "\n",
    "# get content\n",
    "data_with_content = get_all_content_with_splitting(data, batchsize = 500)\n",
    "\n",
    "# clean content\n",
    "#data_with_content_clean = clean_data(data_with_content)\n",
    "\n",
    "# export data to csv\n",
    "#data_with_content_clean.to_csv(path + filename_without_csv + \"_scraped_test.csv\")"
   ]
  },
  {
   "cell_type": "code",
   "execution_count": null,
   "id": "183b845b",
   "metadata": {},
   "outputs": [],
   "source": []
  },
  {
   "cell_type": "markdown",
   "id": "83305ecc",
   "metadata": {},
   "source": [
    "**Read partitioned Data**"
   ]
  },
  {
   "cell_type": "code",
   "execution_count": null,
   "id": "df525792",
   "metadata": {},
   "outputs": [],
   "source": [
    "data_full = pd.read_csv(\"../raw_data/tmp/20220602_tmp_batch0.csv\")\n",
    "\n",
    "liste = list(np.arange(1,15)) # number+1 of tmp-dataframes, minus the first one\n",
    "\n",
    "for i in liste:\n",
    "    data_tmp = pd.read_csv(f\"../raw_data/tmp/20220602_tmp_batch{i}.csv\")\n",
    "    data_tmp['Content'].iloc[0:499] = data_tmp['Content'].iloc[500:999].reset_index()['Content']\n",
    "    data_tmp = data_tmp.drop(list(np.arange(500,1000)))\n",
    "    data_full = data_full.append(data_tmp)\n",
    "    \n",
    "data_full = data_full.reset_index().drop(columns = ['Unnamed: 0.1', 'Unnamed: 0', 'index'])\n",
    "data_full = clean_data(data_full)\n",
    "data_full_dropped = data_full.drop_duplicates(subset=['brand'])\n",
    "#data_full_dropped.to_csv(\"../raw_data/20220602_part1_scraped.csv\") # save to csv"
   ]
  },
  {
   "cell_type": "code",
   "execution_count": null,
   "id": "c6bd1425",
   "metadata": {},
   "outputs": [],
   "source": []
  },
  {
   "cell_type": "markdown",
   "id": "474cc478",
   "metadata": {},
   "source": [
    "**Test Area**"
   ]
  },
  {
   "cell_type": "code",
   "execution_count": null,
   "id": "b2895e8b",
   "metadata": {},
   "outputs": [],
   "source": [
    "data = pd.read_csv(\"../raw_data/20220602_part1_scraped.csv\")"
   ]
  },
  {
   "cell_type": "code",
   "execution_count": null,
   "id": "647e6eec",
   "metadata": {},
   "outputs": [],
   "source": [
    "data.info()"
   ]
  },
  {
   "cell_type": "code",
   "execution_count": null,
   "id": "fe987867",
   "metadata": {},
   "outputs": [],
   "source": []
  },
  {
   "cell_type": "code",
   "execution_count": null,
   "id": "21387bce",
   "metadata": {},
   "outputs": [],
   "source": [
    "get_url(data['cellar'][100])"
   ]
  },
  {
   "cell_type": "code",
   "execution_count": null,
   "id": "2e78c7c9",
   "metadata": {},
   "outputs": [],
   "source": []
  },
  {
   "cell_type": "code",
   "execution_count": null,
   "id": "7bdcfdc1",
   "metadata": {},
   "outputs": [],
   "source": [
    "theme = \"Agriculture, sdf\""
   ]
  },
  {
   "cell_type": "code",
   "execution_count": null,
   "id": "51ca4548",
   "metadata": {},
   "outputs": [],
   "source": [
    "temp = theme.split(' ')\n",
    "temp = temp[0].replace(',', '')\n",
    "embeds = temp+'_embeds'\n",
    "#dist = temp+'_dist'"
   ]
  },
  {
   "cell_type": "code",
   "execution_count": null,
   "id": "07ce3027",
   "metadata": {},
   "outputs": [],
   "source": [
    "embeds"
   ]
  },
  {
   "cell_type": "code",
   "execution_count": null,
   "id": "4275f090",
   "metadata": {},
   "outputs": [],
   "source": []
  }
 ],
 "metadata": {
  "kernelspec": {
   "display_name": "Python 3 (ipykernel)",
   "language": "python",
   "name": "python3"
  },
  "language_info": {
   "codemirror_mode": {
    "name": "ipython",
    "version": 3
   },
   "file_extension": ".py",
   "mimetype": "text/x-python",
   "name": "python",
   "nbconvert_exporter": "python",
   "pygments_lexer": "ipython3",
   "version": "3.8.12"
  },
  "toc": {
   "base_numbering": 1,
   "nav_menu": {},
   "number_sections": true,
   "sideBar": true,
   "skip_h1_title": false,
   "title_cell": "Table of Contents",
   "title_sidebar": "Contents",
   "toc_cell": false,
   "toc_position": {},
   "toc_section_display": true,
   "toc_window_display": false
  }
 },
 "nbformat": 4,
 "nbformat_minor": 5
}
