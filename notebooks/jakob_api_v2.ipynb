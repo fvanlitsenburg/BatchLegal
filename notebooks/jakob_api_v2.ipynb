{
 "cells": [
  {
   "cell_type": "code",
   "execution_count": null,
   "id": "840c4eaa",
   "metadata": {},
   "outputs": [],
   "source": [
    "!pip install requests --quiet\n",
    "!pip install beautifulsoup4 --quiet\n",
    "!pip install pandas --quiet\n",
    "!pip install datetime --quiet"
   ]
  },
  {
   "cell_type": "markdown",
   "id": "1a54e395",
   "metadata": {},
   "source": [
    "**Imports**"
   ]
  },
  {
   "cell_type": "code",
   "execution_count": 1,
   "id": "3d6011c9",
   "metadata": {},
   "outputs": [],
   "source": [
    "import pandas as pd\n",
    "import numpy as np\n",
    "import requests\n",
    "import datetime\n",
    "from bs4 import BeautifulSoup"
   ]
  },
  {
   "cell_type": "markdown",
   "id": "4d702e6d",
   "metadata": {},
   "source": [
    "**Functions**"
   ]
  },
  {
   "cell_type": "code",
   "execution_count": 96,
   "id": "56762f12",
   "metadata": {},
   "outputs": [],
   "source": [
    "def read_metadata(filename):\n",
    "    '''\n",
    "    reads in metadata from the api.py file and adds an empty column where the content of the pages will be in the end\n",
    "    '''\n",
    "    data = pd.read_csv(filename)\n",
    "    data['Content'] = None\n",
    "    return data\n",
    "\n",
    "def get_url(cellar_ref, doctype=\"03\"):\n",
    "    '''\n",
    "    creates a url based on the cellar reference in the metadata, which will be used to scrape the content\n",
    "    '''\n",
    "    psid = cellar_ref\n",
    "    psname = \"cellar\" # other options: cellar, celex, oj...\n",
    "    lancode = \"0006\" # language code\n",
    "    doctype = doctype # default: 03\n",
    "    docnum = \"DOC_1\"\n",
    "    # for further information, see Documentation Page 37: https://op.europa.eu/en/publication-detail/-/publication/50ecce27-857e-11e8-ac6a-01aa75ed71a1/language-en/format-PDF/source-73059305\n",
    "    return f\"http://publications.europa.eu/resource/{psname}/{psid}.{lancode}.{doctype}/{docnum}\"\n",
    "\n",
    "def get_content(URL):\n",
    "    '''\n",
    "    main function, scrapes content. added some code to catch errors.\n",
    "    '''\n",
    "    response = requests.get(URL, headers={\"Accept-Language\":\"en-US\"})\n",
    "    # one minor bug still in there: some requests (for example number 58 in 20220601_larger_data_b) are a valid request but have to download many mb first. the solution would be to stop the request.get if it runs longer than x seconds\n",
    "    try:\n",
    "        soup = BeautifulSoup(response.content, \"html.parser\")\n",
    "        if str(soup)[1:4] == \"PDF\":\n",
    "            '''\n",
    "            in some (few) cases, the doctype is not 03 but 02. change it for these cases\n",
    "            '''\n",
    "            print(\"pdf detected, but fixed\")\n",
    "            doctype = '02'\n",
    "            URL = URL[:-8] + doctype + URL[-6:]\n",
    "            response = requests.get(URL, headers={\"Accept-Language\":\"en-US\"})\n",
    "            soup = BeautifulSoup(response.content, \"html.parser\")\n",
    "        else:\n",
    "            print(\"no problem here\")\n",
    "            doctype = '03'\n",
    "    except:\n",
    "        '''\n",
    "        in case there is an error\n",
    "        '''\n",
    "        print(\"yes problem here\")\n",
    "        URL = URL[:-8] + '02' + URL[-6:]\n",
    "        response = requests.get(URL, headers={\"Accept-Language\":\"en-US\"})\n",
    "        soup = BeautifulSoup(response.content, \"html.parser\")\n",
    "        \n",
    "    if soup.find(\"p\", class_=\"oj-normal\") == None:\n",
    "        content = ' '.join([item.text for item in soup.find_all(\"p\", class_=\"normal\")])\n",
    "    else:\n",
    "        content = ' '.join([item.text for item in soup.find_all(\"p\", class_=\"oj-normal\")])\n",
    "    return content\n",
    "\n",
    "def clean_data(data):\n",
    "    '''\n",
    "    takes scraped data and removes rows which contain, no information, information in non-english and the head of all the valid content\n",
    "    '''\n",
    "    data = data[data['Content'] != \"\"]\n",
    "    data = data[data['Content'].str[0:3] == 'THE'] #remove content in other languages\n",
    "    data = data[data['Content'].str.contains('Whereas: ')] # contains the split word\n",
    "    data.loc[:, 'Content'] = data['Content'].apply(lambda x: x.split('Whereas: ', 1)[1]) # split off header\n",
    "    data = data[data['Content'].str[0:3] == \"(1)\"] #gotta make sure it's standardized!\n",
    "    return data.reset_index().drop(columns = \"index\")\n",
    "\n",
    "def get_all_content(data):\n",
    "    '''\n",
    "    loops over the functions to get all content\n",
    "    '''\n",
    "    cellar_references = data['cellar']    \n",
    "    for index, ref in enumerate(cellar_references):\n",
    "        data.loc[index, 'Content'] = get_content(get_url(ref))\n",
    "        print(f'Row {index} with cellar-number {ref} done')\n",
    "    return data\n",
    "\n",
    "def get_all_content_with_splitting(data, batchsize=500, path =\"../raw_data/\", filename_without_csv=\"20220602\"):\n",
    "    '''\n",
    "    loops over the functions to get all content. for more than 500 files the process will be split up\n",
    "    '''\n",
    "    if len(data) > batchsize:\n",
    "        remaining = len(data) % batchsize\n",
    "        iterations = int((len(data)-remaining) / batchsize)\n",
    "        for batch in range(0,iterations):\n",
    "            tmp = data.iloc[batch*batchsize:(batch+1)*batchsize]\n",
    "            cellar_references = tmp['cellar'] \n",
    "            for index, ref in enumerate(cellar_references):\n",
    "                tmp.loc[index, 'Content'] = get_content(get_url(ref))\n",
    "                print(f'Row {index} from batch {batch} with cellar-number {ref} done')\n",
    "                tmp.to_csv(f\"{path}{filename_without_csv}_tmp_batch{batch}.csv\")\n",
    "        # add remaining rows\n",
    "        #return \"partitioned data can be found in '../raw_data/'\n",
    "    else:\n",
    "        cellar_references = data['cellar']    \n",
    "        for index, ref in enumerate(cellar_references):\n",
    "            data.loc[index, 'Content'] = get_content(get_url(ref))\n",
    "            print(f'Row {index} with cellar-number {ref} done')\n",
    "        return data"
   ]
  },
  {
   "cell_type": "markdown",
   "id": "f99a5c0a",
   "metadata": {},
   "source": [
    "**Workflow**"
   ]
  },
  {
   "cell_type": "code",
   "execution_count": null,
   "id": "c38ce720",
   "metadata": {},
   "outputs": [
    {
     "name": "stdout",
     "output_type": "stream",
     "text": [
      "no problem here\n",
      "Row 0 from batch 0 with cellar-number a9754cd1-e50a-4a3b-becb-704873aba01d done\n"
     ]
    },
    {
     "name": "stderr",
     "output_type": "stream",
     "text": [
      "/tmp/ipykernel_18117/1903783764.py:88: SettingWithCopyWarning: \n",
      "A value is trying to be set on a copy of a slice from a DataFrame\n",
      "\n",
      "See the caveats in the documentation: https://pandas.pydata.org/pandas-docs/stable/user_guide/indexing.html#returning-a-view-versus-a-copy\n",
      "  tmp.loc[index, 'Content'] = get_content(get_url(ref))\n"
     ]
    },
    {
     "name": "stdout",
     "output_type": "stream",
     "text": [
      "no problem here\n",
      "Row 1 from batch 0 with cellar-number 700cf946-b6ac-11ea-bb7a-01aa75ed71a1 done\n",
      "no problem here\n",
      "Row 2 from batch 0 with cellar-number 54b35a83-cd0a-11ec-a95f-01aa75ed71a1 done\n"
     ]
    },
    {
     "name": "stderr",
     "output_type": "stream",
     "text": [
      "/home/jakobg/.pyenv/versions/3.8.12/envs/BatchLegal/lib/python3.8/site-packages/bs4/builder/__init__.py:545: XMLParsedAsHTMLWarning: It looks like you're parsing an XML document using an HTML parser. If this really is an HTML document (maybe it's XHTML?), you can ignore or filter this warning. If it's XML, you should know that using an XML parser will be more reliable. To parse this document as XML, make sure you have the lxml package installed, and pass the keyword argument `features=\"xml\"` into the BeautifulSoup constructor.\n",
      "  warnings.warn(\n"
     ]
    },
    {
     "name": "stdout",
     "output_type": "stream",
     "text": [
      "no problem here\n",
      "Row 3 from batch 0 with cellar-number 0091c5ed-9d1a-11e2-ab01-01aa75ed71a1 done\n",
      "no problem here\n",
      "Row 4 from batch 0 with cellar-number 6fcc7323-9d00-11e7-b92d-01aa75ed71a1 done\n",
      "no problem here\n",
      "Row 5 from batch 0 with cellar-number 6914afe7-e9fc-11e2-99b0-01aa75ed71a1 done\n",
      "no problem here\n",
      "Row 6 from batch 0 with cellar-number bd856048-7547-11e4-b593-01aa75ed71a1 done\n",
      "no problem here\n",
      "Row 7 from batch 0 with cellar-number aae0d092-37f6-11e4-8c3c-01aa75ed71a1 done\n",
      "no problem here\n",
      "Row 8 from batch 0 with cellar-number 38e850de-d174-11e7-a5b9-01aa75ed71a1 done\n",
      "no problem here\n",
      "Row 9 from batch 0 with cellar-number 1ff55a20-14b4-11e5-8817-01aa75ed71a1 done\n",
      "no problem here\n",
      "Row 10 from batch 0 with cellar-number c43335ba-5e00-11e6-9b08-01aa75ed71a1 done\n",
      "no problem here\n",
      "Row 11 from batch 0 with cellar-number a8d3732d-a1f7-11e2-ab01-01aa75ed71a1 done\n"
     ]
    },
    {
     "name": "stderr",
     "output_type": "stream",
     "text": [
      "/home/jakobg/.pyenv/versions/3.8.12/envs/BatchLegal/lib/python3.8/site-packages/bs4/__init__.py:435: MarkupResemblesLocatorWarning: The input looks more like a filename than markup. You may want to open this file and pass the filehandle into Beautiful Soup.\n",
      "  warnings.warn(\n"
     ]
    },
    {
     "name": "stdout",
     "output_type": "stream",
     "text": [
      "no problem here\n",
      "Row 12 from batch 0 with cellar-number 5b83c6fa-e2cb-11e6-ad7c-01aa75ed71a1 done\n",
      "no problem here\n",
      "Row 13 from batch 0 with cellar-number 77e17a4b-2632-4db7-b455-5b6b1ec9ca01 done\n",
      "no problem here\n",
      "Row 14 from batch 0 with cellar-number 342a85d5-4c74-11e9-a8ed-01aa75ed71a1 done\n",
      "no problem here\n",
      "Row 15 from batch 0 with cellar-number 1212ce4f-60ef-11e4-9cbe-01aa75ed71a1 done\n",
      "no problem here\n",
      "Row 16 from batch 0 with cellar-number 0e086e57-bca1-11e8-99ee-01aa75ed71a1 done\n",
      "no problem here\n",
      "Row 17 from batch 0 with cellar-number b289b30c-b243-48ea-a05d-c3df94c08eb2 done\n",
      "no problem here\n",
      "Row 18 from batch 0 with cellar-number b8d9fc04-9518-11ec-b4e4-01aa75ed71a1 done\n"
     ]
    },
    {
     "name": "stderr",
     "output_type": "stream",
     "text": [
      "/home/jakobg/.pyenv/versions/3.8.12/envs/BatchLegal/lib/python3.8/site-packages/bs4/__init__.py:435: MarkupResemblesLocatorWarning: The input looks more like a filename than markup. You may want to open this file and pass the filehandle into Beautiful Soup.\n",
      "  warnings.warn(\n",
      "/home/jakobg/.pyenv/versions/3.8.12/envs/BatchLegal/lib/python3.8/site-packages/bs4/__init__.py:435: MarkupResemblesLocatorWarning: The input looks more like a filename than markup. You may want to open this file and pass the filehandle into Beautiful Soup.\n",
      "  warnings.warn(\n"
     ]
    },
    {
     "name": "stdout",
     "output_type": "stream",
     "text": [
      "no problem here\n",
      "Row 19 from batch 0 with cellar-number e7f353fd-86ab-4913-ad4b-1fa1be4d436e done\n",
      "no problem here\n",
      "Row 20 from batch 0 with cellar-number bf338ccc-1dc7-11e2-91ce-01aa75ed71a1 done\n"
     ]
    },
    {
     "name": "stderr",
     "output_type": "stream",
     "text": [
      "/home/jakobg/.pyenv/versions/3.8.12/envs/BatchLegal/lib/python3.8/site-packages/bs4/__init__.py:435: MarkupResemblesLocatorWarning: The input looks more like a filename than markup. You may want to open this file and pass the filehandle into Beautiful Soup.\n",
      "  warnings.warn(\n"
     ]
    },
    {
     "name": "stdout",
     "output_type": "stream",
     "text": [
      "no problem here\n",
      "Row 21 from batch 0 with cellar-number b646b0cd-ca4d-11ea-adf7-01aa75ed71a1 done\n",
      "no problem here\n",
      "Row 22 from batch 0 with cellar-number 343d2f1f-fb82-4c5a-b571-9ba1e8443112 done\n",
      "no problem here\n",
      "Row 23 from batch 0 with cellar-number 5d2498d4-fcc2-11e1-8e28-01aa75ed71a1 done\n"
     ]
    },
    {
     "name": "stderr",
     "output_type": "stream",
     "text": [
      "/home/jakobg/.pyenv/versions/3.8.12/envs/BatchLegal/lib/python3.8/site-packages/bs4/__init__.py:435: MarkupResemblesLocatorWarning: The input looks more like a filename than markup. You may want to open this file and pass the filehandle into Beautiful Soup.\n",
      "  warnings.warn(\n"
     ]
    },
    {
     "name": "stdout",
     "output_type": "stream",
     "text": [
      "no problem here\n",
      "Row 24 from batch 0 with cellar-number f6a8dd1e-8308-11ea-bf12-01aa75ed71a1 done\n",
      "no problem here\n",
      "Row 25 from batch 0 with cellar-number bd89b5db-efc2-11e4-a3bf-01aa75ed71a1 done\n",
      "no problem here\n",
      "Row 26 from batch 0 with cellar-number 5c64b5e2-7e89-11e3-b889-01aa75ed71a1 done\n",
      "no problem here\n",
      "Row 27 from batch 0 with cellar-number c16b7c33-f10a-11e2-a22e-01aa75ed71a1 done\n",
      "no problem here\n",
      "Row 28 from batch 0 with cellar-number 27445b50-49f0-11e8-be1d-01aa75ed71a1 done\n",
      "no problem here\n",
      "Row 29 from batch 0 with cellar-number 9c3dc100-1d84-11e6-ba9a-01aa75ed71a1 done\n",
      "no problem here\n",
      "Row 30 from batch 0 with cellar-number 9f92e418-04c1-11e3-a352-01aa75ed71a1 done\n",
      "no problem here\n",
      "Row 31 from batch 0 with cellar-number a152eb07-ee20-11e8-b690-01aa75ed71a1 done\n",
      "no problem here\n",
      "Row 32 from batch 0 with cellar-number b0d03ba3-f75f-11e7-b8f5-01aa75ed71a1 done\n",
      "no problem here\n",
      "Row 33 from batch 0 with cellar-number 86fd1748-0eac-11ec-b771-01aa75ed71a1 done\n",
      "no problem here\n",
      "Row 34 from batch 0 with cellar-number 6ba934cb-28a8-11eb-9d7e-01aa75ed71a1 done\n",
      "no problem here\n",
      "Row 35 from batch 0 with cellar-number 99268722-c10d-11e1-b84a-01aa75ed71a1 done\n"
     ]
    },
    {
     "name": "stderr",
     "output_type": "stream",
     "text": [
      "/home/jakobg/.pyenv/versions/3.8.12/envs/BatchLegal/lib/python3.8/site-packages/bs4/__init__.py:435: MarkupResemblesLocatorWarning: The input looks more like a filename than markup. You may want to open this file and pass the filehandle into Beautiful Soup.\n",
      "  warnings.warn(\n",
      "/home/jakobg/.pyenv/versions/3.8.12/envs/BatchLegal/lib/python3.8/site-packages/bs4/builder/__init__.py:545: XMLParsedAsHTMLWarning: It looks like you're parsing an XML document using an HTML parser. If this really is an HTML document (maybe it's XHTML?), you can ignore or filter this warning. If it's XML, you should know that using an XML parser will be more reliable. To parse this document as XML, make sure you have the lxml package installed, and pass the keyword argument `features=\"xml\"` into the BeautifulSoup constructor.\n",
      "  warnings.warn(\n"
     ]
    },
    {
     "name": "stdout",
     "output_type": "stream",
     "text": [
      "no problem here\n",
      "Row 36 from batch 0 with cellar-number 54f7c03b-a104-11e2-ab01-01aa75ed71a1 done\n",
      "no problem here\n",
      "Row 37 from batch 0 with cellar-number 8ba0a623-9099-11ec-b4e4-01aa75ed71a1 done\n",
      "no problem here\n",
      "Row 38 from batch 0 with cellar-number a7da69e9-547f-11ea-aece-01aa75ed71a1 done\n",
      "no problem here\n",
      "Row 39 from batch 0 with cellar-number 781ee249-4ac5-11e4-a0cb-01aa75ed71a1 done\n",
      "no problem here\n",
      "Row 40 from batch 0 with cellar-number 03e03497-f903-11e3-831f-01aa75ed71a1 done\n",
      "no problem here\n",
      "Row 41 from batch 0 with cellar-number 8b144ef5-3b91-11e7-a08e-01aa75ed71a1 done\n",
      "no problem here\n",
      "Row 42 from batch 0 with cellar-number 7e066043-9cff-11e7-b92d-01aa75ed71a1 done\n",
      "no problem here\n",
      "Row 43 from batch 0 with cellar-number f18b4e67-8e01-11e8-8a53-01aa75ed71a1 done\n",
      "no problem here\n",
      "Row 44 from batch 0 with cellar-number 7b2ebd92-12e4-4f73-9a64-dc690becb429 done\n",
      "no problem here\n",
      "Row 45 from batch 0 with cellar-number ba726d7d-114a-11e3-8d1c-01aa75ed71a1 done\n",
      "no problem here\n",
      "Row 46 from batch 0 with cellar-number edb33c0b-6353-11e5-9317-01aa75ed71a1 done\n",
      "no problem here\n",
      "Row 47 from batch 0 with cellar-number edaa8d82-6711-11e4-ba48-01aa75ed71a1 done\n",
      "no problem here\n",
      "Row 48 from batch 0 with cellar-number 0de25901-fd89-11e1-8e28-01aa75ed71a1 done\n"
     ]
    },
    {
     "name": "stderr",
     "output_type": "stream",
     "text": [
      "/home/jakobg/.pyenv/versions/3.8.12/envs/BatchLegal/lib/python3.8/site-packages/bs4/__init__.py:435: MarkupResemblesLocatorWarning: The input looks more like a filename than markup. You may want to open this file and pass the filehandle into Beautiful Soup.\n",
      "  warnings.warn(\n"
     ]
    },
    {
     "name": "stdout",
     "output_type": "stream",
     "text": [
      "no problem here\n",
      "Row 49 from batch 0 with cellar-number 5b36e86c-fc38-11e3-831f-01aa75ed71a1 done\n",
      "no problem here\n",
      "Row 50 from batch 0 with cellar-number 8d5afbdf-fe91-11e3-831f-01aa75ed71a1 done\n",
      "no problem here\n",
      "Row 51 from batch 0 with cellar-number 5b475c91-36a0-11e7-a08e-01aa75ed71a1 done\n",
      "no problem here\n",
      "Row 52 from batch 0 with cellar-number df49da7d-c1d6-11e6-a6db-01aa75ed71a1 done\n",
      "no problem here\n",
      "Row 53 from batch 0 with cellar-number f123fc8c-c60a-11e8-9424-01aa75ed71a1 done\n",
      "no problem here\n",
      "Row 54 from batch 0 with cellar-number 87817dc1-ea7d-11e5-a2a7-01aa75ed71a1 done\n",
      "no problem here\n",
      "Row 55 from batch 0 with cellar-number 1f97b10c-ad3c-11eb-9767-01aa75ed71a1 done\n",
      "no problem here\n",
      "Row 56 from batch 0 with cellar-number 421f21bb-3704-11e3-a86c-01aa75ed71a1 done\n",
      "no problem here\n",
      "Row 57 from batch 0 with cellar-number 2b72e998-8a3f-11e2-b5c3-01aa75ed71a1 done\n"
     ]
    },
    {
     "name": "stderr",
     "output_type": "stream",
     "text": [
      "/home/jakobg/.pyenv/versions/3.8.12/envs/BatchLegal/lib/python3.8/site-packages/bs4/__init__.py:435: MarkupResemblesLocatorWarning: The input looks more like a filename than markup. You may want to open this file and pass the filehandle into Beautiful Soup.\n",
      "  warnings.warn(\n"
     ]
    },
    {
     "name": "stdout",
     "output_type": "stream",
     "text": [
      "no problem here\n",
      "Row 58 from batch 0 with cellar-number 9e70487d-d7fb-40b6-a642-dc5536ef5d12 done\n",
      "no problem here\n",
      "Row 59 from batch 0 with cellar-number edfe7ab1-c94d-11e4-bbe1-01aa75ed71a1 done\n",
      "no problem here\n",
      "Row 60 from batch 0 with cellar-number e96dd688-e400-11e4-b1d3-01aa75ed71a1 done\n",
      "no problem here\n",
      "Row 61 from batch 0 with cellar-number a8b39684-f0f9-11e1-8e28-01aa75ed71a1 done\n"
     ]
    },
    {
     "name": "stderr",
     "output_type": "stream",
     "text": [
      "/home/jakobg/.pyenv/versions/3.8.12/envs/BatchLegal/lib/python3.8/site-packages/bs4/__init__.py:435: MarkupResemblesLocatorWarning: The input looks more like a filename than markup. You may want to open this file and pass the filehandle into Beautiful Soup.\n",
      "  warnings.warn(\n"
     ]
    },
    {
     "name": "stdout",
     "output_type": "stream",
     "text": [
      "no problem here\n",
      "Row 62 from batch 0 with cellar-number 3918d2a6-36b5-11ea-ba6e-01aa75ed71a1 done\n",
      "no problem here\n",
      "Row 63 from batch 0 with cellar-number 61dfb603-0e00-11e8-966a-01aa75ed71a1 done\n",
      "no problem here\n",
      "Row 64 from batch 0 with cellar-number d28eef9a-9a76-11e6-9bca-01aa75ed71a1 done\n",
      "no problem here\n",
      "Row 65 from batch 0 with cellar-number 5b09cc6c-9dcb-11e7-b92d-01aa75ed71a1 done\n",
      "no problem here\n",
      "Row 66 from batch 0 with cellar-number cd9701fe-0849-11e7-8a35-01aa75ed71a1 done\n",
      "no problem here\n",
      "Row 67 from batch 0 with cellar-number a823dbb9-44cf-11e6-9c64-01aa75ed71a1 done\n",
      "no problem here\n",
      "Row 68 from batch 0 with cellar-number f393df18-84ec-11e4-91cd-01aa75ed71a1 done\n",
      "no problem here\n",
      "Row 69 from batch 0 with cellar-number 98bb494f-7f9a-11e5-b8b7-01aa75ed71a1 done\n",
      "no problem here\n",
      "Row 70 from batch 0 with cellar-number 9fc958ec-034b-11e3-a352-01aa75ed71a1 done\n",
      "no problem here\n",
      "Row 71 from batch 0 with cellar-number 6c6f32df-13ea-11e5-8817-01aa75ed71a1 done\n",
      "no problem here\n",
      "Row 72 from batch 0 with cellar-number 756c465e-fe91-11e3-831f-01aa75ed71a1 done\n",
      "no problem here\n",
      "Row 73 from batch 0 with cellar-number c8b4fb93-8de6-11ea-812f-01aa75ed71a1 done\n",
      "no problem here\n",
      "Row 74 from batch 0 with cellar-number d4644891-ed62-11e8-b690-01aa75ed71a1 done\n",
      "no problem here\n",
      "Row 75 from batch 0 with cellar-number d87ea1c5-4505-11e7-aea8-01aa75ed71a1 done\n",
      "no problem here\n",
      "Row 76 from batch 0 with cellar-number d2fed612-aa06-11e5-b528-01aa75ed71a1 done\n",
      "no problem here\n",
      "Row 77 from batch 0 with cellar-number 6590d449-edc1-11e6-ad7c-01aa75ed71a1 done\n",
      "no problem here\n",
      "Row 78 from batch 0 with cellar-number c44e84b9-3b3a-11e5-98a0-01aa75ed71a1 done\n",
      "no problem here\n",
      "Row 79 from batch 0 with cellar-number d3c9a28c-e540-11e1-905c-01aa75ed71a1 done\n"
     ]
    },
    {
     "name": "stderr",
     "output_type": "stream",
     "text": [
      "/home/jakobg/.pyenv/versions/3.8.12/envs/BatchLegal/lib/python3.8/site-packages/bs4/__init__.py:435: MarkupResemblesLocatorWarning: The input looks more like a filename than markup. You may want to open this file and pass the filehandle into Beautiful Soup.\n",
      "  warnings.warn(\n"
     ]
    },
    {
     "name": "stdout",
     "output_type": "stream",
     "text": [
      "no problem here\n",
      "Row 80 from batch 0 with cellar-number 54f82a33-7597-11e6-b076-01aa75ed71a1 done\n",
      "no problem here\n",
      "Row 81 from batch 0 with cellar-number 1610abc4-7bd1-11e4-97c9-01aa75ed71a1 done\n",
      "no problem here\n",
      "Row 82 from batch 0 with cellar-number 23fc0846-935e-11ea-aac4-01aa75ed71a1 done\n",
      "no problem here\n",
      "Row 83 from batch 0 with cellar-number 9a5fd854-bde5-4650-a8e0-1d67050b0cfa done\n",
      "no problem here\n",
      "Row 84 from batch 0 with cellar-number ceb17fdb-cead-11e3-b682-01aa75ed71a1 done\n",
      "no problem here\n",
      "Row 85 from batch 0 with cellar-number 732ac5bb-46d6-4bf9-9890-af178f33c96c done\n",
      "no problem here\n",
      "Row 86 from batch 0 with cellar-number 3add343a-55dc-11e6-89bd-01aa75ed71a1 done\n",
      "no problem here\n",
      "Row 87 from batch 0 with cellar-number bcb4b4f8-4a27-11e9-a8ed-01aa75ed71a1 done\n",
      "no problem here\n",
      "Row 88 from batch 0 with cellar-number 2e3fe5f1-a91e-11e4-8e01-01aa75ed71a1 done\n",
      "no problem here\n",
      "Row 89 from batch 0 with cellar-number 6db42361-0206-11e6-b713-01aa75ed71a1 done\n",
      "no problem here\n",
      "Row 90 from batch 0 with cellar-number 7ccb469b-a146-11e9-9d01-01aa75ed71a1 done\n",
      "no problem here\n",
      "Row 91 from batch 0 with cellar-number 4a5d768f-2445-11e4-8c3c-01aa75ed71a1 done\n",
      "no problem here\n",
      "Row 92 from batch 0 with cellar-number 1207f787-22d1-11e6-86d0-01aa75ed71a1 done\n",
      "no problem here\n",
      "Row 93 from batch 0 with cellar-number e1209b06-5e00-11e6-9b08-01aa75ed71a1 done\n",
      "no problem here\n",
      "Row 94 from batch 0 with cellar-number df9fc96e-b0ca-11e3-86f9-01aa75ed71a1 done\n",
      "no problem here\n",
      "Row 95 from batch 0 with cellar-number 003e2068-e5c0-4db7-8da7-acf70e6af56c done\n",
      "no problem here\n",
      "Row 96 from batch 0 with cellar-number 23d31016-2c05-11e3-8d1c-01aa75ed71a1 done\n",
      "no problem here\n",
      "Row 97 from batch 0 with cellar-number 75e4ad22-28e6-11e8-b5fe-01aa75ed71a1 done\n",
      "no problem here\n",
      "Row 98 from batch 0 with cellar-number a7f05729-85b8-11e4-b8a5-01aa75ed71a1 done\n",
      "no problem here\n",
      "Row 99 from batch 0 with cellar-number 1ee94111-8ff5-11e4-b8a5-01aa75ed71a1 done\n",
      "no problem here\n",
      "Row 100 from batch 0 with cellar-number 70b932dc-e23b-11e3-8cd4-01aa75ed71a1 done\n",
      "no problem here\n",
      "Row 101 from batch 0 with cellar-number 53917bbb-bd0b-4330-8274-e7a82f5f456c done\n",
      "no problem here\n",
      "Row 102 from batch 0 with cellar-number cb211774-c4cf-11eb-a925-01aa75ed71a1 done\n",
      "no problem here\n",
      "Row 103 from batch 0 with cellar-number 1d21be07-b419-11e4-b5b2-01aa75ed71a1 done\n",
      "no problem here\n",
      "Row 104 from batch 0 with cellar-number d1ed3f5e-f18c-11e5-8529-01aa75ed71a1 done\n",
      "no problem here\n",
      "Row 105 from batch 0 with cellar-number f51aa70d-fbce-11e9-8c1f-01aa75ed71a1 done\n",
      "no problem here\n",
      "Row 106 from batch 0 with cellar-number ca2103d6-7362-11e7-b2f2-01aa75ed71a1 done\n",
      "no problem here\n",
      "Row 107 from batch 0 with cellar-number c2488c14-6bf2-11e5-9317-01aa75ed71a1 done\n",
      "no problem here\n",
      "Row 108 from batch 0 with cellar-number 0b82846c-a388-11e4-9f50-01aa75ed71a1 done\n",
      "no problem here\n",
      "Row 109 from batch 0 with cellar-number 50154b3d-cc51-11e8-9424-01aa75ed71a1 done\n",
      "no problem here\n",
      "Row 110 from batch 0 with cellar-number 0cf9506f-0d6a-11e8-966a-01aa75ed71a1 done\n",
      "no problem here\n",
      "Row 111 from batch 0 with cellar-number 0a9b0474-9f88-11e8-99ee-01aa75ed71a1 done\n",
      "no problem here\n",
      "Row 112 from batch 0 with cellar-number 47545448-86cf-11e6-b076-01aa75ed71a1 done\n",
      "no problem here\n",
      "Row 113 from batch 0 with cellar-number 4e147fb3-d77d-40b5-95a0-e2668e0dc886 done\n"
     ]
    },
    {
     "name": "stderr",
     "output_type": "stream",
     "text": [
      "/home/jakobg/.pyenv/versions/3.8.12/envs/BatchLegal/lib/python3.8/site-packages/bs4/__init__.py:435: MarkupResemblesLocatorWarning: The input looks more like a filename than markup. You may want to open this file and pass the filehandle into Beautiful Soup.\n",
      "  warnings.warn(\n"
     ]
    },
    {
     "name": "stdout",
     "output_type": "stream",
     "text": [
      "no problem here\n",
      "Row 114 from batch 0 with cellar-number e84b4a5e-0269-11e8-b8f5-01aa75ed71a1 done\n",
      "no problem here\n",
      "Row 115 from batch 0 with cellar-number a00abef6-df07-11e2-9165-01aa75ed71a1 done\n"
     ]
    },
    {
     "name": "stderr",
     "output_type": "stream",
     "text": [
      "/home/jakobg/.pyenv/versions/3.8.12/envs/BatchLegal/lib/python3.8/site-packages/bs4/builder/__init__.py:545: XMLParsedAsHTMLWarning: It looks like you're parsing an XML document using an HTML parser. If this really is an HTML document (maybe it's XHTML?), you can ignore or filter this warning. If it's XML, you should know that using an XML parser will be more reliable. To parse this document as XML, make sure you have the lxml package installed, and pass the keyword argument `features=\"xml\"` into the BeautifulSoup constructor.\n",
      "  warnings.warn(\n"
     ]
    },
    {
     "name": "stdout",
     "output_type": "stream",
     "text": [
      "no problem here\n",
      "Row 116 from batch 0 with cellar-number 1e8be5d2-6f8e-11e2-9294-01aa75ed71a1 done\n"
     ]
    },
    {
     "name": "stderr",
     "output_type": "stream",
     "text": [
      "Some characters could not be decoded, and were replaced with REPLACEMENT CHARACTER.\n"
     ]
    },
    {
     "name": "stdout",
     "output_type": "stream",
     "text": [
      "pdf detected, but fixed\n",
      "Row 117 from batch 0 with cellar-number e234c41f-9e90-11eb-b85c-01aa75ed71a1 done\n",
      "no problem here\n",
      "Row 118 from batch 0 with cellar-number bb4b1db6-3e52-11e4-8c3c-01aa75ed71a1 done\n",
      "no problem here\n",
      "Row 119 from batch 0 with cellar-number c36e55d1-be4b-11e4-bbe1-01aa75ed71a1 done\n",
      "no problem here\n",
      "Row 120 from batch 0 with cellar-number 0f126219-de57-11e2-9165-01aa75ed71a1 done\n",
      "no problem here\n",
      "Row 121 from batch 0 with cellar-number 9bdc4387-c755-11e6-a6db-01aa75ed71a1 done\n",
      "no problem here\n",
      "Row 122 from batch 0 with cellar-number c7a2b837-5370-11e4-a0cb-01aa75ed71a1 done\n",
      "no problem here\n",
      "Row 123 from batch 0 with cellar-number e7eedca3-ee74-11eb-a71c-01aa75ed71a1 done\n",
      "no problem here\n",
      "Row 124 from batch 0 with cellar-number d7b1f15c-1a79-11eb-b57e-01aa75ed71a1 done\n",
      "no problem here\n",
      "Row 125 from batch 0 with cellar-number 3eb36f76-0673-11e4-831f-01aa75ed71a1 done\n",
      "no problem here\n",
      "Row 126 from batch 0 with cellar-number 26362af8-6203-11eb-aeb5-01aa75ed71a1 done\n",
      "no problem here\n",
      "Row 127 from batch 0 with cellar-number 5c73f34f-6f14-11e5-9317-01aa75ed71a1 done\n",
      "no problem here\n",
      "Row 128 from batch 0 with cellar-number 8de6fb06-8470-11ea-bf12-01aa75ed71a1 done\n",
      "no problem here\n",
      "Row 129 from batch 0 with cellar-number 33268eb1-0074-11e6-b713-01aa75ed71a1 done\n",
      "no problem here\n",
      "Row 130 from batch 0 with cellar-number 1a6caf69-8d74-11e3-a2e2-01aa75ed71a1 done\n",
      "no problem here\n",
      "Row 131 from batch 0 with cellar-number 5b599512-5c74-11e9-9c52-01aa75ed71a1 done\n",
      "no problem here\n",
      "Row 132 from batch 0 with cellar-number be42cf0e-fda5-11e7-b8f5-01aa75ed71a1 done\n"
     ]
    },
    {
     "name": "stderr",
     "output_type": "stream",
     "text": [
      "Some characters could not be decoded, and were replaced with REPLACEMENT CHARACTER.\n"
     ]
    },
    {
     "name": "stdout",
     "output_type": "stream",
     "text": [
      "pdf detected, but fixed\n",
      "Row 133 from batch 0 with cellar-number 2b0ee521-00ad-11ea-8c1f-01aa75ed71a1 done\n",
      "no problem here\n",
      "Row 134 from batch 0 with cellar-number a56bb904-43f9-11eb-b59f-01aa75ed71a1 done\n",
      "no problem here\n",
      "Row 135 from batch 0 with cellar-number 3cb5cd3b-1cd2-11ec-b4fe-01aa75ed71a1 done\n",
      "no problem here\n",
      "Row 136 from batch 0 with cellar-number 24ab7c27-5999-46e7-94ac-dd4d315ba50c done\n"
     ]
    },
    {
     "name": "stderr",
     "output_type": "stream",
     "text": [
      "Some characters could not be decoded, and were replaced with REPLACEMENT CHARACTER.\n"
     ]
    },
    {
     "name": "stdout",
     "output_type": "stream",
     "text": [
      "pdf detected, but fixed\n",
      "Row 137 from batch 0 with cellar-number 0166e052-9ddb-11eb-b85c-01aa75ed71a1 done\n",
      "no problem here\n",
      "Row 138 from batch 0 with cellar-number 3a3c4980-5edf-11ec-9c6c-01aa75ed71a1 done\n",
      "no problem here\n",
      "Row 139 from batch 0 with cellar-number 21586cde-8850-454d-befc-db160d4acfc1 done\n"
     ]
    },
    {
     "name": "stderr",
     "output_type": "stream",
     "text": [
      "/home/jakobg/.pyenv/versions/3.8.12/envs/BatchLegal/lib/python3.8/site-packages/bs4/__init__.py:435: MarkupResemblesLocatorWarning: The input looks more like a filename than markup. You may want to open this file and pass the filehandle into Beautiful Soup.\n",
      "  warnings.warn(\n"
     ]
    },
    {
     "name": "stdout",
     "output_type": "stream",
     "text": [
      "no problem here\n",
      "Row 140 from batch 0 with cellar-number 36ee7954-37d5-11e8-b5fe-01aa75ed71a1 done\n",
      "no problem here\n",
      "Row 141 from batch 0 with cellar-number 74c6f2ec-e09a-11e7-9749-01aa75ed71a1 done\n"
     ]
    },
    {
     "name": "stderr",
     "output_type": "stream",
     "text": [
      "/home/jakobg/.pyenv/versions/3.8.12/envs/BatchLegal/lib/python3.8/site-packages/bs4/__init__.py:435: MarkupResemblesLocatorWarning: The input looks more like a filename than markup. You may want to open this file and pass the filehandle into Beautiful Soup.\n",
      "  warnings.warn(\n"
     ]
    },
    {
     "name": "stdout",
     "output_type": "stream",
     "text": [
      "no problem here\n",
      "Row 142 from batch 0 with cellar-number f1145725-07c5-11e2-8e28-01aa75ed71a1 done\n",
      "no problem here\n",
      "Row 143 from batch 0 with cellar-number be7e05fe-9f8a-11e3-8b87-01aa75ed71a1 done\n",
      "no problem here\n",
      "Row 144 from batch 0 with cellar-number e880931d-fa65-11e6-8a35-01aa75ed71a1 done\n",
      "no problem here\n",
      "Row 145 from batch 0 with cellar-number 47780e56-352e-11eb-b27b-01aa75ed71a1 done\n",
      "no problem here\n",
      "Row 146 from batch 0 with cellar-number 1d9602e8-0126-499e-bfe4-cca6ad7288f0 done\n"
     ]
    },
    {
     "name": "stderr",
     "output_type": "stream",
     "text": [
      "/home/jakobg/.pyenv/versions/3.8.12/envs/BatchLegal/lib/python3.8/site-packages/bs4/__init__.py:435: MarkupResemblesLocatorWarning: The input looks more like a filename than markup. You may want to open this file and pass the filehandle into Beautiful Soup.\n",
      "  warnings.warn(\n"
     ]
    },
    {
     "name": "stdout",
     "output_type": "stream",
     "text": [
      "no problem here\n",
      "Row 147 from batch 0 with cellar-number b21bf6b3-c518-11e2-ab01-01aa75ed71a1 done\n"
     ]
    },
    {
     "name": "stderr",
     "output_type": "stream",
     "text": [
      "Some characters could not be decoded, and were replaced with REPLACEMENT CHARACTER.\n"
     ]
    },
    {
     "name": "stdout",
     "output_type": "stream",
     "text": [
      "pdf detected, but fixed\n",
      "Row 148 from batch 0 with cellar-number cf46df1b-e20d-11e7-9749-01aa75ed71a1 done\n",
      "no problem here\n",
      "Row 149 from batch 0 with cellar-number 70751579-5122-11e9-a8ed-01aa75ed71a1 done\n",
      "no problem here\n",
      "Row 150 from batch 0 with cellar-number 7705f6fa-423b-11e3-ae03-01aa75ed71a1 done\n",
      "no problem here\n",
      "Row 151 from batch 0 with cellar-number 263e49b3-876a-11e9-9f05-01aa75ed71a1 done\n",
      "no problem here\n",
      "Row 152 from batch 0 with cellar-number bd4772d3-23ce-11e6-86d0-01aa75ed71a1 done\n",
      "no problem here\n",
      "Row 153 from batch 0 with cellar-number 563bbbf5-47c6-11e5-9f5a-01aa75ed71a1 done\n",
      "no problem here\n",
      "Row 154 from batch 0 with cellar-number 18d1c66a-37d6-11e8-b5fe-01aa75ed71a1 done\n",
      "no problem here\n",
      "Row 155 from batch 0 with cellar-number bde0320b-55d1-11e4-a0cb-01aa75ed71a1 done\n",
      "no problem here\n",
      "Row 156 from batch 0 with cellar-number 9fd3fc1f-ad78-11e7-837e-01aa75ed71a1 done\n",
      "no problem here\n",
      "Row 157 from batch 0 with cellar-number 7f792e2c-56b7-11e5-afbf-01aa75ed71a1 done\n",
      "no problem here\n",
      "Row 158 from batch 0 with cellar-number 0fa73310-c64f-11e5-a4b5-01aa75ed71a1 done\n",
      "no problem here\n",
      "Row 159 from batch 0 with cellar-number b7027c2b-8f39-11e6-ba36-01aa75ed71a1 done\n",
      "no problem here\n",
      "Row 160 from batch 0 with cellar-number 17b25f07-8386-11e5-b8b7-01aa75ed71a1 done\n",
      "no problem here\n",
      "Row 161 from batch 0 with cellar-number 86de38d9-e4c8-11e4-baa4-01aa75ed71a1 done\n",
      "no problem here\n",
      "Row 162 from batch 0 with cellar-number a136d564-f714-11e5-abb1-01aa75ed71a1 done\n",
      "no problem here\n",
      "Row 163 from batch 0 with cellar-number f7846167-9f0c-11e5-8781-01aa75ed71a1 done\n",
      "no problem here\n",
      "Row 164 from batch 0 with cellar-number 819439ce-5e12-11ec-9c6c-01aa75ed71a1 done\n",
      "no problem here\n",
      "Row 165 from batch 0 with cellar-number 53b0d4fa-4aaf-11e8-be1d-01aa75ed71a1 done\n",
      "no problem here\n",
      "Row 166 from batch 0 with cellar-number c085f9b6-42fe-11e5-9f5a-01aa75ed71a1 done\n",
      "no problem here\n",
      "Row 167 from batch 0 with cellar-number b320b1e1-9036-11eb-b85c-01aa75ed71a1 done\n",
      "no problem here\n",
      "Row 168 from batch 0 with cellar-number 8b584c3c-90ed-11ea-aac4-01aa75ed71a1 done\n",
      "no problem here\n",
      "Row 169 from batch 0 with cellar-number bc1ddbfa-bba9-11e7-a7f8-01aa75ed71a1 done\n",
      "no problem here\n",
      "Row 170 from batch 0 with cellar-number 9e7842ff-01b4-11e4-831f-01aa75ed71a1 done\n",
      "no problem here\n",
      "Row 171 from batch 0 with cellar-number acb7a474-26f8-11e6-86d0-01aa75ed71a1 done\n",
      "no problem here\n",
      "Row 172 from batch 0 with cellar-number 75f6f54f-424a-11e5-9f5a-01aa75ed71a1 done\n",
      "no problem here\n",
      "Row 173 from batch 0 with cellar-number d3c1523f-853d-11e6-b076-01aa75ed71a1 done\n",
      "no problem here\n",
      "Row 174 from batch 0 with cellar-number e753764c-a146-11e9-9d01-01aa75ed71a1 done\n",
      "no problem here\n",
      "Row 175 from batch 0 with cellar-number 5f675a8e-19e9-11e3-8d1c-01aa75ed71a1 done\n",
      "no problem here\n",
      "Row 176 from batch 0 with cellar-number 04f63e46-764b-11e6-b076-01aa75ed71a1 done\n",
      "no problem here\n",
      "Row 177 from batch 0 with cellar-number eb28e864-3b92-11e7-a08e-01aa75ed71a1 done\n"
     ]
    },
    {
     "ename": "KeyboardInterrupt",
     "evalue": "",
     "output_type": "error",
     "traceback": [
      "\u001b[0;31m---------------------------------------------------------------------------\u001b[0m",
      "\u001b[0;31mKeyboardInterrupt\u001b[0m                         Traceback (most recent call last)",
      "File \u001b[0;32m<timed exec>:11\u001b[0m, in \u001b[0;36m<module>\u001b[0;34m\u001b[0m\n",
      "Input \u001b[0;32mIn [96]\u001b[0m, in \u001b[0;36mget_all_content_with_splitting\u001b[0;34m(data, batchsize, path, filename_without_csv)\u001b[0m\n\u001b[1;32m     86\u001b[0m cellar_references \u001b[38;5;241m=\u001b[39m tmp[\u001b[38;5;124m'\u001b[39m\u001b[38;5;124mcellar\u001b[39m\u001b[38;5;124m'\u001b[39m] \n\u001b[1;32m     87\u001b[0m \u001b[38;5;28;01mfor\u001b[39;00m index, ref \u001b[38;5;129;01min\u001b[39;00m \u001b[38;5;28menumerate\u001b[39m(cellar_references):\n\u001b[0;32m---> 88\u001b[0m     tmp\u001b[38;5;241m.\u001b[39mloc[index, \u001b[38;5;124m'\u001b[39m\u001b[38;5;124mContent\u001b[39m\u001b[38;5;124m'\u001b[39m] \u001b[38;5;241m=\u001b[39m \u001b[43mget_content\u001b[49m\u001b[43m(\u001b[49m\u001b[43mget_url\u001b[49m\u001b[43m(\u001b[49m\u001b[43mref\u001b[49m\u001b[43m)\u001b[49m\u001b[43m)\u001b[49m\n\u001b[1;32m     89\u001b[0m     \u001b[38;5;28mprint\u001b[39m(\u001b[38;5;124mf\u001b[39m\u001b[38;5;124m'\u001b[39m\u001b[38;5;124mRow \u001b[39m\u001b[38;5;132;01m{\u001b[39;00mindex\u001b[38;5;132;01m}\u001b[39;00m\u001b[38;5;124m from batch \u001b[39m\u001b[38;5;132;01m{\u001b[39;00mbatch\u001b[38;5;132;01m}\u001b[39;00m\u001b[38;5;124m with cellar-number \u001b[39m\u001b[38;5;132;01m{\u001b[39;00mref\u001b[38;5;132;01m}\u001b[39;00m\u001b[38;5;124m done\u001b[39m\u001b[38;5;124m'\u001b[39m)\n\u001b[1;32m     90\u001b[0m     tmp\u001b[38;5;241m.\u001b[39mto_csv(\u001b[38;5;124mf\u001b[39m\u001b[38;5;124m\"\u001b[39m\u001b[38;5;132;01m{\u001b[39;00mpath\u001b[38;5;132;01m}\u001b[39;00m\u001b[38;5;132;01m{\u001b[39;00mfilename_without_csv\u001b[38;5;132;01m}\u001b[39;00m\u001b[38;5;124m_tmp_batch\u001b[39m\u001b[38;5;132;01m{\u001b[39;00mbatch\u001b[38;5;132;01m}\u001b[39;00m\u001b[38;5;124m.csv\u001b[39m\u001b[38;5;124m\"\u001b[39m)\n",
      "Input \u001b[0;32mIn [96]\u001b[0m, in \u001b[0;36mget_content\u001b[0;34m(URL)\u001b[0m\n\u001b[1;32m     21\u001b[0m \u001b[38;5;28;01mdef\u001b[39;00m \u001b[38;5;21mget_content\u001b[39m(URL):\n\u001b[1;32m     22\u001b[0m     \u001b[38;5;124;03m'''\u001b[39;00m\n\u001b[1;32m     23\u001b[0m \u001b[38;5;124;03m    main function, scrapes content. added some code to catch errors.\u001b[39;00m\n\u001b[1;32m     24\u001b[0m \u001b[38;5;124;03m    '''\u001b[39;00m\n\u001b[0;32m---> 25\u001b[0m     response \u001b[38;5;241m=\u001b[39m \u001b[43mrequests\u001b[49m\u001b[38;5;241;43m.\u001b[39;49m\u001b[43mget\u001b[49m\u001b[43m(\u001b[49m\u001b[43mURL\u001b[49m\u001b[43m,\u001b[49m\u001b[43m \u001b[49m\u001b[43mheaders\u001b[49m\u001b[38;5;241;43m=\u001b[39;49m\u001b[43m{\u001b[49m\u001b[38;5;124;43m\"\u001b[39;49m\u001b[38;5;124;43mAccept-Language\u001b[39;49m\u001b[38;5;124;43m\"\u001b[39;49m\u001b[43m:\u001b[49m\u001b[38;5;124;43m\"\u001b[39;49m\u001b[38;5;124;43men-US\u001b[39;49m\u001b[38;5;124;43m\"\u001b[39;49m\u001b[43m}\u001b[49m\u001b[43m)\u001b[49m\n\u001b[1;32m     26\u001b[0m     \u001b[38;5;66;03m# one minor bug still in there: some requests (for example number 58 in 20220601_larger_data_b) are a valid request but have to download many mb first. the solution would be to stop the request.get if it runs longer than x seconds\u001b[39;00m\n\u001b[1;32m     27\u001b[0m     \u001b[38;5;28;01mtry\u001b[39;00m:\n",
      "File \u001b[0;32m~/.pyenv/versions/3.8.12/envs/BatchLegal/lib/python3.8/site-packages/requests/api.py:75\u001b[0m, in \u001b[0;36mget\u001b[0;34m(url, params, **kwargs)\u001b[0m\n\u001b[1;32m     64\u001b[0m \u001b[38;5;28;01mdef\u001b[39;00m \u001b[38;5;21mget\u001b[39m(url, params\u001b[38;5;241m=\u001b[39m\u001b[38;5;28;01mNone\u001b[39;00m, \u001b[38;5;241m*\u001b[39m\u001b[38;5;241m*\u001b[39mkwargs):\n\u001b[1;32m     65\u001b[0m     \u001b[38;5;124mr\u001b[39m\u001b[38;5;124;03m\"\"\"Sends a GET request.\u001b[39;00m\n\u001b[1;32m     66\u001b[0m \n\u001b[1;32m     67\u001b[0m \u001b[38;5;124;03m    :param url: URL for the new :class:`Request` object.\u001b[39;00m\n\u001b[0;32m   (...)\u001b[0m\n\u001b[1;32m     72\u001b[0m \u001b[38;5;124;03m    :rtype: requests.Response\u001b[39;00m\n\u001b[1;32m     73\u001b[0m \u001b[38;5;124;03m    \"\"\"\u001b[39;00m\n\u001b[0;32m---> 75\u001b[0m     \u001b[38;5;28;01mreturn\u001b[39;00m \u001b[43mrequest\u001b[49m\u001b[43m(\u001b[49m\u001b[38;5;124;43m'\u001b[39;49m\u001b[38;5;124;43mget\u001b[39;49m\u001b[38;5;124;43m'\u001b[39;49m\u001b[43m,\u001b[49m\u001b[43m \u001b[49m\u001b[43murl\u001b[49m\u001b[43m,\u001b[49m\u001b[43m \u001b[49m\u001b[43mparams\u001b[49m\u001b[38;5;241;43m=\u001b[39;49m\u001b[43mparams\u001b[49m\u001b[43m,\u001b[49m\u001b[43m \u001b[49m\u001b[38;5;241;43m*\u001b[39;49m\u001b[38;5;241;43m*\u001b[39;49m\u001b[43mkwargs\u001b[49m\u001b[43m)\u001b[49m\n",
      "File \u001b[0;32m~/.pyenv/versions/3.8.12/envs/BatchLegal/lib/python3.8/site-packages/requests/api.py:61\u001b[0m, in \u001b[0;36mrequest\u001b[0;34m(method, url, **kwargs)\u001b[0m\n\u001b[1;32m     57\u001b[0m \u001b[38;5;66;03m# By using the 'with' statement we are sure the session is closed, thus we\u001b[39;00m\n\u001b[1;32m     58\u001b[0m \u001b[38;5;66;03m# avoid leaving sockets open which can trigger a ResourceWarning in some\u001b[39;00m\n\u001b[1;32m     59\u001b[0m \u001b[38;5;66;03m# cases, and look like a memory leak in others.\u001b[39;00m\n\u001b[1;32m     60\u001b[0m \u001b[38;5;28;01mwith\u001b[39;00m sessions\u001b[38;5;241m.\u001b[39mSession() \u001b[38;5;28;01mas\u001b[39;00m session:\n\u001b[0;32m---> 61\u001b[0m     \u001b[38;5;28;01mreturn\u001b[39;00m \u001b[43msession\u001b[49m\u001b[38;5;241;43m.\u001b[39;49m\u001b[43mrequest\u001b[49m\u001b[43m(\u001b[49m\u001b[43mmethod\u001b[49m\u001b[38;5;241;43m=\u001b[39;49m\u001b[43mmethod\u001b[49m\u001b[43m,\u001b[49m\u001b[43m \u001b[49m\u001b[43murl\u001b[49m\u001b[38;5;241;43m=\u001b[39;49m\u001b[43murl\u001b[49m\u001b[43m,\u001b[49m\u001b[43m \u001b[49m\u001b[38;5;241;43m*\u001b[39;49m\u001b[38;5;241;43m*\u001b[39;49m\u001b[43mkwargs\u001b[49m\u001b[43m)\u001b[49m\n",
      "File \u001b[0;32m~/.pyenv/versions/3.8.12/envs/BatchLegal/lib/python3.8/site-packages/requests/sessions.py:529\u001b[0m, in \u001b[0;36mSession.request\u001b[0;34m(self, method, url, params, data, headers, cookies, files, auth, timeout, allow_redirects, proxies, hooks, stream, verify, cert, json)\u001b[0m\n\u001b[1;32m    524\u001b[0m send_kwargs \u001b[38;5;241m=\u001b[39m {\n\u001b[1;32m    525\u001b[0m     \u001b[38;5;124m'\u001b[39m\u001b[38;5;124mtimeout\u001b[39m\u001b[38;5;124m'\u001b[39m: timeout,\n\u001b[1;32m    526\u001b[0m     \u001b[38;5;124m'\u001b[39m\u001b[38;5;124mallow_redirects\u001b[39m\u001b[38;5;124m'\u001b[39m: allow_redirects,\n\u001b[1;32m    527\u001b[0m }\n\u001b[1;32m    528\u001b[0m send_kwargs\u001b[38;5;241m.\u001b[39mupdate(settings)\n\u001b[0;32m--> 529\u001b[0m resp \u001b[38;5;241m=\u001b[39m \u001b[38;5;28;43mself\u001b[39;49m\u001b[38;5;241;43m.\u001b[39;49m\u001b[43msend\u001b[49m\u001b[43m(\u001b[49m\u001b[43mprep\u001b[49m\u001b[43m,\u001b[49m\u001b[43m \u001b[49m\u001b[38;5;241;43m*\u001b[39;49m\u001b[38;5;241;43m*\u001b[39;49m\u001b[43msend_kwargs\u001b[49m\u001b[43m)\u001b[49m\n\u001b[1;32m    531\u001b[0m \u001b[38;5;28;01mreturn\u001b[39;00m resp\n",
      "File \u001b[0;32m~/.pyenv/versions/3.8.12/envs/BatchLegal/lib/python3.8/site-packages/requests/sessions.py:645\u001b[0m, in \u001b[0;36mSession.send\u001b[0;34m(self, request, **kwargs)\u001b[0m\n\u001b[1;32m    642\u001b[0m start \u001b[38;5;241m=\u001b[39m preferred_clock()\n\u001b[1;32m    644\u001b[0m \u001b[38;5;66;03m# Send the request\u001b[39;00m\n\u001b[0;32m--> 645\u001b[0m r \u001b[38;5;241m=\u001b[39m \u001b[43madapter\u001b[49m\u001b[38;5;241;43m.\u001b[39;49m\u001b[43msend\u001b[49m\u001b[43m(\u001b[49m\u001b[43mrequest\u001b[49m\u001b[43m,\u001b[49m\u001b[43m \u001b[49m\u001b[38;5;241;43m*\u001b[39;49m\u001b[38;5;241;43m*\u001b[39;49m\u001b[43mkwargs\u001b[49m\u001b[43m)\u001b[49m\n\u001b[1;32m    647\u001b[0m \u001b[38;5;66;03m# Total elapsed time of the request (approximately)\u001b[39;00m\n\u001b[1;32m    648\u001b[0m elapsed \u001b[38;5;241m=\u001b[39m preferred_clock() \u001b[38;5;241m-\u001b[39m start\n",
      "File \u001b[0;32m~/.pyenv/versions/3.8.12/envs/BatchLegal/lib/python3.8/site-packages/requests/adapters.py:440\u001b[0m, in \u001b[0;36mHTTPAdapter.send\u001b[0;34m(self, request, stream, timeout, verify, cert, proxies)\u001b[0m\n\u001b[1;32m    438\u001b[0m \u001b[38;5;28;01mtry\u001b[39;00m:\n\u001b[1;32m    439\u001b[0m     \u001b[38;5;28;01mif\u001b[39;00m \u001b[38;5;129;01mnot\u001b[39;00m chunked:\n\u001b[0;32m--> 440\u001b[0m         resp \u001b[38;5;241m=\u001b[39m \u001b[43mconn\u001b[49m\u001b[38;5;241;43m.\u001b[39;49m\u001b[43murlopen\u001b[49m\u001b[43m(\u001b[49m\n\u001b[1;32m    441\u001b[0m \u001b[43m            \u001b[49m\u001b[43mmethod\u001b[49m\u001b[38;5;241;43m=\u001b[39;49m\u001b[43mrequest\u001b[49m\u001b[38;5;241;43m.\u001b[39;49m\u001b[43mmethod\u001b[49m\u001b[43m,\u001b[49m\n\u001b[1;32m    442\u001b[0m \u001b[43m            \u001b[49m\u001b[43murl\u001b[49m\u001b[38;5;241;43m=\u001b[39;49m\u001b[43murl\u001b[49m\u001b[43m,\u001b[49m\n\u001b[1;32m    443\u001b[0m \u001b[43m            \u001b[49m\u001b[43mbody\u001b[49m\u001b[38;5;241;43m=\u001b[39;49m\u001b[43mrequest\u001b[49m\u001b[38;5;241;43m.\u001b[39;49m\u001b[43mbody\u001b[49m\u001b[43m,\u001b[49m\n\u001b[1;32m    444\u001b[0m \u001b[43m            \u001b[49m\u001b[43mheaders\u001b[49m\u001b[38;5;241;43m=\u001b[39;49m\u001b[43mrequest\u001b[49m\u001b[38;5;241;43m.\u001b[39;49m\u001b[43mheaders\u001b[49m\u001b[43m,\u001b[49m\n\u001b[1;32m    445\u001b[0m \u001b[43m            \u001b[49m\u001b[43mredirect\u001b[49m\u001b[38;5;241;43m=\u001b[39;49m\u001b[38;5;28;43;01mFalse\u001b[39;49;00m\u001b[43m,\u001b[49m\n\u001b[1;32m    446\u001b[0m \u001b[43m            \u001b[49m\u001b[43massert_same_host\u001b[49m\u001b[38;5;241;43m=\u001b[39;49m\u001b[38;5;28;43;01mFalse\u001b[39;49;00m\u001b[43m,\u001b[49m\n\u001b[1;32m    447\u001b[0m \u001b[43m            \u001b[49m\u001b[43mpreload_content\u001b[49m\u001b[38;5;241;43m=\u001b[39;49m\u001b[38;5;28;43;01mFalse\u001b[39;49;00m\u001b[43m,\u001b[49m\n\u001b[1;32m    448\u001b[0m \u001b[43m            \u001b[49m\u001b[43mdecode_content\u001b[49m\u001b[38;5;241;43m=\u001b[39;49m\u001b[38;5;28;43;01mFalse\u001b[39;49;00m\u001b[43m,\u001b[49m\n\u001b[1;32m    449\u001b[0m \u001b[43m            \u001b[49m\u001b[43mretries\u001b[49m\u001b[38;5;241;43m=\u001b[39;49m\u001b[38;5;28;43mself\u001b[39;49m\u001b[38;5;241;43m.\u001b[39;49m\u001b[43mmax_retries\u001b[49m\u001b[43m,\u001b[49m\n\u001b[1;32m    450\u001b[0m \u001b[43m            \u001b[49m\u001b[43mtimeout\u001b[49m\u001b[38;5;241;43m=\u001b[39;49m\u001b[43mtimeout\u001b[49m\n\u001b[1;32m    451\u001b[0m \u001b[43m        \u001b[49m\u001b[43m)\u001b[49m\n\u001b[1;32m    453\u001b[0m     \u001b[38;5;66;03m# Send the request.\u001b[39;00m\n\u001b[1;32m    454\u001b[0m     \u001b[38;5;28;01melse\u001b[39;00m:\n\u001b[1;32m    455\u001b[0m         \u001b[38;5;28;01mif\u001b[39;00m \u001b[38;5;28mhasattr\u001b[39m(conn, \u001b[38;5;124m'\u001b[39m\u001b[38;5;124mproxy_pool\u001b[39m\u001b[38;5;124m'\u001b[39m):\n",
      "File \u001b[0;32m~/.pyenv/versions/3.8.12/envs/BatchLegal/lib/python3.8/site-packages/urllib3/connectionpool.py:703\u001b[0m, in \u001b[0;36mHTTPConnectionPool.urlopen\u001b[0;34m(self, method, url, body, headers, retries, redirect, assert_same_host, timeout, pool_timeout, release_conn, chunked, body_pos, **response_kw)\u001b[0m\n\u001b[1;32m    700\u001b[0m     \u001b[38;5;28mself\u001b[39m\u001b[38;5;241m.\u001b[39m_prepare_proxy(conn)\n\u001b[1;32m    702\u001b[0m \u001b[38;5;66;03m# Make the request on the httplib connection object.\u001b[39;00m\n\u001b[0;32m--> 703\u001b[0m httplib_response \u001b[38;5;241m=\u001b[39m \u001b[38;5;28;43mself\u001b[39;49m\u001b[38;5;241;43m.\u001b[39;49m\u001b[43m_make_request\u001b[49m\u001b[43m(\u001b[49m\n\u001b[1;32m    704\u001b[0m \u001b[43m    \u001b[49m\u001b[43mconn\u001b[49m\u001b[43m,\u001b[49m\n\u001b[1;32m    705\u001b[0m \u001b[43m    \u001b[49m\u001b[43mmethod\u001b[49m\u001b[43m,\u001b[49m\n\u001b[1;32m    706\u001b[0m \u001b[43m    \u001b[49m\u001b[43murl\u001b[49m\u001b[43m,\u001b[49m\n\u001b[1;32m    707\u001b[0m \u001b[43m    \u001b[49m\u001b[43mtimeout\u001b[49m\u001b[38;5;241;43m=\u001b[39;49m\u001b[43mtimeout_obj\u001b[49m\u001b[43m,\u001b[49m\n\u001b[1;32m    708\u001b[0m \u001b[43m    \u001b[49m\u001b[43mbody\u001b[49m\u001b[38;5;241;43m=\u001b[39;49m\u001b[43mbody\u001b[49m\u001b[43m,\u001b[49m\n\u001b[1;32m    709\u001b[0m \u001b[43m    \u001b[49m\u001b[43mheaders\u001b[49m\u001b[38;5;241;43m=\u001b[39;49m\u001b[43mheaders\u001b[49m\u001b[43m,\u001b[49m\n\u001b[1;32m    710\u001b[0m \u001b[43m    \u001b[49m\u001b[43mchunked\u001b[49m\u001b[38;5;241;43m=\u001b[39;49m\u001b[43mchunked\u001b[49m\u001b[43m,\u001b[49m\n\u001b[1;32m    711\u001b[0m \u001b[43m\u001b[49m\u001b[43m)\u001b[49m\n\u001b[1;32m    713\u001b[0m \u001b[38;5;66;03m# If we're going to release the connection in ``finally:``, then\u001b[39;00m\n\u001b[1;32m    714\u001b[0m \u001b[38;5;66;03m# the response doesn't need to know about the connection. Otherwise\u001b[39;00m\n\u001b[1;32m    715\u001b[0m \u001b[38;5;66;03m# it will also try to release it and we'll have a double-release\u001b[39;00m\n\u001b[1;32m    716\u001b[0m \u001b[38;5;66;03m# mess.\u001b[39;00m\n\u001b[1;32m    717\u001b[0m response_conn \u001b[38;5;241m=\u001b[39m conn \u001b[38;5;28;01mif\u001b[39;00m \u001b[38;5;129;01mnot\u001b[39;00m release_conn \u001b[38;5;28;01melse\u001b[39;00m \u001b[38;5;28;01mNone\u001b[39;00m\n",
      "File \u001b[0;32m~/.pyenv/versions/3.8.12/envs/BatchLegal/lib/python3.8/site-packages/urllib3/connectionpool.py:449\u001b[0m, in \u001b[0;36mHTTPConnectionPool._make_request\u001b[0;34m(self, conn, method, url, timeout, chunked, **httplib_request_kw)\u001b[0m\n\u001b[1;32m    444\u001b[0m             httplib_response \u001b[38;5;241m=\u001b[39m conn\u001b[38;5;241m.\u001b[39mgetresponse()\n\u001b[1;32m    445\u001b[0m         \u001b[38;5;28;01mexcept\u001b[39;00m \u001b[38;5;167;01mBaseException\u001b[39;00m \u001b[38;5;28;01mas\u001b[39;00m e:\n\u001b[1;32m    446\u001b[0m             \u001b[38;5;66;03m# Remove the TypeError from the exception chain in\u001b[39;00m\n\u001b[1;32m    447\u001b[0m             \u001b[38;5;66;03m# Python 3 (including for exceptions like SystemExit).\u001b[39;00m\n\u001b[1;32m    448\u001b[0m             \u001b[38;5;66;03m# Otherwise it looks like a bug in the code.\u001b[39;00m\n\u001b[0;32m--> 449\u001b[0m             \u001b[43msix\u001b[49m\u001b[38;5;241;43m.\u001b[39;49m\u001b[43mraise_from\u001b[49m\u001b[43m(\u001b[49m\u001b[43me\u001b[49m\u001b[43m,\u001b[49m\u001b[43m \u001b[49m\u001b[38;5;28;43;01mNone\u001b[39;49;00m\u001b[43m)\u001b[49m\n\u001b[1;32m    450\u001b[0m \u001b[38;5;28;01mexcept\u001b[39;00m (SocketTimeout, BaseSSLError, SocketError) \u001b[38;5;28;01mas\u001b[39;00m e:\n\u001b[1;32m    451\u001b[0m     \u001b[38;5;28mself\u001b[39m\u001b[38;5;241m.\u001b[39m_raise_timeout(err\u001b[38;5;241m=\u001b[39me, url\u001b[38;5;241m=\u001b[39murl, timeout_value\u001b[38;5;241m=\u001b[39mread_timeout)\n",
      "File \u001b[0;32m<string>:3\u001b[0m, in \u001b[0;36mraise_from\u001b[0;34m(value, from_value)\u001b[0m\n",
      "File \u001b[0;32m~/.pyenv/versions/3.8.12/envs/BatchLegal/lib/python3.8/site-packages/urllib3/connectionpool.py:444\u001b[0m, in \u001b[0;36mHTTPConnectionPool._make_request\u001b[0;34m(self, conn, method, url, timeout, chunked, **httplib_request_kw)\u001b[0m\n\u001b[1;32m    441\u001b[0m \u001b[38;5;28;01mexcept\u001b[39;00m \u001b[38;5;167;01mTypeError\u001b[39;00m:\n\u001b[1;32m    442\u001b[0m     \u001b[38;5;66;03m# Python 3\u001b[39;00m\n\u001b[1;32m    443\u001b[0m     \u001b[38;5;28;01mtry\u001b[39;00m:\n\u001b[0;32m--> 444\u001b[0m         httplib_response \u001b[38;5;241m=\u001b[39m \u001b[43mconn\u001b[49m\u001b[38;5;241;43m.\u001b[39;49m\u001b[43mgetresponse\u001b[49m\u001b[43m(\u001b[49m\u001b[43m)\u001b[49m\n\u001b[1;32m    445\u001b[0m     \u001b[38;5;28;01mexcept\u001b[39;00m \u001b[38;5;167;01mBaseException\u001b[39;00m \u001b[38;5;28;01mas\u001b[39;00m e:\n\u001b[1;32m    446\u001b[0m         \u001b[38;5;66;03m# Remove the TypeError from the exception chain in\u001b[39;00m\n\u001b[1;32m    447\u001b[0m         \u001b[38;5;66;03m# Python 3 (including for exceptions like SystemExit).\u001b[39;00m\n\u001b[1;32m    448\u001b[0m         \u001b[38;5;66;03m# Otherwise it looks like a bug in the code.\u001b[39;00m\n\u001b[1;32m    449\u001b[0m         six\u001b[38;5;241m.\u001b[39mraise_from(e, \u001b[38;5;28;01mNone\u001b[39;00m)\n",
      "File \u001b[0;32m~/.pyenv/versions/3.8.12/lib/python3.8/http/client.py:1348\u001b[0m, in \u001b[0;36mHTTPConnection.getresponse\u001b[0;34m(self)\u001b[0m\n\u001b[1;32m   1346\u001b[0m \u001b[38;5;28;01mtry\u001b[39;00m:\n\u001b[1;32m   1347\u001b[0m     \u001b[38;5;28;01mtry\u001b[39;00m:\n\u001b[0;32m-> 1348\u001b[0m         \u001b[43mresponse\u001b[49m\u001b[38;5;241;43m.\u001b[39;49m\u001b[43mbegin\u001b[49m\u001b[43m(\u001b[49m\u001b[43m)\u001b[49m\n\u001b[1;32m   1349\u001b[0m     \u001b[38;5;28;01mexcept\u001b[39;00m \u001b[38;5;167;01mConnectionError\u001b[39;00m:\n\u001b[1;32m   1350\u001b[0m         \u001b[38;5;28mself\u001b[39m\u001b[38;5;241m.\u001b[39mclose()\n",
      "File \u001b[0;32m~/.pyenv/versions/3.8.12/lib/python3.8/http/client.py:316\u001b[0m, in \u001b[0;36mHTTPResponse.begin\u001b[0;34m(self)\u001b[0m\n\u001b[1;32m    314\u001b[0m \u001b[38;5;66;03m# read until we get a non-100 response\u001b[39;00m\n\u001b[1;32m    315\u001b[0m \u001b[38;5;28;01mwhile\u001b[39;00m \u001b[38;5;28;01mTrue\u001b[39;00m:\n\u001b[0;32m--> 316\u001b[0m     version, status, reason \u001b[38;5;241m=\u001b[39m \u001b[38;5;28;43mself\u001b[39;49m\u001b[38;5;241;43m.\u001b[39;49m\u001b[43m_read_status\u001b[49m\u001b[43m(\u001b[49m\u001b[43m)\u001b[49m\n\u001b[1;32m    317\u001b[0m     \u001b[38;5;28;01mif\u001b[39;00m status \u001b[38;5;241m!=\u001b[39m CONTINUE:\n\u001b[1;32m    318\u001b[0m         \u001b[38;5;28;01mbreak\u001b[39;00m\n",
      "File \u001b[0;32m~/.pyenv/versions/3.8.12/lib/python3.8/http/client.py:277\u001b[0m, in \u001b[0;36mHTTPResponse._read_status\u001b[0;34m(self)\u001b[0m\n\u001b[1;32m    276\u001b[0m \u001b[38;5;28;01mdef\u001b[39;00m \u001b[38;5;21m_read_status\u001b[39m(\u001b[38;5;28mself\u001b[39m):\n\u001b[0;32m--> 277\u001b[0m     line \u001b[38;5;241m=\u001b[39m \u001b[38;5;28mstr\u001b[39m(\u001b[38;5;28;43mself\u001b[39;49m\u001b[38;5;241;43m.\u001b[39;49m\u001b[43mfp\u001b[49m\u001b[38;5;241;43m.\u001b[39;49m\u001b[43mreadline\u001b[49m\u001b[43m(\u001b[49m\u001b[43m_MAXLINE\u001b[49m\u001b[43m \u001b[49m\u001b[38;5;241;43m+\u001b[39;49m\u001b[43m \u001b[49m\u001b[38;5;241;43m1\u001b[39;49m\u001b[43m)\u001b[49m, \u001b[38;5;124m\"\u001b[39m\u001b[38;5;124miso-8859-1\u001b[39m\u001b[38;5;124m\"\u001b[39m)\n\u001b[1;32m    278\u001b[0m     \u001b[38;5;28;01mif\u001b[39;00m \u001b[38;5;28mlen\u001b[39m(line) \u001b[38;5;241m>\u001b[39m _MAXLINE:\n\u001b[1;32m    279\u001b[0m         \u001b[38;5;28;01mraise\u001b[39;00m LineTooLong(\u001b[38;5;124m\"\u001b[39m\u001b[38;5;124mstatus line\u001b[39m\u001b[38;5;124m\"\u001b[39m)\n",
      "File \u001b[0;32m~/.pyenv/versions/3.8.12/lib/python3.8/socket.py:669\u001b[0m, in \u001b[0;36mSocketIO.readinto\u001b[0;34m(self, b)\u001b[0m\n\u001b[1;32m    667\u001b[0m \u001b[38;5;28;01mwhile\u001b[39;00m \u001b[38;5;28;01mTrue\u001b[39;00m:\n\u001b[1;32m    668\u001b[0m     \u001b[38;5;28;01mtry\u001b[39;00m:\n\u001b[0;32m--> 669\u001b[0m         \u001b[38;5;28;01mreturn\u001b[39;00m \u001b[38;5;28;43mself\u001b[39;49m\u001b[38;5;241;43m.\u001b[39;49m\u001b[43m_sock\u001b[49m\u001b[38;5;241;43m.\u001b[39;49m\u001b[43mrecv_into\u001b[49m\u001b[43m(\u001b[49m\u001b[43mb\u001b[49m\u001b[43m)\u001b[49m\n\u001b[1;32m    670\u001b[0m     \u001b[38;5;28;01mexcept\u001b[39;00m timeout:\n\u001b[1;32m    671\u001b[0m         \u001b[38;5;28mself\u001b[39m\u001b[38;5;241m.\u001b[39m_timeout_occurred \u001b[38;5;241m=\u001b[39m \u001b[38;5;28;01mTrue\u001b[39;00m\n",
      "\u001b[0;31mKeyboardInterrupt\u001b[0m: "
     ]
    }
   ],
   "source": [
    "%%time\n",
    "#retrieve metadata\n",
    "path = \"../raw_data/\"\n",
    "filename_without_csv = \"20220602\"\n",
    "data = read_metadata(path + filename_without_csv + '.csv')\n",
    "\n",
    "# subset metadata\n",
    "data = data.iloc[8000:] \n",
    "# started at 12:00 at 8000\n",
    "\n",
    "# get content\n",
    "data_with_content = get_all_content_with_splitting(data, batchsize = 500)\n",
    "\n",
    "# clean content\n",
    "#data_with_content_clean = clean_data(data_with_content)\n",
    "\n",
    "# export data to csv\n",
    "#data_with_content_clean.to_csv(path + filename_without_csv + \"_scraped_test.csv\")"
   ]
  },
  {
   "cell_type": "code",
   "execution_count": null,
   "id": "183b845b",
   "metadata": {},
   "outputs": [],
   "source": []
  },
  {
   "cell_type": "markdown",
   "id": "83305ecc",
   "metadata": {},
   "source": [
    "**Read partitioned Data**"
   ]
  },
  {
   "cell_type": "code",
   "execution_count": 88,
   "id": "df525792",
   "metadata": {
    "collapsed": true
   },
   "outputs": [
    {
     "name": "stderr",
     "output_type": "stream",
     "text": [
      "/tmp/ipykernel_18117/104240831.py:5: SettingWithCopyWarning: \n",
      "A value is trying to be set on a copy of a slice from a DataFrame\n",
      "\n",
      "See the caveats in the documentation: https://pandas.pydata.org/pandas-docs/stable/user_guide/indexing.html#returning-a-view-versus-a-copy\n",
      "  data_tmp['Content'].iloc[0:499] = data_tmp['Content'].iloc[500:999].reset_index()['Content']\n",
      "/tmp/ipykernel_18117/104240831.py:7: FutureWarning: The frame.append method is deprecated and will be removed from pandas in a future version. Use pandas.concat instead.\n",
      "  data_full = data_full.append(data_tmp)\n",
      "/tmp/ipykernel_18117/104240831.py:5: SettingWithCopyWarning: \n",
      "A value is trying to be set on a copy of a slice from a DataFrame\n",
      "\n",
      "See the caveats in the documentation: https://pandas.pydata.org/pandas-docs/stable/user_guide/indexing.html#returning-a-view-versus-a-copy\n",
      "  data_tmp['Content'].iloc[0:499] = data_tmp['Content'].iloc[500:999].reset_index()['Content']\n",
      "/tmp/ipykernel_18117/104240831.py:7: FutureWarning: The frame.append method is deprecated and will be removed from pandas in a future version. Use pandas.concat instead.\n",
      "  data_full = data_full.append(data_tmp)\n",
      "/tmp/ipykernel_18117/104240831.py:5: SettingWithCopyWarning: \n",
      "A value is trying to be set on a copy of a slice from a DataFrame\n",
      "\n",
      "See the caveats in the documentation: https://pandas.pydata.org/pandas-docs/stable/user_guide/indexing.html#returning-a-view-versus-a-copy\n",
      "  data_tmp['Content'].iloc[0:499] = data_tmp['Content'].iloc[500:999].reset_index()['Content']\n",
      "/tmp/ipykernel_18117/104240831.py:7: FutureWarning: The frame.append method is deprecated and will be removed from pandas in a future version. Use pandas.concat instead.\n",
      "  data_full = data_full.append(data_tmp)\n",
      "/tmp/ipykernel_18117/104240831.py:5: SettingWithCopyWarning: \n",
      "A value is trying to be set on a copy of a slice from a DataFrame\n",
      "\n",
      "See the caveats in the documentation: https://pandas.pydata.org/pandas-docs/stable/user_guide/indexing.html#returning-a-view-versus-a-copy\n",
      "  data_tmp['Content'].iloc[0:499] = data_tmp['Content'].iloc[500:999].reset_index()['Content']\n",
      "/tmp/ipykernel_18117/104240831.py:7: FutureWarning: The frame.append method is deprecated and will be removed from pandas in a future version. Use pandas.concat instead.\n",
      "  data_full = data_full.append(data_tmp)\n",
      "/tmp/ipykernel_18117/104240831.py:5: SettingWithCopyWarning: \n",
      "A value is trying to be set on a copy of a slice from a DataFrame\n",
      "\n",
      "See the caveats in the documentation: https://pandas.pydata.org/pandas-docs/stable/user_guide/indexing.html#returning-a-view-versus-a-copy\n",
      "  data_tmp['Content'].iloc[0:499] = data_tmp['Content'].iloc[500:999].reset_index()['Content']\n",
      "/tmp/ipykernel_18117/104240831.py:7: FutureWarning: The frame.append method is deprecated and will be removed from pandas in a future version. Use pandas.concat instead.\n",
      "  data_full = data_full.append(data_tmp)\n",
      "/tmp/ipykernel_18117/104240831.py:5: SettingWithCopyWarning: \n",
      "A value is trying to be set on a copy of a slice from a DataFrame\n",
      "\n",
      "See the caveats in the documentation: https://pandas.pydata.org/pandas-docs/stable/user_guide/indexing.html#returning-a-view-versus-a-copy\n",
      "  data_tmp['Content'].iloc[0:499] = data_tmp['Content'].iloc[500:999].reset_index()['Content']\n",
      "/tmp/ipykernel_18117/104240831.py:7: FutureWarning: The frame.append method is deprecated and will be removed from pandas in a future version. Use pandas.concat instead.\n",
      "  data_full = data_full.append(data_tmp)\n",
      "/tmp/ipykernel_18117/104240831.py:5: SettingWithCopyWarning: \n",
      "A value is trying to be set on a copy of a slice from a DataFrame\n",
      "\n",
      "See the caveats in the documentation: https://pandas.pydata.org/pandas-docs/stable/user_guide/indexing.html#returning-a-view-versus-a-copy\n",
      "  data_tmp['Content'].iloc[0:499] = data_tmp['Content'].iloc[500:999].reset_index()['Content']\n",
      "/tmp/ipykernel_18117/104240831.py:7: FutureWarning: The frame.append method is deprecated and will be removed from pandas in a future version. Use pandas.concat instead.\n",
      "  data_full = data_full.append(data_tmp)\n",
      "/tmp/ipykernel_18117/104240831.py:5: SettingWithCopyWarning: \n",
      "A value is trying to be set on a copy of a slice from a DataFrame\n",
      "\n",
      "See the caveats in the documentation: https://pandas.pydata.org/pandas-docs/stable/user_guide/indexing.html#returning-a-view-versus-a-copy\n",
      "  data_tmp['Content'].iloc[0:499] = data_tmp['Content'].iloc[500:999].reset_index()['Content']\n",
      "/tmp/ipykernel_18117/104240831.py:7: FutureWarning: The frame.append method is deprecated and will be removed from pandas in a future version. Use pandas.concat instead.\n",
      "  data_full = data_full.append(data_tmp)\n",
      "/tmp/ipykernel_18117/104240831.py:5: SettingWithCopyWarning: \n",
      "A value is trying to be set on a copy of a slice from a DataFrame\n",
      "\n",
      "See the caveats in the documentation: https://pandas.pydata.org/pandas-docs/stable/user_guide/indexing.html#returning-a-view-versus-a-copy\n",
      "  data_tmp['Content'].iloc[0:499] = data_tmp['Content'].iloc[500:999].reset_index()['Content']\n",
      "/tmp/ipykernel_18117/104240831.py:7: FutureWarning: The frame.append method is deprecated and will be removed from pandas in a future version. Use pandas.concat instead.\n",
      "  data_full = data_full.append(data_tmp)\n",
      "/tmp/ipykernel_18117/104240831.py:5: SettingWithCopyWarning: \n",
      "A value is trying to be set on a copy of a slice from a DataFrame\n",
      "\n",
      "See the caveats in the documentation: https://pandas.pydata.org/pandas-docs/stable/user_guide/indexing.html#returning-a-view-versus-a-copy\n",
      "  data_tmp['Content'].iloc[0:499] = data_tmp['Content'].iloc[500:999].reset_index()['Content']\n",
      "/tmp/ipykernel_18117/104240831.py:7: FutureWarning: The frame.append method is deprecated and will be removed from pandas in a future version. Use pandas.concat instead.\n",
      "  data_full = data_full.append(data_tmp)\n",
      "/tmp/ipykernel_18117/104240831.py:5: SettingWithCopyWarning: \n",
      "A value is trying to be set on a copy of a slice from a DataFrame\n",
      "\n",
      "See the caveats in the documentation: https://pandas.pydata.org/pandas-docs/stable/user_guide/indexing.html#returning-a-view-versus-a-copy\n",
      "  data_tmp['Content'].iloc[0:499] = data_tmp['Content'].iloc[500:999].reset_index()['Content']\n",
      "/tmp/ipykernel_18117/104240831.py:7: FutureWarning: The frame.append method is deprecated and will be removed from pandas in a future version. Use pandas.concat instead.\n",
      "  data_full = data_full.append(data_tmp)\n",
      "/tmp/ipykernel_18117/104240831.py:5: SettingWithCopyWarning: \n",
      "A value is trying to be set on a copy of a slice from a DataFrame\n",
      "\n",
      "See the caveats in the documentation: https://pandas.pydata.org/pandas-docs/stable/user_guide/indexing.html#returning-a-view-versus-a-copy\n",
      "  data_tmp['Content'].iloc[0:499] = data_tmp['Content'].iloc[500:999].reset_index()['Content']\n",
      "/tmp/ipykernel_18117/104240831.py:7: FutureWarning: The frame.append method is deprecated and will be removed from pandas in a future version. Use pandas.concat instead.\n",
      "  data_full = data_full.append(data_tmp)\n",
      "/tmp/ipykernel_18117/104240831.py:5: SettingWithCopyWarning: \n",
      "A value is trying to be set on a copy of a slice from a DataFrame\n",
      "\n",
      "See the caveats in the documentation: https://pandas.pydata.org/pandas-docs/stable/user_guide/indexing.html#returning-a-view-versus-a-copy\n",
      "  data_tmp['Content'].iloc[0:499] = data_tmp['Content'].iloc[500:999].reset_index()['Content']\n",
      "/tmp/ipykernel_18117/104240831.py:7: FutureWarning: The frame.append method is deprecated and will be removed from pandas in a future version. Use pandas.concat instead.\n",
      "  data_full = data_full.append(data_tmp)\n",
      "/tmp/ipykernel_18117/104240831.py:5: SettingWithCopyWarning: \n",
      "A value is trying to be set on a copy of a slice from a DataFrame\n",
      "\n",
      "See the caveats in the documentation: https://pandas.pydata.org/pandas-docs/stable/user_guide/indexing.html#returning-a-view-versus-a-copy\n",
      "  data_tmp['Content'].iloc[0:499] = data_tmp['Content'].iloc[500:999].reset_index()['Content']\n",
      "/tmp/ipykernel_18117/104240831.py:7: FutureWarning: The frame.append method is deprecated and will be removed from pandas in a future version. Use pandas.concat instead.\n",
      "  data_full = data_full.append(data_tmp)\n"
     ]
    }
   ],
   "source": [
    "data_full = pd.read_csv(\"../raw_data/tmp/20220602_tmp_batch0.csv\")\n",
    "\n",
    "liste = list(np.arange(1,15)) # number+1 of tmp-dataframes, minus the first one\n",
    "\n",
    "for i in liste:\n",
    "    data_tmp = pd.read_csv(f\"../raw_data/tmp/20220602_tmp_batch{i}.csv\")\n",
    "    data_tmp['Content'].iloc[0:499] = data_tmp['Content'].iloc[500:999].reset_index()['Content']\n",
    "    data_tmp = data_tmp.drop(list(np.arange(500,1000)))\n",
    "    data_full = data_full.append(data_tmp)\n",
    "    \n",
    "data_full = data_full.reset_index().drop(columns = ['Unnamed: 0.1', 'Unnamed: 0', 'index'])\n",
    "data_full = clean_data(data_full)\n",
    "#data_full.to_csv(\"../raw_data/20220602_part1_scraped.csv\") # save to csv\n",
    "\n",
    "# drop duplicates!"
   ]
  },
  {
   "cell_type": "code",
   "execution_count": null,
   "id": "c6bd1425",
   "metadata": {},
   "outputs": [],
   "source": []
  },
  {
   "cell_type": "markdown",
   "id": "474cc478",
   "metadata": {},
   "source": [
    "**Test Area**"
   ]
  },
  {
   "cell_type": "code",
   "execution_count": null,
   "id": "21387bce",
   "metadata": {},
   "outputs": [],
   "source": [
    "get_url(data['cellar'][100])"
   ]
  }
 ],
 "metadata": {
  "kernelspec": {
   "display_name": "Python 3 (ipykernel)",
   "language": "python",
   "name": "python3"
  },
  "language_info": {
   "codemirror_mode": {
    "name": "ipython",
    "version": 3
   },
   "file_extension": ".py",
   "mimetype": "text/x-python",
   "name": "python",
   "nbconvert_exporter": "python",
   "pygments_lexer": "ipython3",
   "version": "3.8.12"
  },
  "toc": {
   "base_numbering": 1,
   "nav_menu": {},
   "number_sections": true,
   "sideBar": true,
   "skip_h1_title": false,
   "title_cell": "Table of Contents",
   "title_sidebar": "Contents",
   "toc_cell": false,
   "toc_position": {},
   "toc_section_display": true,
   "toc_window_display": false
  }
 },
 "nbformat": 4,
 "nbformat_minor": 5
}
