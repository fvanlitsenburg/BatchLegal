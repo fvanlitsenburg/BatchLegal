{
  "cells": [
    {
      "cell_type": "markdown",
      "id": "e8b9035f",
      "metadata": {
        "id": "e8b9035f"
      },
      "source": [
        "# Batch Legal – Comparing the Model's output with the given EU-Directories\n",
        "\n",
        "\n"
      ]
    },
    {
      "cell_type": "code",
      "source": [
        "from google.colab import drive\n",
        "drive.mount('/content/drive')"
      ],
      "metadata": {
        "colab": {
          "base_uri": "https://localhost:8080/"
        },
        "id": "ZspF37LYzI2c",
        "outputId": "6d076bdd-9303-4c40-9e06-199356a42d8c"
      },
      "id": "ZspF37LYzI2c",
      "execution_count": 1,
      "outputs": [
        {
          "output_type": "stream",
          "name": "stdout",
          "text": [
            "Mounted at /content/drive\n"
          ]
        }
      ]
    },
    {
      "cell_type": "markdown",
      "id": "6d4e164f",
      "metadata": {
        "id": "6d4e164f"
      },
      "source": [
        "***Base***: \n",
        "\n",
        "- Adjusted preprocessing steps: took out sentence tokenization and use spacy is used for lemmatization.\n",
        "- Changed from CountVectorizer to TfidfVectorizer"
      ]
    },
    {
      "cell_type": "code",
      "source": [
        "!pip install -U spacy"
      ],
      "metadata": {
        "id": "QMYzYrWjnI0U"
      },
      "id": "QMYzYrWjnI0U",
      "execution_count": null,
      "outputs": []
    },
    {
      "cell_type": "code",
      "source": [
        "!python -m spacy download en_core_web_sm"
      ],
      "metadata": {
        "id": "nlYrCce-nKVi"
      },
      "id": "nlYrCce-nKVi",
      "execution_count": null,
      "outputs": []
    },
    {
      "cell_type": "code",
      "execution_count": 5,
      "id": "d5e5bdcf",
      "metadata": {
        "id": "d5e5bdcf"
      },
      "outputs": [],
      "source": [
        "#Imports\n",
        "\n",
        "import pandas as pd\n",
        "import string\n",
        "import nltk\n",
        "from nltk.tokenize import word_tokenize\n",
        "from nltk.corpus import stopwords \n",
        "from nltk.collocations import *\n",
        "\n",
        "import spacy\n",
        "\n",
        "from sklearn.feature_extraction.text import TfidfVectorizer\n",
        "from sklearn.decomposition import LatentDirichletAllocation\n",
        "\n",
        "from sklearn.model_selection import GridSearchCV"
      ]
    },
    {
      "cell_type": "code",
      "execution_count": 48,
      "id": "0452bb33",
      "metadata": {
        "id": "0452bb33"
      },
      "outputs": [],
      "source": [
        "#Loading a lot of data from csv\n",
        "\"\"\"CSV with 3146 documents\"\"\"\n",
        "\n",
        "data = pd.read_csv(\"/content/drive/MyDrive/3145_docs_scraped_clean.csv\")"
      ]
    },
    {
      "cell_type": "code",
      "execution_count": 49,
      "id": "34e92788",
      "metadata": {
        "colab": {
          "base_uri": "https://localhost:8080/"
        },
        "id": "34e92788",
        "outputId": "dd0b6ef9-96a1-4196-f2f5-e853c2b9fcca"
      },
      "outputs": [
        {
          "output_type": "execute_result",
          "data": {
            "text/plain": [
              "Index(['Unnamed: 0', 'title', 'cellar', 'date', 'dir_code', 'dir_1', 'dir_2',\n",
              "       'dir_3', 'dir_4', 'dir_5', 'dir_6', 'Content'],\n",
              "      dtype='object')"
            ]
          },
          "metadata": {},
          "execution_count": 49
        }
      ],
      "source": [
        "data.columns"
      ]
    },
    {
      "cell_type": "code",
      "source": [
        "data.shape"
      ],
      "metadata": {
        "id": "sbal_n2zFTMR",
        "outputId": "04906e91-058c-4939-c352-baf1310a5b0d",
        "colab": {
          "base_uri": "https://localhost:8080/"
        }
      },
      "id": "sbal_n2zFTMR",
      "execution_count": 50,
      "outputs": [
        {
          "output_type": "execute_result",
          "data": {
            "text/plain": [
              "(3146, 12)"
            ]
          },
          "metadata": {},
          "execution_count": 50
        }
      ]
    },
    {
      "cell_type": "code",
      "execution_count": 51,
      "id": "9948673d",
      "metadata": {
        "id": "9948673d"
      },
      "outputs": [],
      "source": [
        "df_content = data.Content"
      ]
    },
    {
      "cell_type": "code",
      "execution_count": 52,
      "id": "4bb55b3d",
      "metadata": {
        "colab": {
          "base_uri": "https://localhost:8080/"
        },
        "id": "4bb55b3d",
        "outputId": "5f5b9830-7e1c-4176-8381-f38031ad66d5"
      },
      "outputs": [
        {
          "output_type": "execute_result",
          "data": {
            "text/plain": [
              "0    THE EUROPEAN PARLIAMENT AND THE COUNCIL OF THE...\n",
              "1    THE EUROPEAN PARLIAMENT AND THE COUNCIL OF THE...\n",
              "2    THE EUROPEAN COMMISSION, Having regard to the ...\n",
              "3    THE EUROPEAN PARLIAMENT AND THE COUNCIL OF THE...\n",
              "4    THE EUROPEAN PARLIAMENT AND THE COUNCIL OF THE...\n",
              "Name: Content, dtype: object"
            ]
          },
          "metadata": {},
          "execution_count": 52
        }
      ],
      "source": [
        "df_content.head()"
      ]
    },
    {
      "cell_type": "code",
      "execution_count": null,
      "id": "a56f89aa",
      "metadata": {
        "id": "a56f89aa"
      },
      "outputs": [],
      "source": [
        "# list used to remove unrelevant terms \n",
        "\"\"\"The ignore_list is not in use so far\"\"\"\n",
        "\n",
        "ignore_list = {'ec', 'no', 'european', 'commission', 'eu', 'union',\n",
        "                   'article', 'directive', 'council', 'regulation', 'official',\n",
        "                   'journal', 'article', 'information', 'agency', 'regulation',\n",
        "                   'mssg', 'data', 'member', 'states', 'etf', 'mdssg', 'shall'\n",
        "                  }"
      ]
    },
    {
      "cell_type": "code",
      "execution_count": 53,
      "id": "b80f77c5",
      "metadata": {
        "id": "b80f77c5"
      },
      "outputs": [],
      "source": [
        "#Preproc-Function\n",
        "\n",
        "def cleaning(sentence):\n",
        "    \n",
        "    # Basic cleaning\n",
        "    sentence = sentence.strip() ## remove whitespaces\n",
        "    sentence = sentence.lower() ## lowercasing \n",
        "    sentence = ''.join(char for char in sentence if not char.isdigit()) ## removing numbers\n",
        "    \n",
        "    # Advanced cleaning\n",
        "    for punctuation in string.punctuation:\n",
        "        sentence = sentence.replace(punctuation, '') ## removing punctuation\n",
        "    tokenized_sentence = word_tokenize(sentence) ## tokenizing \n",
        "    stop_words = set(stopwords.words('english')) ## defining stopwords\n",
        "    tokenized_sentence_cleaned = [w for w in tokenized_sentence \n",
        "                                  if not w in stop_words] ## remove stopwords\n",
        "    \n",
        "    #tokenized_sentence_cleaned = [w for w in tokenized_sentence_cleaned if not w in ignore_list] COMMENTED IGNORE OUT!\n",
        "    \n",
        "    sentences = ' '.join(word for word in tokenized_sentence_cleaned)\n",
        "    \n",
        "    #spacy\n",
        "    nlp = spacy.load('en_core_web_sm', disable=[\"parser\"])\n",
        "\n",
        "    doc = nlp(sentences)\n",
        "    lemmatized = \" \".join([token.lemma_ for token in doc])\n",
        "    \n",
        "    return lemmatized"
      ]
    },
    {
      "cell_type": "code",
      "source": [
        "nltk.download('punkt')"
      ],
      "metadata": {
        "colab": {
          "base_uri": "https://localhost:8080/"
        },
        "id": "cJw0zV290AV2",
        "outputId": "ec72eab1-b8b7-4d35-f545-a3b410d44c7c"
      },
      "id": "cJw0zV290AV2",
      "execution_count": 12,
      "outputs": [
        {
          "output_type": "stream",
          "name": "stdout",
          "text": [
            "[nltk_data] Downloading package punkt to /root/nltk_data...\n",
            "[nltk_data]   Unzipping tokenizers/punkt.zip.\n"
          ]
        },
        {
          "output_type": "execute_result",
          "data": {
            "text/plain": [
              "True"
            ]
          },
          "metadata": {},
          "execution_count": 12
        }
      ]
    },
    {
      "cell_type": "code",
      "source": [
        "nltk.download('stopwords')"
      ],
      "metadata": {
        "colab": {
          "base_uri": "https://localhost:8080/"
        },
        "id": "uaJpiZJE0MxW",
        "outputId": "bfdeaacf-f6c6-4cc0-a4a6-a4c49fb250af"
      },
      "id": "uaJpiZJE0MxW",
      "execution_count": 13,
      "outputs": [
        {
          "output_type": "stream",
          "name": "stdout",
          "text": [
            "[nltk_data] Downloading package stopwords to /root/nltk_data...\n",
            "[nltk_data]   Unzipping corpora/stopwords.zip.\n"
          ]
        },
        {
          "output_type": "execute_result",
          "data": {
            "text/plain": [
              "True"
            ]
          },
          "metadata": {},
          "execution_count": 13
        }
      ]
    },
    {
      "cell_type": "code",
      "source": [
        "nltk.download('wordnet')"
      ],
      "metadata": {
        "colab": {
          "base_uri": "https://localhost:8080/"
        },
        "id": "kvJO5igw0QhP",
        "outputId": "6060e148-77d3-43ab-faf7-5fdf6e90eb46"
      },
      "id": "kvJO5igw0QhP",
      "execution_count": 14,
      "outputs": [
        {
          "output_type": "stream",
          "name": "stdout",
          "text": [
            "[nltk_data] Downloading package wordnet to /root/nltk_data...\n",
            "[nltk_data]   Unzipping corpora/wordnet.zip.\n"
          ]
        },
        {
          "output_type": "execute_result",
          "data": {
            "text/plain": [
              "True"
            ]
          },
          "metadata": {},
          "execution_count": 14
        }
      ]
    },
    {
      "cell_type": "code",
      "execution_count": 54,
      "id": "ecfe7b7d",
      "metadata": {
        "id": "ecfe7b7d"
      },
      "outputs": [],
      "source": [
        "# Applying Cleaning Function\n",
        "\n",
        "clean_txt = df_content.apply(cleaning)"
      ]
    },
    {
      "cell_type": "code",
      "execution_count": 55,
      "id": "abc0444d",
      "metadata": {
        "colab": {
          "base_uri": "https://localhost:8080/",
          "height": 110
        },
        "id": "abc0444d",
        "outputId": "73ce722f-2d82-4b81-8e30-9da44d562d65"
      },
      "outputs": [
        {
          "output_type": "execute_result",
          "data": {
            "text/plain": [
              "\"european parliament council european union regard treaty function european union particular article thereof regard proposal european commission transmission draft legislative act national parliament consult european central bank regard opinion european economic social committee act accordance ordinary legislative procedure whereas crowdfunde increasingly establish form alternative finance startup small mediumsize enterprise sme typically rely small investment crowdfunde represent increasingly important type intermediation crowdfunde service provider without take risk operate digital platform open public order match facilitate match prospective investor lender business seek funding funding could take form loan acquisition transferable security admit instrument crowdfunde purpose therefore appropriate include within scope regulation lendingbase crowdfunde investmentbase crowdfunde since type crowdfunde structure comparable funding alternative provision crowdfunde service generally involve three type actor project owner propose project fund investor fund propose project intermediate organisation form crowdfunde service provider bring together project owner investor online platform crowdfunde contribute provide access finance sme complete capital market union cmu lack access finance sme constitute problem even member states access bank finance remain stable throughout financial crisis crowdfunde emerge become establish practice funding business activity natural legal person funding take place online platform business activity typically fund large number people organisation business include business startup raise relatively small amount money addition provide alternative source financing include venture capital crowdfunde offer benefit business validate business idea give entrepreneur access large number people provide insight information marketing tool several member state already introduce domestic bespoke regime crowdfunde regime tailor characteristic need local market investor result exist national rule diverge across union regard condition operation crowdfunde platform scope permit activity authorisation requirement difference exist national rule obstruct crossborder provision crowdfunde service thus direct effect function internal market service particular fact legal framework fragment along national border create substantial legal cost retail investor often face difficulty determine rule applicable crossborder crowdfunde service therefore investor often discourage investing crossborder mean crowdfunde platform reason crowdfunde service provider operating platform discourage offer service member state one establish result crowdfunde service remain hitherto largely national detriment unionwide crowdfunde market thus deprive business access crowdfunde service especially case business operate small national market order foster crossborder crowdfunde service facilitate exercise freedom provide receive service internal market necessary address exist obstacle proper function internal market crowdfunde service ensure high level investor protection lay regulatory framework union level address obstacle function internal market crowdfunde service regulation aim foster crossborder funding business crowdfunde service relation lend consumer define point article directive ec european parliament council therefore fall within scope regulation avoid regulatory arbitrage ensure effective supervision crowdfunde service provider prohibit take deposit repayable fund public unless also authorise credit institution accordance article directive eu european parliament council however member state ensure national law require authorisation credit institution individual authorisation exemption dispensation project owner investor accept fund grant loan purpose offer invest crowdfunding project provision crowdfunde service aim facilitate funding project raise capital large number people contribute relatively small investment amount publicly accessible internetbased information system crowdfunde service thus open unrestricted pool investor receive investment proposition time involve raise fund predominantly natural person include highnet worth individual regulation apply crowdfunde service consist joint provision reception transmission client order placement transferable security admit instrument crowdfunde purpose without firm commitment basis public platform provide unrestricted access investor joint provision service key feature crowdfunde service compare certain investment service provide directive eu european parliament council even though individually service match cover directive relation lendingbase crowdfunde regulation apply crowdfunde service consist facilitation grant loan include service present crowdfunde offer client pricing assess credit risk crowdfunde project project owner definition crowdfunde service accommodate different business model enable loan agreement one investor one project owner conclude crowdfunde platform loan include within scope regulation loan unconditional obligation repay agree amount money investor whereby lendingbase crowdfunde platform merely facilitate conclusion investor project owner loan agreement without crowdfunde service provider moment act creditor project owner facilitation grant loan fall within scope regulation distinguished activity credit institution grant credit account take deposit repayable fund public order deliver service crowdfunde service provider operate publicly accessible internetbased information system include system require user registration investmentbase crowdfunde transferability important safeguard order investor able exit investment since provide possibility dispose interest capital market regulation therefore cover permit crowdfunde service relate transferable security share certain private limited liability company incorporate national law member state also freely transferable capital market therefore prevent include within scope regulation certain admit instrument crowdfunde purpose member state subject national law govern transferability requirement transfer authenticate notary regulation apply without prejudice national law govern transfer instrument whilst initial coin offering potential fund sme innovative startup scaleup accelerate technology transfer characteristic differ considerably crowdfunde service regulate regulation give risk associate crowdfunde investment appropriate interest effective protection investor provision mechanism market discipline impose threshold total consideration crowdfunde offer make particular project owner accordingly threshold set eur threshold use member state exempt offer security public obligation publish prospectus accordance regulation eu european parliament council overlap regulatory framework establish regulation regulation eu threshold eur might increase risk regulatory arbitrage disruptive effect access finance development capital market certain member state moreover date limit number member state put place specific legal framework regulate crowdfunde platform service take account fact implement regulation eu member state set threshold exempt offer security public obligation publish prospectus eur take account special effort might sustain member state term adjust national law ensure application single threshold regulation regulation provide nonrenewable temporary derogation order enable member state make significant effort temporary derogation apply shortest possible period time order cause least possible disturbance function internal market order maintain high standard investor protection reduce risk associate crowdfunde ensure fair treatment client crowdfunde service provider place policy design ensure project platform select professional fair transparent way crowdfunde service provide manner order improve service client crowdfunde service provider able propose crowdfunde project individual investor base one specific parameter risk indicator type sector business activity credit rating communicate advance crowdfunde service provider investor however authorisation obtain regulation grant crowdfunde service provider right provide individual collective asset management service order ensure prospective investor offer investment opportunity neutral basis crowdfunde service provider pay accept remuneration discount nonmonetary benefit route investor ’ order particular offer provide platform thirdparty platform business model use automate process whereby fund automatically allocate crowdfunde service provider crowdfunding project accordance parameter risk indicator predetermine investor call autoinveste consider individual portfolio management loan existence filtering tool crowdfunde platform regulation regard investment advice directive eu long tool provide information client neutral manner constitute recommendation tool include display result base criterion relate purely objective product feature objective product feature context crowdfunde platform could predefine project criterion economic sector instrument use interest rate risk category sufficient information regard calculation method disclose similarly key financial figure calculate without scope discretion also consider objective criterion regulation aim facilitate direct investment avoid create regulatory arbitrage opportunity financial intermediary regulate legal act union particular union legal act govern asset manager use legal structure include special purpose vehicle interpose crowdfunde project investor therefore strictly regulate permit justify enable investor acquire interest example illiquid indivisible asset issuance transferable security special purpose vehicle ensure effective system governance essential proper management risk prevent conflict interest crowdfunde service provider therefore place governance arrangement ensure effective prudent management natural person responsible management good repute sufficient knowledge skill experience crowdfunde service provider also establish procedure receive handle complaint client client expose potential risk relate crowdfunde service provider particular operational risk order protect client risk crowdfunde service provider subject prudential requirement crowdfunde service provider require develop business continuity plan address risk associate failure crowdfunde service provider business continuity plan include provision handle critical function depend business model crowdfunde service provider could include provision continue service outstanding loan client notification handover asset safekeeping arrangement crowdfunde service provider operate neutral intermediary client crowdfunde platform order prevent conflict interest certain requirement lay respect crowdfunde service provider shareholder manager employee natural legal person closely link way control particular crowdfunde service provider prevent participation crowdfunde offer crowdfunde platform major shareholder manager employee natural legal person closely link way control act project owner relation crowdfunde service offer crowdfunde platform however major shareholder manager employee natural legal person prohibit act investor project offer crowdfunde platform provide appropriate safeguard conflict interest place interest efficient smooth provision crowdfunde service crowdfunde service provider allow entrust operational function whole part third party provide outsourcing impair quality crowdfunde service provider ' internal control effective supervision crowdfunde service provider crowdfunde service provider however remain fully responsible compliance regulation respect outsource activity requirement concern safekeepe asset crucial protection investor receive crowdfunde service transferable security admit instrument crowdfunde purpose register financial instrument account physically deliver custodian safekept qualified custodian authorise accordance directive eu eu depend type asset safekept asset either hold custody transferable security register financial instrument account physically deliver subject ownership verification recordkeeping safekeepe transferable security admit instrument crowdfunde purpose accordance national law register project owner agent investment nonliste company hold individually segregate account client could open directly central security depository consider equivalent asset safekeepe qualified custodian since payment service provider permit provide payment service define directive eu european parliament council authorisation provide crowdfunde service equate authorisation also provide payment service therefore appropriate clarify crowdfunde service provider provide payment service connection crowdfunde service also need payment service provider define directive eu requirement without prejudice entity authorise directive eu carry activity refer article directive eu also subject notification requirement set article directive eu order enable proper supervision activity crowdfunde service provider inform competent authority whether intend provide payment service appropriate authorisation whether service outsource authorise third party growth smooth function crossborder crowdfunde service require sufficient scale public confidence service therefore necessary lie uniform proportionate directly applicable requirement authorisation crowdfunde service provider requirement crowdfunde service therefore facilitate crossborder provision service reduce operational risk ensure high degree transparency investor protection order ensure effective supervision crowdfunde service provider legal person effective stable establishment union include necessary resource able apply authorisation crowdfunde service provider regulation crowdfunde service expose money launder terrorist financing risk underline report commission european parliament council june assessment risk money launder terrorist financing affect internal market relate crossborder activity safeguard therefore provide set condition authorisation crowdfunde service provider assess good repute natural person responsible management well restrict provision payment service license entity subject antimoney launder terrorist financing requirement view ensure market integrity prevent risk money launder terrorist financing take account amount fund raise crowdfunde offer accordance regulation commission assess necessity proportionality subject crowdfunde service provider obligation comply national law implement directive eu european parliament council respect money launder terrorist financing add crowdfunde service provider list oblige entity purpose directive enable crowdfunde service provider operate crossborder without face divergent rule thereby facilitate funding project across union investor different member state member state allow impose additional requirement crowdfunde service provider authorise regulation authorisation process enable competent authority inform service prospective crowdfunde service provider intend provide include crowdfunde platform intend operate assess quality management assess internal organisation procedure set ensure compliance regulation order ensure proper supervision avoid disproportionate administrative burden possible entity authorise directive ec european parliament council directive eu eu eu intend provide crowdfunde service hold authorisation one directive regulation case simplify authorisation procedure apply competent authority require submission document proof already disposal facilitate transparency investor regard provision crowdfunde service european supervisory authority european securities market authority establish regulation eu european parliament council esma establish public uptodate register crowdfunde service provider authorise accordance regulation register include information operate crowdfunde platform union authorisation regulation withdraw crowdfunde service provider long meet condition authorisation grant competent authority also power withdraw authorisation regulation whenever crowdfunde service provider third party act behalf lose authorisation allow provision payment service directive eu investment service directive eu whenever crowdfunde service provider also payment service provider manager employee third party act behalf infringe national law implement directive eu order provide broad range service client crowdfunde service provider authorise regulation allow engage activity provision crowdfunde service cover authorisation regulation order ensure clear understand nature crowdfunde service risk cost charge related service crowdfunde service provider provide client information fair clear misleading crowdfunde service provider provide crowdfunde service consist facilitation grant loan make available client certain relevant information default rate loan crowdfunde service provider apply credit score crowdfunde project suggest pricing crowdfunde offer disclose key element methodology requirement concern disclosure method calculate credit score determine price interest rate construe require disclosure sensitive business information manner impede innovation ensure adequate investor protection different category investor participate crowdfunde project facilitate investment flow regulation distinguish sophisticated nonsophisticated investor introduce different level investor protection safeguard appropriate category distinction sophisticated nonsophisticated investor build distinction professional client retail client establish directive eu however distinction also take account characteristic crowdfunde market particular distinction sophisticated nonsophisticated investor regulation also consider prospective investor ’ experience knowledge crowdfunde reassess every two year financial product market crowdfunde platform traditional investment product saving product market however ensure prospective nonsophisticated investor understand level risk associate crowdfunde investment crowdfunde service provider require run entry knowledge test prospective nonsophisticated investor order ascertain understand investment crowdfunde service provider explicitly warn prospective nonsophisticated investor insufficient knowledge skill experience crowdfunde service provide might inappropriate give sophisticated investor definition aware risk associate investment crowdfunde project merit apply entry knowledge test similarly crowdfunde service provider require issue risk warning sophisticated investor order ensure nonsophisticated investor read understand explicit risk warning issue crowdfunde service provider expressly acknowledge risk take invest crowdfunde project order maintain high level investor protection give absence acknowledgement indicate potential lack understand risk involve crowdfunde service provider accept investment nonsophisticate investor expressly acknowledge receive understand warning give risk associate crowdfunde project nonsophisticate investor avoid overexposure significant risk lose large amount initially invest sum even experience total loss therefore appropriate set maximum amount nonsophisticate investor without safeguard invest individual project way contrast sophisticated investor necessary experience knowledge financial capacity combination thereof limited maximum amount order strengthen protection nonsophisticate investor necessary make provision reflection period prospective nonsophisticated investor revoke offer invest expression interest particular crowdfunde offer without give reason without incur penalty necessary avoid situation prospective nonsophisticated investor accept crowdfunde offer thereby also accept offer enter legally bind contract without possibility retraction within adequate period time period reflection necessary prospective nonsophisticated investor express interest particular crowdfunde offer without also thereby bind contract except situation offer invest make expression interest express moment close schedule expiry date offer date reach target funding goal crowdfunde service provider ensure money collect investor transfer project owner reflection period expire consider potential effect right revoke offer invest expression interest reflection period cost raise capital crowdfunde platforms commission assess part report regulation whether reflection period shorten allow efficient capital raising process without harm investor protection directive ec european parliament council cover claim arise investment firm ' inability repay money owe belong investor hold behalf connection investment business inability return investor instrument belong hold administer manage behalf connection investment business consider safekeepe asset connect crowdfunde service provide investment firm also authorise pursuant directive eu involve provision investment service within meaning point article directive nonsophisticate investor inform key investment information sheet investor compensation scheme protection apply transferable security admit instrument crowdfunde purpose acquire crowdfunde platform moreover provision crowdfunde service crowdfunde service provider consider take deposit within meaning point article directive eu european parliament council regulation lay content key investment information sheet provide crowdfunde service provider prospective investor every crowdfunde offer order enable make informed investment decision key investment information sheet warn prospective investor invest environment enter entail risk cover neither deposit guarantee scheme establish accordance directive eu investor compensation scheme establish accordance directive ec key investment information sheet reflect specific feature lendingbase investmentbase crowdfunde end specific relevant indicator require key investment information sheet also take account available specific feature risk associate project owner focus material information project owner investor right fee type transferable security admit instrument crowdfunde purpose loan offer key investment information sheet draw project owner project owner good position provide information require include therein however since crowdfunde service provider responsible provide key investment information sheet prospective investor crowdfunde service provider ensure key investment information sheet clear correct complete crowdfunde service provider allow present information require key investment information sheet draw project owner information however complementary consistent information provide key investment information sheet crowdfunde service provider identify omission mistake inaccuracy key investment information sheet could material impact expect return investment crowdfunde service provider signal omission mistake inaccuracy promptly project owner complete correct information completion correction make crowdfunde service provider certain condition suspend even cancel crowdfunde offer ensure seamless expedient access capital market startup sme reduce cost financing avoid delay cost crowdfunde service provider requirement key investment information sheet approve competent authority permit national law crowdfunde service provider able transfer ownership share investmentbase crowdfunde project update information system crowdfunde service provider also interest transparency flow information able allow client make investment crowdfunde platform advertise bulletin board crowdfunde platform interest buying sell loan transferable security admit instrument crowdfunde purpose originally offer crowdfunde platform provide bulletin board bring together multiple thirdparty buying selling interest way result contract relation advertisement bulletin board provide crowdfunde service provider therefore consist internal matching system execute client order multilateral basis unless relation transferable security crowdfunde service provider also separate authorisation investment firm accordance article directive eu regulate market accordance article directive crowdfunde service provider hold authorisation relation transferable security clearly inform investor accept reception order purpose buy selling contract relation investment originally make crowdfunde platform buying selling activity crowdfunde platform investor discretion responsibility operate trading venue accordance directive eu facilitate transparency ensure proper documentation communication client crowdfunde service provider keep appropriate record relate service transaction ensure fair nondiscriminatory treatment client crowdfunde service provider promote service marketing communication provide information fair clear misleading provide legal certainty crowdfunde service provider operate across union ensure easy market access national law regulation administrative provision specifically govern marketing communication crowdfunde service provider applicable member state publish electronically well summary thereof language customary sphere international finance purpose esma competent authority keep website uptodate allow well understand extent regulatory divergence member state regard requirement applicable marketing communication competent authority provide esma annually detailed report enforcement action area avoid unnecessary cost administrative burden crossborder provision crowdfunde service marketing communication subject translation requirement provide least one official language member state marketing communication disseminate language accept competent authority member state ensure efficient supervision authorisation procedure member state delineate duty function carry competent authority pursuant regulation order facilitate effective crossborder administrative cooperation member state designate single point contact manage communication esma competent authority across union since effective tool power resource competent authority guarantee supervisory effectiveness regulation provide minimum set supervisory investigative power entrust competent authority accordance national law power exercise national law require application competent judicial authority exercise power regulation esma competent authority act objectively impartially remain autonomous decisionmake purpose detect infringement regulation necessary competent authority able access premise private residence natural person order seize document access premise necessary reasonable suspicion document data relate subject matter inspection investigation exist might relevant prove infringement regulation additionally access premise necessary natural legal person demand information already make fail comply reasonable ground believe demand make would complied document information information requirement relate would remove tamper destroy order ensure requirement set regulation fulfil important member state take necessary step ensure infringement regulation subject appropriate administrative penalty administrative measure penalty measure effective proportionate dissuasive ensure common approach member state deterrent effect regulation limit member state ' ability provide high level administrative penalty order ensure decision impose administrative penalty administrative measure take competent authority deterrent effect public large publish unless competent authority deem necessary opt publication anonymous basis delay publication publish although member state lay rule administrative criminal penalty infringement member state require lay rule administrative penalty infringement regulation subject national criminal law however maintenance criminal penalty instead administrative penalty infringement regulation reduce otherwise affect ability competent authority cooperate access exchange information timely way competent authority member state purpose regulation include referral relevant infringement competent judicial authority criminal prosecution key investment information sheet design tailor specific feature crowdfunde offer information need investor crowdfunde offer regulation exempt obligation publish prospectus regulation eu regulation amend accordingly whistleblower bring new information attention competent authority help detect infringement regulation impose penalty regulation therefore ensure adequate arrangement place enable whistleblower alert competent authority actual potential infringement regulation protect retaliation do amend directive eu european parliament council order make applicable breach regulation order specify requirement set regulation power adopt act accordance article treaty function european union tfeu delegate commission respect extend transitional period respect crowdfunde service provide accordance national law particular importance commission carry appropriate consultation preparatory work include expert level consultation conduct accordance principle lay interinstitutional agreement april well lawmaking particular ensure equal participation preparation delegate act european parliament council receive document time member state ' expert expert systematically access meetings commission expert group deal preparation delegate act order promote consistent application regulation include adequate protection investor consumer across union technical standard develop body highly specialise expertise would efficient appropriate entrust esma european supervisory authority european banking authority establish regulation eu european parliament council eba development draft regulatory technical standard involve policy choice submission commission commission empower adopt regulatory technical standard develop esma eba regard individual portfolio management loan complaint handle conflict interest authorisation crowdfunde service provider information client default rate disclosure entry knowledge test simulation ability bear loss key investment information sheet cooperation competent authority commission adopt regulatory technical standard mean delegate act pursuant article tfeu accordance article regulations eu eu commission also empower adopt implement technical standard develop esma regard report crowdfunde service provider publication national provision concern marketing requirement cooperation competent authorities esma commission adopt implement technical standard mean implement act pursuant article tfeu accordance article regulation eu processing personal datum carry within framework regulation exchange transmission personal datum competent authority undertake accordance regulation eu european parliament council exchange transmission information esma undertake accordance regulation eu european parliament council since objective regulation namely address fragmentation legal framework applicable crowdfunde service order ensure proper function internal market service enhance investor protection well market efficiency contribute establish cmu sufficiently achieve member state rather well achieve union level union may adopt measure accordance principle subsidiarity set article treaty european union accordance principle proportionality set article regulation go beyond necessary order achieve objective date application regulation defer align date application national rule transpose directive eu european parliament council exempt crowdfunde service provider fall scope regulation application directive eu interest legal certainty view replacement national rule rule set regulation insofar type crowdfunde service concern include within scope regulation appropriate make transitional arrangement allow person provide crowdfunde service accordance national law precede regulation adapt business activity regulation sufficient time apply authorisation thereunder person therefore able continue provide crowdfunde service include within scope regulation accordance applicable national law november transitional period member state put place special procedure enable legal person authorise national law provide crowdfunde service include within scope regulation convert national authorisation authorisation regulation provide crowdfunde service provider meet requirement set regulation crowdfunde service provider fail obtain authorisation accordance regulation november issue new crowdfunding offer date avoid situation whereby raise target capital relation particular crowdfunde project complete november call funding close date however november service exist contract include collect transfer receivables provide asset safekeeping service process corporate action continue accordance applicable national law regulation respect fundamental right observe principle recognise charter fundamental right european union therefore regulation interpret apply accordance right principle european data protection supervisor consult accordance article regulation eu adopt regulation regulation lay uniform requirement provision crowdfunde service organisation authorisation supervision crowdfunde service provider operation crowdfunde platform well transparency marketing communication relation provision crowdfunde service union regulation apply crowdfunde service provide project owner consumer define point article directive ec b service relate define point article provide accordance national law c crowdfunde offer consideration eur calculate period month sum total consideration offer transferable security admit instrument crowdfunde purpose define point n article regulation amount raise mean loan crowdfunde platform particular project owner ii total consideration offer public transferable security make project owner refer point point capacity offeror pursuant exemption article article regulation eu unless crowdfunde service provider project owner investor authorise credit institution accordance article directive eu member state shall apply national requirement implement article directive shall ensure national law require authorisation credit institution individual authorisation exemption dispensation connection provision crowdfunde service follow situation project owner respect loan facilitate crowdfunde service provider accept fund investor b investor grant loan project owner facilitate crowdfunde service provider purpose regulation follow definition apply ' crowdfunde service ' mean match business funding interest investor project owner use crowdfunde platform consist follow activity facilitation grant loan ii place without firm commitment basis refer point section annex directive eu transferable security admit instrument crowdfunde purpose issue project owner special purpose vehicle reception transmission client order refer point section relation transferable security admit instrument crowdfunde purpose b ' loan ' mean agreement whereby investor make available project owner agree amount money agree period time whereby project owner assume unconditional obligation repay amount investor together accrue interest accordance instalment payment schedule c ' individual portfolio management loan ' mean allocation crowdfunde service provider predetermine amount fund investor original lender one multiple crowdfunding project crowdfunde platform accordance individual mandate give investor discretionary investorbyinvestor basis ' crowdfunde platform ' mean publicly accessible internetbased information system operate manage crowdfunde service provider e ' crowdfunde service provider ' mean legal person provide crowdfunde service f ' crowdfunde offer ' mean communication crowdfunde service provider form mean present sufficient information term offer crowdfunde project offer enable investor invest crowdfunde project g ' client ' mean prospective actual investor project owner crowdfunde service provider provide intend provide crowdfunde service h ' project owner ' mean natural legal person seek funding crowdfunde platform ' investor ' mean natural legal person crowdfunde platform grant loan acquire transferable security admit instrument crowdfunde purpose j ' sophisticated investor ' mean natural legal person professional client virtue point section annex ii directive eu natural legal person approval crowdfunde service provider treat sophisticated investor accordance criterion procedure lay annex ii regulation k ' nonsophisticated investor ' mean investor sophisticated investor l ' crowdfunde project ' mean business activity activity project owner seek funding crowdfunde offer ' transferable security ' mean transferable security define point article directive eu n ' admit instrument crowdfunde purpose ' mean respect member state share private limited liability company subject restriction would effectively prevent transfer include restriction way share offer advertise public ' marketing communication ' mean information communication crowdfunde service provider prospective investor prospective project owner service crowdfunde service provider investor disclosure require regulation p ' durable medium ' mean instrument enable storage information way accessible future reference period time adequate purpose information allow unchanged reproduction information store q ' special purpose vehicle ' ' spv ' mean entity create solely solely serve purpose securitisation within meaning point article regulation eu european central bank r ' competent authority ' mean authority authority designate member state accordance article without prejudice possibility share private limited liability company fall definition transferable security point paragraph competent authority grant authorisation crowdfunde service provider may permit use share purpose regulation provide meet condition admit instrument crowdfunde purpose point n paragraph competent authority shall annual basis inform esma type private limited liability company share offer fall within scope regulation reference applicable national law esma shall make information refer first subparagraph publicly accessible website without undue delay annual basis first two year application regulation esma shall collect key investment information sheet draw project owner issue admit instrument crowdfunde purpose esma shall compare information refer point b c part f annex provide key investment information sheet information provide member state paragraph article esma shall submit comparison commission shall include report refer article crowdfunde service shall provide legal person establish union authorise crowdfunde service provider accordance article crowdfunde service provider shall act honestly fairly professionally accordance good interest client crowdfunde service provider shall pay accept remuneration discount nonmonetary benefit route investor ’ order particular crowdfunding offer make crowdfunde platform particular crowdfunding offer make thirdparty crowdfunde platform crowdfunde service provider may propose individual investor specific crowdfunding project correspond one specific parameter risk indicator choose investor investor wish make investment suggest crowdfunde project investor shall review expressly take investment decision relation individual crowdfunding offer crowdfunde service provider provide individual portfolio management loan shall adherence parameter provide investor shall take necessary step obtain well possible result investor crowdfunde service provider shall disclose investor decisionmake process execute receive discretionary mandate way derogation first subparagraph paragraph crowdfunde service provider provide individual portfolio management loan may exercise discretion behalf investor within agree parameter without require investor review take investment decision relation individual crowdfunding offer special purpose vehicle use provision crowdfunde service one illiquid indivisible asset shall offer special purpose vehicle requirement shall apply lookthrough basis underlie illiquid indivisible asset hold financial legal structure fully partially own control special purpose vehicle decision take exposure underlie asset shall exclusively lie investor management body crowdfunde service provider shall establish oversee implementation adequate policy procedure ensure effective prudent management include segregation duty business continuity prevention conflict interest manner promote integrity market interest client management body crowdfunde service provider shall establish oversee implementation appropriate system control assess risk relate loan intermediate crowdfunde platform crowdfunde service provider provide individual portfolio management loan shall ensure place adequate system control management risk financial modelling provision service complie requirement set article management body crowdfunde service provider shall review least every two year take account nature scale complexity crowdfunde service provide prudential safeguard refer point h article business continuity plan refer point j article crowdfunde service provider determine price crowdfunding offer shall undertake reasonable assessment credit risk crowdfunde project project owner crowdfunde offer make include consider risk project owner make case loan bond form securitise debt one repayment due date b base credit risk assessment refer point sufficient information include follow available audited account cover two late financial year ii information aware time credit risk assessment carry iii information obtain appropriate project owner iv information enable crowdfunde service provider carry reasonable credit risk assessment c establish implement maintain clear effective policy procedure enable carry credit risk assessment publish policy procedure ensure price fair appropriate include situation crowdfunde service provider determine price loan facilitate exit lender maturity date loan e conduct valuation loan least follow circumstance moment loan originate ii crowdfunde service provider consider project owner unlikely fulfil obligation repay loan full without crowdfunde service provider enforce relevant security interest take step analogous effect iii follow default iv crowdfunde service provider facilitate exit lender maturity date loan f use riskmanagement framework design achieve compliance requirement set point e paragraph g maintain record facilitate crowdfunde offer sufficient demonstrate credit risk assessment carry require compliance point b paragraph ii price crowdfunde offer fair appropriate line riskmanagement framework crowdfunde service provider shall undertake least minimum level due diligence respect project owner propose project fund crowdfunde platform crowdfunde service provider minimum level due diligence refer paragraph shall include obtain follow evidence project owner criminal record respect infringement national rule field commercial law insolvency law financial service law antimoney laundering law fraud law professional liability obligation b project owner establish noncooperative jurisdiction recognise relevant union policy highrisk third country pursuant article directive eu crowdfunde service provider offer individual portfolio management loan investor shall give mandate specify parameter provide service shall include least two follow criterion every loan portfolio comply minimum maximum interest rate payable loan facilitate investor b minimum maximum maturity date loan facilitate investor c range distribution risk category applicable loan annual target rate return investment offer likelihood select loan enable investor achieve target rate reasonable certainty order comply paragraph crowdfunde service provider shall place robust internal process methodology use appropriate datum crowdfunde service provider may use data datum source third party basis sound welldefine criterion take account relevant factor may unfavourable effect performance loan crowdfunde service provider shall assess credit risk individual crowdfunde project select investor ' portfolio b credit risk investor ' portfolio level c credit risk project owner select investor ' portfolio verifying prospect project owner meet obligation loan crowdfunde service provider shall also provide description method use assessment refer point b c second subparagraph investor crowdfunde service provider offer individual portfolio management loan shall keep record mandate give every loan individual portfolio crowdfunde service provider shall keep record mandate every loan least three year maturity date durable medium crowdfunde service provider shall continuous basis upon request investor provide via electronic mean least follow information individual portfolio list individual loan portfolio compose b weighted average annual interest rate loan portfolio c distribution loan accord risk category percentage absolute number every loan portfolio compose key information include least interest rate compensation investor maturity date risk category schedule repayment principal payment interest compliance project owner instalment payment schedule e every loan portfolio compose risk mitigation measure include collateral provider guarantor type guarantee f default credit agreement project owner within past five year g fee pay respect loan investor crowdfunde service provider project owner h crowdfunde service provider carry valuation loan recent valuation ii valuation date iii explanation crowdfunde service provider conduct valuation iv fair description likely actual return take account fee default rate crowdfunde service provider establish operate contingency fund activity relate individual portfolio management loan shall provide follow information investor risk warn specify ' contingency fund offer give right payment may happen receive payout even suffer loss contingency fund operator absolute discretion amount may pay include make payment therefore investor rely possible payout contingency fund consider whether much invest ' b description policy contingency fund include explanation source money pay fund ii explanation fund govern iii explanation concern money belong iv consideration contingency fund operator take account decide whether exercise discretion pay fund include — whether fund sufficient money pay — contingency fund operator absolute discretion event pay decide amount payment v explanation process consider whether make discretionary payment fund vi description money pay fund treat event insolvency contingency fund operator crowdfunde service provider establish operate contingency fund refer paragraph shall provide follow information performance fund public quarterly basis size contingency fund compare total amount outstanding loan relevant contingency fund b ratio payment make contingency fund total amount outstanding loan relevant contingency fund eba shall close cooperation esma develop draft regulatory technical standard specify element include format include description method refer third subparagraph paragraph b information refer paragraph c policy procedure organisational arrangement crowdfunde service provider place regard contingency fund might offer refer paragraph eba shall submit draft regulatory technical standards commission november power delegate commission supplement regulation adopt regulatory technical standard refer first subparagraph paragraph accordance article regulation eu crowdfunde service provider shall place effective transparent procedure prompt fair consistent handling complaint receive client shall publish description procedure crowdfunde service provider shall ensure client able file complaint free charge crowdfunde service provider shall develop make available client standard template complaint shall keep record complaint receive measure take crowdfunde service provider shall investigate complaint timely fair manner communicate outcome within reasonable period time complainant esma shall develop draft regulatory technical standard specify requirement standard format procedure complaint handle esma shall submit draft regulatory technical standards commission november power delegate commission supplement regulation adopt regulatory technical standard refer first subparagraph paragraph accordance article regulation eu crowdfunde service provider shall participation crowdfunde offer crowdfunde platform crowdfunde service provider shall accept project owner relation crowdfunde service offer crowdfunde platform follow shareholder hold share capital voting right b manager employee c natural legal person link shareholder manager employee control define point b article directive eu crowdfunde service provider accept investor crowdfunde project offer crowdfunde platform person refer point b c first subparagraph shall fully disclose website fact accept person investor include information specific crowdfunding project invest shall ensure investment make condition investor person enjoy preferential treatment privileged access information crowdfunde service provider shall maintain operate effective internal rule prevent conflict interest crowdfunde service provider shall take appropriate step prevent identify manage disclose conflict interest crowdfunde service provider shareholder manager employee natural legal person link control define point b article directive eu client one client another client crowdfunde service provider shall disclose client general nature source conflict interest step take mitigate disclosure shall make website crowdfunde service provider prominent place disclosure refer paragraph shall make durable medium b include sufficient detail take account nature client enable client take informed decision service context conflict interest arise esma shall develop draft regulatory technical standard specify requirement maintenance operation internal rule refer paragraph b step refer paragraph c arrangement disclosure refer paragraph develop draft regulatory technical standard esma shall take account nature scale complexity crowdfunde service provide crowdfunde service provider esma shall submit draft regulatory technical standards commission november power delegate commission supplement regulation adopt regulatory technical standard refer first subparagraph paragraph accordance article regulation eu crowdfunde service provider shall rely third party performance operational function take reasonable step avoid additional operational risk outsource operational function refer paragraph shall impair quality crowdfunde service provider ’ internal control ability competent authority monitor crowdfunde service provider ’ compliance regulation crowdfunde service provider shall remain fully responsible compliance regulation respect outsource activity asset safekeeping service payment service provide crowdfunde service provider shall inform client follow nature term condition service include reference applicable national law b whether service provide directly third party crowdfunde service provider carry payment transaction relate transferable security admit instrument crowdfunde purpose shall deposit fund one follow entity central bank b credit institution authorise accordance directive eu transferable security admit instrument crowdfunde purpose offer crowdfunde platform register financial instrument account open name investor physically deliver custodian shall hold custody crowdfunde service provider third party entity provide custody service shall hold authorisation accordance directive eu eu crowdfunde service provider may third party provide payment service provide crowdfunde service provider third party payment service provider accordance directive eu crowdfunde service provider provide payment service relation crowdfunde service either third party crowdfunde service provider shall put place maintain arrangement ensure project owner accept funding crowdfunding project payment mean payment service provider accordance directive eu crowdfunde service provider shall time place prudential safeguard equal amount least high follow eur b one quarter fix overhead precede year review annually include cost servicing loan three month crowdfunde service provider also facilitate grant loan prudential safeguard refer paragraph article shall take one follow form fund consist common equity tier item refer article regulation eu european parliament council deduction full pursuant article regulation without application threshold exemption pursuant article regulation b insurance policy cover territory union crowdfunde offer actively market comparable guarantee c combination point b paragraph article apply crowdfunde service provider undertaking subject individual basis basis consolidated situation title iii part three regulation eu regulation eu european parliament council paragraph article apply crowdfunde service provider undertaking subject article directive ec article directive eu crowdfunde service provider operation less month may use forwardlooke business estimate calculate fix overhead provide start use historical datum soon become available insurance policy refer point b paragraph shall least follow characteristic initial term less one year b notice period cancellation least day c take undertaking authorise provide insurance accordance union law national law provide thirdparty entity insurance policy refer point b paragraph shall include without limited coverage risk loss document b misrepresentation mislead statement make c act error omission result breach legal regulatory obligation ii duty skill care towards client iii obligation confidentiality failure establish implement maintain appropriate procedure prevent conflict interest e loss arise business disruption system failure process management f applicable business model gross negligence carry asset valuation credit pricing scoring purpose point b paragraph crowdfunde service provider shall calculate fixed overhead precede year use figure result applicable accounting framework subtract follow item total expense distribution profit shareholder recently audit annual financial statement audit statement available annual financial statement validate national supervisor staff bonus remuneration extent depend net profit crowdfunde service provider relevant year b employee ’ director ’ partner ’ share profit c appropriation profit variable remuneration extent fully discretionary share commission fee payable directly relate commission fee receivable include within total revenue payment commission fee payable contingent upon actual receipt commission fee receivable e nonrecurring expense nonordinary activity fix expense incur behalf crowdfunde service provider third party fix expense already include within total expense refer paragraph crowdfunde service provider shall take either follow action breakdown expense third party available determine amount fix expense third party incur behalf add amount figure result paragraph b breakdown expense third party available determine amount expense incur behalf third party accord crowdfunde service provider ' business plan add amount figure result paragraph legal person intend provide crowdfunde service shall apply competent authority member state establish authorisation crowdfunde service provider application refer paragraph shall contain follow name include legal name trading name use prospective crowdfunde service provider internet address website operate provider physical address b legal form prospective crowdfunde service provider c articles association prospective crowdfunde service provider programme operation set type crowdfunde service prospective crowdfunde service provider intend provide crowdfunde platform intend operate include crowdfunde offer market e description prospective crowdfunde service provider ' governance arrangement internal control mechanism ensure compliance regulation include riskmanagement accounting procedure f description prospective crowdfunde service provider ' system resource procedure control safeguard datum processing system g description prospective crowdfunde service provider ' operational risk h description prospective crowdfunde service provider ' prudential safeguard accordance article proof prospective crowdfunde service provider meet prudential safeguard accordance article j description prospective crowdfunde service provider ' business continuity plan take account nature scale complexity crowdfunde service prospective crowdfunde service provider intend provide establishe measure procedure ensure event failure prospective crowdfunde service provider continuity provision critical service relate exist investment sound administration agreement prospective crowdfunde service provider client k identity natural person responsible management prospective crowdfunde service provider l proof natural person refer point k good repute possess sufficient knowledge skill experience manage prospective crowdfunde service provider description prospective crowdfunde service provider ' internal rule prevent person refer first subparagraph article engage project owner crowdfunde service offer prospective crowdfunde service provider n description prospective crowdfunde service provider ' outsourcing arrangement description prospective crowdfunde service provider ' procedure handle complaint client p confirmation whether prospective crowdfunde service provider intend provide payment service third party directive eu arrangement accordance article regulation q description prospective crowdfunde service provider ' procedure verify completeness correctness clarity information contain key investment information sheet r description prospective crowdfunde service provider ' procedure relation investment limit nonsophisticate investor refer article purpose point l paragraph prospective crowdfunde service provider shall provide proof follow absence criminal record respect infringement national rule field commercial law insolvency law financial service law antimoney laundering law fraud law professional liability obligation natural person involve management prospective crowdfunde service provider shareholder hold share capital voting right b proof natural person involve management prospective crowdfunde service provider collectively possess sufficient knowledge skill experience manage prospective crowdfunde service provider natural person require commit sufficient time performance duty competent authority shall within work day receipt application refer paragraph assess whether application complete check information list paragraph submit application complete competent authority shall set deadline prospective crowdfunde service provider provide miss information application refer paragraph remain incomplete deadline refer paragraph competent authority may refuse review application event refusal shall return submit document prospective crowdfunde service provider application refer paragraph complete competent authority shall immediately notify prospective crowdfunde service provider thereof adopt decision grant refuse grant authorisation crowdfunde service provider competent authority shall consult competent authority another member state follow case prospective crowdfunde service provider subsidiary crowdfunde service provider authorise member state b prospective crowdfunde service provider subsidiary parent undertaking crowdfunde service provider authorise member state c prospective crowdfunde service provider control natural legal person control crowdfunde service provider authorise member state competent authority shall within three month date receipt complete application assess whether prospective crowdfunde service provider complie requirement set regulation shall adopt fully reason decision grant refuse grant authorisation crowdfunde service provider assessment shall take account nature scale complexity crowdfunde service prospective crowdfunde service provider intend provide competent authority may refuse authorisation objective demonstrable ground believe management body prospective crowdfunde service provider could pose threat effective sound prudent management business continuity adequate consideration interest client integrity market competent authority shall inform esma authorisation grant article esma shall add information successful application register authorise crowdfunde service provider accordance article esma may request information order ensure competent authority grant authorisation article consistent manner competent authority shall notify prospective crowdfunde service provider decision within three working day date decision crowdfunde service provider authorise accordance article shall time meet condition authorisation member state shall require crowdfunde service provider provide crowdfunde service crossborder basis physical presence territory member state member state crowdfunde service provider authorise crowdfunde service provider authorise regulation may also engage activity cover authorisation refer article accordance relevant applicable union national law entity authorise pursuant directive ec eu eu eu national law applicable crowdfunde service prior entry force regulation apply authorisation crowdfunde service provider regulation competent authority shall require entity provide information document already submit apply authorisation pursuant directive national law provide information document remain uptodate accessible competent authority prospective crowdfunde service provider also seek apply authorisation provide payment service solely connection provision crowdfunde service extent competent authority also responsible authorisation directive eu competent authority shall require information document submit application submit esma shall develop draft regulatory technical standard specify requirement arrangement application refer paragraph include standard form template procedure application authorisation b measure procedure business continuity plan refer point j paragraph develop draft regulatory technical standard esma shall take account nature scale complexity crowdfunde service provide crowdfunde service provider esma shall submit draft regulatory technical standards commission november power delegate commission supplement regulation adopt regulatory technical standard refer first subparagraph paragraph accordance article regulation eu competent authority grant authorisation notify article shall ensure authorisation specifie crowdfunde service crowdfunde service provider authorise provide crowdfunde service provider seek authorisation extend business additional crowdfunde service foresee time authorisation grant article shall submit request extension authorisation competent authority grant crowdfunde service provider authorisation article complement update information refer article request extension shall process accordance article esma shall establish register crowdfunde service provider register shall publicly available website shall update regular basis register refer paragraph shall contain follow data name legal form applicable legal entity identifier crowdfunde service provider b commercial name physical address internet address crowdfunde platform operate crowdfunde service provider c name address competent authority grant authorisation contact detail information crowdfunde service crowdfunde service provider authorise e list member state crowdfunde service provider notify intention provide crowdfunde service accordance article f service provide crowdfunde service provider cover regulation reference relevant union national law g penalty impose crowdfunde service provider manager withdrawal authorisation crowdfunde service provider accordance article shall publish remain publish register five year crowdfunde service provider shall provide service supervision competent authority grant authorisation relevant competent authority shall assess compliance crowdfunde service provider obligation provide regulation shall determine frequency depth assessment regard nature scale complexity activity crowdfunde service provider purpose assessment relevant competent authority may subject crowdfunde service provider onsite inspection crowdfunde service provider shall notify relevant competent authority material change condition authorisation without undue delay shall upon request provide information need assess compliance regulation crowdfunde service provider shall annually confidential basis provide list project fund crowdfunde platform competent authority grant authorisation specify project project owner amount raise b instrument issue defined point b n article c aggregated information investor invest amount break fiscal residency investor distinguish sophisticated nonsophisticated investor competent authority shall provide information refer paragraph esma anonymise format within one month date receipt information esma shall develop publish aggregated annual statistic relate crowdfunde market union website esma shall develop draft implement technical standard establish data standard format template procedure information report accordance article esma shall submit draft implement technical standards commission november power conferred commission adopt implement technical standard refer first subparagraph paragraph accordance article regulation eu competent authority grant authorisation shall power withdraw authorisation follow situation crowdfunde service provider use authorisation within month date grant authorisation b expressly renounce authorisation c provide crowdfunde service nine successive month also long involve administration exist contract result initial matching business funding interest use crowdfunde platform obtain authorisation irregular mean include make false statement application authorisation e long meet condition authorisation grant f seriously infringe regulation competent authority grant authorisation shall also power withdraw authorisation follow situation crowdfunde service provider also payment service provider accordance directive eu manager employee third party act behalf infringe national law implement directive eu respect money launder terrorist financing b crowdfunde service provider third party act behalf lose authorisation allow provision payment service accordance directive eu investment service directive eu crowdfunde service provider third party fail remedy situation within calendar day competent authority member state withdraw authorisation competent authority designate single point contact member state accordance article shall without undue delay notify esma competent authority member state crowdfunde service provider provide crowdfunde service accordance article esma shall introduce information withdrawal authorisation register refer article make decision withdraw authorisation competent authority grant authorisation shall consult competent authority another member state case crowdfunde service provider subsidiary crowdfunde service provider authorise member state b subsidiary parent undertaking crowdfunde service provider authorise member state c control natural legal person control crowdfunde service provider authorise member state crowdfunde service provider authorise accordance article intend provide crowdfunde service member state member state whose competent authority grant authorisation accordance article shall submit competent authority designate single point contact accordance article member state authorisation grant follow information list member state crowdfunde service provider intend provide crowdfunde service b identity natural legal person responsible provision crowdfunde service member state c start date intend provision crowdfunde service crowdfunde service provider list activity provide crowdfunde service provider cover regulation single point contact member state authorisation grant shall within work day receipt information refer paragraph article communicate information competent authority member state crowdfunde service provider intend provide crowdfunde service refer paragraph article esma esma shall introduce information register refer article single point contact member state authorisation grant shall thereafter inform without delay crowdfunde service provider communication refer paragraph crowdfunde service provider may start provide crowdfunde service member state one whose competent authority grant authorisation date receipt communication refer paragraph late calendar day submit information refer paragraph information include marketing communication refer article crowdfunde service provider client cost financial risk charge relate crowdfunde service investment crowdfunde project selection criterion nature risk associate crowdfunde service shall fair clear misleading crowdfunde service provider shall inform client crowdfunde service cover deposit guarantee scheme establish accordance directive eu transferable security admit instrument crowdfunde purpose acquire crowdfunde platform cover investor compensation scheme establish accordance directive ec crowdfunde service provider shall inform client reflection period nonsophisticate investor refer article whenever crowdfunde offer make crowdfunde service provider shall provide information prominent place medium include every mobile application webpage offer make information provide accordance paragraph shall communicate client whenever appropriate least prior enter crowdfunde transaction information refer paragraph shall available client clearly identify easily accessible section website crowdfunde platform nondiscriminatory manner crowdfunde service provider apply credit score crowdfunde project suggest pricing crowdfunde offer crowdfunde platform shall make available description method use calculate credit score price calculation base account audit shall clearly disclose description method eba shall close cooperation esma develop draft regulatory technical standard specify element include format include description method refer paragraph b information factor crowdfunde service provider consider carry credit risk assessment refer point b article conduct valuation loan refer point e article c factor crowdfunde service provider take account ensure price loan facilitate fair appropriate refer point article minimum content governance policy procedure require article riskmanagement framework refer point f article eba shall submit draft regulatory technical standards commission may power delegate commission supplement regulation adopt regulatory technical standard refer first subparagraph paragraph accordance article regulation eu crowdfunde service provider provide crowdfunde service consist facilitation grant loan shall disclose annually default rate crowdfunde project offer crowdfunde platform least precede month b publish outcome statement within four month end financial year indicate applicable expect actual default rate loan crowdfunde service provider facilitate risk category reference risk category set riskmanagement framework ii summary assumption use determine expect default rate iii crowdfunde service provider offer target rate relation individual portfolio management loan actual return achieve default rate refer paragraph shall publish prominent place website crowdfunde service provider esma shall close cooperation eba develop draft regulatory technical standard specify methodology calculate default rate refer paragraph project offer crowdfunde platform esma shall submit draft regulatory technical standards commission november power delegate commission supplement regulation adopt regulatory technical standard refer first subparagraph paragraph accordance article regulation eu crowdfunde service provider shall give prospective nonsophisticated investor full access invest crowdfunde project crowdfunde platform assess whether crowdfunde service offer appropriate prospective nonsophisticated investor purpose assessment refer paragraph crowdfunde service provider shall request information prospective nonsophisticated investor ' experience investment objective financial situation basic understanding risk involve invest general investing type investment offer crowdfunde platform include information prospective nonsophisticated investor ' past investment transferable security past acquisition admit instrument crowdfunde purpose loan include early expansion stage business b prospective nonsophisticated investor ' understand risk involve grant loan invest transferable security acquire admit instrument crowdfunde purpose crowdfunde platform professional experience relation crowdfunde investment crowdfunde service provider shall nonsophisticate investor review assessment refer paragraph every two year initial assessment make accordance paragraph prospective nonsophisticated investor provide information require pursuant paragraph crowdfunde service provider consider basis information receive paragraph prospective nonsophisticated investor insufficient knowledge skill experience crowdfunde service provider shall inform prospective nonsophisticated investor service offer crowdfunde platform may inappropriate issue risk warn risk warning shall clearly state risk lose entirety money invest prospective nonsophisticated investor shall expressly acknowledge receive understand warning issue crowdfunde service provider purpose assessment refer paragraph crowdfunde service provider shall also require prospective nonsophisticated investor simulate ability bear loss calculate net worth base follow information regular income total income whether income earn permanent temporary basis b asset include financial investment cash deposit exclude personal investment property pension fund c financial commitment include regular exist future commitment crowdfunde service provider shall nonsophisticate investor review simulation refer paragraph every year initial simulation make accordance paragraph prospective nonsophisticated investor nonsophisticate investor shall prevent invest crowdfunding project nonsophisticate investor shall acknowledge receive result simulation refer paragraph time prospective nonsophisticated investor nonsophisticate investor accept individual crowdfunding offer thereby invest amount exceed high either eur investor ' net worth calculate accordance paragraph crowdfunde service provider shall ensure investor receive risk warning b provide explicit consent crowdfunde service provider c prove crowdfunde service provider investor understand investment risk purpose point c first subparagraph paragraph assessment refer paragraph may use proof prospective nonsophisticated investor nonsophisticate investor understand investment risk esma shall close cooperation eba develop draft regulatory technical standard specify arrangement necessary carry assessment refer paragraph b carry simulation refer paragraph c provide information refer paragraph develop draft regulatory technical standard esma shall take account nature scale complexity crowdfunde service provide crowdfunde service provider esma shall submit draft regulatory technical standards commission november power delegate commission supplement regulation adopt regulatory technical standard refer first subparagraph paragraph accordance article regulation eu term condition crowdfunde offer shall remain bind project owner moment crowdfunde offer list crowdfunde platform early follow date expiry date crowdfunde offer announce crowdfunde service provider time list crowdfunde offer crowdfunde platform b date target funding goal reach case funding range maximum target funding goal reach crowdfunde service provider shall provide precontractual reflection period prospective nonsophisticated investor may time revoke offer invest expression interest crowdfunde offer without give reason without incur penalty reflection period refer paragraph shall start moment offer invest expression interest prospective nonsophisticated investor shall expire four calendar day crowdfunde service provider shall keep record offer invest expression interest receive point time receive modality revoke offer invest expression interest shall include least modality prospective nonsophisticated investor able make offer invest express interest crowdfunde offer crowdfunde service provider shall provide accurate clear timely information prospective nonsophisticated investor reflection period modality revoke offer invest expression interest include least follow immediately prospective nonsophisticated investor communicate offer invest expression interest crowdfunde service provider inform prospective nonsophisticated investor fact offer invest expression interest subject reflection period ii duration reflection period iii modality revoke offer invest expression interest b immediately receipt offer invest expression interest crowdfunde service provider crowdfunde platform inform prospective nonsophisticated investor reflection period start case individual portfolio management loan article shall apply initial investment mandate give nonsophisticated investor investment specific loan make mandate crowdfunde service provider shall provide prospective investor information refer article crowdfunde service provider shall provide prospective investor key investment information sheet draw project owner crowdfunde offer key investment information sheet shall draft least one official language member state whose competent authority grant authorisation accordance article another language accept authority crowdfunde service provider promote crowdfunde offer marketing communication another member state key investment information sheet shall make available least one official language member state language accept competent authority member state crowdfunde service provider shall prevent arrange translation key investment information sheet language language refer paragraph translation shall accurately reflect content original key investment information sheet competent authority shall inform esma language language accept purpose regulation refer paragraph esma shall make information available website key investment information sheet refer paragraph shall contain follow information information set annex b follow disclaimer appear directly underneath title key investment information sheet ' crowdfunde offer neither verify approve competent authority european securities markets authority esma appropriateness experience knowledge necessarily assess grant access investment make investment assume full risk take investment include risk partial entire loss money invest ' c follow risk warning ' investment crowdfunde project entail risk include risk partial entire loss money invest investment cover deposit guarantee scheme establish accordance directive eu european parliament council investment cover investor compensation scheme establish accordance directive ec european parliament council may receive return investment saving product advise invest net worth crowdfunde project may able sell investment instrument wish able sell may nonetheless incur loss key investment information sheet shall fair clear misleading shall contain footnote reference include quotation appropriate applicable law shall present standalone durable medium clearly distinguishable marketing communication consist maximum six side asize paper format print case admit instrument crowdfunde purpose information require part f annex exceed one side asized paper format print remainder shall produce annex attach key investment information sheet crowdfunde service provider shall request project owner notify change information order keep key investment information sheet update time duration crowdfunding offer crowdfunde service provider shall immediately inform investor make offer invest express interest crowdfunde offer material change information key investment information sheet notify member state shall ensure responsibility least project owner administrative management supervisory body information give key investment information sheet responsible key investment information sheet shall clearly identify key investment information sheet case natural person name function case legal person name register office well declaration good knowledge information contain key investment information sheet accordance fact key investment information sheet make omission likely affect import member state shall ensure law regulation administrative provision civil liability apply natural legal person responsible information give key investment information sheet include translation thereof least follow situation information mislead inaccurate b key investment information sheet omit key information need aid investor consider whether finance crowdfunde project crowdfunde service provider shall place apply adequate procedure verify completeness correctness clarity information contain key investment information sheet crowdfunde service provider identify omission mistake inaccuracy key investment information sheet could material impact expect return investment crowdfunde service provider shall signal omission mistake inaccuracy promptly project owner shall promptly complete correct information completion correction make promptly crowdfunde service provider shall suspend crowdfunde offer key investment information sheet complete correct period long calendar day crowdfunde service provider shall immediately inform investor make offer invest express interest crowdfunde offer identify irregularity step take take crowdfunde service provider option revoke offer invest expression interest crowdfunde offer calendar day key investment information sheet complete correct rectify identify irregularity crowdfunde offer shall cancel prospective investor may request crowdfunde service provider arrange translation key investment information sheet language investor ' choice translation shall faithfully accurately reflect content original key investment information sheet crowdfunde service provider provide request translation key investment information sheet crowdfunde service provider shall clearly advise prospective investor refrain make investment competent authority member state authorisation grant crowdfunde service provider may require ex ante notification key investment information sheet least seven working day make available prospective investor key investment information sheet shall subject ex ante approval competent authority prospective investor provide key investment information sheet draw accordance article crowdfunde service provider project owner shall consider satisfied obligation draw key information document accordance regulation eu european parliament council first subparagraph shall apply mutatis mutandis natural legal person advise marketing crowdfunding offer esma shall develop draft regulatory technical standard specify follow requirement content model present information refer paragraph annex b type main risk associate crowdfunde offer therefore must disclose accordance part c annex c use certain financial ratio enhance clarity key financial information include present information refer point e part annex commission fee transaction cost cover point part h annex include detailed breakdown direct indirect cost borne investor develop draft regulatory technical standard esma shall take account nature scale complexity crowdfunde service provide crowdfunde service provider esma shall submit draft regulatory technical standards commission may power delegate commission supplement regulation adopt regulatory technical standard refer first subparagraph paragraph accordance article regulation eu way derogation first sentence article point article crowdfunde service provider provide individual portfolio management loan shall draw accordance article make available prospective investor key investment information sheet platform level contain follow information information provide part h annex b information natural legal person responsible information give key investment information sheet case natural person include member crowdfunde service provider ' administrative management supervisory body name function natural person case legal person name register office c follow responsibility statement ' crowdfunde service provider declare good knowledge information omit materially mislead inaccurate crowdfunde service provider responsible preparation key investment information sheet ' crowdfunde service provider shall keep key investment information sheet platform level update time duration crowdfunding offer crowdfunde service provider shall immediately inform investor make offer invest express interest crowdfunde offer material change information key investment information sheet key investment information sheet platform level shall fair clear misleading shall contain footnote reference include quotation appropriate applicable law shall present standalone durable medium clearly distinguishable marketing communication consist maximum six side asize paper format print member state shall ensure responsibility least crowdfunde service provider information give key investment information sheet platform level responsible key investment information sheet shall clearly identify key investment information sheet platform level case natural person name function case legal person name register office well declaration good knowledge information contain key investment information sheet accordance fact key investment information sheet make omission likely affect import member state shall ensure law regulation administrative provision civil liability apply natural legal person responsible information give key investment information sheet platform level include translation thereof least follow situation information mislead inaccurate b key investment information sheet platform level omit key information need aid investor consider whether invest individual portfolio management loan crowdfunde service provider shall place apply adequate procedure verify completeness correctness clarity information contain key investment information sheet platform level crowdfunde service provider identify omission mistake inaccuracy key investment information sheet platform level could material impact expect return individual portfolio management loan crowdfunde service provider shall rectify omission mistake inaccuracy key investment information sheet prospective investor provide key investment information sheet platform level draw accordance article crowdfunde service provider shall consider satisfied obligation draw key information document accordance regulation eu first subparagraph shall apply mutatis mutandis natural legal person advise marketing crowdfunding offer crowdfunde service provider may operate bulletin board allow client advertise interest buying sell loan transferable security admit instrument crowdfunde purpose originally offer crowdfunde platform bulletin board refer paragraph shall use bring together buy sell interest mean crowdfunde service provider ' protocol internal operating procedure way result contract bulletin board shall therefore consist internal matching system execute client order multilateral basis crowdfunde service provider allow advertisement interest refer paragraph article shall comply follow requirement inform client nature bulletin board accordance paragraphs b require client advertising sale loan security instrument refer paragraph make available key investment information sheet c provide client intend buy loan advertise bulletin board information performance loan facilitate crowdfunde service provider ensure client advertise interest purchase loan security instrument refer paragraph article qualify nonsophisticated investor receive information refer article risk warn refer article crowdfunde service provider allow advertisement interest refer paragraph article provide asset safekeeping service accordance article shall require investor advertise interest notify change ownership purpose conduct ownership verification recordkeeping crowdfunde service provider suggest reference price buying sell refer paragraph article shall inform client suggest reference price nonbinding substantiate suggest reference price shall disclose key element methodology line article crowdfunde service provider shall keep record relate service transaction durable medium period least five year b ensure client immediate access record service provide time c maintain period least five year agreement crowdfunde service provider client crowdfunde service provider shall ensure marketing communication service include outsource third party clearly identifiable prior closure raise fund project marketing communication shall disproportionately target plan pende current individual crowdfunde project offer information contain marketing communication shall fair clear misleading shall consistent information contain key investment information sheet key investment information sheet already available information require key investment information sheet key investment information sheet yet available marketing communication crowdfunde service provider shall use one official language member state marketing communication disseminate language accept competent authority member state competent authority member state marketing communication disseminate responsible overseeing compliance enforcing visàvi crowdfunde service provider national law regulation administrative provision applicable marketing communication competent authority shall require ex ante notification approval marketing communication competent authority shall publish keep uptodate website national law regulation administrative provision applicable marketing communication crowdfunde service provider competent authority responsible overseeing compliance enforcing visàvi crowdfunde service provider competent authority shall notify esma law regulation administrative provision refer paragraph provide esma summary law regulation administrative provision language customary sphere international finance competent authority shall notify esma change information provide pursuant paragraph provide esma without delay update summary relevant law regulation administrative provision refer paragraph competent authority responsible overseeing compliance enforce law regulation administrative provision refer paragraph shall publish website contact information regard information law regulation administrative provision refer paragraph obtain esma shall develop draft implement technical standard determine standard form template procedure notification article esma shall submit draft implement technical standards commission november power conferred commission adopt implement technical standard refer first subparagraph paragraph accordance article regulation eu esma shall publish maintain website summary refer paragraph hyperlink website competent authority refer paragraph esma shall hold liable information present summary competent authority shall single point contact responsible provide information marketing rule respective member state competent authority shall regularly least annual basis report esma enforcement action take precede year basis national law regulation administrative provision applicable marketing communication crowdfunde service provider particular report shall include applicable total number enforcement action take type misconduct b available outcome enforcement action include type penalty impose remedy provide crowdfunde service provider c available example competent authority deal failure crowdfunde service provider comply national law regulation administrative provision member state shall designate competent authority responsible carrying function duty provide regulation shall inform esma thereof member state designate one competent authority pursuant paragraph shall determine respective task designate one single point contact crossborder administrative cooperation competent authority well esma esma shall publish website list competent authority designate accordance paragraph order fulfil duty regulation competent authority shall accordance national law least follow investigatory power require crowdfunde service provider third party designate perform function relation provision crowdfunde service natural legal person control control provide information document b require auditor manager crowdfunde service provider third party designate perform function relation provision crowdfunde service provide information c carry onsite inspection investigation site private residence natural person purpose enter premise order access document datum form reasonable suspicion exist document datum relate subject matter inspection investigation may relevant prove infringement regulation order fulfil duty regulation competent authority shall accordance national law least follow supervisory power suspend crowdfunde offer maximum consecutive working day single occasion reasonable ground suspect regulation infringe b prohibit suspend marketing communication require crowdfunde service provider third party designate perform function relation provision crowdfunde service cease suspend marketing communication maximum consecutive working day single occasion reasonable ground believe regulation infringe c prohibit crowdfunde offer find regulation infringe reasonable ground suspecting would infringe suspend require crowdfunde service provider suspend provision crowdfunde service maximum consecutive working day single occasion reasonable ground believe regulation infringe e prohibit provision crowdfunde service find regulation infringe f make public fact crowdfunde service provider third party designate perform function relation provision crowdfunde service fail comply obligation g disclose require crowdfunde service provider third party designate perform function relation provision crowdfunde service disclose material information may effect provision crowdfunde service order ensure investor protection smooth operation market h suspend require crowdfunde service provider third party designate perform function relation provision crowdfunde service suspend provision crowdfunde service competent authority consider crowdfunde service provider ' situation provision crowdfunde service would detrimental investor ’ interest transfer exist contract another crowdfunde service provider case crowdfunde service provider ' authorisation withdraw accordance point c first subparagraph article subject agreement client receive crowdfunde service provider measure adopt exercise power paragraph shall proportionate duly justify take accordance article necessary national law competent authority may ask relevant judicial authority decide use power refer paragraph crowdfunde service provider exist contract transfer refer point first subparagraph paragraph shall authorise provide crowdfunde service member state original crowdfunding service provider authorise competent authority shall exercise function power refer paragraph follow way directly b collaboration authority c responsibility delegation authority application competent judicial authority member state shall ensure appropriate measure place competent authority supervisory investigatory power necessary fulfil duty natural legal person make information available competent authority accordance regulation shall consider infringe restriction disclosure information impose contract legislative regulatory administrative provision shall subject liability kind relate notification competent authority shall cooperate purpose regulation shall exchange information without undue delay cooperate investigation supervision enforcement activity member state choose accordance article lie criminal penalty infringement regulation shall ensure appropriate measure place competent authority necessary power liaise judicial prosecute criminal justice authority within jurisdiction receive specific information relate criminal investigation proceeding commence infringement regulation provide information competent authority well esma order fulfil obligation cooperate purpose regulation competent authority may refuse act request information request cooperate investigation follow exceptional circumstance comply request likely adversely affect investigation enforcement activity criminal investigation b judicial proceeding already initiate respect action natural legal person authority member state address c final judgment already deliver relation natural legal person action member state address competent authority shall request without undue delay supply information require purpose regulation competent authority may request assistance competent authority another member state regard onsite inspection investigation request competent authority shall inform esma request refer first subparagraph competent authority receive request competent authority another member state carry onsite inspection investigation may take follow action carry onsite inspection investigation b allow competent authority submit request participate onsite inspection investigation c allow competent authority submit request carry onsite inspection investigation appoint auditor expert carry onsite inspection investigation e share specific task relate supervisory activity competent authority competent authority may refer esma situation request cooperation particular exchange information reject act upon within reasonable time without prejudice article tfeu esma may situation act accordance power confer article regulation eu competent authority shall closely coordinate supervision order identify remedy infringement regulation develop promote good practice facilitate collaboration foster consistency interpretation provide crossjurisdictional assessment event disagreement competent authority find requirement regulation meet reason believe case shall inform competent authority entity entity suspect infringement finding sufficiently detailed manner esma shall develop draft regulatory technical standard specify information exchange competent authority accordance paragraph esma shall submit draft regulatory technical standards commission may power delegate commission supplement regulation adopt regulatory technical standard refer first subparagraph paragraph accordance article regulation eu esma shall develop draft implement technical standard establish standard form template procedure cooperation exchange information competent authority esma shall submit draft implement technical standards commission may power confer commission adopt implement technical standard refer first subparagraph paragraph accordance article regulation eu competent authority esma shall cooperate closely purpose regulation accordance regulation eu shall exchange information order carry duty chapter case onsite inspection investigation crossborder effect esma shall request one competent authority coordinate inspection investigation competent authority shall without delay provide esma information necessary carry duty accordance article regulation eu order ensure uniform condition application article esma shall develop draft implement technical standard establish standard form template procedure cooperation exchange information competent authority esma esma shall submit draft implement technical standards commission may power confer commission adopt implement technical standard refer first subparagraph paragraph accordance article regulation eu crowdfunde service provider engage activity cover authorisation refer article competent authority shall cooperate authority responsible oversight activity provide relevant union national law member state shall notify law regulation administrative provision implement chapter include relevant criminal law provisions commission esma november member state shall notify commission esma without undue delay subsequent amendment thereto information exchange competent authority regulation concern business operational condition economic personal affair shall consider confidential shall subject requirement professional secrecy except competent authority state time communication information permit disclose disclosure necessary legal proceeding obligation professional secrecy shall apply natural legal person work work competent authority third party competent authority delegate power information cover professional secrecy may disclose natural legal person authority except virtue provision lay union national law regard process personal datum within scope regulation competent authority shall carry task purpose regulation accordance regulation eu regard process personal datum esma within scope regulation shall comply regulation eu competent authority member state crowdfunde service provide clear demonstrable ground believe irregularity commit crowdfunde service provider third party designate perform function relation provision crowdfunde service crowdfunde service provider third party infringe obligation regulation shall notify competent authority grant authorisation esma thereof despite measure take competent authority grant authorisation crowdfunde service provider third party designate perform function relation provision crowdfunde service persist infringe regulation competent authority member state crowdfunde service provide inform competent authority grant authorisation esma shall take appropriate measure order protect investor shall inform commission esma thereof without undue delay competent authority disagree measure take another competent authority pursuant paragraph article may bring matter attention esma esma may act accordance power confer article regulation eu competent authority shall set procedure allow client interested party include consumer association submit complaint competent authority regard crowdfunde service provider ' alleged infringement regulation case complaint accept write electronic form official language member state complaint submit language accept competent authority member state information complaint procedure refer paragraph shall make available website competent authority communicate esma esma shall publish reference complaint procedure relate section website competent authority website without prejudice supervisory investigatory power competent authority article right member state provide impose criminal penalty member state shall accordance national law provide competent authority power impose administrative penalty take appropriate administrative measure shall effective proportionate dissuasive administrative penalty administrative measure shall apply least infringement article article article article article article article article article article article article article article article article article article article b failure cooperate comply investigation inspection request cover article member state may decide lay rule administrative penalty administrative measure infringement subject criminal penalty national law november member state shall notify detail rule refer first second subparagraphs commission esma shall notify commission esma without delay subsequent amendment thereto member state shall accordance national law ensure competent authority power impose least follow administrative penalty administrative measure relation infringement list point first subparagraph paragraph public statement indicate natural legal person responsible nature infringement b order require natural legal person cease conduct constitute infringement desist repetition conduct c ban prevent member management body legal person responsible infringement natural person hold responsible infringement exercise management function crowdfunde service provider maximum administrative fine least twice amount benefit derive infringement benefit determine even exceed maximum amount set point e e case legal person maximum administrative fine least eur member state whose currency euro correspond value national currency november total annual turnover legal person accord last available financial statement approve management body legal person parent undertake subsidiary parent undertaking require prepare consolidated financial statement accordance directive eu european parliament council relevant total annual turnover shall total annual turnover correspond type income accordance relevant union law area account according last available consolidated financial statement approve management body ultimate parent undertake f case natural person maximum administrative fine least eur member state whose currency euro correspond value national currency november member state may provide additional penalty measure high level administrative fine provide regulation respect natural legal person responsible infringement competent authority determine type level administrative penalty administrative measure impose accordance article shall take account extent infringement intentional result negligence relevant circumstance include appropriate gravity duration infringement b degree responsibility natural legal person responsible infringement c financial strength natural legal person responsible infringement indicate total turnover responsible legal person annual income net asset responsible natural person importance profit gain loss avoid natural legal person responsible infringement insofar determine e loss third party cause infringement insofar determine f level cooperation natural legal person responsible infringement competent authority without prejudice need ensure disgorgement profit gain loss avoid person g previous infringement natural legal person responsible infringement h impact infringement investor ’ interest competent authority shall exercise function power refer article accordance second subparagraph article exercise power impose administrative penalty administrative measure article competent authority shall cooperate closely ensure exercise supervisory investigative power administrative penalty administrative measure impose effective appropriate regulation shall coordinate action order avoid duplication overlap exercise supervisory investigative power impose administrative penalty administrative measure crossborder case member state shall ensure decision take regulation properly reason subject right appeal tribunal right appeal tribunal shall also apply respect application authorisation provide information require decision take within six month submission decision impose administrative penalty administrative measure infringement regulation shall publish competent authority official website immediately natural legal person subject decision inform decision publication shall include least information type nature infringement identity natural legal person responsible obligation apply decision impose measure investigatory nature publication identity legal entity identity personal datum natural person consider competent authority disproportionate follow casebycase assessment conduct proportionality publication data publication would jeopardise ongoing investigation competent authority shall take one follow action defer publication decision impose penalty measure moment reason nonpublication cease exist b publish decision impose penalty measure anonymous basis manner conformity national law anonymous publication ensure effective protection personal datum concern c publish decision impose penalty measure event option lay point b consider insufficient ensure proportionality publication decision regard measure deem minor nature case decision publish penalty measure anonymous basis refer point b first subparagraph publication relevant datum may defer reasonable period foresee within period reason anonymous publication shall cease exist decision impose penalty measure subject appeal relevant judicial authority competent authority shall publish immediately official website information subsequent information outcome appeal moreover decision annul previous decision impose penalty measure shall also publish competent authority shall ensure publication accordance article remain official website period least five year publication personal datum contain publication shall keep official website competent authority period necessary accordance applicable data protection rule competent authority shall annual basis provide esma aggregate information regard administrative penalty administrative measure impose accordance article esma shall publish information annual report member state choose accordance article lie criminal penalty infringement provision refer paragraph competent authority shall provide esma annually anonymise aggregated datum regard criminal investigation undertake criminal penalty impose esma shall publish data criminal penalty impose annual report competent authority disclose administrative penalty administrative measure criminal penalty public shall simultaneously report esma competent authority shall inform esma administrative penalty administrative measure impose publish include appeal relation thereto outcome thereof member state shall ensure competent authority receive information final judgment relation criminal penalty impose submit esma esma shall maintain central database penaltie administrative measure communicate solely purpose exchange information competent authority database shall accessible esma eba competent authority shall update basis information provide competent authority power adopt delegate act confer commission subject condition lay article power adopt delegate act refer article shall confer commission period month november delegation power refer article may revoke time european parliament council decision revoke shall put end delegation power specify decision shall take effect day follow publication decision official journal european union later date specify therein shall affect validity delegate act already force adopt delegate act commission shall consult expert designate member state accordance principle lay interinstitutional agreement april well lawmaking soon adopt delegate act commission shall notify simultaneously european parliament council delegate act adopt pursuant article shall enter force objection express either european parliament council within period three month notification act european parliament council expiry period european parliament council informed commission object period shall extend three month initiative european parliament council november commission shall consult esma eba present report european parliament council application regulation accompany appropriate legislative proposal report shall assess follow function market crowdfunde service provider union include market development trend take account supervisory experience number crowdfunde service provider authorise market share well impact regulation relation relevant union law include directive ec directive eu european parliament council directive eu regulation eu b whether scope service cover regulation remain appropriate relation threshold amount set point c article c use admit instrument crowdfunde purpose crossborder provision crowdfunde service whether scope service cover regulation remain appropriate take account development business model involve intermediation financial claim include assignment sale thirdparty investor loan claim mean crowdfunde platform e whether adjustment need definition set regulation include definition sophisticated investor set point j article criterion annex ii light effectiveness ensure investor protection f whether requirement set article article article remain appropriate pursue objective regulation regard governance compliance information disclosure individual portfolio management loan light similar service provide transferable security accordance directive eu g impact regulation proper function union ' internal market crowdfunde service include impact access finance sme investor category natural legal person affect service h implementation technological innovation crowdfunde sector include application new innovative business model technology whether prudential requirement set article remain appropriate pursue objective regulation particular regard level minimum fund requirement definition fund use insurance combination fund insurance j whether change need requirement information client set article investor protection safeguard set article k whether amount set article remain appropriate pursue objective regulation l effect language accept competent authority accordance article use bulletin board refer article include impact secondary market loan transferable security admit instrument crowdfunde purpose n effect national law regulation administrative provision govern marketing communication crowdfunde service provider freedom provide service competition investor protection application administrative penalty administrative measure particular need harmonise administrative penalty provide infringement regulation p necessity proportionality subject crowdfunde service provider obligation compliance national law implement directive eu respect money launder terrorist financing add crowdfunde service provider list oblige entity purpose directive q appropriateness allow entity establish third country authorise crowdfunde service provider regulation r cooperation competent authority esma appropriateness competent authority supervisor regulation possibility introduce specific measure regulation promote sustainable innovative crowdfunding project well use union fund total number market share crowdfunde service provider authorise regulation period november november classify small mediumsize large enterprise u volume number project trend crossborder provision crowdfunde service per member state v share crowdfunde service provide regulation global crowdfunde market union financial market w cost comply regulation crowdfunde service provider percentage operational cost x volume investment withdraw investor within reflection period share total volume investment base datum assess whether duration nature reflection period set article appropriate harm efficiency capital raising process investor protection number amount administrative fine criminal penalty impose accord relation regulation classify member state z type trend fraudulent behaviour investor crowdfunde service provider third party occur relation regulation article regulation eu follow point add ' k offer security public crowdfunde service provider authorise regulation eu european parliament council provide exceed threshold lay point c article regulation part ib annex directive eu follow point add ' xxi regulation eu european parliament council october european crowdfunding service provider business amend regulation eu directive eu oj l p ' crowdfunde service provider may continue accordance applicable national law provide crowdfunde service include within scope regulation november grant authorisation refer article whichever soon duration transitional period refer paragraph article member state may place simplified authorisation procedure entity time entry force regulation authorise national law provide crowdfunde service competent authority shall ensure requirement lay article comply grant authorisation pursuant simplify procedure may commission shall make assessment consult esma application regulation crowdfunde service provider provide crowdfunde service national basis impact regulation development national crowdfunde market access finance basis assessment commission shall empowered adopt delegate act accordance article extend period refer paragraph article month period way derogation point c article regulation period month november member state threshold total consideration publication prospectus accordance regulation eu eur regulation shall apply member state crowdfunding offer total consideration amount threshold member state shall adopt publish apply november law regulation administrative provision necessary comply article however date precede date transposition refer article directive eu adoption publication application law regulation administrative provision shall postpone date transposition refer article directive eu member state shall communicate commission esma text main provision national law adopt field cover article regulation shall enter force twentieth day follow publication official journal european union shall apply november regulation shall bind entirety directly applicable member state do brussels october identity legal form ownership management contact detail b natural legal person responsible information give key investment information sheet case natural person include member project owner ' administrative management supervisory body indicate name function natural person case legal person indicate name register office follow responsibility statement ' project owner declare good knowledge information omit materially mislead inaccurate project owner responsible preparation key investment information sheet ' c principal activity project owner product service offer project owner hyperlink recent financial statement project owner available e key annual financial figure ratio project owner last three year available f description crowdfunde project include purpose main feature minimum target capital raise target fund borrow single crowdfunding offer number offer complete project owner crowdfunde service provider crowdfunde project b deadline reach target capital raise target fund borrow c information consequence target capital raise target fund borrow deadline maximum offer amount different target capital target fund refer point e amount fund commit crowdfunde project project owner f change composition project owner ' capital loan relate crowdfunde offer g existence condition precontractual reflection period nonsophisticate investor presentation main risk associate funding crowdfunde project sector project project owner transferable security admit instrument crowdfunde purpose loan include relevant geographic risk total amount type transferable security admit instrument crowdfunde purpose offer b subscription price c whether oversubscription accept allocate term subscription payment e custody delivery transferable security admit instrument crowdfunde purpose investor f investment secure guarantee collateral whether guarantor collateral provider legal person ii identity legal form contact detail guarantor collateral provider iii information nature term guarantee collateral g applicable firm commitment buy back transferable security admit instrument crowdfunde purpose time period buyback h nonequity instrument nominal interest rate date interest become payable due date interest payment maturity date applicable yield whether spv interpose project owner investor b contact detail spv key right attach transferable security admit instrument crowdfunde purpose b restriction transferable security admit instrument crowdfunde purpose subject include shareholder agreement arrangement prevent transferability c description restriction transfer transferable security admit instrument crowdfunde purpose opportunity investor exit investment e equity instrument distribution capital voting right capital increase result offer assume transferable security admit instrument crowdfunde purpose subscribe crowdfunde offer involve facilitation grant loan key investment information sheet shall instead information refer part e f annex contain information follow nature duration term loan b applicable interest rate applicable compensation investor c risk mitigation measure include existence collateral provider guarantor type guarantee schedule repayment principal payment interest e default credit agreement project owner within past five year f servicing loan include situation project owner meet obligation fee charge cost incur investor relation investment include administrative cost result sale admit instrument crowdfunde purpose b additional information crowdfunde project project owner spv obtain free charge c investor may address complaint investment conduct project owner crowdfunde service provider identity legal form ownership management contact detail crowdfunde service provider b minimum maximum interest rate loan may available investor ’ individual portfolio c minimum maximum maturity date loan may available investor ’ individual portfolio use range distribution risk category loan fall well default rate weight average interest rate per risk category break year loan grant crowdfunde service provider e key element internal methodology credit risk assessment individual crowdfunde project define risk category f target rate return investment offer annualise target rate confidence interval annualise target rate investment period take account fee default rate g procedure internal methodology criterion selection crowdfunde project individual portfolio loan investor h coverage condition applicable capital guarantee service portfolio loan include situation project owner meet obligation j risk diversification strategy k fee pay project owner investor include deduction interest pay project owner sophisticated investor investor possess awareness risk associate invest capital market adequate resource undertake risk without expose excessive financial consequence sophisticated investor may categorise meet identification criterion set section procedure set section ii follow follow natural legal person shall regard sophisticated investor service offer crowdfunde service provider accordance regulation legal person meet least one follow criterion fund least eur b net turnover least eur c balance sheet least eur natural person meeting least two follow criterion personal gross income least eur per fiscal year financial instrument portfolio define include cash deposit financial asset exceed eur b investor work work financial sector least one year professional position require knowledge transaction service envisage investor hold executive position least month legal person refer point c investor carry transaction significant size capital market average frequency per quarter previous four quarter crowdfunde service provider shall make available investor template may use submit request treat sophisticated investor template shall contain identification criterion set section clear warning specify investor protection sophisticated investor lose consequence classified request treat sophisticated investor shall contain follow item attestation specify identification criterion set section request investor meet statement request investor aware consequence lose investor protection attach status nonsophisticate investor statement request investor remain liable veracity information provide request crowdfunde service provider shall take reasonable step ensure investor qualify sophisticated investor shall implement appropriate write internal policy categorise investor crowdfunde service provider shall approve request unless reasonable doubt information provide request correct crowdfunde service provider shall explicitly notify investor status confirm approval refer third paragraph shall validity two year investor wish maintain sophisticated investor status expiry period validity shall submit new request crowdfunde service provider sophisticated investor shall responsible keeping crowdfunde service provider inform change could affect categorisation crowdfunde service provider become aware investor long fulfil initial condition make investor eligible treat sophisticated investor crowdfunde service provider shall inform investor treat nonsophisticated investor way derogation procedure set section ii annex entities refer point section annex ii directive eu shall regard sophisticated investor provide proof status professional crowdfunde service provider\""
            ],
            "application/vnd.google.colaboratory.intrinsic+json": {
              "type": "string"
            }
          },
          "metadata": {},
          "execution_count": 55
        }
      ],
      "source": [
        "#Checking outcome of Preprocessing\n",
        "\n",
        "clean_txt[0]"
      ]
    },
    {
      "cell_type": "code",
      "execution_count": 56,
      "id": "abf066d5",
      "metadata": {
        "id": "abf066d5"
      },
      "outputs": [],
      "source": [
        "# bigram vectorization\n",
        "\n",
        "vectorizer_n_gram = TfidfVectorizer(ngram_range = (1,1)) # BI-GRAMS\n",
        "cleaned_vectorizer_n_gram = vectorizer_n_gram.fit_transform(clean_txt)"
      ]
    },
    {
      "cell_type": "code",
      "execution_count": 57,
      "id": "bcf39f21",
      "metadata": {
        "id": "bcf39f21"
      },
      "outputs": [],
      "source": [
        "df = pd.DataFrame(cleaned_vectorizer_n_gram.toarray(), columns=vectorizer_n_gram.get_feature_names_out())"
      ]
    },
    {
      "cell_type": "code",
      "execution_count": 58,
      "id": "c1b6c3ee",
      "metadata": {
        "id": "c1b6c3ee"
      },
      "outputs": [],
      "source": [
        "#Topic model function from ML-10-lecture\n",
        "def print_topics(model, vectorizer, top_words):\n",
        "    for idx, topic in enumerate(model.components_):\n",
        "        print(\"-\"*20)\n",
        "        print(\"Topic %d:\" % (idx))\n",
        "        print([(vectorizer_n_gram.get_feature_names_out()[i], round(topic[i],2))\n",
        "                        for i in topic.argsort()[:-top_words - 1:-1]])"
      ]
    },
    {
      "cell_type": "markdown",
      "id": "e964a22e",
      "metadata": {
        "id": "e964a22e"
      },
      "source": [
        "# Topic-Modelling with BERTopic\n",
        "\n",
        "\n"
      ]
    },
    {
      "cell_type": "code",
      "execution_count": null,
      "id": "dd20bfd1",
      "metadata": {
        "id": "dd20bfd1"
      },
      "outputs": [],
      "source": [
        "#PIP-installing BERTtopic\n",
        "\n",
        "!pip install bertopic"
      ]
    },
    {
      "cell_type": "code",
      "execution_count": 26,
      "id": "de5bb6d5",
      "metadata": {
        "id": "de5bb6d5"
      },
      "outputs": [],
      "source": [
        "from bertopic import BERTopic #BERTtopic-model: https://github.com/MaartenGr/BERTopic"
      ]
    },
    {
      "cell_type": "code",
      "execution_count": 83,
      "id": "e657aa3b",
      "metadata": {
        "colab": {
          "base_uri": "https://localhost:8080/",
          "height": 123,
          "referenced_widgets": [
            "b1a9da4617904bafb4310d3dc01be822",
            "819d70f748b3408b9778bb4981ac1276",
            "3519cc6bda1f4424a75e2caadd135028",
            "3326a28b798748038e8c5d07e9efef66",
            "0fb81653cd434c71890310232503be6f",
            "70e73ea557af466e85d0660e14d9cec4",
            "841122157b93425b90856c507018201b",
            "958d517d1ed34a9182cbeea7c111ddf4",
            "1c4f053f9bd14335bd3e71a339410c0b",
            "bb20bcbf92c2457c9a99c4651d6c380b",
            "f3b757d9f40847849518340df55cbf85"
          ]
        },
        "id": "e657aa3b",
        "outputId": "77d565d8-c198-40d0-c54f-9a2c6852f382"
      },
      "outputs": [
        {
          "output_type": "display_data",
          "data": {
            "text/plain": [
              "Batches:   0%|          | 0/99 [00:00<?, ?it/s]"
            ],
            "application/vnd.jupyter.widget-view+json": {
              "version_major": 2,
              "version_minor": 0,
              "model_id": "b1a9da4617904bafb4310d3dc01be822"
            }
          },
          "metadata": {}
        },
        {
          "output_type": "stream",
          "name": "stderr",
          "text": [
            "2022-06-02 11:23:55,819 - BERTopic - Transformed documents to Embeddings\n",
            "2022-06-02 11:24:09,445 - BERTopic - Reduced dimensionality\n",
            "2022-06-02 11:24:10,439 - BERTopic - Clustered reduced embeddings\n",
            "2022-06-02 11:24:30,698 - BERTopic - Reduced number of topics from 89 to 21\n"
          ]
        }
      ],
      "source": [
        "#Training\n",
        "\n",
        "topic_model = BERTopic(nr_topics=20, language=\"english\", calculate_probabilities=True, verbose=True)\n",
        "topics, probs = topic_model.fit_transform(clean_txt)"
      ]
    },
    {
      "cell_type": "code",
      "execution_count": 84,
      "id": "61f851c0",
      "metadata": {
        "colab": {
          "base_uri": "https://localhost:8080/",
          "height": 708
        },
        "id": "61f851c0",
        "outputId": "6af97bdb-2ac6-4903-eee9-65280e4c6e7c"
      },
      "outputs": [
        {
          "output_type": "execute_result",
          "data": {
            "text/plain": [
              "    Topic  Count                                           Name\n",
              "0      -1   1207                -1_shall_article_regulation_use\n",
              "1       0    192                0_control_regulation_ec_product\n",
              "2       1    154                  1_substance_regulation_mrl_ec\n",
              "3       2    153              2_person_council_regulation_annex\n",
              "4       3    142           3_additive_feed_premixture_substance\n",
              "5       4    122                           4_mm_quota_tariff_rn\n",
              "6       5    120                     5_shall_member_union_state\n",
              "7       6    108             6_producer_commission_price_import\n",
              "8       7     98                 7_fishing_vessel_catch_fishery\n",
              "9       8     91  8_amendment_regulation_european_specification\n",
              "10      9     89                  9_aircraft_point_flight_shall\n",
              "11     10     84                   10_regulation_european_ec_eu\n",
              "12     11     75                        11_gminy_od_gemeinde_na\n",
              "13     12     72                12_name_register_european_enter\n",
              "14     13     67                                 13_de_la_el_en\n",
              "15     14     67                  14_stock_quota_fishing_vessel\n",
              "16     15     66         15_institution_shall_article_authority\n",
              "17     16     61           16_animal_disease_establishment_keep\n",
              "18     17     60                17_food_novel_regulation_infant\n",
              "19     18     60                     18_regulation_eu_wine_year\n",
              "20     19     58             19_crr_institution_exposure_report"
            ],
            "text/html": [
              "\n",
              "  <div id=\"df-4c03fc00-2be8-4684-9ccc-1a4af1b31c8e\">\n",
              "    <div class=\"colab-df-container\">\n",
              "      <div>\n",
              "<style scoped>\n",
              "    .dataframe tbody tr th:only-of-type {\n",
              "        vertical-align: middle;\n",
              "    }\n",
              "\n",
              "    .dataframe tbody tr th {\n",
              "        vertical-align: top;\n",
              "    }\n",
              "\n",
              "    .dataframe thead th {\n",
              "        text-align: right;\n",
              "    }\n",
              "</style>\n",
              "<table border=\"1\" class=\"dataframe\">\n",
              "  <thead>\n",
              "    <tr style=\"text-align: right;\">\n",
              "      <th></th>\n",
              "      <th>Topic</th>\n",
              "      <th>Count</th>\n",
              "      <th>Name</th>\n",
              "    </tr>\n",
              "  </thead>\n",
              "  <tbody>\n",
              "    <tr>\n",
              "      <th>0</th>\n",
              "      <td>-1</td>\n",
              "      <td>1207</td>\n",
              "      <td>-1_shall_article_regulation_use</td>\n",
              "    </tr>\n",
              "    <tr>\n",
              "      <th>1</th>\n",
              "      <td>0</td>\n",
              "      <td>192</td>\n",
              "      <td>0_control_regulation_ec_product</td>\n",
              "    </tr>\n",
              "    <tr>\n",
              "      <th>2</th>\n",
              "      <td>1</td>\n",
              "      <td>154</td>\n",
              "      <td>1_substance_regulation_mrl_ec</td>\n",
              "    </tr>\n",
              "    <tr>\n",
              "      <th>3</th>\n",
              "      <td>2</td>\n",
              "      <td>153</td>\n",
              "      <td>2_person_council_regulation_annex</td>\n",
              "    </tr>\n",
              "    <tr>\n",
              "      <th>4</th>\n",
              "      <td>3</td>\n",
              "      <td>142</td>\n",
              "      <td>3_additive_feed_premixture_substance</td>\n",
              "    </tr>\n",
              "    <tr>\n",
              "      <th>5</th>\n",
              "      <td>4</td>\n",
              "      <td>122</td>\n",
              "      <td>4_mm_quota_tariff_rn</td>\n",
              "    </tr>\n",
              "    <tr>\n",
              "      <th>6</th>\n",
              "      <td>5</td>\n",
              "      <td>120</td>\n",
              "      <td>5_shall_member_union_state</td>\n",
              "    </tr>\n",
              "    <tr>\n",
              "      <th>7</th>\n",
              "      <td>6</td>\n",
              "      <td>108</td>\n",
              "      <td>6_producer_commission_price_import</td>\n",
              "    </tr>\n",
              "    <tr>\n",
              "      <th>8</th>\n",
              "      <td>7</td>\n",
              "      <td>98</td>\n",
              "      <td>7_fishing_vessel_catch_fishery</td>\n",
              "    </tr>\n",
              "    <tr>\n",
              "      <th>9</th>\n",
              "      <td>8</td>\n",
              "      <td>91</td>\n",
              "      <td>8_amendment_regulation_european_specification</td>\n",
              "    </tr>\n",
              "    <tr>\n",
              "      <th>10</th>\n",
              "      <td>9</td>\n",
              "      <td>89</td>\n",
              "      <td>9_aircraft_point_flight_shall</td>\n",
              "    </tr>\n",
              "    <tr>\n",
              "      <th>11</th>\n",
              "      <td>10</td>\n",
              "      <td>84</td>\n",
              "      <td>10_regulation_european_ec_eu</td>\n",
              "    </tr>\n",
              "    <tr>\n",
              "      <th>12</th>\n",
              "      <td>11</td>\n",
              "      <td>75</td>\n",
              "      <td>11_gminy_od_gemeinde_na</td>\n",
              "    </tr>\n",
              "    <tr>\n",
              "      <th>13</th>\n",
              "      <td>12</td>\n",
              "      <td>72</td>\n",
              "      <td>12_name_register_european_enter</td>\n",
              "    </tr>\n",
              "    <tr>\n",
              "      <th>14</th>\n",
              "      <td>13</td>\n",
              "      <td>67</td>\n",
              "      <td>13_de_la_el_en</td>\n",
              "    </tr>\n",
              "    <tr>\n",
              "      <th>15</th>\n",
              "      <td>14</td>\n",
              "      <td>67</td>\n",
              "      <td>14_stock_quota_fishing_vessel</td>\n",
              "    </tr>\n",
              "    <tr>\n",
              "      <th>16</th>\n",
              "      <td>15</td>\n",
              "      <td>66</td>\n",
              "      <td>15_institution_shall_article_authority</td>\n",
              "    </tr>\n",
              "    <tr>\n",
              "      <th>17</th>\n",
              "      <td>16</td>\n",
              "      <td>61</td>\n",
              "      <td>16_animal_disease_establishment_keep</td>\n",
              "    </tr>\n",
              "    <tr>\n",
              "      <th>18</th>\n",
              "      <td>17</td>\n",
              "      <td>60</td>\n",
              "      <td>17_food_novel_regulation_infant</td>\n",
              "    </tr>\n",
              "    <tr>\n",
              "      <th>19</th>\n",
              "      <td>18</td>\n",
              "      <td>60</td>\n",
              "      <td>18_regulation_eu_wine_year</td>\n",
              "    </tr>\n",
              "    <tr>\n",
              "      <th>20</th>\n",
              "      <td>19</td>\n",
              "      <td>58</td>\n",
              "      <td>19_crr_institution_exposure_report</td>\n",
              "    </tr>\n",
              "  </tbody>\n",
              "</table>\n",
              "</div>\n",
              "      <button class=\"colab-df-convert\" onclick=\"convertToInteractive('df-4c03fc00-2be8-4684-9ccc-1a4af1b31c8e')\"\n",
              "              title=\"Convert this dataframe to an interactive table.\"\n",
              "              style=\"display:none;\">\n",
              "        \n",
              "  <svg xmlns=\"http://www.w3.org/2000/svg\" height=\"24px\"viewBox=\"0 0 24 24\"\n",
              "       width=\"24px\">\n",
              "    <path d=\"M0 0h24v24H0V0z\" fill=\"none\"/>\n",
              "    <path d=\"M18.56 5.44l.94 2.06.94-2.06 2.06-.94-2.06-.94-.94-2.06-.94 2.06-2.06.94zm-11 1L8.5 8.5l.94-2.06 2.06-.94-2.06-.94L8.5 2.5l-.94 2.06-2.06.94zm10 10l.94 2.06.94-2.06 2.06-.94-2.06-.94-.94-2.06-.94 2.06-2.06.94z\"/><path d=\"M17.41 7.96l-1.37-1.37c-.4-.4-.92-.59-1.43-.59-.52 0-1.04.2-1.43.59L10.3 9.45l-7.72 7.72c-.78.78-.78 2.05 0 2.83L4 21.41c.39.39.9.59 1.41.59.51 0 1.02-.2 1.41-.59l7.78-7.78 2.81-2.81c.8-.78.8-2.07 0-2.86zM5.41 20L4 18.59l7.72-7.72 1.47 1.35L5.41 20z\"/>\n",
              "  </svg>\n",
              "      </button>\n",
              "      \n",
              "  <style>\n",
              "    .colab-df-container {\n",
              "      display:flex;\n",
              "      flex-wrap:wrap;\n",
              "      gap: 12px;\n",
              "    }\n",
              "\n",
              "    .colab-df-convert {\n",
              "      background-color: #E8F0FE;\n",
              "      border: none;\n",
              "      border-radius: 50%;\n",
              "      cursor: pointer;\n",
              "      display: none;\n",
              "      fill: #1967D2;\n",
              "      height: 32px;\n",
              "      padding: 0 0 0 0;\n",
              "      width: 32px;\n",
              "    }\n",
              "\n",
              "    .colab-df-convert:hover {\n",
              "      background-color: #E2EBFA;\n",
              "      box-shadow: 0px 1px 2px rgba(60, 64, 67, 0.3), 0px 1px 3px 1px rgba(60, 64, 67, 0.15);\n",
              "      fill: #174EA6;\n",
              "    }\n",
              "\n",
              "    [theme=dark] .colab-df-convert {\n",
              "      background-color: #3B4455;\n",
              "      fill: #D2E3FC;\n",
              "    }\n",
              "\n",
              "    [theme=dark] .colab-df-convert:hover {\n",
              "      background-color: #434B5C;\n",
              "      box-shadow: 0px 1px 3px 1px rgba(0, 0, 0, 0.15);\n",
              "      filter: drop-shadow(0px 1px 2px rgba(0, 0, 0, 0.3));\n",
              "      fill: #FFFFFF;\n",
              "    }\n",
              "  </style>\n",
              "\n",
              "      <script>\n",
              "        const buttonEl =\n",
              "          document.querySelector('#df-4c03fc00-2be8-4684-9ccc-1a4af1b31c8e button.colab-df-convert');\n",
              "        buttonEl.style.display =\n",
              "          google.colab.kernel.accessAllowed ? 'block' : 'none';\n",
              "\n",
              "        async function convertToInteractive(key) {\n",
              "          const element = document.querySelector('#df-4c03fc00-2be8-4684-9ccc-1a4af1b31c8e');\n",
              "          const dataTable =\n",
              "            await google.colab.kernel.invokeFunction('convertToInteractive',\n",
              "                                                     [key], {});\n",
              "          if (!dataTable) return;\n",
              "\n",
              "          const docLinkHtml = 'Like what you see? Visit the ' +\n",
              "            '<a target=\"_blank\" href=https://colab.research.google.com/notebooks/data_table.ipynb>data table notebook</a>'\n",
              "            + ' to learn more about interactive tables.';\n",
              "          element.innerHTML = '';\n",
              "          dataTable['output_type'] = 'display_data';\n",
              "          await google.colab.output.renderOutput(dataTable, element);\n",
              "          const docLink = document.createElement('div');\n",
              "          docLink.innerHTML = docLinkHtml;\n",
              "          element.appendChild(docLink);\n",
              "        }\n",
              "      </script>\n",
              "    </div>\n",
              "  </div>\n",
              "  "
            ]
          },
          "metadata": {},
          "execution_count": 84
        }
      ],
      "source": [
        "topic_model.get_topic_info()"
      ]
    },
    {
      "cell_type": "code",
      "source": [
        "topic_model.get_topic(-1)"
      ],
      "metadata": {
        "colab": {
          "base_uri": "https://localhost:8080/"
        },
        "id": "5DcMRDvm2mTC",
        "outputId": "8ba69253-ee6e-4246-89fe-a5f3690f4132"
      },
      "id": "5DcMRDvm2mTC",
      "execution_count": 85,
      "outputs": [
        {
          "output_type": "execute_result",
          "data": {
            "text/plain": [
              "[('shall', 0.02365256817997433),\n",
              " ('article', 0.019141296752447367),\n",
              " ('regulation', 0.017761383517371974),\n",
              " ('use', 0.015016649540168561),\n",
              " ('follow', 0.014423584542103305),\n",
              " ('eu', 0.01409303177313302),\n",
              " ('member', 0.013965600286295182),\n",
              " ('state', 0.01382310444650231),\n",
              " ('include', 0.012575865323694554),\n",
              " ('accordance', 0.01164099393045191)]"
            ]
          },
          "metadata": {},
          "execution_count": 85
        }
      ]
    },
    {
      "cell_type": "code",
      "source": [
        "topic_model.visualize_topics()"
      ],
      "metadata": {
        "colab": {
          "base_uri": "https://localhost:8080/",
          "height": 667
        },
        "id": "MJB8ZF3lvnnD",
        "outputId": "43186712-ef11-4456-cb4b-bbbf579237e2"
      },
      "id": "MJB8ZF3lvnnD",
      "execution_count": 86,
      "outputs": [
        {
          "output_type": "display_data",
          "data": {
            "text/html": [
              "<html>\n",
              "<head><meta charset=\"utf-8\" /></head>\n",
              "<body>\n",
              "    <div>            <script src=\"https://cdnjs.cloudflare.com/ajax/libs/mathjax/2.7.5/MathJax.js?config=TeX-AMS-MML_SVG\"></script><script type=\"text/javascript\">if (window.MathJax) {MathJax.Hub.Config({SVG: {font: \"STIX-Web\"}});}</script>                <script type=\"text/javascript\">window.PlotlyConfig = {MathJaxConfig: 'local'};</script>\n",
              "        <script src=\"https://cdn.plot.ly/plotly-2.8.3.min.js\"></script>                <div id=\"965e535a-0238-4769-b92a-a02b43a64024\" class=\"plotly-graph-div\" style=\"height:650px; width:650px;\"></div>            <script type=\"text/javascript\">                                    window.PLOTLYENV=window.PLOTLYENV || {};                                    if (document.getElementById(\"965e535a-0238-4769-b92a-a02b43a64024\")) {                    Plotly.newPlot(                        \"965e535a-0238-4769-b92a-a02b43a64024\",                        [{\"customdata\":[[1,\"substance | regulation | mrl | ec | submit\",154],[2,\"person | council | regulation | annex | entity\",153],[3,\"additive | feed | premixture | substance | content\",142],[4,\"mm | quota | tariff | rn | weight\",122],[5,\"shall | member | union | state | european\",120],[6,\"producer | commission | price | import | union\",108],[7,\"fishing | vessel | catch | fishery | regulation\",98],[8,\"amendment | regulation | european | specification | journal\",91],[9,\"aircraft | point | flight | shall | air\",89],[10,\"regulation | european | ec | eu | language\",84],[11,\"gminy | od | gemeinde | na | przez\",75],[12,\"name | register | european | enter | regulation\",72],[13,\"de | la | el | en | los\",67],[14,\"stock | quota | fishing | vessel | prohibit\",67],[15,\"institution | shall | article | authority | paragraph\",66],[16,\"animal | disease | establishment | keep | health\",61],[17,\"food | novel | regulation | infant | use\",60],[18,\"regulation | eu | wine | year | member\",60],[19,\"crr | institution | exposure | report | article\",58]],\"hovertemplate\":\"<b>Topic %{customdata[0]}</b><br>Words: %{customdata[1]}<br>Size: %{customdata[2]}\",\"legendgroup\":\"\",\"marker\":{\"color\":\"#B0BEC5\",\"size\":[154,153,142,122,120,108,98,91,89,84,75,72,67,67,66,61,60,60,58],\"sizemode\":\"area\",\"sizeref\":0.09625,\"symbol\":\"circle\",\"line\":{\"color\":\"DarkSlateGrey\",\"width\":2}},\"mode\":\"markers\",\"name\":\"\",\"orientation\":\"v\",\"showlegend\":false,\"x\":[14.070663452148438,11.345439910888672,13.271696090698242,14.919440269470215,11.112339973449707,10.581846237182617,14.580198287963867,9.600826263427734,10.773198127746582,14.522087097167969,14.338987350463867,9.600617408752441,14.680363655090332,14.354259490966797,10.515876770019531,20.607126235961914,13.640667915344238,14.833484649658203,11.056795120239258],\"xaxis\":\"x\",\"y\":[10.990216255187988,9.139191627502441,11.33402156829834,9.203150749206543,9.314169883728027,10.518720626831055,10.469613075256348,21.51943588256836,9.928518295288086,-3.5556564331054688,8.923595428466797,21.519086837768555,9.28922176361084,-3.723543405532837,10.070087432861328,1.7635046243667603,11.081802368164062,10.580170631408691,10.34115219116211],\"yaxis\":\"y\",\"type\":\"scatter\"}],                        {\"template\":{\"data\":{\"barpolar\":[{\"marker\":{\"line\":{\"color\":\"white\",\"width\":0.5},\"pattern\":{\"fillmode\":\"overlay\",\"size\":10,\"solidity\":0.2}},\"type\":\"barpolar\"}],\"bar\":[{\"error_x\":{\"color\":\"rgb(36,36,36)\"},\"error_y\":{\"color\":\"rgb(36,36,36)\"},\"marker\":{\"line\":{\"color\":\"white\",\"width\":0.5},\"pattern\":{\"fillmode\":\"overlay\",\"size\":10,\"solidity\":0.2}},\"type\":\"bar\"}],\"carpet\":[{\"aaxis\":{\"endlinecolor\":\"rgb(36,36,36)\",\"gridcolor\":\"white\",\"linecolor\":\"white\",\"minorgridcolor\":\"white\",\"startlinecolor\":\"rgb(36,36,36)\"},\"baxis\":{\"endlinecolor\":\"rgb(36,36,36)\",\"gridcolor\":\"white\",\"linecolor\":\"white\",\"minorgridcolor\":\"white\",\"startlinecolor\":\"rgb(36,36,36)\"},\"type\":\"carpet\"}],\"choropleth\":[{\"colorbar\":{\"outlinewidth\":1,\"tickcolor\":\"rgb(36,36,36)\",\"ticks\":\"outside\"},\"type\":\"choropleth\"}],\"contourcarpet\":[{\"colorbar\":{\"outlinewidth\":1,\"tickcolor\":\"rgb(36,36,36)\",\"ticks\":\"outside\"},\"type\":\"contourcarpet\"}],\"contour\":[{\"colorbar\":{\"outlinewidth\":1,\"tickcolor\":\"rgb(36,36,36)\",\"ticks\":\"outside\"},\"colorscale\":[[0.0,\"#440154\"],[0.1111111111111111,\"#482878\"],[0.2222222222222222,\"#3e4989\"],[0.3333333333333333,\"#31688e\"],[0.4444444444444444,\"#26828e\"],[0.5555555555555556,\"#1f9e89\"],[0.6666666666666666,\"#35b779\"],[0.7777777777777778,\"#6ece58\"],[0.8888888888888888,\"#b5de2b\"],[1.0,\"#fde725\"]],\"type\":\"contour\"}],\"heatmapgl\":[{\"colorbar\":{\"outlinewidth\":1,\"tickcolor\":\"rgb(36,36,36)\",\"ticks\":\"outside\"},\"colorscale\":[[0.0,\"#440154\"],[0.1111111111111111,\"#482878\"],[0.2222222222222222,\"#3e4989\"],[0.3333333333333333,\"#31688e\"],[0.4444444444444444,\"#26828e\"],[0.5555555555555556,\"#1f9e89\"],[0.6666666666666666,\"#35b779\"],[0.7777777777777778,\"#6ece58\"],[0.8888888888888888,\"#b5de2b\"],[1.0,\"#fde725\"]],\"type\":\"heatmapgl\"}],\"heatmap\":[{\"colorbar\":{\"outlinewidth\":1,\"tickcolor\":\"rgb(36,36,36)\",\"ticks\":\"outside\"},\"colorscale\":[[0.0,\"#440154\"],[0.1111111111111111,\"#482878\"],[0.2222222222222222,\"#3e4989\"],[0.3333333333333333,\"#31688e\"],[0.4444444444444444,\"#26828e\"],[0.5555555555555556,\"#1f9e89\"],[0.6666666666666666,\"#35b779\"],[0.7777777777777778,\"#6ece58\"],[0.8888888888888888,\"#b5de2b\"],[1.0,\"#fde725\"]],\"type\":\"heatmap\"}],\"histogram2dcontour\":[{\"colorbar\":{\"outlinewidth\":1,\"tickcolor\":\"rgb(36,36,36)\",\"ticks\":\"outside\"},\"colorscale\":[[0.0,\"#440154\"],[0.1111111111111111,\"#482878\"],[0.2222222222222222,\"#3e4989\"],[0.3333333333333333,\"#31688e\"],[0.4444444444444444,\"#26828e\"],[0.5555555555555556,\"#1f9e89\"],[0.6666666666666666,\"#35b779\"],[0.7777777777777778,\"#6ece58\"],[0.8888888888888888,\"#b5de2b\"],[1.0,\"#fde725\"]],\"type\":\"histogram2dcontour\"}],\"histogram2d\":[{\"colorbar\":{\"outlinewidth\":1,\"tickcolor\":\"rgb(36,36,36)\",\"ticks\":\"outside\"},\"colorscale\":[[0.0,\"#440154\"],[0.1111111111111111,\"#482878\"],[0.2222222222222222,\"#3e4989\"],[0.3333333333333333,\"#31688e\"],[0.4444444444444444,\"#26828e\"],[0.5555555555555556,\"#1f9e89\"],[0.6666666666666666,\"#35b779\"],[0.7777777777777778,\"#6ece58\"],[0.8888888888888888,\"#b5de2b\"],[1.0,\"#fde725\"]],\"type\":\"histogram2d\"}],\"histogram\":[{\"marker\":{\"line\":{\"color\":\"white\",\"width\":0.6}},\"type\":\"histogram\"}],\"mesh3d\":[{\"colorbar\":{\"outlinewidth\":1,\"tickcolor\":\"rgb(36,36,36)\",\"ticks\":\"outside\"},\"type\":\"mesh3d\"}],\"parcoords\":[{\"line\":{\"colorbar\":{\"outlinewidth\":1,\"tickcolor\":\"rgb(36,36,36)\",\"ticks\":\"outside\"}},\"type\":\"parcoords\"}],\"pie\":[{\"automargin\":true,\"type\":\"pie\"}],\"scatter3d\":[{\"line\":{\"colorbar\":{\"outlinewidth\":1,\"tickcolor\":\"rgb(36,36,36)\",\"ticks\":\"outside\"}},\"marker\":{\"colorbar\":{\"outlinewidth\":1,\"tickcolor\":\"rgb(36,36,36)\",\"ticks\":\"outside\"}},\"type\":\"scatter3d\"}],\"scattercarpet\":[{\"marker\":{\"colorbar\":{\"outlinewidth\":1,\"tickcolor\":\"rgb(36,36,36)\",\"ticks\":\"outside\"}},\"type\":\"scattercarpet\"}],\"scattergeo\":[{\"marker\":{\"colorbar\":{\"outlinewidth\":1,\"tickcolor\":\"rgb(36,36,36)\",\"ticks\":\"outside\"}},\"type\":\"scattergeo\"}],\"scattergl\":[{\"marker\":{\"colorbar\":{\"outlinewidth\":1,\"tickcolor\":\"rgb(36,36,36)\",\"ticks\":\"outside\"}},\"type\":\"scattergl\"}],\"scattermapbox\":[{\"marker\":{\"colorbar\":{\"outlinewidth\":1,\"tickcolor\":\"rgb(36,36,36)\",\"ticks\":\"outside\"}},\"type\":\"scattermapbox\"}],\"scatterpolargl\":[{\"marker\":{\"colorbar\":{\"outlinewidth\":1,\"tickcolor\":\"rgb(36,36,36)\",\"ticks\":\"outside\"}},\"type\":\"scatterpolargl\"}],\"scatterpolar\":[{\"marker\":{\"colorbar\":{\"outlinewidth\":1,\"tickcolor\":\"rgb(36,36,36)\",\"ticks\":\"outside\"}},\"type\":\"scatterpolar\"}],\"scatter\":[{\"marker\":{\"colorbar\":{\"outlinewidth\":1,\"tickcolor\":\"rgb(36,36,36)\",\"ticks\":\"outside\"}},\"type\":\"scatter\"}],\"scatterternary\":[{\"marker\":{\"colorbar\":{\"outlinewidth\":1,\"tickcolor\":\"rgb(36,36,36)\",\"ticks\":\"outside\"}},\"type\":\"scatterternary\"}],\"surface\":[{\"colorbar\":{\"outlinewidth\":1,\"tickcolor\":\"rgb(36,36,36)\",\"ticks\":\"outside\"},\"colorscale\":[[0.0,\"#440154\"],[0.1111111111111111,\"#482878\"],[0.2222222222222222,\"#3e4989\"],[0.3333333333333333,\"#31688e\"],[0.4444444444444444,\"#26828e\"],[0.5555555555555556,\"#1f9e89\"],[0.6666666666666666,\"#35b779\"],[0.7777777777777778,\"#6ece58\"],[0.8888888888888888,\"#b5de2b\"],[1.0,\"#fde725\"]],\"type\":\"surface\"}],\"table\":[{\"cells\":{\"fill\":{\"color\":\"rgb(237,237,237)\"},\"line\":{\"color\":\"white\"}},\"header\":{\"fill\":{\"color\":\"rgb(217,217,217)\"},\"line\":{\"color\":\"white\"}},\"type\":\"table\"}]},\"layout\":{\"annotationdefaults\":{\"arrowhead\":0,\"arrowwidth\":1},\"autotypenumbers\":\"strict\",\"coloraxis\":{\"colorbar\":{\"outlinewidth\":1,\"tickcolor\":\"rgb(36,36,36)\",\"ticks\":\"outside\"}},\"colorscale\":{\"diverging\":[[0.0,\"rgb(103,0,31)\"],[0.1,\"rgb(178,24,43)\"],[0.2,\"rgb(214,96,77)\"],[0.3,\"rgb(244,165,130)\"],[0.4,\"rgb(253,219,199)\"],[0.5,\"rgb(247,247,247)\"],[0.6,\"rgb(209,229,240)\"],[0.7,\"rgb(146,197,222)\"],[0.8,\"rgb(67,147,195)\"],[0.9,\"rgb(33,102,172)\"],[1.0,\"rgb(5,48,97)\"]],\"sequential\":[[0.0,\"#440154\"],[0.1111111111111111,\"#482878\"],[0.2222222222222222,\"#3e4989\"],[0.3333333333333333,\"#31688e\"],[0.4444444444444444,\"#26828e\"],[0.5555555555555556,\"#1f9e89\"],[0.6666666666666666,\"#35b779\"],[0.7777777777777778,\"#6ece58\"],[0.8888888888888888,\"#b5de2b\"],[1.0,\"#fde725\"]],\"sequentialminus\":[[0.0,\"#440154\"],[0.1111111111111111,\"#482878\"],[0.2222222222222222,\"#3e4989\"],[0.3333333333333333,\"#31688e\"],[0.4444444444444444,\"#26828e\"],[0.5555555555555556,\"#1f9e89\"],[0.6666666666666666,\"#35b779\"],[0.7777777777777778,\"#6ece58\"],[0.8888888888888888,\"#b5de2b\"],[1.0,\"#fde725\"]]},\"colorway\":[\"#1F77B4\",\"#FF7F0E\",\"#2CA02C\",\"#D62728\",\"#9467BD\",\"#8C564B\",\"#E377C2\",\"#7F7F7F\",\"#BCBD22\",\"#17BECF\"],\"font\":{\"color\":\"rgb(36,36,36)\"},\"geo\":{\"bgcolor\":\"white\",\"lakecolor\":\"white\",\"landcolor\":\"white\",\"showlakes\":true,\"showland\":true,\"subunitcolor\":\"white\"},\"hoverlabel\":{\"align\":\"left\"},\"hovermode\":\"closest\",\"mapbox\":{\"style\":\"light\"},\"paper_bgcolor\":\"white\",\"plot_bgcolor\":\"white\",\"polar\":{\"angularaxis\":{\"gridcolor\":\"rgb(232,232,232)\",\"linecolor\":\"rgb(36,36,36)\",\"showgrid\":false,\"showline\":true,\"ticks\":\"outside\"},\"bgcolor\":\"white\",\"radialaxis\":{\"gridcolor\":\"rgb(232,232,232)\",\"linecolor\":\"rgb(36,36,36)\",\"showgrid\":false,\"showline\":true,\"ticks\":\"outside\"}},\"scene\":{\"xaxis\":{\"backgroundcolor\":\"white\",\"gridcolor\":\"rgb(232,232,232)\",\"gridwidth\":2,\"linecolor\":\"rgb(36,36,36)\",\"showbackground\":true,\"showgrid\":false,\"showline\":true,\"ticks\":\"outside\",\"zeroline\":false,\"zerolinecolor\":\"rgb(36,36,36)\"},\"yaxis\":{\"backgroundcolor\":\"white\",\"gridcolor\":\"rgb(232,232,232)\",\"gridwidth\":2,\"linecolor\":\"rgb(36,36,36)\",\"showbackground\":true,\"showgrid\":false,\"showline\":true,\"ticks\":\"outside\",\"zeroline\":false,\"zerolinecolor\":\"rgb(36,36,36)\"},\"zaxis\":{\"backgroundcolor\":\"white\",\"gridcolor\":\"rgb(232,232,232)\",\"gridwidth\":2,\"linecolor\":\"rgb(36,36,36)\",\"showbackground\":true,\"showgrid\":false,\"showline\":true,\"ticks\":\"outside\",\"zeroline\":false,\"zerolinecolor\":\"rgb(36,36,36)\"}},\"shapedefaults\":{\"fillcolor\":\"black\",\"line\":{\"width\":0},\"opacity\":0.3},\"ternary\":{\"aaxis\":{\"gridcolor\":\"rgb(232,232,232)\",\"linecolor\":\"rgb(36,36,36)\",\"showgrid\":false,\"showline\":true,\"ticks\":\"outside\"},\"baxis\":{\"gridcolor\":\"rgb(232,232,232)\",\"linecolor\":\"rgb(36,36,36)\",\"showgrid\":false,\"showline\":true,\"ticks\":\"outside\"},\"bgcolor\":\"white\",\"caxis\":{\"gridcolor\":\"rgb(232,232,232)\",\"linecolor\":\"rgb(36,36,36)\",\"showgrid\":false,\"showline\":true,\"ticks\":\"outside\"}},\"title\":{\"x\":0.05},\"xaxis\":{\"automargin\":true,\"gridcolor\":\"rgb(232,232,232)\",\"linecolor\":\"rgb(36,36,36)\",\"showgrid\":false,\"showline\":true,\"ticks\":\"outside\",\"title\":{\"standoff\":15},\"zeroline\":false,\"zerolinecolor\":\"rgb(36,36,36)\"},\"yaxis\":{\"automargin\":true,\"gridcolor\":\"rgb(232,232,232)\",\"linecolor\":\"rgb(36,36,36)\",\"showgrid\":false,\"showline\":true,\"ticks\":\"outside\",\"title\":{\"standoff\":15},\"zeroline\":false,\"zerolinecolor\":\"rgb(36,36,36)\"}}},\"xaxis\":{\"anchor\":\"y\",\"domain\":[0.0,1.0],\"title\":{\"text\":\"\"},\"visible\":false,\"range\":[8.160524797439574,23.6981951713562]},\"yaxis\":{\"anchor\":\"x\",\"domain\":[0.0,1.0],\"title\":{\"text\":\"\"},\"visible\":false,\"range\":[-4.282074916362762,24.747351264953615]},\"legend\":{\"tracegroupgap\":0,\"itemsizing\":\"constant\"},\"margin\":{\"t\":60},\"title\":{\"font\":{\"size\":22,\"color\":\"Black\"},\"text\":\"<b>Intertopic Distance Map\",\"y\":0.95,\"x\":0.5,\"xanchor\":\"center\",\"yanchor\":\"top\"},\"hoverlabel\":{\"font\":{\"size\":16,\"family\":\"Rockwell\"},\"bgcolor\":\"white\"},\"width\":650,\"height\":650,\"sliders\":[{\"active\":0,\"pad\":{\"t\":50},\"steps\":[{\"args\":[{\"marker.color\":[[\"red\",\"#B0BEC5\",\"#B0BEC5\",\"#B0BEC5\",\"#B0BEC5\",\"#B0BEC5\",\"#B0BEC5\",\"#B0BEC5\",\"#B0BEC5\",\"#B0BEC5\",\"#B0BEC5\",\"#B0BEC5\",\"#B0BEC5\",\"#B0BEC5\",\"#B0BEC5\",\"#B0BEC5\",\"#B0BEC5\",\"#B0BEC5\",\"#B0BEC5\"]]}],\"label\":\"Topic 1\",\"method\":\"update\"},{\"args\":[{\"marker.color\":[[\"#B0BEC5\",\"red\",\"#B0BEC5\",\"#B0BEC5\",\"#B0BEC5\",\"#B0BEC5\",\"#B0BEC5\",\"#B0BEC5\",\"#B0BEC5\",\"#B0BEC5\",\"#B0BEC5\",\"#B0BEC5\",\"#B0BEC5\",\"#B0BEC5\",\"#B0BEC5\",\"#B0BEC5\",\"#B0BEC5\",\"#B0BEC5\",\"#B0BEC5\"]]}],\"label\":\"Topic 2\",\"method\":\"update\"},{\"args\":[{\"marker.color\":[[\"#B0BEC5\",\"#B0BEC5\",\"red\",\"#B0BEC5\",\"#B0BEC5\",\"#B0BEC5\",\"#B0BEC5\",\"#B0BEC5\",\"#B0BEC5\",\"#B0BEC5\",\"#B0BEC5\",\"#B0BEC5\",\"#B0BEC5\",\"#B0BEC5\",\"#B0BEC5\",\"#B0BEC5\",\"#B0BEC5\",\"#B0BEC5\",\"#B0BEC5\"]]}],\"label\":\"Topic 3\",\"method\":\"update\"},{\"args\":[{\"marker.color\":[[\"#B0BEC5\",\"#B0BEC5\",\"#B0BEC5\",\"red\",\"#B0BEC5\",\"#B0BEC5\",\"#B0BEC5\",\"#B0BEC5\",\"#B0BEC5\",\"#B0BEC5\",\"#B0BEC5\",\"#B0BEC5\",\"#B0BEC5\",\"#B0BEC5\",\"#B0BEC5\",\"#B0BEC5\",\"#B0BEC5\",\"#B0BEC5\",\"#B0BEC5\"]]}],\"label\":\"Topic 4\",\"method\":\"update\"},{\"args\":[{\"marker.color\":[[\"#B0BEC5\",\"#B0BEC5\",\"#B0BEC5\",\"#B0BEC5\",\"red\",\"#B0BEC5\",\"#B0BEC5\",\"#B0BEC5\",\"#B0BEC5\",\"#B0BEC5\",\"#B0BEC5\",\"#B0BEC5\",\"#B0BEC5\",\"#B0BEC5\",\"#B0BEC5\",\"#B0BEC5\",\"#B0BEC5\",\"#B0BEC5\",\"#B0BEC5\"]]}],\"label\":\"Topic 5\",\"method\":\"update\"},{\"args\":[{\"marker.color\":[[\"#B0BEC5\",\"#B0BEC5\",\"#B0BEC5\",\"#B0BEC5\",\"#B0BEC5\",\"red\",\"#B0BEC5\",\"#B0BEC5\",\"#B0BEC5\",\"#B0BEC5\",\"#B0BEC5\",\"#B0BEC5\",\"#B0BEC5\",\"#B0BEC5\",\"#B0BEC5\",\"#B0BEC5\",\"#B0BEC5\",\"#B0BEC5\",\"#B0BEC5\"]]}],\"label\":\"Topic 6\",\"method\":\"update\"},{\"args\":[{\"marker.color\":[[\"#B0BEC5\",\"#B0BEC5\",\"#B0BEC5\",\"#B0BEC5\",\"#B0BEC5\",\"#B0BEC5\",\"red\",\"#B0BEC5\",\"#B0BEC5\",\"#B0BEC5\",\"#B0BEC5\",\"#B0BEC5\",\"#B0BEC5\",\"#B0BEC5\",\"#B0BEC5\",\"#B0BEC5\",\"#B0BEC5\",\"#B0BEC5\",\"#B0BEC5\"]]}],\"label\":\"Topic 7\",\"method\":\"update\"},{\"args\":[{\"marker.color\":[[\"#B0BEC5\",\"#B0BEC5\",\"#B0BEC5\",\"#B0BEC5\",\"#B0BEC5\",\"#B0BEC5\",\"#B0BEC5\",\"red\",\"#B0BEC5\",\"#B0BEC5\",\"#B0BEC5\",\"#B0BEC5\",\"#B0BEC5\",\"#B0BEC5\",\"#B0BEC5\",\"#B0BEC5\",\"#B0BEC5\",\"#B0BEC5\",\"#B0BEC5\"]]}],\"label\":\"Topic 8\",\"method\":\"update\"},{\"args\":[{\"marker.color\":[[\"#B0BEC5\",\"#B0BEC5\",\"#B0BEC5\",\"#B0BEC5\",\"#B0BEC5\",\"#B0BEC5\",\"#B0BEC5\",\"#B0BEC5\",\"red\",\"#B0BEC5\",\"#B0BEC5\",\"#B0BEC5\",\"#B0BEC5\",\"#B0BEC5\",\"#B0BEC5\",\"#B0BEC5\",\"#B0BEC5\",\"#B0BEC5\",\"#B0BEC5\"]]}],\"label\":\"Topic 9\",\"method\":\"update\"},{\"args\":[{\"marker.color\":[[\"#B0BEC5\",\"#B0BEC5\",\"#B0BEC5\",\"#B0BEC5\",\"#B0BEC5\",\"#B0BEC5\",\"#B0BEC5\",\"#B0BEC5\",\"#B0BEC5\",\"red\",\"#B0BEC5\",\"#B0BEC5\",\"#B0BEC5\",\"#B0BEC5\",\"#B0BEC5\",\"#B0BEC5\",\"#B0BEC5\",\"#B0BEC5\",\"#B0BEC5\"]]}],\"label\":\"Topic 10\",\"method\":\"update\"},{\"args\":[{\"marker.color\":[[\"#B0BEC5\",\"#B0BEC5\",\"#B0BEC5\",\"#B0BEC5\",\"#B0BEC5\",\"#B0BEC5\",\"#B0BEC5\",\"#B0BEC5\",\"#B0BEC5\",\"#B0BEC5\",\"red\",\"#B0BEC5\",\"#B0BEC5\",\"#B0BEC5\",\"#B0BEC5\",\"#B0BEC5\",\"#B0BEC5\",\"#B0BEC5\",\"#B0BEC5\"]]}],\"label\":\"Topic 11\",\"method\":\"update\"},{\"args\":[{\"marker.color\":[[\"#B0BEC5\",\"#B0BEC5\",\"#B0BEC5\",\"#B0BEC5\",\"#B0BEC5\",\"#B0BEC5\",\"#B0BEC5\",\"#B0BEC5\",\"#B0BEC5\",\"#B0BEC5\",\"#B0BEC5\",\"red\",\"#B0BEC5\",\"#B0BEC5\",\"#B0BEC5\",\"#B0BEC5\",\"#B0BEC5\",\"#B0BEC5\",\"#B0BEC5\"]]}],\"label\":\"Topic 12\",\"method\":\"update\"},{\"args\":[{\"marker.color\":[[\"#B0BEC5\",\"#B0BEC5\",\"#B0BEC5\",\"#B0BEC5\",\"#B0BEC5\",\"#B0BEC5\",\"#B0BEC5\",\"#B0BEC5\",\"#B0BEC5\",\"#B0BEC5\",\"#B0BEC5\",\"#B0BEC5\",\"red\",\"#B0BEC5\",\"#B0BEC5\",\"#B0BEC5\",\"#B0BEC5\",\"#B0BEC5\",\"#B0BEC5\"]]}],\"label\":\"Topic 13\",\"method\":\"update\"},{\"args\":[{\"marker.color\":[[\"#B0BEC5\",\"#B0BEC5\",\"#B0BEC5\",\"#B0BEC5\",\"#B0BEC5\",\"#B0BEC5\",\"#B0BEC5\",\"#B0BEC5\",\"#B0BEC5\",\"#B0BEC5\",\"#B0BEC5\",\"#B0BEC5\",\"#B0BEC5\",\"red\",\"#B0BEC5\",\"#B0BEC5\",\"#B0BEC5\",\"#B0BEC5\",\"#B0BEC5\"]]}],\"label\":\"Topic 14\",\"method\":\"update\"},{\"args\":[{\"marker.color\":[[\"#B0BEC5\",\"#B0BEC5\",\"#B0BEC5\",\"#B0BEC5\",\"#B0BEC5\",\"#B0BEC5\",\"#B0BEC5\",\"#B0BEC5\",\"#B0BEC5\",\"#B0BEC5\",\"#B0BEC5\",\"#B0BEC5\",\"#B0BEC5\",\"#B0BEC5\",\"red\",\"#B0BEC5\",\"#B0BEC5\",\"#B0BEC5\",\"#B0BEC5\"]]}],\"label\":\"Topic 15\",\"method\":\"update\"},{\"args\":[{\"marker.color\":[[\"#B0BEC5\",\"#B0BEC5\",\"#B0BEC5\",\"#B0BEC5\",\"#B0BEC5\",\"#B0BEC5\",\"#B0BEC5\",\"#B0BEC5\",\"#B0BEC5\",\"#B0BEC5\",\"#B0BEC5\",\"#B0BEC5\",\"#B0BEC5\",\"#B0BEC5\",\"#B0BEC5\",\"red\",\"#B0BEC5\",\"#B0BEC5\",\"#B0BEC5\"]]}],\"label\":\"Topic 16\",\"method\":\"update\"},{\"args\":[{\"marker.color\":[[\"#B0BEC5\",\"#B0BEC5\",\"#B0BEC5\",\"#B0BEC5\",\"#B0BEC5\",\"#B0BEC5\",\"#B0BEC5\",\"#B0BEC5\",\"#B0BEC5\",\"#B0BEC5\",\"#B0BEC5\",\"#B0BEC5\",\"#B0BEC5\",\"#B0BEC5\",\"#B0BEC5\",\"#B0BEC5\",\"red\",\"#B0BEC5\",\"#B0BEC5\"]]}],\"label\":\"Topic 17\",\"method\":\"update\"},{\"args\":[{\"marker.color\":[[\"#B0BEC5\",\"#B0BEC5\",\"#B0BEC5\",\"#B0BEC5\",\"#B0BEC5\",\"#B0BEC5\",\"#B0BEC5\",\"#B0BEC5\",\"#B0BEC5\",\"#B0BEC5\",\"#B0BEC5\",\"#B0BEC5\",\"#B0BEC5\",\"#B0BEC5\",\"#B0BEC5\",\"#B0BEC5\",\"#B0BEC5\",\"red\",\"#B0BEC5\"]]}],\"label\":\"Topic 18\",\"method\":\"update\"},{\"args\":[{\"marker.color\":[[\"#B0BEC5\",\"#B0BEC5\",\"#B0BEC5\",\"#B0BEC5\",\"#B0BEC5\",\"#B0BEC5\",\"#B0BEC5\",\"#B0BEC5\",\"#B0BEC5\",\"#B0BEC5\",\"#B0BEC5\",\"#B0BEC5\",\"#B0BEC5\",\"#B0BEC5\",\"#B0BEC5\",\"#B0BEC5\",\"#B0BEC5\",\"#B0BEC5\",\"red\"]]}],\"label\":\"Topic 19\",\"method\":\"update\"}]}],\"shapes\":[{\"line\":{\"color\":\"#CFD8DC\",\"width\":2},\"type\":\"line\",\"x0\":15.929359984397887,\"x1\":15.929359984397887,\"y0\":-4.282074916362762,\"y1\":24.747351264953615},{\"line\":{\"color\":\"#9E9E9E\",\"width\":2},\"type\":\"line\",\"x0\":8.160524797439574,\"x1\":23.6981951713562,\"y0\":10.232638174295426,\"y1\":10.232638174295426}],\"annotations\":[{\"showarrow\":false,\"text\":\"D1\",\"x\":8.160524797439574,\"y\":10.232638174295426,\"yshift\":10},{\"showarrow\":false,\"text\":\"D2\",\"x\":15.929359984397887,\"xshift\":10,\"y\":24.747351264953615}]},                        {\"responsive\": true}                    ).then(function(){\n",
              "                            \n",
              "var gd = document.getElementById('965e535a-0238-4769-b92a-a02b43a64024');\n",
              "var x = new MutationObserver(function (mutations, observer) {{\n",
              "        var display = window.getComputedStyle(gd).display;\n",
              "        if (!display || display === 'none') {{\n",
              "            console.log([gd, 'removed!']);\n",
              "            Plotly.purge(gd);\n",
              "            observer.disconnect();\n",
              "        }}\n",
              "}});\n",
              "\n",
              "// Listen for the removal of the full notebook cells\n",
              "var notebookContainer = gd.closest('#notebook-container');\n",
              "if (notebookContainer) {{\n",
              "    x.observe(notebookContainer, {childList: true});\n",
              "}}\n",
              "\n",
              "// Listen for the clearing of the current output cell\n",
              "var outputEl = gd.closest('.output');\n",
              "if (outputEl) {{\n",
              "    x.observe(outputEl, {childList: true});\n",
              "}}\n",
              "\n",
              "                        })                };                            </script>        </div>\n",
              "</body>\n",
              "</html>"
            ]
          },
          "metadata": {}
        }
      ]
    },
    {
      "cell_type": "code",
      "source": [
        "topic_model.visualize_barchart()"
      ],
      "metadata": {
        "colab": {
          "base_uri": "https://localhost:8080/",
          "height": 517
        },
        "id": "yI2EFypTv9DK",
        "outputId": "b300803c-b299-41c5-9308-8586b2f6ddbb"
      },
      "id": "yI2EFypTv9DK",
      "execution_count": 129,
      "outputs": [
        {
          "output_type": "display_data",
          "data": {
            "text/html": [
              "<html>\n",
              "<head><meta charset=\"utf-8\" /></head>\n",
              "<body>\n",
              "    <div>            <script src=\"https://cdnjs.cloudflare.com/ajax/libs/mathjax/2.7.5/MathJax.js?config=TeX-AMS-MML_SVG\"></script><script type=\"text/javascript\">if (window.MathJax) {MathJax.Hub.Config({SVG: {font: \"STIX-Web\"}});}</script>                <script type=\"text/javascript\">window.PlotlyConfig = {MathJaxConfig: 'local'};</script>\n",
              "        <script src=\"https://cdn.plot.ly/plotly-2.8.3.min.js\"></script>                <div id=\"6a4682bb-bf09-45e2-a2bd-e6540d67b499\" class=\"plotly-graph-div\" style=\"height:500px; width:1000px;\"></div>            <script type=\"text/javascript\">                                    window.PLOTLYENV=window.PLOTLYENV || {};                                    if (document.getElementById(\"6a4682bb-bf09-45e2-a2bd-e6540d67b499\")) {                    Plotly.newPlot(                        \"6a4682bb-bf09-45e2-a2bd-e6540d67b499\",                        [{\"marker\":{\"color\":\"#D55E00\"},\"orientation\":\"h\",\"x\":[0.02920918977084985,0.035525186979637316,0.04041413236340306,0.042771508395537956,0.04736639494418902],\"y\":[\"consignment  \",\"product  \",\"ec  \",\"regulation  \",\"control  \"],\"type\":\"bar\",\"xaxis\":\"x\",\"yaxis\":\"y\"},{\"marker\":{\"color\":\"#0072B2\"},\"orientation\":\"h\",\"x\":[0.04042109784139828,0.04667356967026017,0.04753046869951892,0.05151063387995729,0.05718897090976653],\"y\":[\"submit  \",\"ec  \",\"mrl  \",\"regulation  \",\"substance  \"],\"type\":\"bar\",\"xaxis\":\"x2\",\"yaxis\":\"y2\"},{\"marker\":{\"color\":\"#CC79A7\"},\"orientation\":\"h\",\"x\":[0.035208853188721946,0.03764000179933241,0.04193961989523737,0.04695941176944249,0.04888887513303204],\"y\":[\"entity  \",\"annex  \",\"regulation  \",\"council  \",\"person  \"],\"type\":\"bar\",\"xaxis\":\"x3\",\"yaxis\":\"y3\"},{\"marker\":{\"color\":\"#E69F00\"},\"orientation\":\"h\",\"x\":[0.05075694812955576,0.05500578784737946,0.09930834958723204,0.10819614829422207,0.18845513199915173],\"y\":[\"content  \",\"substance  \",\"premixture  \",\"feed  \",\"additive  \"],\"type\":\"bar\",\"xaxis\":\"x4\",\"yaxis\":\"y4\"},{\"marker\":{\"color\":\"#56B4E9\"},\"orientation\":\"h\",\"x\":[0.04254728527959413,0.0459954386653756,0.05227113090297397,0.06408906097008922,0.11424754249870295],\"y\":[\"weight  \",\"rn  \",\"tariff  \",\"quota  \",\"mm  \"],\"type\":\"bar\",\"xaxis\":\"x5\",\"yaxis\":\"y5\"},{\"marker\":{\"color\":\"#009E73\"},\"orientation\":\"h\",\"x\":[0.024673875100477957,0.02592638531223594,0.026441327162658772,0.030134701500670363,0.03233934914375188],\"y\":[\"european  \",\"state  \",\"union  \",\"member  \",\"shall  \"],\"type\":\"bar\",\"xaxis\":\"x6\",\"yaxis\":\"y6\"},{\"marker\":{\"color\":\"#F0E442\"},\"orientation\":\"h\",\"x\":[0.03527475095115937,0.03562183997825092,0.0379875983961771,0.03931125550671033,0.041384000216344495],\"y\":[\"union  \",\"import  \",\"price  \",\"commission  \",\"producer  \"],\"type\":\"bar\",\"xaxis\":\"x7\",\"yaxis\":\"y7\"},{\"marker\":{\"color\":\"#D55E00\"},\"orientation\":\"h\",\"x\":[0.03261141104123907,0.04846087680980285,0.051891800395693376,0.05798680858339952,0.08507016284093354],\"y\":[\"regulation  \",\"fishery  \",\"catch  \",\"vessel  \",\"fishing  \"],\"type\":\"bar\",\"xaxis\":\"x8\",\"yaxis\":\"y8\"}],                        {\"template\":{\"data\":{\"barpolar\":[{\"marker\":{\"line\":{\"color\":\"white\",\"width\":0.5},\"pattern\":{\"fillmode\":\"overlay\",\"size\":10,\"solidity\":0.2}},\"type\":\"barpolar\"}],\"bar\":[{\"error_x\":{\"color\":\"#2a3f5f\"},\"error_y\":{\"color\":\"#2a3f5f\"},\"marker\":{\"line\":{\"color\":\"white\",\"width\":0.5},\"pattern\":{\"fillmode\":\"overlay\",\"size\":10,\"solidity\":0.2}},\"type\":\"bar\"}],\"carpet\":[{\"aaxis\":{\"endlinecolor\":\"#2a3f5f\",\"gridcolor\":\"#C8D4E3\",\"linecolor\":\"#C8D4E3\",\"minorgridcolor\":\"#C8D4E3\",\"startlinecolor\":\"#2a3f5f\"},\"baxis\":{\"endlinecolor\":\"#2a3f5f\",\"gridcolor\":\"#C8D4E3\",\"linecolor\":\"#C8D4E3\",\"minorgridcolor\":\"#C8D4E3\",\"startlinecolor\":\"#2a3f5f\"},\"type\":\"carpet\"}],\"choropleth\":[{\"colorbar\":{\"outlinewidth\":0,\"ticks\":\"\"},\"type\":\"choropleth\"}],\"contourcarpet\":[{\"colorbar\":{\"outlinewidth\":0,\"ticks\":\"\"},\"type\":\"contourcarpet\"}],\"contour\":[{\"colorbar\":{\"outlinewidth\":0,\"ticks\":\"\"},\"colorscale\":[[0.0,\"#0d0887\"],[0.1111111111111111,\"#46039f\"],[0.2222222222222222,\"#7201a8\"],[0.3333333333333333,\"#9c179e\"],[0.4444444444444444,\"#bd3786\"],[0.5555555555555556,\"#d8576b\"],[0.6666666666666666,\"#ed7953\"],[0.7777777777777778,\"#fb9f3a\"],[0.8888888888888888,\"#fdca26\"],[1.0,\"#f0f921\"]],\"type\":\"contour\"}],\"heatmapgl\":[{\"colorbar\":{\"outlinewidth\":0,\"ticks\":\"\"},\"colorscale\":[[0.0,\"#0d0887\"],[0.1111111111111111,\"#46039f\"],[0.2222222222222222,\"#7201a8\"],[0.3333333333333333,\"#9c179e\"],[0.4444444444444444,\"#bd3786\"],[0.5555555555555556,\"#d8576b\"],[0.6666666666666666,\"#ed7953\"],[0.7777777777777778,\"#fb9f3a\"],[0.8888888888888888,\"#fdca26\"],[1.0,\"#f0f921\"]],\"type\":\"heatmapgl\"}],\"heatmap\":[{\"colorbar\":{\"outlinewidth\":0,\"ticks\":\"\"},\"colorscale\":[[0.0,\"#0d0887\"],[0.1111111111111111,\"#46039f\"],[0.2222222222222222,\"#7201a8\"],[0.3333333333333333,\"#9c179e\"],[0.4444444444444444,\"#bd3786\"],[0.5555555555555556,\"#d8576b\"],[0.6666666666666666,\"#ed7953\"],[0.7777777777777778,\"#fb9f3a\"],[0.8888888888888888,\"#fdca26\"],[1.0,\"#f0f921\"]],\"type\":\"heatmap\"}],\"histogram2dcontour\":[{\"colorbar\":{\"outlinewidth\":0,\"ticks\":\"\"},\"colorscale\":[[0.0,\"#0d0887\"],[0.1111111111111111,\"#46039f\"],[0.2222222222222222,\"#7201a8\"],[0.3333333333333333,\"#9c179e\"],[0.4444444444444444,\"#bd3786\"],[0.5555555555555556,\"#d8576b\"],[0.6666666666666666,\"#ed7953\"],[0.7777777777777778,\"#fb9f3a\"],[0.8888888888888888,\"#fdca26\"],[1.0,\"#f0f921\"]],\"type\":\"histogram2dcontour\"}],\"histogram2d\":[{\"colorbar\":{\"outlinewidth\":0,\"ticks\":\"\"},\"colorscale\":[[0.0,\"#0d0887\"],[0.1111111111111111,\"#46039f\"],[0.2222222222222222,\"#7201a8\"],[0.3333333333333333,\"#9c179e\"],[0.4444444444444444,\"#bd3786\"],[0.5555555555555556,\"#d8576b\"],[0.6666666666666666,\"#ed7953\"],[0.7777777777777778,\"#fb9f3a\"],[0.8888888888888888,\"#fdca26\"],[1.0,\"#f0f921\"]],\"type\":\"histogram2d\"}],\"histogram\":[{\"marker\":{\"pattern\":{\"fillmode\":\"overlay\",\"size\":10,\"solidity\":0.2}},\"type\":\"histogram\"}],\"mesh3d\":[{\"colorbar\":{\"outlinewidth\":0,\"ticks\":\"\"},\"type\":\"mesh3d\"}],\"parcoords\":[{\"line\":{\"colorbar\":{\"outlinewidth\":0,\"ticks\":\"\"}},\"type\":\"parcoords\"}],\"pie\":[{\"automargin\":true,\"type\":\"pie\"}],\"scatter3d\":[{\"line\":{\"colorbar\":{\"outlinewidth\":0,\"ticks\":\"\"}},\"marker\":{\"colorbar\":{\"outlinewidth\":0,\"ticks\":\"\"}},\"type\":\"scatter3d\"}],\"scattercarpet\":[{\"marker\":{\"colorbar\":{\"outlinewidth\":0,\"ticks\":\"\"}},\"type\":\"scattercarpet\"}],\"scattergeo\":[{\"marker\":{\"colorbar\":{\"outlinewidth\":0,\"ticks\":\"\"}},\"type\":\"scattergeo\"}],\"scattergl\":[{\"marker\":{\"colorbar\":{\"outlinewidth\":0,\"ticks\":\"\"}},\"type\":\"scattergl\"}],\"scattermapbox\":[{\"marker\":{\"colorbar\":{\"outlinewidth\":0,\"ticks\":\"\"}},\"type\":\"scattermapbox\"}],\"scatterpolargl\":[{\"marker\":{\"colorbar\":{\"outlinewidth\":0,\"ticks\":\"\"}},\"type\":\"scatterpolargl\"}],\"scatterpolar\":[{\"marker\":{\"colorbar\":{\"outlinewidth\":0,\"ticks\":\"\"}},\"type\":\"scatterpolar\"}],\"scatter\":[{\"marker\":{\"colorbar\":{\"outlinewidth\":0,\"ticks\":\"\"}},\"type\":\"scatter\"}],\"scatterternary\":[{\"marker\":{\"colorbar\":{\"outlinewidth\":0,\"ticks\":\"\"}},\"type\":\"scatterternary\"}],\"surface\":[{\"colorbar\":{\"outlinewidth\":0,\"ticks\":\"\"},\"colorscale\":[[0.0,\"#0d0887\"],[0.1111111111111111,\"#46039f\"],[0.2222222222222222,\"#7201a8\"],[0.3333333333333333,\"#9c179e\"],[0.4444444444444444,\"#bd3786\"],[0.5555555555555556,\"#d8576b\"],[0.6666666666666666,\"#ed7953\"],[0.7777777777777778,\"#fb9f3a\"],[0.8888888888888888,\"#fdca26\"],[1.0,\"#f0f921\"]],\"type\":\"surface\"}],\"table\":[{\"cells\":{\"fill\":{\"color\":\"#EBF0F8\"},\"line\":{\"color\":\"white\"}},\"header\":{\"fill\":{\"color\":\"#C8D4E3\"},\"line\":{\"color\":\"white\"}},\"type\":\"table\"}]},\"layout\":{\"annotationdefaults\":{\"arrowcolor\":\"#2a3f5f\",\"arrowhead\":0,\"arrowwidth\":1},\"autotypenumbers\":\"strict\",\"coloraxis\":{\"colorbar\":{\"outlinewidth\":0,\"ticks\":\"\"}},\"colorscale\":{\"diverging\":[[0,\"#8e0152\"],[0.1,\"#c51b7d\"],[0.2,\"#de77ae\"],[0.3,\"#f1b6da\"],[0.4,\"#fde0ef\"],[0.5,\"#f7f7f7\"],[0.6,\"#e6f5d0\"],[0.7,\"#b8e186\"],[0.8,\"#7fbc41\"],[0.9,\"#4d9221\"],[1,\"#276419\"]],\"sequential\":[[0.0,\"#0d0887\"],[0.1111111111111111,\"#46039f\"],[0.2222222222222222,\"#7201a8\"],[0.3333333333333333,\"#9c179e\"],[0.4444444444444444,\"#bd3786\"],[0.5555555555555556,\"#d8576b\"],[0.6666666666666666,\"#ed7953\"],[0.7777777777777778,\"#fb9f3a\"],[0.8888888888888888,\"#fdca26\"],[1.0,\"#f0f921\"]],\"sequentialminus\":[[0.0,\"#0d0887\"],[0.1111111111111111,\"#46039f\"],[0.2222222222222222,\"#7201a8\"],[0.3333333333333333,\"#9c179e\"],[0.4444444444444444,\"#bd3786\"],[0.5555555555555556,\"#d8576b\"],[0.6666666666666666,\"#ed7953\"],[0.7777777777777778,\"#fb9f3a\"],[0.8888888888888888,\"#fdca26\"],[1.0,\"#f0f921\"]]},\"colorway\":[\"#636efa\",\"#EF553B\",\"#00cc96\",\"#ab63fa\",\"#FFA15A\",\"#19d3f3\",\"#FF6692\",\"#B6E880\",\"#FF97FF\",\"#FECB52\"],\"font\":{\"color\":\"#2a3f5f\"},\"geo\":{\"bgcolor\":\"white\",\"lakecolor\":\"white\",\"landcolor\":\"white\",\"showlakes\":true,\"showland\":true,\"subunitcolor\":\"#C8D4E3\"},\"hoverlabel\":{\"align\":\"left\"},\"hovermode\":\"closest\",\"mapbox\":{\"style\":\"light\"},\"paper_bgcolor\":\"white\",\"plot_bgcolor\":\"white\",\"polar\":{\"angularaxis\":{\"gridcolor\":\"#EBF0F8\",\"linecolor\":\"#EBF0F8\",\"ticks\":\"\"},\"bgcolor\":\"white\",\"radialaxis\":{\"gridcolor\":\"#EBF0F8\",\"linecolor\":\"#EBF0F8\",\"ticks\":\"\"}},\"scene\":{\"xaxis\":{\"backgroundcolor\":\"white\",\"gridcolor\":\"#DFE8F3\",\"gridwidth\":2,\"linecolor\":\"#EBF0F8\",\"showbackground\":true,\"ticks\":\"\",\"zerolinecolor\":\"#EBF0F8\"},\"yaxis\":{\"backgroundcolor\":\"white\",\"gridcolor\":\"#DFE8F3\",\"gridwidth\":2,\"linecolor\":\"#EBF0F8\",\"showbackground\":true,\"ticks\":\"\",\"zerolinecolor\":\"#EBF0F8\"},\"zaxis\":{\"backgroundcolor\":\"white\",\"gridcolor\":\"#DFE8F3\",\"gridwidth\":2,\"linecolor\":\"#EBF0F8\",\"showbackground\":true,\"ticks\":\"\",\"zerolinecolor\":\"#EBF0F8\"}},\"shapedefaults\":{\"line\":{\"color\":\"#2a3f5f\"}},\"ternary\":{\"aaxis\":{\"gridcolor\":\"#DFE8F3\",\"linecolor\":\"#A2B1C6\",\"ticks\":\"\"},\"baxis\":{\"gridcolor\":\"#DFE8F3\",\"linecolor\":\"#A2B1C6\",\"ticks\":\"\"},\"bgcolor\":\"white\",\"caxis\":{\"gridcolor\":\"#DFE8F3\",\"linecolor\":\"#A2B1C6\",\"ticks\":\"\"}},\"title\":{\"x\":0.05},\"xaxis\":{\"automargin\":true,\"gridcolor\":\"#EBF0F8\",\"linecolor\":\"#EBF0F8\",\"ticks\":\"\",\"title\":{\"standoff\":15},\"zerolinecolor\":\"#EBF0F8\",\"zerolinewidth\":2},\"yaxis\":{\"automargin\":true,\"gridcolor\":\"#EBF0F8\",\"linecolor\":\"#EBF0F8\",\"ticks\":\"\",\"title\":{\"standoff\":15},\"zerolinecolor\":\"#EBF0F8\",\"zerolinewidth\":2}}},\"xaxis\":{\"anchor\":\"y\",\"domain\":[0.0,0.175],\"showgrid\":true},\"yaxis\":{\"anchor\":\"x\",\"domain\":[0.6000000000000001,1.0],\"showgrid\":true},\"xaxis2\":{\"anchor\":\"y2\",\"domain\":[0.275,0.45],\"showgrid\":true},\"yaxis2\":{\"anchor\":\"x2\",\"domain\":[0.6000000000000001,1.0],\"showgrid\":true},\"xaxis3\":{\"anchor\":\"y3\",\"domain\":[0.55,0.7250000000000001],\"showgrid\":true},\"yaxis3\":{\"anchor\":\"x3\",\"domain\":[0.6000000000000001,1.0],\"showgrid\":true},\"xaxis4\":{\"anchor\":\"y4\",\"domain\":[0.825,1.0],\"showgrid\":true},\"yaxis4\":{\"anchor\":\"x4\",\"domain\":[0.6000000000000001,1.0],\"showgrid\":true},\"xaxis5\":{\"anchor\":\"y5\",\"domain\":[0.0,0.175],\"showgrid\":true},\"yaxis5\":{\"anchor\":\"x5\",\"domain\":[0.0,0.4],\"showgrid\":true},\"xaxis6\":{\"anchor\":\"y6\",\"domain\":[0.275,0.45],\"showgrid\":true},\"yaxis6\":{\"anchor\":\"x6\",\"domain\":[0.0,0.4],\"showgrid\":true},\"xaxis7\":{\"anchor\":\"y7\",\"domain\":[0.55,0.7250000000000001],\"showgrid\":true},\"yaxis7\":{\"anchor\":\"x7\",\"domain\":[0.0,0.4],\"showgrid\":true},\"xaxis8\":{\"anchor\":\"y8\",\"domain\":[0.825,1.0],\"showgrid\":true},\"yaxis8\":{\"anchor\":\"x8\",\"domain\":[0.0,0.4],\"showgrid\":true},\"annotations\":[{\"font\":{\"size\":16},\"showarrow\":false,\"text\":\"Topic 0\",\"x\":0.0875,\"xanchor\":\"center\",\"xref\":\"paper\",\"y\":1.0,\"yanchor\":\"bottom\",\"yref\":\"paper\"},{\"font\":{\"size\":16},\"showarrow\":false,\"text\":\"Topic 1\",\"x\":0.36250000000000004,\"xanchor\":\"center\",\"xref\":\"paper\",\"y\":1.0,\"yanchor\":\"bottom\",\"yref\":\"paper\"},{\"font\":{\"size\":16},\"showarrow\":false,\"text\":\"Topic 2\",\"x\":0.6375000000000001,\"xanchor\":\"center\",\"xref\":\"paper\",\"y\":1.0,\"yanchor\":\"bottom\",\"yref\":\"paper\"},{\"font\":{\"size\":16},\"showarrow\":false,\"text\":\"Topic 3\",\"x\":0.9125,\"xanchor\":\"center\",\"xref\":\"paper\",\"y\":1.0,\"yanchor\":\"bottom\",\"yref\":\"paper\"},{\"font\":{\"size\":16},\"showarrow\":false,\"text\":\"Topic 4\",\"x\":0.0875,\"xanchor\":\"center\",\"xref\":\"paper\",\"y\":0.4,\"yanchor\":\"bottom\",\"yref\":\"paper\"},{\"font\":{\"size\":16},\"showarrow\":false,\"text\":\"Topic 5\",\"x\":0.36250000000000004,\"xanchor\":\"center\",\"xref\":\"paper\",\"y\":0.4,\"yanchor\":\"bottom\",\"yref\":\"paper\"},{\"font\":{\"size\":16},\"showarrow\":false,\"text\":\"Topic 6\",\"x\":0.6375000000000001,\"xanchor\":\"center\",\"xref\":\"paper\",\"y\":0.4,\"yanchor\":\"bottom\",\"yref\":\"paper\"},{\"font\":{\"size\":16},\"showarrow\":false,\"text\":\"Topic 7\",\"x\":0.9125,\"xanchor\":\"center\",\"xref\":\"paper\",\"y\":0.4,\"yanchor\":\"bottom\",\"yref\":\"paper\"}],\"title\":{\"font\":{\"size\":22,\"color\":\"Black\"},\"text\":\"<b>Topic Word Scores\",\"x\":0.5,\"xanchor\":\"center\",\"yanchor\":\"top\"},\"hoverlabel\":{\"font\":{\"size\":16,\"family\":\"Rockwell\"},\"bgcolor\":\"white\"},\"showlegend\":false,\"width\":1000,\"height\":500},                        {\"responsive\": true}                    ).then(function(){\n",
              "                            \n",
              "var gd = document.getElementById('6a4682bb-bf09-45e2-a2bd-e6540d67b499');\n",
              "var x = new MutationObserver(function (mutations, observer) {{\n",
              "        var display = window.getComputedStyle(gd).display;\n",
              "        if (!display || display === 'none') {{\n",
              "            console.log([gd, 'removed!']);\n",
              "            Plotly.purge(gd);\n",
              "            observer.disconnect();\n",
              "        }}\n",
              "}});\n",
              "\n",
              "// Listen for the removal of the full notebook cells\n",
              "var notebookContainer = gd.closest('#notebook-container');\n",
              "if (notebookContainer) {{\n",
              "    x.observe(notebookContainer, {childList: true});\n",
              "}}\n",
              "\n",
              "// Listen for the clearing of the current output cell\n",
              "var outputEl = gd.closest('.output');\n",
              "if (outputEl) {{\n",
              "    x.observe(outputEl, {childList: true});\n",
              "}}\n",
              "\n",
              "                        })                };                            </script>        </div>\n",
              "</body>\n",
              "</html>"
            ]
          },
          "metadata": {}
        }
      ]
    },
    {
      "cell_type": "code",
      "source": [
        "topic_model.visualize_hierarchy()"
      ],
      "metadata": {
        "colab": {
          "base_uri": "https://localhost:8080/",
          "height": 517
        },
        "id": "9RNYPHahxdxb",
        "outputId": "73f98a05-3d3a-4a31-ba69-1412df3c261d"
      },
      "id": "9RNYPHahxdxb",
      "execution_count": 88,
      "outputs": [
        {
          "output_type": "display_data",
          "data": {
            "text/html": [
              "<html>\n",
              "<head><meta charset=\"utf-8\" /></head>\n",
              "<body>\n",
              "    <div>            <script src=\"https://cdnjs.cloudflare.com/ajax/libs/mathjax/2.7.5/MathJax.js?config=TeX-AMS-MML_SVG\"></script><script type=\"text/javascript\">if (window.MathJax) {MathJax.Hub.Config({SVG: {font: \"STIX-Web\"}});}</script>                <script type=\"text/javascript\">window.PlotlyConfig = {MathJaxConfig: 'local'};</script>\n",
              "        <script src=\"https://cdn.plot.ly/plotly-2.8.3.min.js\"></script>                <div id=\"ad2a307b-9aeb-4402-a41f-f23b8cd42ef0\" class=\"plotly-graph-div\" style=\"height:500px; width:1000px;\"></div>            <script type=\"text/javascript\">                                    window.PLOTLYENV=window.PLOTLYENV || {};                                    if (document.getElementById(\"ad2a307b-9aeb-4402-a41f-f23b8cd42ef0\")) {                    Plotly.newPlot(                        \"ad2a307b-9aeb-4402-a41f-f23b8cd42ef0\",                        [{\"hoverinfo\":\"text\",\"marker\":{\"color\":\"rgb(61,153,112)\"},\"mode\":\"lines\",\"x\":[0.0,0.15995936024685592,0.15995936024685592,0.0],\"xaxis\":\"x\",\"y\":[-25.0,-25.0,-35.0,-35.0],\"yaxis\":\"y\",\"type\":\"scatter\"},{\"hoverinfo\":\"text\",\"marker\":{\"color\":\"rgb(61,153,112)\"},\"mode\":\"lines\",\"x\":[0.0,0.22011774353309274,0.22011774353309274,0.15995936024685592],\"xaxis\":\"x\",\"y\":[-15.0,-15.0,-30.0,-30.0],\"yaxis\":\"y\",\"type\":\"scatter\"},{\"hoverinfo\":\"text\",\"marker\":{\"color\":\"rgb(61,153,112)\"},\"mode\":\"lines\",\"x\":[0.0,0.36847925036740076,0.36847925036740076,0.22011774353309274],\"xaxis\":\"x\",\"y\":[-5.0,-5.0,-22.5,-22.5],\"yaxis\":\"y\",\"type\":\"scatter\"},{\"hoverinfo\":\"text\",\"marker\":{\"color\":\"rgb(61,153,112)\"},\"mode\":\"lines\",\"x\":[0.0,0.2988259680712195,0.2988259680712195,0.0],\"xaxis\":\"x\",\"y\":[-45.0,-45.0,-55.0,-55.0],\"yaxis\":\"y\",\"type\":\"scatter\"},{\"hoverinfo\":\"text\",\"marker\":{\"color\":\"rgb(61,153,112)\"},\"mode\":\"lines\",\"x\":[0.0,0.2166885908805499,0.2166885908805499,0.0],\"xaxis\":\"x\",\"y\":[-75.0,-75.0,-85.0,-85.0],\"yaxis\":\"y\",\"type\":\"scatter\"},{\"hoverinfo\":\"text\",\"marker\":{\"color\":\"rgb(61,153,112)\"},\"mode\":\"lines\",\"x\":[0.0,0.3380916126446819,0.3380916126446819,0.2166885908805499],\"xaxis\":\"x\",\"y\":[-65.0,-65.0,-80.0,-80.0],\"yaxis\":\"y\",\"type\":\"scatter\"},{\"hoverinfo\":\"text\",\"marker\":{\"color\":\"rgb(61,153,112)\"},\"mode\":\"lines\",\"x\":[0.2988259680712195,0.3983317682555356,0.3983317682555356,0.3380916126446819],\"xaxis\":\"x\",\"y\":[-50.0,-50.0,-72.5,-72.5],\"yaxis\":\"y\",\"type\":\"scatter\"},{\"hoverinfo\":\"text\",\"marker\":{\"color\":\"rgb(61,153,112)\"},\"mode\":\"lines\",\"x\":[0.36847925036740076,0.4838114385179853,0.4838114385179853,0.3983317682555356],\"xaxis\":\"x\",\"y\":[-13.75,-13.75,-61.25,-61.25],\"yaxis\":\"y\",\"type\":\"scatter\"},{\"hoverinfo\":\"text\",\"marker\":{\"color\":\"rgb(61,153,112)\"},\"mode\":\"lines\",\"x\":[0.0,0.20040253967185245,0.20040253967185245,0.0],\"xaxis\":\"x\",\"y\":[-95.0,-95.0,-105.0,-105.0],\"yaxis\":\"y\",\"type\":\"scatter\"},{\"hoverinfo\":\"text\",\"marker\":{\"color\":\"rgb(61,153,112)\"},\"mode\":\"lines\",\"x\":[0.0,0.405445475306172,0.405445475306172,0.0],\"xaxis\":\"x\",\"y\":[-115.0,-115.0,-125.0,-125.0],\"yaxis\":\"y\",\"type\":\"scatter\"},{\"hoverinfo\":\"text\",\"marker\":{\"color\":\"rgb(61,153,112)\"},\"mode\":\"lines\",\"x\":[0.20040253967185245,0.5817668013207872,0.5817668013207872,0.405445475306172],\"xaxis\":\"x\",\"y\":[-100.0,-100.0,-120.0,-120.0],\"yaxis\":\"y\",\"type\":\"scatter\"},{\"hoverinfo\":\"text\",\"marker\":{\"color\":\"rgb(61,153,112)\"},\"mode\":\"lines\",\"x\":[0.4838114385179853,0.7948678408341223,0.7948678408341223,0.5817668013207872],\"xaxis\":\"x\",\"y\":[-37.5,-37.5,-110.0,-110.0],\"yaxis\":\"y\",\"type\":\"scatter\"},{\"hoverinfo\":\"text\",\"marker\":{\"color\":\"rgb(255,65,54)\"},\"mode\":\"lines\",\"x\":[0.0,0.5999826712080406,0.5999826712080406,0.0],\"xaxis\":\"x\",\"y\":[-135.0,-135.0,-145.0,-145.0],\"yaxis\":\"y\",\"type\":\"scatter\"},{\"hoverinfo\":\"text\",\"marker\":{\"color\":\"rgb(35,205,205)\"},\"mode\":\"lines\",\"x\":[0.0,0.27788719411098883,0.27788719411098883,0.0],\"xaxis\":\"x\",\"y\":[-155.0,-155.0,-165.0,-165.0],\"yaxis\":\"y\",\"type\":\"scatter\"},{\"hoverinfo\":\"text\",\"marker\":{\"color\":\"rgb(35,205,205)\"},\"mode\":\"lines\",\"x\":[0.0,0.43804559307699326,0.43804559307699326,0.0],\"xaxis\":\"x\",\"y\":[-185.0,-185.0,-195.0,-195.0],\"yaxis\":\"y\",\"type\":\"scatter\"},{\"hoverinfo\":\"text\",\"marker\":{\"color\":\"rgb(35,205,205)\"},\"mode\":\"lines\",\"x\":[0.0,0.5876322958245072,0.5876322958245072,0.43804559307699326],\"xaxis\":\"x\",\"y\":[-175.0,-175.0,-190.0,-190.0],\"yaxis\":\"y\",\"type\":\"scatter\"},{\"hoverinfo\":\"text\",\"marker\":{\"color\":\"rgb(35,205,205)\"},\"mode\":\"lines\",\"x\":[0.27788719411098883,0.6764187057317105,0.6764187057317105,0.5876322958245072],\"xaxis\":\"x\",\"y\":[-160.0,-160.0,-182.5,-182.5],\"yaxis\":\"y\",\"type\":\"scatter\"},{\"hoverinfo\":\"text\",\"marker\":{\"color\":\"rgb(0,116,217)\"},\"mode\":\"lines\",\"x\":[0.5999826712080406,1.0690944496854118,1.0690944496854118,0.6764187057317105],\"xaxis\":\"x\",\"y\":[-140.0,-140.0,-171.25,-171.25],\"yaxis\":\"y\",\"type\":\"scatter\"},{\"hoverinfo\":\"text\",\"marker\":{\"color\":\"rgb(0,116,217)\"},\"mode\":\"lines\",\"x\":[0.7948678408341223,1.5025790560391405,1.5025790560391405,1.0690944496854118],\"xaxis\":\"x\",\"y\":[-73.75,-73.75,-155.625,-155.625],\"yaxis\":\"y\",\"type\":\"scatter\"}],                        {\"autosize\":false,\"height\":500,\"hovermode\":\"closest\",\"showlegend\":false,\"width\":1000,\"xaxis\":{\"mirror\":\"allticks\",\"rangemode\":\"tozero\",\"showgrid\":false,\"showline\":true,\"showticklabels\":true,\"ticks\":\"outside\",\"type\":\"linear\",\"zeroline\":false},\"yaxis\":{\"mirror\":\"allticks\",\"rangemode\":\"tozero\",\"showgrid\":false,\"showline\":true,\"showticklabels\":true,\"tickmode\":\"array\",\"ticks\":\"outside\",\"ticktext\":[\"8_amendment_regulation_euro...\",\"12_name_register_european\",\"0_control_regulation_ec\",\"10_regulation_european_ec\",\"1_substance_regulation_mrl\",\"17_food_novel_regulation\",\"2_person_council_regulation\",\"5_shall_member_union\",\"18_regulation_eu_wine\",\"15_institution_shall_article\",\"19_crr_institution_exposure\",\"4_mm_quota_tariff\",\"6_producer_commission_price\",\"11_gminy_od_gemeinde\",\"13_de_la_el\",\"7_fishing_vessel_catch\",\"14_stock_quota_fishing\",\"3_additive_feed_premixture\",\"9_aircraft_point_flight\",\"16_animal_disease_establish...\"],\"tickvals\":[-5.0,-15.0,-25.0,-35.0,-45.0,-55.0,-65.0,-75.0,-85.0,-95.0,-105.0,-115.0,-125.0,-135.0,-145.0,-155.0,-165.0,-175.0,-185.0,-195.0],\"type\":\"linear\",\"zeroline\":false,\"range\":[-200.0,0.0]},\"template\":{\"data\":{\"barpolar\":[{\"marker\":{\"line\":{\"color\":\"white\",\"width\":0.5},\"pattern\":{\"fillmode\":\"overlay\",\"size\":10,\"solidity\":0.2}},\"type\":\"barpolar\"}],\"bar\":[{\"error_x\":{\"color\":\"#2a3f5f\"},\"error_y\":{\"color\":\"#2a3f5f\"},\"marker\":{\"line\":{\"color\":\"white\",\"width\":0.5},\"pattern\":{\"fillmode\":\"overlay\",\"size\":10,\"solidity\":0.2}},\"type\":\"bar\"}],\"carpet\":[{\"aaxis\":{\"endlinecolor\":\"#2a3f5f\",\"gridcolor\":\"#C8D4E3\",\"linecolor\":\"#C8D4E3\",\"minorgridcolor\":\"#C8D4E3\",\"startlinecolor\":\"#2a3f5f\"},\"baxis\":{\"endlinecolor\":\"#2a3f5f\",\"gridcolor\":\"#C8D4E3\",\"linecolor\":\"#C8D4E3\",\"minorgridcolor\":\"#C8D4E3\",\"startlinecolor\":\"#2a3f5f\"},\"type\":\"carpet\"}],\"choropleth\":[{\"colorbar\":{\"outlinewidth\":0,\"ticks\":\"\"},\"type\":\"choropleth\"}],\"contourcarpet\":[{\"colorbar\":{\"outlinewidth\":0,\"ticks\":\"\"},\"type\":\"contourcarpet\"}],\"contour\":[{\"colorbar\":{\"outlinewidth\":0,\"ticks\":\"\"},\"colorscale\":[[0.0,\"#0d0887\"],[0.1111111111111111,\"#46039f\"],[0.2222222222222222,\"#7201a8\"],[0.3333333333333333,\"#9c179e\"],[0.4444444444444444,\"#bd3786\"],[0.5555555555555556,\"#d8576b\"],[0.6666666666666666,\"#ed7953\"],[0.7777777777777778,\"#fb9f3a\"],[0.8888888888888888,\"#fdca26\"],[1.0,\"#f0f921\"]],\"type\":\"contour\"}],\"heatmapgl\":[{\"colorbar\":{\"outlinewidth\":0,\"ticks\":\"\"},\"colorscale\":[[0.0,\"#0d0887\"],[0.1111111111111111,\"#46039f\"],[0.2222222222222222,\"#7201a8\"],[0.3333333333333333,\"#9c179e\"],[0.4444444444444444,\"#bd3786\"],[0.5555555555555556,\"#d8576b\"],[0.6666666666666666,\"#ed7953\"],[0.7777777777777778,\"#fb9f3a\"],[0.8888888888888888,\"#fdca26\"],[1.0,\"#f0f921\"]],\"type\":\"heatmapgl\"}],\"heatmap\":[{\"colorbar\":{\"outlinewidth\":0,\"ticks\":\"\"},\"colorscale\":[[0.0,\"#0d0887\"],[0.1111111111111111,\"#46039f\"],[0.2222222222222222,\"#7201a8\"],[0.3333333333333333,\"#9c179e\"],[0.4444444444444444,\"#bd3786\"],[0.5555555555555556,\"#d8576b\"],[0.6666666666666666,\"#ed7953\"],[0.7777777777777778,\"#fb9f3a\"],[0.8888888888888888,\"#fdca26\"],[1.0,\"#f0f921\"]],\"type\":\"heatmap\"}],\"histogram2dcontour\":[{\"colorbar\":{\"outlinewidth\":0,\"ticks\":\"\"},\"colorscale\":[[0.0,\"#0d0887\"],[0.1111111111111111,\"#46039f\"],[0.2222222222222222,\"#7201a8\"],[0.3333333333333333,\"#9c179e\"],[0.4444444444444444,\"#bd3786\"],[0.5555555555555556,\"#d8576b\"],[0.6666666666666666,\"#ed7953\"],[0.7777777777777778,\"#fb9f3a\"],[0.8888888888888888,\"#fdca26\"],[1.0,\"#f0f921\"]],\"type\":\"histogram2dcontour\"}],\"histogram2d\":[{\"colorbar\":{\"outlinewidth\":0,\"ticks\":\"\"},\"colorscale\":[[0.0,\"#0d0887\"],[0.1111111111111111,\"#46039f\"],[0.2222222222222222,\"#7201a8\"],[0.3333333333333333,\"#9c179e\"],[0.4444444444444444,\"#bd3786\"],[0.5555555555555556,\"#d8576b\"],[0.6666666666666666,\"#ed7953\"],[0.7777777777777778,\"#fb9f3a\"],[0.8888888888888888,\"#fdca26\"],[1.0,\"#f0f921\"]],\"type\":\"histogram2d\"}],\"histogram\":[{\"marker\":{\"pattern\":{\"fillmode\":\"overlay\",\"size\":10,\"solidity\":0.2}},\"type\":\"histogram\"}],\"mesh3d\":[{\"colorbar\":{\"outlinewidth\":0,\"ticks\":\"\"},\"type\":\"mesh3d\"}],\"parcoords\":[{\"line\":{\"colorbar\":{\"outlinewidth\":0,\"ticks\":\"\"}},\"type\":\"parcoords\"}],\"pie\":[{\"automargin\":true,\"type\":\"pie\"}],\"scatter3d\":[{\"line\":{\"colorbar\":{\"outlinewidth\":0,\"ticks\":\"\"}},\"marker\":{\"colorbar\":{\"outlinewidth\":0,\"ticks\":\"\"}},\"type\":\"scatter3d\"}],\"scattercarpet\":[{\"marker\":{\"colorbar\":{\"outlinewidth\":0,\"ticks\":\"\"}},\"type\":\"scattercarpet\"}],\"scattergeo\":[{\"marker\":{\"colorbar\":{\"outlinewidth\":0,\"ticks\":\"\"}},\"type\":\"scattergeo\"}],\"scattergl\":[{\"marker\":{\"colorbar\":{\"outlinewidth\":0,\"ticks\":\"\"}},\"type\":\"scattergl\"}],\"scattermapbox\":[{\"marker\":{\"colorbar\":{\"outlinewidth\":0,\"ticks\":\"\"}},\"type\":\"scattermapbox\"}],\"scatterpolargl\":[{\"marker\":{\"colorbar\":{\"outlinewidth\":0,\"ticks\":\"\"}},\"type\":\"scatterpolargl\"}],\"scatterpolar\":[{\"marker\":{\"colorbar\":{\"outlinewidth\":0,\"ticks\":\"\"}},\"type\":\"scatterpolar\"}],\"scatter\":[{\"marker\":{\"colorbar\":{\"outlinewidth\":0,\"ticks\":\"\"}},\"type\":\"scatter\"}],\"scatterternary\":[{\"marker\":{\"colorbar\":{\"outlinewidth\":0,\"ticks\":\"\"}},\"type\":\"scatterternary\"}],\"surface\":[{\"colorbar\":{\"outlinewidth\":0,\"ticks\":\"\"},\"colorscale\":[[0.0,\"#0d0887\"],[0.1111111111111111,\"#46039f\"],[0.2222222222222222,\"#7201a8\"],[0.3333333333333333,\"#9c179e\"],[0.4444444444444444,\"#bd3786\"],[0.5555555555555556,\"#d8576b\"],[0.6666666666666666,\"#ed7953\"],[0.7777777777777778,\"#fb9f3a\"],[0.8888888888888888,\"#fdca26\"],[1.0,\"#f0f921\"]],\"type\":\"surface\"}],\"table\":[{\"cells\":{\"fill\":{\"color\":\"#EBF0F8\"},\"line\":{\"color\":\"white\"}},\"header\":{\"fill\":{\"color\":\"#C8D4E3\"},\"line\":{\"color\":\"white\"}},\"type\":\"table\"}]},\"layout\":{\"annotationdefaults\":{\"arrowcolor\":\"#2a3f5f\",\"arrowhead\":0,\"arrowwidth\":1},\"autotypenumbers\":\"strict\",\"coloraxis\":{\"colorbar\":{\"outlinewidth\":0,\"ticks\":\"\"}},\"colorscale\":{\"diverging\":[[0,\"#8e0152\"],[0.1,\"#c51b7d\"],[0.2,\"#de77ae\"],[0.3,\"#f1b6da\"],[0.4,\"#fde0ef\"],[0.5,\"#f7f7f7\"],[0.6,\"#e6f5d0\"],[0.7,\"#b8e186\"],[0.8,\"#7fbc41\"],[0.9,\"#4d9221\"],[1,\"#276419\"]],\"sequential\":[[0.0,\"#0d0887\"],[0.1111111111111111,\"#46039f\"],[0.2222222222222222,\"#7201a8\"],[0.3333333333333333,\"#9c179e\"],[0.4444444444444444,\"#bd3786\"],[0.5555555555555556,\"#d8576b\"],[0.6666666666666666,\"#ed7953\"],[0.7777777777777778,\"#fb9f3a\"],[0.8888888888888888,\"#fdca26\"],[1.0,\"#f0f921\"]],\"sequentialminus\":[[0.0,\"#0d0887\"],[0.1111111111111111,\"#46039f\"],[0.2222222222222222,\"#7201a8\"],[0.3333333333333333,\"#9c179e\"],[0.4444444444444444,\"#bd3786\"],[0.5555555555555556,\"#d8576b\"],[0.6666666666666666,\"#ed7953\"],[0.7777777777777778,\"#fb9f3a\"],[0.8888888888888888,\"#fdca26\"],[1.0,\"#f0f921\"]]},\"colorway\":[\"#636efa\",\"#EF553B\",\"#00cc96\",\"#ab63fa\",\"#FFA15A\",\"#19d3f3\",\"#FF6692\",\"#B6E880\",\"#FF97FF\",\"#FECB52\"],\"font\":{\"color\":\"#2a3f5f\"},\"geo\":{\"bgcolor\":\"white\",\"lakecolor\":\"white\",\"landcolor\":\"white\",\"showlakes\":true,\"showland\":true,\"subunitcolor\":\"#C8D4E3\"},\"hoverlabel\":{\"align\":\"left\"},\"hovermode\":\"closest\",\"mapbox\":{\"style\":\"light\"},\"paper_bgcolor\":\"white\",\"plot_bgcolor\":\"white\",\"polar\":{\"angularaxis\":{\"gridcolor\":\"#EBF0F8\",\"linecolor\":\"#EBF0F8\",\"ticks\":\"\"},\"bgcolor\":\"white\",\"radialaxis\":{\"gridcolor\":\"#EBF0F8\",\"linecolor\":\"#EBF0F8\",\"ticks\":\"\"}},\"scene\":{\"xaxis\":{\"backgroundcolor\":\"white\",\"gridcolor\":\"#DFE8F3\",\"gridwidth\":2,\"linecolor\":\"#EBF0F8\",\"showbackground\":true,\"ticks\":\"\",\"zerolinecolor\":\"#EBF0F8\"},\"yaxis\":{\"backgroundcolor\":\"white\",\"gridcolor\":\"#DFE8F3\",\"gridwidth\":2,\"linecolor\":\"#EBF0F8\",\"showbackground\":true,\"ticks\":\"\",\"zerolinecolor\":\"#EBF0F8\"},\"zaxis\":{\"backgroundcolor\":\"white\",\"gridcolor\":\"#DFE8F3\",\"gridwidth\":2,\"linecolor\":\"#EBF0F8\",\"showbackground\":true,\"ticks\":\"\",\"zerolinecolor\":\"#EBF0F8\"}},\"shapedefaults\":{\"line\":{\"color\":\"#2a3f5f\"}},\"ternary\":{\"aaxis\":{\"gridcolor\":\"#DFE8F3\",\"linecolor\":\"#A2B1C6\",\"ticks\":\"\"},\"baxis\":{\"gridcolor\":\"#DFE8F3\",\"linecolor\":\"#A2B1C6\",\"ticks\":\"\"},\"bgcolor\":\"white\",\"caxis\":{\"gridcolor\":\"#DFE8F3\",\"linecolor\":\"#A2B1C6\",\"ticks\":\"\"}},\"title\":{\"x\":0.05},\"xaxis\":{\"automargin\":true,\"gridcolor\":\"#EBF0F8\",\"linecolor\":\"#EBF0F8\",\"ticks\":\"\",\"title\":{\"standoff\":15},\"zerolinecolor\":\"#EBF0F8\",\"zerolinewidth\":2},\"yaxis\":{\"automargin\":true,\"gridcolor\":\"#EBF0F8\",\"linecolor\":\"#EBF0F8\",\"ticks\":\"\",\"title\":{\"standoff\":15},\"zerolinecolor\":\"#EBF0F8\",\"zerolinewidth\":2}}},\"title\":{\"font\":{\"size\":22,\"color\":\"Black\"},\"text\":\"<b>Hierarchical Clustering\",\"x\":0.5,\"xanchor\":\"center\",\"yanchor\":\"top\"},\"hoverlabel\":{\"font\":{\"size\":16,\"family\":\"Rockwell\"},\"bgcolor\":\"white\"},\"plot_bgcolor\":\"#ECEFF1\"},                        {\"responsive\": true}                    ).then(function(){\n",
              "                            \n",
              "var gd = document.getElementById('ad2a307b-9aeb-4402-a41f-f23b8cd42ef0');\n",
              "var x = new MutationObserver(function (mutations, observer) {{\n",
              "        var display = window.getComputedStyle(gd).display;\n",
              "        if (!display || display === 'none') {{\n",
              "            console.log([gd, 'removed!']);\n",
              "            Plotly.purge(gd);\n",
              "            observer.disconnect();\n",
              "        }}\n",
              "}});\n",
              "\n",
              "// Listen for the removal of the full notebook cells\n",
              "var notebookContainer = gd.closest('#notebook-container');\n",
              "if (notebookContainer) {{\n",
              "    x.observe(notebookContainer, {childList: true});\n",
              "}}\n",
              "\n",
              "// Listen for the clearing of the current output cell\n",
              "var outputEl = gd.closest('.output');\n",
              "if (outputEl) {{\n",
              "    x.observe(outputEl, {childList: true});\n",
              "}}\n",
              "\n",
              "                        })                };                            </script>        </div>\n",
              "</body>\n",
              "</html>"
            ]
          },
          "metadata": {}
        }
      ]
    },
    {
      "cell_type": "markdown",
      "source": [
        "# Comparing Topics to the Directories given by the EU"
      ],
      "metadata": {
        "id": "Uvn90eDxKr9s"
      },
      "id": "Uvn90eDxKr9s"
    },
    {
      "cell_type": "code",
      "source": [
        "df_compare = data[[\"date\", \"dir_1\"]]"
      ],
      "metadata": {
        "id": "HA6sm8SyKxRb"
      },
      "id": "HA6sm8SyKxRb",
      "execution_count": 99,
      "outputs": []
    },
    {
      "cell_type": "code",
      "source": [
        "df_compare.dir_1.unique()"
      ],
      "metadata": {
        "colab": {
          "base_uri": "https://localhost:8080/"
        },
        "id": "e6MNvHGRLh6m",
        "outputId": "f209df31-3f36-43e0-9661-c9c0b7481d8e"
      },
      "id": "e6MNvHGRLh6m",
      "execution_count": 116,
      "outputs": [
        {
          "output_type": "execute_result",
          "data": {
            "text/plain": [
              "array(['Right of establishment and freedom to provide services',\n",
              "       'Transport policy', 'External relations',\n",
              "       'Freedom of movement for workers and social policy',\n",
              "       'Environment, consumers and health protection',\n",
              "       'General, financial and institutional matters',\n",
              "       'Economic and monetary policy and free movement of capital',\n",
              "       'Regional policy and coordination of structural instruments',\n",
              "       'Industrial policy and internal market',\n",
              "       'Science, information, education and culture', 'Taxation',\n",
              "       \"People's Europe\", 'Customs Union and free movement of goods',\n",
              "       'Fisheries', 'Agriculture', 'Common Foreign and Security Policy',\n",
              "       'Area of freedom, security and justice', 'Energy',\n",
              "       'Law relating to undertakings', nan, 'Competition policy'],\n",
              "      dtype=object)"
            ]
          },
          "metadata": {},
          "execution_count": 116
        }
      ]
    },
    {
      "cell_type": "code",
      "source": [
        "df_compare['topics'] = topics"
      ],
      "metadata": {
        "id": "dDgspQ-NKxa7"
      },
      "id": "dDgspQ-NKxa7",
      "execution_count": 100,
      "outputs": []
    },
    {
      "cell_type": "code",
      "source": [
        "df_compare.sample(10)"
      ],
      "metadata": {
        "colab": {
          "base_uri": "https://localhost:8080/",
          "height": 363
        },
        "id": "ZqI7xxFnLB-y",
        "outputId": "9331dcab-96be-40c6-af11-2ec0c7360196"
      },
      "id": "ZqI7xxFnLB-y",
      "execution_count": 117,
      "outputs": [
        {
          "output_type": "execute_result",
          "data": {
            "text/plain": [
              "            date                                              dir_1  topics\n",
              "1191  2021-11-15                                        Agriculture      -1\n",
              "1896  2020-12-11                 Common Foreign and Security Policy       2\n",
              "282   2020-03-31  Regional policy and coordination of structural...       5\n",
              "896   2020-03-17                                        Agriculture      -1\n",
              "1621  2021-03-26  Right of establishment and freedom to provide ...      10\n",
              "2024  2020-08-07                                                NaN      -1\n",
              "1991  2021-12-22                                        Agriculture      -1\n",
              "1031  2021-07-12                                        Agriculture      18\n",
              "2551  2013-07-23                                 External relations       6\n",
              "1414  2020-11-13              Industrial policy and internal market      -1"
            ],
            "text/html": [
              "\n",
              "  <div id=\"df-199472c2-8782-4f2b-96a2-a00c77dbc39f\">\n",
              "    <div class=\"colab-df-container\">\n",
              "      <div>\n",
              "<style scoped>\n",
              "    .dataframe tbody tr th:only-of-type {\n",
              "        vertical-align: middle;\n",
              "    }\n",
              "\n",
              "    .dataframe tbody tr th {\n",
              "        vertical-align: top;\n",
              "    }\n",
              "\n",
              "    .dataframe thead th {\n",
              "        text-align: right;\n",
              "    }\n",
              "</style>\n",
              "<table border=\"1\" class=\"dataframe\">\n",
              "  <thead>\n",
              "    <tr style=\"text-align: right;\">\n",
              "      <th></th>\n",
              "      <th>date</th>\n",
              "      <th>dir_1</th>\n",
              "      <th>topics</th>\n",
              "    </tr>\n",
              "  </thead>\n",
              "  <tbody>\n",
              "    <tr>\n",
              "      <th>1191</th>\n",
              "      <td>2021-11-15</td>\n",
              "      <td>Agriculture</td>\n",
              "      <td>-1</td>\n",
              "    </tr>\n",
              "    <tr>\n",
              "      <th>1896</th>\n",
              "      <td>2020-12-11</td>\n",
              "      <td>Common Foreign and Security Policy</td>\n",
              "      <td>2</td>\n",
              "    </tr>\n",
              "    <tr>\n",
              "      <th>282</th>\n",
              "      <td>2020-03-31</td>\n",
              "      <td>Regional policy and coordination of structural...</td>\n",
              "      <td>5</td>\n",
              "    </tr>\n",
              "    <tr>\n",
              "      <th>896</th>\n",
              "      <td>2020-03-17</td>\n",
              "      <td>Agriculture</td>\n",
              "      <td>-1</td>\n",
              "    </tr>\n",
              "    <tr>\n",
              "      <th>1621</th>\n",
              "      <td>2021-03-26</td>\n",
              "      <td>Right of establishment and freedom to provide ...</td>\n",
              "      <td>10</td>\n",
              "    </tr>\n",
              "    <tr>\n",
              "      <th>2024</th>\n",
              "      <td>2020-08-07</td>\n",
              "      <td>NaN</td>\n",
              "      <td>-1</td>\n",
              "    </tr>\n",
              "    <tr>\n",
              "      <th>1991</th>\n",
              "      <td>2021-12-22</td>\n",
              "      <td>Agriculture</td>\n",
              "      <td>-1</td>\n",
              "    </tr>\n",
              "    <tr>\n",
              "      <th>1031</th>\n",
              "      <td>2021-07-12</td>\n",
              "      <td>Agriculture</td>\n",
              "      <td>18</td>\n",
              "    </tr>\n",
              "    <tr>\n",
              "      <th>2551</th>\n",
              "      <td>2013-07-23</td>\n",
              "      <td>External relations</td>\n",
              "      <td>6</td>\n",
              "    </tr>\n",
              "    <tr>\n",
              "      <th>1414</th>\n",
              "      <td>2020-11-13</td>\n",
              "      <td>Industrial policy and internal market</td>\n",
              "      <td>-1</td>\n",
              "    </tr>\n",
              "  </tbody>\n",
              "</table>\n",
              "</div>\n",
              "      <button class=\"colab-df-convert\" onclick=\"convertToInteractive('df-199472c2-8782-4f2b-96a2-a00c77dbc39f')\"\n",
              "              title=\"Convert this dataframe to an interactive table.\"\n",
              "              style=\"display:none;\">\n",
              "        \n",
              "  <svg xmlns=\"http://www.w3.org/2000/svg\" height=\"24px\"viewBox=\"0 0 24 24\"\n",
              "       width=\"24px\">\n",
              "    <path d=\"M0 0h24v24H0V0z\" fill=\"none\"/>\n",
              "    <path d=\"M18.56 5.44l.94 2.06.94-2.06 2.06-.94-2.06-.94-.94-2.06-.94 2.06-2.06.94zm-11 1L8.5 8.5l.94-2.06 2.06-.94-2.06-.94L8.5 2.5l-.94 2.06-2.06.94zm10 10l.94 2.06.94-2.06 2.06-.94-2.06-.94-.94-2.06-.94 2.06-2.06.94z\"/><path d=\"M17.41 7.96l-1.37-1.37c-.4-.4-.92-.59-1.43-.59-.52 0-1.04.2-1.43.59L10.3 9.45l-7.72 7.72c-.78.78-.78 2.05 0 2.83L4 21.41c.39.39.9.59 1.41.59.51 0 1.02-.2 1.41-.59l7.78-7.78 2.81-2.81c.8-.78.8-2.07 0-2.86zM5.41 20L4 18.59l7.72-7.72 1.47 1.35L5.41 20z\"/>\n",
              "  </svg>\n",
              "      </button>\n",
              "      \n",
              "  <style>\n",
              "    .colab-df-container {\n",
              "      display:flex;\n",
              "      flex-wrap:wrap;\n",
              "      gap: 12px;\n",
              "    }\n",
              "\n",
              "    .colab-df-convert {\n",
              "      background-color: #E8F0FE;\n",
              "      border: none;\n",
              "      border-radius: 50%;\n",
              "      cursor: pointer;\n",
              "      display: none;\n",
              "      fill: #1967D2;\n",
              "      height: 32px;\n",
              "      padding: 0 0 0 0;\n",
              "      width: 32px;\n",
              "    }\n",
              "\n",
              "    .colab-df-convert:hover {\n",
              "      background-color: #E2EBFA;\n",
              "      box-shadow: 0px 1px 2px rgba(60, 64, 67, 0.3), 0px 1px 3px 1px rgba(60, 64, 67, 0.15);\n",
              "      fill: #174EA6;\n",
              "    }\n",
              "\n",
              "    [theme=dark] .colab-df-convert {\n",
              "      background-color: #3B4455;\n",
              "      fill: #D2E3FC;\n",
              "    }\n",
              "\n",
              "    [theme=dark] .colab-df-convert:hover {\n",
              "      background-color: #434B5C;\n",
              "      box-shadow: 0px 1px 3px 1px rgba(0, 0, 0, 0.15);\n",
              "      filter: drop-shadow(0px 1px 2px rgba(0, 0, 0, 0.3));\n",
              "      fill: #FFFFFF;\n",
              "    }\n",
              "  </style>\n",
              "\n",
              "      <script>\n",
              "        const buttonEl =\n",
              "          document.querySelector('#df-199472c2-8782-4f2b-96a2-a00c77dbc39f button.colab-df-convert');\n",
              "        buttonEl.style.display =\n",
              "          google.colab.kernel.accessAllowed ? 'block' : 'none';\n",
              "\n",
              "        async function convertToInteractive(key) {\n",
              "          const element = document.querySelector('#df-199472c2-8782-4f2b-96a2-a00c77dbc39f');\n",
              "          const dataTable =\n",
              "            await google.colab.kernel.invokeFunction('convertToInteractive',\n",
              "                                                     [key], {});\n",
              "          if (!dataTable) return;\n",
              "\n",
              "          const docLinkHtml = 'Like what you see? Visit the ' +\n",
              "            '<a target=\"_blank\" href=https://colab.research.google.com/notebooks/data_table.ipynb>data table notebook</a>'\n",
              "            + ' to learn more about interactive tables.';\n",
              "          element.innerHTML = '';\n",
              "          dataTable['output_type'] = 'display_data';\n",
              "          await google.colab.output.renderOutput(dataTable, element);\n",
              "          const docLink = document.createElement('div');\n",
              "          docLink.innerHTML = docLinkHtml;\n",
              "          element.appendChild(docLink);\n",
              "        }\n",
              "      </script>\n",
              "    </div>\n",
              "  </div>\n",
              "  "
            ]
          },
          "metadata": {},
          "execution_count": 117
        }
      ]
    },
    {
      "cell_type": "code",
      "source": [
        "fisheries = df_compare.loc[df_compare.dir_1 == \"Fisheries\"]"
      ],
      "metadata": {
        "id": "Q69U77cvNWJ7"
      },
      "id": "Q69U77cvNWJ7",
      "execution_count": 112,
      "outputs": []
    },
    {
      "cell_type": "code",
      "source": [
        "fisheries.sample(5)"
      ],
      "metadata": {
        "colab": {
          "base_uri": "https://localhost:8080/",
          "height": 206
        },
        "id": "KlAGisMuOZyV",
        "outputId": "613b7918-a758-4ac1-ba8d-6fe0ca9b13a4"
      },
      "id": "KlAGisMuOZyV",
      "execution_count": 119,
      "outputs": [
        {
          "output_type": "execute_result",
          "data": {
            "text/plain": [
              "            date      dir_1  topics\n",
              "1655  2021-11-26  Fisheries       7\n",
              "2223  2019-10-31  Fisheries       7\n",
              "1529  2020-12-28  Fisheries       7\n",
              "1232  2020-09-02  Fisheries      14\n",
              "2863  2022-01-27  Fisheries      14"
            ],
            "text/html": [
              "\n",
              "  <div id=\"df-651b0ad5-3b81-4487-add7-e4cc3fc0a801\">\n",
              "    <div class=\"colab-df-container\">\n",
              "      <div>\n",
              "<style scoped>\n",
              "    .dataframe tbody tr th:only-of-type {\n",
              "        vertical-align: middle;\n",
              "    }\n",
              "\n",
              "    .dataframe tbody tr th {\n",
              "        vertical-align: top;\n",
              "    }\n",
              "\n",
              "    .dataframe thead th {\n",
              "        text-align: right;\n",
              "    }\n",
              "</style>\n",
              "<table border=\"1\" class=\"dataframe\">\n",
              "  <thead>\n",
              "    <tr style=\"text-align: right;\">\n",
              "      <th></th>\n",
              "      <th>date</th>\n",
              "      <th>dir_1</th>\n",
              "      <th>topics</th>\n",
              "    </tr>\n",
              "  </thead>\n",
              "  <tbody>\n",
              "    <tr>\n",
              "      <th>1655</th>\n",
              "      <td>2021-11-26</td>\n",
              "      <td>Fisheries</td>\n",
              "      <td>7</td>\n",
              "    </tr>\n",
              "    <tr>\n",
              "      <th>2223</th>\n",
              "      <td>2019-10-31</td>\n",
              "      <td>Fisheries</td>\n",
              "      <td>7</td>\n",
              "    </tr>\n",
              "    <tr>\n",
              "      <th>1529</th>\n",
              "      <td>2020-12-28</td>\n",
              "      <td>Fisheries</td>\n",
              "      <td>7</td>\n",
              "    </tr>\n",
              "    <tr>\n",
              "      <th>1232</th>\n",
              "      <td>2020-09-02</td>\n",
              "      <td>Fisheries</td>\n",
              "      <td>14</td>\n",
              "    </tr>\n",
              "    <tr>\n",
              "      <th>2863</th>\n",
              "      <td>2022-01-27</td>\n",
              "      <td>Fisheries</td>\n",
              "      <td>14</td>\n",
              "    </tr>\n",
              "  </tbody>\n",
              "</table>\n",
              "</div>\n",
              "      <button class=\"colab-df-convert\" onclick=\"convertToInteractive('df-651b0ad5-3b81-4487-add7-e4cc3fc0a801')\"\n",
              "              title=\"Convert this dataframe to an interactive table.\"\n",
              "              style=\"display:none;\">\n",
              "        \n",
              "  <svg xmlns=\"http://www.w3.org/2000/svg\" height=\"24px\"viewBox=\"0 0 24 24\"\n",
              "       width=\"24px\">\n",
              "    <path d=\"M0 0h24v24H0V0z\" fill=\"none\"/>\n",
              "    <path d=\"M18.56 5.44l.94 2.06.94-2.06 2.06-.94-2.06-.94-.94-2.06-.94 2.06-2.06.94zm-11 1L8.5 8.5l.94-2.06 2.06-.94-2.06-.94L8.5 2.5l-.94 2.06-2.06.94zm10 10l.94 2.06.94-2.06 2.06-.94-2.06-.94-.94-2.06-.94 2.06-2.06.94z\"/><path d=\"M17.41 7.96l-1.37-1.37c-.4-.4-.92-.59-1.43-.59-.52 0-1.04.2-1.43.59L10.3 9.45l-7.72 7.72c-.78.78-.78 2.05 0 2.83L4 21.41c.39.39.9.59 1.41.59.51 0 1.02-.2 1.41-.59l7.78-7.78 2.81-2.81c.8-.78.8-2.07 0-2.86zM5.41 20L4 18.59l7.72-7.72 1.47 1.35L5.41 20z\"/>\n",
              "  </svg>\n",
              "      </button>\n",
              "      \n",
              "  <style>\n",
              "    .colab-df-container {\n",
              "      display:flex;\n",
              "      flex-wrap:wrap;\n",
              "      gap: 12px;\n",
              "    }\n",
              "\n",
              "    .colab-df-convert {\n",
              "      background-color: #E8F0FE;\n",
              "      border: none;\n",
              "      border-radius: 50%;\n",
              "      cursor: pointer;\n",
              "      display: none;\n",
              "      fill: #1967D2;\n",
              "      height: 32px;\n",
              "      padding: 0 0 0 0;\n",
              "      width: 32px;\n",
              "    }\n",
              "\n",
              "    .colab-df-convert:hover {\n",
              "      background-color: #E2EBFA;\n",
              "      box-shadow: 0px 1px 2px rgba(60, 64, 67, 0.3), 0px 1px 3px 1px rgba(60, 64, 67, 0.15);\n",
              "      fill: #174EA6;\n",
              "    }\n",
              "\n",
              "    [theme=dark] .colab-df-convert {\n",
              "      background-color: #3B4455;\n",
              "      fill: #D2E3FC;\n",
              "    }\n",
              "\n",
              "    [theme=dark] .colab-df-convert:hover {\n",
              "      background-color: #434B5C;\n",
              "      box-shadow: 0px 1px 3px 1px rgba(0, 0, 0, 0.15);\n",
              "      filter: drop-shadow(0px 1px 2px rgba(0, 0, 0, 0.3));\n",
              "      fill: #FFFFFF;\n",
              "    }\n",
              "  </style>\n",
              "\n",
              "      <script>\n",
              "        const buttonEl =\n",
              "          document.querySelector('#df-651b0ad5-3b81-4487-add7-e4cc3fc0a801 button.colab-df-convert');\n",
              "        buttonEl.style.display =\n",
              "          google.colab.kernel.accessAllowed ? 'block' : 'none';\n",
              "\n",
              "        async function convertToInteractive(key) {\n",
              "          const element = document.querySelector('#df-651b0ad5-3b81-4487-add7-e4cc3fc0a801');\n",
              "          const dataTable =\n",
              "            await google.colab.kernel.invokeFunction('convertToInteractive',\n",
              "                                                     [key], {});\n",
              "          if (!dataTable) return;\n",
              "\n",
              "          const docLinkHtml = 'Like what you see? Visit the ' +\n",
              "            '<a target=\"_blank\" href=https://colab.research.google.com/notebooks/data_table.ipynb>data table notebook</a>'\n",
              "            + ' to learn more about interactive tables.';\n",
              "          element.innerHTML = '';\n",
              "          dataTable['output_type'] = 'display_data';\n",
              "          await google.colab.output.renderOutput(dataTable, element);\n",
              "          const docLink = document.createElement('div');\n",
              "          docLink.innerHTML = docLinkHtml;\n",
              "          element.appendChild(docLink);\n",
              "        }\n",
              "      </script>\n",
              "    </div>\n",
              "  </div>\n",
              "  "
            ]
          },
          "metadata": {},
          "execution_count": 119
        }
      ]
    },
    {
      "cell_type": "code",
      "source": [
        "fisheries.topics.value_counts()"
      ],
      "metadata": {
        "colab": {
          "base_uri": "https://localhost:8080/"
        },
        "id": "j0Bwb5m6NzGg",
        "outputId": "2742ae83-b751-4bdc-870c-52f437ebf5e4"
      },
      "id": "j0Bwb5m6NzGg",
      "execution_count": 115,
      "outputs": [
        {
          "output_type": "execute_result",
          "data": {
            "text/plain": [
              " 7     94\n",
              " 14    67\n",
              "-1      2\n",
              " 11     2\n",
              " 10     1\n",
              " 0      1\n",
              "Name: topics, dtype: int64"
            ]
          },
          "metadata": {},
          "execution_count": 115
        }
      ]
    },
    {
      "cell_type": "code",
      "source": [
        "external_rel = df_compare.loc[df_compare.dir_1 == \"External relations\"]"
      ],
      "metadata": {
        "id": "mX2r8rdaOgIC"
      },
      "id": "mX2r8rdaOgIC",
      "execution_count": 121,
      "outputs": []
    },
    {
      "cell_type": "code",
      "source": [
        "external_rel.sample(10)"
      ],
      "metadata": {
        "colab": {
          "base_uri": "https://localhost:8080/",
          "height": 363
        },
        "id": "wLLtzpbhOoqH",
        "outputId": "332abb10-4a4d-43f4-e473-8f32c9dcdbaa"
      },
      "id": "wLLtzpbhOoqH",
      "execution_count": 122,
      "outputs": [
        {
          "output_type": "execute_result",
          "data": {
            "text/plain": [
              "            date               dir_1  topics\n",
              "2802  2014-12-11  External relations      -1\n",
              "2578  2019-07-23  External relations      -1\n",
              "2883  2015-03-27  External relations       6\n",
              "3080  2015-08-14  External relations      -1\n",
              "1299  2020-08-10  External relations      -1\n",
              "3096  2014-12-18  External relations       6\n",
              "430   2020-10-13  External relations       6\n",
              "79    2021-01-07  External relations       6\n",
              "718   2021-12-22  External relations       6\n",
              "839   2021-04-19  External relations       6"
            ],
            "text/html": [
              "\n",
              "  <div id=\"df-43529217-4d16-417b-8de0-443709a474dd\">\n",
              "    <div class=\"colab-df-container\">\n",
              "      <div>\n",
              "<style scoped>\n",
              "    .dataframe tbody tr th:only-of-type {\n",
              "        vertical-align: middle;\n",
              "    }\n",
              "\n",
              "    .dataframe tbody tr th {\n",
              "        vertical-align: top;\n",
              "    }\n",
              "\n",
              "    .dataframe thead th {\n",
              "        text-align: right;\n",
              "    }\n",
              "</style>\n",
              "<table border=\"1\" class=\"dataframe\">\n",
              "  <thead>\n",
              "    <tr style=\"text-align: right;\">\n",
              "      <th></th>\n",
              "      <th>date</th>\n",
              "      <th>dir_1</th>\n",
              "      <th>topics</th>\n",
              "    </tr>\n",
              "  </thead>\n",
              "  <tbody>\n",
              "    <tr>\n",
              "      <th>2802</th>\n",
              "      <td>2014-12-11</td>\n",
              "      <td>External relations</td>\n",
              "      <td>-1</td>\n",
              "    </tr>\n",
              "    <tr>\n",
              "      <th>2578</th>\n",
              "      <td>2019-07-23</td>\n",
              "      <td>External relations</td>\n",
              "      <td>-1</td>\n",
              "    </tr>\n",
              "    <tr>\n",
              "      <th>2883</th>\n",
              "      <td>2015-03-27</td>\n",
              "      <td>External relations</td>\n",
              "      <td>6</td>\n",
              "    </tr>\n",
              "    <tr>\n",
              "      <th>3080</th>\n",
              "      <td>2015-08-14</td>\n",
              "      <td>External relations</td>\n",
              "      <td>-1</td>\n",
              "    </tr>\n",
              "    <tr>\n",
              "      <th>1299</th>\n",
              "      <td>2020-08-10</td>\n",
              "      <td>External relations</td>\n",
              "      <td>-1</td>\n",
              "    </tr>\n",
              "    <tr>\n",
              "      <th>3096</th>\n",
              "      <td>2014-12-18</td>\n",
              "      <td>External relations</td>\n",
              "      <td>6</td>\n",
              "    </tr>\n",
              "    <tr>\n",
              "      <th>430</th>\n",
              "      <td>2020-10-13</td>\n",
              "      <td>External relations</td>\n",
              "      <td>6</td>\n",
              "    </tr>\n",
              "    <tr>\n",
              "      <th>79</th>\n",
              "      <td>2021-01-07</td>\n",
              "      <td>External relations</td>\n",
              "      <td>6</td>\n",
              "    </tr>\n",
              "    <tr>\n",
              "      <th>718</th>\n",
              "      <td>2021-12-22</td>\n",
              "      <td>External relations</td>\n",
              "      <td>6</td>\n",
              "    </tr>\n",
              "    <tr>\n",
              "      <th>839</th>\n",
              "      <td>2021-04-19</td>\n",
              "      <td>External relations</td>\n",
              "      <td>6</td>\n",
              "    </tr>\n",
              "  </tbody>\n",
              "</table>\n",
              "</div>\n",
              "      <button class=\"colab-df-convert\" onclick=\"convertToInteractive('df-43529217-4d16-417b-8de0-443709a474dd')\"\n",
              "              title=\"Convert this dataframe to an interactive table.\"\n",
              "              style=\"display:none;\">\n",
              "        \n",
              "  <svg xmlns=\"http://www.w3.org/2000/svg\" height=\"24px\"viewBox=\"0 0 24 24\"\n",
              "       width=\"24px\">\n",
              "    <path d=\"M0 0h24v24H0V0z\" fill=\"none\"/>\n",
              "    <path d=\"M18.56 5.44l.94 2.06.94-2.06 2.06-.94-2.06-.94-.94-2.06-.94 2.06-2.06.94zm-11 1L8.5 8.5l.94-2.06 2.06-.94-2.06-.94L8.5 2.5l-.94 2.06-2.06.94zm10 10l.94 2.06.94-2.06 2.06-.94-2.06-.94-.94-2.06-.94 2.06-2.06.94z\"/><path d=\"M17.41 7.96l-1.37-1.37c-.4-.4-.92-.59-1.43-.59-.52 0-1.04.2-1.43.59L10.3 9.45l-7.72 7.72c-.78.78-.78 2.05 0 2.83L4 21.41c.39.39.9.59 1.41.59.51 0 1.02-.2 1.41-.59l7.78-7.78 2.81-2.81c.8-.78.8-2.07 0-2.86zM5.41 20L4 18.59l7.72-7.72 1.47 1.35L5.41 20z\"/>\n",
              "  </svg>\n",
              "      </button>\n",
              "      \n",
              "  <style>\n",
              "    .colab-df-container {\n",
              "      display:flex;\n",
              "      flex-wrap:wrap;\n",
              "      gap: 12px;\n",
              "    }\n",
              "\n",
              "    .colab-df-convert {\n",
              "      background-color: #E8F0FE;\n",
              "      border: none;\n",
              "      border-radius: 50%;\n",
              "      cursor: pointer;\n",
              "      display: none;\n",
              "      fill: #1967D2;\n",
              "      height: 32px;\n",
              "      padding: 0 0 0 0;\n",
              "      width: 32px;\n",
              "    }\n",
              "\n",
              "    .colab-df-convert:hover {\n",
              "      background-color: #E2EBFA;\n",
              "      box-shadow: 0px 1px 2px rgba(60, 64, 67, 0.3), 0px 1px 3px 1px rgba(60, 64, 67, 0.15);\n",
              "      fill: #174EA6;\n",
              "    }\n",
              "\n",
              "    [theme=dark] .colab-df-convert {\n",
              "      background-color: #3B4455;\n",
              "      fill: #D2E3FC;\n",
              "    }\n",
              "\n",
              "    [theme=dark] .colab-df-convert:hover {\n",
              "      background-color: #434B5C;\n",
              "      box-shadow: 0px 1px 3px 1px rgba(0, 0, 0, 0.15);\n",
              "      filter: drop-shadow(0px 1px 2px rgba(0, 0, 0, 0.3));\n",
              "      fill: #FFFFFF;\n",
              "    }\n",
              "  </style>\n",
              "\n",
              "      <script>\n",
              "        const buttonEl =\n",
              "          document.querySelector('#df-43529217-4d16-417b-8de0-443709a474dd button.colab-df-convert');\n",
              "        buttonEl.style.display =\n",
              "          google.colab.kernel.accessAllowed ? 'block' : 'none';\n",
              "\n",
              "        async function convertToInteractive(key) {\n",
              "          const element = document.querySelector('#df-43529217-4d16-417b-8de0-443709a474dd');\n",
              "          const dataTable =\n",
              "            await google.colab.kernel.invokeFunction('convertToInteractive',\n",
              "                                                     [key], {});\n",
              "          if (!dataTable) return;\n",
              "\n",
              "          const docLinkHtml = 'Like what you see? Visit the ' +\n",
              "            '<a target=\"_blank\" href=https://colab.research.google.com/notebooks/data_table.ipynb>data table notebook</a>'\n",
              "            + ' to learn more about interactive tables.';\n",
              "          element.innerHTML = '';\n",
              "          dataTable['output_type'] = 'display_data';\n",
              "          await google.colab.output.renderOutput(dataTable, element);\n",
              "          const docLink = document.createElement('div');\n",
              "          docLink.innerHTML = docLinkHtml;\n",
              "          element.appendChild(docLink);\n",
              "        }\n",
              "      </script>\n",
              "    </div>\n",
              "  </div>\n",
              "  "
            ]
          },
          "metadata": {},
          "execution_count": 122
        }
      ]
    },
    {
      "cell_type": "code",
      "source": [
        "external_rel.topics.value_counts()"
      ],
      "metadata": {
        "colab": {
          "base_uri": "https://localhost:8080/"
        },
        "id": "Aa8SoddMOsBO",
        "outputId": "bb2fa9c7-bfe3-4718-85d7-879587aebfed"
      },
      "id": "Aa8SoddMOsBO",
      "execution_count": 123,
      "outputs": [
        {
          "output_type": "execute_result",
          "data": {
            "text/plain": [
              " 6     106\n",
              "-1      76\n",
              " 5      12\n",
              " 7       4\n",
              " 4       3\n",
              " 0       2\n",
              " 8       1\n",
              " 13      1\n",
              " 2       1\n",
              " 15      1\n",
              "Name: topics, dtype: int64"
            ]
          },
          "metadata": {},
          "execution_count": 123
        }
      ]
    },
    {
      "cell_type": "code",
      "source": [
        "topic_model.get_topic(6)"
      ],
      "metadata": {
        "colab": {
          "base_uri": "https://localhost:8080/"
        },
        "id": "XjC3YQkMURHU",
        "outputId": "733cf753-db27-4d74-d513-ab1272e25ece"
      },
      "id": "XjC3YQkMURHU",
      "execution_count": 127,
      "outputs": [
        {
          "output_type": "execute_result",
          "data": {
            "text/plain": [
              "[('producer', 0.041384000216344495),\n",
              " ('commission', 0.03931125550671033),\n",
              " ('price', 0.0379875983961771),\n",
              " ('import', 0.03562183997825092),\n",
              " ('union', 0.03527475095115937),\n",
              " ('industry', 0.03383772887100563),\n",
              " ('export', 0.03366342417037225),\n",
              " ('investigation', 0.0324365702539636),\n",
              " ('company', 0.027646699083183273),\n",
              " ('claim', 0.02555104907852173)]"
            ]
          },
          "metadata": {},
          "execution_count": 127
        }
      ]
    },
    {
      "cell_type": "markdown",
      "source": [
        "## Running LDA with same amount of topics as BERT spits out"
      ],
      "metadata": {
        "id": "5kDU6pkq2geT"
      },
      "id": "5kDU6pkq2geT"
    },
    {
      "cell_type": "code",
      "source": [
        "# Instantiating LDA with predefined n_components\n",
        "n_components = 20\n",
        "lda_model = LatentDirichletAllocation(n_components=n_components, max_iter = 100)\n",
        "\n",
        "# Fitting the LDA on the vectorized documents\n",
        "lda_model.fit(df)"
      ],
      "metadata": {
        "colab": {
          "base_uri": "https://localhost:8080/"
        },
        "id": "VkXVMkq52jCt",
        "outputId": "91da4fa9-f9ea-4ad4-8443-be689801be1a"
      },
      "id": "VkXVMkq52jCt",
      "execution_count": 124,
      "outputs": [
        {
          "output_type": "execute_result",
          "data": {
            "text/plain": [
              "LatentDirichletAllocation(max_iter=100, n_components=20)"
            ]
          },
          "metadata": {},
          "execution_count": 124
        }
      ]
    },
    {
      "cell_type": "code",
      "source": [
        "print_topics(lda_model, cleaned_vectorizer_n_gram, top_words=10)"
      ],
      "metadata": {
        "colab": {
          "base_uri": "https://localhost:8080/"
        },
        "id": "lV2c5pGK22AK",
        "outputId": "079235e5-84e9-4410-ff13-10b2a7d748d8"
      },
      "id": "lV2c5pGK22AK",
      "execution_count": 125,
      "outputs": [
        {
          "output_type": "stream",
          "name": "stdout",
          "text": [
            "--------------------\n",
            "Topic 0:\n",
            "[('de', 23.5), ('el', 14.86), ('la', 13.18), ('en', 10.15), ('del', 9.25), ('los', 8.51), ('que', 6.08), ('reglamento', 5.64), ('las', 5.48), ('se', 5.11)]\n",
            "--------------------\n",
            "Topic 1:\n",
            "[('washerdryer', 1.85), ('seabream', 1.53), ('dishwasher', 1.53), ('kic', 1.28), ('mallorca', 1.23), ('prawn', 1.02), ('arrow', 0.99), ('diplodus', 0.93), ('verdana', 0.92), ('crowdfunde', 0.91)]\n",
            "--------------------\n",
            "Topic 2:\n",
            "[('pfoarelate', 1.1), ('pfoa', 1.08), ('clopyralid', 0.82), ('sidi', 0.77), ('souleman', 0.73), ('cypermethrin', 0.72), ('alginate', 0.69), ('esr', 0.68), ('jiaxe', 0.65), ('intergenerational', 0.63)]\n",
            "--------------------\n",
            "Topic 3:\n",
            "[('на', 4.62), ('seine', 3.72), ('transshipping', 3.08), ('retaining', 3.02), ('pst', 2.83), ('за', 2.76), ('от', 2.33), ('aka', 1.73), ('hicp', 1.57), ('albacore', 1.38)]\n",
            "--------------------\n",
            "Topic 4:\n",
            "[('ifrs', 6.48), ('aspergillus', 3.82), ('cncm', 3.74), ('airworthiness', 3.35), ('endobetaxylanase', 3.08), ('niger', 2.84), ('trichoderma', 2.36), ('ghz', 2.32), ('endocrine', 2.28), ('subpart', 2.26)]\n",
            "--------------------\n",
            "Topic 5:\n",
            "[('mm', 14.46), ('rn', 6.5), ('μm', 4.24), ('cas', 4.15), ('uas', 3.72), ('layer', 3.0), ('thickness', 2.96), ('ben', 2.14), ('wipe', 2.08), ('rinse', 2.07)]\n",
            "--------------------\n",
            "Topic 6:\n",
            "[('formate', 1.29), ('van', 0.89), ('streptomyce', 0.77), ('norsk', 0.76), ('efti', 0.76), ('arms', 0.71), ('turmeric', 0.69), ('rex', 0.65), ('škripavac', 0.64), ('lički', 0.64)]\n",
            "--------------------\n",
            "Topic 7:\n",
            "[('iraq', 7.16), ('crr', 6.97), ('alias', 2.46), ('sanctions', 2.06), ('muhammad', 1.81), ('baghdad', 1.81), ('congo', 1.38), ('alqaida', 1.35), ('tld', 1.16), ('allusion', 1.14)]\n",
            "--------------------\n",
            "Topic 8:\n",
            "[('peel', 4.13), ('flower', 3.32), ('brassica', 2.92), ('inedible', 2.53), ('na', 2.0), ('cucurbit', 1.8), ('tuber', 1.65), ('nařízení', 1.39), ('sa', 1.38), ('lettuce', 1.24)]\n",
            "--------------------\n",
            "Topic 9:\n",
            "[('de', 4.75), ('og', 3.96), ('af', 3.7), ('til', 3.63), ('les', 3.61), ('la', 3.35), ('et', 2.76), ('le', 2.28), ('er', 2.24), ('des', 2.21)]\n",
            "--------------------\n",
            "Topic 10:\n",
            "[('ja', 4.17), ('ey', 2.04), ('asetuksen', 1.9), ('ltryptophan', 1.34), ('artiklan', 1.14), ('tai', 1.13), ('liitteessä', 1.11), ('että', 1.0), ('kohdan', 0.91), ('ombudsman', 0.89)]\n",
            "--------------------\n",
            "Topic 11:\n",
            "[('pepp', 4.33), ('gb', 3.46), ('citric', 2.05), ('imo', 1.99), ('iec', 1.78), ('reg', 1.54), ('titanium', 1.49), ('solas', 1.47), ('resmsc', 1.14), ('trontdi', 1.04)]\n",
            "--------------------\n",
            "Topic 12:\n",
            "[('premixture', 22.53), ('zootechnical', 7.44), ('dsm', 6.71), ('feedingstuff', 6.36), ('chromatography', 5.6), ('saccharomyce', 5.04), ('cerevisiae', 5.04), ('kccm', 4.5), ('inhalation', 4.45), ('bacillus', 4.21)]\n",
            "--------------------\n",
            "Topic 13:\n",
            "[('regulation', 386.21), ('eu', 190.37), ('article', 182.35), ('shall', 168.21), ('european', 154.72), ('union', 144.52), ('ec', 130.42), ('commission', 122.05), ('annex', 114.53), ('product', 101.16)]\n",
            "--------------------\n",
            "Topic 14:\n",
            "[('msg', 1.89), ('bbi', 1.51), ('gff', 1.39), ('uralchem', 0.9), ('cyazofamid', 0.86), ('cepol', 0.85), ('bresse', 0.85), ('vodka', 0.81), ('bauxdeprovence', 0.8), ('goe', 0.78)]\n",
            "--------------------\n",
            "Topic 15:\n",
            "[('eulisa', 2.87), ('etias', 2.8), ('sis', 2.34), ('nsa', 1.96), ('unfccc', 1.83), ('vis', 1.69), ('typecertificate', 1.57), ('kyoto', 1.54), ('etia', 1.48), ('zimbabwe', 1.48)]\n",
            "--------------------\n",
            "Topic 16:\n",
            "[('staropolski', 1.53), ('tradycyjny', 1.53), ('reacteu', 1.48), ('kümmel', 1.43), ('chlorine', 1.21), ('nagykunsági', 1.06), ('schizochytrium', 1.05), ('münchener', 0.97), ('geneva', 0.97), ('berec', 0.89)]\n",
            "--------------------\n",
            "Topic 17:\n",
            "[('za', 1.7), ('je', 1.45), ('depositary', 1.42), ('bse', 1.33), ('partm', 1.27), ('pcis', 1.26), ('mbm', 1.24), ('subquota', 1.23), ('pulp', 1.11), ('defendant', 1.06)]\n",
            "--------------------\n",
            "Topic 18:\n",
            "[('gminy', 9.65), ('od', 7.1), ('gemeinde', 6.52), ('na', 5.11), ('przez', 5.03), ('powiecie', 4.86), ('linii', 4.72), ('wyznaczonej', 4.29), ('część', 4.12), ('położona', 3.86)]\n",
            "--------------------\n",
            "Topic 19:\n",
            "[('examined', 2.91), ('seine', 1.85), ('codend', 1.58), ('pericle', 1.35), ('fdpc', 1.29), ('takingup', 1.26), ('cem', 1.26), ('syrian', 1.24), ('selectivity', 1.21), ('somalia', 1.13)]\n"
          ]
        }
      ]
    }
  ],
  "metadata": {
    "kernelspec": {
      "display_name": "Python 3 (ipykernel)",
      "language": "python",
      "name": "python3"
    },
    "language_info": {
      "codemirror_mode": {
        "name": "ipython",
        "version": 3
      },
      "file_extension": ".py",
      "mimetype": "text/x-python",
      "name": "python",
      "nbconvert_exporter": "python",
      "pygments_lexer": "ipython3",
      "version": "3.8.13"
    },
    "toc": {
      "base_numbering": 1,
      "nav_menu": {},
      "number_sections": true,
      "sideBar": true,
      "skip_h1_title": false,
      "title_cell": "Table of Contents",
      "title_sidebar": "Contents",
      "toc_cell": false,
      "toc_position": {},
      "toc_section_display": true,
      "toc_window_display": false
    },
    "colab": {
      "name": "AxPic_LDA_vs_BERT.ipynb",
      "provenance": [],
      "collapsed_sections": [],
      "machine_shape": "hm"
    },
    "accelerator": "GPU",
    "widgets": {
      "application/vnd.jupyter.widget-state+json": {
        "b1a9da4617904bafb4310d3dc01be822": {
          "model_module": "@jupyter-widgets/controls",
          "model_name": "HBoxModel",
          "model_module_version": "1.5.0",
          "state": {
            "_dom_classes": [],
            "_model_module": "@jupyter-widgets/controls",
            "_model_module_version": "1.5.0",
            "_model_name": "HBoxModel",
            "_view_count": null,
            "_view_module": "@jupyter-widgets/controls",
            "_view_module_version": "1.5.0",
            "_view_name": "HBoxView",
            "box_style": "",
            "children": [
              "IPY_MODEL_819d70f748b3408b9778bb4981ac1276",
              "IPY_MODEL_3519cc6bda1f4424a75e2caadd135028",
              "IPY_MODEL_3326a28b798748038e8c5d07e9efef66"
            ],
            "layout": "IPY_MODEL_0fb81653cd434c71890310232503be6f"
          }
        },
        "819d70f748b3408b9778bb4981ac1276": {
          "model_module": "@jupyter-widgets/controls",
          "model_name": "HTMLModel",
          "model_module_version": "1.5.0",
          "state": {
            "_dom_classes": [],
            "_model_module": "@jupyter-widgets/controls",
            "_model_module_version": "1.5.0",
            "_model_name": "HTMLModel",
            "_view_count": null,
            "_view_module": "@jupyter-widgets/controls",
            "_view_module_version": "1.5.0",
            "_view_name": "HTMLView",
            "description": "",
            "description_tooltip": null,
            "layout": "IPY_MODEL_70e73ea557af466e85d0660e14d9cec4",
            "placeholder": "​",
            "style": "IPY_MODEL_841122157b93425b90856c507018201b",
            "value": "Batches: 100%"
          }
        },
        "3519cc6bda1f4424a75e2caadd135028": {
          "model_module": "@jupyter-widgets/controls",
          "model_name": "FloatProgressModel",
          "model_module_version": "1.5.0",
          "state": {
            "_dom_classes": [],
            "_model_module": "@jupyter-widgets/controls",
            "_model_module_version": "1.5.0",
            "_model_name": "FloatProgressModel",
            "_view_count": null,
            "_view_module": "@jupyter-widgets/controls",
            "_view_module_version": "1.5.0",
            "_view_name": "ProgressView",
            "bar_style": "success",
            "description": "",
            "description_tooltip": null,
            "layout": "IPY_MODEL_958d517d1ed34a9182cbeea7c111ddf4",
            "max": 99,
            "min": 0,
            "orientation": "horizontal",
            "style": "IPY_MODEL_1c4f053f9bd14335bd3e71a339410c0b",
            "value": 99
          }
        },
        "3326a28b798748038e8c5d07e9efef66": {
          "model_module": "@jupyter-widgets/controls",
          "model_name": "HTMLModel",
          "model_module_version": "1.5.0",
          "state": {
            "_dom_classes": [],
            "_model_module": "@jupyter-widgets/controls",
            "_model_module_version": "1.5.0",
            "_model_name": "HTMLModel",
            "_view_count": null,
            "_view_module": "@jupyter-widgets/controls",
            "_view_module_version": "1.5.0",
            "_view_name": "HTMLView",
            "description": "",
            "description_tooltip": null,
            "layout": "IPY_MODEL_bb20bcbf92c2457c9a99c4651d6c380b",
            "placeholder": "​",
            "style": "IPY_MODEL_f3b757d9f40847849518340df55cbf85",
            "value": " 99/99 [00:21&lt;00:00, 19.20it/s]"
          }
        },
        "0fb81653cd434c71890310232503be6f": {
          "model_module": "@jupyter-widgets/base",
          "model_name": "LayoutModel",
          "model_module_version": "1.2.0",
          "state": {
            "_model_module": "@jupyter-widgets/base",
            "_model_module_version": "1.2.0",
            "_model_name": "LayoutModel",
            "_view_count": null,
            "_view_module": "@jupyter-widgets/base",
            "_view_module_version": "1.2.0",
            "_view_name": "LayoutView",
            "align_content": null,
            "align_items": null,
            "align_self": null,
            "border": null,
            "bottom": null,
            "display": null,
            "flex": null,
            "flex_flow": null,
            "grid_area": null,
            "grid_auto_columns": null,
            "grid_auto_flow": null,
            "grid_auto_rows": null,
            "grid_column": null,
            "grid_gap": null,
            "grid_row": null,
            "grid_template_areas": null,
            "grid_template_columns": null,
            "grid_template_rows": null,
            "height": null,
            "justify_content": null,
            "justify_items": null,
            "left": null,
            "margin": null,
            "max_height": null,
            "max_width": null,
            "min_height": null,
            "min_width": null,
            "object_fit": null,
            "object_position": null,
            "order": null,
            "overflow": null,
            "overflow_x": null,
            "overflow_y": null,
            "padding": null,
            "right": null,
            "top": null,
            "visibility": null,
            "width": null
          }
        },
        "70e73ea557af466e85d0660e14d9cec4": {
          "model_module": "@jupyter-widgets/base",
          "model_name": "LayoutModel",
          "model_module_version": "1.2.0",
          "state": {
            "_model_module": "@jupyter-widgets/base",
            "_model_module_version": "1.2.0",
            "_model_name": "LayoutModel",
            "_view_count": null,
            "_view_module": "@jupyter-widgets/base",
            "_view_module_version": "1.2.0",
            "_view_name": "LayoutView",
            "align_content": null,
            "align_items": null,
            "align_self": null,
            "border": null,
            "bottom": null,
            "display": null,
            "flex": null,
            "flex_flow": null,
            "grid_area": null,
            "grid_auto_columns": null,
            "grid_auto_flow": null,
            "grid_auto_rows": null,
            "grid_column": null,
            "grid_gap": null,
            "grid_row": null,
            "grid_template_areas": null,
            "grid_template_columns": null,
            "grid_template_rows": null,
            "height": null,
            "justify_content": null,
            "justify_items": null,
            "left": null,
            "margin": null,
            "max_height": null,
            "max_width": null,
            "min_height": null,
            "min_width": null,
            "object_fit": null,
            "object_position": null,
            "order": null,
            "overflow": null,
            "overflow_x": null,
            "overflow_y": null,
            "padding": null,
            "right": null,
            "top": null,
            "visibility": null,
            "width": null
          }
        },
        "841122157b93425b90856c507018201b": {
          "model_module": "@jupyter-widgets/controls",
          "model_name": "DescriptionStyleModel",
          "model_module_version": "1.5.0",
          "state": {
            "_model_module": "@jupyter-widgets/controls",
            "_model_module_version": "1.5.0",
            "_model_name": "DescriptionStyleModel",
            "_view_count": null,
            "_view_module": "@jupyter-widgets/base",
            "_view_module_version": "1.2.0",
            "_view_name": "StyleView",
            "description_width": ""
          }
        },
        "958d517d1ed34a9182cbeea7c111ddf4": {
          "model_module": "@jupyter-widgets/base",
          "model_name": "LayoutModel",
          "model_module_version": "1.2.0",
          "state": {
            "_model_module": "@jupyter-widgets/base",
            "_model_module_version": "1.2.0",
            "_model_name": "LayoutModel",
            "_view_count": null,
            "_view_module": "@jupyter-widgets/base",
            "_view_module_version": "1.2.0",
            "_view_name": "LayoutView",
            "align_content": null,
            "align_items": null,
            "align_self": null,
            "border": null,
            "bottom": null,
            "display": null,
            "flex": null,
            "flex_flow": null,
            "grid_area": null,
            "grid_auto_columns": null,
            "grid_auto_flow": null,
            "grid_auto_rows": null,
            "grid_column": null,
            "grid_gap": null,
            "grid_row": null,
            "grid_template_areas": null,
            "grid_template_columns": null,
            "grid_template_rows": null,
            "height": null,
            "justify_content": null,
            "justify_items": null,
            "left": null,
            "margin": null,
            "max_height": null,
            "max_width": null,
            "min_height": null,
            "min_width": null,
            "object_fit": null,
            "object_position": null,
            "order": null,
            "overflow": null,
            "overflow_x": null,
            "overflow_y": null,
            "padding": null,
            "right": null,
            "top": null,
            "visibility": null,
            "width": null
          }
        },
        "1c4f053f9bd14335bd3e71a339410c0b": {
          "model_module": "@jupyter-widgets/controls",
          "model_name": "ProgressStyleModel",
          "model_module_version": "1.5.0",
          "state": {
            "_model_module": "@jupyter-widgets/controls",
            "_model_module_version": "1.5.0",
            "_model_name": "ProgressStyleModel",
            "_view_count": null,
            "_view_module": "@jupyter-widgets/base",
            "_view_module_version": "1.2.0",
            "_view_name": "StyleView",
            "bar_color": null,
            "description_width": ""
          }
        },
        "bb20bcbf92c2457c9a99c4651d6c380b": {
          "model_module": "@jupyter-widgets/base",
          "model_name": "LayoutModel",
          "model_module_version": "1.2.0",
          "state": {
            "_model_module": "@jupyter-widgets/base",
            "_model_module_version": "1.2.0",
            "_model_name": "LayoutModel",
            "_view_count": null,
            "_view_module": "@jupyter-widgets/base",
            "_view_module_version": "1.2.0",
            "_view_name": "LayoutView",
            "align_content": null,
            "align_items": null,
            "align_self": null,
            "border": null,
            "bottom": null,
            "display": null,
            "flex": null,
            "flex_flow": null,
            "grid_area": null,
            "grid_auto_columns": null,
            "grid_auto_flow": null,
            "grid_auto_rows": null,
            "grid_column": null,
            "grid_gap": null,
            "grid_row": null,
            "grid_template_areas": null,
            "grid_template_columns": null,
            "grid_template_rows": null,
            "height": null,
            "justify_content": null,
            "justify_items": null,
            "left": null,
            "margin": null,
            "max_height": null,
            "max_width": null,
            "min_height": null,
            "min_width": null,
            "object_fit": null,
            "object_position": null,
            "order": null,
            "overflow": null,
            "overflow_x": null,
            "overflow_y": null,
            "padding": null,
            "right": null,
            "top": null,
            "visibility": null,
            "width": null
          }
        },
        "f3b757d9f40847849518340df55cbf85": {
          "model_module": "@jupyter-widgets/controls",
          "model_name": "DescriptionStyleModel",
          "model_module_version": "1.5.0",
          "state": {
            "_model_module": "@jupyter-widgets/controls",
            "_model_module_version": "1.5.0",
            "_model_name": "DescriptionStyleModel",
            "_view_count": null,
            "_view_module": "@jupyter-widgets/base",
            "_view_module_version": "1.2.0",
            "_view_name": "StyleView",
            "description_width": ""
          }
        }
      }
    }
  },
  "nbformat": 4,
  "nbformat_minor": 5
}