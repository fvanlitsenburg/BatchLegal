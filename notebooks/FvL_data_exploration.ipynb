{
 "cells": [
  {
   "cell_type": "code",
   "execution_count": 1,
   "id": "bb6346c1",
   "metadata": {},
   "outputs": [],
   "source": [
    "import pandas as pd\n",
    "import numpy as np"
   ]
  },
  {
   "cell_type": "markdown",
   "id": "60e9e523",
   "metadata": {},
   "source": [
    "## Data Preparation"
   ]
  },
  {
   "cell_type": "markdown",
   "id": "c8dd3e2c",
   "metadata": {},
   "source": [
    "### Load data"
   ]
  },
  {
   "cell_type": "code",
   "execution_count": 9,
   "id": "dc93cce3",
   "metadata": {},
   "outputs": [],
   "source": [
    "df = pd.read_csv(\"../raw_data/20220106_latest.csv\")\n",
    "df = df.drop('Unnamed: 0',axis=1)"
   ]
  },
  {
   "cell_type": "markdown",
   "id": "465613d3",
   "metadata": {},
   "source": [
    "### Date field to year (string)"
   ]
  },
  {
   "cell_type": "code",
   "execution_count": 10,
   "id": "eddc5189",
   "metadata": {},
   "outputs": [],
   "source": [
    "# Date to year\n",
    "df['year'] = df['date'].apply(lambda x: str(x[0:4]))"
   ]
  },
  {
   "cell_type": "markdown",
   "id": "7c4e1fad",
   "metadata": {},
   "source": [
    "### Check presence of nas and remove columns of entirely NAs"
   ]
  },
  {
   "cell_type": "code",
   "execution_count": 11,
   "id": "2620ab07",
   "metadata": {},
   "outputs": [
    {
     "name": "stdout",
     "output_type": "stream",
     "text": [
      "Dropping  dir_5\n",
      "Dropping  dir_6\n"
     ]
    },
    {
     "data": {
      "text/plain": [
       "['dir_1', 'dir_2', 'dir_3', 'dir_4']"
      ]
     },
     "execution_count": 11,
     "metadata": {},
     "output_type": "execute_result"
    }
   ],
   "source": [
    "dirs = ['dir_1','dir_2','dir_3','dir_4','dir_5','dir_6']\n",
    "for i in ['dir_1','dir_2','dir_3','dir_4','dir_5','dir_6']:\n",
    "    if len(df[i]) == len(df[i][df[i].isna()]):\n",
    "        print(\"Dropping \",i)\n",
    "        df = df.drop(i,axis=1)\n",
    "        dirs.remove(i)\n",
    "dirs"
   ]
  },
  {
   "cell_type": "code",
   "execution_count": 16,
   "id": "84716c5d",
   "metadata": {},
   "outputs": [],
   "source": [
    "df_na = df[df['dir_1'].isna()]\n",
    "df_ok = df[df['dir_1'].notna()]\n",
    "df_ok = df_ok.fillna(\"No (sub)dir\")"
   ]
  },
  {
   "cell_type": "markdown",
   "id": "d8b648eb",
   "metadata": {},
   "source": [
    "## Data formatting"
   ]
  },
  {
   "cell_type": "markdown",
   "id": "567a0312",
   "metadata": {},
   "source": [
    "### Group by directories"
   ]
  },
  {
   "cell_type": "code",
   "execution_count": 17,
   "id": "5f1da0c1",
   "metadata": {},
   "outputs": [],
   "source": [
    "dirs_year = dirs.copy()\n",
    "dirs_year.extend(['year'])"
   ]
  },
  {
   "cell_type": "code",
   "execution_count": 28,
   "id": "8ad823d7",
   "metadata": {
    "scrolled": true
   },
   "outputs": [],
   "source": [
    "df_out = pd.concat([df_ok[dirs_year].groupby(dirs).count(),df_na[dirs_year].fillna(\"NaN\").groupby(dirs).count()])\n",
    "df_out.to_csv(\"../raw_data/20220602_overview.csv\")"
   ]
  }
 ],
 "metadata": {
  "kernelspec": {
   "display_name": "Python 3 (ipykernel)",
   "language": "python",
   "name": "python3"
  },
  "language_info": {
   "codemirror_mode": {
    "name": "ipython",
    "version": 3
   },
   "file_extension": ".py",
   "mimetype": "text/x-python",
   "name": "python",
   "nbconvert_exporter": "python",
   "pygments_lexer": "ipython3",
   "version": "3.8.13"
  },
  "toc": {
   "base_numbering": 1,
   "nav_menu": {},
   "number_sections": true,
   "sideBar": true,
   "skip_h1_title": false,
   "title_cell": "Table of Contents",
   "title_sidebar": "Contents",
   "toc_cell": false,
   "toc_position": {},
   "toc_section_display": true,
   "toc_window_display": false
  }
 },
 "nbformat": 4,
 "nbformat_minor": 5
}
