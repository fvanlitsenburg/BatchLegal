{
 "cells": [
  {
   "cell_type": "code",
   "execution_count": null,
   "id": "963c5318",
   "metadata": {},
   "outputs": [],
   "source": [
    "!pip install requests --quiet\n",
    "!pip install beautifulsoup4 --quiet\n",
    "!pip install pandas --quiet\n",
    "!pip install datetime --quiet"
   ]
  },
  {
   "cell_type": "markdown",
   "id": "623bd688",
   "metadata": {},
   "source": [
    "**Imports**"
   ]
  },
  {
   "cell_type": "code",
   "execution_count": null,
   "id": "f9fe60b3",
   "metadata": {},
   "outputs": [],
   "source": [
    "import pandas as pd\n",
    "import numpy as np\n",
    "import requests\n",
    "from bs4 import BeautifulSoup"
   ]
  },
  {
   "cell_type": "markdown",
   "id": "034a3e08",
   "metadata": {},
   "source": [
    "**Functions**"
   ]
  },
  {
   "cell_type": "code",
   "execution_count": null,
   "id": "cad6b451",
   "metadata": {},
   "outputs": [],
   "source": [
    "def read_metadata(filename):\n",
    "    data = pd.read_csv(filename)\n",
    "    data['Keywords'] = data['EUROVOC descriptor'].str.lower() + \", \" + data['Subject matter'].str.lower() + \", \" + data['Directory code'].str.lower()\n",
    "    data['Content'] = None\n",
    "    return data\n",
    "\n",
    "def filter_data(data, searchwords = None):\n",
    "    if searchwords == None: # if no searchwords are given\n",
    "        print('no filtering done')\n",
    "        return data\n",
    "    elif type(searchwords) != list: # if search words are not in list format\n",
    "        return 'please pass searchwords in list format'\n",
    "    searchwords = list(map(lambda x: x.lower(), searchwords)) # convert searchwords to lowercase\n",
    "    data_filtered = data[data['Keywords'].apply(lambda x: any(item for item in searchwords if item in x))]\n",
    "    print(f\"filtered on {searchwords}\")\n",
    "    return data_filtered.reset_index().drop(columns = 'index')\n",
    "\n",
    "def get_url(cellar_ref, doctype=\"03\"):\n",
    "    psid = cellar_ref\n",
    "    psname = \"cellar\" # other options: cellar, celex, oj, com, genpub, ep, jurisprudence, dd, mtf, consolidation, eurostat, eesc, cor, nim, pegase, agent, uriserv, join, swd, comnat,mdr, legissum, ecli, procedure, procedure-event, eli, immc, planjo\n",
    "    lancode = \"0006\" # language code\n",
    "    doctype = doctype # default: 03\n",
    "    docnum = \"DOC_1\"\n",
    "    # for further information, see Documentation Page 37: https://op.europa.eu/en/publication-detail/-/publication/50ecce27-857e-11e8-ac6a-01aa75ed71a1/language-en/format-PDF/source-73059305\n",
    "    return f\"http://publications.europa.eu/resource/{psname}/{psid}.{lancode}.{doctype}/{docnum}\"\n",
    "\n",
    "def get_content(URL):\n",
    "    response = requests.get(URL, headers={\"Accept-Language\":\"en-US\"})\n",
    "    soup = BeautifulSoup(response.content, \"html.parser\")\n",
    "    if str(soup)[1:4] == \"PDF\":\n",
    "        '''\n",
    "        in some (few) cases, the doctype is not 03 but 02. change it for these cases\n",
    "        '''\n",
    "        URL = URL[:-8] + '02' + URL[-6:]\n",
    "        response = requests.get(URL, headers={\"Accept-Language\":\"en-US\"})\n",
    "        soup = BeautifulSoup(response.content, \"html.parser\")\n",
    "    else:\n",
    "        pass\n",
    "    content = ' '.join([item.text for item in soup.find_all(\"p\", class_=\"oj-normal\")])\n",
    "    return content.split('Whereas:', 1)[1] # only return text without the head\n",
    "\n",
    "def get_all_content(data):\n",
    "    cellar_references = data['Cellar reference']    \n",
    "    for index, ref in enumerate(cellar_references):\n",
    "        data.loc[index, 'Content'] = get_content(get_url(ref))\n",
    "    # omit unnecessary columns\n",
    "    return data[['Date of document', 'Title', 'Subtitle', 'CELEX number', 'EUROVOC descriptor', 'Subject matter', 'Directory code', 'Author', 'In force indicator', 'Content']]"
   ]
  },
  {
   "cell_type": "markdown",
   "id": "47faac59",
   "metadata": {},
   "source": [
    "**Workflow**"
   ]
  },
  {
   "cell_type": "code",
   "execution_count": null,
   "id": "baaac5f2",
   "metadata": {},
   "outputs": [],
   "source": [
    "#retrieve metadata\n",
    "filename = \"../raw_data/Search results 20220531.csv\"\n",
    "metadata = read_metadata(filename)\n",
    "\n",
    "#filter for keywords\n",
    "metadata_filtered = filter_data(metadata, ['medical'])\n",
    "\n",
    "#get content for filtered data\n",
    "data_with_content = get_all_content(metadata_filtered)\n",
    "data_with_content\n",
    "\n",
    "#export data to csv\n",
    "#data_with_content.to_csv(\"../raw_data/test_data_scraped.csv\")"
   ]
  },
  {
   "cell_type": "code",
   "execution_count": null,
   "id": "d0ccca08",
   "metadata": {},
   "outputs": [],
   "source": []
  },
  {
   "cell_type": "code",
   "execution_count": null,
   "id": "6760212b",
   "metadata": {},
   "outputs": [],
   "source": []
  },
  {
   "cell_type": "markdown",
   "id": "1534e615",
   "metadata": {},
   "source": [
    "**Test Area**"
   ]
  },
  {
   "cell_type": "code",
   "execution_count": null,
   "id": "2acdb61a",
   "metadata": {},
   "outputs": [],
   "source": [
    "metadata = read_metadata(filename)"
   ]
  },
  {
   "cell_type": "code",
   "execution_count": null,
   "id": "ff2c7107",
   "metadata": {},
   "outputs": [],
   "source": [
    "metadata_filtered = filter_data(metadata, ['a'])\n",
    "metadata_filtered"
   ]
  },
  {
   "cell_type": "code",
   "execution_count": null,
   "id": "a9309aa1",
   "metadata": {},
   "outputs": [],
   "source": []
  },
  {
   "cell_type": "code",
   "execution_count": null,
   "id": "eccb3144",
   "metadata": {},
   "outputs": [],
   "source": [
    "def filter_data(data, searchwords = None):\n",
    "    if searchwords == None: # if no searchwords are given\n",
    "        print('no filtering done')\n",
    "        return data\n",
    "    elif type(searchwords) != list: # if search words are not in list format\n",
    "        return 'please pass searchwords in list format'\n",
    "    searchwords = list(map(lambda x: x.lower(), searchwords)) # convert searchwords to lowercase\n",
    "    data_filtered = data[data['Keywords'].apply(lambda x: any(item for item in searchwords if item in x))]\n",
    "    print(f\"filtered on {searchwords}\")\n",
    "    return data_filtered.reset_index().drop(columns = 'index')"
   ]
  },
  {
   "cell_type": "code",
   "execution_count": null,
   "id": "ebb07ca2",
   "metadata": {},
   "outputs": [],
   "source": [
    "metadata['Date of document'][0]"
   ]
  },
  {
   "cell_type": "code",
   "execution_count": null,
   "id": "71842199",
   "metadata": {},
   "outputs": [],
   "source": []
  },
  {
   "cell_type": "code",
   "execution_count": null,
   "id": "18e88e57",
   "metadata": {},
   "outputs": [],
   "source": []
  }
 ],
 "metadata": {
  "kernelspec": {
   "display_name": "Python 3 (ipykernel)",
   "language": "python",
   "name": "python3"
  },
  "language_info": {
   "codemirror_mode": {
    "name": "ipython",
    "version": 3
   },
   "file_extension": ".py",
   "mimetype": "text/x-python",
   "name": "python",
   "nbconvert_exporter": "python",
   "pygments_lexer": "ipython3",
   "version": "3.8.12"
  },
  "toc": {
   "base_numbering": 1,
   "nav_menu": {},
   "number_sections": true,
   "sideBar": true,
   "skip_h1_title": false,
   "title_cell": "Table of Contents",
   "title_sidebar": "Contents",
   "toc_cell": false,
   "toc_position": {},
   "toc_section_display": true,
   "toc_window_display": false
  }
 },
 "nbformat": 4,
 "nbformat_minor": 5
}
