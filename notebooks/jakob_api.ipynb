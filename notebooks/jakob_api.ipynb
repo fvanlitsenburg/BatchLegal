{
 "cells": [
  {
   "cell_type": "code",
   "execution_count": null,
   "id": "d17db7c6",
   "metadata": {},
   "outputs": [],
   "source": [
    "!pip install requests --quiet\n",
    "!pip install beautifulsoup4 --quiet\n",
    "!pip install pandas --quiet"
   ]
  },
  {
   "cell_type": "code",
   "execution_count": 128,
   "id": "f9fe60b3",
   "metadata": {},
   "outputs": [],
   "source": [
    "import pandas as pd\n",
    "import requests\n",
    "from bs4 import BeautifulSoup"
   ]
  },
  {
   "cell_type": "code",
   "execution_count": 130,
   "id": "9896d62d",
   "metadata": {},
   "outputs": [],
   "source": [
    "def read_metadata(filename):\n",
    "    data = pd.read_csv(filename)\n",
    "    data['Content'] = None\n",
    "    return data\n",
    "\n",
    "def get_url(cellar_ref, doctype=\"03\"):\n",
    "    psid = cellar_ref\n",
    "    psname = \"cellar\" # other options: cellar, celex, oj, com, genpub, ep, jurisprudence, dd, mtf, consolidation, eurostat, eesc, cor, nim, pegase, agent, uriserv, join, swd, comnat,mdr, legissum, ecli, procedure, procedure-event, eli, immc, planjo\n",
    "    lancode = \"0006\" # language code\n",
    "    doctype = doctype # default: 03\n",
    "    docnum = \"DOC_1\"\n",
    "    # for further information, see Documentation Page 37: https://op.europa.eu/en/publication-detail/-/publication/50ecce27-857e-11e8-ac6a-01aa75ed71a1/language-en/format-PDF/source-73059305\n",
    "    return f\"http://publications.europa.eu/resource/{psname}/{psid}.{lancode}.{doctype}/{docnum}\"\n",
    "\n",
    "def get_content(URL):\n",
    "    response = requests.get(URL, headers={\"Accept-Language\":\"en-US\"})\n",
    "    soup = BeautifulSoup(response.content, \"html.parser\")\n",
    "    if str(soup)[1:4] == \"PDF\":\n",
    "        '''\n",
    "        in some (few) cases, the doctype is not 03 but 02. change it for these cases\n",
    "        '''\n",
    "        URL = URL[:-8] + '02' + URL[-6:]\n",
    "        response = requests.get(URL, headers={\"Accept-Language\":\"en-US\"})\n",
    "        soup = BeautifulSoup(response.content, \"html.parser\")\n",
    "    else:\n",
    "        pass\n",
    "    content = ' '.join([item.text for item in soup.find_all(\"p\", class_=\"oj-normal\")])\n",
    "    return content.split('Whereas:', 1)[1] # only return text without the head\n",
    "\n",
    "def append_content(filename):\n",
    "    data = read_metadata(filename)\n",
    "    cellar_references = data['Cellar reference']    \n",
    "    for index, ref in enumerate(cellar_references):\n",
    "        data.loc[index, 'Content'] = get_content(get_url(ref))\n",
    "    # omit unnecessary columns\n",
    "    return data[['Date of document', 'Title', 'Subtitle', 'CELEX number', 'EUROVOC descriptor', 'Subject matter', 'Directory code', 'Author', 'In force indicator', 'Content']]"
   ]
  },
  {
   "cell_type": "code",
   "execution_count": null,
   "id": "cdd18426",
   "metadata": {},
   "outputs": [],
   "source": [
    "filename = \"../raw_data/Search results 20220531.csv\""
   ]
  },
  {
   "cell_type": "code",
   "execution_count": 131,
   "id": "9157dc16",
   "metadata": {},
   "outputs": [
    {
     "name": "stderr",
     "output_type": "stream",
     "text": [
      "Some characters could not be decoded, and were replaced with REPLACEMENT CHARACTER.\n",
      "Some characters could not be decoded, and were replaced with REPLACEMENT CHARACTER.\n"
     ]
    }
   ],
   "source": [
    "data_with_content = append_content(filename)\n",
    "data_with_content.head(4)"
   ]
  },
  {
   "cell_type": "code",
   "execution_count": 133,
   "id": "535a8424",
   "metadata": {},
   "outputs": [],
   "source": [
    "data_with_content.to_csv(\"../raw_data/test_data_scraped.csv\")"
   ]
  },
  {
   "cell_type": "code",
   "execution_count": null,
   "id": "80c56834",
   "metadata": {},
   "outputs": [],
   "source": []
  },
  {
   "cell_type": "markdown",
   "id": "245a9b25",
   "metadata": {},
   "source": [
    "**Test Area**"
   ]
  },
  {
   "cell_type": "code",
   "execution_count": null,
   "id": "ddc793d2",
   "metadata": {},
   "outputs": [],
   "source": []
  },
  {
   "cell_type": "code",
   "execution_count": null,
   "id": "a5439f12",
   "metadata": {},
   "outputs": [],
   "source": []
  },
  {
   "cell_type": "code",
   "execution_count": null,
   "id": "74849ffb",
   "metadata": {},
   "outputs": [],
   "source": []
  },
  {
   "cell_type": "code",
   "execution_count": null,
   "id": "bd4bafb4",
   "metadata": {},
   "outputs": [],
   "source": []
  }
 ],
 "metadata": {
  "kernelspec": {
   "display_name": "Python 3 (ipykernel)",
   "language": "python",
   "name": "python3"
  },
  "language_info": {
   "codemirror_mode": {
    "name": "ipython",
    "version": 3
   },
   "file_extension": ".py",
   "mimetype": "text/x-python",
   "name": "python",
   "nbconvert_exporter": "python",
   "pygments_lexer": "ipython3",
   "version": "3.8.12"
  },
  "toc": {
   "base_numbering": 1,
   "nav_menu": {},
   "number_sections": true,
   "sideBar": true,
   "skip_h1_title": false,
   "title_cell": "Table of Contents",
   "title_sidebar": "Contents",
   "toc_cell": false,
   "toc_position": {},
   "toc_section_display": true,
   "toc_window_display": false
  }
 },
 "nbformat": 4,
 "nbformat_minor": 5
}
