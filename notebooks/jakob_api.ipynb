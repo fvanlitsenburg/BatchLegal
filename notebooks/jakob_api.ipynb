{
 "cells": [
  {
   "cell_type": "code",
   "execution_count": null,
   "id": "0105a5c7",
   "metadata": {},
   "outputs": [],
   "source": [
    "!pip install requests --quiet\n",
    "!pip install beautifulsoup4 --quiet\n",
    "!pip install pandas --quiet"
   ]
  },
  {
   "cell_type": "code",
   "execution_count": 1,
   "id": "f9fe60b3",
   "metadata": {},
   "outputs": [],
   "source": [
    "import pandas as pd\n",
    "import requests\n",
    "from bs4 import BeautifulSoup\n",
    "\n",
    "filename = \"../raw_data/Search results 20220531.csv\""
   ]
  },
  {
   "cell_type": "code",
   "execution_count": 2,
   "id": "49fedc00",
   "metadata": {},
   "outputs": [],
   "source": [
    "def read_metadata(filename):\n",
    "    data = pd.read_csv(filename)\n",
    "    data['content'] = None\n",
    "    return data\n",
    "\n",
    "def get_url_and_content(cellar_ref):\n",
    "    psid = cellar_ref\n",
    "    psname = \"cellar\" # other options: cellar, celex, oj, com, genpub, ep, jurisprudence, dd, mtf, consolidation, eurostat, eesc, cor, nim, pegase, agent, uriserv, join, swd, comnat,mdr, legissum, ecli, procedure, procedure-event, eli, immc, planjo\n",
    "    lancode = \"0006\" # language code\n",
    "    doctype = \"03\"\n",
    "    docnum = \"DOC_1\"\n",
    "    # for further information, see Documentation Page 37: https://op.europa.eu/en/publication-detail/-/publication/50ecce27-857e-11e8-ac6a-01aa75ed71a1/language-en/format-PDF/source-73059305\n",
    "    URL = f\"http://publications.europa.eu/resource/{psname}/{psid}.{lancode}.{doctype}/{docnum}\"\n",
    "\n",
    "    response = requests.get(URL, headers={\"Accept-Language\":\"en-US\"})\n",
    "    soup = BeautifulSoup(response.content, \"html.parser\")\n",
    "    if str(soup)[1:4] == \"PDF\":\n",
    "        '''\n",
    "        in some (few) cases, the doctype is not 03 but 02. change it for these cases\n",
    "        '''\n",
    "        doctype = \"02\"\n",
    "        URL = f\"http://publications.europa.eu/resource/{psname}/{psid}.{lancode}.{doctype}/{docnum}\"\n",
    "        response = requests.get(URL, headers={\"Accept-Language\":\"en-US\"})\n",
    "        soup = BeautifulSoup(response.content, \"html.parser\")\n",
    "    else:\n",
    "        pass\n",
    "    return ' '.join([item.text for item in soup.find_all(\"p\", class_=\"oj-normal\")])\n",
    "\n",
    "def append_content(filename):\n",
    "    data = read_metadata(filename)\n",
    "    cellar_references = data['Cellar reference']    \n",
    "    for index, ref in enumerate(cellar_references):\n",
    "        data['content'][index] = get_url_and_content(ref)\n",
    "    return data"
   ]
  },
  {
   "cell_type": "code",
   "execution_count": null,
   "id": "686451d7",
   "metadata": {},
   "outputs": [],
   "source": [
    "data_with_content = append_content(filename)\n",
    "data_with_content.to_csv(\"../raw_data/test_data_scraped.csv\")"
   ]
  },
  {
   "cell_type": "code",
   "execution_count": 5,
   "id": "ae23badf",
   "metadata": {},
   "outputs": [],
   "source": []
  },
  {
   "cell_type": "code",
   "execution_count": null,
   "id": "548c6506",
   "metadata": {},
   "outputs": [],
   "source": []
  },
  {
   "cell_type": "code",
   "execution_count": 22,
   "id": "2480b48e",
   "metadata": {},
   "outputs": [],
   "source": [
    "url_test= \"https://eur-lex.europa.eu/search.html?SUBDOM_INIT=LEGISLATION&DB_TYPE_OF_ACT=regulation&DTS_SUBDOM=LEGISLATION&typeOfActStatus=REGULATION&DTS_DOM=EU_LAW&lang=en&type=advanced&qid=1653991199373\""
   ]
  },
  {
   "cell_type": "code",
   "execution_count": 23,
   "id": "567b3a26",
   "metadata": {},
   "outputs": [],
   "source": [
    "response = requests.get(url_test)\n",
    "soup = BeautifulSoup(response.content, \"html.parser\")"
   ]
  },
  {
   "cell_type": "code",
   "execution_count": null,
   "id": "26ec578a",
   "metadata": {},
   "outputs": [],
   "source": []
  }
 ],
 "metadata": {
  "kernelspec": {
   "display_name": "Python 3 (ipykernel)",
   "language": "python",
   "name": "python3"
  },
  "language_info": {
   "codemirror_mode": {
    "name": "ipython",
    "version": 3
   },
   "file_extension": ".py",
   "mimetype": "text/x-python",
   "name": "python",
   "nbconvert_exporter": "python",
   "pygments_lexer": "ipython3",
   "version": "3.8.12"
  },
  "toc": {
   "base_numbering": 1,
   "nav_menu": {},
   "number_sections": true,
   "sideBar": true,
   "skip_h1_title": false,
   "title_cell": "Table of Contents",
   "title_sidebar": "Contents",
   "toc_cell": false,
   "toc_position": {},
   "toc_section_display": true,
   "toc_window_display": false
  }
 },
 "nbformat": 4,
 "nbformat_minor": 5
}
